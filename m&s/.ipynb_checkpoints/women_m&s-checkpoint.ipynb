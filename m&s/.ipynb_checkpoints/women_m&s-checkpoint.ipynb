{
 "cells": [
  {
   "cell_type": "code",
   "execution_count": null,
   "metadata": {},
   "outputs": [],
   "source": [
    "from bs4 import BeautifulSoup\n",
    "import requests\n",
    "import pandas as pd\n",
    "from pandas import Series, DataFrame\n",
    "from ipywidgets import FloatProgress\n",
    "from time import sleep\n",
    "from IPython.display import display\n",
    "import re\n",
    "import pickle\n",
    "from urlextract import URLExtract"
   ]
  },
  {
   "cell_type": "code",
   "execution_count": 2,
   "metadata": {},
   "outputs": [],
   "source": [
    "product_link=[]\n",
    "c = 0\n",
    "while (c < 580):\n",
    "\n",
    "    result=requests.get(f'https://www.marksandspencer.in/on/demandware.store/Sites-mnsindia-Site/en_IN/Search-UpdateGrid?cgid=IN_SubCategory_25097048&prefn1=isOnline&prefv1=online&start={c}&sz=48&selectedUrl=https%3A%2F%2Fwww.marksandspencer.in%2Fon%2Fdemandware.store%2FSites-mnsindia-Site%2Fen_IN%2FSearch-UpdateGrid%3Fcgid%3DIN_SubCategory_25097048%26prefn1%3DisOnline%26prefv1%3Donline%26start%3D48%26sz%3D48')\n",
    "    c=c+48\n",
    "    get= result.content\n",
    "    soup = BeautifulSoup(get,\"html.parser\")\n",
    "    attr=soup.find_all('a',{'class':'link pagechoice'})\n",
    "    for i in attr:\n",
    "        product_link.append(i.attrs['href'])"
   ]
  },
  {
   "cell_type": "code",
   "execution_count": 3,
   "metadata": {},
   "outputs": [
    {
     "data": {
      "text/plain": [
       "622"
      ]
     },
     "execution_count": 3,
     "metadata": {},
     "output_type": "execute_result"
    }
   ],
   "source": [
    "len(product_link)"
   ]
  },
  {
   "cell_type": "code",
   "execution_count": 4,
   "metadata": {},
   "outputs": [],
   "source": [
    "products=[]\n",
    "for i in product_link:\n",
    "    products.append('https://www.marksandspencer.in'+i)"
   ]
  },
  {
   "cell_type": "code",
   "execution_count": 5,
   "metadata": {},
   "outputs": [],
   "source": [
    "result = requests.get('https://www.marksandspencer.in/printed-frill-neck-long-sleeve-peplum-top/p/P60489067.html')\n",
    "c = result.content\n",
    "soup = BeautifulSoup(c,\"html.parser\")"
   ]
  },
  {
   "cell_type": "code",
   "execution_count": 6,
   "metadata": {},
   "outputs": [],
   "source": [
    "import json"
   ]
  },
  {
   "cell_type": "code",
   "execution_count": 7,
   "metadata": {},
   "outputs": [
    {
     "name": "stdout",
     "output_type": "stream",
     "text": [
      "{'@context': 'http://schema.org', '@type': 'Product', 'url': 'https://www.marksandspencer.in/printed-frill-neck-long-sleeve-peplum-top/p/P60489067.html', 'name': 'Printed Frill Neck Long Sleeve Peplum Top', 'image': 'https://asset1.cxnmarksandspencer.com/is/image/mands/SD_01_T41_3529R_Y8_X_EC_0', 'description': 'Add a romantic feel to your outfit with this pretty long-sleeved peplum top. Regular fit, with front button fastening. The sweet star print and frilled neck are complemented by a dainty ladder lace trim at the bodice, back and across the shoulders. M&amp;S Collection: easy-to-wear wardrobe staples that combine classic and contemporary styles.', 'sku': 'T41/3529R', 'brand': 'M&amp;S Collection IN', 'offers': {'@type': 'Offer', 'availability': 'http://schema.org/InStock', 'itemCondition': 'NewCondition', 'url': 'https://www.marksandspencer.in/printed-frill-neck-long-sleeve-peplum-top/p/P60489067.html', 'price': 2499, 'priceCurrency': 'INR'}}\n"
     ]
    }
   ],
   "source": [
    "element = soup.find_all(\"script\",type=\"application/ld+json\")[1]\n",
    "\n",
    "js = json.loads(element.string) # <- Calling `.string` to get the JSON\n",
    "print(js)"
   ]
  },
  {
   "cell_type": "code",
   "execution_count": 8,
   "metadata": {},
   "outputs": [
    {
     "data": {
      "text/plain": [
       "'https://www.marksandspencer.in/printed-frill-neck-long-sleeve-peplum-top/p/P60489067.html'"
      ]
     },
     "execution_count": 8,
     "metadata": {},
     "output_type": "execute_result"
    }
   ],
   "source": [
    "#js['brand']\n",
    "js['url']\n",
    "#js['offers']['availability']\n",
    "#\"₹\"+str(js['offers']['price'])\n",
    "#js['description']\n",
    "#js['name']\n",
    "#js['image']"
   ]
  },
  {
   "cell_type": "code",
   "execution_count": 9,
   "metadata": {},
   "outputs": [],
   "source": [
    "#soup.prettify()"
   ]
  },
  {
   "cell_type": "code",
   "execution_count": 10,
   "metadata": {},
   "outputs": [],
   "source": [
    "#list(soup.children)"
   ]
  },
  {
   "cell_type": "raw",
   "metadata": {},
   "source": [
    "s=soup.find('span',{'class':'strike-through list pricecolour'})\n",
    "if s==None:\n",
    "    MRP.append(\"Rs. \"+str(js['offers']['price']))\n",
    "    #MRP.append(\"Rs. \"+str(s.span.attrs['content'])\n",
    "else:\n",
    "    MRP.append(\"Rs. \"+str(s.span.attrs['content']))  "
   ]
  },
  {
   "cell_type": "code",
   "execution_count": 11,
   "metadata": {},
   "outputs": [],
   "source": [
    "size=soup.find('select',{'class':'custom-select form-control select-size'}).text.lstrip().rstrip().split(\"\\n\\n\\n\")[1:]"
   ]
  },
  {
   "cell_type": "code",
   "execution_count": 12,
   "metadata": {},
   "outputs": [
    {
     "data": {
      "text/plain": [
       "['6 Low in Stock',\n",
       " '8 Low in Stock',\n",
       " '10',\n",
       " '12',\n",
       " '14',\n",
       " '16',\n",
       " '18',\n",
       " '20',\n",
       " '22 Out of Stock',\n",
       " '24 Out of Stock']"
      ]
     },
     "execution_count": 12,
     "metadata": {},
     "output_type": "execute_result"
    }
   ],
   "source": [
    "size"
   ]
  },
  {
   "cell_type": "code",
   "execution_count": 17,
   "metadata": {},
   "outputs": [],
   "source": [
    "a=[]\n",
    "for i in size:\n",
    "    if(len(i.split())==1 or i.split()[1]!='Out'):\n",
    "        a.append(i.split()[0])"
   ]
  },
  {
   "cell_type": "code",
   "execution_count": 18,
   "metadata": {},
   "outputs": [
    {
     "data": {
      "text/plain": [
       "['6', '8', '10', '12', '14', '16', '18', '20']"
      ]
     },
     "execution_count": 18,
     "metadata": {},
     "output_type": "execute_result"
    }
   ],
   "source": [
    "a"
   ]
  },
  {
   "cell_type": "code",
   "execution_count": 19,
   "metadata": {},
   "outputs": [],
   "source": [
    "s=soup.find('div',{'class':'primary-images col-12 col-lg-6'})"
   ]
  },
  {
   "cell_type": "raw",
   "metadata": {},
   "source": [
    "for i in s.children:\n",
    "    print(i)"
   ]
  },
  {
   "cell_type": "raw",
   "metadata": {},
   "source": [
    "from urlextract import URLExtract\n",
    "\n",
    "extractor = URLExtract()\n",
    "urls = extractor.find_urls(element.attrs['data-product-images'])\n",
    "urls[2]"
   ]
  },
  {
   "cell_type": "code",
   "execution_count": 20,
   "metadata": {},
   "outputs": [],
   "source": [
    "Product_Link=[]\n",
    "Product_Name=[]\n",
    "Product_Brand=[]\n",
    "Size_Available=[]\n",
    "Price=[]\n",
    "MRP=[]\n",
    "#Gender\n",
    "Description=[]\n",
    "Primary_Image_Link=[]\n",
    "Secondary_Image_Link=[]"
   ]
  },
  {
   "cell_type": "code",
   "execution_count": 21,
   "metadata": {},
   "outputs": [],
   "source": [
    "for i in products:\n",
    "    try:\n",
    "        result = requests.get(i)\n",
    "        c = result.content\n",
    "        soup = BeautifulSoup(c,\"html.parser\")\n",
    "        element = soup.find_all(\"script\",type=\"application/ld+json\")[1]\n",
    "        js = json.loads(element.string)\n",
    "        size=soup.find('select',{'class':'custom-select form-control select-size'})\n",
    "        size=size.text.lstrip().rstrip().split(\"\\n\\n\\n\")[1:]\n",
    "    except:\n",
    "        pass\n",
    "    \n",
    "    else:\n",
    "        Product_Brand.append(js['brand'])\n",
    "        Product_Link.append(js['url'])\n",
    "        #js['offers']['availability']\n",
    "        Price.append(\"Rs. \"+str(js['offers']['price']))\n",
    "        Description.append(js['description'])\n",
    "        Product_Name.append(js['name'])\n",
    "        #Primary_Image_Link.append(js['image'])\n",
    "        extractor = URLExtract()\n",
    "        e=soup.find('div',{'id':'productImage'})\n",
    "        urls = extractor.find_urls(e.attrs['data-product-images'])\n",
    "        if(len(urls)<=2):\n",
    "            if(len(urls)==0):\n",
    "                Primary_Image_Link.append(\"Not available\")\n",
    "                Secondary_Image_Link.append(\"Not available\")\n",
    "            else:\n",
    "                Primary_Image_Link.append(urls[1])\n",
    "                Secondary_Image_Link.append(\"Not available\")\n",
    "                \n",
    "            \n",
    "        else:\n",
    "            Primary_Image_Link.append(urls[1])\n",
    "            Secondary_Image_Link.append(urls[2])\n",
    "        \n",
    "        \n",
    "        s=soup.find('span',{'class':'strike-through list pricecolour'})\n",
    "        if s==None:\n",
    "            MRP.append(\"Rs. \"+str(js['offers']['price']))\n",
    "            #MRP.append(\"Rs. \"+str(s.span.attrs['content'])\n",
    "        else:\n",
    "            MRP.append(\"Rs. \"+str(s.span.attrs['content']))  \n",
    "        s=''\n",
    "        for i in size:\n",
    "            if(len(i.split())==1 or i.split()[1]!='Out'):\n",
    "                s=s+i.split()[0]+\" , \"\n",
    "        Size_Available.append(s[:-2])"
   ]
  },
  {
   "cell_type": "code",
   "execution_count": 22,
   "metadata": {},
   "outputs": [],
   "source": [
    "data=pd.DataFrame({\n",
    "    \"Product\":Product_Name,\n",
    "    \"Link\":Product_Link,\n",
    "    \"Brand\":Product_Brand,\n",
    "    \"Size Available\":Size_Available,\n",
    "    \"Selling Price\":Price,\n",
    "    \"MRP\":MRP,\n",
    "    \"Gender\":\"Women\",\n",
    "    \"Description\":Description,\n",
    "    \"Primary_Image\":Primary_Image_Link,\n",
    "    \"Secondary_Image\":Secondary_Image_Link,\n",
    "    \n",
    "})"
   ]
  },
  {
   "cell_type": "code",
   "execution_count": 26,
   "metadata": {},
   "outputs": [
    {
     "data": {
      "text/plain": [
       "343"
      ]
     },
     "execution_count": 26,
     "metadata": {},
     "output_type": "execute_result"
    }
   ],
   "source": [
    "#len(Product_Link)"
   ]
  },
  {
   "cell_type": "code",
   "execution_count": 24,
   "metadata": {},
   "outputs": [],
   "source": [
    "#data.to_csv(\"women_m&s.csv\",index=False)"
   ]
  },
  {
   "cell_type": "code",
   "execution_count": 25,
   "metadata": {},
   "outputs": [
    {
     "data": {
      "text/plain": [
       "(343, 10)"
      ]
     },
     "execution_count": 25,
     "metadata": {},
     "output_type": "execute_result"
    }
   ],
   "source": [
    "#data.shape"
   ]
  },
  {
   "cell_type": "code",
   "execution_count": 27,
   "metadata": {},
   "outputs": [],
   "source": [
    "data=pd.read_csv('women_m&s.csv')"
   ]
  },
  {
   "cell_type": "code",
   "execution_count": 107,
   "metadata": {},
   "outputs": [],
   "source": [
    "s=data['Size Available']"
   ]
  },
  {
   "cell_type": "code",
   "execution_count": 109,
   "metadata": {},
   "outputs": [
    {
     "data": {
      "text/plain": [
       "['6', '8 Low in Stock', '10', '12', '14', '16', '18 ']"
      ]
     },
     "execution_count": 109,
     "metadata": {},
     "output_type": "execute_result"
    }
   ],
   "source": [
    "s[0].split(\" , \")"
   ]
  },
  {
   "cell_type": "code",
   "execution_count": 120,
   "metadata": {},
   "outputs": [],
   "source": [
    "a=[]\n",
    "for i in range(0,len(s)):\n",
    "     a.append((str(s[i]).split(' , ')))"
   ]
  },
  {
   "cell_type": "code",
   "execution_count": 121,
   "metadata": {},
   "outputs": [],
   "source": [
    "Size_Available=[]\n",
    "for i in a:\n",
    "    s=''\n",
    "    for j in i:\n",
    "        if(len(j.split())==1 or j.split()[1]!='Out'):\n",
    "            s=s+j.split()[0]+\" , \"\n",
    "    Size_Available.append(s[:-2])"
   ]
  },
  {
   "cell_type": "code",
   "execution_count": 123,
   "metadata": {},
   "outputs": [
    {
     "data": {
      "text/plain": [
       "623"
      ]
     },
     "execution_count": 123,
     "metadata": {},
     "output_type": "execute_result"
    }
   ],
   "source": [
    "len(Size_Available)"
   ]
  },
  {
   "cell_type": "code",
   "execution_count": 124,
   "metadata": {},
   "outputs": [],
   "source": [
    "data['Size Available']=Size_Available"
   ]
  },
  {
   "cell_type": "code",
   "execution_count": 126,
   "metadata": {},
   "outputs": [
    {
     "name": "stderr",
     "output_type": "stream",
     "text": [
      "C:\\Users\\alokt\\anaconda3\\lib\\site-packages\\pandas\\core\\generic.py:2605: UserWarning: The spaces in these column names will not be changed. In pandas versions < 0.14, spaces were converted to underscores.\n",
      "  sql.to_sql(\n"
     ]
    },
    {
     "data": {
      "text/plain": [
       "<function Connection.close>"
      ]
     },
     "execution_count": 126,
     "metadata": {},
     "output_type": "execute_result"
    }
   ],
   "source": [
    "import sqlite3\n",
    "#from pandas import DataFrame\n",
    "\n",
    "conn = sqlite3.connect('_all_women_m&s.db')\n",
    "c = conn.cursor()\n",
    "\n",
    "c.execute('CREATE TABLE products (Product,Link,Brand,Size Available,Selling Price,MRP,Gender,Description,Primary_Image,Secondary_Image)')\n",
    "conn.commit()\n",
    "\n",
    "data.to_sql('products', conn, if_exists='replace', index = False)\n",
    "conn.close"
   ]
  },
  {
   "cell_type": "code",
   "execution_count": null,
   "metadata": {},
   "outputs": [],
   "source": []
  }
 ],
 "metadata": {
  "kernelspec": {
   "display_name": "Python 3",
   "language": "python",
   "name": "python3"
  },
  "language_info": {
   "codemirror_mode": {
    "name": "ipython",
    "version": 3
   },
   "file_extension": ".py",
   "mimetype": "text/x-python",
   "name": "python",
   "nbconvert_exporter": "python",
   "pygments_lexer": "ipython3",
   "version": "3.8.5"
  }
 },
 "nbformat": 4,
 "nbformat_minor": 4
}
