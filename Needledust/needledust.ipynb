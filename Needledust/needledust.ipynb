{
 "cells": [
  {
   "cell_type": "code",
   "execution_count": 1,
   "metadata": {},
   "outputs": [],
   "source": [
    "from bs4 import BeautifulSoup\n",
    "import requests\n",
    "import pandas as pd\n",
    "from pandas import Series, DataFrame\n",
    "from ipywidgets import FloatProgress\n",
    "from time import sleep\n",
    "from IPython.display import display\n",
    "import re\n",
    "import pickle\n",
    "from urlextract import URLExtract\n",
    "import json\n",
    "import sqlite3\n",
    "import datetime\n",
    "from tqdm import tqdm"
   ]
  },
  {
   "cell_type": "code",
   "execution_count": 2,
   "metadata": {},
   "outputs": [],
   "source": [
    "headers = {'User-Agent' : 'Mozilla/5.0 (Macintosh; Intel Mac OS X 10_14_5) AppleWebKit/537.36 (KHTML, like Gecko) Chrome/84.0.4147.89 Safari/537.36'}"
   ]
  },
  {
   "cell_type": "code",
   "execution_count": 10,
   "metadata": {},
   "outputs": [],
   "source": [
    "result=requests.get('https://www.needledust.com/collections/juttis?page=2',headers=headers)\n",
    "get=result.content\n",
    "soup=BeautifulSoup(get,'lxml')"
   ]
  },
  {
   "cell_type": "code",
   "execution_count": 11,
   "metadata": {},
   "outputs": [],
   "source": [
    "prod=soup.find_all('div',{'class':'Grid__Cell 1/2--phone 1/3--tablet-and-up 1/4--lap-and-up'})"
   ]
  },
  {
   "cell_type": "code",
   "execution_count": 12,
   "metadata": {},
   "outputs": [
    {
     "data": {
      "text/plain": [
       "2"
      ]
     },
     "execution_count": 12,
     "metadata": {},
     "output_type": "execute_result"
    }
   ],
   "source": [
    "len(prod)"
   ]
  },
  {
   "cell_type": "code",
   "execution_count": 22,
   "metadata": {},
   "outputs": [
    {
     "data": {
      "text/plain": [
       "'/collections/juttis/products/frozen-wings-36'"
      ]
     },
     "execution_count": 22,
     "metadata": {},
     "output_type": "execute_result"
    }
   ],
   "source": [
    "prod[0].find('a').attrs['href']"
   ]
  },
  {
   "cell_type": "markdown",
   "metadata": {},
   "source": [
    "## Juttis"
   ]
  },
  {
   "cell_type": "code",
   "execution_count": 37,
   "metadata": {},
   "outputs": [
    {
     "name": "stderr",
     "output_type": "stream",
     "text": [
      "100%|██████████| 2/2 [00:01<00:00,  1.07it/s]\n"
     ]
    }
   ],
   "source": [
    "juttis_link=[]\n",
    "for i in tqdm(range(1,3)):\n",
    "    try:\n",
    "        result=requests.get(f'https://www.needledust.com/collections/juttis?page={i}',headers=headers)\n",
    "        get=result.content\n",
    "        soup=BeautifulSoup(get,'lxml')\n",
    "        prod=soup.find_all('div',{'class':'Grid__Cell 1/2--phone 1/3--tablet-and-up 1/4--lap-and-up'})\n",
    "        for j in prod:\n",
    "            juttis_link.append(\"https://www.needledust.com/\"+j.find('a').attrs['href'])\n",
    "    except:\n",
    "        pass     "
   ]
  },
  {
   "cell_type": "code",
   "execution_count": 38,
   "metadata": {},
   "outputs": [
    {
     "data": {
      "text/plain": [
       "50"
      ]
     },
     "execution_count": 38,
     "metadata": {},
     "output_type": "execute_result"
    }
   ],
   "source": [
    "len(juttis_link)"
   ]
  },
  {
   "cell_type": "code",
   "execution_count": 45,
   "metadata": {},
   "outputs": [
    {
     "data": {
      "text/plain": [
       "'https://www.needledust.com//collections/juttis/products/enchanted-forest'"
      ]
     },
     "execution_count": 45,
     "metadata": {},
     "output_type": "execute_result"
    }
   ],
   "source": [
    "juttis_link[0]"
   ]
  },
  {
   "cell_type": "code",
   "execution_count": 43,
   "metadata": {},
   "outputs": [],
   "source": [
    "result=requests.get(juttis_link[0],headers=headers)\n",
    "get=result.content\n",
    "soup=BeautifulSoup(get,'lxml')"
   ]
  },
  {
   "cell_type": "code",
   "execution_count": 47,
   "metadata": {},
   "outputs": [],
   "source": [
    "js=json.loads(soup.find('script',{'type':'application/ld+json'}).contents[0])"
   ]
  },
  {
   "cell_type": "code",
   "execution_count": 60,
   "metadata": {},
   "outputs": [
    {
     "data": {
      "text/plain": [
       "6"
      ]
     },
     "execution_count": 60,
     "metadata": {},
     "output_type": "execute_result"
    }
   ],
   "source": [
    "len(js['offers'])"
   ]
  },
  {
   "cell_type": "code",
   "execution_count": 52,
   "metadata": {},
   "outputs": [
    {
     "data": {
      "text/plain": [
       "dict_keys(['@context', '@type', 'offers', 'brand', 'name', 'description', 'category', 'url', 'sku', 'image'])"
      ]
     },
     "execution_count": 52,
     "metadata": {},
     "output_type": "execute_result"
    }
   ],
   "source": [
    "js.keys()"
   ]
  },
  {
   "cell_type": "code",
   "execution_count": 53,
   "metadata": {},
   "outputs": [
    {
     "data": {
      "text/plain": [
       "'Enchanted Forest'"
      ]
     },
     "execution_count": 53,
     "metadata": {},
     "output_type": "execute_result"
    }
   ],
   "source": [
    "js['name']"
   ]
  },
  {
   "cell_type": "code",
   "execution_count": 55,
   "metadata": {},
   "outputs": [
    {
     "data": {
      "text/plain": [
       "'Needledust'"
      ]
     },
     "execution_count": 55,
     "metadata": {},
     "output_type": "execute_result"
    }
   ],
   "source": [
    "js['brand']['name']"
   ]
  },
  {
   "cell_type": "code",
   "execution_count": 56,
   "metadata": {},
   "outputs": [
    {
     "data": {
      "text/plain": [
       "'Powder blue silk base, with a stunning print of an enchanted rainforest engulfing rare, exotic birds that live harmoniously among the most beautiful wild floral weeds. Species of macaws, magpie, cockatoo and more are amped with sparkles of pop sequins, glass beads and detailed threadwork, to bind together a story of your dreams.it!'"
      ]
     },
     "execution_count": 56,
     "metadata": {},
     "output_type": "execute_result"
    }
   ],
   "source": [
    "js['description']"
   ]
  },
  {
   "cell_type": "code",
   "execution_count": 63,
   "metadata": {},
   "outputs": [
    {
     "data": {
      "text/plain": [
       "'36'"
      ]
     },
     "execution_count": 63,
     "metadata": {},
     "output_type": "execute_result"
    }
   ],
   "source": [
    "js['offers'][0]['name']"
   ]
  },
  {
   "cell_type": "code",
   "execution_count": 66,
   "metadata": {},
   "outputs": [],
   "source": [
    "sizes=[]\n",
    "for i in js['offers']:\n",
    "    sizes.append(i['name'])"
   ]
  },
  {
   "cell_type": "code",
   "execution_count": 69,
   "metadata": {},
   "outputs": [
    {
     "data": {
      "text/plain": [
       "3290.0"
      ]
     },
     "execution_count": 69,
     "metadata": {},
     "output_type": "execute_result"
    }
   ],
   "source": [
    "js['offers'][0]['price']"
   ]
  },
  {
   "cell_type": "code",
   "execution_count": 70,
   "metadata": {},
   "outputs": [
    {
     "data": {
      "text/plain": [
       "{'@context': 'http://schema.org',\n",
       " '@type': 'Product',\n",
       " 'offers': [{'@type': 'Offer',\n",
       "   'name': '36',\n",
       "   'availability': 'https://schema.org/InStock',\n",
       "   'price': 3290.0,\n",
       "   'priceCurrency': 'INR',\n",
       "   'priceValidUntil': '2021-09-06',\n",
       "   'sku': '0319-36',\n",
       "   'url': '/products/enchanted-forest?variant=40648835104936'},\n",
       "  {'@type': 'Offer',\n",
       "   'name': '37',\n",
       "   'availability': 'https://schema.org/InStock',\n",
       "   'price': 3290.0,\n",
       "   'priceCurrency': 'INR',\n",
       "   'priceValidUntil': '2021-09-06',\n",
       "   'sku': '0319-37',\n",
       "   'url': '/products/enchanted-forest?variant=40648835137704'},\n",
       "  {'@type': 'Offer',\n",
       "   'name': '38',\n",
       "   'availability': 'https://schema.org/InStock',\n",
       "   'price': 3290.0,\n",
       "   'priceCurrency': 'INR',\n",
       "   'priceValidUntil': '2021-09-06',\n",
       "   'sku': '0319-38',\n",
       "   'url': '/products/enchanted-forest?variant=40648835170472'},\n",
       "  {'@type': 'Offer',\n",
       "   'name': '39',\n",
       "   'availability': 'https://schema.org/InStock',\n",
       "   'price': 3290.0,\n",
       "   'priceCurrency': 'INR',\n",
       "   'priceValidUntil': '2021-09-06',\n",
       "   'sku': '0319-39',\n",
       "   'url': '/products/enchanted-forest?variant=40648835203240'},\n",
       "  {'@type': 'Offer',\n",
       "   'name': '40',\n",
       "   'availability': 'https://schema.org/InStock',\n",
       "   'price': 3290.0,\n",
       "   'priceCurrency': 'INR',\n",
       "   'priceValidUntil': '2021-09-06',\n",
       "   'sku': '0319-40',\n",
       "   'url': '/products/enchanted-forest?variant=40648835236008'},\n",
       "  {'@type': 'Offer',\n",
       "   'name': '41',\n",
       "   'availability': 'https://schema.org/InStock',\n",
       "   'price': 3290.0,\n",
       "   'priceCurrency': 'INR',\n",
       "   'priceValidUntil': '2021-09-06',\n",
       "   'sku': '0319-41',\n",
       "   'url': '/products/enchanted-forest?variant=40648835268776'}],\n",
       " 'brand': {'name': 'Needledust'},\n",
       " 'name': 'Enchanted Forest',\n",
       " 'description': 'Powder blue silk base, with a stunning print of an enchanted rainforest engulfing rare, exotic birds that live harmoniously among the most beautiful wild floral weeds. Species of macaws, magpie, cockatoo and more are amped with sparkles of pop sequins, glass beads and detailed threadwork, to bind together a story of your dreams.it!',\n",
       " 'category': 'AJIO',\n",
       " 'url': '/products/enchanted-forest',\n",
       " 'sku': '0319-36',\n",
       " 'image': {'@type': 'ImageObject',\n",
       "  'url': 'https://cdn.shopify.com/s/files/1/0467/1573/2136/products/EnchantedForest_1_1024x.jpg?v=1628331759',\n",
       "  'image': 'https://cdn.shopify.com/s/files/1/0467/1573/2136/products/EnchantedForest_1_1024x.jpg?v=1628331759',\n",
       "  'name': 'Enchanted Forest',\n",
       "  'width': '1024',\n",
       "  'height': '1024'}}"
      ]
     },
     "execution_count": 70,
     "metadata": {},
     "output_type": "execute_result"
    }
   ],
   "source": [
    "js"
   ]
  },
  {
   "cell_type": "code",
   "execution_count": null,
   "metadata": {},
   "outputs": [],
   "source": [
    "err=[]\n",
    "for i in tqdm(juttis_link):\n",
    "    try:\n",
    "        result=requests.get(i,headers=headers)\n",
    "        get=result.content\n",
    "        soup=BeautifulSoup(get,'lxml')\n",
    "        js=json.loads(soup.find('script',{'type':'application/ld+json'}).contents[0])\n",
    "        product_name=js['name']\n",
    "        product_brand=js['brand']['name']\n",
    "        product_link=i\n",
    "        product_cat='jutti'\n",
    "        product_des=js['description']\n",
    "        product_price=int(float(js['offers'][0]['price']))  \n",
    "        product_mrp=int(float(js['offers'][0]['price']))\n",
    "        p=soup.find('div',{'class':'product-section'}).attrs['id'].split('-')[1]\n",
    "        images=soup.find_all('div',{'class':f\"product__thumb product__thumb-{p} js-no-transition\"})\n",
    "        img=[]\n",
    "        for k in images:\n",
    "            img.append(k.find('img').attrs['data-src'].split('{width}')[0]+'1024x1024.jpg')\n",
    "        primary_link=img[0]\n",
    "        secondary_link=','.join(img[1:])\n",
    "        sizes=[]\n",
    "        for i in js['offers']:\n",
    "            sizes.append(i['name'])\n",
    "        size_avl=','.join(sizes)\n",
    "    \n",
    "    except:\n",
    "        err.append(i)\n",
    "        pass\n",
    "        \n",
    "    else:\n",
    "        Product_Link.append(product_link)\n",
    "        Product_Brand.append(product_brand)\n",
    "        Product_Name.append(product_name)\n",
    "        Description.append(product_des)\n",
    "        Gender.append('Women')\n",
    "        Cat_list.append(product_cat)\n",
    "        MRP.append(product_mrp)\n",
    "        Price.append(product_price)\n",
    "        Primary_Image_Link.append(primary_link)\n",
    "        Secondary_Image_Link.append(secondary_link)\n",
    "        Size_Available.append(size_avl)\n",
    "    "
   ]
  },
  {
   "cell_type": "markdown",
   "metadata": {},
   "source": [
    "## Mules"
   ]
  },
  {
   "cell_type": "code",
   "execution_count": 39,
   "metadata": {},
   "outputs": [
    {
     "name": "stderr",
     "output_type": "stream",
     "text": [
      "100%|██████████| 1/1 [00:00<00:00,  1.26it/s]\n"
     ]
    }
   ],
   "source": [
    "mules_link=[]\n",
    "for i in tqdm(range(1,2)):\n",
    "    try:\n",
    "        result=requests.get(f'https://www.needledust.com/collections/mules?page={i}',headers=headers)\n",
    "        get=result.content\n",
    "        soup=BeautifulSoup(get,'lxml')\n",
    "        prod=soup.find_all('div',{'class':'Grid__Cell 1/2--phone 1/3--tablet-and-up 1/4--lap-and-up'})\n",
    "        for j in prod:\n",
    "            mules_link.append(\"https://www.needledust.com/\"+j.find('a').attrs['href'])\n",
    "    except:\n",
    "        pass     "
   ]
  },
  {
   "cell_type": "code",
   "execution_count": 40,
   "metadata": {},
   "outputs": [
    {
     "data": {
      "text/plain": [
       "17"
      ]
     },
     "execution_count": 40,
     "metadata": {},
     "output_type": "execute_result"
    }
   ],
   "source": [
    "len(mules_link)"
   ]
  },
  {
   "cell_type": "markdown",
   "metadata": {},
   "source": [
    "## Sandals"
   ]
  },
  {
   "cell_type": "code",
   "execution_count": 41,
   "metadata": {},
   "outputs": [
    {
     "name": "stderr",
     "output_type": "stream",
     "text": [
      "100%|██████████| 1/1 [00:00<00:00,  1.02it/s]\n"
     ]
    }
   ],
   "source": [
    "sandals_link=[]\n",
    "for i in tqdm(range(1,2)):\n",
    "    try:\n",
    "        result=requests.get(f'https://www.needledust.com/collections/sandals?page={i}',headers=headers)\n",
    "        get=result.content\n",
    "        soup=BeautifulSoup(get,'lxml')\n",
    "        prod=soup.find_all('div',{'class':'Grid__Cell 1/2--phone 1/3--tablet-and-up 1/4--lap-and-up'})\n",
    "        for j in prod:\n",
    "            sandals_link.append(\"https://www.needledust.com/\"+j.find('a').attrs['href'])\n",
    "    except:\n",
    "        pass     "
   ]
  },
  {
   "cell_type": "code",
   "execution_count": null,
   "metadata": {},
   "outputs": [],
   "source": []
  }
 ],
 "metadata": {
  "kernelspec": {
   "display_name": "Python 3",
   "language": "python",
   "name": "python3"
  },
  "language_info": {
   "codemirror_mode": {
    "name": "ipython",
    "version": 3
   },
   "file_extension": ".py",
   "mimetype": "text/x-python",
   "name": "python",
   "nbconvert_exporter": "python",
   "pygments_lexer": "ipython3",
   "version": "3.8.5"
  }
 },
 "nbformat": 4,
 "nbformat_minor": 4
}
