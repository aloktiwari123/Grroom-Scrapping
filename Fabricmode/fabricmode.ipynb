{
 "cells": [
  {
   "cell_type": "code",
   "execution_count": 1,
   "id": "502e36da-2a6c-4824-ba65-12a9e63a8107",
   "metadata": {},
   "outputs": [],
   "source": [
    "from bs4 import BeautifulSoup\n",
    "import requests\n",
    "import pandas as pd\n",
    "from pandas import Series, DataFrame\n",
    "from ipywidgets import FloatProgress\n",
    "from time import sleep\n",
    "from IPython.display import display\n",
    "import re\n",
    "import pickle\n",
    "#from urlextract import URLExtract\n",
    "import json\n",
    "import sqlite3\n",
    "import datetime\n",
    "from tqdm import tqdm"
   ]
  },
  {
   "cell_type": "code",
   "execution_count": 2,
   "id": "9cff745c-772e-4a65-b97e-34198a108d00",
   "metadata": {},
   "outputs": [],
   "source": [
    "headers = {'User-Agent' : 'Mozilla/5.0 (Macintosh; Intel Mac OS X 10_14_5) AppleWebKit/537.36 (KHTML, like Gecko) Chrome/84.0.4147.89 Safari/537.36'}"
   ]
  },
  {
   "cell_type": "code",
   "execution_count": 3,
   "id": "914551ca-fdc7-41bd-9ae9-c67b7bdcf7f1",
   "metadata": {},
   "outputs": [],
   "source": [
    "#https://fabricmode.com/product-category/salwar-suits-material/page/2/\n",
    "result=requests.get(\"https://fabricmode.com/product-category/salwar-suits-material/page/2/\",headers=headers)\n",
    "get=result.content\n",
    "soup=BeautifulSoup(get,'lxml')"
   ]
  },
  {
   "cell_type": "code",
   "execution_count": 11,
   "id": "14923424-873e-41fc-b78c-5761f7f87f98",
   "metadata": {},
   "outputs": [
    {
     "data": {
      "text/plain": [
       "'https://fabricmode.com/product/black-cotton-embroidered-unstitched-salwar-suit-material-skd1195/'"
      ]
     },
     "execution_count": 11,
     "metadata": {},
     "output_type": "execute_result"
    }
   ],
   "source": [
    "soup.find_all(\"div\",{'class':'product-grid-item'})[0].a.attrs['href']"
   ]
  },
  {
   "cell_type": "code",
   "execution_count": 14,
   "id": "8d9cc4b7-1889-45a5-a34d-498b4a845b05",
   "metadata": {},
   "outputs": [],
   "source": [
    "links=[\n",
    "    ['https://fabricmode.com/product-category/salwar-suits-material/page/',9,'salwar-suits'],\n",
    "    ['https://fabricmode.com/product-category/dresses/',0,'dresses'],\n",
    "    ['https://fabricmode.com/product-category/tunic/',0,'tunic']\n",
    "]"
   ]
  },
  {
   "cell_type": "code",
   "execution_count": 18,
   "id": "c3fd0055-2a38-49d6-a5c0-c0e46896371d",
   "metadata": {},
   "outputs": [
    {
     "name": "stderr",
     "output_type": "stream",
     "text": [
      "100%|██████████| 3/3 [00:24<00:00,  8.15s/it]\n"
     ]
    }
   ],
   "source": [
    "prod_links=[]\n",
    "for i in tqdm(links):\n",
    "    if(i[1]!=0):\n",
    "        for j in range(1,i[1]):\n",
    "            result=requests.get(i[0]+str(j)+\"/\",headers=headers)\n",
    "            get=result.content\n",
    "            soup=BeautifulSoup(get,'lxml')\n",
    "            prod=soup.find_all(\"div\",{'class':'product-grid-item'})\n",
    "            for k in prod:\n",
    "                temp=[]\n",
    "                temp.append(k.a.attrs['href'])\n",
    "                temp.append(i[2])\n",
    "                prod_links.append(temp)\n",
    "    else:\n",
    "            result=requests.get(i[0],headers=headers)\n",
    "            get=result.content\n",
    "            soup=BeautifulSoup(get,'lxml')\n",
    "            prod=soup.find_all(\"div\",{'class':'product-grid-item'})\n",
    "            for k in prod:\n",
    "                temp=[]\n",
    "                temp.append(k.a.attrs['href'])\n",
    "                temp.append(i[2])\n",
    "                prod_links.append(temp)\n",
    "        "
   ]
  },
  {
   "cell_type": "code",
   "execution_count": 19,
   "id": "e023d819-be7a-47db-a12a-b649b801be9e",
   "metadata": {},
   "outputs": [
    {
     "data": {
      "text/plain": [
       "111"
      ]
     },
     "execution_count": 19,
     "metadata": {},
     "output_type": "execute_result"
    }
   ],
   "source": [
    "len(prod_links)"
   ]
  },
  {
   "cell_type": "code",
   "execution_count": 73,
   "id": "a90a5118-d118-42a2-b5c7-69c3332708df",
   "metadata": {},
   "outputs": [],
   "source": [
    "result=requests.get(prod_links[0][0],headers=headers)\n",
    "get=result.content\n",
    "soup=BeautifulSoup(get,'lxml')"
   ]
  },
  {
   "cell_type": "code",
   "execution_count": 74,
   "id": "e16d1253-0abd-4e39-bdc3-d919c3003c18",
   "metadata": {},
   "outputs": [
    {
     "data": {
      "text/plain": [
       "'https://fabricmode.com/product/beige-banarasi-jacquard-unstitched-dress-material-skd1008/'"
      ]
     },
     "execution_count": 74,
     "metadata": {},
     "output_type": "execute_result"
    }
   ],
   "source": [
    "prod_links[0][0]"
   ]
  },
  {
   "cell_type": "code",
   "execution_count": 75,
   "id": "c9a38b67-b242-4e07-97e4-c2c7eb33b4e6",
   "metadata": {},
   "outputs": [
    {
     "data": {
      "text/plain": [
       "'Beige Banarasi Jacquard Unstitched Dress Material'"
      ]
     },
     "execution_count": 75,
     "metadata": {},
     "output_type": "execute_result"
    }
   ],
   "source": [
    "soup.find('h1',{'class':'product_title entry-title'}).text"
   ]
  },
  {
   "cell_type": "code",
   "execution_count": 76,
   "id": "9bfcbbe4-3b2b-42db-9066-d40b9e51bb6e",
   "metadata": {},
   "outputs": [
    {
     "data": {
      "text/plain": [
       "['₹1,049.00', '₹650.00']"
      ]
     },
     "execution_count": 76,
     "metadata": {},
     "output_type": "execute_result"
    }
   ],
   "source": [
    "soup.find('p',{'class':'price'}).text.split()"
   ]
  },
  {
   "cell_type": "code",
   "execution_count": 77,
   "id": "c49f2d27-ed93-4d2d-8079-b7b6d4c623a6",
   "metadata": {},
   "outputs": [
    {
     "data": {
      "text/plain": [
       "'In stock'"
      ]
     },
     "execution_count": 77,
     "metadata": {},
     "output_type": "execute_result"
    }
   ],
   "source": [
    "soup.find(\"p\",{'class':'stock in-stock'}).text"
   ]
  },
  {
   "cell_type": "code",
   "execution_count": 78,
   "id": "936285d6-e226-460f-997c-bb8fb98f7c75",
   "metadata": {},
   "outputs": [
    {
     "name": "stdout",
     "output_type": "stream",
     "text": [
      "1\n"
     ]
    }
   ],
   "source": [
    "if(soup.find(\"p\",{'class':'stock in-stock'}).text == 'In stock'):\n",
    "    print(1)"
   ]
  },
  {
   "cell_type": "code",
   "execution_count": 79,
   "id": "1043084c-6a71-4ea9-ab27-e335c548a2ea",
   "metadata": {},
   "outputs": [],
   "source": [
    "des=soup.find('div',{'class':'woocommerce-Tabs-panel woocommerce-Tabs-panel--description panel entry-content wc-tab'}).find_all('td')"
   ]
  },
  {
   "cell_type": "code",
   "execution_count": 80,
   "id": "c0bc1828-b10f-4f0a-9ce6-1cf2fae78534",
   "metadata": {},
   "outputs": [],
   "source": [
    "content=\"\"\n",
    "for i in des:\n",
    "    content=content+i.text.strip()"
   ]
  },
  {
   "cell_type": "code",
   "execution_count": 81,
   "id": "9b86ae1a-9123-459f-8962-0c223ebbaf72",
   "metadata": {},
   "outputs": [
    {
     "data": {
      "text/plain": [
       "'https://fabricmode.com/wp-content/uploads/2020/11/SKD1008-min-scaled-600x800.jpg'"
      ]
     },
     "execution_count": 81,
     "metadata": {},
     "output_type": "execute_result"
    }
   ],
   "source": [
    "soup.find('div',{'class':'product-image-wrap'}).figure.attrs['data-thumb']"
   ]
  },
  {
   "cell_type": "code",
   "execution_count": 67,
   "id": "9f707e9b-b40e-4e32-816a-f117fb751a67",
   "metadata": {},
   "outputs": [],
   "source": [
    "result=requests.get(\"https://fabricmode.com/product/maroon-rayon-embroidered-short-top-tunic-tncmdheer7401/\",headers=headers)\n",
    "get=result.content\n",
    "soup=BeautifulSoup(get,'lxml')"
   ]
  },
  {
   "cell_type": "code",
   "execution_count": 68,
   "id": "80681b25-7c1c-4b5e-b66c-c6b1d868a9ac",
   "metadata": {},
   "outputs": [],
   "source": [
    "size=soup.find('table',{'class':'variations'}).find_all('option')[1:]"
   ]
  },
  {
   "cell_type": "code",
   "execution_count": 69,
   "id": "b8d1bf81-29c6-4f1e-af89-a5424641b4e8",
   "metadata": {},
   "outputs": [
    {
     "data": {
      "text/plain": [
       "[<option value=\"medium\">M-38</option>,\n",
       " <option value=\"large\">L-40</option>,\n",
       " <option value=\"x-large\">XL-42</option>,\n",
       " <option value=\"xx-large\">XXL-44</option>]"
      ]
     },
     "execution_count": 69,
     "metadata": {},
     "output_type": "execute_result"
    }
   ],
   "source": [
    "size"
   ]
  },
  {
   "cell_type": "code",
   "execution_count": 70,
   "id": "7f1f2a89-718f-4067-9160-9bd6d79286b0",
   "metadata": {},
   "outputs": [],
   "source": [
    "sizes=[]"
   ]
  },
  {
   "cell_type": "code",
   "execution_count": 71,
   "id": "51b82a5c-e4b5-44b8-8976-61200d6f7faa",
   "metadata": {},
   "outputs": [],
   "source": [
    "for i in size:\n",
    "    sizes.append(i.text)"
   ]
  },
  {
   "cell_type": "code",
   "execution_count": 72,
   "id": "931988c2-c41b-4458-9038-49556e919535",
   "metadata": {},
   "outputs": [
    {
     "data": {
      "text/plain": [
       "['M-38', 'L-40', 'XL-42', 'XXL-44']"
      ]
     },
     "execution_count": 72,
     "metadata": {},
     "output_type": "execute_result"
    }
   ],
   "source": [
    "sizes"
   ]
  },
  {
   "cell_type": "code",
   "execution_count": null,
   "id": "ebbebd24-99d7-41e7-a919-13fcb8d41ef2",
   "metadata": {},
   "outputs": [],
   "source": []
  }
 ],
 "metadata": {
  "kernelspec": {
   "display_name": "Python 3",
   "language": "python",
   "name": "python3"
  },
  "language_info": {
   "codemirror_mode": {
    "name": "ipython",
    "version": 3
   },
   "file_extension": ".py",
   "mimetype": "text/x-python",
   "name": "python",
   "nbconvert_exporter": "python",
   "pygments_lexer": "ipython3",
   "version": "3.8.8"
  }
 },
 "nbformat": 4,
 "nbformat_minor": 5
}
