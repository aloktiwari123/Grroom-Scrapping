{
 "cells": [
  {
   "cell_type": "code",
   "execution_count": 2,
   "metadata": {},
   "outputs": [],
   "source": [
    "from bs4 import BeautifulSoup\n",
    "import requests\n",
    "import pandas as pd\n",
    "from pandas import Series, DataFrame\n",
    "from ipywidgets import FloatProgress\n",
    "from time import sleep\n",
    "from IPython.display import display\n",
    "import re\n",
    "import pickle\n",
    "#from urlextract import URLExtract\n",
    "import json\n",
    "import sqlite3\n",
    "import datetime\n",
    "from tqdm import tqdm"
   ]
  },
  {
   "cell_type": "code",
   "execution_count": 2,
   "metadata": {},
   "outputs": [],
   "source": [
    "headers = {'User-Agent' : 'Mozilla/5.0 (Macintosh; Intel Mac OS X 10_14_5) AppleWebKit/537.36 (KHTML, like Gecko) Chrome/84.0.4147.89 Safari/537.36'}"
   ]
  },
  {
   "cell_type": "code",
   "execution_count": 3,
   "metadata": {},
   "outputs": [],
   "source": [
    "Product_Link=[]\n",
    "Product_Name=[]\n",
    "Product_Brand=[]\n",
    "Size_Available=[]\n",
    "Price=[]\n",
    "MRP=[]\n",
    "Gender=[]\n",
    "Description=[]\n",
    "Cat_list=[]\n",
    "Primary_Image_Link=[]\n",
    "Secondary_Image_Link=[]"
   ]
  },
  {
   "cell_type": "markdown",
   "metadata": {},
   "source": [
    "## Sarees"
   ]
  },
  {
   "cell_type": "code",
   "execution_count": 4,
   "metadata": {},
   "outputs": [
    {
     "name": "stderr",
     "output_type": "stream",
     "text": [
      "100%|██████████| 31/31 [00:40<00:00,  1.32s/it]\n"
     ]
    }
   ],
   "source": [
    "links=[]\n",
    "for i in tqdm(range(1,32)):\n",
    "    try:\n",
    "        result=requests.get(f\"https://www.aditri.co.in/product-category/handloom-sarees-online/page/{i}/\",headers=headers)\n",
    "        get=result.content\n",
    "        soup=BeautifulSoup(get,'lxml')\n",
    "        prod=soup.find_all('h3')\n",
    "        for i in prod:\n",
    "            try:\n",
    "                links.append(i.find('a').attrs['href'])\n",
    "            except:\n",
    "                pass\n",
    "    except:\n",
    "        pass"
   ]
  },
  {
   "cell_type": "code",
   "execution_count": 5,
   "metadata": {},
   "outputs": [
    {
     "data": {
      "text/plain": [
       "361"
      ]
     },
     "execution_count": 5,
     "metadata": {},
     "output_type": "execute_result"
    }
   ],
   "source": [
    "len(links)"
   ]
  },
  {
   "cell_type": "code",
   "execution_count": 6,
   "metadata": {},
   "outputs": [
    {
     "name": "stderr",
     "output_type": "stream",
     "text": [
      "100%|██████████| 361/361 [07:20<00:00,  1.22s/it]\n"
     ]
    }
   ],
   "source": [
    "err=[]\n",
    "for i in tqdm(links):\n",
    "    try:\n",
    "        result = requests.get(i,headers=headers)\n",
    "        get = result.content\n",
    "        soup = BeautifulSoup(get,\"lxml\")\n",
    "        \n",
    "        if(soup.find('p',{'class':'stock in-stock'})):\n",
    "            product_name=soup.find('h2',{'class':'product_title entry-title'}).text\n",
    "            product_brand=\"aditri\"\n",
    "            product_link=i\n",
    "            product_cat='Sarees'\n",
    "            product_des=soup.find('div',{'class':'woo-short-description'}).text.lstrip().rstrip()\n",
    "            prod=soup.find('div',{'class':'entry-summary-sticky'}).find_all('span',{'class':'woocommerce-Price-amount amount'})\n",
    "            if(len(prod)==1):\n",
    "                product_price=int(float(''.join(prod[0].text.split(\"₹\")[1].split(','))))\n",
    "                product_mrp=product_price\n",
    "            else:\n",
    "                product_price=int(float(''.join(prod[1].text.split(\"₹\")[1].split(','))))\n",
    "                product_mrp=int(float(''.join(prod[0].text.split(\"₹\")[1].split(','))))\n",
    "                \n",
    "\n",
    "            li=soup.find_all('a',{'class':'photoswipe'})\n",
    "            images=[]\n",
    "            for i in li:\n",
    "                images.append(i.attrs['href'])\n",
    "            size_avl=\"One-Size\"\n",
    "            primary_link=images[0]\n",
    "            secondary_link=','.join(images[1:])\n",
    "        \n",
    "        else:\n",
    "            continue\n",
    "    \n",
    "    except:\n",
    "        err.append(i)\n",
    "        pass\n",
    "    \n",
    "    else:\n",
    "        Product_Link.append(product_link)\n",
    "        Product_Brand.append(product_brand)\n",
    "        Product_Name.append(product_name)\n",
    "        Description.append(product_des)\n",
    "        Gender.append('Women')\n",
    "        Cat_list.append(product_cat)\n",
    "        MRP.append(product_mrp)\n",
    "        Price.append(product_price)\n",
    "        Primary_Image_Link.append(primary_link)\n",
    "        Secondary_Image_Link.append(secondary_link)\n",
    "        Size_Available.append(size_avl)\n"
   ]
  },
  {
   "cell_type": "code",
   "execution_count": 9,
   "metadata": {},
   "outputs": [
    {
     "data": {
      "text/plain": [
       "97"
      ]
     },
     "execution_count": 9,
     "metadata": {},
     "output_type": "execute_result"
    }
   ],
   "source": [
    "len(Product_Link)"
   ]
  },
  {
   "cell_type": "markdown",
   "metadata": {},
   "source": [
    "## Jewellery"
   ]
  },
  {
   "cell_type": "code",
   "execution_count": 10,
   "metadata": {},
   "outputs": [
    {
     "name": "stderr",
     "output_type": "stream",
     "text": [
      "100%|██████████| 13/13 [00:18<00:00,  1.44s/it]\n"
     ]
    }
   ],
   "source": [
    "jewellery_links=[]\n",
    "for i in tqdm(range(1,14)):\n",
    "    try:\n",
    "        result=requests.get(f\"https://www.aditri.co.in/product-category/jewellery/page/{i}/\",headers=headers)\n",
    "        get=result.content\n",
    "        soup=BeautifulSoup(get,'lxml')\n",
    "        prod=soup.find_all('h3')\n",
    "        for i in prod:\n",
    "            try:\n",
    "                jewellery_links.append(i.find('a').attrs['href'])\n",
    "            except:\n",
    "                pass\n",
    "    except:\n",
    "        pass"
   ]
  },
  {
   "cell_type": "code",
   "execution_count": 11,
   "metadata": {},
   "outputs": [
    {
     "data": {
      "text/plain": [
       "146"
      ]
     },
     "execution_count": 11,
     "metadata": {},
     "output_type": "execute_result"
    }
   ],
   "source": [
    "len(jewellery_links)"
   ]
  },
  {
   "cell_type": "code",
   "execution_count": 12,
   "metadata": {},
   "outputs": [
    {
     "name": "stderr",
     "output_type": "stream",
     "text": [
      "100%|██████████| 146/146 [03:21<00:00,  1.38s/it]\n"
     ]
    }
   ],
   "source": [
    "err=[]\n",
    "for i in tqdm(jewellery_links):\n",
    "    try:\n",
    "        result = requests.get(i,headers=headers)\n",
    "        get = result.content\n",
    "        soup = BeautifulSoup(get,\"lxml\")\n",
    "        \n",
    "        if(soup.find('p',{'class':'stock in-stock'})):\n",
    "            product_name=soup.find('h2',{'class':'product_title entry-title'}).text\n",
    "            product_brand=\"aditri\"\n",
    "            product_link=i\n",
    "            product_cat=soup.find('span',{'class':'posted_in'}).text.split(':')[1].lstrip().rstrip()\n",
    "            product_des=soup.find('div',{'class':'woo-short-description'}).text.lstrip().rstrip()\n",
    "            prod=soup.find('div',{'class':'entry-summary-sticky'}).find_all('span',{'class':'woocommerce-Price-amount amount'})\n",
    "            if(len(prod)==1):\n",
    "                product_price=int(float(''.join(prod[0].text.split(\"₹\")[1].split(','))))\n",
    "                product_mrp=product_price\n",
    "            else:\n",
    "                product_price=int(float(''.join(prod[1].text.split(\"₹\")[1].split(','))))\n",
    "                product_mrp=int(float(''.join(prod[0].text.split(\"₹\")[1].split(','))))\n",
    "                \n",
    "\n",
    "            li=soup.find_all('a',{'class':'photoswipe'})\n",
    "            images=[]\n",
    "            for i in li:\n",
    "                images.append(i.attrs['href'])\n",
    "            size_avl=\"One-Size\"\n",
    "            primary_link=images[0]\n",
    "            secondary_link=','.join(images[1:])\n",
    "        \n",
    "        else:\n",
    "            continue\n",
    "    \n",
    "    except:\n",
    "        err.append(i)\n",
    "        pass\n",
    "    \n",
    "    else:\n",
    "        Product_Link.append(product_link)\n",
    "        Product_Brand.append(product_brand)\n",
    "        Product_Name.append(product_name)\n",
    "        Description.append(product_des)\n",
    "        Gender.append('Women')\n",
    "        Cat_list.append(product_cat)\n",
    "        MRP.append(product_mrp)\n",
    "        Price.append(product_price)\n",
    "        Primary_Image_Link.append(primary_link)\n",
    "        Secondary_Image_Link.append(secondary_link)\n",
    "        Size_Available.append(size_avl)\n"
   ]
  },
  {
   "cell_type": "code",
   "execution_count": 13,
   "metadata": {},
   "outputs": [
    {
     "data": {
      "text/plain": [
       "186"
      ]
     },
     "execution_count": 13,
     "metadata": {},
     "output_type": "execute_result"
    }
   ],
   "source": [
    "len(Product_Link)"
   ]
  },
  {
   "cell_type": "markdown",
   "metadata": {},
   "source": [
    "## Dupattas"
   ]
  },
  {
   "cell_type": "code",
   "execution_count": 14,
   "metadata": {},
   "outputs": [
    {
     "name": "stderr",
     "output_type": "stream",
     "text": [
      "100%|██████████| 3/3 [00:06<00:00,  2.17s/it]\n"
     ]
    }
   ],
   "source": [
    "dupattas_links=[]\n",
    "for i in tqdm(range(1,4)):\n",
    "    try:\n",
    "        result=requests.get(f\"https://www.aditri.co.in/product-category/dupattas/page/{i}/\",headers=headers)\n",
    "        get=result.content\n",
    "        soup=BeautifulSoup(get,'lxml')\n",
    "        prod=soup.find_all('h3')\n",
    "        for i in prod:\n",
    "            try:\n",
    "                dupattas_links.append(i.find('a').attrs['href'])\n",
    "            except:\n",
    "                pass\n",
    "    except:\n",
    "        pass"
   ]
  },
  {
   "cell_type": "code",
   "execution_count": 15,
   "metadata": {},
   "outputs": [
    {
     "data": {
      "text/plain": [
       "36"
      ]
     },
     "execution_count": 15,
     "metadata": {},
     "output_type": "execute_result"
    }
   ],
   "source": [
    "len(dupattas_links)"
   ]
  },
  {
   "cell_type": "code",
   "execution_count": 16,
   "metadata": {},
   "outputs": [
    {
     "name": "stderr",
     "output_type": "stream",
     "text": [
      "100%|██████████| 36/36 [00:52<00:00,  1.45s/it]\n"
     ]
    }
   ],
   "source": [
    "err=[]\n",
    "for i in tqdm(dupattas_links):\n",
    "    try:\n",
    "        result = requests.get(i,headers=headers)\n",
    "        get = result.content\n",
    "        soup = BeautifulSoup(get,\"lxml\")\n",
    "        \n",
    "        if(soup.find('p',{'class':'stock in-stock'})):\n",
    "            product_name=soup.find('h2',{'class':'product_title entry-title'}).text\n",
    "            product_brand=\"aditri\"\n",
    "            product_link=i\n",
    "            product_cat=\"Dupattas\"\n",
    "            product_des=soup.find('div',{'class':'woo-short-description'}).text.lstrip().rstrip()\n",
    "            prod=soup.find('div',{'class':'entry-summary-sticky'}).find_all('span',{'class':'woocommerce-Price-amount amount'})\n",
    "            if(len(prod)==1):\n",
    "                product_price=int(float(''.join(prod[0].text.split(\"₹\")[1].split(','))))\n",
    "                product_mrp=product_price\n",
    "            else:\n",
    "                product_price=int(float(''.join(prod[1].text.split(\"₹\")[1].split(','))))\n",
    "                product_mrp=int(float(''.join(prod[0].text.split(\"₹\")[1].split(','))))\n",
    "                \n",
    "            li=soup.find_all('a',{'class':'photoswipe'})\n",
    "            images=[]\n",
    "            for i in li:\n",
    "                images.append(i.attrs['href'])\n",
    "            size_avl=\"One-Size\"\n",
    "            primary_link=images[0]\n",
    "            secondary_link=','.join(images[1:])\n",
    "        \n",
    "        else:\n",
    "            continue\n",
    "    \n",
    "    except:\n",
    "        err.append(i)\n",
    "        pass\n",
    "    \n",
    "    else:\n",
    "        Product_Link.append(product_link)\n",
    "        Product_Brand.append(product_brand)\n",
    "        Product_Name.append(product_name)\n",
    "        Description.append(product_des)\n",
    "        Gender.append('Women')\n",
    "        Cat_list.append(product_cat)\n",
    "        MRP.append(product_mrp)\n",
    "        Price.append(product_price)\n",
    "        Primary_Image_Link.append(primary_link)\n",
    "        Secondary_Image_Link.append(secondary_link)\n",
    "        Size_Available.append(size_avl)\n"
   ]
  },
  {
   "cell_type": "code",
   "execution_count": 17,
   "metadata": {},
   "outputs": [
    {
     "data": {
      "text/plain": [
       "200"
      ]
     },
     "execution_count": 17,
     "metadata": {},
     "output_type": "execute_result"
    }
   ],
   "source": [
    "len(Product_Link)"
   ]
  },
  {
   "cell_type": "code",
   "execution_count": 18,
   "metadata": {},
   "outputs": [],
   "source": [
    "con=sqlite3.connect(\"aditri.db\")  \n",
    "cur=con.cursor()\n",
    "cur.execute('CREATE TABLE product_details (Website varchar(40) not null,Product_Link text PRIMARY KEY,Product_Name varchar(50) not null,Product_Brand varchar(50) not null,Product_Category varchar(50),Size_Avail varchar(20) not null,Price int not null,MRP int not null,Gender varchar(15) not null,Description text not null,Primary_Image_Links text not null,Secondary_Image_Links text not null,Affiliate_Link text not null )')\n",
    "for i in range(len(Product_Link)):\n",
    "    try:\n",
    "        cur.execute('insert into product_details  values(%r,%r,%r,%r,%r,%r,%d,%d,%r,%r,%r,%r,%r)'%('https://www.aditri.co.in/',Product_Link[i],Product_Name[i],Product_Brand[i],Cat_list[i],Size_Available[i],Price[i],MRP[i],Gender[i],Description[i],Primary_Image_Link[i],Secondary_Image_Link[i],''))\n",
    "    except:\n",
    "        pass\n",
    "con.commit()\n",
    "con.close()"
   ]
  },
  {
   "cell_type": "code",
   "execution_count": null,
   "metadata": {},
   "outputs": [],
   "source": []
  }
 ],
 "metadata": {
  "kernelspec": {
   "display_name": "Python 3",
   "language": "python",
   "name": "python3"
  },
  "language_info": {
   "codemirror_mode": {
    "name": "ipython",
    "version": 3
   },
   "file_extension": ".py",
   "mimetype": "text/x-python",
   "name": "python",
   "nbconvert_exporter": "python",
   "pygments_lexer": "ipython3",
   "version": "3.8.8"
  }
 },
 "nbformat": 4,
 "nbformat_minor": 4
}
