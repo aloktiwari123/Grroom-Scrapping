{
 "cells": [
  {
   "cell_type": "code",
   "execution_count": 93,
   "metadata": {},
   "outputs": [],
   "source": [
    "from bs4 import BeautifulSoup\n",
    "import requests\n",
    "import pandas as pd\n",
    "from pandas import Series, DataFrame\n",
    "from ipywidgets import FloatProgress\n",
    "from time import sleep\n",
    "from IPython.display import display\n",
    "import re\n",
    "import pickle\n",
    "from urlextract import URLExtract\n",
    "import json\n",
    "import sqlite3\n",
    "import datetime\n",
    "from tqdm import tqdm"
   ]
  },
  {
   "cell_type": "code",
   "execution_count": 94,
   "metadata": {},
   "outputs": [],
   "source": [
    "headers = {'User-Agent' : 'Mozilla/5.0 (Macintosh; Intel Mac OS X 10_14_5) AppleWebKit/537.36 (KHTML, like Gecko) Chrome/84.0.4147.89 Safari/537.36'}"
   ]
  },
  {
   "cell_type": "code",
   "execution_count": 95,
   "metadata": {},
   "outputs": [],
   "source": [
    "Product_Link=[]\n",
    "Product_Name=[]\n",
    "Product_Brand=[]\n",
    "Size_Available=[]\n",
    "Price=[]\n",
    "MRP=[]\n",
    "Gender=[]\n",
    "Description=[]\n",
    "Cat_list=[]\n",
    "Primary_Image_Link=[]\n",
    "Secondary_Image_Link=[]"
   ]
  },
  {
   "cell_type": "markdown",
   "metadata": {},
   "source": [
    "## Kurta-sets"
   ]
  },
  {
   "cell_type": "code",
   "execution_count": 96,
   "metadata": {},
   "outputs": [
    {
     "name": "stderr",
     "output_type": "stream",
     "text": [
      "100%|██████████| 10/10 [00:27<00:00,  2.79s/it]\n"
     ]
    }
   ],
   "source": [
    "kurta_links=[]\n",
    "for i in tqdm(range(1,11)):\n",
    "    try:\n",
    "        result=requests.get(f\"https://fashor.com/collections/kurta-sets?page={i}\",headers=headers)\n",
    "        get=result.content\n",
    "        soup=BeautifulSoup(get,'lxml')\n",
    "        prod=soup.find_all('div',{'class':'product-wrap'})\n",
    "        for j in prod:\n",
    "            try:\n",
    "                kurta_links.append(\"https://fashor.com\"+j.find('a').attrs['href'])\n",
    "            except:\n",
    "                pass\n",
    "    except:\n",
    "        pass"
   ]
  },
  {
   "cell_type": "code",
   "execution_count": 97,
   "metadata": {},
   "outputs": [
    {
     "name": "stderr",
     "output_type": "stream",
     "text": [
      "100%|██████████| 438/438 [17:09<00:00,  2.35s/it]\n"
     ]
    }
   ],
   "source": [
    "err=[]\n",
    "for i in tqdm(kurta_links):\n",
    "    try:\n",
    "        result = requests.get(i,headers=headers)\n",
    "        get = result.content\n",
    "        soup = BeautifulSoup(get,\"lxml\")\n",
    "        if(soup.find('span',{'class':'sold_out'}).text!='Sold Out'):\n",
    "            product_name=soup.find('h1',{'class':'product_name'}).text\n",
    "            product_brand=\"Fashor\"\n",
    "            product_link=i\n",
    "            product_cat='Kurta-Sets'\n",
    "            product_des=soup.find('div',{'class':'description'}).text.lstrip().rstrip()\n",
    "\n",
    "            product_price=int(float(''.join(soup.find('span',{'class':'sale'}).text.lstrip().rstrip().split('₹')[1].lstrip().rstrip().split(','))))\n",
    "            product_mrp=int(float(''.join(soup.find('span',{'class':'was_price'}).text.lstrip().rstrip().split('₹')[1].lstrip().rstrip().split(','))))\n",
    "            img=soup.find_all('img',{'id':'productThumbImg'})\n",
    "            images=[]\n",
    "            for i in img:\n",
    "                images.append(i.attrs['src'])\n",
    "            primary_link=images[0]\n",
    "            secondary_link=','.join(images[1:])\n",
    "            size=soup.find('div',{'class':'swatch_options'})\n",
    "            size=size.find_all('label')\n",
    "            sizes=[]\n",
    "            for i in size:\n",
    "                sizes.append(i.text.lstrip().rstrip())\n",
    "            size_avl=','.join(sizes)\n",
    "        else:\n",
    "            continue\n",
    "\n",
    "    \n",
    "    except:\n",
    "        err.append(i)\n",
    "        pass\n",
    "    \n",
    "    else:\n",
    "        Product_Link.append(product_link)\n",
    "        Product_Brand.append(product_brand)\n",
    "        Product_Name.append(product_name)\n",
    "        Description.append(product_des)\n",
    "        Gender.append('Women')\n",
    "        Cat_list.append(product_cat)\n",
    "        MRP.append(product_mrp)\n",
    "        Price.append(product_price)\n",
    "        Primary_Image_Link.append(primary_link)\n",
    "        Secondary_Image_Link.append(secondary_link)\n",
    "        Size_Available.append(size_avl)\n"
   ]
  },
  {
   "cell_type": "markdown",
   "metadata": {},
   "source": [
    "## Indo-western"
   ]
  },
  {
   "cell_type": "code",
   "execution_count": 98,
   "metadata": {},
   "outputs": [
    {
     "name": "stderr",
     "output_type": "stream",
     "text": [
      "100%|██████████| 6/6 [00:15<00:00,  2.62s/it]\n"
     ]
    }
   ],
   "source": [
    "indo_wes_links=[]\n",
    "for i in tqdm(range(1,7)):\n",
    "    try:\n",
    "        result=requests.get(f\"https://fashor.com/collections/indo-western?page={i}\",headers=headers)\n",
    "        get=result.content\n",
    "        soup=BeautifulSoup(get,'lxml')\n",
    "        prod=soup.find_all('div',{'class':'product-wrap'})\n",
    "        for j in prod:\n",
    "            try:\n",
    "                indo_wes_links.append(\"https://fashor.com\"+j.find('a').attrs['href'])\n",
    "            except:\n",
    "                pass\n",
    "    except:\n",
    "        pass"
   ]
  },
  {
   "cell_type": "code",
   "execution_count": 99,
   "metadata": {},
   "outputs": [
    {
     "data": {
      "text/plain": [
       "284"
      ]
     },
     "execution_count": 99,
     "metadata": {},
     "output_type": "execute_result"
    }
   ],
   "source": [
    "len(indo_wes_links)"
   ]
  },
  {
   "cell_type": "code",
   "execution_count": 100,
   "metadata": {},
   "outputs": [
    {
     "data": {
      "text/plain": [
       "284"
      ]
     },
     "execution_count": 100,
     "metadata": {},
     "output_type": "execute_result"
    }
   ],
   "source": [
    "len(set(indo_wes_links))"
   ]
  },
  {
   "cell_type": "code",
   "execution_count": 101,
   "metadata": {},
   "outputs": [
    {
     "name": "stderr",
     "output_type": "stream",
     "text": [
      "100%|██████████| 284/284 [10:35<00:00,  2.24s/it]\n"
     ]
    }
   ],
   "source": [
    "err=[]\n",
    "for i in tqdm(indo_wes_links):\n",
    "    try:\n",
    "        result = requests.get(i,headers=headers)\n",
    "        get = result.content\n",
    "        soup = BeautifulSoup(get,\"lxml\")\n",
    "        if(soup.find('span',{'class':'sold_out'}).text!='Sold Out'):\n",
    "            product_name=soup.find('h1',{'class':'product_name'}).text\n",
    "            product_brand=\"Fashor\"\n",
    "            product_link=i\n",
    "            product_cat='Indo-western'\n",
    "            product_des=soup.find('div',{'class':'description'}).text.lstrip().rstrip()\n",
    "\n",
    "            product_price=int(float(''.join(soup.find('span',{'class':'sale'}).text.lstrip().rstrip().split('₹')[1].lstrip().rstrip().split(','))))\n",
    "            product_mrp=int(float(''.join(soup.find('span',{'class':'was_price'}).text.lstrip().rstrip().split('₹')[1].lstrip().rstrip().split(','))))\n",
    "            img=soup.find_all('img',{'id':'productThumbImg'})\n",
    "            images=[]\n",
    "            for i in img:\n",
    "                images.append(i.attrs['src'])\n",
    "            primary_link=images[0]\n",
    "            secondary_link=','.join(images[1:])\n",
    "            size=soup.find('div',{'class':'swatch_options'})\n",
    "            size=size.find_all('label')\n",
    "            sizes=[]\n",
    "            for i in size:\n",
    "                sizes.append(i.text.lstrip().rstrip())\n",
    "            size_avl=','.join(sizes)\n",
    "        else:\n",
    "            continue\n",
    "\n",
    "    \n",
    "    except:\n",
    "        err.append(i)\n",
    "        pass\n",
    "    \n",
    "    else:\n",
    "        Product_Link.append(product_link)\n",
    "        Product_Brand.append(product_brand)\n",
    "        Product_Name.append(product_name)\n",
    "        Description.append(product_des)\n",
    "        Gender.append('Women')\n",
    "        Cat_list.append(product_cat)\n",
    "        MRP.append(product_mrp)\n",
    "        Price.append(product_price)\n",
    "        Primary_Image_Link.append(primary_link)\n",
    "        Secondary_Image_Link.append(secondary_link)\n",
    "        Size_Available.append(size_avl)\n"
   ]
  },
  {
   "cell_type": "markdown",
   "metadata": {},
   "source": [
    "## bottomwear"
   ]
  },
  {
   "cell_type": "code",
   "execution_count": 102,
   "metadata": {},
   "outputs": [
    {
     "name": "stderr",
     "output_type": "stream",
     "text": [
      "100%|██████████| 1/1 [00:02<00:00,  2.20s/it]\n"
     ]
    }
   ],
   "source": [
    "bottomwear_links=[]\n",
    "for i in tqdm(range(1,2)):\n",
    "    try:\n",
    "        result=requests.get(f\"https://fashor.com/collections/bottomwear?page={i}\",headers=headers)\n",
    "        get=result.content\n",
    "        soup=BeautifulSoup(get,'lxml')\n",
    "        prod=soup.find_all('div',{'class':'product-wrap'})\n",
    "        for j in prod:\n",
    "            try:\n",
    "                bottomwear_links.append(\"https://fashor.com\"+j.find('a').attrs['href'])\n",
    "            except:\n",
    "                pass\n",
    "    except:\n",
    "        pass"
   ]
  },
  {
   "cell_type": "code",
   "execution_count": 103,
   "metadata": {},
   "outputs": [
    {
     "data": {
      "text/plain": [
       "45"
      ]
     },
     "execution_count": 103,
     "metadata": {},
     "output_type": "execute_result"
    }
   ],
   "source": [
    "len(bottomwear_links)"
   ]
  },
  {
   "cell_type": "code",
   "execution_count": 106,
   "metadata": {},
   "outputs": [
    {
     "name": "stderr",
     "output_type": "stream",
     "text": [
      "100%|██████████| 45/45 [01:30<00:00,  2.01s/it]\n"
     ]
    }
   ],
   "source": [
    "err=[]\n",
    "for i in tqdm(bottomwear_links):\n",
    "    try:\n",
    "        result = requests.get(i,headers=headers)\n",
    "        get = result.content\n",
    "        soup = BeautifulSoup(get,\"lxml\")\n",
    "        if(soup.find('span',{'class':'sold_out'}).text!='Sold Out'):\n",
    "            product_name=soup.find('h1',{'class':'product_name'}).text\n",
    "            product_brand=\"Fashor\"\n",
    "            product_link=i\n",
    "            product_cat='Bottomwear'\n",
    "            product_des=soup.find('div',{'class':'description'}).text.lstrip().rstrip()\n",
    "\n",
    "            product_price=int(float(''.join(soup.find('span',{'class':'sale'}).text.lstrip().rstrip().split('₹')[1].lstrip().rstrip().split(','))))\n",
    "            product_mrp=int(float(''.join(soup.find('span',{'class':'was_price'}).text.lstrip().rstrip().split('₹')[1].lstrip().rstrip().split(','))))\n",
    "            img=soup.find_all('img',{'id':'productThumbImg'})\n",
    "            images=[]\n",
    "            for i in img:\n",
    "                images.append(i.attrs['src'])\n",
    "            primary_link=images[0]\n",
    "            secondary_link=','.join(images[1:])\n",
    "            size=soup.find('div',{'class':'swatch_options'})\n",
    "            size=size.find_all('label')\n",
    "            sizes=[]\n",
    "            for i in size:\n",
    "                sizes.append(i.text.lstrip().rstrip())\n",
    "            size_avl=','.join(sizes)\n",
    "        else:\n",
    "            continue\n",
    "\n",
    "    \n",
    "    except:\n",
    "        err.append(i)\n",
    "        pass\n",
    "    \n",
    "    else:\n",
    "        Product_Link.append(product_link)\n",
    "        Product_Brand.append(product_brand)\n",
    "        Product_Name.append(product_name)\n",
    "        Description.append(product_des)\n",
    "        Gender.append('Women')\n",
    "        Cat_list.append(product_cat)\n",
    "        MRP.append(product_mrp)\n",
    "        Price.append(product_price)\n",
    "        Primary_Image_Link.append(primary_link)\n",
    "        Secondary_Image_Link.append(secondary_link)\n",
    "        Size_Available.append(size_avl)\n"
   ]
  },
  {
   "cell_type": "code",
   "execution_count": 107,
   "metadata": {},
   "outputs": [],
   "source": [
    "con=sqlite3.connect(\"fashor.db\")  \n",
    "cur=con.cursor()\n",
    "cur.execute('CREATE TABLE product_details (Website varchar(40) not null,Product_Link text PRIMARY KEY,Product_Name varchar(50) not null,Product_Brand varchar(50) not null,Product_Category varchar(50),Size_Avail varchar(20) not null,Price int not null,MRP int not null,Gender varchar(15) not null,Description text not null,Primary_Image_Links text not null,Secondary_Image_Links text not null,Affiliate_Link text not null )')\n",
    "for i in range(len(Product_Link)):\n",
    "    try:\n",
    "        cur.execute('insert into product_details  values(%r,%r,%r,%r,%r,%r,%d,%d,%r,%r,%r,%r,%r)'%('https://fashor.com/',Product_Link[i],Product_Name[i],Product_Brand[i],Cat_list[i],Size_Available[i],Price[i],MRP[i],Gender[i],Description[i],Primary_Image_Link[i],Secondary_Image_Link[i],''))\n",
    "    except:\n",
    "        pass\n",
    "con.commit()\n",
    "con.close()"
   ]
  },
  {
   "cell_type": "code",
   "execution_count": null,
   "metadata": {},
   "outputs": [],
   "source": []
  }
 ],
 "metadata": {
  "kernelspec": {
   "display_name": "Python 3",
   "language": "python",
   "name": "python3"
  },
  "language_info": {
   "codemirror_mode": {
    "name": "ipython",
    "version": 3
   },
   "file_extension": ".py",
   "mimetype": "text/x-python",
   "name": "python",
   "nbconvert_exporter": "python",
   "pygments_lexer": "ipython3",
   "version": "3.8.5"
  }
 },
 "nbformat": 4,
 "nbformat_minor": 4
}
