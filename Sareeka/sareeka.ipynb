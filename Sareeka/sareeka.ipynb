{
 "cells": [
  {
   "cell_type": "code",
   "execution_count": 1,
   "metadata": {},
   "outputs": [],
   "source": [
    "from bs4 import BeautifulSoup\n",
    "import requests\n",
    "import pandas as pd\n",
    "from pandas import Series, DataFrame\n",
    "from ipywidgets import FloatProgress\n",
    "from time import sleep\n",
    "from IPython.display import display\n",
    "import re\n",
    "import pickle\n",
    "from urlextract import URLExtract\n",
    "import json\n",
    "import sqlite3\n",
    "import datetime\n",
    "from tqdm import tqdm"
   ]
  },
  {
   "cell_type": "code",
   "execution_count": 2,
   "metadata": {},
   "outputs": [],
   "source": [
    "headers = {'User-Agent' : 'Mozilla/5.0 (Macintosh; Intel Mac OS X 10_14_5) AppleWebKit/537.36 (KHTML, like Gecko) Chrome/84.0.4147.89 Safari/537.36'}"
   ]
  },
  {
   "cell_type": "code",
   "execution_count": 3,
   "metadata": {},
   "outputs": [],
   "source": [
    "Product_Link=[]\n",
    "Product_Name=[]\n",
    "Product_Brand=[]\n",
    "Size_Available=[]\n",
    "Price=[]\n",
    "MRP=[]\n",
    "Gender=[]\n",
    "Description=[]\n",
    "Cat_list=[]\n",
    "Primary_Image_Link=[]\n",
    "Secondary_Image_Link=[]"
   ]
  },
  {
   "cell_type": "markdown",
   "metadata": {},
   "source": [
    "# Women"
   ]
  },
  {
   "cell_type": "markdown",
   "metadata": {},
   "source": [
    "## sarees"
   ]
  },
  {
   "cell_type": "code",
   "execution_count": 4,
   "metadata": {},
   "outputs": [
    {
     "name": "stderr",
     "output_type": "stream",
     "text": [
      "100%|██████████| 327/327 [19:25<00:00,  3.57s/it]\n"
     ]
    }
   ],
   "source": [
    "sarees_links=[]\n",
    "for i in tqdm(range(1,328)):\n",
    "    try:\n",
    "        result=requests.get(f\"https://www.sareeka.com/saree?page={i}\",headers=headers)\n",
    "        get=result.content\n",
    "        soup=BeautifulSoup(get,'lxml')\n",
    "        prod=soup.find_all('div',{'class':'item_thumb'})\n",
    "        for j in prod:\n",
    "            try:\n",
    "                sarees_links.append(j.find('div',{'class':'image'}).find('a').attrs['href'])\n",
    "            except:\n",
    "                pass\n",
    "    except:\n",
    "        pass"
   ]
  },
  {
   "cell_type": "code",
   "execution_count": 5,
   "metadata": {},
   "outputs": [
    {
     "data": {
      "text/plain": [
       "10117"
      ]
     },
     "execution_count": 5,
     "metadata": {},
     "output_type": "execute_result"
    }
   ],
   "source": [
    "len(sarees_links)"
   ]
  },
  {
   "cell_type": "code",
   "execution_count": 6,
   "metadata": {},
   "outputs": [
    {
     "name": "stderr",
     "output_type": "stream",
     "text": [
      "100%|██████████| 10117/10117 [3:09:53<00:00,  1.13s/it]  \n"
     ]
    }
   ],
   "source": [
    "err=[]\n",
    "for i in tqdm(sarees_links):\n",
    "    try:\n",
    "        result = requests.get(i,headers=headers)\n",
    "        get = result.content\n",
    "        soup = BeautifulSoup(get,\"lxml\")\n",
    "\n",
    "        product_name=soup.find('div',{'class':'product_info_title'}).text\n",
    "        product_brand=\"Sareeka\"\n",
    "        product_link=i\n",
    "        product_cat='Sarees'\n",
    "        product_des=soup.find('div',{'class':'product_description'}).text.lstrip().rstrip()\n",
    "        product_price=int(''.join(soup.find('div',{'class':'price span'}).text.lstrip().rstrip().split('Rs')[1].lstrip().rstrip().split(',')))\n",
    "        product_mrp=int(''.join(soup.find('div',{'class':'price span'}).text.lstrip().rstrip().split('Rs')[2].lstrip().rstrip().split(',')))\n",
    "        try:\n",
    "            img=soup.find('div',{'class':'image-additional'}).find_all('a')\n",
    "            images=[]\n",
    "            for i in img:\n",
    "                images.append(i.attrs['data-image'])\n",
    "            primary_link=images[0]\n",
    "            secondary_link=','.join(images[1:])\n",
    "        except:\n",
    "            img=soup.find('div',{'class':'image'}).find('a').attrs['href']\n",
    "            primary_link=img\n",
    "            secondary_link='Not Available'\n",
    "        size_avl=\"One-Size\"\n",
    "\n",
    "    \n",
    "    except:\n",
    "        err.append(i)\n",
    "        pass\n",
    "    \n",
    "    else:\n",
    "        Product_Link.append(product_link)\n",
    "        Product_Brand.append(product_brand)\n",
    "        Product_Name.append(product_name)\n",
    "        Description.append(product_des)\n",
    "        Gender.append('Women')\n",
    "        Cat_list.append(product_cat)\n",
    "        MRP.append(product_mrp)\n",
    "        Price.append(product_price)\n",
    "        Primary_Image_Link.append(primary_link)\n",
    "        Secondary_Image_Link.append(secondary_link)\n",
    "        Size_Available.append(size_avl)\n"
   ]
  },
  {
   "cell_type": "code",
   "execution_count": 7,
   "metadata": {},
   "outputs": [
    {
     "data": {
      "text/plain": [
       "4206"
      ]
     },
     "execution_count": 7,
     "metadata": {},
     "output_type": "execute_result"
    }
   ],
   "source": [
    "len(Product_Name)"
   ]
  },
  {
   "cell_type": "markdown",
   "metadata": {},
   "source": [
    "## salwar-kameez"
   ]
  },
  {
   "cell_type": "code",
   "execution_count": null,
   "metadata": {},
   "outputs": [],
   "source": [
    "salwar_links=[]\n",
    "for i in tqdm(range(1,94)):\n",
    "    try:\n",
    "        result=requests.get(f\"https://www.sareeka.com/salwar-kameez?page={i}\",headers=headers)\n",
    "        get=result.content\n",
    "        soup=BeautifulSoup(get,'lxml')\n",
    "        prod=soup.find_all('div',{'class':'item_thumb'})\n",
    "        for j in prod:\n",
    "            try:\n",
    "                salwar_links.append(j.find('div',{'class':'image'}).find('a').attrs['href'])\n",
    "            except:\n",
    "                pass\n",
    "    except:\n",
    "        pass"
   ]
  },
  {
   "cell_type": "code",
   "execution_count": null,
   "metadata": {},
   "outputs": [],
   "source": [
    "err=[]\n",
    "for i in tqdm(salwar_links):\n",
    "    try:\n",
    "        result = requests.get(i,headers=headers)\n",
    "        get = result.content\n",
    "        soup = BeautifulSoup(get,\"lxml\")\n",
    "\n",
    "        product_name=soup.find('div',{'class':'product_info_title'}).text\n",
    "        product_brand=\"Sareeka\"\n",
    "        product_link=i\n",
    "        product_cat='salwar'\n",
    "        product_des=soup.find('div',{'class':'product_description'}).text.lstrip().rstrip()\n",
    "        product_price=int(''.join(soup.find('div',{'class':'price span'}).text.lstrip().rstrip().split('Rs')[1].lstrip().rstrip().split(',')))\n",
    "        product_mrp=int(''.join(soup.find('div',{'class':'price span'}).text.lstrip().rstrip().split('Rs')[2].lstrip().rstrip().split(',')))\n",
    "        try:\n",
    "            img=soup.find('div',{'class':'image-additional'}).find_all('a')\n",
    "            images=[]\n",
    "            for i in img:\n",
    "                images.append(i.attrs['data-image'])\n",
    "            primary_link=images[0]\n",
    "            secondary_link=','.join(images[1:])\n",
    "        except:\n",
    "            img=soup.find('div',{'class':'image'}).find('a').attrs['href']\n",
    "            primary_link=img\n",
    "            secondary_link='Not Available'\n",
    "        size_avl=\"One-Size\"\n",
    "\n",
    "    \n",
    "    except:\n",
    "        err.append(i)\n",
    "        pass\n",
    "    \n",
    "    else:\n",
    "        Product_Link.append(product_link)\n",
    "        Product_Brand.append(product_brand)\n",
    "        Product_Name.append(product_name)\n",
    "        Description.append(product_des)\n",
    "        Gender.append('Women')\n",
    "        Cat_list.append(product_cat)\n",
    "        MRP.append(product_mrp)\n",
    "        Price.append(product_price)\n",
    "        Primary_Image_Link.append(primary_link)\n",
    "        Secondary_Image_Link.append(secondary_link)\n",
    "        Size_Available.append(size_avl)\n"
   ]
  },
  {
   "cell_type": "markdown",
   "metadata": {},
   "source": [
    "## lehenga-choli"
   ]
  },
  {
   "cell_type": "code",
   "execution_count": null,
   "metadata": {},
   "outputs": [],
   "source": [
    "lehenga_links=[]\n",
    "for i in tqdm(range(1,60)):\n",
    "    try:\n",
    "        result=requests.get(f\"https://www.sareeka.com/lehenga-choli?page={i}\",headers=headers)\n",
    "        get=result.content\n",
    "        soup=BeautifulSoup(get,'lxml')\n",
    "        prod=soup.find_all('div',{'class':'item_thumb'})\n",
    "        for j in prod:\n",
    "            try:\n",
    "                lehenga_links.append(j.find('div',{'class':'image'}).find('a').attrs['href'])\n",
    "            except:\n",
    "                pass\n",
    "    except:\n",
    "        pass"
   ]
  },
  {
   "cell_type": "code",
   "execution_count": null,
   "metadata": {},
   "outputs": [],
   "source": [
    "err=[]\n",
    "for i in tqdm(lehenga_links):\n",
    "    try:\n",
    "        result = requests.get(i,headers=headers)\n",
    "        get = result.content\n",
    "        soup = BeautifulSoup(get,\"lxml\")\n",
    "\n",
    "        product_name=soup.find('div',{'class':'product_info_title'}).text\n",
    "        product_brand=\"Sareeka\"\n",
    "        product_link=i\n",
    "        product_cat='lehenga'\n",
    "        product_des=soup.find('div',{'class':'product_description'}).text.lstrip().rstrip()\n",
    "        product_price=int(''.join(soup.find('div',{'class':'price span'}).text.lstrip().rstrip().split('Rs')[1].lstrip().rstrip().split(',')))\n",
    "        product_mrp=int(''.join(soup.find('div',{'class':'price span'}).text.lstrip().rstrip().split('Rs')[2].lstrip().rstrip().split(',')))\n",
    "        try:\n",
    "            img=soup.find('div',{'class':'image-additional'}).find_all('a')\n",
    "            images=[]\n",
    "            for i in img:\n",
    "                images.append(i.attrs['data-image'])\n",
    "            primary_link=images[0]\n",
    "            secondary_link=','.join(images[1:])\n",
    "        except:\n",
    "            img=soup.find('div',{'class':'image'}).find('a').attrs['href']\n",
    "            primary_link=img\n",
    "            secondary_link='Not Available'\n",
    "        size_avl=\"One-Size\"\n",
    "\n",
    "    \n",
    "    except:\n",
    "        err.append(i)\n",
    "        pass\n",
    "    \n",
    "    else:\n",
    "        Product_Link.append(product_link)\n",
    "        Product_Brand.append(product_brand)\n",
    "        Product_Name.append(product_name)\n",
    "        Description.append(product_des)\n",
    "        Gender.append('Women')\n",
    "        Cat_list.append(product_cat)\n",
    "        MRP.append(product_mrp)\n",
    "        Price.append(product_price)\n",
    "        Primary_Image_Link.append(primary_link)\n",
    "        Secondary_Image_Link.append(secondary_link)\n",
    "        Size_Available.append(size_avl)\n"
   ]
  },
  {
   "cell_type": "markdown",
   "metadata": {},
   "source": [
    "## gown"
   ]
  },
  {
   "cell_type": "code",
   "execution_count": null,
   "metadata": {},
   "outputs": [],
   "source": [
    "gown_links=[]\n",
    "for i in tqdm(range(1,6)):\n",
    "    try:\n",
    "        result=requests.get(f\"https://www.sareeka.com/gown?page={i}\",headers=headers)\n",
    "        get=result.content\n",
    "        soup=BeautifulSoup(get,'lxml')\n",
    "        prod=soup.find_all('div',{'class':'item_thumb'})\n",
    "        for j in prod:\n",
    "            try:\n",
    "                gown_links.append(j.find('div',{'class':'image'}).find('a').attrs['href'])\n",
    "            except:\n",
    "                pass\n",
    "    except:\n",
    "        pass"
   ]
  },
  {
   "cell_type": "code",
   "execution_count": null,
   "metadata": {},
   "outputs": [],
   "source": [
    "err=[]\n",
    "for i in tqdm(gown_links):\n",
    "    try:\n",
    "        result = requests.get(i,headers=headers)\n",
    "        get = result.content\n",
    "        soup = BeautifulSoup(get,\"lxml\")\n",
    "\n",
    "        product_name=soup.find('div',{'class':'product_info_title'}).text\n",
    "        product_brand=\"Sareeka\"\n",
    "        product_link=i\n",
    "        product_cat='gown'\n",
    "        product_des=soup.find('div',{'class':'product_description'}).text.lstrip().rstrip()\n",
    "        product_price=int(''.join(soup.find('div',{'class':'price span'}).text.lstrip().rstrip().split('Rs')[1].lstrip().rstrip().split(',')))\n",
    "        product_mrp=int(''.join(soup.find('div',{'class':'price span'}).text.lstrip().rstrip().split('Rs')[2].lstrip().rstrip().split(',')))\n",
    "        try:\n",
    "            img=soup.find('div',{'class':'image-additional'}).find_all('a')\n",
    "            images=[]\n",
    "            for i in img:\n",
    "                images.append(i.attrs['data-image'])\n",
    "            primary_link=images[0]\n",
    "            secondary_link=','.join(images[1:])\n",
    "        except:\n",
    "            img=soup.find('div',{'class':'image'}).find('a').attrs['href']\n",
    "            primary_link=img\n",
    "            secondary_link='Not Available'\n",
    "        size_avl=\"One-Size\"\n",
    "\n",
    "    \n",
    "    except:\n",
    "        err.append(i)\n",
    "        pass\n",
    "    \n",
    "    else:\n",
    "        Product_Link.append(product_link)\n",
    "        Product_Brand.append(product_brand)\n",
    "        Product_Name.append(product_name)\n",
    "        Description.append(product_des)\n",
    "        Gender.append('Women')\n",
    "        Cat_list.append(product_cat)\n",
    "        MRP.append(product_mrp)\n",
    "        Price.append(product_price)\n",
    "        Primary_Image_Link.append(primary_link)\n",
    "        Secondary_Image_Link.append(secondary_link)\n",
    "        Size_Available.append(size_avl)\n"
   ]
  },
  {
   "cell_type": "code",
   "execution_count": null,
   "metadata": {},
   "outputs": [],
   "source": []
  },
  {
   "cell_type": "markdown",
   "metadata": {},
   "source": [
    "## kurti"
   ]
  },
  {
   "cell_type": "code",
   "execution_count": null,
   "metadata": {},
   "outputs": [],
   "source": [
    "kurti_links=[]\n",
    "for i in tqdm(range(1,69)):\n",
    "    try:\n",
    "        result=requests.get(f\"https://www.sareeka.com/kurtis?page={i}\",headers=headers)\n",
    "        get=result.content\n",
    "        soup=BeautifulSoup(get,'lxml')\n",
    "        prod=soup.find_all('div',{'class':'item_thumb'})\n",
    "        for j in prod:\n",
    "            try:\n",
    "                kurti_links.append(j.find('div',{'class':'image'}).find('a').attrs['href'])\n",
    "            except:\n",
    "                pass\n",
    "    except:\n",
    "        pass"
   ]
  },
  {
   "cell_type": "code",
   "execution_count": null,
   "metadata": {},
   "outputs": [],
   "source": [
    "err=[]\n",
    "for i in tqdm(kurti_links):\n",
    "    try:\n",
    "        result = requests.get(i,headers=headers)\n",
    "        get = result.content\n",
    "        soup = BeautifulSoup(get,\"lxml\")\n",
    "\n",
    "        product_name=soup.find('div',{'class':'product_info_title'}).text\n",
    "        product_brand=\"Sareeka\"\n",
    "        product_link=i\n",
    "        product_cat='kurti'\n",
    "        product_des=soup.find('div',{'class':'product_description'}).text.lstrip().rstrip()\n",
    "        product_price=int(''.join(soup.find('div',{'class':'price span'}).text.lstrip().rstrip().split('Rs')[1].lstrip().rstrip().split(',')))\n",
    "        product_mrp=int(''.join(soup.find('div',{'class':'price span'}).text.lstrip().rstrip().split('Rs')[2].lstrip().rstrip().split(',')))\n",
    "        try:\n",
    "            img=soup.find('div',{'class':'image-additional'}).find_all('a')\n",
    "            images=[]\n",
    "            for i in img:\n",
    "                images.append(i.attrs['data-image'])\n",
    "            primary_link=images[0]\n",
    "            secondary_link=','.join(images[1:])\n",
    "        except:\n",
    "            img=soup.find('div',{'class':'image'}).find('a').attrs['href']\n",
    "            primary_link=img\n",
    "            secondary_link='Not Available'\n",
    "        size_avl=\"One-Size\"\n",
    "\n",
    "    \n",
    "    except:\n",
    "        err.append(i)\n",
    "        pass\n",
    "    \n",
    "    else:\n",
    "        Product_Link.append(product_link)\n",
    "        Product_Brand.append(product_brand)\n",
    "        Product_Name.append(product_name)\n",
    "        Description.append(product_des)\n",
    "        Gender.append('Women')\n",
    "        Cat_list.append(product_cat)\n",
    "        MRP.append(product_mrp)\n",
    "        Price.append(product_price)\n",
    "        Primary_Image_Link.append(primary_link)\n",
    "        Secondary_Image_Link.append(secondary_link)\n",
    "        Size_Available.append(size_avl)\n"
   ]
  },
  {
   "cell_type": "markdown",
   "metadata": {},
   "source": [
    "## jewelry"
   ]
  },
  {
   "cell_type": "code",
   "execution_count": null,
   "metadata": {},
   "outputs": [],
   "source": [
    "jewelry_links=[]\n",
    "for i in tqdm(range(1,208)):\n",
    "    try:\n",
    "        result=requests.get(f\"https://www.sareeka.com/jewelry?page={i}\",headers=headers)\n",
    "        get=result.content\n",
    "        soup=BeautifulSoup(get,'lxml')\n",
    "        prod=soup.find_all('div',{'class':'item_thumb'})\n",
    "        for j in prod:\n",
    "            try:\n",
    "                jewelry_links.append(j.find('div',{'class':'image'}).find('a').attrs['href'])\n",
    "            except:\n",
    "                pass\n",
    "    except:\n",
    "        pass"
   ]
  },
  {
   "cell_type": "code",
   "execution_count": null,
   "metadata": {},
   "outputs": [],
   "source": [
    "err=[]\n",
    "for i in tqdm(jewelry_links):\n",
    "    try:\n",
    "        result = requests.get(i,headers=headers)\n",
    "        get = result.content\n",
    "        soup = BeautifulSoup(get,\"lxml\")\n",
    "\n",
    "        product_name=soup.find('div',{'class':'product_info_title'}).text\n",
    "        product_brand=\"Sareeka\"\n",
    "        product_link=i\n",
    "        product_cat=soup.find_all('td',{'class':'variation_td'})[2].find('a').text\n",
    "        product_des=soup.find('div',{'class':'product_description'}).text.lstrip().rstrip()\n",
    "        product_price=int(''.join(soup.find('div',{'class':'price span'}).text.lstrip().rstrip().split('Rs')[1].lstrip().rstrip().split(',')))\n",
    "        product_mrp=int(''.join(soup.find('div',{'class':'price span'}).text.lstrip().rstrip().split('Rs')[2].lstrip().rstrip().split(',')))\n",
    "        try:\n",
    "            img=soup.find('div',{'class':'image-additional'}).find_all('a')\n",
    "            images=[]\n",
    "            for i in img:\n",
    "                images.append(i.attrs['data-image'])\n",
    "            primary_link=images[0]\n",
    "            secondary_link=','.join(images[1:])\n",
    "        except:\n",
    "            img=soup.find('div',{'class':'image'}).find('a').attrs['href']\n",
    "            primary_link=img\n",
    "            secondary_link='Not Available'\n",
    "        size_avl=\"One-Size\"\n",
    "\n",
    "    \n",
    "    except:\n",
    "        err.append(i)\n",
    "        pass\n",
    "    \n",
    "    else:\n",
    "        Product_Link.append(product_link)\n",
    "        Product_Brand.append(product_brand)\n",
    "        Product_Name.append(product_name)\n",
    "        Description.append(product_des)\n",
    "        Gender.append('Women')\n",
    "        Cat_list.append(product_cat)\n",
    "        MRP.append(product_mrp)\n",
    "        Price.append(product_price)\n",
    "        Primary_Image_Link.append(primary_link)\n",
    "        Secondary_Image_Link.append(secondary_link)\n",
    "        Size_Available.append(size_avl)\n"
   ]
  },
  {
   "cell_type": "markdown",
   "metadata": {},
   "source": [
    "# Mens"
   ]
  },
  {
   "cell_type": "code",
   "execution_count": null,
   "metadata": {},
   "outputs": [],
   "source": [
    "mens_links=[]\n",
    "for i in tqdm(range(1,102)):\n",
    "    try:\n",
    "        result=requests.get(f\"https://www.sareeka.com/mens-wear?page={i}\",headers=headers)\n",
    "        get=result.content\n",
    "        soup=BeautifulSoup(get,'lxml')\n",
    "        prod=soup.find_all('div',{'class':'item_thumb'})\n",
    "        for j in prod:\n",
    "            try:\n",
    "                mens_links.append(j.find('div',{'class':'image'}).find('a').attrs['href'])\n",
    "            except:\n",
    "                pass\n",
    "    except:\n",
    "        pass"
   ]
  },
  {
   "cell_type": "code",
   "execution_count": null,
   "metadata": {},
   "outputs": [],
   "source": [
    "err=[]\n",
    "for i in tqdm(mens_links):\n",
    "    try:\n",
    "        result = requests.get(i,headers=headers)\n",
    "        get = result.content\n",
    "        soup = BeautifulSoup(get,\"lxml\")\n",
    "\n",
    "        product_name=soup.find('div',{'class':'product_info_title'}).text\n",
    "        product_brand=\"Sareeka\"\n",
    "        product_link=i\n",
    "        product_cat=soup.find_all('td',{'class':'variation_td'})[3].find('a').text\n",
    "        product_des=soup.find('div',{'class':'product_description'}).text.lstrip().rstrip()\n",
    "        product_price=int(''.join(soup.find('div',{'class':'price span'}).text.lstrip().rstrip().split('Rs')[1].lstrip().rstrip().split(',')))\n",
    "        product_mrp=int(''.join(soup.find('div',{'class':'price span'}).text.lstrip().rstrip().split('Rs')[2].lstrip().rstrip().split(',')))\n",
    "        try:\n",
    "            img=soup.find('div',{'class':'image-additional'}).find_all('a')\n",
    "            images=[]\n",
    "            for i in img:\n",
    "                images.append(i.attrs['data-image'])\n",
    "            primary_link=images[0]\n",
    "            secondary_link=','.join(images[1:])\n",
    "        except:\n",
    "            img=soup.find('div',{'class':'image'}).find('a').attrs['href']\n",
    "            primary_link=img\n",
    "            secondary_link='Not Available'\n",
    "        size_avl=\"One-Size\"\n",
    "\n",
    "    \n",
    "    except:\n",
    "        err.append(i)\n",
    "        pass\n",
    "    \n",
    "    else:\n",
    "        Product_Link.append(product_link)\n",
    "        Product_Brand.append(product_brand)\n",
    "        Product_Name.append(product_name)\n",
    "        Description.append(product_des)\n",
    "        Gender.append('Men')\n",
    "        Cat_list.append(product_cat)\n",
    "        MRP.append(product_mrp)\n",
    "        Price.append(product_price)\n",
    "        Primary_Image_Link.append(primary_link)\n",
    "        Secondary_Image_Link.append(secondary_link)\n",
    "        Size_Available.append(size_avl)\n"
   ]
  },
  {
   "cell_type": "code",
   "execution_count": 8,
   "metadata": {},
   "outputs": [],
   "source": [
    "con=sqlite3.connect(\"sareeka.db\")  \n",
    "cur=con.cursor()\n",
    "cur.execute('CREATE TABLE product_details (Website varchar(40) not null,Product_Link text PRIMARY KEY,Product_Name varchar(50) not null,Product_Brand varchar(50) not null,Product_Category varchar(50),Size_Avail varchar(20) not null,Price int not null,MRP int not null,Gender varchar(15) not null,Description text not null,Primary_Image_Links text not null,Secondary_Image_Links text not null,Affiliate_Link text not null )')\n",
    "for i in range(len(Product_Link)):\n",
    "    try:\n",
    "        cur.execute('insert into product_details  values(%r,%r,%r,%r,%r,%r,%d,%d,%r,%r,%r,%r,%r)'%('https://www.sareeka.com/',Product_Link[i],Product_Name[i],Product_Brand[i],Cat_list[i],Size_Available[i],Price[i],MRP[i],Gender[i],Description[i],Primary_Image_Link[i],Secondary_Image_Link[i],''))\n",
    "    except:\n",
    "        pass\n",
    "con.commit()\n",
    "con.close()"
   ]
  },
  {
   "cell_type": "code",
   "execution_count": null,
   "metadata": {},
   "outputs": [],
   "source": []
  }
 ],
 "metadata": {
  "kernelspec": {
   "display_name": "Python 3",
   "language": "python",
   "name": "python3"
  },
  "language_info": {
   "codemirror_mode": {
    "name": "ipython",
    "version": 3
   },
   "file_extension": ".py",
   "mimetype": "text/x-python",
   "name": "python",
   "nbconvert_exporter": "python",
   "pygments_lexer": "ipython3",
   "version": "3.8.5"
  }
 },
 "nbformat": 4,
 "nbformat_minor": 4
}
