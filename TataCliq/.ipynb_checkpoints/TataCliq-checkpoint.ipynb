{
 "cells": [
  {
   "cell_type": "code",
   "execution_count": 1,
   "metadata": {},
   "outputs": [],
   "source": [
    "import time\n",
    "import re\n",
    "import requests as rt\n",
    "import bs4\n",
    "import json\n",
    "import warnings\n",
    "from selenium import webdriver\n",
    "from selenium.webdriver.common.keys import Keys\n",
    "warnings.filterwarnings(\"ignore\")\n",
    "import pickle\n",
    "import numpy\n",
    "import threading\n",
    "import numpy as np\n",
    "import sqlite3 as sq\n",
    "from tqdm import tqdm"
   ]
  },
  {
   "cell_type": "code",
   "execution_count": 2,
   "metadata": {},
   "outputs": [],
   "source": [
    "def value_tester(index):\n",
    "    print(product_links[index])\n",
    "    print(mrp[index])\n",
    "    print(price[index])\n",
    "    print(description[index])\n",
    "    print(gender[index])\n",
    "    print(brand_names[index])\n",
    "    print(product_names[index])\n",
    "    print(category[index])\n",
    "    print(primary_image_links_dict[index])\n",
    "    print(secondary_image_links_dict[index])\n",
    "    print(sizes[index])\n",
    "    "
   ]
  },
  {
   "cell_type": "code",
   "execution_count": 3,
   "metadata": {},
   "outputs": [],
   "source": [
    "headers = {'User-Agent' : 'Mozilla/5.0 (Macintosh; Intel Mac OS X 10_14_5) AppleWebKit/537.36 (KHTML, like Gecko) Chrome/84.0.4147.89 Safari/537.36'}"
   ]
  },
  {
   "cell_type": "markdown",
   "metadata": {},
   "source": [
    "# Women:"
   ]
  },
  {
   "cell_type": "markdown",
   "metadata": {},
   "source": [
    "## All Clothing"
   ]
  },
  {
   "cell_type": "code",
   "execution_count": 11,
   "metadata": {},
   "outputs": [],
   "source": [
    "temp=rt.get('https://www.tatacliq.com/marketplacewebservices/v2/mpl/products/searchProducts?searchText=womens%3Arelevance%3Acategory%3AMSH10%3AinStockFlag%3Atrue&isKeywordRedirect=true&isKeywordRedirectEnabled=true&channel=WEB&isMDE=true&isTextSearch=false&isFilter=false&qc=false&test=v1&page=0&isPwa=true&pageSize=40&typeID=all',headers=headers)"
   ]
  },
  {
   "cell_type": "code",
   "execution_count": 12,
   "metadata": {},
   "outputs": [
    {
     "name": "stdout",
     "output_type": "stream",
     "text": [
      "95210\n"
     ]
    }
   ],
   "source": [
    "data_in_json=json.loads(temp.text)\n",
    "total_pages=data_in_json['pagination']['totalPages']\n",
    "total_results=data_in_json['pagination']['totalResults']\n",
    "print(total_results)"
   ]
  },
  {
   "cell_type": "code",
   "execution_count": 14,
   "metadata": {},
   "outputs": [
    {
     "name": "stderr",
     "output_type": "stream",
     "text": [
      "100%|██████████| 2382/2382 [1:55:09<00:00,  2.90s/it]\n"
     ]
    }
   ],
   "source": [
    "product_links={}\n",
    "counter=0\n",
    "total_pages+=1\n",
    "for i in tqdm(range(0,total_pages)):\n",
    "    try:\n",
    "        data=rt.get(f'https://www.tatacliq.com/marketplacewebservices/v2/mpl/products/searchProducts?searchText=womens%3Arelevance%3Acategory%3AMSH10%3AinStockFlag%3Atrue&isKeywordRedirect=true&isKeywordRedirectEnabled=true&channel=WEB&isMDE=true&isTextSearch=false&isFilter=false&qc=false&test=v1&page={i}&isPwa=true&pageSize=40&typeID=all',headers=headers)\n",
    "        data_in_json=json.loads(data.text)\n",
    "        for j in data_in_json['searchresult']:\n",
    "            product_links[counter]='https://www.tatacliq.com'+j['webURL']\n",
    "            counter+=1\n",
    "    except:\n",
    "        continue\n"
   ]
  },
  {
   "cell_type": "code",
   "execution_count": 15,
   "metadata": {},
   "outputs": [
    {
     "data": {
      "text/plain": [
       "95280"
      ]
     },
     "execution_count": 15,
     "metadata": {},
     "output_type": "execute_result"
    }
   ],
   "source": [
    "len(product_links)"
   ]
  },
  {
   "cell_type": "code",
   "execution_count": 17,
   "metadata": {},
   "outputs": [],
   "source": [
    "pkfile=open('women_clothings','wb')\n",
    "pickle.dump(product_links,pkfile)\n",
    "pkfile.close()"
   ]
  },
  {
   "cell_type": "code",
   "execution_count": 4,
   "metadata": {},
   "outputs": [],
   "source": [
    "pickle_off = open (\"women_clothings\", \"rb\")\n",
    "product_links= pickle.load(pickle_off)"
   ]
  },
  {
   "cell_type": "code",
   "execution_count": 21,
   "metadata": {},
   "outputs": [],
   "source": [
    "n_links={}\n",
    "for i in p_links.keys():\n",
    "    if i in product_names.keys():\n",
    "        continue\n",
    "    else:\n",
    "        n_links[i]=product_links[i]"
   ]
  },
  {
   "cell_type": "code",
   "execution_count": 23,
   "metadata": {},
   "outputs": [
    {
     "data": {
      "text/plain": [
       "2635"
      ]
     },
     "execution_count": 23,
     "metadata": {},
     "output_type": "execute_result"
    }
   ],
   "source": [
    "len(n_links)"
   ]
  },
  {
   "cell_type": "code",
   "execution_count": 24,
   "metadata": {},
   "outputs": [
    {
     "name": "stderr",
     "output_type": "stream",
     "text": [
      "100%|██████████| 2635/2635 [19:45<00:00,  2.22it/s] \n"
     ]
    }
   ],
   "source": [
    "brand_names={}\n",
    "product_names={}\n",
    "primary_image_links_dict={}\n",
    "secondary_image_links_dict={}\n",
    "sizes={}\n",
    "price={}\n",
    "mrp={}\n",
    "category={}\n",
    "description={}\n",
    "gender={}\n",
    "for i in tqdm(n_links.keys()):\n",
    "    try:\n",
    "        product_code=product_links[i][re.search('mp',product_links[i]).start():]\n",
    "        data=rt.get(f'https://www.tatacliq.com/marketplacewebservices/v2/mpl/products/productDetails/{product_code}?isPwa=true&isMDE=true',headers=headers)\n",
    "        data_in_json=json.loads(data.text)\n",
    "        product_names[i]=data_in_json['productName']\n",
    "        brand_names[i]=data_in_json['brandName']\n",
    "        sizes_temp=[]\n",
    "        for j in data_in_json['variantOptions']:\n",
    "            if j['sizelink']['isAvailable']:\n",
    "                sizes_temp.append(j['sizelink']['size'])\n",
    "        sizes[i]=sizes_temp\n",
    "        mrp[i]=data_in_json['mrpPrice']['value']\n",
    "        price[i]=data_in_json['winningSellerPrice']['value']\n",
    "        category[i]=data_in_json['categoryHierarchy'][len(data_in_json['categoryHierarchy'])-1]['category_name']\n",
    "        if re.search('Women',data_in_json['categoryHierarchy'][0]['category_name']):\n",
    "            gender[i]='Women'\n",
    "        description[i]=data_in_json['productDescription']\n",
    "        primary_image_links_dict[i]=data_in_json['galleryImagesList'][0]['galleryImages'][0]['value']\n",
    "        img_temp=[]\n",
    "        for j in range(1,len(data_in_json['galleryImagesList'])):\n",
    "            img_temp.append(data_in_json['galleryImagesList'][j]['galleryImages'][0]['value'])\n",
    "        secondary_image_links_dict[i]=img_temp\n",
    "    except: \n",
    "        continue"
   ]
  },
  {
   "cell_type": "code",
   "execution_count": 25,
   "metadata": {},
   "outputs": [
    {
     "data": {
      "text/plain": [
       "(95280, 1043, 1043, 1043, 1043, 1043, 1043, 1043, 1043)"
      ]
     },
     "execution_count": 25,
     "metadata": {},
     "output_type": "execute_result"
    }
   ],
   "source": [
    "len(product_links),len(mrp),len(price),len(description),len(gender),len(brand_names),len(product_names),len(primary_image_links_dict),len(secondary_image_links_dict)"
   ]
  },
  {
   "cell_type": "code",
   "execution_count": 26,
   "metadata": {},
   "outputs": [],
   "source": [
    "con=sq.connect(r\"TataCliq.db\")  \n",
    "cur=con.cursor()\n",
    "#cur.execute('CREATE TABLE product_details (Website varchar(40) not null,Product_Link text PRIMARY KEY,Product_Name varchar(50) not null,Product_Brand varchar(50) not null,Product_Category varchar(50),Size_Avail varchar(20) not null,Price int not null,MRP int not null,Gender varchar(15) not null,Description text not null,Primary_Image_Links text not null,Secondary_Image_Links text not null,Affiliate_Link text not null )')\n",
    "for i in range(len(product_links)):\n",
    "    try:\n",
    "        if i in brand_names.keys() and i in product_names.keys() and i in secondary_image_links_dict.keys() and i in sizes.keys() and i in price.keys() and i in mrp.keys() and i in description.keys() and i in gender.keys()  and i in primary_image_links_dict.keys() and i in category.keys():\n",
    "            if brand_names[i] != '' and primary_image_links_dict[i] != ''  and product_names[i] != '' and ','.join(secondary_image_links_dict[i]) != '' and ','.join(sizes[i]) != '' and price[i] != '' and mrp[i] != '' and brand_names[i] != '' and description[i] != '' and category[i] !='':\n",
    "                cur.execute('insert into product_details  values(%r,%r,%r,%r,%r,%r,%d,%d,%r,%r,%r,%r,%r)'%('https://www.tatacliq.com/',product_links[i],product_names[i],brand_names[i],category[i],','.join(set(sizes[i])),price[i],mrp[i],gender[i],description[i],primary_image_links_dict[i],','.join(secondary_image_links_dict[i]),''))\n",
    "    except:\n",
    "        pass\n",
    "con.commit()\n",
    "con.close()"
   ]
  },
  {
   "cell_type": "code",
   "execution_count": null,
   "metadata": {},
   "outputs": [],
   "source": []
  },
  {
   "cell_type": "markdown",
   "metadata": {},
   "source": [
    "## Accessories"
   ]
  },
  {
   "cell_type": "code",
   "execution_count": 21,
   "metadata": {},
   "outputs": [],
   "source": [
    "temp=rt.get('https://www.tatacliq.com/marketplacewebservices/v2/mpl/products/searchProducts?searchText=womens%3Arelevance%3Acategory%3AMSH16%3AinStockFlag%3Atrue&isKeywordRedirect=true&isKeywordRedirectEnabled=true&channel=WEB&isMDE=true&isTextSearch=false&isFilter=false&qc=false&test=v1&page=0&isPwa=true&pageSize=40&typeID=all',headers=headers)"
   ]
  },
  {
   "cell_type": "code",
   "execution_count": 22,
   "metadata": {},
   "outputs": [
    {
     "name": "stdout",
     "output_type": "stream",
     "text": [
      "8640\n"
     ]
    }
   ],
   "source": [
    "data_in_json=json.loads(temp.text)\n",
    "total_pages=data_in_json['pagination']['totalPages']\n",
    "total_results=data_in_json['pagination']['totalResults']\n",
    "print(total_results)"
   ]
  },
  {
   "cell_type": "code",
   "execution_count": 23,
   "metadata": {},
   "outputs": [
    {
     "name": "stderr",
     "output_type": "stream",
     "text": [
      "100%|██████████| 217/217 [08:26<00:00,  2.34s/it]\n"
     ]
    }
   ],
   "source": [
    "product_links={}\n",
    "counter=0\n",
    "total_pages+=1\n",
    "for i in tqdm(range(0,total_pages)):\n",
    "    try:\n",
    "        data=rt.get(f'https://www.tatacliq.com/marketplacewebservices/v2/mpl/products/searchProducts?searchText=womens%3Arelevance%3Acategory%3AMSH16%3AinStockFlag%3Atrue&isKeywordRedirect=true&isKeywordRedirectEnabled=true&channel=WEB&isMDE=true&isTextSearch=false&isFilter=false&qc=false&test=v1&page={i}&isPwa=true&pageSize=40&typeID=all',headers=headers)\n",
    "        data_in_json=json.loads(data.text)\n",
    "        for j in data_in_json['searchresult']:\n",
    "            product_links[counter]='https://www.tatacliq.com'+j['webURL']\n",
    "            counter+=1\n",
    "    except:\n",
    "        continue\n"
   ]
  },
  {
   "cell_type": "code",
   "execution_count": 24,
   "metadata": {},
   "outputs": [
    {
     "data": {
      "text/plain": [
       "8639"
      ]
     },
     "execution_count": 24,
     "metadata": {},
     "output_type": "execute_result"
    }
   ],
   "source": [
    "len(product_links)"
   ]
  },
  {
   "cell_type": "code",
   "execution_count": 26,
   "metadata": {},
   "outputs": [
    {
     "data": {
      "text/plain": [
       "<function BufferedWriter.close>"
      ]
     },
     "execution_count": 26,
     "metadata": {},
     "output_type": "execute_result"
    }
   ],
   "source": [
    "pkfile=open('women_acc','wb')\n",
    "pickle.dump(product_links,pkfile)\n",
    "pkfile.close"
   ]
  },
  {
   "cell_type": "code",
   "execution_count": 4,
   "metadata": {},
   "outputs": [],
   "source": [
    "pickle_off = open (\"women_acc\", \"rb\")\n",
    "product_links= pickle.load(pickle_off)"
   ]
  },
  {
   "cell_type": "code",
   "execution_count": 5,
   "metadata": {},
   "outputs": [
    {
     "data": {
      "text/plain": [
       "8639"
      ]
     },
     "execution_count": 5,
     "metadata": {},
     "output_type": "execute_result"
    }
   ],
   "source": [
    "len(product_links)"
   ]
  },
  {
   "cell_type": "code",
   "execution_count": 6,
   "metadata": {},
   "outputs": [
    {
     "name": "stderr",
     "output_type": "stream",
     "text": [
      "100%|██████████| 8639/8639 [1:54:41<00:00,  1.26it/s]  \n"
     ]
    }
   ],
   "source": [
    "brand_names={}\n",
    "product_names={}\n",
    "primary_image_links_dict={}\n",
    "secondary_image_links_dict={}\n",
    "sizes={}\n",
    "price={}\n",
    "mrp={}\n",
    "category={}\n",
    "description={}\n",
    "gender={}\n",
    "for i in tqdm(range(len(product_links))):\n",
    "    try:\n",
    "        product_code=product_links[i][re.search('mp',product_links[i]).start():]\n",
    "        data=rt.get(f'https://www.tatacliq.com/marketplacewebservices/v2/mpl/products/productDetails/{product_code}?isPwa=true&isMDE=true',headers=headers)\n",
    "        data_in_json=json.loads(data.text)\n",
    "        product_names[i]=data_in_json['productName']\n",
    "        brand_names[i]=data_in_json['brandName']\n",
    "        sizes_temp=[]\n",
    "        for j in data_in_json['variantOptions']:\n",
    "            if j['sizelink']['isAvailable']:\n",
    "                sizes_temp.append(j['sizelink']['size'])\n",
    "        sizes[i]=sizes_temp\n",
    "        if len(sizes_temp)==0:\n",
    "            sizes[i]=['OpenSize']\n",
    "        else:\n",
    "            sizes[i]=sizes_temp\n",
    "        mrp[i]=data_in_json['mrpPrice']['value']\n",
    "        price[i]=data_in_json['winningSellerPrice']['value']\n",
    "        category[i]=data_in_json['categoryHierarchy'][len(data_in_json['categoryHierarchy'])-1]['category_name']\n",
    "        #if re.search('Women',data_in_json['categoryHierarchy'][0]['category_name']):\n",
    "        gender[i]='Women'\n",
    "        description[i]=data_in_json['productDescription']\n",
    "        primary_image_links_dict[i]=data_in_json['galleryImagesList'][0]['galleryImages'][0]['value']\n",
    "        img_temp=[]\n",
    "        for j in range(1,len(data_in_json['galleryImagesList'])):\n",
    "            img_temp.append(data_in_json['galleryImagesList'][j]['galleryImages'][0]['value'])\n",
    "        secondary_image_links_dict[i]=img_temp\n",
    "    except:\n",
    "        continue"
   ]
  },
  {
   "cell_type": "code",
   "execution_count": 7,
   "metadata": {},
   "outputs": [
    {
     "name": "stdout",
     "output_type": "stream",
     "text": [
      "https://www.tatacliq.com/e2o-tan-rivets-medium-sling-handbag/p-mp000000007802993\n",
      "2195\n",
      "878\n",
      "Project your fine sense of styling by carrying this women's sling handbag from E2O. It is fashioned from premium quality PU and is sure to last for a long time. This sling handbag with a riveted pattern flaunts a spacious compartment that can accommodate your valuables easily. This tan sling handbag comes with a cross body strap and a magnet closure that makes sure your essentials are safe and secure.\n",
      "Women\n",
      "E2O\n",
      "E2O Tan Rivets Medium Sling Handbag\n",
      "Sling Bags\n",
      "//img.tatacliq.com/images/i6/437Wx649H/MP000000007802993_437Wx649H_202009241936211.jpeg\n",
      "['//img.tatacliq.com/images/i6/437Wx649H/MP000000007802993_437Wx649H_202009241936242.jpeg', '//img.tatacliq.com/images/i6/437Wx649H/MP000000007802993_437Wx649H_202009241936273.jpeg', '//img.tatacliq.com/images/i6/437Wx649H/MP000000007802993_437Wx649H_202009241936304.jpeg', '//img.tatacliq.com/images/i6/437Wx649H/MP000000007802993_437Wx649H_202009241936325.jpeg']\n",
      "['OpenSize']\n"
     ]
    }
   ],
   "source": [
    "value_tester(8000)"
   ]
  },
  {
   "cell_type": "code",
   "execution_count": 7,
   "metadata": {},
   "outputs": [],
   "source": [
    "con=sq.connect(r\"TataCliq.db\")  \n",
    "cur=con.cursor()\n",
    "#cur.execute('CREATE TABLE product_details (Website varchar(40) not null,Product_Link text PRIMARY KEY,Product_Name varchar(50) not null,Product_Brand varchar(50) not null,Product_Category varchar(50),Size_Avail varchar(20) not null,Price int not null,MRP int not null,Gender varchar(15) not null,Description text not null,Primary_Image_Links text not null,Secondary_Image_Links text not null,Affiliate_Link text not null )')\n",
    "for i in range(len(product_links)):\n",
    "    try:\n",
    "        if i in brand_names.keys() and i in product_names.keys() and i in secondary_image_links_dict.keys() and i in sizes.keys() and i in price.keys() and i in mrp.keys() and i in description.keys() and i in gender.keys()  and i in primary_image_links_dict.keys() and i in category.keys():\n",
    "            if brand_names[i] != '' and primary_image_links_dict[i] != ''  and product_names[i] != '' and ','.join(secondary_image_links_dict[i]) != '' and ','.join(sizes[i]) != '' and price[i] != '' and mrp[i] != '' and brand_names[i] != '' and description[i] != '' and category[i] !='':\n",
    "                cur.execute('insert into product_details  values(%r,%r,%r,%r,%r,%r,%d,%d,%r,%r,%r,%r,%r)'%('https://www.tatacliq.com/',product_links[i],product_names[i],brand_names[i],category[i],','.join(set(sizes[i])),price[i],mrp[i],gender[i],description[i],primary_image_links_dict[i],','.join(secondary_image_links_dict[i]),''))\n",
    "    except:\n",
    "        pass\n",
    "con.commit()\n",
    "con.close()"
   ]
  },
  {
   "cell_type": "markdown",
   "metadata": {},
   "source": [
    "## Footwear"
   ]
  },
  {
   "cell_type": "code",
   "execution_count": 34,
   "metadata": {},
   "outputs": [],
   "source": [
    "temp=rt.get('https://www.tatacliq.com/marketplacewebservices/v2/mpl/products/searchProducts?searchText=womens%3Arelevance%3Acategory%3AMSH1310%3AinStockFlag%3Atrue&isKeywordRedirect=true&isKeywordRedirectEnabled=true&channel=WEB&isMDE=true&isTextSearch=false&isFilter=false&qc=false&test=v1&page=0&isPwa=true&pageSize=40&typeID=all',headers=headers)"
   ]
  },
  {
   "cell_type": "code",
   "execution_count": 35,
   "metadata": {},
   "outputs": [
    {
     "name": "stdout",
     "output_type": "stream",
     "text": [
      "13326\n"
     ]
    }
   ],
   "source": [
    "data_in_json=json.loads(temp.text)\n",
    "total_pages=data_in_json['pagination']['totalPages']\n",
    "total_results=data_in_json['pagination']['totalResults']\n",
    "print(total_results)"
   ]
  },
  {
   "cell_type": "code",
   "execution_count": 36,
   "metadata": {},
   "outputs": [
    {
     "name": "stderr",
     "output_type": "stream",
     "text": [
      "100%|██████████| 335/335 [12:46<00:00,  2.29s/it]\n"
     ]
    }
   ],
   "source": [
    "product_links={}\n",
    "counter=0\n",
    "total_pages+=1\n",
    "for i in tqdm(range(0,total_pages)):\n",
    "    try:\n",
    "        data=rt.get(f'https://www.tatacliq.com/marketplacewebservices/v2/mpl/products/searchProducts?searchText=womens%3Arelevance%3Acategory%3AMSH1310%3AinStockFlag%3Atrue&isKeywordRedirect=true&isKeywordRedirectEnabled=true&channel=WEB&isMDE=true&isTextSearch=false&isFilter=false&qc=false&test=v1&page={i}&isPwa=true&pageSize=40&typeID=all',headers=headers)\n",
    "        data_in_json=json.loads(data.text)\n",
    "        for j in data_in_json['searchresult']:\n",
    "            product_links[counter]='https://www.tatacliq.com'+j['webURL']\n",
    "            counter+=1\n",
    "    except:\n",
    "        continue\n"
   ]
  },
  {
   "cell_type": "code",
   "execution_count": 37,
   "metadata": {},
   "outputs": [
    {
     "data": {
      "text/plain": [
       "13326"
      ]
     },
     "execution_count": 37,
     "metadata": {},
     "output_type": "execute_result"
    }
   ],
   "source": [
    "len(product_links)"
   ]
  },
  {
   "cell_type": "code",
   "execution_count": 38,
   "metadata": {},
   "outputs": [],
   "source": [
    "pkfile=open('women_footwear','wb')\n",
    "pickle.dump(product_links,pkfile)\n",
    "pkfile.close()"
   ]
  },
  {
   "cell_type": "code",
   "execution_count": 9,
   "metadata": {},
   "outputs": [],
   "source": [
    "pickle_off = open (\"women_footwear\", \"rb\")\n",
    "product_links= pickle.load(pickle_off)"
   ]
  },
  {
   "cell_type": "code",
   "execution_count": 10,
   "metadata": {},
   "outputs": [
    {
     "data": {
      "text/plain": [
       "13326"
      ]
     },
     "execution_count": 10,
     "metadata": {},
     "output_type": "execute_result"
    }
   ],
   "source": [
    "len(product_links)"
   ]
  },
  {
   "cell_type": "code",
   "execution_count": 13,
   "metadata": {},
   "outputs": [
    {
     "name": "stderr",
     "output_type": "stream",
     "text": [
      "100%|██████████| 13326/13326 [5:51:00<00:00,  1.58s/it]  \n"
     ]
    }
   ],
   "source": [
    "brand_names={}\n",
    "product_names={}\n",
    "primary_image_links_dict={}\n",
    "secondary_image_links_dict={}\n",
    "sizes={}\n",
    "price={}\n",
    "mrp={}\n",
    "category={}\n",
    "description={}\n",
    "gender={}\n",
    "for i in tqdm(range(len(product_links))):\n",
    "    try:\n",
    "        product_code=product_links[i].split('/p-')[1]\n",
    "        data=rt.get(f'https://www.tatacliq.com/marketplacewebservices/v2/mpl/products/productDetails/{product_code}?isPwa=true&isMDE=true',headers=headers)\n",
    "        data_in_json=json.loads(data.text)\n",
    "        product_names[i]=data_in_json['productName']\n",
    "        brand_names[i]=data_in_json['brandName']\n",
    "        sizes_temp=[]\n",
    "        for j in data_in_json['variantOptions']:\n",
    "            if j['sizelink']['isAvailable']:\n",
    "                sizes_temp.append(j['sizelink']['size'])\n",
    "        sizes[i]=sizes_temp\n",
    "        mrp[i]=data_in_json['mrpPrice']['value']\n",
    "        price[i]=data_in_json['winningSellerPrice']['value']\n",
    "        category[i]=data_in_json['categoryHierarchy'][0]['category_name']\n",
    "        #if re.search('Women',data_in_json['categoryHierarchy'][0]['category_name']):\n",
    "        gender[i]='Women'\n",
    "        description[i]=data_in_json['productDescription']\n",
    "        primary_image_links_dict[i]=data_in_json['galleryImagesList'][0]['galleryImages'][0]['value']\n",
    "        img_temp=[]\n",
    "        for j in range(1,len(data_in_json['galleryImagesList'])):\n",
    "            img_temp.append(data_in_json['galleryImagesList'][j]['galleryImages'][0]['value'])\n",
    "        secondary_image_links_dict[i]=img_temp\n",
    "    except:\n",
    "        continue"
   ]
  },
  {
   "cell_type": "code",
   "execution_count": 15,
   "metadata": {},
   "outputs": [],
   "source": [
    "con=sq.connect(r\"TataCliq.db\")  \n",
    "cur=con.cursor()\n",
    "#cur.execute('CREATE TABLE product_details (Website varchar(40) not null,Product_Link text PRIMARY KEY,Product_Name varchar(50) not null,Product_Brand varchar(50) not null,Product_Category varchar(50),Size_Avail varchar(20) not null,Price int not null,MRP int not null,Gender varchar(15) not null,Description text not null,Primary_Image_Links text not null,Secondary_Image_Links text not null,Affiliate_Link text not null )')\n",
    "for i in range(len(product_links)):\n",
    "    try:\n",
    "        if i in brand_names.keys() and i in product_names.keys() and i in secondary_image_links_dict.keys() and i in sizes.keys() and i in price.keys() and i in mrp.keys() and i in description.keys() and i in gender.keys()  and i in primary_image_links_dict.keys() and i in category.keys():\n",
    "            if brand_names[i] != '' and primary_image_links_dict[i] != ''  and product_names[i] != '' and ','.join(secondary_image_links_dict[i]) != '' and ','.join(sizes[i]) != '' and price[i] != '' and mrp[i] != '' and brand_names[i] != '' and description[i] != '' and category[i] !='':\n",
    "                cur.execute('insert into product_details  values(%r,%r,%r,%r,%r,%r,%d,%d,%r,%r,%r,%r,%r)'%('https://www.tatacliq.com/',product_links[i],product_names[i],brand_names[i],category[i],','.join(set(sizes[i])),price[i],mrp[i],gender[i],description[i],primary_image_links_dict[i],','.join(secondary_image_links_dict[i]),''))\n",
    "    except:\n",
    "        pass\n",
    "con.commit()\n",
    "con.close()"
   ]
  },
  {
   "cell_type": "markdown",
   "metadata": {},
   "source": [
    "## Jewellery"
   ]
  },
  {
   "cell_type": "code",
   "execution_count": 159,
   "metadata": {},
   "outputs": [],
   "source": [
    "temp=rt.get('https://www.tatacliq.com/marketplacewebservices/v2/mpl/products/searchProducts?searchText=womens%3Arelevance%3Acategory%3AMSH20%3AinStockFlag%3Atrue&isKeywordRedirect=true&isKeywordRedirectEnabled=true&channel=WEB&isMDE=true&isTextSearch=false&isFilter=false&qc=false&test=v1&page=0&isPwa=true&pageSize=40&typeID=all',headers=headers)"
   ]
  },
  {
   "cell_type": "code",
   "execution_count": 160,
   "metadata": {},
   "outputs": [
    {
     "name": "stdout",
     "output_type": "stream",
     "text": [
      "4753\n"
     ]
    }
   ],
   "source": [
    "data_in_json=json.loads(temp.text)\n",
    "total_pages=data_in_json['pagination']['totalPages']\n",
    "total_results=data_in_json['pagination']['totalResults']\n",
    "print(total_results)"
   ]
  },
  {
   "cell_type": "code",
   "execution_count": 161,
   "metadata": {},
   "outputs": [
    {
     "name": "stderr",
     "output_type": "stream",
     "text": [
      "100%|██████████| 120/120 [02:35<00:00,  1.30s/it]\n"
     ]
    }
   ],
   "source": [
    "counter=0\n",
    "total_pages+=1\n",
    "for i in tqdm(range(0,total_pages)):\n",
    "    try:\n",
    "        data=rt.get(f'https://www.tatacliq.com/marketplacewebservices/v2/mpl/products/searchProducts?searchText=womens%3Arelevance%3Acategory%3AMSH20%3AinStockFlag%3Atrue&isKeywordRedirect=true&isKeywordRedirectEnabled=true&channel=WEB&isMDE=true&isTextSearch=false&isFilter=false&qc=false&test=v1&page={i}&isPwa=true&pageSize=40&typeID=all',headers=headers)\n",
    "        data_in_json=json.loads(data.text)\n",
    "        for j in data_in_json['searchresult']:\n",
    "            product_links[counter]='https://www.tatacliq.com'+j['webURL']\n",
    "            counter+=1\n",
    "    except:\n",
    "        continue\n"
   ]
  },
  {
   "cell_type": "code",
   "execution_count": 162,
   "metadata": {},
   "outputs": [
    {
     "data": {
      "text/plain": [
       "4713"
      ]
     },
     "execution_count": 162,
     "metadata": {},
     "output_type": "execute_result"
    }
   ],
   "source": [
    "len(product_links)"
   ]
  },
  {
   "cell_type": "code",
   "execution_count": 163,
   "metadata": {},
   "outputs": [],
   "source": [
    "pkfile=open('women_jewellery','wb')\n",
    "pickle.dump(product_links,pkfile)\n",
    "pkfile.close()"
   ]
  },
  {
   "cell_type": "code",
   "execution_count": 16,
   "metadata": {},
   "outputs": [],
   "source": [
    "pickle_off=open('women_jewellery','rb')\n",
    "product_links=pickle.load(pickle_off)"
   ]
  },
  {
   "cell_type": "code",
   "execution_count": 17,
   "metadata": {},
   "outputs": [
    {
     "data": {
      "text/plain": [
       "4713"
      ]
     },
     "execution_count": 17,
     "metadata": {},
     "output_type": "execute_result"
    }
   ],
   "source": [
    "len(product_links)"
   ]
  },
  {
   "cell_type": "code",
   "execution_count": 18,
   "metadata": {},
   "outputs": [
    {
     "name": "stderr",
     "output_type": "stream",
     "text": [
      "100%|██████████| 4713/4713 [53:11<00:00,  1.48it/s]  \n"
     ]
    }
   ],
   "source": [
    "brand_names={}\n",
    "product_names={}\n",
    "primary_image_links_dict={}\n",
    "secondary_image_links_dict={}\n",
    "sizes={}\n",
    "price={}\n",
    "mrp={}\n",
    "category={}\n",
    "description={}\n",
    "gender={}\n",
    "for i in tqdm(range(len(product_links))):\n",
    "    try:\n",
    "        product_code=product_links[i].split('/p-')[1]\n",
    "        data=rt.get(f'https://www.tatacliq.com/marketplacewebservices/v2/mpl/products/productDetails/{product_code}?isPwa=true&isMDE=true',headers=headers)\n",
    "        data_in_json=json.loads(data.text)\n",
    "        product_names[i]=data_in_json['productName']\n",
    "        brand_names[i]=data_in_json['brandName']\n",
    "        sizes_temp=[]\n",
    "        for j in data_in_json['variantOptions']:\n",
    "            if j['sizelink']['isAvailable']:\n",
    "                sizes_temp.append(j['sizelink']['size'])\n",
    "        sizes[i]=sizes_temp\n",
    "        mrp[i]=data_in_json['mrpPrice']['value']\n",
    "        price[i]=data_in_json['winningSellerPrice']['value']\n",
    "        category[i]=data_in_json['categoryHierarchy'][len(data_in_json['categoryHierarchy'])-1]['category_name']\n",
    "        #if re.search('Women',data_in_json['categoryHierarchy'][0]['category_name']):\n",
    "        gender[i]='Women'\n",
    "        description[i]=data_in_json['productDescription']\n",
    "        primary_image_links_dict[i]=data_in_json['galleryImagesList'][0]['galleryImages'][0]['value']\n",
    "        img_temp=[]\n",
    "        for j in range(1,len(data_in_json['galleryImagesList'])):\n",
    "            img_temp.append(data_in_json['galleryImagesList'][j]['galleryImages'][0]['value'])\n",
    "        secondary_image_links_dict[i]=img_temp\n",
    "    except:\n",
    "        continue"
   ]
  },
  {
   "cell_type": "code",
   "execution_count": 19,
   "metadata": {},
   "outputs": [
    {
     "name": "stdout",
     "output_type": "stream",
     "text": [
      "https://www.tatacliq.com/pc-jeweller-domonkos-18k-gold-ring-for-women/p-mp000000008968986\n",
      "15833\n",
      "11876\n",
      "Add a dash of elegance to your jewellery collection with this gold ring from PC Jeweller. Crafted using 18 kt yellow and white gold, this ring with BIS certification will add a dash of style to your look. Vaunting an attractive design, this gold ring is an absolute stunner and is adorned with white stones.\n",
      "Women\n",
      "PC Jeweller\n",
      "PC Jeweller Domonkos 18k Gold Ring for Women\n",
      "Rings\n",
      "//img.tatacliq.com/images/i7/437Wx649H/MP000000008968981_437Wx649H_202103040057231.jpeg\n",
      "['//img.tatacliq.com/images/i7/437Wx649H/MP000000008968981_437Wx649H_202103040057242.jpeg', '//img.tatacliq.com/images/i7/437Wx649H/MP000000008968981_437Wx649H_202103040057253.jpeg', '//img.tatacliq.com/images/i7/437Wx649H/MP000000008968981_437Wx649H_202103040057274.jpeg', '//img.tatacliq.com/images/i7/437Wx649H/MP000000008968981_437Wx649H_202103040057285.jpeg']\n",
      "['IND-8', 'IND-9', 'IND-10', 'IND-11', 'IND-12', 'IND-13', 'IND-14', 'IND-15', 'IND-16', 'IND-17', 'IND-18']\n"
     ]
    }
   ],
   "source": [
    "value_tester(4000)"
   ]
  },
  {
   "cell_type": "code",
   "execution_count": 20,
   "metadata": {},
   "outputs": [],
   "source": [
    "con=sq.connect(r\"TataCliq.db\")  \n",
    "cur=con.cursor()\n",
    "#cur.execute('CREATE TABLE product_details (Website varchar(40) not null,Product_Link text PRIMARY KEY,Product_Name varchar(50) not null,Product_Brand varchar(50) not null,Product_Category varchar(50),Size_Avail varchar(20) not null,Price int not null,MRP int not null,Gender varchar(15) not null,Description text not null,Primary_Image_Links text not null,Secondary_Image_Links text not null,Affiliate_Link text not null )')\n",
    "for i in range(len(product_links)):\n",
    "    try:\n",
    "        if i in brand_names.keys() and i in product_names.keys() and i in secondary_image_links_dict.keys() and i in sizes.keys() and i in price.keys() and i in mrp.keys() and i in description.keys() and i in gender.keys()  and i in primary_image_links_dict.keys() and i in category.keys():\n",
    "            if brand_names[i] != '' and primary_image_links_dict[i] != ''  and product_names[i] != '' and ','.join(secondary_image_links_dict[i]) != '' and ','.join(sizes[i]) != '' and price[i] != '' and mrp[i] != '' and brand_names[i] != '' and description[i] != '' and category[i] !='':\n",
    "                cur.execute('insert into product_details  values(%r,%r,%r,%r,%r,%r,%d,%d,%r,%r,%r,%r,%r)'%('https://www.tatacliq.com/',product_links[i],product_names[i],brand_names[i],category[i],','.join(set(sizes[i])),price[i],mrp[i],gender[i],description[i],primary_image_links_dict[i],','.join(secondary_image_links_dict[i]),''))\n",
    "    except:\n",
    "        pass\n",
    "con.commit()\n",
    "con.close()"
   ]
  },
  {
   "cell_type": "markdown",
   "metadata": {},
   "source": [
    "## Watches"
   ]
  },
  {
   "cell_type": "code",
   "execution_count": 150,
   "metadata": {},
   "outputs": [],
   "source": [
    "temp=rt.get('https://prodsearch.tatacliq.com/products/mpl/search/?searchText=women%3Arelevance%3Acategory%3AMSH15%3AinStockFlag%3Atrue&isKeywordRedirect=true&isKeywordRedirectEnabled=true&channel=WEB&isMDE=true&isTextSearch=false&isFilter=false&qc=false&test=v1&page=0&isPwa=true&pageSize=40&typeID=all')"
   ]
  },
  {
   "cell_type": "code",
   "execution_count": 151,
   "metadata": {},
   "outputs": [
    {
     "name": "stdout",
     "output_type": "stream",
     "text": [
      "2845\n"
     ]
    }
   ],
   "source": [
    "data_in_json=json.loads(temp.text)\n",
    "total_pages=data_in_json['pagination']['totalPages']\n",
    "total_results=data_in_json['pagination']['totalResults']\n",
    "print(total_results)"
   ]
  },
  {
   "cell_type": "code",
   "execution_count": 152,
   "metadata": {},
   "outputs": [
    {
     "name": "stderr",
     "output_type": "stream",
     "text": [
      "100%|██████████| 73/73 [00:43<00:00,  1.70it/s]\n"
     ]
    }
   ],
   "source": [
    "product_links={}\n",
    "counter=0\n",
    "total_pages+=1\n",
    "for i in tqdm(range(0,total_pages)):\n",
    "    try:\n",
    "        data=rt.get(f'https://prodsearch.tatacliq.com/products/mpl/search/?searchText=women%3Arelevance%3Acategory%3AMSH15%3AinStockFlag%3Atrue&isKeywordRedirect=true&isKeywordRedirectEnabled=true&channel=WEB&isMDE=true&isTextSearch=false&isFilter=false&qc=false&test=v1&page={i}&isPwa=true&pageSize=40&typeID=all',headers=headers)\n",
    "        data_in_json=json.loads(data.text)\n",
    "        for j in data_in_json['searchresult']:\n",
    "            product_links[counter]='https://www.tatacliq.com'+j['webURL']\n",
    "            counter+=1\n",
    "    except:\n",
    "        continue\n"
   ]
  },
  {
   "cell_type": "code",
   "execution_count": 154,
   "metadata": {},
   "outputs": [],
   "source": [
    "pkfile=open('women_watches','wb')\n",
    "pickle.dump(product_links,pkfile)\n",
    "pkfile.close()"
   ]
  },
  {
   "cell_type": "code",
   "execution_count": 11,
   "metadata": {},
   "outputs": [],
   "source": [
    "pickle_off=open('women_watches','rb')\n",
    "product_links=pickle.load(pickle_off)"
   ]
  },
  {
   "cell_type": "code",
   "execution_count": 12,
   "metadata": {},
   "outputs": [
    {
     "data": {
      "text/plain": [
       "2845"
      ]
     },
     "execution_count": 12,
     "metadata": {},
     "output_type": "execute_result"
    }
   ],
   "source": [
    "len(product_links)"
   ]
  },
  {
   "cell_type": "code",
   "execution_count": 13,
   "metadata": {},
   "outputs": [],
   "source": [
    "product_code=product_links[0].split('/p-')[1]\n",
    "data=rt.get(f'https://www.tatacliq.com/marketplacewebservices/v2/mpl/products/productDetails/{product_code}?isPwa=true&isMDE=true',headers=headers)\n",
    "data_in_json=json.loads(data.text)"
   ]
  },
  {
   "cell_type": "code",
   "execution_count": 15,
   "metadata": {},
   "outputs": [
    {
     "data": {
      "text/plain": [
       "'Watches'"
      ]
     },
     "execution_count": 15,
     "metadata": {},
     "output_type": "execute_result"
    }
   ],
   "source": [
    "data_in_json['categoryHierarchy'][0]['category_name']"
   ]
  },
  {
   "cell_type": "code",
   "execution_count": 16,
   "metadata": {},
   "outputs": [
    {
     "name": "stderr",
     "output_type": "stream",
     "text": [
      "100%|██████████| 2845/2845 [43:57<00:00,  1.08it/s]  \n"
     ]
    }
   ],
   "source": [
    "brand_names={}\n",
    "product_names={}\n",
    "primary_image_links_dict={}\n",
    "secondary_image_links_dict={}\n",
    "sizes={}\n",
    "price={}\n",
    "mrp={}\n",
    "category={}\n",
    "description={}\n",
    "gender={}\n",
    "for i in tqdm(range(len(product_links))):\n",
    "    try:\n",
    "        product_code=product_links[i].split('/p-')[1]\n",
    "        data=rt.get(f'https://www.tatacliq.com/marketplacewebservices/v2/mpl/products/productDetails/{product_code}?isPwa=true&isMDE=true',headers=headers)\n",
    "        data_in_json=json.loads(data.text)\n",
    "        product_names[i]=data_in_json['productName']\n",
    "        brand_names[i]=data_in_json['brandName']\n",
    "        sizes_temp=[]\n",
    "        if 'variantOptions' in data_in_json.keys():\n",
    "            for j in data_in_json['variantOptions']:\n",
    "                if j['sizelink']['isAvailable']:\n",
    "                    sizes_temp.append(j['sizelink']['size'])\n",
    "            sizes[i]=sizes_temp\n",
    "        else:\n",
    "            sizes[i]=['OneSize']\n",
    "        mrp[i]=data_in_json['mrpPrice']['value']\n",
    "        price[i]=data_in_json['winningSellerPrice']['value']\n",
    "        category[i]=data_in_json['categoryHierarchy'][0]['category_name']\n",
    "        #if re.search('Women',data_in_json['categoryHierarchy'][0]['category_name']):\n",
    "        gender[i]='Women'\n",
    "        description[i]=data_in_json['productDescription']\n",
    "        primary_image_links_dict[i]=data_in_json['galleryImagesList'][0]['galleryImages'][0]['value']\n",
    "        img_temp=[]\n",
    "        for j in range(1,len(data_in_json['galleryImagesList'])):\n",
    "            img_temp.append(data_in_json['galleryImagesList'][j]['galleryImages'][0]['value'])\n",
    "        secondary_image_links_dict[i]=img_temp\n",
    "    except:\n",
    "        continue"
   ]
  },
  {
   "cell_type": "code",
   "execution_count": 18,
   "metadata": {},
   "outputs": [],
   "source": [
    "con=sq.connect(r\"TataCliq.db\")  \n",
    "cur=con.cursor()\n",
    "cur.execute('CREATE TABLE product_details (Website varchar(40) not null,Product_Link text PRIMARY KEY,Product_Name varchar(50) not null,Product_Brand varchar(50) not null,Product_Category varchar(50),Size_Avail varchar(20) not null,Price int not null,MRP int not null,Gender varchar(15) not null,Description text not null,Primary_Image_Links text not null,Secondary_Image_Links text not null,Affiliate_Link text not null )')\n",
    "for i in range(len(product_links)):\n",
    "    try:\n",
    "        if i in brand_names.keys() and i in product_names.keys() and i in secondary_image_links_dict.keys() and i in sizes.keys() and i in price.keys() and i in mrp.keys() and i in description.keys() and i in gender.keys()  and i in primary_image_links_dict.keys() and i in category.keys():\n",
    "            if brand_names[i] != '' and primary_image_links_dict[i] != ''  and product_names[i] != '' and ','.join(secondary_image_links_dict[i]) != '' and ','.join(sizes[i]) != '' and price[i] != '' and mrp[i] != '' and brand_names[i] != '' and description[i] != '' and category[i] !='':\n",
    "                cur.execute('insert into product_details  values(%r,%r,%r,%r,%r,%r,%d,%d,%r,%r,%r,%r,%r)'%('https://www.tatacliq.com/',product_links[i],product_names[i],brand_names[i],category[i],','.join(set(sizes[i])),price[i],mrp[i],gender[i],description[i],primary_image_links_dict[i],','.join(secondary_image_links_dict[i]),''))\n",
    "    except:\n",
    "        pass\n",
    "con.commit()\n",
    "con.close()"
   ]
  },
  {
   "cell_type": "markdown",
   "metadata": {},
   "source": [
    "# Men"
   ]
  },
  {
   "cell_type": "markdown",
   "metadata": {},
   "source": [
    "## All Clothing"
   ]
  },
  {
   "cell_type": "code",
   "execution_count": 45,
   "metadata": {},
   "outputs": [],
   "source": [
    "temp=rt.get('https://www.tatacliq.com/marketplacewebservices/v2/mpl/products/searchProducts?searchText=mens%3Arelevance%3Acategory%3AMSH11%3AinStockFlag%3Atrue&isKeywordRedirect=true&isKeywordRedirectEnabled=true&channel=WEB&isMDE=true&isTextSearch=false&isFilter=false&qc=false&test=v1&page=0&isPwa=true&pageSize=40&typeID=all',headers=headers)"
   ]
  },
  {
   "cell_type": "code",
   "execution_count": 46,
   "metadata": {},
   "outputs": [
    {
     "name": "stdout",
     "output_type": "stream",
     "text": [
      "81518\n"
     ]
    }
   ],
   "source": [
    "data_in_json=json.loads(temp.text)\n",
    "total_pages=data_in_json['pagination']['totalPages']\n",
    "total_results=data_in_json['pagination']['totalResults']\n",
    "print(total_results)"
   ]
  },
  {
   "cell_type": "code",
   "execution_count": 47,
   "metadata": {},
   "outputs": [
    {
     "name": "stderr",
     "output_type": "stream",
     "text": [
      "100%|██████████| 2039/2039 [1:11:56<00:00,  2.12s/it]\n"
     ]
    }
   ],
   "source": [
    "counter=0\n",
    "total_pages+=1\n",
    "for i in tqdm(range(0,total_pages)):\n",
    "    try:\n",
    "        data=rt.get(f'https://www.tatacliq.com/marketplacewebservices/v2/mpl/products/searchProducts?searchText=mens%3Arelevance%3Acategory%3AMSH11%3AinStockFlag%3Atrue&isKeywordRedirect=true&isKeywordRedirectEnabled=true&channel=WEB&isMDE=true&isTextSearch=false&isFilter=false&qc=false&test=v1&page={i}&isPwa=true&pageSize=40&typeID=all',headers=headers)\n",
    "        data_in_json=json.loads(data.text)\n",
    "        for j in data_in_json['searchresult']:\n",
    "            product_links[counter]='https://www.tatacliq.com'+j['webURL']\n",
    "            counter+=1\n",
    "    except:\n",
    "        continue\n"
   ]
  },
  {
   "cell_type": "code",
   "execution_count": 48,
   "metadata": {},
   "outputs": [
    {
     "data": {
      "text/plain": [
       "81553"
      ]
     },
     "execution_count": 48,
     "metadata": {},
     "output_type": "execute_result"
    }
   ],
   "source": [
    "len(product_links)"
   ]
  },
  {
   "cell_type": "code",
   "execution_count": 49,
   "metadata": {},
   "outputs": [],
   "source": [
    "pkfile=open('men_clotings','wb')\n",
    "pickle.dump(product_links,pkfile)\n",
    "pkfile.close()"
   ]
  },
  {
   "cell_type": "code",
   "execution_count": 4,
   "metadata": {},
   "outputs": [],
   "source": [
    "pkfile_off=open('men_clotings','rb')\n",
    "product_links=pickle.load(pkfile_off)"
   ]
  },
  {
   "cell_type": "code",
   "execution_count": 5,
   "metadata": {},
   "outputs": [
    {
     "data": {
      "text/plain": [
       "81553"
      ]
     },
     "execution_count": 5,
     "metadata": {},
     "output_type": "execute_result"
    }
   ],
   "source": [
    "len(product_links)"
   ]
  },
  {
   "cell_type": "code",
   "execution_count": null,
   "metadata": {},
   "outputs": [
    {
     "name": "stderr",
     "output_type": "stream",
     "text": [
      " 52%|█████▏    | 11249/21553 [2:58:15<3:43:56,  1.30s/it] "
     ]
    }
   ],
   "source": [
    "brand_names={}\n",
    "product_names={}\n",
    "primary_image_links_dict={}\n",
    "secondary_image_links_dict={}\n",
    "sizes={}\n",
    "price={}\n",
    "mrp={}\n",
    "category={}\n",
    "description={}\n",
    "gender={}\n",
    "for i in tqdm(range(len(product_links))):\n",
    "    try:\n",
    "        product_code=product_links[i].split('/p-')[1]\n",
    "        data=rt.get(f'https://www.tatacliq.com/marketplacewebservices/v2/mpl/products/productDetails/{product_code}?isPwa=true&isMDE=true',headers=headers)\n",
    "        data_in_json=json.loads(data.text)\n",
    "        product_names[i]=data_in_json['productName']\n",
    "        brand_names[i]=data_in_json['brandName']\n",
    "        sizes_temp=[]\n",
    "        for j in data_in_json['variantOptions']:\n",
    "            if j['sizelink']['isAvailable']:\n",
    "                sizes_temp.append(j['sizelink']['size'])\n",
    "        sizes[i]=sizes_temp\n",
    "        mrp[i]=data_in_json['mrpPrice']['value']\n",
    "        price[i]=data_in_json['winningSellerPrice']['value']\n",
    "        #if re.search('Women',data_in_json['categoryHierarchy'][0]['category_name']):\n",
    "        gender[i]='Men'\n",
    "        category[i]=data_in_json['categoryHierarchy'][len(data_in_json['categoryHierarchy'])-1]['category_name']\n",
    "        description[i]=data_in_json['productDescription']\n",
    "        primary_image_links_dict[i]=data_in_json['galleryImagesList'][0]['galleryImages'][0]['value']\n",
    "        img_temp=[]\n",
    "        for j in range(1,len(data_in_json['galleryImagesList'])):\n",
    "            img_temp.append(data_in_json['galleryImagesList'][j]['galleryImages'][0]['value'])\n",
    "        secondary_image_links_dict[i]=img_temp\n",
    "    except:\n",
    "        continue"
   ]
  },
  {
   "cell_type": "code",
   "execution_count": null,
   "metadata": {},
   "outputs": [],
   "source": [
    "len(product_links),len(mrp),len(price),len(description),len(gender),len(brand_names),len(product_names),len(primary_image_links_dict),len(secondary_image_links_dict),len(category)"
   ]
  },
  {
   "cell_type": "code",
   "execution_count": null,
   "metadata": {},
   "outputs": [],
   "source": [
    "con=sq.connect(r\"TataCliq.db\")  \n",
    "cur=con.cursor()\n",
    "\n",
    "for i in range(len(product_links)):\n",
    "    try:\n",
    "        if i in brand_names.keys() and i in product_names.keys() and i in secondary_image_links_dict.keys() and i in sizes.keys() and i in price.keys() and i in mrp.keys() and i in description.keys() and i in gender.keys()  and i in primary_image_links_dict.keys() and i in category.keys():\n",
    "            if brand_names[i] != '' and primary_image_links_dict[i] != ''  and product_names[i] != '' and ','.join(secondary_image_links_dict[i]) != '' and ','.join(sizes[i]) != '' and price[i] != '' and mrp[i] != '' and brand_names[i] != '' and description[i] != '' and category[i] !='':\n",
    "                cur.execute('insert into product_details  values(%r,%r,%r,%r,%r,%r,%d,%d,%r,%r,%r,%r,%r)'%('https://www.tatacliq.com/',product_links[i],product_names[i],brand_names[i],category[i],','.join(set(sizes[i])),price[i],mrp[i],gender[i],description[i],primary_image_links_dict[i],','.join(secondary_image_links_dict[i]),''))\n",
    "    except:\n",
    "        pass\n",
    "con.commit()\n",
    "con.close()"
   ]
  },
  {
   "cell_type": "markdown",
   "metadata": {},
   "source": [
    "## Footwear"
   ]
  },
  {
   "cell_type": "code",
   "execution_count": 52,
   "metadata": {},
   "outputs": [],
   "source": [
    "temp=rt.get('https://prodsearch.tatacliq.com/products/mpl/search/?searchText=mens%3Arelevance%3Acategory%3AMSH13%3AinStockFlag%3Atrue&isKeywordRedirect=false&isKeywordRedirectEnabled=true&channel=WEB&isMDE=true&isTextSearch=false&isFilter=false&page=0&isPwa=true&pageSize=40&typeID=all',headers=headers)"
   ]
  },
  {
   "cell_type": "code",
   "execution_count": 54,
   "metadata": {},
   "outputs": [
    {
     "name": "stdout",
     "output_type": "stream",
     "text": [
      "21063\n"
     ]
    }
   ],
   "source": [
    "data_in_json=json.loads(temp.text)\n",
    "total_pages=data_in_json['pagination']['totalPages']\n",
    "total_results=data_in_json['pagination']['totalResults']\n",
    "print(total_results)"
   ]
  },
  {
   "cell_type": "code",
   "execution_count": 55,
   "metadata": {},
   "outputs": [
    {
     "name": "stderr",
     "output_type": "stream",
     "text": [
      "100%|██████████| 528/528 [10:40<00:00,  1.21s/it]\n"
     ]
    }
   ],
   "source": [
    "counter=0\n",
    "total_pages+=1\n",
    "for i in tqdm(range(0,total_pages)):\n",
    "    try:\n",
    "        data=rt.get(f'https://prodsearch.tatacliq.com/products/mpl/search/?searchText=mens%3Arelevance%3Acategory%3AMSH13%3AinStockFlag%3Atrue&isKeywordRedirect=false&isKeywordRedirectEnabled=true&channel=WEB&isMDE=true&isTextSearch=false&isFilter=false&page={i}&isPwa=true&pageSize=40&typeID=all',headers=headers)\n",
    "        data_in_json=json.loads(data.text)\n",
    "        for j in data_in_json['searchresult']:\n",
    "            product_links[counter]='https://www.tatacliq.com'+j['webURL']\n",
    "            counter+=1\n",
    "    except:\n",
    "        continue\n"
   ]
  },
  {
   "cell_type": "code",
   "execution_count": 56,
   "metadata": {},
   "outputs": [
    {
     "data": {
      "text/plain": [
       "21063"
      ]
     },
     "execution_count": 56,
     "metadata": {},
     "output_type": "execute_result"
    }
   ],
   "source": [
    "len(product_links)"
   ]
  },
  {
   "cell_type": "code",
   "execution_count": 57,
   "metadata": {},
   "outputs": [],
   "source": [
    "pkfile=open('men_footwear','wb')\n",
    "pickle.dump(product_links,pkfile)\n",
    "pkfile.close()"
   ]
  },
  {
   "cell_type": "code",
   "execution_count": 69,
   "metadata": {},
   "outputs": [],
   "source": [
    "pkfile_off=open('men_footwear','rb')\n",
    "product_links=pickle.load(pkfile_off)"
   ]
  },
  {
   "cell_type": "code",
   "execution_count": 70,
   "metadata": {},
   "outputs": [
    {
     "name": "stderr",
     "output_type": "stream",
     "text": [
      "100%|██████████| 21063/21063 [4:22:10<00:00,  1.34it/s]    \n"
     ]
    }
   ],
   "source": [
    "brand_names={}\n",
    "product_names={}\n",
    "primary_image_links_dict={}\n",
    "secondary_image_links_dict={}\n",
    "sizes={}\n",
    "price={}\n",
    "mrp={}\n",
    "category={}\n",
    "description={}\n",
    "gender={}\n",
    "for i in tqdm(range(len(product_links))):\n",
    "    try:\n",
    "        product_code=product_links[i].split('/p-')[1]\n",
    "        data=rt.get(f'https://www.tatacliq.com/marketplacewebservices/v2/mpl/products/productDetails/{product_code}?isPwa=true&isMDE=true',headers=headers)\n",
    "        data_in_json=json.loads(data.text)\n",
    "        product_names[i]=data_in_json['productName']\n",
    "        brand_names[i]=data_in_json['brandName']\n",
    "        sizes_temp=[]\n",
    "        for j in data_in_json['variantOptions']:\n",
    "            if j['sizelink']['isAvailable']:\n",
    "                sizes_temp.append(j['sizelink']['size'])\n",
    "        if(len(sizes_temp)==0):\n",
    "            sizes[i]=['OpenSize']\n",
    "        else:\n",
    "            sizes[i]=sizes_temp\n",
    "        mrp[i]=data_in_json['mrpPrice']['value']\n",
    "        price[i]=data_in_json['winningSellerPrice']['value']\n",
    "        #if re.search('Women',data_in_json['categoryHierarchy'][0]['category_name']):\n",
    "        gender[i]='Men'\n",
    "        category[i]=data_in_json['categoryHierarchy'][0]['category_name']\n",
    "        description[i]=data_in_json['productDescription']\n",
    "        primary_image_links_dict[i]=data_in_json['galleryImagesList'][0]['galleryImages'][0]['value']\n",
    "        img_temp=[]\n",
    "        for j in range(1,len(data_in_json['galleryImagesList'])):\n",
    "            img_temp.append(data_in_json['galleryImagesList'][j]['galleryImages'][0]['value'])\n",
    "        secondary_image_links_dict[i]=img_temp\n",
    "    except:\n",
    "        continue"
   ]
  },
  {
   "cell_type": "code",
   "execution_count": 71,
   "metadata": {},
   "outputs": [
    {
     "data": {
      "text/plain": [
       "18577"
      ]
     },
     "execution_count": 71,
     "metadata": {},
     "output_type": "execute_result"
    }
   ],
   "source": [
    "len(product_names)"
   ]
  },
  {
   "cell_type": "code",
   "execution_count": 72,
   "metadata": {},
   "outputs": [],
   "source": [
    "con=sq.connect(r\"TataCliq.db\")  \n",
    "cur=con.cursor()\n",
    "\n",
    "for i in range(len(product_links)):\n",
    "    try:\n",
    "        if i in brand_names.keys() and i in product_names.keys() and i in secondary_image_links_dict.keys() and i in sizes.keys() and i in price.keys() and i in mrp.keys() and i in description.keys() and i in gender.keys()  and i in primary_image_links_dict.keys() and i in category.keys():\n",
    "            if brand_names[i] != '' and primary_image_links_dict[i] != ''  and product_names[i] != '' and ','.join(secondary_image_links_dict[i]) != '' and ','.join(sizes[i]) != '' and price[i] != '' and mrp[i] != '' and brand_names[i] != '' and description[i] != '' and category[i] !='':\n",
    "                cur.execute('insert into product_details  values(%r,%r,%r,%r,%r,%r,%d,%d,%r,%r,%r,%r,%r)'%('https://www.tatacliq.com/',product_links[i],product_names[i],brand_names[i],category[i],','.join(set(sizes[i])),price[i],mrp[i],gender[i],description[i],primary_image_links_dict[i],','.join(secondary_image_links_dict[i]),''))\n",
    "    except:\n",
    "        pass\n",
    "con.commit()\n",
    "con.close()"
   ]
  },
  {
   "cell_type": "markdown",
   "metadata": {},
   "source": [
    "## Accessories"
   ]
  },
  {
   "cell_type": "code",
   "execution_count": 71,
   "metadata": {},
   "outputs": [],
   "source": [
    "temp=rt.get('https://prodsearch.tatacliq.com/products/mpl/search/?searchText=mens%3Arelevance%3Acategory%3AMSH16%3AinStockFlag%3Atrue&isKeywordRedirect=true&isKeywordRedirectEnabled=true&channel=WEB&isMDE=true&isTextSearch=false&isFilter=false&qc=false&test=v1&page=0&isPwa=true&pageSize=40&typeID=all')"
   ]
  },
  {
   "cell_type": "code",
   "execution_count": 72,
   "metadata": {},
   "outputs": [
    {
     "name": "stdout",
     "output_type": "stream",
     "text": [
      "6839\n"
     ]
    }
   ],
   "source": [
    "data_in_json=json.loads(temp.text)\n",
    "total_pages=data_in_json['pagination']['totalPages']\n",
    "total_results=data_in_json['pagination']['totalResults']\n",
    "print(total_results)"
   ]
  },
  {
   "cell_type": "code",
   "execution_count": 73,
   "metadata": {},
   "outputs": [
    {
     "name": "stderr",
     "output_type": "stream",
     "text": [
      "100%|██████████| 172/172 [03:18<00:00,  1.16s/it]\n"
     ]
    }
   ],
   "source": [
    "product_links={}\n",
    "counter=0\n",
    "total_pages+=1\n",
    "for i in tqdm(range(0,total_pages)):\n",
    "    try:\n",
    "        data=rt.get(f'https://prodsearch.tatacliq.com/products/mpl/search/?searchText=mens%3Arelevance%3Acategory%3AMSH16%3AinStockFlag%3Atrue&isKeywordRedirect=true&isKeywordRedirectEnabled=true&channel=WEB&isMDE=true&isTextSearch=false&isFilter=false&qc=false&test=v1&page={i}&isPwa=true&pageSize=40&typeID=all',headers=headers)\n",
    "        data_in_json=json.loads(data.text)\n",
    "        for j in data_in_json['searchresult']:\n",
    "            product_links[counter]='https://www.tatacliq.com'+j['webURL']\n",
    "            counter+=1\n",
    "    except:\n",
    "        continue\n"
   ]
  },
  {
   "cell_type": "code",
   "execution_count": 74,
   "metadata": {},
   "outputs": [
    {
     "data": {
      "text/plain": [
       "6839"
      ]
     },
     "execution_count": 74,
     "metadata": {},
     "output_type": "execute_result"
    }
   ],
   "source": [
    "len(product_links)"
   ]
  },
  {
   "cell_type": "code",
   "execution_count": 75,
   "metadata": {},
   "outputs": [],
   "source": [
    "pkfile=open('men_acc','wb')\n",
    "pickle.dump(product_links,pkfile)\n",
    "pkfile.close()"
   ]
  },
  {
   "cell_type": "code",
   "execution_count": 41,
   "metadata": {},
   "outputs": [],
   "source": [
    "pkfile_off=open('men_acc','rb')\n",
    "product_links=pickle.load(pkfile_off)"
   ]
  },
  {
   "cell_type": "code",
   "execution_count": 44,
   "metadata": {},
   "outputs": [
    {
     "name": "stderr",
     "output_type": "stream",
     "text": [
      "100%|██████████| 6839/6839 [2:07:46<00:00,  1.12s/it]  \n"
     ]
    }
   ],
   "source": [
    "brand_names={}\n",
    "product_names={}\n",
    "primary_image_links_dict={}\n",
    "secondary_image_links_dict={}\n",
    "sizes={}\n",
    "price={}\n",
    "mrp={}\n",
    "category={}\n",
    "description={}\n",
    "gender={}\n",
    "for i in tqdm(range(len(product_links))):\n",
    "    try:\n",
    "        product_code=product_links[i].split('/p-')[1]\n",
    "        data=rt.get(f'https://www.tatacliq.com/marketplacewebservices/v2/mpl/products/productDetails/{product_code}?isPwa=true&isMDE=true',headers=headers)\n",
    "        data_in_json=json.loads(data.text)\n",
    "        product_names[i]=data_in_json['productName']\n",
    "        brand_names[i]=data_in_json['brandName']\n",
    "        sizes_temp=[]\n",
    "        for j in data_in_json['variantOptions']:\n",
    "            if j['sizelink']['isAvailable']:\n",
    "                sizes_temp.append(j['sizelink']['size'])\n",
    "        if(len(sizes_temp)==0):\n",
    "            sizes[i]=['OpenSize']\n",
    "        else:\n",
    "            sizes[i]=sizes_temp\n",
    "        mrp[i]=data_in_json['mrpPrice']['value']\n",
    "        price[i]=data_in_json['winningSellerPrice']['value']\n",
    "        #if re.search('Women',data_in_json['categoryHierarchy'][0]['category_name']):\n",
    "        gender[i]='Men'\n",
    "        category[i]=data_in_json['categoryHierarchy'][1]['category_name']\n",
    "        description[i]=data_in_json['productDescription']\n",
    "        primary_image_links_dict[i]=data_in_json['galleryImagesList'][0]['galleryImages'][0]['value']\n",
    "        img_temp=[]\n",
    "        for j in range(1,len(data_in_json['galleryImagesList'])):\n",
    "            img_temp.append(data_in_json['galleryImagesList'][j]['galleryImages'][0]['value'])\n",
    "        secondary_image_links_dict[i]=img_temp\n",
    "    except:\n",
    "        continue"
   ]
  },
  {
   "cell_type": "code",
   "execution_count": 56,
   "metadata": {},
   "outputs": [],
   "source": [
    "con=sq.connect(r\"TataCliq.db\")  \n",
    "cur=con.cursor()\n",
    "\n",
    "for i in range(len(product_links)):\n",
    "    try:\n",
    "        if i in brand_names.keys() and i in product_names.keys() and i in secondary_image_links_dict.keys() and i in sizes.keys() and i in price.keys() and i in mrp.keys() and i in description.keys() and i in gender.keys()  and i in primary_image_links_dict.keys() and i in category.keys():\n",
    "            if brand_names[i] != '' and primary_image_links_dict[i] != ''  and product_names[i] != '' and ','.join(secondary_image_links_dict[i]) != '' and ','.join(sizes[i]) != '' and price[i] != '' and mrp[i] != '' and brand_names[i] != '' and description[i] != '' and category[i] !='':\n",
    "                cur.execute('insert into product_details  values(%r,%r,%r,%r,%r,%r,%d,%d,%r,%r,%r,%r,%r)'%('https://www.tatacliq.com/',product_links[i],product_names[i],brand_names[i],category[i],'OpenSize',price[i],mrp[i],gender[i],description[i],primary_image_links_dict[i],','.join(secondary_image_links_dict[i]),''))\n",
    "    except:\n",
    "        pass\n",
    "con.commit()\n",
    "con.close()"
   ]
  },
  {
   "cell_type": "markdown",
   "metadata": {},
   "source": [
    "## Watches"
   ]
  },
  {
   "cell_type": "code",
   "execution_count": 78,
   "metadata": {},
   "outputs": [],
   "source": [
    "temp=rt.get('https://prodsearch.tatacliq.com/products/mpl/search/?searchText=mens%3Arelevance%3Acategory%3AMSH15%3AinStockFlag%3Atrue&isKeywordRedirect=true&isKeywordRedirectEnabled=true&channel=WEB&isMDE=true&isTextSearch=false&isFilter=false&qc=false&test=v1&page=0&isPwa=true&pageSize=40&typeID=all')"
   ]
  },
  {
   "cell_type": "code",
   "execution_count": 79,
   "metadata": {},
   "outputs": [
    {
     "name": "stdout",
     "output_type": "stream",
     "text": [
      "3180\n"
     ]
    }
   ],
   "source": [
    "data_in_json=json.loads(temp.text)\n",
    "total_pages=data_in_json['pagination']['totalPages']\n",
    "total_results=data_in_json['pagination']['totalResults']\n",
    "print(total_results)"
   ]
  },
  {
   "cell_type": "code",
   "execution_count": 80,
   "metadata": {},
   "outputs": [
    {
     "name": "stderr",
     "output_type": "stream",
     "text": [
      "100%|██████████| 81/81 [00:56<00:00,  1.44it/s]\n"
     ]
    }
   ],
   "source": [
    "product_links={}\n",
    "counter=0\n",
    "total_pages+=1\n",
    "for i in tqdm(range(0,total_pages)):\n",
    "    try:\n",
    "        data=rt.get(f'https://prodsearch.tatacliq.com/products/mpl/search/?searchText=mens%3Arelevance%3Acategory%3AMSH15%3AinStockFlag%3Atrue&isKeywordRedirect=true&isKeywordRedirectEnabled=true&channel=WEB&isMDE=true&isTextSearch=false&isFilter=false&qc=false&test=v1&page={i}&isPwa=true&pageSize=40&typeID=all',headers=headers)\n",
    "        data_in_json=json.loads(data.text)\n",
    "        for j in data_in_json['searchresult']:\n",
    "            product_links[counter]='https://www.tatacliq.com'+j['webURL']\n",
    "            counter+=1\n",
    "    except:\n",
    "        continue\n"
   ]
  },
  {
   "cell_type": "code",
   "execution_count": 81,
   "metadata": {},
   "outputs": [
    {
     "data": {
      "text/plain": [
       "3180"
      ]
     },
     "execution_count": 81,
     "metadata": {},
     "output_type": "execute_result"
    }
   ],
   "source": [
    "len(product_links)"
   ]
  },
  {
   "cell_type": "code",
   "execution_count": 82,
   "metadata": {},
   "outputs": [],
   "source": [
    "pkfile=open('men_watches','wb')\n",
    "pickle.dump(product_links,pkfile)\n",
    "pkfile.close()"
   ]
  },
  {
   "cell_type": "code",
   "execution_count": 57,
   "metadata": {},
   "outputs": [],
   "source": [
    "pkfile_off=open('men_watches','rb')\n",
    "product_links=pickle.load(pkfile_off)"
   ]
  },
  {
   "cell_type": "code",
   "execution_count": 58,
   "metadata": {},
   "outputs": [
    {
     "data": {
      "text/plain": [
       "3180"
      ]
     },
     "execution_count": 58,
     "metadata": {},
     "output_type": "execute_result"
    }
   ],
   "source": [
    "len(product_links)"
   ]
  },
  {
   "cell_type": "code",
   "execution_count": 61,
   "metadata": {},
   "outputs": [
    {
     "name": "stderr",
     "output_type": "stream",
     "text": [
      "100%|██████████| 3180/3180 [44:06<00:00,  1.20it/s] \n"
     ]
    }
   ],
   "source": [
    "brand_names={}\n",
    "product_names={}\n",
    "primary_image_links_dict={}\n",
    "secondary_image_links_dict={}\n",
    "sizes={}\n",
    "price={}\n",
    "mrp={}\n",
    "category={}\n",
    "description={}\n",
    "gender={}\n",
    "for i in tqdm(range(len(product_links))):\n",
    "    try:\n",
    "        product_code=product_links[i].split('/p-')[1]\n",
    "        data=rt.get(f'https://www.tatacliq.com/marketplacewebservices/v2/mpl/products/productDetails/{product_code}?isPwa=true&isMDE=true',headers=headers)\n",
    "        data_in_json=json.loads(data.text)\n",
    "        product_names[i]=data_in_json['productName']\n",
    "        brand_names[i]=data_in_json['brandName']\n",
    "        sizes_temp=[]\n",
    "        if 'variantOptions' in data_in_json.keys():\n",
    "            for j in data_in_json['variantOptions']:\n",
    "                if j['sizelink']['isAvailable']:\n",
    "                    sizes_temp.append(j['sizelink']['size'])\n",
    "            sizes[i]=sizes_temp\n",
    "        else:\n",
    "            sizes[i]=['OneSize']\n",
    "        mrp[i]=data_in_json['mrpPrice']['value']\n",
    "        price[i]=data_in_json['winningSellerPrice']['value']\n",
    "        #if re.search('Women',data_in_json['categoryHierarchy'][0]['category_name']):\n",
    "        gender[i]='Men'\n",
    "        category[i]=data_in_json['categoryHierarchy'][len(data_in_json['categoryHierarchy'])-1]['category_name']\n",
    "        description[i]=data_in_json['productDescription']\n",
    "        primary_image_links_dict[i]=data_in_json['galleryImagesList'][0]['galleryImages'][0]['value']\n",
    "        img_temp=[]\n",
    "        for j in range(1,len(data_in_json['galleryImagesList'])):\n",
    "            img_temp.append(data_in_json['galleryImagesList'][j]['galleryImages'][0]['value'])\n",
    "        secondary_image_links_dict[i]=img_temp\n",
    "    except:\n",
    "        continue"
   ]
  },
  {
   "cell_type": "code",
   "execution_count": 62,
   "metadata": {},
   "outputs": [
    {
     "name": "stdout",
     "output_type": "stream",
     "text": [
      "https://www.tatacliq.com/unlisted-by-kenneth-cole-ul51148003-analog-combo-watch-for-men/p-mp000000007708731\n",
      "5750\n",
      "1725\n",
      "Sporting the right amount of soberness, these men's analog watches from Unlisted are must-have wrist essentials. The round dials are secured by a mineral glass and are functional on a quartz movement. The dials feature plain three hands, stick and numeral markings and a crown for time adjustment. One of them is also equipped with three subdials, two pushers, a stainless steel strap and a push-button closure, while the other one is fitted with buckle closure.\n",
      "Men\n",
      "Unlisted by Kenneth Cole\n",
      "Unlisted by Kenneth Cole UL51148003 Analog Combo Watch for Men\n",
      "Analog\n",
      "//img.tatacliq.com/images/i6/437Wx649H/MP000000007708731_437Wx649H_20200913162941.jpeg\n",
      "['//img.tatacliq.com/images/i6/437Wx649H/MP000000007708731_437Wx649H_20200913162944.jpeg', '//img.tatacliq.com/images/i6/437Wx649H/MP000000007708731_437Wx649H_20200913162947.jpeg', '//img.tatacliq.com/images/i6/437Wx649H/MP000000007708731_437Wx649H_20200913162949.jpeg', '//img.tatacliq.com/images/i6/437Wx649H/MP000000007708731_437Wx649H_20200913162951.jpeg', '//img.tatacliq.com/images/i6/437Wx649H/MP000000007708731_437Wx649H_20200913162954.jpeg']\n",
      "['OneSize']\n"
     ]
    }
   ],
   "source": [
    "value_tester(3000)"
   ]
  },
  {
   "cell_type": "code",
   "execution_count": 63,
   "metadata": {},
   "outputs": [],
   "source": [
    "con=sq.connect(r\"TataCliq.db\")  \n",
    "cur=con.cursor()\n",
    "\n",
    "for i in range(len(product_links)):\n",
    "    try:\n",
    "        if i in brand_names.keys() and i in product_names.keys() and i in secondary_image_links_dict.keys() and i in sizes.keys() and i in price.keys() and i in mrp.keys() and i in description.keys() and i in gender.keys()  and i in primary_image_links_dict.keys() and i in category.keys():\n",
    "            if brand_names[i] != '' and primary_image_links_dict[i] != ''  and product_names[i] != '' and ','.join(secondary_image_links_dict[i]) != '' and ','.join(sizes[i]) != '' and price[i] != '' and mrp[i] != '' and brand_names[i] != '' and description[i] != '' and category[i] !='':\n",
    "                cur.execute('insert into product_details  values(%r,%r,%r,%r,%r,%r,%d,%d,%r,%r,%r,%r,%r)'%('https://www.tatacliq.com/',product_links[i],product_names[i],brand_names[i],category[i],','.join(set(sizes[i])),price[i],mrp[i],gender[i],description[i],primary_image_links_dict[i],','.join(secondary_image_links_dict[i]),''))\n",
    "    except:\n",
    "        pass\n",
    "con.commit()\n",
    "con.close()"
   ]
  },
  {
   "cell_type": "markdown",
   "metadata": {},
   "source": [
    "## Jewellary"
   ]
  },
  {
   "cell_type": "code",
   "execution_count": 83,
   "metadata": {},
   "outputs": [],
   "source": [
    "temp=rt.get('https://prodsearch.tatacliq.com/products/mpl/search/?searchText=mens%3Arelevance%3Acategory%3AMSH20%3AinStockFlag%3Atrue&isKeywordRedirect=true&isKeywordRedirectEnabled=true&channel=WEB&isMDE=true&isTextSearch=false&isFilter=false&qc=false&test=v1&page=0&isPwa=true&pageSize=40&typeID=all')"
   ]
  },
  {
   "cell_type": "code",
   "execution_count": 84,
   "metadata": {},
   "outputs": [
    {
     "name": "stdout",
     "output_type": "stream",
     "text": [
      "110\n"
     ]
    }
   ],
   "source": [
    "data_in_json=json.loads(temp.text)\n",
    "total_pages=data_in_json['pagination']['totalPages']\n",
    "total_results=data_in_json['pagination']['totalResults']\n",
    "print(total_results)"
   ]
  },
  {
   "cell_type": "code",
   "execution_count": 85,
   "metadata": {},
   "outputs": [
    {
     "name": "stderr",
     "output_type": "stream",
     "text": [
      "100%|██████████| 4/4 [00:02<00:00,  1.89it/s]\n"
     ]
    }
   ],
   "source": [
    "product_links={}\n",
    "counter=0\n",
    "total_pages+=1\n",
    "for i in tqdm(range(0,total_pages)):\n",
    "    try:\n",
    "        data=rt.get(f'https://prodsearch.tatacliq.com/products/mpl/search/?searchText=mens%3Arelevance%3Acategory%3AMSH20%3AinStockFlag%3Atrue&isKeywordRedirect=true&isKeywordRedirectEnabled=true&channel=WEB&isMDE=true&isTextSearch=false&isFilter=false&qc=false&test=v1&page={i}&isPwa=true&pageSize=40&typeID=all',headers=headers)\n",
    "        data_in_json=json.loads(data.text)\n",
    "        for j in data_in_json['searchresult']:\n",
    "            product_links[counter]='https://www.tatacliq.com'+j['webURL']\n",
    "            counter+=1\n",
    "    except:\n",
    "        continue\n"
   ]
  },
  {
   "cell_type": "code",
   "execution_count": 65,
   "metadata": {},
   "outputs": [
    {
     "data": {
      "text/plain": [
       "110"
      ]
     },
     "execution_count": 65,
     "metadata": {},
     "output_type": "execute_result"
    }
   ],
   "source": [
    "len(product_links)"
   ]
  },
  {
   "cell_type": "code",
   "execution_count": 86,
   "metadata": {},
   "outputs": [],
   "source": [
    "pkfile=open('men_jewellary','wb')\n",
    "pickle.dump(product_links,pkfile)\n",
    "pkfile.close()"
   ]
  },
  {
   "cell_type": "code",
   "execution_count": 64,
   "metadata": {},
   "outputs": [],
   "source": [
    "pkfile_off=open('men_jewellary','rb')\n",
    "product_links=pickle.load(pkfile_off)"
   ]
  },
  {
   "cell_type": "code",
   "execution_count": 66,
   "metadata": {},
   "outputs": [
    {
     "name": "stderr",
     "output_type": "stream",
     "text": [
      "100%|██████████| 110/110 [04:00<00:00,  2.19s/it]\n"
     ]
    }
   ],
   "source": [
    "brand_names={}\n",
    "product_names={}\n",
    "primary_image_links_dict={}\n",
    "secondary_image_links_dict={}\n",
    "sizes={}\n",
    "price={}\n",
    "mrp={}\n",
    "category={}\n",
    "description={}\n",
    "gender={}\n",
    "for i in tqdm(range(len(product_links))):\n",
    "    try:\n",
    "        product_code=product_links[i].split('/p-')[1]\n",
    "        data=rt.get(f'https://www.tatacliq.com/marketplacewebservices/v2/mpl/products/productDetails/{product_code}?isPwa=true&isMDE=true',headers=headers)\n",
    "        data_in_json=json.loads(data.text)\n",
    "        product_names[i]=data_in_json['productName']\n",
    "        brand_names[i]=data_in_json['brandName']\n",
    "        sizes_temp=[]\n",
    "        for j in data_in_json['variantOptions']:\n",
    "            if j['sizelink']['isAvailable']:\n",
    "                sizes_temp.append(j['sizelink']['size'])\n",
    "        sizes[i]=sizes_temp\n",
    "        mrp[i]=data_in_json['mrpPrice']['value']\n",
    "        price[i]=data_in_json['winningSellerPrice']['value']\n",
    "        #if re.search('Women',data_in_json['categoryHierarchy'][0]['category_name']):\n",
    "        gender[i]='Men'\n",
    "        category[i]=data_in_json['categoryHierarchy'][len(data_in_json['categoryHierarchy'])-1]['category_name']\n",
    "        description[i]=data_in_json['productDescription']\n",
    "        primary_image_links_dict[i]=data_in_json['galleryImagesList'][0]['galleryImages'][0]['value']\n",
    "        img_temp=[]\n",
    "        for j in range(1,len(data_in_json['galleryImagesList'])):\n",
    "            img_temp.append(data_in_json['galleryImagesList'][j]['galleryImages'][0]['value'])\n",
    "        secondary_image_links_dict[i]=img_temp\n",
    "    except:\n",
    "        continue"
   ]
  },
  {
   "cell_type": "code",
   "execution_count": 67,
   "metadata": {},
   "outputs": [
    {
     "name": "stdout",
     "output_type": "stream",
     "text": [
      "https://www.tatacliq.com/malabar-gold-and-diamonds-950-platinum-diamond-mine-ring-for-men/p-mp000000007400707\n",
      "32857\n",
      "31217\n",
      "Add a tinge of stylish aura to your style with this platinum ring from Malabar Gold and Diamonds. Crafted with care using 950 platinum, this ring is sure to enhance your look with its refined finish. The adornment of GH colored diamonds of VVS and VS clarity magnifies its overall charm. Team it with any attire of your choice and look your elegant best, effortlessly. The PGI & IGI certification further ensure authenticity.\n",
      "Men\n",
      "Malabar Gold and Diamonds\n",
      "Malabar Gold and Diamonds 950 Platinum & Diamond Mine Ring for Men\n",
      "Rings\n",
      "//img.tatacliq.com/images/i7/437Wx649H/MP000000007400705_437Wx649H_202011040559561.jpeg\n",
      "['//img.tatacliq.com/images/i7/437Wx649H/MP000000007400705_437Wx649H_202011040559572.jpeg']\n",
      "['IND-18', 'IND-19', 'IND-20', 'IND-21', 'IND-22']\n"
     ]
    }
   ],
   "source": [
    "value_tester(100)"
   ]
  },
  {
   "cell_type": "code",
   "execution_count": 68,
   "metadata": {},
   "outputs": [],
   "source": [
    "con=sq.connect(r\"TataCliq.db\")  \n",
    "cur=con.cursor()\n",
    "\n",
    "for i in range(len(product_links)):\n",
    "    try:\n",
    "        if i in brand_names.keys() and i in product_names.keys() and i in secondary_image_links_dict.keys() and i in sizes.keys() and i in price.keys() and i in mrp.keys() and i in description.keys() and i in gender.keys()  and i in primary_image_links_dict.keys() and i in category.keys():\n",
    "            if brand_names[i] != '' and primary_image_links_dict[i] != ''  and product_names[i] != '' and ','.join(secondary_image_links_dict[i]) != '' and ','.join(sizes[i]) != '' and price[i] != '' and mrp[i] != '' and brand_names[i] != '' and description[i] != '' and category[i] !='':\n",
    "                cur.execute('insert into product_details  values(%r,%r,%r,%r,%r,%r,%d,%d,%r,%r,%r,%r,%r)'%('https://www.tatacliq.com/',product_links[i],product_names[i],brand_names[i],category[i],','.join(set(sizes[i])),price[i],mrp[i],gender[i],description[i],primary_image_links_dict[i],','.join(secondary_image_links_dict[i]),''))\n",
    "    except:\n",
    "        pass\n",
    "con.commit()\n",
    "con.close()"
   ]
  },
  {
   "cell_type": "code",
   "execution_count": null,
   "metadata": {},
   "outputs": [],
   "source": []
  }
 ],
 "metadata": {
  "kernelspec": {
   "display_name": "Python 3",
   "language": "python",
   "name": "python3"
  },
  "language_info": {
   "codemirror_mode": {
    "name": "ipython",
    "version": 3
   },
   "file_extension": ".py",
   "mimetype": "text/x-python",
   "name": "python",
   "nbconvert_exporter": "python",
   "pygments_lexer": "ipython3",
   "version": "3.8.5"
  }
 },
 "nbformat": 4,
 "nbformat_minor": 4
}
