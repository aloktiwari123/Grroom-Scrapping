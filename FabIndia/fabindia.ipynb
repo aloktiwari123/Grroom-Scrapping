{
 "cells": [
  {
   "cell_type": "code",
   "execution_count": 5,
   "metadata": {},
   "outputs": [],
   "source": [
    "from bs4 import BeautifulSoup\n",
    "import requests\n",
    "import pandas as pd\n",
    "from pandas import Series, DataFrame\n",
    "from ipywidgets import FloatProgress\n",
    "from time import sleep\n",
    "from IPython.display import display\n",
    "import re\n",
    "import pickle\n",
    "from urlextract import URLExtract\n",
    "import json\n",
    "import sqlite3\n",
    "import datetime\n",
    "from tqdm import tqdm"
   ]
  },
  {
   "cell_type": "code",
   "execution_count": 6,
   "metadata": {},
   "outputs": [],
   "source": [
    "headers = {'User-Agent' : 'Mozilla/5.0 (Macintosh; Intel Mac OS X 10_14_5) AppleWebKit/537.36 (KHTML, like Gecko) Chrome/84.0.4147.89 Safari/537.36'}"
   ]
  },
  {
   "cell_type": "code",
   "execution_count": 19,
   "metadata": {},
   "outputs": [],
   "source": [
    "Product_Link=[]\n",
    "Product_Name=[]\n",
    "Product_Brand=[]\n",
    "Size_Available=[]\n",
    "Price=[]\n",
    "MRP=[]\n",
    "Gender=[]\n",
    "Description=[]\n",
    "Cat_list=[]\n",
    "Primary_Image_Link=[]\n",
    "Secondary_Image_Link=[]"
   ]
  },
  {
   "cell_type": "markdown",
   "metadata": {},
   "source": [
    "# Mens"
   ]
  },
  {
   "cell_type": "code",
   "execution_count": 20,
   "metadata": {},
   "outputs": [],
   "source": [
    "category_id={'cat100274':'Kurtas',\n",
    "            'cat100279':'Nehru-jackets-blazers',\n",
    "            'cat100280':'Pyjamas and Churidars',\n",
    "            'cat100283':'Salwars and Dhotis',\n",
    "            'cat100287':'Shirts',\n",
    "            'cat100290':'Shawls and Mufflers',\n",
    "            'cat100294':'Trousers and Shorts',\n",
    "            'cat100271':\"Bags & Accessories\",\n",
    "            'cat100272':'Footwear'}"
   ]
  },
  {
   "cell_type": "markdown",
   "metadata": {},
   "source": [
    "## Clothings"
   ]
  },
  {
   "cell_type": "code",
   "execution_count": 21,
   "metadata": {},
   "outputs": [
    {
     "name": "stderr",
     "output_type": "stream",
     "text": [
      "100%|██████████| 56/56 [01:41<00:00,  1.82s/it]\n"
     ]
    }
   ],
   "source": [
    "mens_links=[]\n",
    "\n",
    "for  i in tqdm(range(0,3078,55)):\n",
    "    try:\n",
    "        result=requests.get(f'https://www.fabindia.com/ccstoreui/v1/products?totalResults=true&totalExpandedResults=true&catalogId=cloudCatalog&offset={i}&limit=55&sort=creationDate%3Adesc&categoryId=cat100273&includeChildren=true&storePriceListGroupId=INR',headers=headers)\n",
    "        get=result.content\n",
    "        js=json.loads(get)\n",
    "        for j in js['items']:\n",
    "            mens=[]\n",
    "            mens.append('https://www.fabindia.com/'+j['route'])\n",
    "            mens.append(j['id'])\n",
    "            mens_links.append(mens)\n",
    "    except:\n",
    "        pass"
   ]
  },
  {
   "cell_type": "markdown",
   "metadata": {},
   "source": [
    "## Footwear"
   ]
  },
  {
   "cell_type": "code",
   "execution_count": 22,
   "metadata": {},
   "outputs": [
    {
     "name": "stderr",
     "output_type": "stream",
     "text": [
      "100%|██████████| 2/2 [00:02<00:00,  1.44s/it]\n"
     ]
    }
   ],
   "source": [
    "for  i in tqdm(range(0,110,55)):\n",
    "    try:\n",
    "        result=requests.get(f'https://www.fabindia.com/ccstoreui/v1/products?totalResults=true&totalExpandedResults=true&catalogId=cloudCatalog&offset={i}&limit=55&sort=creationDate%3Adesc&categoryId=cat100272&includeChildren=true&storePriceListGroupId=INR',headers=headers)\n",
    "        get=result.content\n",
    "        js=json.loads(get)\n",
    "        for j in js['items']:\n",
    "            mens=[]\n",
    "            mens.append('https://www.fabindia.com/'+j['route'])\n",
    "            mens.append(j['id'])\n",
    "            mens_links.append(mens)\n",
    "    except:\n",
    "        pass"
   ]
  },
  {
   "cell_type": "markdown",
   "metadata": {},
   "source": [
    "## Bags"
   ]
  },
  {
   "cell_type": "code",
   "execution_count": 23,
   "metadata": {},
   "outputs": [
    {
     "name": "stderr",
     "output_type": "stream",
     "text": [
      "100%|██████████| 1/1 [00:00<00:00,  1.14it/s]\n"
     ]
    }
   ],
   "source": [
    "for  i in tqdm(range(0,1,55)):\n",
    "    try:\n",
    "        result=requests.get(f'https://www.fabindia.com/ccstoreui/v1/products?totalResults=true&totalExpandedResults=true&catalogId=cloudCatalog&offset={i}&limit=55&sort=creationDate%3Adesc&categoryId=cat100271&includeChildren=true&storePriceListGroupId=INR',headers=headers)\n",
    "        get=result.content\n",
    "        js=json.loads(get)\n",
    "        for j in js['items']:\n",
    "            mens=[]\n",
    "            mens.append('https://www.fabindia.com/'+j['route'])\n",
    "            mens.append(j['id'])\n",
    "            mens_links.append(mens)\n",
    "    except:\n",
    "        pass"
   ]
  },
  {
   "cell_type": "code",
   "execution_count": 24,
   "metadata": {
    "jupyter": {
     "source_hidden": true
    }
   },
   "outputs": [
    {
     "name": "stderr",
     "output_type": "stream",
     "text": [
      "100%|██████████| 3179/3179 [38:00<00:00,  1.39it/s]\n"
     ]
    }
   ],
   "source": [
    "err=[]\n",
    "for i in tqdm(mens_links):\n",
    "    try:\n",
    "        result = requests.get(f'https://www.fabindia.com/ccstoreui/v1/products?productIds={i[1]}',headers=headers)\n",
    "        get = result.content\n",
    "        js=json.loads(get)\n",
    "        \n",
    "        product_name=js['items'][0]['primaryImageAltText']\n",
    "        product_brand=js['items'][0]['brand']\n",
    "        product_link=i[0]\n",
    "        data=js['items'][0]['parentCategoryIdPath'].split('>')\n",
    "        for i in data:\n",
    "            if category_id.get(i) !=None:\n",
    "                cat=category_id.get(i)\n",
    "                break\n",
    "        product_cat=cat\n",
    "        product_des=js['items'][0]['longDescription']\n",
    "        product_mrp=int(js['items'][0]['listPrices']['INR'])\n",
    "        if js['items'][0]['salePrices']['INR'] == None:\n",
    "            product_price=product_mrp\n",
    "        else:\n",
    "            product_price=int(js['items'][0]['salePrices']['INR'])\n",
    "            \n",
    "        images=[]\n",
    "        for j in js['items'][0]['thumbImageURLs']:\n",
    "            images.append(\"https://www.fabindia.com/\"+j.split('&')[0])\n",
    "        \n",
    "        sizes=[]\n",
    "        for k in js['items'][0]['childSKUs']:\n",
    "            sizes.append(k['x_actualSize'])\n",
    "        size_avl=','.join(sizes)\n",
    "        primary_link=images[0]\n",
    "        secondary_link=','.join(images[1:])\n",
    "\n",
    "    \n",
    "    except:\n",
    "        err.append(i)\n",
    "        pass\n",
    "    \n",
    "    else:\n",
    "        Product_Link.append(product_link)\n",
    "        Product_Brand.append(product_brand)\n",
    "        Product_Name.append(product_name)\n",
    "        Description.append(product_des)\n",
    "        Gender.append('Men')\n",
    "        Cat_list.append(product_cat)\n",
    "        MRP.append(product_mrp)\n",
    "        Price.append(product_price)\n",
    "        Primary_Image_Link.append(primary_link)\n",
    "        Secondary_Image_Link.append(secondary_link)\n",
    "        Size_Available.append(size_avl)\n"
   ]
  },
  {
   "cell_type": "code",
   "execution_count": 25,
   "metadata": {},
   "outputs": [],
   "source": [
    "mens=pd.DataFrame({\n",
    "    \n",
    "    \"Website\":'https://www.fabindia.com/',\n",
    "    \"Product_Link\":Product_Link,\n",
    "    \"Product_Name\":Product_Name,\n",
    "    \"Product_Brand\":Product_Brand,\n",
    "    \"Product_Category\":Cat_list,\n",
    "    \"Size_Avail\":Size_Available,\n",
    "    \"Price\":Price,\n",
    "    \"MRP\":MRP,\n",
    "    \"Gender\":Gender,\n",
    "    \"Description\":Description,\n",
    "    \"Primary_Image_Links\":Primary_Image_Link,\n",
    "    \"Secondary_Image_Links\":Secondary_Image_Link,\n",
    "    \"Affiliate_Link\":''\n",
    "    \n",
    "})"
   ]
  },
  {
   "cell_type": "code",
   "execution_count": 26,
   "metadata": {},
   "outputs": [
    {
     "data": {
      "text/plain": [
       "(3179, 13)"
      ]
     },
     "execution_count": 26,
     "metadata": {},
     "output_type": "execute_result"
    }
   ],
   "source": [
    "mens.shape"
   ]
  },
  {
   "cell_type": "code",
   "execution_count": 28,
   "metadata": {},
   "outputs": [],
   "source": [
    "mens.to_csv(\"fab_mens.csv\",index=False)"
   ]
  },
  {
   "cell_type": "code",
   "execution_count": 29,
   "metadata": {},
   "outputs": [],
   "source": [
    "con=sqlite3.connect(\"fabindia.db\")  \n",
    "cur=con.cursor()\n",
    "cur.execute('CREATE TABLE product_details (Website varchar(40) not null,Product_Link text PRIMARY KEY,Product_Name varchar(50) not null,Product_Brand varchar(50) not null,Product_Category varchar(50),Size_Avail varchar(20) not null,Price int not null,MRP int not null,Gender varchar(15) not null,Description text not null,Primary_Image_Links text not null,Secondary_Image_Links text not null,Affiliate_Link text not null )')\n",
    "for i in range(len(Product_Link)):\n",
    "    try:\n",
    "        cur.execute('insert into product_details  values(%r,%r,%r,%r,%r,%r,%d,%d,%r,%r,%r,%r,%r)'%('https://www.craftsvilla.com/',Product_Link[i],Product_Name[i],Product_Brand[i],Cat_list[i],Size_Available[i],Price[i],MRP[i],Gender[i],Description[i],Primary_Image_Link[i],Secondary_Image_Link[i],''))\n",
    "    except:\n",
    "        pass\n",
    "con.commit()\n",
    "con.close()"
   ]
  },
  {
   "cell_type": "markdown",
   "metadata": {},
   "source": [
    "# Women"
   ]
  },
  {
   "cell_type": "code",
   "execution_count": 30,
   "metadata": {},
   "outputs": [],
   "source": [
    "womens_cat_id={'cat100315':'capes-shrugs',\n",
    "               'cat100316':'dresses',\n",
    "               'cat100318':'dupattas',\n",
    "               'cat100320':'Jackets & Coats',\n",
    "               'cat100323':'Kurtas',\n",
    "               'cat100328':'Pants & Palazzos',\n",
    "               'cat100332':'Salwars, Churidars & Patialas',\n",
    "               'cat100336':'Saris & Blouses',\n",
    "               'cat100339':'awls & Mufflers',\n",
    "               'cat100342':'Skirts',\n",
    "               'cat320004':\"Stoles and Scarves\",\n",
    "               'cat100346':\"Tops & Shirts\",\n",
    "               'cat100349':\"Tunics\",\n",
    "               'cat100300':'Bags',\n",
    "               'cat100303':'Jewellery',\n",
    "               'cat100302':'Footwear'\n",
    "               }"
   ]
  },
  {
   "cell_type": "markdown",
   "metadata": {},
   "source": [
    "## Clothings"
   ]
  },
  {
   "cell_type": "code",
   "execution_count": 38,
   "metadata": {},
   "outputs": [
    {
     "name": "stderr",
     "output_type": "stream",
     "text": [
      "100%|██████████| 159/159 [01:39<00:00,  1.60it/s]\n"
     ]
    }
   ],
   "source": [
    "womens_links=[]\n",
    "\n",
    "for  i in tqdm(range(0,8580,54)):\n",
    "    try:\n",
    "        result=requests.get(f'https://www.fabindia.com/ccstoreui/v1/products?totalResults=true&totalExpandedResults=true&catalogId=cloudCatalog&offset={i}&limit=55&sort=creationDate%3Adesc&categoryId=cat100314&includeChildren=true&storePriceListGroupId=INR',headers=headers)\n",
    "        get=result.content\n",
    "        js=json.loads(get)\n",
    "        for j in js['items']:\n",
    "            womens=[]\n",
    "            womens.append('https://www.fabindia.com/'+j['route'])\n",
    "            womens.append(j['id'])\n",
    "            womens_links.append(womens)\n",
    "    except:\n",
    "        pass"
   ]
  },
  {
   "cell_type": "markdown",
   "metadata": {},
   "source": [
    "## Bags"
   ]
  },
  {
   "cell_type": "code",
   "execution_count": 32,
   "metadata": {},
   "outputs": [
    {
     "name": "stderr",
     "output_type": "stream",
     "text": [
      "100%|██████████| 16/16 [00:26<00:00,  1.67s/it]\n"
     ]
    }
   ],
   "source": [
    "womens_links=[]\n",
    "for  i in tqdm(range(0,880,55)):\n",
    "    try:\n",
    "        result=requests.get(f'https://www.fabindia.com/ccstoreui/v1/products?totalResults=true&totalExpandedResults=true&catalogId=cloudCatalog&offset={i}&limit=55&sort=creationDate%3Adesc&categoryId=cat100300&includeChildren=true&storePriceListGroupId=INR',headers=headers)\n",
    "        get=result.content\n",
    "        js=json.loads(get)\n",
    "        for j in js['items']:\n",
    "            womens=[]\n",
    "            womens.append('https://www.fabindia.com/'+j['route'])\n",
    "            womens.append(j['id'])\n",
    "            womens_links.append(womens)\n",
    "    except:\n",
    "        pass"
   ]
  },
  {
   "cell_type": "markdown",
   "metadata": {},
   "source": [
    "## Footwear"
   ]
  },
  {
   "cell_type": "code",
   "execution_count": 33,
   "metadata": {},
   "outputs": [
    {
     "name": "stderr",
     "output_type": "stream",
     "text": [
      "100%|██████████| 4/4 [00:08<00:00,  2.09s/it]\n"
     ]
    }
   ],
   "source": [
    "for  i in tqdm(range(0,220,55)):\n",
    "    try:\n",
    "        result=requests.get(f'https://www.fabindia.com/ccstoreui/v1/products?totalResults=true&totalExpandedResults=true&catalogId=cloudCatalog&offset={i}&limit=55&sort=creationDate%3Adesc&categoryId=cat100302&includeChildren=true&storePriceListGroupId=INR',headers=headers)\n",
    "        get=result.content\n",
    "        js=json.loads(get)\n",
    "        for j in js['items']:\n",
    "            womens=[]\n",
    "            womens.append('https://www.fabindia.com/'+j['route'])\n",
    "            womens.append(j['id'])\n",
    "            womens_links.append(womens)\n",
    "    except:\n",
    "        pass"
   ]
  },
  {
   "cell_type": "markdown",
   "metadata": {},
   "source": [
    "## Jewelley"
   ]
  },
  {
   "cell_type": "code",
   "execution_count": 34,
   "metadata": {},
   "outputs": [
    {
     "name": "stderr",
     "output_type": "stream",
     "text": [
      "100%|██████████| 80/80 [01:08<00:00,  1.16it/s]\n"
     ]
    }
   ],
   "source": [
    "for  i in tqdm(range(0,4400,55)):\n",
    "    try:\n",
    "        result=requests.get(f'https://www.fabindia.com/ccstoreui/v1/products?totalResults=true&totalExpandedResults=true&catalogId=cloudCatalog&offset={i}&limit=55&sort=creationDate%3Adesc&categoryId=cat100302&includeChildren=true&storePriceListGroupId=INR',headers=headers)\n",
    "        get=result.content\n",
    "        js=json.loads(get)\n",
    "        for j in js['items']:\n",
    "            womens=[]\n",
    "            womens.append('https://www.fabindia.com/'+j['route'])\n",
    "            womens.append(j['id'])\n",
    "            womens_links.append(womens)\n",
    "    except:\n",
    "        pass"
   ]
  },
  {
   "cell_type": "code",
   "execution_count": 39,
   "metadata": {},
   "outputs": [
    {
     "name": "stderr",
     "output_type": "stream",
     "text": [
      "100%|██████████| 8745/8745 [1:52:44<00:00,  1.29it/s]   \n"
     ]
    }
   ],
   "source": [
    "err=[]\n",
    "for i in tqdm(womens_links):\n",
    "    try:\n",
    "        result = requests.get(f'https://www.fabindia.com/ccstoreui/v1/products?productIds={i[1]}',headers=headers)\n",
    "        get = result.content\n",
    "        js=json.loads(get)\n",
    "        \n",
    "        product_name=js['items'][0]['primaryImageAltText']\n",
    "        product_brand=js['items'][0]['brand']\n",
    "        product_link=i[0]\n",
    "        data=js['items'][0]['parentCategoryIdPath'].split('>')\n",
    "        for i in data:\n",
    "            if womens_cat_id.get(i) !=None:\n",
    "                cat=womens_cat_id.get(i)\n",
    "                break\n",
    "        product_cat=cat\n",
    "        product_des=js['items'][0]['longDescription']\n",
    "        product_mrp=int(js['items'][0]['listPrices']['INR'])\n",
    "        if js['items'][0]['salePrices']['INR'] == None:\n",
    "            product_price=product_mrp\n",
    "        else:\n",
    "            product_price=int(js['items'][0]['salePrices']['INR'])\n",
    "            \n",
    "        images=[]\n",
    "        for j in js['items'][0]['thumbImageURLs']:\n",
    "            images.append(\"https://www.fabindia.com/\"+j.split('&')[0])\n",
    "        \n",
    "        sizes=[]\n",
    "        for k in js['items'][0]['childSKUs']:\n",
    "            sizes.append(k['x_actualSize'])\n",
    "        size_avl=','.join(sizes)\n",
    "        primary_link=images[0]\n",
    "        secondary_link=','.join(images[1:])\n",
    "\n",
    "    \n",
    "    except:\n",
    "        err.append(i)\n",
    "        pass\n",
    "    \n",
    "    else:\n",
    "        Product_Link.append(product_link)\n",
    "        Product_Brand.append(product_brand)\n",
    "        Product_Name.append(product_name)\n",
    "        Description.append(product_des)\n",
    "        Gender.append('Women')\n",
    "        Cat_list.append(product_cat)\n",
    "        MRP.append(product_mrp)\n",
    "        Price.append(product_price)\n",
    "        Primary_Image_Link.append(primary_link)\n",
    "        Secondary_Image_Link.append(secondary_link)\n",
    "        Size_Available.append(size_avl)\n"
   ]
  },
  {
   "cell_type": "code",
   "execution_count": 40,
   "metadata": {},
   "outputs": [],
   "source": [
    "out=pd.DataFrame({\n",
    "    \n",
    "    \"Website\":'https://www.fabindia.com/',\n",
    "    \"Product_Link\":Product_Link,\n",
    "    \"Product_Name\":Product_Name,\n",
    "    \"Product_Brand\":Product_Brand,\n",
    "    \"Product_Category\":Cat_list,\n",
    "    \"Size_Avail\":Size_Available,\n",
    "    \"Price\":Price,\n",
    "    \"MRP\":MRP,\n",
    "    \"Gender\":Gender,\n",
    "    \"Description\":Description,\n",
    "    \"Primary_Image_Links\":Primary_Image_Link,\n",
    "    \"Secondary_Image_Links\":Secondary_Image_Link,\n",
    "    \"Affiliate_Link\":''\n",
    "    \n",
    "})"
   ]
  },
  {
   "cell_type": "code",
   "execution_count": 41,
   "metadata": {},
   "outputs": [
    {
     "data": {
      "text/plain": [
       "(13147, 13)"
      ]
     },
     "execution_count": 41,
     "metadata": {},
     "output_type": "execute_result"
    }
   ],
   "source": [
    "out.shape"
   ]
  },
  {
   "cell_type": "code",
   "execution_count": 43,
   "metadata": {},
   "outputs": [],
   "source": [
    "out.to_csv(\"fabindia.csv\",index=False)"
   ]
  },
  {
   "cell_type": "code",
   "execution_count": 50,
   "metadata": {},
   "outputs": [],
   "source": [
    "con=sqlite3.connect(\"fabindia.db\")  \n",
    "cur=con.cursor()\n",
    "cur.execute('CREATE TABLE product_details (Website varchar(40) not null,Product_Link text PRIMARY KEY,Product_Name varchar(50) not null,Product_Brand varchar(50) not null,Product_Category varchar(50),Size_Avail varchar(20) not null,Price int not null,MRP int not null,Gender varchar(15) not null,Description text not null,Primary_Image_Links text not null,Secondary_Image_Links text not null,Affiliate_Link text not null )')\n",
    "out.to_sql('product_details',con,if_exists='replace', index = False)\n",
    "con.commit()\n",
    "con.close()"
   ]
  },
  {
   "cell_type": "code",
   "execution_count": 1,
   "metadata": {},
   "outputs": [],
   "source": [
    "li=[1,2,3,4]"
   ]
  },
  {
   "cell_type": "code",
   "execution_count": 4,
   "metadata": {},
   "outputs": [
    {
     "data": {
      "text/plain": [
       "3"
      ]
     },
     "execution_count": 4,
     "metadata": {},
     "output_type": "execute_result"
    }
   ],
   "source": [
    "li[-2]"
   ]
  },
  {
   "cell_type": "code",
   "execution_count": null,
   "metadata": {},
   "outputs": [],
   "source": []
  }
 ],
 "metadata": {
  "kernelspec": {
   "display_name": "Python 3",
   "language": "python",
   "name": "python3"
  },
  "language_info": {
   "codemirror_mode": {
    "name": "ipython",
    "version": 3
   },
   "file_extension": ".py",
   "mimetype": "text/x-python",
   "name": "python",
   "nbconvert_exporter": "python",
   "pygments_lexer": "ipython3",
   "version": "3.8.5"
  }
 },
 "nbformat": 4,
 "nbformat_minor": 4
}
