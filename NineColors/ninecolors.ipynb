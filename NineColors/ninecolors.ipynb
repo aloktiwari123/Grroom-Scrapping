{
 "cells": [
  {
   "cell_type": "code",
   "execution_count": 1,
   "id": "7c3ba762-927a-4ac3-87f6-1fd8e8577097",
   "metadata": {},
   "outputs": [],
   "source": [
    "from bs4 import BeautifulSoup\n",
    "import requests\n",
    "import pandas as pd\n",
    "from pandas import Series, DataFrame\n",
    "from ipywidgets import FloatProgress\n",
    "from time import sleep\n",
    "from IPython.display import display\n",
    "import re\n",
    "import pickle\n",
    "#from urlextract import URLExtract\n",
    "import json\n",
    "import sqlite3\n",
    "import datetime\n",
    "from tqdm import tqdm"
   ]
  },
  {
   "cell_type": "code",
   "execution_count": 2,
   "id": "a83ad1a8-47c9-490a-bd51-9b8c0d4d661e",
   "metadata": {},
   "outputs": [],
   "source": [
    "headers = {'User-Agent' : 'Mozilla/5.0 (Macintosh; Intel Mac OS X 10_14_5) AppleWebKit/537.36 (KHTML, like Gecko) Chrome/84.0.4147.89 Safari/537.36'}"
   ]
  },
  {
   "cell_type": "markdown",
   "id": "6e77a4e6-40db-4a26-a921-50a01871b3fc",
   "metadata": {},
   "source": [
    "# Womens"
   ]
  },
  {
   "cell_type": "markdown",
   "id": "fa2ca976-3159-4135-a953-117448d80bad",
   "metadata": {},
   "source": [
    "## Clothings"
   ]
  },
  {
   "cell_type": "code",
   "execution_count": 36,
   "id": "e0cfdd28-6227-4a54-bf03-0d67778ddfef",
   "metadata": {},
   "outputs": [],
   "source": [
    "links=[\n",
    "    ['https://www.ninecolours.com/sarees?page=',310,\"sarees\"],\n",
    "    ['https://www.ninecolours.com/suits?page=',85,\"suits\"],\n",
    "    ['https://www.ninecolours.com/lehengas?page=',62,'lehengas'],\n",
    "    ['https://www.ninecolours.com/kurti?page=',75,'kurti'],\n",
    "    ['https://www.ninecolours.com/gowns?page=',17,'gowns'],\n",
    "    ['https://www.ninecolours.com/quirk-kurti?page=',6,'quirk_kurti']\n",
    "]"
   ]
  },
  {
   "cell_type": "code",
   "execution_count": 37,
   "id": "08bad8c6-5f04-40ae-b672-6a9998efbd0a",
   "metadata": {},
   "outputs": [
    {
     "name": "stderr",
     "output_type": "stream",
     "text": [
      "100%|██████████| 84/84 [04:58<00:00,  3.56s/it]\n",
      "100%|██████████| 61/61 [03:16<00:00,  3.23s/it]\n",
      "100%|██████████| 74/74 [04:06<00:00,  3.34s/it]\n",
      "100%|██████████| 16/16 [00:48<00:00,  3.00s/it]\n",
      "100%|██████████| 5/5 [00:12<00:00,  2.59s/it]\n"
     ]
    }
   ],
   "source": [
    "prod_links=[]\n",
    "for i in links:\n",
    "    for j in tqdm(range(1,i[1])):\n",
    "        try:\n",
    "            result=requests.get(i[0]+str(j),headers=headers)\n",
    "            get=result.content\n",
    "            soup=BeautifulSoup(get,'lxml')\n",
    "            prod=soup.find_all(\"div\",{'class':'item_thumb'})\n",
    "            for k in prod:\n",
    "                try:\n",
    "                    li=[]\n",
    "                    li.append(k.find('a').attrs['href'])\n",
    "                    li.append(i[2])\n",
    "                    prod_links.append(li)\n",
    "                except:\n",
    "                    pass\n",
    "        except:\n",
    "            pass"
   ]
  },
  {
   "cell_type": "code",
   "execution_count": 42,
   "id": "72f0b431-c6f8-4141-840e-ccd77a00d516",
   "metadata": {},
   "outputs": [],
   "source": [
    "Product_Link=[]\n",
    "Product_Name=[]\n",
    "Product_Brand=[]\n",
    "Size_Available=[]\n",
    "Price=[]\n",
    "MRP=[]\n",
    "Gender=[]\n",
    "Description=[]\n",
    "Cat_list=[]\n",
    "Primary_Image_Link=[]\n",
    "Secondary_Image_Link=[]"
   ]
  },
  {
   "cell_type": "code",
   "execution_count": 43,
   "id": "b5e652e9-bf8f-4ee6-85f9-218e144771a5",
   "metadata": {},
   "outputs": [
    {
     "name": "stderr",
     "output_type": "stream",
     "text": [
      "100%|██████████| 100/100 [04:30<00:00,  2.70s/it]\n"
     ]
    }
   ],
   "source": [
    "err=[]\n",
    "for i in tqdm(prod_links):\n",
    "    try:\n",
    "        result = requests.get(i[0],headers=headers)\n",
    "        get = result.content\n",
    "        soup = BeautifulSoup(get,\"lxml\")\n",
    "\n",
    "        product_name=soup.find('div',{'class':'product_column details_boxD'}).h1.text\n",
    "        product_brand=\"nine colours\"\n",
    "        product_link=i[0]\n",
    "        product_cat=i[1]\n",
    "        product_des=soup.find('div',{'class':'description'}).text.lstrip().rstrip()\n",
    "\n",
    "        product_price=int(''.join(soup.find('div',{'class':'updated-price'}).text[2:].split(',')))\n",
    "        if(soup.find('div',{'class':'price-old'})):\n",
    "            product_mrp=int(''.join(soup.find('div',{'class':'price-old'}).text[2:].split(',')))\n",
    "        else:\n",
    "            product_mrp=product_price\n",
    "        if(soup.find('div',{'class':'product_column column_1 product_image_block'})):\n",
    "            img=soup.find('div',{'class':'product_column column_1 product_image_block'}).find_all('li',{'class':'als-item'})\n",
    "            images=[]\n",
    "            for j in img:\n",
    "                images.append(j.find('a').attrs['data-image'])\n",
    "            primary_link=images[0]\n",
    "            secondary_link=\",\".join(images[1:])\n",
    "        else:\n",
    "            primary_link=soup.find('meta',{'property':'twitter:image'}).attrs['content']\n",
    "            secondary_link=\"Not Available\"\n",
    "\n",
    "        size_avl=\"One-Size\"\n",
    "    \n",
    "    except:\n",
    "        err.append(i[0])\n",
    "        pass\n",
    "    \n",
    "    else:\n",
    "        Product_Link.append(product_link)\n",
    "        Product_Brand.append(product_brand)\n",
    "        Product_Name.append(product_name)\n",
    "        Description.append(product_des)\n",
    "        Gender.append('Women')\n",
    "        Cat_list.append(product_cat)\n",
    "        MRP.append(product_mrp)\n",
    "        Price.append(product_price)\n",
    "        Primary_Image_Link.append(primary_link)\n",
    "        Secondary_Image_Link.append(secondary_link)\n",
    "        Size_Available.append(size_avl)"
   ]
  },
  {
   "cell_type": "code",
   "execution_count": 44,
   "id": "dc5f33cf-7ed1-4c20-94e3-955a28396b51",
   "metadata": {},
   "outputs": [],
   "source": [
    "con=sqlite3.connect(\"ninecolors.db\")  \n",
    "cur=con.cursor()\n",
    "cur.execute('CREATE TABLE product_details (Website varchar(40) not null,Product_Link text PRIMARY KEY,Product_Name varchar(50) not null,Product_Brand varchar(50) not null,Product_Category varchar(50),Size_Avail varchar(20) not null,Price int not null,MRP int not null,Gender varchar(15) not null,Description text not null,Primary_Image_Links text not null,Secondary_Image_Links text not null,Affiliate_Link text not null )')\n",
    "for i in range(len(Product_Link)):\n",
    "    try:\n",
    "        cur.execute('insert into product_details  values(%r,%r,%r,%r,%r,%r,%d,%d,%r,%r,%r,%r,%r)'%('https://www.ninecolours.com/',Product_Link[i],Product_Name[i],Product_Brand[i],Cat_list[i],Size_Available[i],Price[i],MRP[i],Gender[i],Description[i],Primary_Image_Link[i],Secondary_Image_Link[i],''))\n",
    "    except:\n",
    "        pass\n",
    "con.commit()\n",
    "con.close()"
   ]
  },
  {
   "cell_type": "markdown",
   "id": "c7c51a26-ca86-4257-a265-015465e62e32",
   "metadata": {},
   "source": [
    "## Jewellery"
   ]
  },
  {
   "cell_type": "code",
   "execution_count": 5,
   "id": "200895dd-77b8-4c3d-a2c4-b1317567dbd5",
   "metadata": {},
   "outputs": [
    {
     "name": "stderr",
     "output_type": "stream",
     "text": [
      "100%|██████████| 70/70 [04:08<00:00,  3.54s/it]\n"
     ]
    }
   ],
   "source": [
    "links=[]\n",
    "for i in tqdm(range(1,71)):\n",
    "    try:\n",
    "        result=requests.get(f\"https://www.ninecolours.com/Jewellery?page={i}\",headers=headers)\n",
    "        get=result.content\n",
    "        soup=BeautifulSoup(get,'lxml')\n",
    "        prod=soup.find_all(\"div\",{'class':'item_thumb'})\n",
    "        for i in prod:\n",
    "            try:\n",
    "                links.append(i.find('a').attrs['href'])\n",
    "            except:\n",
    "                pass\n",
    "    except:\n",
    "        pass"
   ]
  },
  {
   "cell_type": "code",
   "execution_count": 48,
   "id": "2f001be8-e71a-43a4-83a7-6aebc28c7d53",
   "metadata": {},
   "outputs": [],
   "source": [
    "Product_Link=[]\n",
    "Product_Name=[]\n",
    "Product_Brand=[]\n",
    "Size_Available=[]\n",
    "Price=[]\n",
    "MRP=[]\n",
    "Gender=[]\n",
    "Description=[]\n",
    "Cat_list=[]\n",
    "Primary_Image_Link=[]\n",
    "Secondary_Image_Link=[]"
   ]
  },
  {
   "cell_type": "code",
   "execution_count": 49,
   "id": "8ce96450-b881-4c07-bd6c-11ac01e335ca",
   "metadata": {},
   "outputs": [
    {
     "name": "stderr",
     "output_type": "stream",
     "text": [
      "100%|██████████| 100/100 [04:29<00:00,  2.70s/it]\n"
     ]
    }
   ],
   "source": [
    "err=[]\n",
    "for i in tqdm(links):\n",
    "    try:\n",
    "        result = requests.get(i,headers=headers)\n",
    "        get = result.content\n",
    "        soup = BeautifulSoup(get,\"lxml\")\n",
    "\n",
    "        product_name=soup.find('div',{'class':'product_column details_boxD'}).h1.text\n",
    "        product_brand=\"nine colours\"\n",
    "        product_link=i\n",
    "        product_cat='Jewellery'\n",
    "        product_des=soup.find('div',{'class':'description'}).text.lstrip().rstrip()\n",
    "\n",
    "        product_price=int(''.join(soup.find('div',{'class':'updated-price'}).text[2:].split(',')))\n",
    "        product_mrp=int(''.join(soup.find('div',{'class':'price-old'}).text[2:].split(',')))\n",
    "        if(soup.find('div',{'class':'product_column column_1 product_image_block'})):\n",
    "            img=soup.find('div',{'class':'product_column column_1 product_image_block'}).find_all('li',{'class':'als-item'})\n",
    "            images=[]\n",
    "            for j in img:\n",
    "                images.append(j.find('a').attrs['data-image'])\n",
    "            primary_link=images[0]\n",
    "            secondary_link=\",\".join(images[1:])\n",
    "        else:\n",
    "            primary_link=soup.find('meta',{'property':'twitter:image'}).attrs['content']\n",
    "            secondary_link=\"Not Available\"\n",
    "\n",
    "        size_avl=\"One-Size\"\n",
    "    \n",
    "    except:\n",
    "        err.append(i)\n",
    "        pass\n",
    "    \n",
    "    else:\n",
    "        Product_Link.append(product_link)\n",
    "        Product_Brand.append(product_brand)\n",
    "        Product_Name.append(product_name)\n",
    "        Description.append(product_des)\n",
    "        Gender.append('Women')\n",
    "        Cat_list.append(product_cat)\n",
    "        MRP.append(product_mrp)\n",
    "        Price.append(product_price)\n",
    "        Primary_Image_Link.append(primary_link)\n",
    "        Secondary_Image_Link.append(secondary_link)\n",
    "        Size_Available.append(size_avl)"
   ]
  },
  {
   "cell_type": "code",
   "execution_count": 53,
   "id": "6134760a-a7de-4587-b26c-b84ec1f3207d",
   "metadata": {},
   "outputs": [],
   "source": [
    "con=sqlite3.connect(\"ninecolors.db\")  \n",
    "cur=con.cursor()\n",
    "#cur.execute('CREATE TABLE product_details (Website varchar(40) not null,Product_Link text PRIMARY KEY,Product_Name varchar(50) not null,Product_Brand varchar(50) not null,Product_Category varchar(50),Size_Avail varchar(20) not null,Price int not null,MRP int not null,Gender varchar(15) not null,Description text not null,Primary_Image_Links text not null,Secondary_Image_Links text not null,Affiliate_Link text not null )')\n",
    "for i in range(len(Product_Link)):\n",
    "    try:\n",
    "        cur.execute('insert into product_details  values(%r,%r,%r,%r,%r,%r,%d,%d,%r,%r,%r,%r,%r)'%('https://www.ninecolours.com/',Product_Link[i],Product_Name[i],Product_Brand[i],Cat_list[i],Size_Available[i],Price[i],MRP[i],Gender[i],Description[i],Primary_Image_Link[i],Secondary_Image_Link[i],''))\n",
    "    except:\n",
    "        pass\n",
    "con.commit()\n",
    "con.close()"
   ]
  },
  {
   "cell_type": "markdown",
   "id": "a6df3682-11f7-46fb-89ef-157f560830ec",
   "metadata": {},
   "source": [
    "# Mens"
   ]
  },
  {
   "cell_type": "code",
   "execution_count": 3,
   "id": "3a88bbf3-8f38-49a2-bc87-3f638f838e0f",
   "metadata": {},
   "outputs": [
    {
     "name": "stderr",
     "output_type": "stream",
     "text": [
      "100%|██████████| 95/95 [05:28<00:00,  3.45s/it]\n"
     ]
    }
   ],
   "source": [
    "links=[]\n",
    "for i in tqdm(range(1,96)):\n",
    "    try:\n",
    "        result=requests.get(f\"https://www.ninecolours.com/mens?page={i}\",headers=headers)\n",
    "        get=result.content\n",
    "        soup=BeautifulSoup(get,'lxml')\n",
    "        prod=soup.find_all(\"div\",{'class':'item_thumb'})\n",
    "        for i in prod:\n",
    "            try:\n",
    "                links.append(i.find('a').attrs['href'])\n",
    "            except:\n",
    "                pass\n",
    "    except:\n",
    "        pass"
   ]
  },
  {
   "cell_type": "code",
   "execution_count": 31,
   "id": "b6d8be4d-c2c1-4846-9451-5497abdc798f",
   "metadata": {},
   "outputs": [],
   "source": [
    "Product_Link=[]\n",
    "Product_Name=[]\n",
    "Product_Brand=[]\n",
    "Size_Available=[]\n",
    "Price=[]\n",
    "MRP=[]\n",
    "Gender=[]\n",
    "Description=[]\n",
    "Cat_list=[]\n",
    "Primary_Image_Link=[]\n",
    "Secondary_Image_Link=[]"
   ]
  },
  {
   "cell_type": "code",
   "execution_count": 32,
   "id": "ea3e7a7a-eda2-484d-bba0-d4a753da8ebb",
   "metadata": {},
   "outputs": [
    {
     "name": "stderr",
     "output_type": "stream",
     "text": [
      "100%|██████████| 100/100 [04:28<00:00,  2.69s/it]\n"
     ]
    }
   ],
   "source": [
    "err=[]\n",
    "for i in tqdm(links):\n",
    "    try:\n",
    "        result = requests.get(i,headers=headers)\n",
    "        get = result.content\n",
    "        soup = BeautifulSoup(get,\"lxml\")\n",
    "\n",
    "        product_name=soup.find('div',{'class':'product_column details_boxD'}).h1.text\n",
    "        product_brand=\"nine colours\"\n",
    "        product_link=i\n",
    "        product_cat='Ethnic Wear'\n",
    "        product_des=soup.find('div',{'class':'description'}).text.lstrip().rstrip()\n",
    "\n",
    "        product_price=int(''.join(soup.find('div',{'class':'updated-price'}).text[2:].split(',')))\n",
    "        if(soup.find('div',{'class':'price-old'})):\n",
    "            product_mrp=int(''.join(soup.find('div',{'class':'price-old'}).text[2:].split(',')))\n",
    "        else:\n",
    "            product_mrp=product_price\n",
    "        if(soup.find('div',{'class':'product_column column_1 product_image_block'})):\n",
    "            img=soup.find('div',{'class':'product_column column_1 product_image_block'}).find_all('li',{'class':'als-item'})\n",
    "            images=[]\n",
    "            for j in img:\n",
    "                images.append(j.find('a').attrs['data-image'])\n",
    "            primary_link=images[0]\n",
    "            secondary_link=\",\".join(images[1:])\n",
    "        else:\n",
    "            primary_link=soup.find('meta',{'property':'twitter:image'}).attrs['content']\n",
    "            secondary_link=\"Not Available\"\n",
    "        if(soup.find('select',{'class':'required_field std_require_on_cart'})):\n",
    "            sizes=soup.find('select',{'class':'required_field std_require_on_cart'}).find_all('option')[1:]\n",
    "            size=[]\n",
    "            for i in sizes:\n",
    "                size.append(i.text[:-1])\n",
    "            size_avl=','.join(size)\n",
    "        elif(soup.find(\"select\",{'class':'update_option_price'})):\n",
    "            sizes=soup.find('select',{'class':'update_option_price'}).find_all('option')[1:]\n",
    "            size=[]\n",
    "            for i in sizes:\n",
    "                size.append(i.text[:-1])\n",
    "            size_avl=','.join(size)\n",
    "        else:\n",
    "            size_avl=\"One-size\"\n",
    "            \n",
    "            \n",
    "    \n",
    "    except:\n",
    "        err.append(i)\n",
    "        pass\n",
    "    \n",
    "    else:\n",
    "        Product_Link.append(product_link)\n",
    "        Product_Brand.append(product_brand)\n",
    "        Product_Name.append(product_name)\n",
    "        Description.append(product_des)\n",
    "        Gender.append('Men')\n",
    "        Cat_list.append(product_cat)\n",
    "        MRP.append(product_mrp)\n",
    "        Price.append(product_price)\n",
    "        Primary_Image_Link.append(primary_link)\n",
    "        Secondary_Image_Link.append(secondary_link)\n",
    "        Size_Available.append(size_avl)"
   ]
  },
  {
   "cell_type": "code",
   "execution_count": 34,
   "id": "ebbf193b-b991-42a8-ad98-bddd0d88a3af",
   "metadata": {},
   "outputs": [],
   "source": [
    "con=sqlite3.connect(\"ninecolors.db\")  \n",
    "cur=con.cursor()\n",
    "#cur.execute('CREATE TABLE product_details (Website varchar(40) not null,Product_Link text PRIMARY KEY,Product_Name varchar(50) not null,Product_Brand varchar(50) not null,Product_Category varchar(50),Size_Avail varchar(20) not null,Price int not null,MRP int not null,Gender varchar(15) not null,Description text not null,Primary_Image_Links text not null,Secondary_Image_Links text not null,Affiliate_Link text not null )')\n",
    "for i in range(len(Product_Link)):\n",
    "    try:\n",
    "        cur.execute('insert into product_details  values(%r,%r,%r,%r,%r,%r,%d,%d,%r,%r,%r,%r,%r)'%('https://www.ninecolours.com/',Product_Link[i],Product_Name[i],Product_Brand[i],Cat_list[i],Size_Available[i],Price[i],MRP[i],Gender[i],Description[i],Primary_Image_Link[i],Secondary_Image_Link[i],''))\n",
    "    except:\n",
    "        pass\n",
    "con.commit()\n",
    "con.close()"
   ]
  }
 ],
 "metadata": {
  "kernelspec": {
   "display_name": "Python 3",
   "language": "python",
   "name": "python3"
  },
  "language_info": {
   "codemirror_mode": {
    "name": "ipython",
    "version": 3
   },
   "file_extension": ".py",
   "mimetype": "text/x-python",
   "name": "python",
   "nbconvert_exporter": "python",
   "pygments_lexer": "ipython3",
   "version": "3.8.8"
  }
 },
 "nbformat": 4,
 "nbformat_minor": 5
}
