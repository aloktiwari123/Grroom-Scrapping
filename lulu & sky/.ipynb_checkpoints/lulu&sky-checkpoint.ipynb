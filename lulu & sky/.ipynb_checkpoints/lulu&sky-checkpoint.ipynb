{
 "cells": [
  {
   "cell_type": "code",
   "execution_count": 45,
   "metadata": {},
   "outputs": [],
   "source": [
    "from bs4 import BeautifulSoup\n",
    "import requests\n",
    "import pandas as pd\n",
    "from pandas import Series, DataFrame\n",
    "from ipywidgets import FloatProgress\n",
    "from time import sleep\n",
    "from IPython.display import display\n",
    "import re\n",
    "import pickle\n",
    "from urlextract import URLExtract\n",
    "import json\n",
    "import sqlite3\n",
    "import datetime\n",
    "from tqdm import tqdm"
   ]
  },
  {
   "cell_type": "code",
   "execution_count": 2,
   "metadata": {},
   "outputs": [],
   "source": [
    "headers = {'User-Agent' : 'Mozilla/5.0 (Macintosh; Intel Mac OS X 10_14_5) AppleWebKit/537.36 (KHTML, like Gecko) Chrome/84.0.4147.89 Safari/537.36'}"
   ]
  },
  {
   "cell_type": "code",
   "execution_count": 3,
   "metadata": {},
   "outputs": [],
   "source": [
    "result=requests.get('https://www.luluandsky.com/women.html?p=1',headers=headers)\n",
    "get=result.content\n",
    "soup=BeautifulSoup(get,'lxml')"
   ]
  },
  {
   "cell_type": "code",
   "execution_count": 6,
   "metadata": {},
   "outputs": [],
   "source": [
    "prod=soup.find_all('strong',{'class':'product name product-item-name'})"
   ]
  },
  {
   "cell_type": "code",
   "execution_count": 9,
   "metadata": {},
   "outputs": [
    {
     "data": {
      "text/plain": [
       "'https://www.luluandsky.com/grey-non-padded-non-wired-bra.html'"
      ]
     },
     "execution_count": 9,
     "metadata": {},
     "output_type": "execute_result"
    }
   ],
   "source": [
    "prod[0].find('a').attrs['href']"
   ]
  },
  {
   "cell_type": "code",
   "execution_count": 7,
   "metadata": {},
   "outputs": [
    {
     "data": {
      "text/plain": [
       "24"
      ]
     },
     "execution_count": 7,
     "metadata": {},
     "output_type": "execute_result"
    }
   ],
   "source": [
    "len(prod)"
   ]
  },
  {
   "cell_type": "code",
   "execution_count": 12,
   "metadata": {},
   "outputs": [
    {
     "name": "stderr",
     "output_type": "stream",
     "text": [
      "100%|██████████| 47/47 [02:06<00:00,  2.69s/it]\n"
     ]
    }
   ],
   "source": [
    "links=[]\n",
    "for i in tqdm(range(1,48)):\n",
    "    try:\n",
    "        result=requests.get(f\"https://www.luluandsky.com/women.html?p={i}\",headers=headers)\n",
    "        get=result.content\n",
    "        soup=BeautifulSoup(get,'lxml')\n",
    "        prod=soup.find_all('strong',{'class':'product name product-item-name'})\n",
    "        for i in prod:\n",
    "            try:\n",
    "                links.append(i.find('a').attrs['href'])\n",
    "            except:\n",
    "                pass\n",
    "    except:\n",
    "        pass"
   ]
  },
  {
   "cell_type": "code",
   "execution_count": 15,
   "metadata": {},
   "outputs": [
    {
     "data": {
      "text/plain": [
       "'https://www.luluandsky.com/grey-non-padded-non-wired-bra.html'"
      ]
     },
     "execution_count": 15,
     "metadata": {},
     "output_type": "execute_result"
    }
   ],
   "source": [
    "links[0]"
   ]
  },
  {
   "cell_type": "code",
   "execution_count": 17,
   "metadata": {},
   "outputs": [],
   "source": [
    "result=requests.get(links[0],headers=headers)\n",
    "get=result.content\n",
    "soup=BeautifulSoup(get,'lxml')"
   ]
  },
  {
   "cell_type": "code",
   "execution_count": 22,
   "metadata": {},
   "outputs": [
    {
     "data": {
      "text/plain": [
       "'Grey Non Padded Non Wired Bra'"
      ]
     },
     "execution_count": 22,
     "metadata": {},
     "output_type": "execute_result"
    }
   ],
   "source": [
    "soup.find('div',{'class':'product-name'}).find('h2').text"
   ]
  },
  {
   "cell_type": "code",
   "execution_count": 29,
   "metadata": {},
   "outputs": [
    {
     "data": {
      "text/plain": [
       "\"This non-padded wire-free bra is a must-have for your everyday wardrobe. This super-soft cotton will provide you with ultimate comfort. You couldn't have asked for more!\\n\\r\\n• Twin hook and eye closure\\r\\n• Non-padded\\r\\n• Adjustable Straps\\r\\n• Moulded cups\""
      ]
     },
     "execution_count": 29,
     "metadata": {},
     "output_type": "execute_result"
    }
   ],
   "source": [
    "soup.find('ul',{'class':'product-attributes'}).find('div').text"
   ]
  },
  {
   "cell_type": "code",
   "execution_count": 36,
   "metadata": {},
   "outputs": [
    {
     "data": {
      "text/plain": [
       "'MESE FASHIONS PRIVATE LIMITED'"
      ]
     },
     "execution_count": 36,
     "metadata": {},
     "output_type": "execute_result"
    }
   ],
   "source": [
    "soup.find('div',{'class':'model-details'}).find_all('div',{'class':'std'})[1].text.split(':')[1].lstrip().rstrip()"
   ]
  },
  {
   "cell_type": "code",
   "execution_count": 39,
   "metadata": {},
   "outputs": [],
   "source": [
    "sizes=soup.find('ul',{'class':'configurable-swatch-list size-list'}).find_all('li')"
   ]
  },
  {
   "cell_type": "code",
   "execution_count": 40,
   "metadata": {},
   "outputs": [],
   "source": [
    "size=[]\n",
    "for i in sizes:\n",
    "    size.append(i.text)   "
   ]
  },
  {
   "cell_type": "code",
   "execution_count": 41,
   "metadata": {},
   "outputs": [
    {
     "data": {
      "text/plain": [
       "['32B', '32C', '34B', '34C', '36B', '36C', '38B', '38C', '40B', '40C']"
      ]
     },
     "execution_count": 41,
     "metadata": {},
     "output_type": "execute_result"
    }
   ],
   "source": [
    "size"
   ]
  },
  {
   "cell_type": "code",
   "execution_count": 55,
   "metadata": {},
   "outputs": [
    {
     "data": {
      "text/plain": [
       "[<div class=\"gallery-placeholder _block-content-loading\" data-gallery-role=\"gallery-placeholder\">\n",
       " <div class=\"fotorama-item fotorama fotorama1574758096012\" data-gallery-role=\"gallery\">\n",
       " <div data-gallery-role=\"fotorama__focusable-start\" tabindex=\"-1\"></div>\n",
       " <div class=\"fotorama__wrap fotorama__wrap--css3 fotorama__wrap--slide fotorama__wrap--toggle-arrows fotorama__wrap--no-controls\" style=\"min-width: 0px; max-width: 100%;\">\n",
       " <div class=\"fotorama__stage\" data-fotorama-stage=\"fotorama__stage\" style=\"\"><div aria-label=\"Exit fullscreen\" class=\"fotorama__fullscreen-icon\" data-gallery-role=\"fotorama__fullscreen-icon\" role=\"button\" style=\"right: 90px;\" tabindex=\"0\"></div>\n",
       " <div aria-label=\"Previous\" class=\"fotorama__arr fotorama__arr--prev\" data-gallery-role=\"arrow\" role=\"button\" style=\"display: none;\" tabindex=\"0\">\n",
       " <div class=\"fotorama__arr__arr\"></div>\n",
       " </div>\n",
       " <div class=\"fotorama__stage__shaft\" data-gallery-role=\"stage-shaft\" tabindex=\"0\">\n",
       " <div aria-hidden=\"false\" class=\"fotorama__stage__frame fotorama__active fotorama_vertical_ratio fotorama__loaded fotorama__loaded--img\" data-active=\"true\" href=\"https://imgs7.luluandsky.com/fit-in/305x453/c46a684c-ab42-4e06-b225-5637924b47b3/catalog/product/8/9/8907813499149_1_.jpg\" style=\"left: 0px;\">\n",
       " <img alt=\"GREY NON PADDED NON WIRED BRA\" aria-hidden=\"false\" class=\"fotorama__img\" src=\"https://imgs7.luluandsky.com/fit-in/305x453/c46a684c-ab42-4e06-b225-5637924b47b3/catalog/product/8/9/8907813499149_1_.jpg\"/>\n",
       " </div>\n",
       " </div>\n",
       " <div aria-label=\"Next\" class=\"fotorama__arr fotorama__arr--next\" data-gallery-role=\"arrow\" role=\"button\" style=\"right: 90px; display: none;\" tabindex=\"0\">\n",
       " <div class=\"fotorama__arr__arr\"></div>\n",
       " </div>\n",
       " <div class=\"fotorama__video-close\"></div>\n",
       " <div aria-label=\"Zoom in\" class=\"fotorama__zoom-in zoom-in-loaded\" data-gallery-role=\"fotorama__zoom-in\" role=\"button\" tabindex=\"0\"></div>\n",
       " <div aria-label=\"Zoom out\" class=\"fotorama__zoom-out zoom-out-loaded\" data-gallery-role=\"fotorama__zoom-out\" role=\"button\" tabindex=\"0\"></div>\n",
       " <!-- <div class=\"fotorama__spinner\"></div> -->\n",
       " </div>\n",
       " </div>\n",
       " <div data-gallery-role=\"fotorama__focusable-end\" tabindex=\"-1\"></div>\n",
       " </div>\n",
       " </div>]"
      ]
     },
     "execution_count": 55,
     "metadata": {},
     "output_type": "execute_result"
    }
   ],
   "source": [
    "img=soup.find_all('div',{'class':'gallery-placeholder'})"
   ]
  },
  {
   "cell_type": "markdown",
   "metadata": {},
   "source": [
    "## Womens Section"
   ]
  },
  {
   "cell_type": "code",
   "execution_count": 92,
   "metadata": {},
   "outputs": [],
   "source": [
    "links=[\n",
    "    ['https://www.luluandsky.com/women/dresses.html?p=','dresses'],\n",
    "    ['https://www.luluandsky.com/women/tops.html?p=','tops'],\n",
    "    ['https://www.luluandsky.com/women/lingerie.html?p=','lingerie'],\n",
    "    ['https://www.luluandsky.com/women/coats-jackets.html?p=','coats-jackets'],\n",
    "    ['https://www.luluandsky.com/women/cardigans-pullovers.html?p=','cardigans-pullovers'],\n",
    "    ['https://www.luluandsky.com/women/skirts.html?p=','skirts'],\n",
    "    ['https://www.luluandsky.com/women/sleepwear-innerwear.html?p=','sleepwear-innerwear'],\n",
    "    ['https://www.luluandsky.com/women/beachwear.html?p=','beachwear'],\n",
    "    ['https://www.luluandsky.com/women/jumpsuits-playsuits.html?p=','jumpsuits-playsuits'],\n",
    "    ['https://www.luluandsky.com/women/jeans-trousers.html?p=','jeans-trousers'],\n",
    "    ['https://www.luluandsky.com/women/shorts.html?p=','shorts'],\n",
    "    ['https://www.luluandsky.com/women/denim.html?p=','denim'],\n",
    "    ['https://www.luluandsky.com/women/two-piece-set.html?p=','two-piece-set'],\n",
    "    ['https://www.luluandsky.com/bags.html?p=','bags'],\n",
    "    ['https://www.luluandsky.com/shoes/trainers.html?p=','trainers'],\n",
    "    ['https://www.luluandsky.com/shoes/boots.html?p=','boots'],\n",
    "    ['https://www.luluandsky.com/shoes/casual-shoes.html?p=','casual-shoes'],\n",
    "    ['https://www.luluandsky.com/shoes/flat-sandals.html?p=','flat-sandals'],\n",
    "    ['https://www.luluandsky.com/shoes/flat-shoes.html?p=','flat-shoes'],\n",
    "    ['https://www.luluandsky.com/shoes/heeled-sandals.html?p=','heeled-sandals'],\n",
    "    ['https://www.luluandsky.com/shoes/heeled-shoes.html?p=','heeled-shoes'],\n",
    "    ['https://www.luluandsky.com/shoes/pumps-peep-toes.html?p=','pumps-peep-toes'],\n",
    "    ['https://www.luluandsky.com/shoes/wedges.html?p=','wedges'],\n",
    "    ['https://www.luluandsky.com/accessories/sunglasses.html?p=','sunglasses'],\n",
    "    ['https://www.luluandsky.com/accessories/belts.html?p=','belts'],\n",
    "    ['https://www.luluandsky.com/accessories/hats-caps.html?p=','hats-caps'],\n",
    "    ['https://www.luluandsky.com/accessories/jewellery.html?p=','jewellery'],\n",
    "    ['https://www.luluandsky.com/accessories/gloves-and-earmuffs.html?p=','gloves-and-earmuffs'],\n",
    "    ['https://www.luluandsky.com/accessories/socks-and-stockings.html?p=','socks-and-stockings']\n",
    "]"
   ]
  },
  {
   "cell_type": "code",
   "execution_count": 93,
   "metadata": {},
   "outputs": [
    {
     "name": "stderr",
     "output_type": "stream",
     "text": [
      "100%|██████████| 8/8 [00:20<00:00,  2.54s/it]\n",
      "100%|██████████| 11/11 [00:29<00:00,  2.69s/it]\n",
      "100%|██████████| 11/11 [00:29<00:00,  2.70s/it]\n",
      "100%|██████████| 3/3 [00:06<00:00,  2.03s/it]\n",
      "100%|██████████| 7/7 [00:16<00:00,  2.40s/it]\n",
      "100%|██████████| 2/2 [00:02<00:00,  1.14s/it]\n",
      "100%|██████████| 5/5 [00:11<00:00,  2.31s/it]\n",
      "100%|██████████| 1/1 [00:01<00:00,  1.07s/it]\n",
      "100%|██████████| 1/1 [00:01<00:00,  1.46s/it]\n",
      "100%|██████████| 2/2 [00:04<00:00,  2.18s/it]\n",
      "100%|██████████| 1/1 [00:00<00:00,  1.70it/s]\n",
      "100%|██████████| 1/1 [00:00<00:00,  1.73it/s]\n",
      "100%|██████████| 6/6 [00:15<00:00,  2.67s/it]\n",
      "100%|██████████| 8/8 [00:24<00:00,  3.03s/it]\n",
      "100%|██████████| 3/3 [00:07<00:00,  2.35s/it]\n",
      "100%|██████████| 1/1 [00:00<00:00,  2.09it/s]\n",
      "100%|██████████| 2/2 [00:03<00:00,  1.65s/it]\n",
      "100%|██████████| 1/1 [00:00<00:00,  1.30it/s]\n",
      "100%|██████████| 3/3 [00:06<00:00,  2.26s/it]\n",
      "100%|██████████| 1/1 [00:00<00:00,  1.18it/s]\n",
      "100%|██████████| 2/2 [00:03<00:00,  1.93s/it]\n",
      "100%|██████████| 7/7 [00:26<00:00,  3.72s/it]\n",
      "100%|██████████| 1/1 [00:00<00:00,  1.10it/s]\n",
      "100%|██████████| 2/2 [00:04<00:00,  2.31s/it]\n",
      "100%|██████████| 6/6 [00:41<00:00,  6.96s/it]\n",
      "100%|██████████| 2/2 [00:02<00:00,  1.42s/it]\n",
      "100%|██████████| 1/1 [00:00<00:00,  2.00it/s]\n"
     ]
    }
   ],
   "source": [
    "prod_links=[]\n",
    "for i in links:\n",
    "    try:\n",
    "        result=requests.get(i[0]+str(1),headers=headers)\n",
    "        get=result.content\n",
    "        soup=BeautifulSoup(get,'lxml')\n",
    "        c=math.ceil(int(soup.find('div',{'class':'categorycount'}).text.split()[0])/24)\n",
    "        for j in tqdm(range(1,c+1)):\n",
    "            try:\n",
    "                result=requests.get(i[0]+str(j),headers=headers)\n",
    "                get=result.content\n",
    "                soup=BeautifulSoup(get,'lxml')\n",
    "                prod=soup.find_all('strong',{'class':'product name product-item-name'})\n",
    "                for k in prod:\n",
    "                    try:\n",
    "                        li=[]\n",
    "                        li.append(k.find('a').attrs['href'])\n",
    "                        li.append(i[1])\n",
    "                        prod_links.append(li)\n",
    "                    except:\n",
    "                        pass\n",
    "            except:\n",
    "                pass\n",
    "    except:\n",
    "        pass\n",
    "    "
   ]
  },
  {
   "cell_type": "code",
   "execution_count": null,
   "metadata": {},
   "outputs": [],
   "source": [
    "def extract():\n",
    "    for i in prod_links:\n",
    "        try:\n",
    "            result = requests.get(i[0],headers=headers)\n",
    "            get = result.content\n",
    "            soup = BeautifulSoup(get,\"lxml\")\n",
    "            product_name=soup.find('div',{'class':'product-name'}).find('h2').text\n",
    "            product_brand=soup.find('div',{'class':'model-details'}).find_all('div',{'class':'std'})[1].text.split(':')[1].lstrip().rstrip()\n",
    "            product_link=i[0]\n",
    "            product_cat=i[1]\n",
    "            product_des=soup.find('ul',{'class':'product-attributes'}).find('div').text\n",
    "            product_price=int(''.join(price.find('div',{'class':'price'}).text.split('₹')[1].split(',')))\n",
    "            product_mrp=int(''.join(price.find('div',{'class':'old-price'}).text.split('₹')[1].split(',')))\n",
    "            li=soup.find_all('a',{'class':'photoswipe'})\n",
    "            sizes=soup.find('ul',{'class':'configurable-swatch-list size-list'}).find_all('li')\n",
    "            size=[]\n",
    "            for k in sizes:\n",
    "                size.append(k.text)   \n",
    "            size_avl=','.join(size)\n",
    "            primary_link=''\n",
    "            secondary_link=''\n",
    "        \n",
    "    "
   ]
  },
  {
   "cell_type": "code",
   "execution_count": 95,
   "metadata": {},
   "outputs": [],
   "source": [
    "result = requests.get(prod_links[0][0],headers=headers)\n",
    "get = result.content\n",
    "soup = BeautifulSoup(get,\"lxml\")"
   ]
  },
  {
   "cell_type": "code",
   "execution_count": 99,
   "metadata": {},
   "outputs": [],
   "source": [
    "price=soup.find('div',{'class':'price-box'})"
   ]
  },
  {
   "cell_type": "code",
   "execution_count": 100,
   "metadata": {},
   "outputs": [
    {
     "data": {
      "text/plain": [
       "<div class=\"price-box\">\n",
       "<div class=\"old-price\">₹6,499</div>\n",
       "<div class=\"price\">₹650</div>\n",
       "<span class=\"price-off\">(90% Off)</span></div>"
      ]
     },
     "execution_count": 100,
     "metadata": {},
     "output_type": "execute_result"
    }
   ],
   "source": [
    "price"
   ]
  },
  {
   "cell_type": "code",
   "execution_count": 111,
   "metadata": {},
   "outputs": [
    {
     "data": {
      "text/plain": [
       "6499"
      ]
     },
     "execution_count": 111,
     "metadata": {},
     "output_type": "execute_result"
    }
   ],
   "source": [
    "int(''.join(price.find('div',{'class':'old-price'}).text.split('₹')[1].split(',')))"
   ]
  },
  {
   "cell_type": "code",
   "execution_count": 112,
   "metadata": {},
   "outputs": [
    {
     "data": {
      "text/plain": [
       "650"
      ]
     },
     "execution_count": 112,
     "metadata": {},
     "output_type": "execute_result"
    }
   ],
   "source": [
    "int(''.join(price.find('div',{'class':'price'}).text.split('₹')[1].split(',')))"
   ]
  },
  {
   "cell_type": "code",
   "execution_count": null,
   "metadata": {},
   "outputs": [],
   "source": []
  }
 ],
 "metadata": {
  "kernelspec": {
   "display_name": "Python 3",
   "language": "python",
   "name": "python3"
  },
  "language_info": {
   "codemirror_mode": {
    "name": "ipython",
    "version": 3
   },
   "file_extension": ".py",
   "mimetype": "text/x-python",
   "name": "python",
   "nbconvert_exporter": "python",
   "pygments_lexer": "ipython3",
   "version": "3.8.5"
  }
 },
 "nbformat": 4,
 "nbformat_minor": 4
}
