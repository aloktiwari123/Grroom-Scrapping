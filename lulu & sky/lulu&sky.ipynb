{
 "cells": [
  {
   "cell_type": "code",
   "execution_count": 45,
   "metadata": {},
   "outputs": [],
   "source": [
    "from bs4 import BeautifulSoup\n",
    "import requests\n",
    "import pandas as pd\n",
    "from pandas import Series, DataFrame\n",
    "from ipywidgets import FloatProgress\n",
    "from time import sleep\n",
    "from IPython.display import display\n",
    "import re\n",
    "import pickle\n",
    "from urlextract import URLExtract\n",
    "import json\n",
    "import sqlite3\n",
    "import datetime\n",
    "from tqdm import tqdm"
   ]
  },
  {
   "cell_type": "code",
   "execution_count": 2,
   "metadata": {},
   "outputs": [],
   "source": [
    "headers = {'User-Agent' : 'Mozilla/5.0 (Macintosh; Intel Mac OS X 10_14_5) AppleWebKit/537.36 (KHTML, like Gecko) Chrome/84.0.4147.89 Safari/537.36'}"
   ]
  },
  {
   "cell_type": "code",
   "execution_count": 3,
   "metadata": {},
   "outputs": [],
   "source": [
    "result=requests.get('https://www.luluandsky.com/women.html?p=1',headers=headers)\n",
    "get=result.content\n",
    "soup=BeautifulSoup(get,'lxml')"
   ]
  },
  {
   "cell_type": "markdown",
   "metadata": {},
   "source": [
    "## Womens Section"
   ]
  },
  {
   "cell_type": "code",
   "execution_count": 92,
   "metadata": {},
   "outputs": [],
   "source": [
    "links=[\n",
    "    ['https://www.luluandsky.com/women/dresses.html?p=','dresses'],\n",
    "    ['https://www.luluandsky.com/women/tops.html?p=','tops'],\n",
    "    ['https://www.luluandsky.com/women/lingerie.html?p=','lingerie'],\n",
    "    ['https://www.luluandsky.com/women/coats-jackets.html?p=','coats-jackets'],\n",
    "    ['https://www.luluandsky.com/women/cardigans-pullovers.html?p=','cardigans-pullovers'],\n",
    "    ['https://www.luluandsky.com/women/skirts.html?p=','skirts'],\n",
    "    ['https://www.luluandsky.com/women/sleepwear-innerwear.html?p=','sleepwear-innerwear'],\n",
    "    ['https://www.luluandsky.com/women/beachwear.html?p=','beachwear'],\n",
    "    ['https://www.luluandsky.com/women/jumpsuits-playsuits.html?p=','jumpsuits-playsuits'],\n",
    "    ['https://www.luluandsky.com/women/jeans-trousers.html?p=','jeans-trousers'],\n",
    "    ['https://www.luluandsky.com/women/shorts.html?p=','shorts'],\n",
    "    ['https://www.luluandsky.com/women/denim.html?p=','denim'],\n",
    "    ['https://www.luluandsky.com/women/two-piece-set.html?p=','two-piece-set'],\n",
    "    ['https://www.luluandsky.com/bags.html?p=','bags'],\n",
    "    ['https://www.luluandsky.com/shoes/trainers.html?p=','trainers'],\n",
    "    ['https://www.luluandsky.com/shoes/boots.html?p=','boots'],\n",
    "    ['https://www.luluandsky.com/shoes/casual-shoes.html?p=','casual-shoes'],\n",
    "    ['https://www.luluandsky.com/shoes/flat-sandals.html?p=','flat-sandals'],\n",
    "    ['https://www.luluandsky.com/shoes/flat-shoes.html?p=','flat-shoes'],\n",
    "    ['https://www.luluandsky.com/shoes/heeled-sandals.html?p=','heeled-sandals'],\n",
    "    ['https://www.luluandsky.com/shoes/heeled-shoes.html?p=','heeled-shoes'],\n",
    "    ['https://www.luluandsky.com/shoes/pumps-peep-toes.html?p=','pumps-peep-toes'],\n",
    "    ['https://www.luluandsky.com/shoes/wedges.html?p=','wedges'],\n",
    "    ['https://www.luluandsky.com/accessories/sunglasses.html?p=','sunglasses'],\n",
    "    ['https://www.luluandsky.com/accessories/belts.html?p=','belts'],\n",
    "    ['https://www.luluandsky.com/accessories/hats-caps.html?p=','hats-caps'],\n",
    "    ['https://www.luluandsky.com/accessories/jewellery.html?p=','jewellery'],\n",
    "    ['https://www.luluandsky.com/accessories/gloves-and-earmuffs.html?p=','gloves-and-earmuffs'],\n",
    "    ['https://www.luluandsky.com/accessories/socks-and-stockings.html?p=','socks-and-stockings']\n",
    "]"
   ]
  },
  {
   "cell_type": "code",
   "execution_count": 93,
   "metadata": {},
   "outputs": [
    {
     "name": "stderr",
     "output_type": "stream",
     "text": [
      "100%|██████████| 8/8 [00:20<00:00,  2.54s/it]\n",
      "100%|██████████| 11/11 [00:29<00:00,  2.69s/it]\n",
      "100%|██████████| 11/11 [00:29<00:00,  2.70s/it]\n",
      "100%|██████████| 3/3 [00:06<00:00,  2.03s/it]\n",
      "100%|██████████| 7/7 [00:16<00:00,  2.40s/it]\n",
      "100%|██████████| 2/2 [00:02<00:00,  1.14s/it]\n",
      "100%|██████████| 5/5 [00:11<00:00,  2.31s/it]\n",
      "100%|██████████| 1/1 [00:01<00:00,  1.07s/it]\n",
      "100%|██████████| 1/1 [00:01<00:00,  1.46s/it]\n",
      "100%|██████████| 2/2 [00:04<00:00,  2.18s/it]\n",
      "100%|██████████| 1/1 [00:00<00:00,  1.70it/s]\n",
      "100%|██████████| 1/1 [00:00<00:00,  1.73it/s]\n",
      "100%|██████████| 6/6 [00:15<00:00,  2.67s/it]\n",
      "100%|██████████| 8/8 [00:24<00:00,  3.03s/it]\n",
      "100%|██████████| 3/3 [00:07<00:00,  2.35s/it]\n",
      "100%|██████████| 1/1 [00:00<00:00,  2.09it/s]\n",
      "100%|██████████| 2/2 [00:03<00:00,  1.65s/it]\n",
      "100%|██████████| 1/1 [00:00<00:00,  1.30it/s]\n",
      "100%|██████████| 3/3 [00:06<00:00,  2.26s/it]\n",
      "100%|██████████| 1/1 [00:00<00:00,  1.18it/s]\n",
      "100%|██████████| 2/2 [00:03<00:00,  1.93s/it]\n",
      "100%|██████████| 7/7 [00:26<00:00,  3.72s/it]\n",
      "100%|██████████| 1/1 [00:00<00:00,  1.10it/s]\n",
      "100%|██████████| 2/2 [00:04<00:00,  2.31s/it]\n",
      "100%|██████████| 6/6 [00:41<00:00,  6.96s/it]\n",
      "100%|██████████| 2/2 [00:02<00:00,  1.42s/it]\n",
      "100%|██████████| 1/1 [00:00<00:00,  2.00it/s]\n"
     ]
    }
   ],
   "source": [
    "prod_links=[]\n",
    "for i in links:\n",
    "    try:\n",
    "        result=requests.get(i[0]+str(1),headers=headers)\n",
    "        get=result.content\n",
    "        soup=BeautifulSoup(get,'lxml')\n",
    "        c=math.ceil(int(soup.find('div',{'class':'categorycount'}).text.split()[0])/24)\n",
    "        for j in tqdm(range(1,c+1)):\n",
    "            try:\n",
    "                result=requests.get(i[0]+str(j),headers=headers)\n",
    "                get=result.content\n",
    "                soup=BeautifulSoup(get,'lxml')\n",
    "                prod=soup.find_all('strong',{'class':'product name product-item-name'})\n",
    "                for k in prod:\n",
    "                    try:\n",
    "                        li=[]\n",
    "                        li.append(k.find('a').attrs['href'])\n",
    "                        li.append(i[1])\n",
    "                        prod_links.append(li)\n",
    "                    except:\n",
    "                        pass\n",
    "            except:\n",
    "                pass\n",
    "    except:\n",
    "        pass\n",
    "    "
   ]
  },
  {
   "cell_type": "code",
   "execution_count": 177,
   "metadata": {},
   "outputs": [],
   "source": [
    "Product_Link=[]\n",
    "Product_Name=[]\n",
    "Product_Brand=[]\n",
    "Size_Available=[]\n",
    "Price=[]\n",
    "MRP=[]\n",
    "Gender=[]\n",
    "Description=[]\n",
    "Cat_list=[]\n",
    "Primary_Image_Link=[]\n",
    "Secondary_Image_Link=[]"
   ]
  },
  {
   "cell_type": "code",
   "execution_count": 178,
   "metadata": {},
   "outputs": [
    {
     "name": "stderr",
     "output_type": "stream",
     "text": [
      "100%|██████████| 2040/2040 [1:16:08<00:00,  2.24s/it]\n"
     ]
    }
   ],
   "source": [
    "err=[]\n",
    "for i in tqdm(prod_links):\n",
    "    try:\n",
    "        result = requests.get(i[0],headers=headers)\n",
    "        get = result.content\n",
    "        soup = BeautifulSoup(get,\"lxml\")\n",
    "        product_name=soup.find('div',{'class':'product-name'}).find('h2').text\n",
    "        product_brand=soup.find('div',{'class':'model-details'}).find_all('div',{'class':'std'})[1].text.split(':')[1].lstrip().rstrip()\n",
    "        product_link=i[0]\n",
    "        product_cat=i[1]\n",
    "        product_des=soup.find('ul',{'class':'product-attributes'}).find('div').text\n",
    "        product_price=int(''.join(price.find('div',{'class':'price'}).text.split('₹')[1].split(',')))\n",
    "        product_mrp=int(''.join(price.find('div',{'class':'old-price'}).text.split('₹')[1].split(',')))\n",
    "        li=soup.find_all('a',{'class':'photoswipe'})\n",
    "        sizes=soup.find('ul',{'class':'configurable-swatch-list size-list'}).find_all('li')\n",
    "        size=[]\n",
    "        for k in sizes:\n",
    "            size.append(k.text)   \n",
    "        size_avl=','.join(size)\n",
    "        img=soup.find('div',{'class':'product media'})\n",
    "        image_split=img.find('img').attrs['src'].replace('305x453','707x1000').split('_')\n",
    "        if(len(image_split)>1):\n",
    "            images=[]\n",
    "            for l in range(1,7):\n",
    "                images.append(image_split[0]+'_'+str(l)+'_'+image_split[2])\n",
    "        else:\n",
    "            image_split=img.find('img').attrs['src'].replace('305x453','707x1000').split('-1.jpg')[0]\n",
    "            images=[]\n",
    "            for l in range(1,7):\n",
    "                images.append(image_split[0]+'-'+str(l)+'.jpg')\n",
    "    \n",
    "    except:\n",
    "        err.append(i)\n",
    "        pass\n",
    "    \n",
    "    else:\n",
    "        Product_Link.append(product_link)\n",
    "        Product_Brand.append(product_brand)\n",
    "        Product_Name.append(product_name)\n",
    "        Description.append(product_des)\n",
    "        Gender.append('Women')\n",
    "        Cat_list.append(product_cat)\n",
    "        MRP.append(product_mrp)\n",
    "        Price.append(product_price)\n",
    "        Primary_Image_Link.append(primary_link)\n",
    "        Secondary_Image_Link.append(secondary_link)\n",
    "        Size_Available.append(size_avl)\n",
    "        \n",
    "    "
   ]
  },
  {
   "cell_type": "code",
   "execution_count": null,
   "metadata": {},
   "outputs": [],
   "source": []
  },
  {
   "cell_type": "code",
   "execution_count": 167,
   "metadata": {},
   "outputs": [
    {
     "name": "stderr",
     "output_type": "stream",
     "text": [
      "  2%|▏         | 33/2040 [01:12<1:13:10,  2.19s/it]\n"
     ]
    },
    {
     "ename": "IndexError",
     "evalue": "list index out of range",
     "output_type": "error",
     "traceback": [
      "\u001b[1;31m---------------------------------------------------------------------------\u001b[0m",
      "\u001b[1;31mIndexError\u001b[0m                                Traceback (most recent call last)",
      "\u001b[1;32m<ipython-input-167-af2946d4d0e3>\u001b[0m in \u001b[0;36m<module>\u001b[1;34m\u001b[0m\n\u001b[0;32m     21\u001b[0m         \u001b[0mimages\u001b[0m\u001b[1;33m=\u001b[0m\u001b[1;33m[\u001b[0m\u001b[1;33m]\u001b[0m\u001b[1;33m\u001b[0m\u001b[1;33m\u001b[0m\u001b[0m\n\u001b[0;32m     22\u001b[0m         \u001b[1;32mfor\u001b[0m \u001b[0ml\u001b[0m \u001b[1;32min\u001b[0m \u001b[0mrange\u001b[0m\u001b[1;33m(\u001b[0m\u001b[1;36m1\u001b[0m\u001b[1;33m,\u001b[0m\u001b[1;36m7\u001b[0m\u001b[1;33m)\u001b[0m\u001b[1;33m:\u001b[0m\u001b[1;33m\u001b[0m\u001b[1;33m\u001b[0m\u001b[0m\n\u001b[1;32m---> 23\u001b[1;33m             \u001b[0mimages\u001b[0m\u001b[1;33m.\u001b[0m\u001b[0mappend\u001b[0m\u001b[1;33m(\u001b[0m\u001b[0mimage_split\u001b[0m\u001b[1;33m[\u001b[0m\u001b[1;36m0\u001b[0m\u001b[1;33m]\u001b[0m\u001b[1;33m+\u001b[0m\u001b[1;34m'_'\u001b[0m\u001b[1;33m+\u001b[0m\u001b[0mstr\u001b[0m\u001b[1;33m(\u001b[0m\u001b[0ml\u001b[0m\u001b[1;33m)\u001b[0m\u001b[1;33m+\u001b[0m\u001b[1;34m'_'\u001b[0m\u001b[1;33m+\u001b[0m\u001b[0mimage_split\u001b[0m\u001b[1;33m[\u001b[0m\u001b[1;36m2\u001b[0m\u001b[1;33m]\u001b[0m\u001b[1;33m)\u001b[0m\u001b[1;33m\u001b[0m\u001b[1;33m\u001b[0m\u001b[0m\n\u001b[0m\u001b[0;32m     24\u001b[0m     \u001b[1;32melse\u001b[0m\u001b[1;33m:\u001b[0m\u001b[1;33m\u001b[0m\u001b[1;33m\u001b[0m\u001b[0m\n\u001b[0;32m     25\u001b[0m         \u001b[0mimage_split\u001b[0m\u001b[1;33m=\u001b[0m\u001b[0mimg\u001b[0m\u001b[1;33m.\u001b[0m\u001b[0mfind\u001b[0m\u001b[1;33m(\u001b[0m\u001b[1;34m'img'\u001b[0m\u001b[1;33m)\u001b[0m\u001b[1;33m.\u001b[0m\u001b[0mattrs\u001b[0m\u001b[1;33m[\u001b[0m\u001b[1;34m'src'\u001b[0m\u001b[1;33m]\u001b[0m\u001b[1;33m.\u001b[0m\u001b[0mreplace\u001b[0m\u001b[1;33m(\u001b[0m\u001b[1;34m'305x453'\u001b[0m\u001b[1;33m,\u001b[0m\u001b[1;34m'707x1000'\u001b[0m\u001b[1;33m)\u001b[0m\u001b[1;33m.\u001b[0m\u001b[0msplit\u001b[0m\u001b[1;33m(\u001b[0m\u001b[1;34m'-1.jpg'\u001b[0m\u001b[1;33m)\u001b[0m\u001b[1;33m[\u001b[0m\u001b[1;36m0\u001b[0m\u001b[1;33m]\u001b[0m\u001b[1;33m\u001b[0m\u001b[1;33m\u001b[0m\u001b[0m\n",
      "\u001b[1;31mIndexError\u001b[0m: list index out of range"
     ]
    }
   ],
   "source": [
    "for i in tqdm(prod_links):\n",
    "    result = requests.get(i[0],headers=headers)\n",
    "    get = result.content\n",
    "    soup = BeautifulSoup(get,\"lxml\")\n",
    "    product_name=soup.find('div',{'class':'product-name'}).find('h2').text\n",
    "    product_brand=soup.find('div',{'class':'model-details'}).find_all('div',{'class':'std'})[1].text.split(':')[1].lstrip().rstrip()\n",
    "    product_link=i[0]\n",
    "    product_cat=i[1]\n",
    "    product_des=soup.find('ul',{'class':'product-attributes'}).find('div').text\n",
    "    product_price=int(''.join(price.find('div',{'class':'price'}).text.split('₹')[1].split(',')))\n",
    "    product_mrp=int(''.join(price.find('div',{'class':'old-price'}).text.split('₹')[1].split(',')))\n",
    "    li=soup.find_all('a',{'class':'photoswipe'})\n",
    "    sizes=soup.find('ul',{'class':'configurable-swatch-list size-list'}).find_all('li')\n",
    "    size=[]\n",
    "    for k in sizes:\n",
    "        size.append(k.text)   \n",
    "    size_avl=','.join(size)\n",
    "    img=soup.find('div',{'class':'product media'})\n",
    "    image_split=img.find('img').attrs['src'].replace('305x453','707x1000').split('_')\n",
    "    if(len(image_split)>1):\n",
    "        images=[]\n",
    "        for l in range(1,7):\n",
    "            images.append(image_split[0]+'_'+str(l)+'_'+image_split[2])\n",
    "    else:\n",
    "        image_split=img.find('img').attrs['src'].replace('305x453','707x1000').split('-1.jpg')[0]\n",
    "        images=[]\n",
    "        for l in range(1,7):\n",
    "            images.append(image_split[0]+'-'+str(l)+'.jpg')\n",
    "        \n",
    "    primary_link=images[0]\n",
    "    secondary_link=','.join(images[1:])"
   ]
  },
  {
   "cell_type": "code",
   "execution_count": 142,
   "metadata": {},
   "outputs": [],
   "source": [
    "out=pd.DataFrame({\n",
    "    \n",
    "    \"Website\":'https://www.luluandsky.com/',\n",
    "    \"Product_Link\":Product_Link,\n",
    "    \"Product_Name\":Product_Name,\n",
    "    \"Product_Brand\":Product_Brand,\n",
    "    \"Product_Category\":Cat_list,\n",
    "    \"Size_Avail\":Size_Available,\n",
    "    \"Price\":Price,\n",
    "    \"MRP\":MRP,\n",
    "    \"Gender\":Gender,\n",
    "    \"Description\":Description,\n",
    "    \"Primary_Image_Links\":Primary_Image_Link,\n",
    "    \"Secondary_Image_Links\":Secondary_Image_Link,\n",
    "    \"Affiliate_Link\":''\n",
    "    \n",
    "})"
   ]
  },
  {
   "cell_type": "code",
   "execution_count": 180,
   "metadata": {},
   "outputs": [],
   "source": [
    "con=sqlite3.connect(\"lulu&sky.db\")  \n",
    "cur=con.cursor()\n",
    "cur.execute('CREATE TABLE product_details (Website varchar(40) not null,Product_Link text PRIMARY KEY,Product_Name varchar(50) not null,Product_Brand varchar(50) not null,Product_Category varchar(50),Size_Avail varchar(20) not null,Price int not null,MRP int not null,Gender varchar(15) not null,Description text not null,Primary_Image_Links text not null,Secondary_Image_Links text not null,Affiliate_Link text not null )')\n",
    "for i in range(len(Product_Link)):\n",
    "    try:\n",
    "        cur.execute('insert into product_details  values(%r,%r,%r,%r,%r,%r,%d,%d,%r,%r,%r,%r,%r)'%('https://www.luluandsky.com/',Product_Link[i],Product_Name[i],Product_Brand[i],Cat_list[i],Size_Available[i],Price[i],MRP[i],Gender[i],Description[i],Primary_Image_Link[i],Secondary_Image_Link[i],''))\n",
    "    except:\n",
    "        pass\n",
    "con.commit()\n",
    "con.close()"
   ]
  },
  {
   "cell_type": "code",
   "execution_count": null,
   "metadata": {},
   "outputs": [],
   "source": []
  }
 ],
 "metadata": {
  "kernelspec": {
   "display_name": "Python 3",
   "language": "python",
   "name": "python3"
  },
  "language_info": {
   "codemirror_mode": {
    "name": "ipython",
    "version": 3
   },
   "file_extension": ".py",
   "mimetype": "text/x-python",
   "name": "python",
   "nbconvert_exporter": "python",
   "pygments_lexer": "ipython3",
   "version": "3.8.5"
  }
 },
 "nbformat": 4,
 "nbformat_minor": 4
}
