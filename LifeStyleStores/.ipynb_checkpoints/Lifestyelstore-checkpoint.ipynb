{
 "cells": [
  {
   "cell_type": "code",
   "execution_count": 1,
   "metadata": {},
   "outputs": [],
   "source": [
    "from bs4 import BeautifulSoup\n",
    "import requests\n",
    "import pandas as pd\n",
    "from pandas import Series, DataFrame\n",
    "from ipywidgets import FloatProgress\n",
    "from time import sleep\n",
    "from IPython.display import display\n",
    "import re\n",
    "import pickle\n",
    "from urlextract import URLExtract\n",
    "import json\n",
    "import sqlite3\n",
    "import datetime\n",
    "from tqdm import tqdm\n",
    "from selenium import webdriver\n",
    "import time\n",
    "import warnings\n",
    "warnings.filterwarnings(\"ignore\")"
   ]
  },
  {
   "cell_type": "code",
   "execution_count": 3,
   "metadata": {},
   "outputs": [],
   "source": [
    "headers = {'User-Agent' : 'Mozilla/5.0 (Macintosh; Intel Mac OS X 10_14_5) AppleWebKit/537.36 (KHTML, like Gecko) Chrome/84.0.4147.89 Safari/537.36'}"
   ]
  },
  {
   "cell_type": "code",
   "execution_count": 4,
   "metadata": {},
   "outputs": [],
   "source": [
    "path=\"C:\\Program Files (x86)\\chromedriver.exe\""
   ]
  },
  {
   "cell_type": "code",
   "execution_count": 5,
   "metadata": {},
   "outputs": [],
   "source": [
    "driver=webdriver.Chrome(path)"
   ]
  },
  {
   "cell_type": "markdown",
   "metadata": {},
   "source": [
    "## Mens: TopWear"
   ]
  },
  {
   "cell_type": "code",
   "execution_count": 55,
   "metadata": {},
   "outputs": [],
   "source": [
    "Product_Link=[]\n",
    "Product_Name=[]\n",
    "Product_Brand=[]\n",
    "Size_Available=[]\n",
    "Price=[]\n",
    "MRP=[]\n",
    "Gender=[]\n",
    "Description=[]\n",
    "Cat_list=[]\n",
    "Primary_Image_Link=[]\n",
    "Secondary_Image_Link=[]"
   ]
  },
  {
   "cell_type": "code",
   "execution_count": 31,
   "metadata": {},
   "outputs": [],
   "source": [
    "def details():\n",
    "    product_lin = driver.find_element_by_id(\"product-details-description\")\n",
    "    product_link_ = product_lin.get_attribute('innerHTML')\n",
    "    soup = BeautifulSoup(product_link_, 'lxml')\n",
    "    product_link_data = soup.find('input', class_ ='single-product-color-input').attrs['value']\n",
    "    link = \"https://www.lifestylestores.com/p/\"+product_link_data\n",
    "    name = driver.find_element_by_xpath(\"//h1[@id ='product-details-name']\").text\n",
    "    mrp = driver.find_element_by_xpath(\".//div[@class ='product-price']\").text.split()[1].replace('Rs','').replace(',','')\n",
    "    price = driver.find_element_by_xpath(\".//div[@class ='product-price']\").text.split()[2].replace('Rs','')\n",
    "    prcat = 'Casual Shirts'    \n",
    "    mask = driver.find_element_by_class_name(\"product-mask\")\n",
    "    mask_ = mask.get_attribute('innerHTML')\n",
    "    soup = BeautifulSoup(mask_, 'lxml')\n",
    "    image = []\n",
    "    for i in soup.find_all('img'):\n",
    "        image.append(i.attrs['src'])\n",
    "    priimg = image[0]\n",
    "    secimg = image[1:]\n",
    "\n",
    "    info = driver.find_elements_by_xpath(\"//script[@type='application/ld+json']\")\n",
    "    for author in info: \n",
    "        author_ = author.get_attribute('innerHTML')\n",
    "        soup1 = BeautifulSoup(author_, 'lxml')\n",
    "        jd = json.loads(soup1.text)\n",
    "        res = [jd[k]['name'] for k in ['brand'] if k in jd]\n",
    "        brand_name_lis = []\n",
    "        for brand_name_idx in res:\n",
    "            brand_name_lis.append(brand_name_idx)\n",
    "    brand = \",\".join(s for s in brand_name_lis)\n",
    "\n",
    "    size = driver.find_element_by_id(\"filter-form-sizes\")\n",
    "    size_ = size.get_attribute('innerHTML')\n",
    "    soup2 = BeautifulSoup(size_, 'lxml')\n",
    "    sizes_ = []\n",
    "    for ln in soup2.find_all('li'):\n",
    "        li = ln.find('label')\n",
    "        if \"active\" in li.attrs['class']:\n",
    "            sizes_.append(li.text.replace('\\n', ''))\n",
    "        sizes = \",\".join(s for s in sizes_)\n",
    "\n",
    "    description = driver.find_element_by_xpath(\".//p[@id = 'product-details-p']\").text\n",
    "    \n",
    "    Product_Link.append(link)\n",
    "    Product_Name.append(name)\n",
    "    Product_Brand.append(brand)\n",
    "    Size_Available.append(sizes)\n",
    "    Price.append(price)\n",
    "    MRP.append(mrp)\n",
    "    Primary_Image_Link.append(priimg)\n",
    "    Secondary_Image_Link.append(secimg)\n",
    "    Gender.append('Men')\n",
    "    Description.append(description)\n",
    "    Cat_list.append(prcat)\n",
    "    "
   ]
  },
  {
   "cell_type": "code",
   "execution_count": null,
   "metadata": {},
   "outputs": [],
   "source": [
    "topwear=['men-tops-formalshirts','men-tops-casualshirts','men-tops-polos','men-tops-tshirts','men-winterwear-jackets','men-winterwear-hoodiesandsweatshirts']"
   ]
  },
  {
   "cell_type": "code",
   "execution_count": 33,
   "metadata": {},
   "outputs": [],
   "source": [
    "for i in topwear:\n",
    "    for j in range(0,21):\n",
    "    try:\n",
    "        driver.get(f'https://www.lifestylestores.com/in/en/c/{i}?p={j}')\n",
    "        data=driver.find_elements_by_xpath('//div[@class=\"MuiGrid-root jss232 MuiGrid-item MuiGrid-grid-xs-6 MuiGrid-grid-sm-3\"]')\n",
    "        for k in range(len(data)):\n",
    "            #driver.implicitly_wait(2)\n",
    "            click=driver.find_elements_by_xpath('//div[@class=\"MuiGrid-root jss232 MuiGrid-item MuiGrid-grid-xs-6 MuiGrid-grid-sm-3\"]')[k]\n",
    "            click.click()\n",
    "            details()\n",
    "            driver.back()\n",
    "            \n",
    "    except:\n",
    "        pass\n",
    "    \n"
   ]
  },
  {
   "cell_type": "markdown",
   "metadata": {},
   "source": [
    "# Mens:Bottomwear"
   ]
  },
  {
   "cell_type": "code",
   "execution_count": null,
   "metadata": {},
   "outputs": [],
   "source": [
    "bottomwear=['men-bottoms-casualtrousers','men-bottoms-formaltrousers','men-bottoms-jeans','men-bottoms-trackpants','men-bottoms-shortsand34ths']"
   ]
  },
  {
   "cell_type": "code",
   "execution_count": null,
   "metadata": {},
   "outputs": [],
   "source": [
    "for i in bottomwear:\n",
    "    for j in range(0,21):\n",
    "    try:\n",
    "        driver.get(f'https://www.lifestylestores.com/in/en/c/{i}?p={j}')\n",
    "        data=driver.find_elements_by_xpath('//div[@class=\"MuiGrid-root jss232 MuiGrid-item MuiGrid-grid-xs-6 MuiGrid-grid-sm-3\"]')\n",
    "        for k in range(len(data)):\n",
    "            #driver.implicitly_wait(2)\n",
    "            click=driver.find_elements_by_xpath('//div[@class=\"MuiGrid-root jss232 MuiGrid-item MuiGrid-grid-xs-6 MuiGrid-grid-sm-3\"]')[k]\n",
    "            click.click()\n",
    "            details()\n",
    "            driver.back()\n",
    "            \n",
    "    except:\n",
    "        pass"
   ]
  },
  {
   "cell_type": "markdown",
   "metadata": {},
   "source": [
    "# Mens: Activewear"
   ]
  },
  {
   "cell_type": "code",
   "execution_count": 71,
   "metadata": {},
   "outputs": [],
   "source": [
    "for j in range(0,1):\n",
    "    try:\n",
    "        driver.get(f'https://www.lifestylestores.com/in/en/c/men-sportswear?p={j}')\n",
    "        data=driver.find_elements_by_xpath('//div[@class=\"MuiGrid-root jss250 MuiGrid-item MuiGrid-grid-xs-6 MuiGrid-grid-sm-3\"]')\n",
    "        for k in range(len(data)):\n",
    "            driver.implicitly_wait(2)\n",
    "            click=driver.find_elements_by_xpath('//div[@class=\"MuiGrid-root jss250 MuiGrid-item MuiGrid-grid-xs-6 MuiGrid-grid-sm-3\"]')[k]\n",
    "            click.click()\n",
    "            details()\n",
    "            driver.back()\n",
    "            \n",
    "    except:\n",
    "        pass"
   ]
  },
  {
   "cell_type": "markdown",
   "metadata": {},
   "source": [
    "# Mens: EthnicWear"
   ]
  },
  {
   "cell_type": "code",
   "execution_count": 73,
   "metadata": {},
   "outputs": [],
   "source": [
    "for j in range(0,1):\n",
    "    try:\n",
    "        driver.get(f'https://www.lifestylestores.com/in/en/c/men-ethnicwear?p=1')\n",
    "        data=driver.find_elements_by_xpath('//div[@class=\"MuiGrid-root jss248 MuiGrid-item MuiGrid-grid-xs-6 MuiGrid-grid-sm-3\"]')\n",
    "        #for k in range(len(data)):\n",
    "            #driver.implicitly_wait(2)\n",
    "            #click=driver.find_elements_by_xpath('//div[@class=\"MuiGrid-root jss248 MuiGrid-item MuiGrid-grid-xs-6 MuiGrid-grid-sm-3\"]')[k]\n",
    "            #click.click()\n",
    "            #details()\n",
    "            #driver.back()\n",
    "            \n",
    "    except:\n",
    "        pass"
   ]
  },
  {
   "cell_type": "markdown",
   "metadata": {},
   "source": [
    "# Mens: WinterWear"
   ]
  },
  {
   "cell_type": "code",
   "execution_count": 74,
   "metadata": {},
   "outputs": [],
   "source": [
    "for j in range(0,1):\n",
    "    try:\n",
    "        driver.get(f'https://www.lifestylestores.com/in/en/c/men-winterwear?p=1')\n",
    "        data=driver.find_elements_by_xpath('//div[@class=\"MuiGrid-root jss245 MuiGrid-item MuiGrid-grid-xs-6 MuiGrid-grid-sm-3\"]')\n",
    "        #for k in range(len(data)):\n",
    "            #driver.implicitly_wait(2)\n",
    "            #click=driver.find_elements_by_xpath('//div[@class=\"MuiGrid-root jss245 MuiGrid-item MuiGrid-grid-xs-6 MuiGrid-grid-sm-3\"]')[k]\n",
    "            #click.click()\n",
    "            #details()\n",
    "            #driver.back()\n",
    "            \n",
    "    except:\n",
    "        pass"
   ]
  },
  {
   "cell_type": "markdown",
   "metadata": {},
   "source": [
    "# Mens:Innerwear"
   ]
  },
  {
   "cell_type": "code",
   "execution_count": null,
   "metadata": {},
   "outputs": [],
   "source": [
    "for j in range(0,1):\n",
    "    try:\n",
    "        driver.get(f'https://www.lifestylestores.com/in/en/c/men-innerwear?p=1')\n",
    "        data=driver.find_elements_by_xpath('//div[@class=\"MuiGrid-root jss245 MuiGrid-item MuiGrid-grid-xs-6 MuiGrid-grid-sm-3\"]')\n",
    "        #for k in range(len(data)):\n",
    "            #driver.implicitly_wait(2)\n",
    "            #click=driver.find_elements_by_xpath('//div[@class=\"MuiGrid-root jss245 MuiGrid-item MuiGrid-grid-xs-6 MuiGrid-grid-sm-3\"]')[k]\n",
    "            #click.click()\n",
    "            #details()\n",
    "            #driver.back()\n",
    "            \n",
    "    except:\n",
    "        pass"
   ]
  }
 ],
 "metadata": {
  "kernelspec": {
   "display_name": "Python 3",
   "language": "python",
   "name": "python3"
  },
  "language_info": {
   "codemirror_mode": {
    "name": "ipython",
    "version": 3
   },
   "file_extension": ".py",
   "mimetype": "text/x-python",
   "name": "python",
   "nbconvert_exporter": "python",
   "pygments_lexer": "ipython3",
   "version": "3.8.5"
  }
 },
 "nbformat": 4,
 "nbformat_minor": 4
}
