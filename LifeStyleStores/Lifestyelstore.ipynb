{
 "cells": [
  {
   "cell_type": "code",
   "execution_count": 93,
   "metadata": {},
   "outputs": [],
   "source": [
    "from bs4 import BeautifulSoup\n",
    "import requests\n",
    "import pandas as pd\n",
    "from pandas import Series, DataFrame\n",
    "from ipywidgets import FloatProgress\n",
    "from time import sleep\n",
    "from IPython.display import display\n",
    "import re\n",
    "import pickle\n",
    "from urlextract import URLExtract\n",
    "import json\n",
    "import sqlite3\n",
    "import datetime\n",
    "from tqdm import tqdm\n",
    "from selenium import webdriver\n",
    "import time\n",
    "import warnings\n",
    "warnings.filterwarnings(\"ignore\")"
   ]
  },
  {
   "cell_type": "code",
   "execution_count": 94,
   "metadata": {},
   "outputs": [],
   "source": [
    "headers = {'User-Agent' : 'Mozilla/5.0 (Macintosh; Intel Mac OS X 10_14_5) AppleWebKit/537.36 (KHTML, like Gecko) Chrome/84.0.4147.89 Safari/537.36'}"
   ]
  },
  {
   "cell_type": "code",
   "execution_count": 95,
   "metadata": {},
   "outputs": [],
   "source": [
    "path=\"C:\\Program Files (x86)\\chromedriver.exe\""
   ]
  },
  {
   "cell_type": "code",
   "execution_count": 96,
   "metadata": {},
   "outputs": [],
   "source": [
    "driver=webdriver.Chrome(path)"
   ]
  },
  {
   "cell_type": "markdown",
   "metadata": {},
   "source": [
    "## Mens"
   ]
  },
  {
   "cell_type": "code",
   "execution_count": 97,
   "metadata": {},
   "outputs": [],
   "source": [
    "Product_Link=[]\n",
    "Product_Name=[]\n",
    "Product_Brand=[]\n",
    "Size_Available=[]\n",
    "Price=[]\n",
    "MRP=[]\n",
    "Gender=[]\n",
    "Description=[]\n",
    "Cat_list=[]\n",
    "Primary_Image_Link=[]\n",
    "Secondary_Image_Link=[]"
   ]
  },
  {
   "cell_type": "code",
   "execution_count": 98,
   "metadata": {},
   "outputs": [],
   "source": [
    "def details(cat):\n",
    "    product_lin = driver.find_element_by_id(\"product-details-description\")\n",
    "    product_link_ = product_lin.get_attribute('innerHTML')\n",
    "    soup = BeautifulSoup(product_link_, 'lxml')\n",
    "    product_link_data = soup.find('input', class_ ='single-product-color-input').attrs['value']\n",
    "    link = \"https://www.lifestylestores.com/p/\"+product_link_data\n",
    "    name = driver.find_element_by_xpath(\"//h1[@id ='product-details-name']\").text\n",
    "    mrp = int(driver.find_element_by_xpath(\".//div[@class ='product-price']\").text.split()[1].replace('Rs','').replace(',',''))\n",
    "    price = int(driver.find_element_by_xpath(\".//div[@class ='product-price']\").text.split()[2].replace('Rs',''))\n",
    "    prcat = cat    \n",
    "    mask = driver.find_element_by_class_name(\"product-mask\")\n",
    "    mask_ = mask.get_attribute('innerHTML')\n",
    "    soup = BeautifulSoup(mask_, 'lxml')\n",
    "    image = []\n",
    "    for i in soup.find_all('img'):\n",
    "        image.append(i.attrs['src'])\n",
    "    priimg = image[0]\n",
    "    secimg =' , '.join(image[1:])\n",
    "\n",
    "    info = driver.find_elements_by_xpath(\"//script[@type='application/ld+json']\")\n",
    "    for author in info: \n",
    "        author_ = author.get_attribute('innerHTML')\n",
    "        soup1 = BeautifulSoup(author_, 'lxml')\n",
    "        jd = json.loads(soup1.text)\n",
    "        res = [jd[k]['name'] for k in ['brand'] if k in jd]\n",
    "        brand_name_lis = []\n",
    "        for brand_name_idx in res:\n",
    "            brand_name_lis.append(brand_name_idx)\n",
    "    brand = \",\".join(s for s in brand_name_lis)\n",
    "\n",
    "    size = driver.find_element_by_id(\"filter-form-sizes\")\n",
    "    size_ = size.get_attribute('innerHTML')\n",
    "    soup2 = BeautifulSoup(size_, 'lxml')\n",
    "    sizes_ = []\n",
    "    for ln in soup2.find_all('li'):\n",
    "        li = ln.find('label')\n",
    "        if \"active\" in li.attrs['class']:\n",
    "            sizes_.append(li.text.replace('\\n', ''))\n",
    "        sizes = \",\".join(s for s in sizes_)\n",
    "\n",
    "    description = driver.find_element_by_xpath(\".//p[@id = 'product-details-p']\").text\n",
    "    Product_Link.append(link)\n",
    "    Product_Name.append(name)\n",
    "    Product_Brand.append(brand)\n",
    "    Size_Available.append(sizes)\n",
    "    Price.append(price)\n",
    "    MRP.append(mrp)\n",
    "    Primary_Image_Link.append(priimg)\n",
    "    Secondary_Image_Link.append(secimg)\n",
    "    Gender.append('Men')\n",
    "    Description.append(description)\n",
    "    Cat_list.append(prcat)\n",
    "    \n",
    "    "
   ]
  },
  {
   "cell_type": "markdown",
   "metadata": {},
   "source": [
    "## Mens: TopWear"
   ]
  },
  {
   "cell_type": "code",
   "execution_count": 99,
   "metadata": {},
   "outputs": [],
   "source": [
    "topwear=['men-tops-formalshirts','men-tops-casualshirts','men-tops-polos','men-tops-tshirts','men-winterwear-jackets','men-winterwear-hoodiesandsweatshirts']"
   ]
  },
  {
   "cell_type": "code",
   "execution_count": 100,
   "metadata": {},
   "outputs": [],
   "source": [
    "cat=['Formal Shirts','Casual Shirts','Polos','Tshirts','Winterwear-Jackets','Hoodies and Sweatshirts']"
   ]
  },
  {
   "cell_type": "code",
   "execution_count": 101,
   "metadata": {},
   "outputs": [],
   "source": [
    "for i in range(1,2):\n",
    "    for j in range(0,1):\n",
    "        try:\n",
    "            driver.get(f'https://www.lifestylestores.com/in/en/c/{topwear[i]}?p={j}')\n",
    "            data=driver.find_elements_by_xpath('//div[@class=\"MuiGrid-root jss228 MuiGrid-item MuiGrid-grid-xs-6 MuiGrid-grid-sm-3\"]')\n",
    "            for k in range(0,4):\n",
    "                #driver.implicitly_wait(2)\n",
    "                click=driver.find_elements_by_xpath('//div[@class=\"MuiGrid-root jss228 MuiGrid-item MuiGrid-grid-xs-6 MuiGrid-grid-sm-3\"]')[k]\n",
    "                click.click()\n",
    "                details(cat[i])\n",
    "                driver.back()\n",
    "            \n",
    "        except:\n",
    "            pass\n",
    "    \n"
   ]
  },
  {
   "cell_type": "code",
   "execution_count": 106,
   "metadata": {},
   "outputs": [
    {
     "data": {
      "text/html": [
       "<div>\n",
       "<style scoped>\n",
       "    .dataframe tbody tr th:only-of-type {\n",
       "        vertical-align: middle;\n",
       "    }\n",
       "\n",
       "    .dataframe tbody tr th {\n",
       "        vertical-align: top;\n",
       "    }\n",
       "\n",
       "    .dataframe thead th {\n",
       "        text-align: right;\n",
       "    }\n",
       "</style>\n",
       "<table border=\"1\" class=\"dataframe\">\n",
       "  <thead>\n",
       "    <tr style=\"text-align: right;\">\n",
       "      <th></th>\n",
       "      <th>Website</th>\n",
       "      <th>Product_Link</th>\n",
       "      <th>Product_Name</th>\n",
       "      <th>Product_Brand</th>\n",
       "      <th>Product_Category</th>\n",
       "      <th>Size_Avail</th>\n",
       "      <th>Price</th>\n",
       "      <th>MRP</th>\n",
       "      <th>Gender</th>\n",
       "      <th>Description</th>\n",
       "      <th>Primary_Image_Links</th>\n",
       "      <th>Secondary_Image_Links</th>\n",
       "      <th>Affiliate_Link</th>\n",
       "    </tr>\n",
       "  </thead>\n",
       "  <tbody>\n",
       "    <tr>\n",
       "      <th>0</th>\n",
       "      <td>https://www.lifestylestores.com/</td>\n",
       "      <td>https://www.lifestylestores.com/p/100000848797...</td>\n",
       "      <td>CODE Checked Slim Fit Casual Shirt</td>\n",
       "      <td>CODE</td>\n",
       "      <td>Casual Shirts</td>\n",
       "      <td>39,40,42,44,46,48</td>\n",
       "      <td>849</td>\n",
       "      <td>1699</td>\n",
       "      <td>Men</td>\n",
       "      <td>Punctuated with a checked pattern and patch po...</td>\n",
       "      <td>https://lmsin.net/cdn-cgi/image/h=730,w=540,q=...</td>\n",
       "      <td>https://lmsin.net/cdn-cgi/image/h=730,w=540,q=...</td>\n",
       "      <td></td>\n",
       "    </tr>\n",
       "    <tr>\n",
       "      <th>1</th>\n",
       "      <td>https://www.lifestylestores.com/</td>\n",
       "      <td>https://www.lifestylestores.com/p/100000848797...</td>\n",
       "      <td>CODE Checked Slim Fit Casual Shirt</td>\n",
       "      <td>CODE</td>\n",
       "      <td>Casual Shirts</td>\n",
       "      <td>39,40,42,44,46,48</td>\n",
       "      <td>849</td>\n",
       "      <td>1699</td>\n",
       "      <td>Men</td>\n",
       "      <td>Punctuated with a checked pattern and patch po...</td>\n",
       "      <td>https://lmsin.net/cdn-cgi/image/h=730,w=540,q=...</td>\n",
       "      <td>https://lmsin.net/cdn-cgi/image/h=730,w=540,q=...</td>\n",
       "      <td></td>\n",
       "    </tr>\n",
       "  </tbody>\n",
       "</table>\n",
       "</div>"
      ],
      "text/plain": [
       "                            Website  \\\n",
       "0  https://www.lifestylestores.com/   \n",
       "1  https://www.lifestylestores.com/   \n",
       "\n",
       "                                        Product_Link  \\\n",
       "0  https://www.lifestylestores.com/p/100000848797...   \n",
       "1  https://www.lifestylestores.com/p/100000848797...   \n",
       "\n",
       "                         Product_Name Product_Brand Product_Category  \\\n",
       "0  CODE Checked Slim Fit Casual Shirt          CODE    Casual Shirts   \n",
       "1  CODE Checked Slim Fit Casual Shirt          CODE    Casual Shirts   \n",
       "\n",
       "          Size_Avail  Price   MRP Gender  \\\n",
       "0  39,40,42,44,46,48    849  1699    Men   \n",
       "1  39,40,42,44,46,48    849  1699    Men   \n",
       "\n",
       "                                         Description  \\\n",
       "0  Punctuated with a checked pattern and patch po...   \n",
       "1  Punctuated with a checked pattern and patch po...   \n",
       "\n",
       "                                 Primary_Image_Links  \\\n",
       "0  https://lmsin.net/cdn-cgi/image/h=730,w=540,q=...   \n",
       "1  https://lmsin.net/cdn-cgi/image/h=730,w=540,q=...   \n",
       "\n",
       "                               Secondary_Image_Links Affiliate_Link  \n",
       "0  https://lmsin.net/cdn-cgi/image/h=730,w=540,q=...                 \n",
       "1  https://lmsin.net/cdn-cgi/image/h=730,w=540,q=...                 "
      ]
     },
     "execution_count": 106,
     "metadata": {},
     "output_type": "execute_result"
    }
   ],
   "source": [
    "data.head(2)"
   ]
  },
  {
   "cell_type": "markdown",
   "metadata": {},
   "source": [
    "# Mens:BottomCategory"
   ]
  },
  {
   "cell_type": "code",
   "execution_count": 82,
   "metadata": {},
   "outputs": [],
   "source": [
    "bottomwear=['men-bottoms-casualtrousers','men-bottoms-formaltrousers','men-bottoms-jeans','men-bottoms-trackpants','men-bottoms-shortsand34ths']"
   ]
  },
  {
   "cell_type": "code",
   "execution_count": null,
   "metadata": {},
   "outputs": [],
   "source": [
    "cat=['Casual Trousers','Formal Trousers','Jeans','TrackPants','Shorts and 34ths']"
   ]
  },
  {
   "cell_type": "code",
   "execution_count": 86,
   "metadata": {},
   "outputs": [],
   "source": [
    "for i in range(len(bottomwear)):\n",
    "    for j in range(0,21):\n",
    "        try:\n",
    "            driver.get(f'https://www.lifestylestores.com/in/en/c/{bottomwear[i]}?p={j}')\n",
    "            data=driver.find_elements_by_xpath('//div[@class=\"MuiGrid-root jss228 MuiGrid-item MuiGrid-grid-xs-6 MuiGrid-grid-sm-3\"]')\n",
    "            for k in range(len(data)):\n",
    "                driver.implicitly_wait(2)\n",
    "                click=driver.find_elements_by_xpath('//div[@class=\"MuiGrid-root jss228 MuiGrid-item MuiGrid-grid-xs-6 MuiGrid-grid-sm-3\"]')[k]\n",
    "                click.click()\n",
    "                details(cat[i])\n",
    "                driver.back()\n",
    "            \n",
    "        except:\n",
    "            pass"
   ]
  },
  {
   "cell_type": "markdown",
   "metadata": {},
   "source": [
    "# Mens: Activewear"
   ]
  },
  {
   "cell_type": "code",
   "execution_count": 71,
   "metadata": {},
   "outputs": [],
   "source": [
    "for j in range(0,1):\n",
    "    try:\n",
    "        driver.get(f'https://www.lifestylestores.com/in/en/c/men-sportswear?p={j}')\n",
    "        data=driver.find_elements_by_xpath('//div[@class=\"MuiGrid-root jss250 MuiGrid-item MuiGrid-grid-xs-6 MuiGrid-grid-sm-3\"]')\n",
    "        for k in range(len(data)):\n",
    "            driver.implicitly_wait(2)\n",
    "            click=driver.find_elements_by_xpath('//div[@class=\"MuiGrid-root jss250 MuiGrid-item MuiGrid-grid-xs-6 MuiGrid-grid-sm-3\"]')[k]\n",
    "            click.click()\n",
    "            details('Active Wear')\n",
    "            driver.back()\n",
    "            \n",
    "    except:\n",
    "        pass"
   ]
  },
  {
   "cell_type": "markdown",
   "metadata": {},
   "source": [
    "# Mens: EthnicWear"
   ]
  },
  {
   "cell_type": "code",
   "execution_count": null,
   "metadata": {},
   "outputs": [],
   "source": [
    "for j in range(0,1):\n",
    "    try:\n",
    "        driver.get(f'https://www.lifestylestores.com/in/en/c/men-ethnicwear?p=1')\n",
    "        data=driver.find_elements_by_xpath('//div[@class=\"MuiGrid-root jss248 MuiGrid-item MuiGrid-grid-xs-6 MuiGrid-grid-sm-3\"]')\n",
    "        for k in range(len(data)):\n",
    "            driver.implicitly_wait(2)\n",
    "            click=driver.find_elements_by_xpath('//div[@class=\"MuiGrid-root jss248 MuiGrid-item MuiGrid-grid-xs-6 MuiGrid-grid-sm-3\"]')[k]\n",
    "            click.click()\n",
    "            details('Etnic Wear')\n",
    "            driver.back()\n",
    "            \n",
    "    except:\n",
    "        pass"
   ]
  },
  {
   "cell_type": "markdown",
   "metadata": {},
   "source": [
    "# Mens: WinterWear"
   ]
  },
  {
   "cell_type": "code",
   "execution_count": 74,
   "metadata": {},
   "outputs": [],
   "source": [
    "for j in range(0,1):\n",
    "    try:\n",
    "        driver.get(f'https://www.lifestylestores.com/in/en/c/men-winterwear?p=1')\n",
    "        data=driver.find_elements_by_xpath('//div[@class=\"MuiGrid-root jss245 MuiGrid-item MuiGrid-grid-xs-6 MuiGrid-grid-sm-3\"]')\n",
    "        for k in range(len(data)):\n",
    "            driver.implicitly_wait(2)\n",
    "            click=driver.find_elements_by_xpath('//div[@class=\"MuiGrid-root jss245 MuiGrid-item MuiGrid-grid-xs-6 MuiGrid-grid-sm-3\"]')[k]\n",
    "            click.click()\n",
    "            details('Winter Wear')\n",
    "            driver.back()\n",
    "            \n",
    "    except:\n",
    "        pass"
   ]
  },
  {
   "cell_type": "markdown",
   "metadata": {},
   "source": [
    "# Mens:Innerwear"
   ]
  },
  {
   "cell_type": "code",
   "execution_count": 75,
   "metadata": {},
   "outputs": [],
   "source": [
    "for j in range(0,6):\n",
    "    try:\n",
    "        driver.get(f'https://www.lifestylestores.com/in/en/c/men-innerwear?p={j}')\n",
    "        data=driver.find_elements_by_xpath('//div[@class=\"MuiGrid-root jss244 MuiGrid-item MuiGrid-grid-xs-6 MuiGrid-grid-sm-3\"]')\n",
    "        for k in range(len(data)):\n",
    "            #driver.implicitly_wait(2)\n",
    "            click=driver.find_elements_by_xpath('//div[@class=\"MuiGrid-root jss244 MuiGrid-item MuiGrid-grid-xs-6 MuiGrid-grid-sm-3\"]')[k]\n",
    "            click.click()\n",
    "            details('Inner Wear')\n",
    "            driver.back()\n",
    "            \n",
    "    except:\n",
    "        pass"
   ]
  },
  {
   "cell_type": "markdown",
   "metadata": {},
   "source": [
    "# Mens:Watches"
   ]
  },
  {
   "cell_type": "code",
   "execution_count": null,
   "metadata": {},
   "outputs": [],
   "source": [
    "watches=['men-watches-digitalwatches','men-watches-analogwatches','men-watches-automaticwatches','men-watches-chronographwatches','men-watches-multifunctionwatches','men-watches-smartwatches','men-watches-fitnesstrackers']"
   ]
  },
  {
   "cell_type": "code",
   "execution_count": 77,
   "metadata": {},
   "outputs": [],
   "source": [
    "for i in range(len(watches)):\n",
    "    for j in range(0,10):\n",
    "    try:\n",
    "        driver.get(f'https://www.lifestylestores.com/in/en/c/{i}?p={j}')\n",
    "        data=driver.find_elements_by_xpath('//div[@class=\"MuiGrid-root jss222 MuiGrid-item MuiGrid-grid-xs-6 MuiGrid-grid-sm-3\"]')\n",
    "        for k in range(len(data)):\n",
    "            #driver.implicitly_wait(2)\n",
    "            click=driver.find_elements_by_xpath('//div[@class=\"MuiGrid-root jss222 MuiGrid-item MuiGrid-grid-xs-6 MuiGrid-grid-sm-3\"]')[k]\n",
    "            click.click()\n",
    "            details('Watches')\n",
    "            driver.back()\n",
    "            \n",
    "    except:\n",
    "        pass"
   ]
  },
  {
   "cell_type": "markdown",
   "metadata": {},
   "source": [
    "# Mens:Sunglasses"
   ]
  },
  {
   "cell_type": "code",
   "execution_count": 78,
   "metadata": {},
   "outputs": [],
   "source": [
    "for j in range(0,21):\n",
    "    try:\n",
    "        driver.get(f'https://www.lifestylestores.com/in/en/c/men-sunglasses?p=1')\n",
    "        data=driver.find_elements_by_xpath('//div[@class=\"MuiGrid-root jss253 MuiGrid-item MuiGrid-grid-xs-6 MuiGrid-grid-sm-3\"]')\n",
    "        for k in range(len(data)):\n",
    "            #driver.implicitly_wait(2)\n",
    "            click=driver.find_elements_by_xpath('//div[@class=\"MuiGrid-root jss253 MuiGrid-item MuiGrid-grid-xs-6 MuiGrid-grid-sm-3\"]')[k]\n",
    "            click.click()\n",
    "            details('Sunglasses')\n",
    "            driver.back()\n",
    "            \n",
    "    except:\n",
    "        pass"
   ]
  },
  {
   "cell_type": "markdown",
   "metadata": {},
   "source": [
    "# Mens Shoes and bags"
   ]
  },
  {
   "cell_type": "code",
   "execution_count": 79,
   "metadata": {},
   "outputs": [],
   "source": [
    "for j in range(0,11):\n",
    "    try:\n",
    "        driver.get(f'https://www.lifestylestores.com/in/en/c/shoesandbags-men?p={j}')\n",
    "        data=driver.find_elements_by_xpath('//div[@class=\"MuiGrid-root jss246 MuiGrid-item MuiGrid-grid-xs-6 MuiGrid-grid-sm-3\"]')\n",
    "        for k in range(len(data)):\n",
    "            #driver.implicitly_wait(2)\n",
    "            click=driver.find_elements_by_xpath('//div[@class=\"MuiGrid-root jss246 MuiGrid-item MuiGrid-grid-xs-6 MuiGrid-grid-sm-3\"]')[k]\n",
    "            click.click()\n",
    "            details('Shoes and bags')\n",
    "            driver.back()\n",
    "            \n",
    "    except:\n",
    "        pass"
   ]
  },
  {
   "cell_type": "markdown",
   "metadata": {},
   "source": [
    "# Men:Accessories"
   ]
  },
  {
   "cell_type": "code",
   "execution_count": 81,
   "metadata": {},
   "outputs": [],
   "source": [
    "for j in range(0,1):\n",
    "    try:\n",
    "        driver.get(f'https://www.lifestylestores.com/in/en/c/accessories-men?p={j}')\n",
    "        data=driver.find_elements_by_xpath('//div[@class=\"MuiGrid-root jss242 MuiGrid-item MuiGrid-grid-xs-6 MuiGrid-grid-sm-3\"]')\n",
    "        for k in range(len(data)):\n",
    "            driver.implicitly_wait(2)\n",
    "            click=driver.find_elements_by_xpath('//div[@class=\"MuiGrid-root jss242 MuiGrid-item MuiGrid-grid-xs-6 MuiGrid-grid-sm-3\"]')[k]\n",
    "            click.click()\n",
    "            details('Accessories')\n",
    "            driver.back()\n",
    "            \n",
    "    except:\n",
    "        pass"
   ]
  },
  {
   "cell_type": "code",
   "execution_count": 102,
   "metadata": {},
   "outputs": [],
   "source": [
    "data=pd.DataFrame({\n",
    "    \n",
    "    \"Website\":'https://www.lifestylestores.com/',\n",
    "    \"Product_Link\":Product_Link,\n",
    "    \"Product_Name\":Product_Name,\n",
    "    \"Product_Brand\":Product_Brand,\n",
    "    \"Product_Category\":Cat_list,\n",
    "    \"Size_Avail\":Size_Available,\n",
    "    \"Price\":Price,\n",
    "    \"MRP\":MRP,\n",
    "    \"Gender\":Gender,\n",
    "    \"Description\":Description,\n",
    "    \"Primary_Image_Links\":Primary_Image_Link,\n",
    "    \"Secondary_Image_Links\":Secondary_Image_Link,\n",
    "    \"Affiliate_Link\":''\n",
    "    \n",
    "})"
   ]
  },
  {
   "cell_type": "code",
   "execution_count": null,
   "metadata": {},
   "outputs": [],
   "source": [
    "data.head(4)"
   ]
  },
  {
   "cell_type": "code",
   "execution_count": 104,
   "metadata": {},
   "outputs": [],
   "source": [
    "con=sqlite3.connect(\"Life.db\")  \n",
    "cur=con.cursor()\n",
    "cur.execute('CREATE TABLE product_details (Website varchar(40) not null,Product_Link text PRIMARY KEY,Product_Name varchar(50) not null,Product_Brand varchar(50) not null,Product_Category varchar(50),Size_Avail varchar(20) not null,Price int not null,MRP int not null,Gender varchar(15) not null,Description text not null,Primary_Image_Links text not null,Secondary_Image_Links text not null,Affiliate_Link text not null )')\n",
    "data.to_sql('product_details', con, if_exists='replace', index = False)\n",
    "con.commit()\n",
    "con.close()"
   ]
  },
  {
   "cell_type": "markdown",
   "metadata": {},
   "source": [
    "# Women"
   ]
  }
 ],
 "metadata": {
  "kernelspec": {
   "display_name": "Python 3",
   "language": "python",
   "name": "python3"
  },
  "language_info": {
   "codemirror_mode": {
    "name": "ipython",
    "version": 3
   },
   "file_extension": ".py",
   "mimetype": "text/x-python",
   "name": "python",
   "nbconvert_exporter": "python",
   "pygments_lexer": "ipython3",
   "version": "3.8.5"
  }
 },
 "nbformat": 4,
 "nbformat_minor": 4
}
