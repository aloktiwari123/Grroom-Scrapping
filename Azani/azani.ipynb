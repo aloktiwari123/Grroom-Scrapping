{
 "cells": [
  {
   "cell_type": "code",
   "execution_count": 1,
   "metadata": {},
   "outputs": [],
   "source": [
    "from bs4 import BeautifulSoup\n",
    "import requests\n",
    "import pandas as pd\n",
    "from pandas import Series, DataFrame\n",
    "from ipywidgets import FloatProgress\n",
    "from time import sleep\n",
    "from IPython.display import display\n",
    "import re\n",
    "import pickle\n",
    "from urlextract import URLExtract\n",
    "import json\n",
    "import sqlite3\n",
    "import datetime\n",
    "from tqdm import tqdm"
   ]
  },
  {
   "cell_type": "code",
   "execution_count": 2,
   "metadata": {},
   "outputs": [],
   "source": [
    "headers = {'User-Agent' : 'Mozilla/5.0 (Macintosh; Intel Mac OS X 10_14_5) AppleWebKit/537.36 (KHTML, like Gecko) Chrome/84.0.4147.89 Safari/537.36'}"
   ]
  },
  {
   "cell_type": "markdown",
   "metadata": {},
   "source": [
    "## Mens Clothing"
   ]
  },
  {
   "cell_type": "code",
   "execution_count": 30,
   "metadata": {},
   "outputs": [],
   "source": [
    "men_clothings_link=[]\n",
    "for i in range(1,7):\n",
    "    try:\n",
    "        result=requests.get(f\"https://apparels.azanisport.com/collections/mens-clothing?page={i}\",headers=headers)\n",
    "        get=result.content\n",
    "        data=BeautifulSoup(get,'lxml')\n",
    "        prod=data.find_all('div',{'class':'Grid__Cell 1/2--phone 1/2--tablet-and-up 1/3--desk'})\n",
    "        for j in prod:\n",
    "            if(j.find('button').find('span').text !='SOLD OUT'):\n",
    "                men_clothings_link.append('https://apparels.azanisport.com'+j.find('a').attrs['href'])\n",
    "    except:\n",
    "        pass "
   ]
  },
  {
   "cell_type": "code",
   "execution_count": 31,
   "metadata": {},
   "outputs": [
    {
     "data": {
      "text/plain": [
       "64"
      ]
     },
     "execution_count": 31,
     "metadata": {},
     "output_type": "execute_result"
    }
   ],
   "source": [
    "len(men_clothings_link)"
   ]
  },
  {
   "cell_type": "code",
   "execution_count": 32,
   "metadata": {},
   "outputs": [],
   "source": [
    "Product_Link=[]\n",
    "Product_Name=[]\n",
    "Product_Brand=[]\n",
    "Size_Available=[]\n",
    "Price=[]\n",
    "MRP=[]\n",
    "Gender=[]\n",
    "Description=[]\n",
    "Cat_list=[]\n",
    "Primary_Image_Link=[]\n",
    "Secondary_Image_Link=[]"
   ]
  },
  {
   "cell_type": "code",
   "execution_count": 33,
   "metadata": {},
   "outputs": [
    {
     "name": "stderr",
     "output_type": "stream",
     "text": [
      "100%|██████████| 64/64 [01:20<00:00,  1.26s/it]\n"
     ]
    }
   ],
   "source": [
    "for i in tqdm(men_clothings_link):\n",
    "    try:\n",
    "        result=requests.get(i,headers=headers)\n",
    "        get=result.content\n",
    "        soup=BeautifulSoup(get,'lxml')\n",
    "        js=json.loads(soup.find('script',{'type':'application/ld+json'}).contents[0])\n",
    "        product_name=js['name']\n",
    "        product_brand=js['brand']\n",
    "        product_link=i\n",
    "        product_cat=js['category']\n",
    "        product_des=js['description']\n",
    "        product_mrp=soup.find('span',{'class':'ProductMeta__Price Price Price--compareAt Text--subdued u-h4'}).text\n",
    "        product_mrp=int(''.join(product_mrp[4:].split(',')))\n",
    "        product_price=int(float(js['offers']['price']))\n",
    "        primary_link=js['image']['url']\n",
    "        images=soup.find_all('div',{'class':'Product__SlideItem Product__SlideItem--image Carousel__Cell'})\n",
    "        img=[]\n",
    "        for k in images:\n",
    "            img.append(k.find('img').attrs['data-src'].split('{width}')[0]+'1024x1024.jpg')\n",
    "        secondary_link=','.join(img)\n",
    "        size=soup.find('ul',{'class':'SizeSwatchList HorizontalList HorizontalList--spacingTight'}).text.lstrip().rstrip().split('\\n\\n\\n')\n",
    "        size_avl=','.join(size)\n",
    "    \n",
    "    except:\n",
    "        pass\n",
    "        \n",
    "    else:\n",
    "        Product_Link.append(product_link)\n",
    "        Product_Brand.append(product_brand)\n",
    "        Product_Name.append(product_name)\n",
    "        Description.append(product_des)\n",
    "        Gender.append('Men')\n",
    "        Cat_list.append(product_cat)\n",
    "        MRP.append(product_mrp)\n",
    "        Price.append(product_price)\n",
    "        Primary_Image_Link.append(primary_link)\n",
    "        Secondary_Image_Link.append(secondary_link)\n",
    "        Size_Available.append(size_avl)\n",
    "    "
   ]
  },
  {
   "cell_type": "code",
   "execution_count": 34,
   "metadata": {},
   "outputs": [],
   "source": [
    "out=pd.DataFrame({\n",
    "    \n",
    "    \"Website\":'https://apparels.azanisport.com/',\n",
    "    \"Product_Link\":Product_Link,\n",
    "    \"Product_Name\":Product_Name,\n",
    "    \"Product_Brand\":Product_Brand,\n",
    "    \"Product_Category\":Cat_list,\n",
    "    \"Size_Avail\":Size_Available,\n",
    "    \"Price\":Price,\n",
    "    \"MRP\":MRP,\n",
    "    \"Gender\":Gender,\n",
    "    \"Description\":Description,\n",
    "    \"Primary_Image_Links\":Primary_Image_Link,\n",
    "    \"Secondary_Image_Links\":Secondary_Image_Link,\n",
    "    \"Affiliate_Link\":''\n",
    "    \n",
    "})"
   ]
  },
  {
   "cell_type": "code",
   "execution_count": 35,
   "metadata": {},
   "outputs": [
    {
     "data": {
      "text/html": [
       "<div>\n",
       "<style scoped>\n",
       "    .dataframe tbody tr th:only-of-type {\n",
       "        vertical-align: middle;\n",
       "    }\n",
       "\n",
       "    .dataframe tbody tr th {\n",
       "        vertical-align: top;\n",
       "    }\n",
       "\n",
       "    .dataframe thead th {\n",
       "        text-align: right;\n",
       "    }\n",
       "</style>\n",
       "<table border=\"1\" class=\"dataframe\">\n",
       "  <thead>\n",
       "    <tr style=\"text-align: right;\">\n",
       "      <th></th>\n",
       "      <th>Website</th>\n",
       "      <th>Product_Link</th>\n",
       "      <th>Product_Name</th>\n",
       "      <th>Product_Brand</th>\n",
       "      <th>Product_Category</th>\n",
       "      <th>Size_Avail</th>\n",
       "      <th>Price</th>\n",
       "      <th>MRP</th>\n",
       "      <th>Gender</th>\n",
       "      <th>Description</th>\n",
       "      <th>Primary_Image_Links</th>\n",
       "      <th>Secondary_Image_Links</th>\n",
       "      <th>Affiliate_Link</th>\n",
       "    </tr>\n",
       "  </thead>\n",
       "  <tbody>\n",
       "    <tr>\n",
       "      <th>0</th>\n",
       "      <td>https://apparels.azanisport.com/</td>\n",
       "      <td>https://apparels.azanisport.com/collections/me...</td>\n",
       "      <td>Azani Super Spirit Sleeveless Compression Top ...</td>\n",
       "      <td>Azani</td>\n",
       "      <td>Compression Top</td>\n",
       "      <td>S,M,L,XL,XXL</td>\n",
       "      <td>688</td>\n",
       "      <td>1899</td>\n",
       "      <td>Men</td>\n",
       "      <td>Product Description:-\\nThe Azani Super Spirit ...</td>\n",
       "      <td>https://cdn.shopify.com/s/files/1/0910/2946/pr...</td>\n",
       "      <td>//cdn.shopify.com/s/files/1/0910/2946/products...</td>\n",
       "      <td></td>\n",
       "    </tr>\n",
       "    <tr>\n",
       "      <th>1</th>\n",
       "      <td>https://apparels.azanisport.com/</td>\n",
       "      <td>https://apparels.azanisport.com/collections/me...</td>\n",
       "      <td>Azani Men’s Pixel 1/4 Zipper Jumper - Grey</td>\n",
       "      <td>Azani</td>\n",
       "      <td>Jumper</td>\n",
       "      <td>S,M,L,XL,XXL</td>\n",
       "      <td>1337</td>\n",
       "      <td>1999</td>\n",
       "      <td>Men</td>\n",
       "      <td>Product Description:\\nThe Azani Men’s Pixel 1/...</td>\n",
       "      <td>https://cdn.shopify.com/s/files/1/0910/2946/pr...</td>\n",
       "      <td>//cdn.shopify.com/s/files/1/0910/2946/products...</td>\n",
       "      <td></td>\n",
       "    </tr>\n",
       "    <tr>\n",
       "      <th>2</th>\n",
       "      <td>https://apparels.azanisport.com/</td>\n",
       "      <td>https://apparels.azanisport.com/collections/me...</td>\n",
       "      <td>Azani Dart Crew Neck Half Sleeve T-Shirt - Yellow</td>\n",
       "      <td>Azani</td>\n",
       "      <td>T-Shirt</td>\n",
       "      <td>S,M,L,XL,XXL</td>\n",
       "      <td>340</td>\n",
       "      <td>1200</td>\n",
       "      <td>Men</td>\n",
       "      <td>Product Description:\\nA simple yet sophisticat...</td>\n",
       "      <td>https://cdn.shopify.com/s/files/1/0910/2946/pr...</td>\n",
       "      <td>//cdn.shopify.com/s/files/1/0910/2946/products...</td>\n",
       "      <td></td>\n",
       "    </tr>\n",
       "    <tr>\n",
       "      <th>3</th>\n",
       "      <td>https://apparels.azanisport.com/</td>\n",
       "      <td>https://apparels.azanisport.com/collections/me...</td>\n",
       "      <td>Azani Sprint Light Weight Woven Jacket - Teal/...</td>\n",
       "      <td>Azani</td>\n",
       "      <td>Jacket</td>\n",
       "      <td>S,M,L,XL,XXL</td>\n",
       "      <td>899</td>\n",
       "      <td>1999</td>\n",
       "      <td>Men</td>\n",
       "      <td>Product Description:\\nThe Azani Sprint Light W...</td>\n",
       "      <td>https://cdn.shopify.com/s/files/1/0910/2946/pr...</td>\n",
       "      <td>//cdn.shopify.com/s/files/1/0910/2946/products...</td>\n",
       "      <td></td>\n",
       "    </tr>\n",
       "    <tr>\n",
       "      <th>4</th>\n",
       "      <td>https://apparels.azanisport.com/</td>\n",
       "      <td>https://apparels.azanisport.com/collections/me...</td>\n",
       "      <td>Azani Tapered Track Pants - Navy</td>\n",
       "      <td>Azani</td>\n",
       "      <td>Track Pants</td>\n",
       "      <td>XS,S,M,L,XL,XXL</td>\n",
       "      <td>519</td>\n",
       "      <td>1299</td>\n",
       "      <td>Men</td>\n",
       "      <td>Product Description:\\nSleek, lightweight and f...</td>\n",
       "      <td>https://cdn.shopify.com/s/files/1/0910/2946/pr...</td>\n",
       "      <td>//cdn.shopify.com/s/files/1/0910/2946/products...</td>\n",
       "      <td></td>\n",
       "    </tr>\n",
       "  </tbody>\n",
       "</table>\n",
       "</div>"
      ],
      "text/plain": [
       "                            Website  \\\n",
       "0  https://apparels.azanisport.com/   \n",
       "1  https://apparels.azanisport.com/   \n",
       "2  https://apparels.azanisport.com/   \n",
       "3  https://apparels.azanisport.com/   \n",
       "4  https://apparels.azanisport.com/   \n",
       "\n",
       "                                        Product_Link  \\\n",
       "0  https://apparels.azanisport.com/collections/me...   \n",
       "1  https://apparels.azanisport.com/collections/me...   \n",
       "2  https://apparels.azanisport.com/collections/me...   \n",
       "3  https://apparels.azanisport.com/collections/me...   \n",
       "4  https://apparels.azanisport.com/collections/me...   \n",
       "\n",
       "                                        Product_Name Product_Brand  \\\n",
       "0  Azani Super Spirit Sleeveless Compression Top ...         Azani   \n",
       "1         Azani Men’s Pixel 1/4 Zipper Jumper - Grey         Azani   \n",
       "2  Azani Dart Crew Neck Half Sleeve T-Shirt - Yellow         Azani   \n",
       "3  Azani Sprint Light Weight Woven Jacket - Teal/...         Azani   \n",
       "4                   Azani Tapered Track Pants - Navy         Azani   \n",
       "\n",
       "  Product_Category       Size_Avail  Price   MRP Gender  \\\n",
       "0  Compression Top     S,M,L,XL,XXL    688  1899    Men   \n",
       "1           Jumper     S,M,L,XL,XXL   1337  1999    Men   \n",
       "2          T-Shirt     S,M,L,XL,XXL    340  1200    Men   \n",
       "3           Jacket     S,M,L,XL,XXL    899  1999    Men   \n",
       "4      Track Pants  XS,S,M,L,XL,XXL    519  1299    Men   \n",
       "\n",
       "                                         Description  \\\n",
       "0  Product Description:-\\nThe Azani Super Spirit ...   \n",
       "1  Product Description:\\nThe Azani Men’s Pixel 1/...   \n",
       "2  Product Description:\\nA simple yet sophisticat...   \n",
       "3  Product Description:\\nThe Azani Sprint Light W...   \n",
       "4  Product Description:\\nSleek, lightweight and f...   \n",
       "\n",
       "                                 Primary_Image_Links  \\\n",
       "0  https://cdn.shopify.com/s/files/1/0910/2946/pr...   \n",
       "1  https://cdn.shopify.com/s/files/1/0910/2946/pr...   \n",
       "2  https://cdn.shopify.com/s/files/1/0910/2946/pr...   \n",
       "3  https://cdn.shopify.com/s/files/1/0910/2946/pr...   \n",
       "4  https://cdn.shopify.com/s/files/1/0910/2946/pr...   \n",
       "\n",
       "                               Secondary_Image_Links Affiliate_Link  \n",
       "0  //cdn.shopify.com/s/files/1/0910/2946/products...                 \n",
       "1  //cdn.shopify.com/s/files/1/0910/2946/products...                 \n",
       "2  //cdn.shopify.com/s/files/1/0910/2946/products...                 \n",
       "3  //cdn.shopify.com/s/files/1/0910/2946/products...                 \n",
       "4  //cdn.shopify.com/s/files/1/0910/2946/products...                 "
      ]
     },
     "execution_count": 35,
     "metadata": {},
     "output_type": "execute_result"
    }
   ],
   "source": [
    "out.head()"
   ]
  },
  {
   "cell_type": "code",
   "execution_count": 36,
   "metadata": {},
   "outputs": [],
   "source": [
    "conn = sqlite3.connect(r'azani.db')\n",
    "c = conn.cursor()\n",
    "\n",
    "c.execute('CREATE TABLE product_details (Website varchar(40) not null,Product_Link text PRIMARY KEY,Product_Name varchar(50) not null,Product_Brand varchar(50) not null,Product_Category varchar(50),Size_Avail varchar(20) not null,Price int not null,MRP int not null,Gender varchar(15) not null,Description text not null,Primary_Image_Links text not null,Secondary_Image_Links text not null,Affiliate_Link text not null )')\n",
    "conn.commit()\n",
    "\n",
    "out.to_sql('product_details', conn, if_exists='replace', index = False)\n",
    "conn.close()"
   ]
  },
  {
   "cell_type": "markdown",
   "metadata": {},
   "source": [
    "## Mens Shoes"
   ]
  },
  {
   "cell_type": "code",
   "execution_count": 37,
   "metadata": {},
   "outputs": [],
   "source": [
    "shoes_link=[]\n",
    "for i in range(1,2):\n",
    "    try:\n",
    "        result=requests.get(f\"https://apparels.azanisport.com/collections/mens-shoes?page={i}\",headers=headers)\n",
    "        get=result.content\n",
    "        data=BeautifulSoup(get,'lxml')\n",
    "        prod=data.find_all('div',{'class':'Grid__Cell 1/2--phone 1/2--tablet-and-up 1/3--desk'})\n",
    "        for j in prod:\n",
    "            if(j.find('button').find('span').text !='SOLD OUT'):\n",
    "                shoes_link.append('https://apparels.azanisport.com'+j.find('a').attrs['href'])\n",
    "    except:\n",
    "        pass"
   ]
  },
  {
   "cell_type": "code",
   "execution_count": 38,
   "metadata": {},
   "outputs": [
    {
     "data": {
      "text/plain": [
       "29"
      ]
     },
     "execution_count": 38,
     "metadata": {},
     "output_type": "execute_result"
    }
   ],
   "source": [
    "len(shoes_link)"
   ]
  },
  {
   "cell_type": "code",
   "execution_count": 39,
   "metadata": {},
   "outputs": [],
   "source": [
    "Product_Link=[]\n",
    "Product_Name=[]\n",
    "Product_Brand=[]\n",
    "Size_Available=[]\n",
    "Price=[]\n",
    "MRP=[]\n",
    "Gender=[]\n",
    "Description=[]\n",
    "Cat_list=[]\n",
    "Primary_Image_Link=[]\n",
    "Secondary_Image_Link=[]"
   ]
  },
  {
   "cell_type": "code",
   "execution_count": 40,
   "metadata": {},
   "outputs": [
    {
     "name": "stderr",
     "output_type": "stream",
     "text": [
      "100%|██████████| 29/29 [00:36<00:00,  1.25s/it]\n"
     ]
    }
   ],
   "source": [
    "for i in tqdm(shoes_link):\n",
    "    try:\n",
    "        result=requests.get(i,headers=headers)\n",
    "        get=result.content\n",
    "        soup=BeautifulSoup(get,'lxml')\n",
    "        js=json.loads(soup.find('script',{'type':'application/ld+json'}).contents[0])\n",
    "        product_name=js['name']\n",
    "        product_brand=js['brand']\n",
    "        product_link=i\n",
    "        product_cat=js['category']\n",
    "        product_des=js['description']\n",
    "        product_mrp=soup.find('span',{'class':'ProductMeta__Price Price Price--compareAt Text--subdued u-h4'}).text\n",
    "        product_mrp=int(''.join(product_mrp[4:].split(',')))\n",
    "        product_price=int(float(js['offers']['price']))\n",
    "        primary_link=js['image']['url']\n",
    "        images=soup.find_all('div',{'class':'Product__SlideItem Product__SlideItem--image Carousel__Cell'})\n",
    "        img=[]\n",
    "        for k in images:\n",
    "            img.append(k.find('img').attrs['data-src'].split('{width}')[0]+'1024x1024.jpg')\n",
    "        secondary_link=','.join(img)\n",
    "        size=soup.find('ul',{'class':'SizeSwatchList HorizontalList HorizontalList--spacingTight'}).text.lstrip().rstrip().split('\\n\\n\\n')\n",
    "        size_avl=','.join(size)\n",
    "    \n",
    "    except:\n",
    "        pass\n",
    "        \n",
    "    else:\n",
    "        Product_Link.append(product_link)\n",
    "        Product_Brand.append(product_brand)\n",
    "        Product_Name.append(product_name)\n",
    "        Description.append(product_des)\n",
    "        Gender.append('Men')\n",
    "        Cat_list.append(product_cat)\n",
    "        MRP.append(product_mrp)\n",
    "        Price.append(product_price)\n",
    "        Primary_Image_Link.append(primary_link)\n",
    "        Secondary_Image_Link.append(secondary_link)\n",
    "        Size_Available.append(size_avl)\n",
    "    "
   ]
  },
  {
   "cell_type": "code",
   "execution_count": 41,
   "metadata": {},
   "outputs": [],
   "source": [
    "out=pd.DataFrame({\n",
    "    \n",
    "    \"Website\":'https://apparels.azanisport.com/',\n",
    "    \"Product_Link\":Product_Link,\n",
    "    \"Product_Name\":Product_Name,\n",
    "    \"Product_Brand\":Product_Brand,\n",
    "    \"Product_Category\":Cat_list,\n",
    "    \"Size_Avail\":Size_Available,\n",
    "    \"Price\":Price,\n",
    "    \"MRP\":MRP,\n",
    "    \"Gender\":Gender,\n",
    "    \"Description\":Description,\n",
    "    \"Primary_Image_Links\":Primary_Image_Link,\n",
    "    \"Secondary_Image_Links\":Secondary_Image_Link,\n",
    "    \"Affiliate_Link\":''\n",
    "    \n",
    "})"
   ]
  },
  {
   "cell_type": "code",
   "execution_count": 42,
   "metadata": {},
   "outputs": [
    {
     "data": {
      "text/plain": [
       "(29, 13)"
      ]
     },
     "execution_count": 42,
     "metadata": {},
     "output_type": "execute_result"
    }
   ],
   "source": [
    "out.shape"
   ]
  },
  {
   "cell_type": "code",
   "execution_count": 43,
   "metadata": {},
   "outputs": [],
   "source": [
    "conn = sqlite3.connect(r'azani.db')\n",
    "c = conn.cursor()\n",
    "\n",
    "#c.execute('CREATE TABLE product_details (Website varchar(40) not null,Product_Link text PRIMARY KEY,Product_Name varchar(50) not null,Product_Brand varchar(50) not null,Product_Category varchar(50),Size_Avail varchar(20) not null,Price int not null,MRP int not null,Gender varchar(15) not null,Description text not null,Primary_Image_Links text not null,Secondary_Image_Links text not null,Affiliate_Link text not null )')\n",
    "#conn.commit()\n",
    "\n",
    "out.to_sql('product_details', conn, if_exists='append', index = False)\n",
    "conn.close()"
   ]
  },
  {
   "cell_type": "markdown",
   "metadata": {},
   "source": [
    "## Mens Accessories"
   ]
  },
  {
   "cell_type": "code",
   "execution_count": 44,
   "metadata": {},
   "outputs": [],
   "source": [
    "acc_link=[]\n",
    "for i in range(1,2):\n",
    "    try:\n",
    "        result=requests.get(f\"https://apparels.azanisport.com/collections/mens-trackpants-joggers?page={i}\",headers=headers)\n",
    "        get=result.content\n",
    "        data=BeautifulSoup(get,'lxml')\n",
    "        prod=data.find_all('div',{'class':'Grid__Cell 1/2--phone 1/2--tablet-and-up 1/3--desk'})\n",
    "        for j in prod:\n",
    "            if(j.find('button').find('span').text !='SOLD OUT'):\n",
    "                acc_link.append('https://apparels.azanisport.com'+j.find('a').attrs['href'])\n",
    "    except:\n",
    "        pass"
   ]
  },
  {
   "cell_type": "code",
   "execution_count": 45,
   "metadata": {},
   "outputs": [
    {
     "data": {
      "text/plain": [
       "9"
      ]
     },
     "execution_count": 45,
     "metadata": {},
     "output_type": "execute_result"
    }
   ],
   "source": [
    "len(acc_link)"
   ]
  },
  {
   "cell_type": "code",
   "execution_count": 46,
   "metadata": {},
   "outputs": [],
   "source": [
    "Product_Link=[]\n",
    "Product_Name=[]\n",
    "Product_Brand=[]\n",
    "Size_Available=[]\n",
    "Price=[]\n",
    "MRP=[]\n",
    "Gender=[]\n",
    "Description=[]\n",
    "Cat_list=[]\n",
    "Primary_Image_Link=[]\n",
    "Secondary_Image_Link=[]"
   ]
  },
  {
   "cell_type": "code",
   "execution_count": 47,
   "metadata": {},
   "outputs": [
    {
     "name": "stderr",
     "output_type": "stream",
     "text": [
      "100%|██████████| 9/9 [00:08<00:00,  1.07it/s]\n"
     ]
    }
   ],
   "source": [
    "for i in tqdm(acc_link):\n",
    "    try:\n",
    "        result=requests.get(i,headers=headers)\n",
    "        get=result.content\n",
    "        soup=BeautifulSoup(get,'lxml')\n",
    "        js=json.loads(soup.find('script',{'type':'application/ld+json'}).contents[0])\n",
    "        product_name=js['name']\n",
    "        product_brand=js['brand']\n",
    "        product_link=i\n",
    "        product_cat=js['category']\n",
    "        product_des=js['description']\n",
    "        product_mrp=soup.find('span',{'class':'ProductMeta__Price Price Price--compareAt Text--subdued u-h4'}).text\n",
    "        product_mrp=int(''.join(product_mrp[4:].split(',')))\n",
    "        product_price=int(float(js['offers']['price']))\n",
    "        primary_link=js['image']['url']\n",
    "        images=soup.find_all('div',{'class':'Product__SlideItem Product__SlideItem--image Carousel__Cell'})\n",
    "        img=[]\n",
    "        for k in images:\n",
    "            img.append(k.find('img').attrs['data-src'].split('{width}')[0]+'1024x1024.jpg')\n",
    "        secondary_link=','.join(img)\n",
    "        size=soup.find('ul',{'class':'SizeSwatchList HorizontalList HorizontalList--spacingTight'}).text.lstrip().rstrip().split('\\n\\n\\n')\n",
    "        size_avl=','.join(size)\n",
    "    \n",
    "    except:\n",
    "        pass\n",
    "        \n",
    "    else:\n",
    "        Product_Link.append(product_link)\n",
    "        Product_Brand.append(product_brand)\n",
    "        Product_Name.append(product_name)\n",
    "        Description.append(product_des)\n",
    "        Gender.append('Men')\n",
    "        Cat_list.append(product_cat)\n",
    "        MRP.append(product_mrp)\n",
    "        Price.append(product_price)\n",
    "        Primary_Image_Link.append(primary_link)\n",
    "        Secondary_Image_Link.append(secondary_link)\n",
    "        Size_Available.append(size_avl)\n",
    "    "
   ]
  },
  {
   "cell_type": "code",
   "execution_count": 48,
   "metadata": {},
   "outputs": [],
   "source": [
    "out=pd.DataFrame({\n",
    "    \n",
    "    \"Website\":'https://apparels.azanisport.com/',\n",
    "    \"Product_Link\":Product_Link,\n",
    "    \"Product_Name\":Product_Name,\n",
    "    \"Product_Brand\":Product_Brand,\n",
    "    \"Product_Category\":Cat_list,\n",
    "    \"Size_Avail\":Size_Available,\n",
    "    \"Price\":Price,\n",
    "    \"MRP\":MRP,\n",
    "    \"Gender\":Gender,\n",
    "    \"Description\":Description,\n",
    "    \"Primary_Image_Links\":Primary_Image_Link,\n",
    "    \"Secondary_Image_Links\":Secondary_Image_Link,\n",
    "    \"Affiliate_Link\":''\n",
    "    \n",
    "})"
   ]
  },
  {
   "cell_type": "code",
   "execution_count": 49,
   "metadata": {},
   "outputs": [
    {
     "data": {
      "text/plain": [
       "(9, 13)"
      ]
     },
     "execution_count": 49,
     "metadata": {},
     "output_type": "execute_result"
    }
   ],
   "source": [
    "out.shape"
   ]
  },
  {
   "cell_type": "code",
   "execution_count": 50,
   "metadata": {},
   "outputs": [],
   "source": [
    "conn = sqlite3.connect(r'azani.db')\n",
    "c = conn.cursor()\n",
    "\n",
    "#c.execute('CREATE TABLE product_details (Website varchar(40) not null,Product_Link text PRIMARY KEY,Product_Name varchar(50) not null,Product_Brand varchar(50) not null,Product_Category varchar(50),Size_Avail varchar(20) not null,Price int not null,MRP int not null,Gender varchar(15) not null,Description text not null,Primary_Image_Links text not null,Secondary_Image_Links text not null,Affiliate_Link text not null )')\n",
    "#conn.commit()\n",
    "\n",
    "out.to_sql('product_details', conn, if_exists='append', index = False)\n",
    "conn.close()"
   ]
  },
  {
   "cell_type": "code",
   "execution_count": null,
   "metadata": {},
   "outputs": [],
   "source": []
  }
 ],
 "metadata": {
  "kernelspec": {
   "display_name": "Python 3",
   "language": "python",
   "name": "python3"
  },
  "language_info": {
   "codemirror_mode": {
    "name": "ipython",
    "version": 3
   },
   "file_extension": ".py",
   "mimetype": "text/x-python",
   "name": "python",
   "nbconvert_exporter": "python",
   "pygments_lexer": "ipython3",
   "version": "3.8.5"
  }
 },
 "nbformat": 4,
 "nbformat_minor": 4
}
