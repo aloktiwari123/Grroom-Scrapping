{
 "cells": [
  {
   "cell_type": "code",
   "execution_count": 2,
   "metadata": {},
   "outputs": [],
   "source": [
    "from bs4 import BeautifulSoup\n",
    "import requests\n",
    "import pandas as pd\n",
    "from pandas import Series, DataFrame\n",
    "from ipywidgets import FloatProgress\n",
    "from time import sleep\n",
    "from IPython.display import display\n",
    "import re\n",
    "import pickle\n",
    "from urlextract import URLExtract\n",
    "import json\n",
    "import sqlite3\n",
    "import datetime\n",
    "from tqdm import tqdm"
   ]
  },
  {
   "cell_type": "code",
   "execution_count": 3,
   "metadata": {},
   "outputs": [],
   "source": [
    "headers = {'User-Agent' : 'Mozilla/5.0 (Macintosh; Intel Mac OS X 10_14_5) AppleWebKit/537.36 (KHTML, like Gecko) Chrome/84.0.4147.89 Safari/537.36'}"
   ]
  },
  {
   "cell_type": "code",
   "execution_count": 86,
   "metadata": {},
   "outputs": [],
   "source": [
    "Product_Link=[]\n",
    "Product_Name=[]\n",
    "Product_Brand=[]\n",
    "Size_Available=[]\n",
    "Price=[]\n",
    "MRP=[]\n",
    "Gender=[]\n",
    "Description=[]\n",
    "Cat_list=[]\n",
    "Primary_Image_Link=[]\n",
    "Secondary_Image_Link=[]"
   ]
  },
  {
   "cell_type": "markdown",
   "metadata": {},
   "source": [
    "# Mens"
   ]
  },
  {
   "cell_type": "code",
   "execution_count": 110,
   "metadata": {},
   "outputs": [
    {
     "name": "stderr",
     "output_type": "stream",
     "text": [
      "100%|██████████| 187/187 [15:13<00:00,  4.88s/it]\n"
     ]
    }
   ],
   "source": [
    "mens_link=[]\n",
    "\n",
    "for i in tqdm(range(1,188)):\n",
    "    try:\n",
    "        results=requests.get(f\"https://www.mirraw.com/men?page={i}\",headers=headers)\n",
    "        get=results.content\n",
    "        soup=BeautifulSoup(get,'lxml')\n",
    "        s=soup.find('ul',{'class':'listings show_designs'})\n",
    "        url=s.find_all('span',{'itemprop':'url'})\n",
    "        for j in url:\n",
    "            mens_link.append(j.attrs['content'])\n",
    "    except:\n",
    "        pass\n",
    "        \n",
    "    "
   ]
  },
  {
   "cell_type": "code",
   "execution_count": 111,
   "metadata": {},
   "outputs": [
    {
     "data": {
      "text/plain": [
       "9310"
      ]
     },
     "execution_count": 111,
     "metadata": {},
     "output_type": "execute_result"
    }
   ],
   "source": [
    "len(mens_link)"
   ]
  },
  {
   "cell_type": "code",
   "execution_count": 112,
   "metadata": {},
   "outputs": [
    {
     "data": {
      "text/plain": [
       "8958"
      ]
     },
     "execution_count": 112,
     "metadata": {},
     "output_type": "execute_result"
    }
   ],
   "source": [
    "len(set(mens_link))"
   ]
  },
  {
   "cell_type": "code",
   "execution_count": 113,
   "metadata": {},
   "outputs": [],
   "source": [
    "mens_link=list(set(mens_link))"
   ]
  },
  {
   "cell_type": "code",
   "execution_count": 114,
   "metadata": {},
   "outputs": [],
   "source": [
    "pickling_on = open(\"mirraw_men\",\"wb\")\n",
    "pickle.dump(mens_link, pickling_on)\n",
    "pickling_on.close()"
   ]
  },
  {
   "cell_type": "code",
   "execution_count": 115,
   "metadata": {},
   "outputs": [],
   "source": [
    "pickle_off=open(\"mirraw_men\",\"rb\")\n",
    "mens_link=pickle.load(pickle_off)\n",
    "pickle_off.close()"
   ]
  },
  {
   "cell_type": "code",
   "execution_count": 66,
   "metadata": {},
   "outputs": [
    {
     "name": "stderr",
     "output_type": "stream",
     "text": [
      "100%|██████████| 20/20 [00:30<00:00,  1.50s/it]\n"
     ]
    }
   ],
   "source": [
    "err=[]\n",
    "for i in tqdm(mens_link):\n",
    "    try:\n",
    "        result = requests.get(i,headers=headers)\n",
    "        get = result.content\n",
    "        soup=BeautifulSoup(get,'lxml')\n",
    "        \n",
    "        product_name=soup.find('h1',{'class':'design_title'}).text\n",
    "        product_brand=soup.find('a',{'class':'brand-link'}).text.strip()\n",
    "        product_link=i\n",
    "        product_cat=soup.find('div',{'class':'design-breadcrumb'}).text.strip().split('\\n\\n\\n\\n')[2]\n",
    "        product_des=soup.find('table',{'class':'table table-bordered product_specif_detail'}).text.strip()\n",
    "        product_mrp=int(soup.find('div',{'class':'old_price_label floatl'}).text.split()[1])\n",
    "        product_price=int(soup.find('h3',{'class':'floatl new_price_label'}).text.split()[1])\n",
    "        img=soup.find('div',{'id':'gal1'})\n",
    "        img=img.find_all('a')    \n",
    "        images=[]\n",
    "        for j in img:\n",
    "            images.append(j.attrs['data-zoom-image'])\n",
    "        \n",
    "        ul=soup.find('div',{'class':'variant_div col-lg-10 col-md-10 col-sm-10 col-xs-11 nopadding'}).find('ul').find_all('li')\n",
    "        sizes=[]\n",
    "        for k in ul:\n",
    "            sizes.append(k.text)\n",
    "        size_avl=','.join(sizes)\n",
    "        primary_link=images[0]\n",
    "        secondary_link=','.join(images[1:])\n",
    "\n",
    "    \n",
    "    except:\n",
    "        err.append(i)\n",
    "        pass\n",
    "    \n",
    "    else:\n",
    "        Product_Link.append(product_link)\n",
    "        Product_Brand.append(product_brand)\n",
    "        Product_Name.append(product_name)\n",
    "        Description.append(product_des)\n",
    "        Gender.append('Men')\n",
    "        Cat_list.append(product_cat)\n",
    "        MRP.append(product_mrp)\n",
    "        Price.append(product_price)\n",
    "        Primary_Image_Link.append(primary_link)\n",
    "        Secondary_Image_Link.append(secondary_link)\n",
    "        Size_Available.append(size_avl)\n"
   ]
  },
  {
   "cell_type": "markdown",
   "metadata": {},
   "source": [
    "# Womens"
   ]
  },
  {
   "cell_type": "code",
   "execution_count": 76,
   "metadata": {},
   "outputs": [],
   "source": [
    "links=[\n",
    "    ['https://www.mirraw.com/store/sarees?page=',1129,'sarees'],\n",
    "    ['https://www.mirraw.com/store/lehengas?page=',103,'lehengas'],\n",
    "    ['https://www.mirraw.com/salwar-suits/salwar-kameez?page=',381,'salwar-kameez'],\n",
    "    ['https://www.mirraw.com/women/clothing/kurtas-and-kurtis?page=',464,'kurtas-and-kurtis'],\n",
    "    ['https://www.mirraw.com/store/jewellery?page=',1621,'jewellery']\n",
    "]"
   ]
  },
  {
   "cell_type": "code",
   "execution_count": 78,
   "metadata": {},
   "outputs": [
    {
     "name": "stderr",
     "output_type": "stream",
     "text": [
      "100%|██████████| 1128/1128 [1:15:48<00:00,  4.03s/it]\n",
      "100%|██████████| 102/102 [07:03<00:00,  4.15s/it]\n",
      "100%|██████████| 380/380 [25:05<00:00,  3.96s/it]\n",
      "100%|██████████| 463/463 [25:23<00:00,  3.29s/it]\n",
      "100%|██████████| 1620/1620 [1:44:10<00:00,  3.86s/it] \n"
     ]
    }
   ],
   "source": [
    "womens_link=[]\n",
    "for i in links:\n",
    "    for j in tqdm(range(1,i[1])):\n",
    "        try:\n",
    "            results=requests.get(i[0]+str(j),headers=headers)\n",
    "            get=results.content\n",
    "            soup=BeautifulSoup(get,'lxml')\n",
    "            s=soup.find('ul',{'class':'listings show_designs'})\n",
    "            url=s.find_all('span',{'itemprop':'url'})\n",
    "            for k in url:\n",
    "                womens_link.append(k.attrs['content'])\n",
    "        except:\n",
    "            pass\n"
   ]
  },
  {
   "cell_type": "code",
   "execution_count": 79,
   "metadata": {},
   "outputs": [
    {
     "data": {
      "text/plain": [
       "222601"
      ]
     },
     "execution_count": 79,
     "metadata": {},
     "output_type": "execute_result"
    }
   ],
   "source": [
    "len(womens_link)"
   ]
  },
  {
   "cell_type": "code",
   "execution_count": 80,
   "metadata": {},
   "outputs": [
    {
     "data": {
      "text/plain": [
       "176943"
      ]
     },
     "execution_count": 80,
     "metadata": {},
     "output_type": "execute_result"
    }
   ],
   "source": [
    "len(set(womens_link))"
   ]
  },
  {
   "cell_type": "code",
   "execution_count": 100,
   "metadata": {},
   "outputs": [],
   "source": [
    "womens_link=list(set(womens_link))"
   ]
  },
  {
   "cell_type": "markdown",
   "metadata": {},
   "source": [
    "#### Pickling the links"
   ]
  },
  {
   "cell_type": "code",
   "execution_count": 102,
   "metadata": {},
   "outputs": [],
   "source": [
    "pickling_on = open(\"mirraw_women\",\"wb\")\n",
    "pickle.dump(womens_link, pickling_on)\n",
    "pickling_on.close()"
   ]
  },
  {
   "cell_type": "markdown",
   "metadata": {},
   "source": [
    "Unpicklng the links"
   ]
  },
  {
   "cell_type": "code",
   "execution_count": 106,
   "metadata": {},
   "outputs": [],
   "source": [
    "pickle_off=open(\"mirraw_women\",\"rb\")\n",
    "womens_link=pickle.load(pickle_off)\n",
    "pickle_off.close()"
   ]
  },
  {
   "cell_type": "code",
   "execution_count": 96,
   "metadata": {},
   "outputs": [
    {
     "name": "stderr",
     "output_type": "stream",
     "text": [
      "100%|██████████| 20/20 [00:34<00:00,  1.72s/it]\n"
     ]
    }
   ],
   "source": [
    "err=[]\n",
    "for i in tqdm(womens_link):\n",
    "    try:\n",
    "        result = requests.get(i,headers=headers)\n",
    "        get = result.content\n",
    "        soup=BeautifulSoup(get,'lxml')\n",
    "        \n",
    "        product_name=soup.find('h1',{'class':'design_title'}).text\n",
    "        product_brand=soup.find('a',{'class':'brand-link'}).text.strip()\n",
    "        product_link=i\n",
    "        product_cat=soup.find('div',{'class':'design-breadcrumb'}).text.strip().split('\\n\\n\\n\\n')[2]\n",
    "        product_des=soup.find('table',{'class':'table table-bordered product_specif_detail'}).text.strip()\n",
    "        product_mrp=int(soup.find('div',{'class':'old_price_label floatl'}).text.split()[1])\n",
    "        product_price=int(soup.find('h3',{'class':'floatl new_price_label'}).text.split()[1])\n",
    "        img=soup.find('div',{'id':'gal1'})\n",
    "        img=img.find_all('a')    \n",
    "        images=[]\n",
    "        for j in img:\n",
    "            images.append(j.attrs['data-zoom-image'])\n",
    "        try:\n",
    "            ul=soup.find('div',{'class':'variant_div col-lg-10 col-md-10 col-sm-10 col-xs-11 nopadding'}).find('ul').find_all('li')\n",
    "            sizes=[]\n",
    "            for k in ul:\n",
    "                sizes.append(k.text)\n",
    "            size_avl=','.join(sizes)\n",
    "        except:\n",
    "            size_avl='One-Size'\n",
    "        primary_link=images[0]\n",
    "        secondary_link=','.join(images[1:])\n",
    "\n",
    "    \n",
    "    except:\n",
    "        err.append(i)\n",
    "        pass\n",
    "    \n",
    "    else:\n",
    "        Product_Link.append(product_link)\n",
    "        Product_Brand.append(product_brand)\n",
    "        Product_Name.append(product_name)\n",
    "        Description.append(product_des)\n",
    "        Gender.append('Women')\n",
    "        Cat_list.append(product_cat)\n",
    "        MRP.append(product_mrp)\n",
    "        Price.append(product_price)\n",
    "        Primary_Image_Link.append(primary_link)\n",
    "        Secondary_Image_Link.append(secondary_link)\n",
    "        Size_Available.append(size_avl)\n"
   ]
  },
  {
   "cell_type": "code",
   "execution_count": null,
   "metadata": {},
   "outputs": [],
   "source": [
    "con=sqlite3.connect(\"mirraw.db\")  \n",
    "cur=con.cursor()\n",
    "cur.execute('CREATE TABLE product_details (Website varchar(40) not null,Product_Link text PRIMARY KEY,Product_Name varchar(50) not null,Product_Brand varchar(50) not null,Product_Category varchar(50),Size_Avail varchar(20) not null,Price int not null,MRP int not null,Gender varchar(15) not null,Description text not null,Primary_Image_Links text not null,Secondary_Image_Links text not null,Affiliate_Link text not null )')\n",
    "for i in range(len(Product_Link)):\n",
    "    try:\n",
    "        cur.execute('insert into product_details  values(%r,%r,%r,%r,%r,%r,%d,%d,%r,%r,%r,%r,%r)'%('https://www.craftsvilla.com/',Product_Link[i],Product_Name[i],Product_Brand[i],Cat_list[i],Size_Available[i],Price[i],MRP[i],Gender[i],Description[i],Primary_Image_Link[i],Secondary_Image_Link[i],''))\n",
    "    except:\n",
    "        pass\n",
    "con.commit()\n",
    "con.close()"
   ]
  }
 ],
 "metadata": {
  "kernelspec": {
   "display_name": "Python 3",
   "language": "python",
   "name": "python3"
  },
  "language_info": {
   "codemirror_mode": {
    "name": "ipython",
    "version": 3
   },
   "file_extension": ".py",
   "mimetype": "text/x-python",
   "name": "python",
   "nbconvert_exporter": "python",
   "pygments_lexer": "ipython3",
   "version": "3.8.5"
  }
 },
 "nbformat": 4,
 "nbformat_minor": 4
}
