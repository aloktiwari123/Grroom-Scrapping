{
 "cells": [
  {
   "cell_type": "code",
   "execution_count": 2,
   "metadata": {},
   "outputs": [],
   "source": [
    "from bs4 import BeautifulSoup as bs\n",
    "import requests\n",
    "import pandas as pd\n",
    "from pandas import Series, DataFrame\n",
    "from ipywidgets import FloatProgress\n",
    "from time import sleep\n",
    "from IPython.display import display\n",
    "import re\n",
    "import pickle\n",
    "from urlextract import URLExtract\n",
    "import json\n",
    "import sqlite3\n",
    "import datetime\n",
    "from tqdm import tqdm"
   ]
  },
  {
   "cell_type": "code",
   "execution_count": 3,
   "metadata": {},
   "outputs": [],
   "source": [
    "headers = {'User-Agent' : 'Mozilla/5.0 (Macintosh; Intel Mac OS X 10_14_5) AppleWebKit/537.36 (KHTML, like Gecko) Chrome/84.0.4147.89 Safari/537.36'}"
   ]
  },
  {
   "cell_type": "code",
   "execution_count": 18,
   "metadata": {},
   "outputs": [],
   "source": [
    "Product_Link=[]\n",
    "Product_Name=[]\n",
    "Product_Brand=[]\n",
    "Size_Available=[]\n",
    "Price=[]\n",
    "MRP=[]\n",
    "Gender=[]\n",
    "Description=[]\n",
    "Cat_list=[]\n",
    "Primary_Image_Link=[]\n",
    "Secondary_Image_Link=[]"
   ]
  },
  {
   "cell_type": "code",
   "execution_count": 5,
   "metadata": {},
   "outputs": [
    {
     "name": "stderr",
     "output_type": "stream",
     "text": [
      "100%|██████████| 45/45 [04:01<00:00,  5.37s/it]\n"
     ]
    }
   ],
   "source": [
    "men_links = []\n",
    "all_men_items = 799\n",
    "for page in tqdm(range(1, all_men_items//18+2)):\n",
    "    url = f\"https://www.metroshoes.net/mana_layerednavigationajax/products/?_id=3&_route=catalog_category_view&p={page}\"\n",
    "    page_html = bs(requests.get(url, headers=headers).text, 'html.parser')\n",
    "    for a_tag in page_html.findAll('a', {'class': 'product-item-link'}):\n",
    "        men_links.append(a_tag['href'])"
   ]
  },
  {
   "cell_type": "code",
   "execution_count": 6,
   "metadata": {},
   "outputs": [],
   "source": [
    "men_links=list(set(men_links))"
   ]
  },
  {
   "cell_type": "code",
   "execution_count": 7,
   "metadata": {},
   "outputs": [],
   "source": [
    "with open('metroshoes_prod_links.csv', 'w') as f:\n",
    "    for link in men_links:\n",
    "            f.write(link+\"\\n\")"
   ]
  },
  {
   "cell_type": "code",
   "execution_count": 8,
   "metadata": {},
   "outputs": [],
   "source": [
    "women_links = []\n",
    "all_women_items = 1223\n",
    "for page in range(1, all_women_items//18+2):\n",
    "    url = f\"https://www.metroshoes.net/mana_layerednavigationajax/products/?_id=4&_route=catalog_category_view&p={page}\"\n",
    "    page_html = bs(requests.get(url, headers=headers).text, 'html.parser')\n",
    "    for a_tag in page_html.findAll('a', {'class': 'product-item-link'}):\n",
    "        women_links.append(a_tag['href'])\n",
    "\n",
    "women_links = list(set(women_links))"
   ]
  },
  {
   "cell_type": "code",
   "execution_count": 9,
   "metadata": {},
   "outputs": [],
   "source": [
    "with open('metroshoes_prod_links.csv', 'a') as f:\n",
    "    for link in women_links:\n",
    "            f.write(link+\"\\n\")"
   ]
  },
  {
   "cell_type": "code",
   "execution_count": 10,
   "metadata": {},
   "outputs": [
    {
     "name": "stderr",
     "output_type": "stream",
     "text": [
      "100%|██████████| 18/18 [01:29<00:00,  4.96s/it]\n"
     ]
    }
   ],
   "source": [
    "accessories_links = []\n",
    "all_accessories_items = 319\n",
    "for page in tqdm(range(1, all_accessories_items//18+2)):\n",
    "    url = f\"https://www.metroshoes.net/mana_layerednavigationajax/products/?_id=7&_route=catalog_category_view&p={page}\"\n",
    "    page_html = bs(requests.get(url, headers=headers).text, 'html.parser')\n",
    "    for a_tag in page_html.findAll('a', {'class': 'product-item-link'}):\n",
    "        accessories_links.append(a_tag['href'])\n",
    "\n",
    "accessories_links = list(set(accessories_links))"
   ]
  },
  {
   "cell_type": "code",
   "execution_count": 11,
   "metadata": {},
   "outputs": [],
   "source": [
    "with open('metroshoes_prod_links.csv', 'a') as f:\n",
    "    for link in accessories_links:\n",
    "            f.write(link+\"\\n\")"
   ]
  },
  {
   "cell_type": "code",
   "execution_count": 12,
   "metadata": {},
   "outputs": [
    {
     "name": "stderr",
     "output_type": "stream",
     "text": [
      "100%|██████████| 27/27 [01:56<00:00,  4.33s/it]\n"
     ]
    }
   ],
   "source": [
    "bags_links = []\n",
    "all_bags_items = 482\n",
    "for page in tqdm(range(1, all_bags_items//18+2)):\n",
    "    url = f\"https://www.metroshoes.net/mana_layerednavigationajax/products/?_id=212&_route=catalog_category_view&p={page}\"\n",
    "    page_html = bs(requests.get(url, headers=headers).text, 'html.parser')\n",
    "    for a_tag in page_html.findAll('a', {'class': 'product-item-link'}):\n",
    "        bags_links.append(a_tag['href'])\n",
    "\n",
    "bags_links = list(set(bags_links))"
   ]
  },
  {
   "cell_type": "code",
   "execution_count": 13,
   "metadata": {},
   "outputs": [],
   "source": [
    "with open('metroshoes_prod_links.csv', 'a') as f:\n",
    "    for link in bags_links:\n",
    "            f.write(link+\"\\n\")"
   ]
  },
  {
   "cell_type": "code",
   "execution_count": 14,
   "metadata": {},
   "outputs": [
    {
     "data": {
      "text/plain": [
       "5363"
      ]
     },
     "execution_count": 14,
     "metadata": {},
     "output_type": "execute_result"
    }
   ],
   "source": [
    "all_links = []\n",
    "\n",
    "with open(\"metroshoes_prod_links.csv\",\"r\") as f:\n",
    "    for line in f:\n",
    "        all_links.append(line.strip())\n",
    "\n",
    "all_links = list(set(all_links))\n",
    "len(all_links)"
   ]
  },
  {
   "cell_type": "code",
   "execution_count": 19,
   "metadata": {},
   "outputs": [
    {
     "name": "stderr",
     "output_type": "stream",
     "text": [
      "100%|██████████| 10/10 [00:59<00:00,  6.00s/it]\n"
     ]
    }
   ],
   "source": [
    "err=[]\n",
    "for i in tqdm(all_links[:10]):\n",
    "    try:\n",
    "        result = requests.get(i,headers=headers)\n",
    "        get = result.content\n",
    "        soup=BeautifulSoup(get,'lxml')\n",
    "        js=json.loads(soup.find('script',{'type':'application/ld+json'}).contents[0])\n",
    "        js_1=json.loads(soup.find_all('script',{'type':'text/x-magento-init'})[6].contents[0])\n",
    "        if(js['offers']['availability']=='https://schema.org/InStock'):\n",
    "            product_name=js['name']\n",
    "            product_brand=js['brand']\n",
    "            product_link=i\n",
    "            if \"women\" in i: gender = \"Women\"\n",
    "            elif \"men\" in i: gender = \"Men\"\n",
    "            else: gender = \"Unisex\"\n",
    "            if \"accessories\" in i: category = \"Accessories\"\n",
    "            elif \"bags\" in i: category = \"Bags\"\n",
    "            else: category = \"Shoes\"\n",
    "            product_cat=category\n",
    "            product_des=js['description']\n",
    "            product_mrp=int(soup.find('div',{'class':'product-info-price'}).find('meta',{'itemprop':'price'}).attrs['content'])\n",
    "            product_price=product_mrp\n",
    "            img=soup.find_all('div', {'class': 'MagicToolboxContainer'})[0].find_all('a')    \n",
    "            images=[]\n",
    "\n",
    "            for j in img:\n",
    "                images.append(j['href'])\n",
    "\n",
    "            size=js_1['[data-role=swatch-options]']['Magento_Swatches/js/swatch-renderer']['jsonConfig']['attributes']['144']['options']\n",
    "            sizes=[]\n",
    "            for k in size:\n",
    "                sizes.append(k['label'])\n",
    "            size_avl=','.join(sizes)\n",
    "            primary_link=images[0]\n",
    "            if(len(images)==1):\n",
    "                secondary_link=\"Not Available\"\n",
    "            else:\n",
    "                secondary_link=','.join(images[1:])\n",
    "        else:\n",
    "            continue\n",
    "    \n",
    "    except:\n",
    "        err.append(i)\n",
    "        pass\n",
    "    \n",
    "    else:\n",
    "        Product_Link.append(product_link)\n",
    "        Product_Brand.append(product_brand)\n",
    "        Product_Name.append(product_name)\n",
    "        Description.append(product_des)\n",
    "        Gender.append(gender)\n",
    "        Cat_list.append(product_cat)\n",
    "        MRP.append(product_mrp)\n",
    "        Price.append(product_price)\n",
    "        Primary_Image_Link.append(primary_link)\n",
    "        Secondary_Image_Link.append(secondary_link)\n",
    "        Size_Available.append(size_avl)\n"
   ]
  },
  {
   "cell_type": "code",
   "execution_count": 21,
   "metadata": {},
   "outputs": [
    {
     "data": {
      "text/plain": [
       "['https://www.metroshoes.net/accessories/metro-73-7052-black-brown-women-s-belts.html',\n",
       " 'https://www.metroshoes.net/men-shoes/walkway-16-9850-brown-casual-slip-ons.html',\n",
       " 'https://www.metroshoes.net/accessories/crocs-128-6835-assorted-jibbitz.html',\n",
       " 'https://www.metroshoes.net/catalog/product/view/id/343886/s/j.fontini-14-1085-black-casual-loafers/category/3/',\n",
       " 'https://www.metroshoes.net/women-shoes/davinchi-75-8297-black-formal-pumps.html',\n",
       " 'https://www.metroshoes.net/accessories/mochi-73-6305-brown-men-s-belts.html',\n",
       " 'https://www.metroshoes.net/women-shoes/clarks-160-150261-gold-casual-sandals.html',\n",
       " 'https://www.metroshoes.net/accessories/mochi-187-6434-blue-navy-women-s-belts.html',\n",
       " 'https://www.metroshoes.net/bags/metro-66-5948-white-shoulder-bag.html',\n",
       " 'https://www.metroshoes.net/men-shoes/walkway-19-95135-black-formal-moccasin.html']"
      ]
     },
     "execution_count": 21,
     "metadata": {},
     "output_type": "execute_result"
    }
   ],
   "source": [
    "err"
   ]
  },
  {
   "cell_type": "code",
   "execution_count": 17,
   "metadata": {},
   "outputs": [
    {
     "data": {
      "text/plain": [
       "5363"
      ]
     },
     "execution_count": 17,
     "metadata": {},
     "output_type": "execute_result"
    }
   ],
   "source": [
    "len(err)"
   ]
  },
  {
   "cell_type": "code",
   "execution_count": 106,
   "metadata": {},
   "outputs": [],
   "source": [
    "mens=pd.DataFrame({\n",
    "    \n",
    "    \"Website\":'https://www.metroshoes.net/',\n",
    "    \"Product_Link\":Product_Link,\n",
    "    \"Product_Name\":Product_Name,\n",
    "    \"Product_Brand\":Product_Brand,\n",
    "    \"Product_Category\":Cat_list,\n",
    "    \"Size_Avail\":Size_Available,\n",
    "    \"Price\":Price,\n",
    "    \"MRP\":MRP,\n",
    "    \"Gender\":Gender,\n",
    "    \"Description\":Description,\n",
    "    \"Primary_Image_Links\":Primary_Image_Link,\n",
    "    \"Secondary_Image_Links\":Secondary_Image_Link,\n",
    "    \"Affiliate_Link\":''\n",
    "    \n",
    "})"
   ]
  },
  {
   "cell_type": "code",
   "execution_count": 107,
   "metadata": {},
   "outputs": [
    {
     "data": {
      "text/plain": [
       "(2060, 13)"
      ]
     },
     "execution_count": 107,
     "metadata": {},
     "output_type": "execute_result"
    }
   ],
   "source": [
    "mens.shape"
   ]
  },
  {
   "cell_type": "code",
   "execution_count": 109,
   "metadata": {},
   "outputs": [
    {
     "data": {
      "text/plain": [
       "3303"
      ]
     },
     "execution_count": 109,
     "metadata": {},
     "output_type": "execute_result"
    }
   ],
   "source": [
    "len(err)"
   ]
  },
  {
   "cell_type": "code",
   "execution_count": null,
   "metadata": {},
   "outputs": [],
   "source": [
    "con=sqlite3.connect(\"metroshoes.db\")  \n",
    "cur=con.cursor()\n",
    "cur.execute('CREATE TABLE product_details (Website varchar(40) not null,Product_Link text PRIMARY KEY,Product_Name varchar(50) not null,Product_Brand varchar(50) not null,Product_Category varchar(50),Size_Avail varchar(20) not null,Price int not null,MRP int not null,Gender varchar(15) not null,Description text not null,Primary_Image_Links text not null,Secondary_Image_Links text not null,Affiliate_Link text not null )')\n",
    "for i in range(len(Product_Link)):\n",
    "    try:\n",
    "        cur.execute('insert into product_details  values(%r,%r,%r,%r,%r,%r,%d,%d,%r,%r,%r,%r,%r)'%('https://www.craftsvilla.com/',Product_Link[i],Product_Name[i],Product_Brand[i],Cat_list[i],Size_Available[i],Price[i],MRP[i],Gender[i],Description[i],Primary_Image_Link[i],Secondary_Image_Link[i],''))\n",
    "    except:\n",
    "        pass\n",
    "con.commit()\n",
    "con.close()"
   ]
  }
 ],
 "metadata": {
  "kernelspec": {
   "display_name": "Python 3",
   "language": "python",
   "name": "python3"
  },
  "language_info": {
   "codemirror_mode": {
    "name": "ipython",
    "version": 3
   },
   "file_extension": ".py",
   "mimetype": "text/x-python",
   "name": "python",
   "nbconvert_exporter": "python",
   "pygments_lexer": "ipython3",
   "version": "3.8.5"
  }
 },
 "nbformat": 4,
 "nbformat_minor": 4
}
