{
 "cells": [
  {
   "cell_type": "code",
   "execution_count": 1,
   "metadata": {},
   "outputs": [],
   "source": [
    "from bs4 import BeautifulSoup\n",
    "import requests\n",
    "import pandas as pd\n",
    "from pandas import Series, DataFrame\n",
    "from ipywidgets import FloatProgress\n",
    "from time import sleep\n",
    "from IPython.display import display\n",
    "import re\n",
    "import pickle\n",
    "from urlextract import URLExtract\n",
    "import json\n",
    "import sqlite3\n",
    "import datetime\n",
    "from tqdm import tqdm"
   ]
  },
  {
   "cell_type": "code",
   "execution_count": 2,
   "metadata": {},
   "outputs": [],
   "source": [
    "headers = {'User-Agent' : 'Mozilla/5.0 (Macintosh; Intel Mac OS X 10_14_5) AppleWebKit/537.36 (KHTML, like Gecko) Chrome/84.0.4147.89 Safari/537.36'}"
   ]
  },
  {
   "cell_type": "code",
   "execution_count": 104,
   "metadata": {},
   "outputs": [],
   "source": [
    "Product_Link=[]\n",
    "Product_Name=[]\n",
    "Product_Brand=[]\n",
    "Size_Available=[]\n",
    "Price=[]\n",
    "MRP=[]\n",
    "Gender=[]\n",
    "Description=[]\n",
    "Cat_list=[]\n",
    "Primary_Image_Link=[]\n",
    "Secondary_Image_Link=[]"
   ]
  },
  {
   "cell_type": "markdown",
   "metadata": {},
   "source": [
    "## Sarees"
   ]
  },
  {
   "cell_type": "code",
   "execution_count": 105,
   "metadata": {},
   "outputs": [
    {
     "name": "stderr",
     "output_type": "stream",
     "text": [
      "100%|██████████| 251/251 [04:18<00:00,  1.03s/it]\n"
     ]
    }
   ],
   "source": [
    "sarees_links=[]\n",
    "for i in tqdm(range(1,252)):\n",
    "    try:\n",
    "        result=requests.get(f\"https://www.craftsvilla.com/womens-clothing/sarees?sort_by=popular&page_id={i}&product_limit=48#\",headers=headers)\n",
    "        get=result.content\n",
    "        soup=BeautifulSoup(get,'lxml')\n",
    "        prod=soup.find_all('div',{'class':'col-md-3 col-xs-6 feed-product-main'})\n",
    "        for j in prod:\n",
    "            try:\n",
    "                sarees_links.append(\"https://www.craftsvilla.com\"+j.parent.attrs['href'])\n",
    "            except:\n",
    "                pass\n",
    "    except:\n",
    "        pass"
   ]
  },
  {
   "cell_type": "code",
   "execution_count": 107,
   "metadata": {},
   "outputs": [],
   "source": [
    "sarees_links=list(set(sarees_links))"
   ]
  },
  {
   "cell_type": "code",
   "execution_count": 108,
   "metadata": {},
   "outputs": [
    {
     "name": "stderr",
     "output_type": "stream",
     "text": [
      "100%|██████████| 7802/7802 [2:10:47<00:00,  1.01s/it]  \n"
     ]
    }
   ],
   "source": [
    "err=[]\n",
    "for i in tqdm(sarees_links):\n",
    "    try:\n",
    "        result = requests.get(i,headers=headers)\n",
    "        get = result.content\n",
    "        soup = BeautifulSoup(get,\"lxml\")\n",
    "        \n",
    "        product_name=soup.find('h1',{'class':'detail-product-name'}).text.lstrip().rstrip()\n",
    "        product_brand=\"Craftsvilla\"\n",
    "        product_link=i\n",
    "        product_cat='Sarees'\n",
    "        product_des=soup.find('div',{'class':'col-xl-12 col-lg-12 col-md-12 col-sm-12 col-xs-12 nopadding'}).text.lstrip().rstrip()\n",
    "       \n",
    "        product_price=int(soup.find('p',{'class':'offered-price'}).text.lstrip().rstrip().split('\\n')[0].lstrip().rstrip())\n",
    "        product_mrp=int(soup.find('p',{'class':'offered-price'}).text.lstrip().rstrip().split('\\n')[1].lstrip().rstrip().split()[1])\n",
    "        img=soup.find_all('div',{'class':'imgwrap'})\n",
    "        images=[]\n",
    "        for i in img:\n",
    "            images.append(i.find('img').attrs['src'].replace('w_166,h_166','w_597,h_488'))\n",
    "        size_avl=\"One-Size\"\n",
    "        primary_link=images[0]\n",
    "        secondary_link=','.join(images[1:])\n",
    "\n",
    "    \n",
    "    except:\n",
    "        err.append(i)\n",
    "        pass\n",
    "    \n",
    "    else:\n",
    "        Product_Link.append(product_link)\n",
    "        Product_Brand.append(product_brand)\n",
    "        Product_Name.append(product_name)\n",
    "        Description.append(product_des)\n",
    "        Gender.append('Women')\n",
    "        Cat_list.append(product_cat)\n",
    "        MRP.append(product_mrp)\n",
    "        Price.append(product_price)\n",
    "        Primary_Image_Link.append(primary_link)\n",
    "        Secondary_Image_Link.append(secondary_link)\n",
    "        Size_Available.append(size_avl)\n"
   ]
  },
  {
   "cell_type": "markdown",
   "metadata": {},
   "source": [
    "## Kurtis and dresses"
   ]
  },
  {
   "cell_type": "code",
   "execution_count": 109,
   "metadata": {},
   "outputs": [
    {
     "name": "stderr",
     "output_type": "stream",
     "text": [
      "100%|██████████| 20/20 [00:18<00:00,  1.07it/s]\n"
     ]
    }
   ],
   "source": [
    "kurtis_links=[]\n",
    "for i in tqdm(range(1,21)):\n",
    "    try:\n",
    "        result=requests.get(f\"https://www.craftsvilla.com/womens-clothing/kurtis-tunics?sort_by=popular&page_id={i}&product_limit=48\",headers=headers)\n",
    "        get=result.content\n",
    "        soup=BeautifulSoup(get,'lxml')\n",
    "        prod=soup.find_all('div',{'class':'col-md-3 col-xs-6 feed-product-main'})\n",
    "        for j in prod:\n",
    "            try:\n",
    "                kurtis_links.append(\"https://www.craftsvilla.com\"+j.parent.attrs['href'])\n",
    "            except:\n",
    "                pass\n",
    "    except:\n",
    "        pass"
   ]
  },
  {
   "cell_type": "code",
   "execution_count": 110,
   "metadata": {},
   "outputs": [],
   "source": [
    "kurtis_links=list(set(kurtis_links))"
   ]
  },
  {
   "cell_type": "code",
   "execution_count": 111,
   "metadata": {},
   "outputs": [
    {
     "name": "stderr",
     "output_type": "stream",
     "text": [
      "100%|██████████| 857/857 [14:21<00:00,  1.00s/it]\n"
     ]
    }
   ],
   "source": [
    "err=[]\n",
    "for i in tqdm(kurtis_links):\n",
    "    try:\n",
    "        result = requests.get(i,headers=headers)\n",
    "        get = result.content\n",
    "        soup = BeautifulSoup(get,\"lxml\")\n",
    "        \n",
    "        product_name=soup.find('h1',{'class':'detail-product-name'}).text.lstrip().rstrip()\n",
    "        product_brand=\"Craftsvilla\"\n",
    "        product_link=i\n",
    "        product_cat='Kurtis'\n",
    "        product_des=soup.find('div',{'class':'col-xl-12 col-lg-12 col-md-12 col-sm-12 col-xs-12 nopadding'}).text.lstrip().rstrip()\n",
    "       \n",
    "        product_price=int(soup.find('p',{'class':'offered-price'}).text.lstrip().rstrip().split('\\n')[0].lstrip().rstrip())\n",
    "        product_mrp=int(soup.find('p',{'class':'offered-price'}).text.lstrip().rstrip().split('\\n')[1].lstrip().rstrip().split()[1])\n",
    "        img=soup.find_all('div',{'class':'imgwrap'})\n",
    "        images=[]\n",
    "        for i in img:\n",
    "            images.append(i.find('img').attrs['src'].replace('w_166,h_166','w_597,h_488'))\n",
    "        size=soup.find('div',{'class':'col-sm-12 nopadding'}).find_all('span',{'class':'badge badge-light various-size data-size-change'})\n",
    "        sizes=[]\n",
    "        for i in size:\n",
    "            sizes.append(i.text)\n",
    "        size_avl=','.join(sizes)\n",
    "        primary_link=images[0]\n",
    "        secondary_link=','.join(images[1:])\n",
    "\n",
    "    \n",
    "    except:\n",
    "        err.append(i)\n",
    "        pass\n",
    "    \n",
    "    else:\n",
    "        Product_Link.append(product_link)\n",
    "        Product_Brand.append(product_brand)\n",
    "        Product_Name.append(product_name)\n",
    "        Description.append(product_des)\n",
    "        Gender.append('Women')\n",
    "        Cat_list.append(product_cat)\n",
    "        MRP.append(product_mrp)\n",
    "        Price.append(product_price)\n",
    "        Primary_Image_Link.append(primary_link)\n",
    "        Secondary_Image_Link.append(secondary_link)\n",
    "        Size_Available.append(size_avl)\n"
   ]
  },
  {
   "cell_type": "markdown",
   "metadata": {},
   "source": [
    "## Salwar Suits"
   ]
  },
  {
   "cell_type": "code",
   "execution_count": 112,
   "metadata": {},
   "outputs": [
    {
     "name": "stderr",
     "output_type": "stream",
     "text": [
      "100%|██████████| 20/20 [00:16<00:00,  1.23it/s]\n"
     ]
    }
   ],
   "source": [
    "salwar_links=[]\n",
    "for i in tqdm(range(1,21)):\n",
    "    try:\n",
    "        result=requests.get(f\"https://www.craftsvilla.com/womens-clothing/salwar-suits?sort_by=popular&page_id={i}&product_limit=48\",headers=headers)\n",
    "        get=result.content\n",
    "        soup=BeautifulSoup(get,'lxml')\n",
    "        prod=soup.find_all('div',{'class':'col-md-3 col-xs-6 feed-product-main'})\n",
    "        for j in prod:\n",
    "            try:\n",
    "                salwar_links.append(\"https://www.craftsvilla.com\"+j.parent.attrs['href'])\n",
    "            except:\n",
    "                pass\n",
    "    except:\n",
    "        pass"
   ]
  },
  {
   "cell_type": "code",
   "execution_count": 113,
   "metadata": {},
   "outputs": [],
   "source": [
    "salwar_links=list(set(salwar_links))"
   ]
  },
  {
   "cell_type": "code",
   "execution_count": 114,
   "metadata": {},
   "outputs": [
    {
     "name": "stderr",
     "output_type": "stream",
     "text": [
      "100%|██████████| 401/401 [06:56<00:00,  1.04s/it]\n"
     ]
    }
   ],
   "source": [
    "err=[]\n",
    "for i in tqdm(salwar_links):\n",
    "    try:\n",
    "        result = requests.get(i,headers=headers)\n",
    "        get = result.content\n",
    "        soup = BeautifulSoup(get,\"lxml\")\n",
    "        \n",
    "        product_name=soup.find('h1',{'class':'detail-product-name'}).text.lstrip().rstrip()\n",
    "        product_brand=\"Craftsvilla\"\n",
    "        product_link=i\n",
    "        product_cat='salwar suits'\n",
    "        product_des=soup.find('div',{'class':'col-xl-12 col-lg-12 col-md-12 col-sm-12 col-xs-12 nopadding'}).text.lstrip().rstrip()\n",
    "       \n",
    "        product_price=int(soup.find('p',{'class':'offered-price'}).text.lstrip().rstrip().split('\\n')[0].lstrip().rstrip())\n",
    "        product_mrp=int(soup.find('p',{'class':'offered-price'}).text.lstrip().rstrip().split('\\n')[1].lstrip().rstrip().split()[1])\n",
    "        img=soup.find_all('div',{'class':'imgwrap'})\n",
    "        images=[]\n",
    "        for i in img:\n",
    "            images.append(i.find('img').attrs['src'].replace('w_166,h_166','w_597,h_488'))\n",
    "        size_avl='One-Size'\n",
    "        primary_link=images[0]\n",
    "        secondary_link=','.join(images[1:])\n",
    "\n",
    "    \n",
    "    except:\n",
    "        err.append(i)\n",
    "        pass\n",
    "    \n",
    "    else:\n",
    "        Product_Link.append(product_link)\n",
    "        Product_Brand.append(product_brand)\n",
    "        Product_Name.append(product_name)\n",
    "        Description.append(product_des)\n",
    "        Gender.append('Women')\n",
    "        Cat_list.append(product_cat)\n",
    "        MRP.append(product_mrp)\n",
    "        Price.append(product_price)\n",
    "        Primary_Image_Link.append(primary_link)\n",
    "        Secondary_Image_Link.append(secondary_link)\n",
    "        Size_Available.append(size_avl)\n"
   ]
  },
  {
   "cell_type": "markdown",
   "metadata": {},
   "source": [
    "## Jewelry"
   ]
  },
  {
   "cell_type": "code",
   "execution_count": 115,
   "metadata": {},
   "outputs": [
    {
     "name": "stderr",
     "output_type": "stream",
     "text": [
      "100%|██████████| 16/16 [00:17<00:00,  1.08s/it]\n"
     ]
    }
   ],
   "source": [
    "jewelry_links=[]\n",
    "for i in tqdm(range(1,17)):\n",
    "    try:\n",
    "        result=requests.get(f\"https://www.craftsvilla.com/jewellery?sort_by=popular&page_id={i}&product_limit=48\",headers=headers)\n",
    "        get=result.content\n",
    "        soup=BeautifulSoup(get,'lxml')\n",
    "        prod=soup.find_all('div',{'class':'col-md-3 col-xs-6 feed-product-main'})\n",
    "        for j in prod:\n",
    "            try:\n",
    "                jewelry_links.append(\"https://www.craftsvilla.com\"+j.parent.attrs['href'])\n",
    "            except:\n",
    "                pass\n",
    "    except:\n",
    "        pass"
   ]
  },
  {
   "cell_type": "code",
   "execution_count": 116,
   "metadata": {},
   "outputs": [],
   "source": [
    "jewelry_links=list(set(jewelry_links))"
   ]
  },
  {
   "cell_type": "code",
   "execution_count": 117,
   "metadata": {},
   "outputs": [
    {
     "name": "stderr",
     "output_type": "stream",
     "text": [
      "100%|██████████| 710/710 [11:38<00:00,  1.02it/s]\n"
     ]
    }
   ],
   "source": [
    "err=[]\n",
    "for i in tqdm(jewelry_links):\n",
    "    try:\n",
    "        result = requests.get(i,headers=headers)\n",
    "        get = result.content\n",
    "        soup = BeautifulSoup(get,\"lxml\")\n",
    "        \n",
    "        product_name=soup.find('h1',{'class':'detail-product-name'}).text.lstrip().rstrip()\n",
    "        product_brand=\"Craftsvilla\"\n",
    "        product_link=i\n",
    "        product_cat='jewelry'\n",
    "        product_des=soup.find('div',{'class':'col-xl-12 col-lg-12 col-md-12 col-sm-12 col-xs-12 nopadding'}).text.lstrip().rstrip()\n",
    "       \n",
    "        product_price=int(soup.find('p',{'class':'offered-price'}).text.lstrip().rstrip().split('\\n')[0].lstrip().rstrip())\n",
    "        product_mrp=int(soup.find('p',{'class':'offered-price'}).text.lstrip().rstrip().split('\\n')[1].lstrip().rstrip().split()[1])\n",
    "        img=soup.find_all('div',{'class':'imgwrap'})\n",
    "        images=[]\n",
    "        for i in img:\n",
    "            images.append(i.find('img').attrs['src'].replace('w_166,h_166','w_597,h_488'))\n",
    "        size_avl='One-Size'\n",
    "        primary_link=images[0]\n",
    "        secondary_link=','.join(images[1:])\n",
    "\n",
    "    \n",
    "    except:\n",
    "        err.append(i)\n",
    "        pass\n",
    "    \n",
    "    else:\n",
    "        Product_Link.append(product_link)\n",
    "        Product_Brand.append(product_brand)\n",
    "        Product_Name.append(product_name)\n",
    "        Description.append(product_des)\n",
    "        Gender.append('Women')\n",
    "        Cat_list.append(product_cat)\n",
    "        MRP.append(product_mrp)\n",
    "        Price.append(product_price)\n",
    "        Primary_Image_Link.append(primary_link)\n",
    "        Secondary_Image_Link.append(secondary_link)\n",
    "        Size_Available.append(size_avl)\n"
   ]
  },
  {
   "cell_type": "markdown",
   "metadata": {},
   "source": [
    "## Lehangas and Gowns"
   ]
  },
  {
   "cell_type": "code",
   "execution_count": 118,
   "metadata": {},
   "outputs": [
    {
     "name": "stderr",
     "output_type": "stream",
     "text": [
      "100%|██████████| 6/6 [00:05<00:00,  1.00it/s]\n"
     ]
    }
   ],
   "source": [
    "lehangas_links=[]\n",
    "for i in tqdm(range(1,7)):\n",
    "    try:\n",
    "        result=requests.get(f\"https://www.craftsvilla.com/womens-clothing/lehangas?sort_by=popular&page_id={i}&product_limit=48\",headers=headers)\n",
    "        get=result.content\n",
    "        soup=BeautifulSoup(get,'lxml')\n",
    "        prod=soup.find_all('div',{'class':'col-md-3 col-xs-6 feed-product-main'})\n",
    "        for j in prod:\n",
    "            try:\n",
    "                lehangas_links.append(\"https://www.craftsvilla.com\"+j.parent.attrs['href'])\n",
    "            except:\n",
    "                pass\n",
    "    except:\n",
    "        pass"
   ]
  },
  {
   "cell_type": "code",
   "execution_count": 119,
   "metadata": {},
   "outputs": [],
   "source": [
    "lehangas_links=list(set(lehangas_links))"
   ]
  },
  {
   "cell_type": "code",
   "execution_count": 120,
   "metadata": {},
   "outputs": [
    {
     "name": "stderr",
     "output_type": "stream",
     "text": [
      "100%|██████████| 221/221 [03:26<00:00,  1.07it/s]\n"
     ]
    }
   ],
   "source": [
    "err=[]\n",
    "for i in tqdm(lehangas_links):\n",
    "    try:\n",
    "        result = requests.get(i,headers=headers)\n",
    "        get = result.content\n",
    "        soup = BeautifulSoup(get,\"lxml\")\n",
    "        \n",
    "        product_name=soup.find('h1',{'class':'detail-product-name'}).text.lstrip().rstrip()\n",
    "        product_brand=\"Craftsvilla\"\n",
    "        product_link=i\n",
    "        product_cat='lehanga'\n",
    "        product_des=soup.find('div',{'class':'col-xl-12 col-lg-12 col-md-12 col-sm-12 col-xs-12 nopadding'}).text.lstrip().rstrip()\n",
    "       \n",
    "        product_price=int(soup.find('p',{'class':'offered-price'}).text.lstrip().rstrip().split('\\n')[0].lstrip().rstrip())\n",
    "        product_mrp=int(soup.find('p',{'class':'offered-price'}).text.lstrip().rstrip().split('\\n')[1].lstrip().rstrip().split()[1])\n",
    "        img=soup.find_all('div',{'class':'imgwrap'})\n",
    "        images=[]\n",
    "        for i in img:\n",
    "            images.append(i.find('img').attrs['src'].replace('w_166,h_166','w_597,h_488'))\n",
    "        size_avl='One-Size'\n",
    "        primary_link=images[0]\n",
    "        secondary_link=','.join(images[1:])\n",
    "\n",
    "    \n",
    "    except:\n",
    "        err.append(i)\n",
    "        pass\n",
    "    \n",
    "    else:\n",
    "        Product_Link.append(product_link)\n",
    "        Product_Brand.append(product_brand)\n",
    "        Product_Name.append(product_name)\n",
    "        Description.append(product_des)\n",
    "        Gender.append('Women')\n",
    "        Cat_list.append(product_cat)\n",
    "        MRP.append(product_mrp)\n",
    "        Price.append(product_price)\n",
    "        Primary_Image_Link.append(primary_link)\n",
    "        Secondary_Image_Link.append(secondary_link)\n",
    "        Size_Available.append(size_avl)\n"
   ]
  },
  {
   "cell_type": "code",
   "execution_count": 121,
   "metadata": {},
   "outputs": [],
   "source": [
    "con=sqlite3.connect(\"craftsvilla.db\")  \n",
    "cur=con.cursor()\n",
    "cur.execute('CREATE TABLE product_details (Website varchar(40) not null,Product_Link text PRIMARY KEY,Product_Name varchar(50) not null,Product_Brand varchar(50) not null,Product_Category varchar(50),Size_Avail varchar(20) not null,Price int not null,MRP int not null,Gender varchar(15) not null,Description text not null,Primary_Image_Links text not null,Secondary_Image_Links text not null,Affiliate_Link text not null )')\n",
    "for i in range(len(Product_Link)):\n",
    "    try:\n",
    "        cur.execute('insert into product_details  values(%r,%r,%r,%r,%r,%r,%d,%d,%r,%r,%r,%r,%r)'%('https://www.craftsvilla.com/',Product_Link[i],Product_Name[i],Product_Brand[i],Cat_list[i],Size_Available[i],Price[i],MRP[i],Gender[i],Description[i],Primary_Image_Link[i],Secondary_Image_Link[i],''))\n",
    "    except:\n",
    "        pass\n",
    "con.commit()\n",
    "con.close()"
   ]
  }
 ],
 "metadata": {
  "kernelspec": {
   "display_name": "Python 3",
   "language": "python",
   "name": "python3"
  },
  "language_info": {
   "codemirror_mode": {
    "name": "ipython",
    "version": 3
   },
   "file_extension": ".py",
   "mimetype": "text/x-python",
   "name": "python",
   "nbconvert_exporter": "python",
   "pygments_lexer": "ipython3",
   "version": "3.8.5"
  }
 },
 "nbformat": 4,
 "nbformat_minor": 4
}
