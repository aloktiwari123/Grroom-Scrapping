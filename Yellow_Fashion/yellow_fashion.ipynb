{
 "cells": [
  {
   "cell_type": "code",
   "execution_count": 1,
   "metadata": {},
   "outputs": [],
   "source": [
    "from bs4 import BeautifulSoup\n",
    "import requests\n",
    "import pandas as pd\n",
    "from pandas import Series, DataFrame\n",
    "from ipywidgets import FloatProgress\n",
    "from time import sleep\n",
    "from IPython.display import display\n",
    "import re\n",
    "import pickle\n",
    "from urlextract import URLExtract\n",
    "import json\n",
    "import sqlite3\n",
    "import datetime\n",
    "from tqdm import tqdm"
   ]
  },
  {
   "cell_type": "code",
   "execution_count": 2,
   "metadata": {},
   "outputs": [],
   "source": [
    "headers = {'User-Agent' : 'Mozilla/5.0 (Macintosh; Intel Mac OS X 10_14_5) AppleWebKit/537.36 (KHTML, like Gecko) Chrome/84.0.4147.89 Safari/537.36'}"
   ]
  },
  {
   "cell_type": "code",
   "execution_count": 63,
   "metadata": {},
   "outputs": [],
   "source": [
    "Product_Link=[]\n",
    "Product_Name=[]\n",
    "Product_Brand=[]\n",
    "Size_Available=[]\n",
    "Price=[]\n",
    "MRP=[]\n",
    "Gender=[]\n",
    "Description=[]\n",
    "Cat_list=[]\n",
    "Primary_Image_Link=[]\n",
    "Secondary_Image_Link=[]"
   ]
  },
  {
   "cell_type": "markdown",
   "metadata": {},
   "source": [
    "## Sarees"
   ]
  },
  {
   "cell_type": "code",
   "execution_count": 15,
   "metadata": {},
   "outputs": [
    {
     "name": "stderr",
     "output_type": "stream",
     "text": [
      "100%|██████████| 130/130 [02:58<00:00,  1.37s/it]\n"
     ]
    }
   ],
   "source": [
    "sarees_links=[]\n",
    "for i in tqdm(range(1,131)):\n",
    "    try:\n",
    "        result=requests.get(f\"https://www.yellowfashion.in/collections/new-arrivals-1?page={i}\",headers=headers)\n",
    "        get=result.content\n",
    "        soup=BeautifulSoup(get,'lxml')\n",
    "        prod=soup.find_all('div',{'class':'product-info'})\n",
    "        for j in prod:\n",
    "            try:\n",
    "                sarees_links.append(\"https://www.yellowfashion.in\"+j.find('a').attrs['href'])\n",
    "            except:\n",
    "                pass\n",
    "    except:\n",
    "        pass"
   ]
  },
  {
   "cell_type": "code",
   "execution_count": 64,
   "metadata": {},
   "outputs": [
    {
     "name": "stderr",
     "output_type": "stream",
     "text": [
      "100%|██████████| 3892/3892 [1:25:09<00:00,  1.31s/it]  \n"
     ]
    }
   ],
   "source": [
    "err=[]\n",
    "for i in tqdm(sarees_links):\n",
    "    try:\n",
    "        result = requests.get(i,headers=headers)\n",
    "        get = result.content\n",
    "        soup = BeautifulSoup(get,\"lxml\")\n",
    "        js=soup.find('script',{'id':'product-json'}).string\n",
    "        js=json.loads(js)\n",
    "        product_name=js['title']\n",
    "        product_brand=js['vendor']\n",
    "        product_link=i\n",
    "        product_cat=js['type']\n",
    "        product_des=js['description']\n",
    "       \n",
    "        product_price=js['price']//100\n",
    "        product_mrp=js['price']//100\n",
    "        \n",
    "        img=soup.find_all('div',{'class':'imgwrap'})\n",
    "        images=js['images']\n",
    "        if(len(images)==1):\n",
    "            primary_link=images[0]\n",
    "            secondary_link=\"Not Available\"\n",
    "        else:\n",
    "            primary_link=images[0]\n",
    "            secondary_link=','.join(images[1:])\n",
    "\n",
    "        size_avl=\"One-Size\"\n",
    "\n",
    "    \n",
    "    except:\n",
    "        err.append(i)\n",
    "        pass\n",
    "    \n",
    "    else:\n",
    "        Product_Link.append(product_link)\n",
    "        Product_Brand.append(product_brand)\n",
    "        Product_Name.append(product_name)\n",
    "        Description.append(product_des)\n",
    "        Gender.append('Women')\n",
    "        Cat_list.append(product_cat)\n",
    "        MRP.append(product_mrp)\n",
    "        Price.append(product_price)\n",
    "        Primary_Image_Link.append(primary_link)\n",
    "        Secondary_Image_Link.append(secondary_link)\n",
    "        Size_Available.append(size_avl)\n"
   ]
  },
  {
   "cell_type": "markdown",
   "metadata": {},
   "source": [
    "## Suits / Kurti"
   ]
  },
  {
   "cell_type": "code",
   "execution_count": 67,
   "metadata": {},
   "outputs": [
    {
     "name": "stderr",
     "output_type": "stream",
     "text": [
      "100%|██████████| 82/82 [01:42<00:00,  1.25s/it]\n"
     ]
    }
   ],
   "source": [
    "kurti_links=[]\n",
    "for i in tqdm(range(1,83)):\n",
    "    try:\n",
    "        result=requests.get(f\"https://www.yellowfashion.in/search?page={i}&q=suits%2FKurtis\",headers=headers)\n",
    "        get=result.content\n",
    "        soup=BeautifulSoup(get,'lxml')\n",
    "        prod=soup.find_all('div',{'class':'product-info'})\n",
    "        for j in prod:\n",
    "            try:\n",
    "                kurti_links.append(\"https://www.yellowfashion.in\"+j.find('a').attrs['href'])\n",
    "            except:\n",
    "                pass\n",
    "    except:\n",
    "        pass"
   ]
  },
  {
   "cell_type": "code",
   "execution_count": 77,
   "metadata": {},
   "outputs": [
    {
     "name": "stderr",
     "output_type": "stream",
     "text": [
      "100%|██████████| 82/82 [01:38<00:00,  1.20s/it]\n"
     ]
    }
   ],
   "source": [
    "err=[]\n",
    "for i in tqdm(kurti_links):\n",
    "    try:\n",
    "        result = requests.get(i,headers=headers)\n",
    "        get = result.content\n",
    "        soup = BeautifulSoup(get,\"lxml\")\n",
    "        js=soup.find('script',{'id':'product-json'}).string\n",
    "        js=json.loads(js)\n",
    "        product_name=js['title']\n",
    "        product_brand=js['vendor']\n",
    "        product_link=i\n",
    "        product_cat=js['type']\n",
    "        product_des=js['description']\n",
    "       \n",
    "        product_price=js['price']//100\n",
    "        product_mrp=js['price']//100\n",
    "        \n",
    "        img=soup.find_all('div',{'class':'imgwrap'})\n",
    "        images=js['images']\n",
    "        if(len(images)==1):\n",
    "            primary_link=images[0]\n",
    "            secondary_link=\"Not Available\"\n",
    "        else:\n",
    "            primary_link=images[0]\n",
    "            secondary_link=','.join(images[1:])\n",
    "        var=js['variants']\n",
    "        sizes=[]\n",
    "\n",
    "        for i in var:\n",
    "            sizes.append(i['title'])\n",
    "        size_avl=','.join(sizes)\n",
    "\n",
    "    \n",
    "    except:\n",
    "        err.append(i)\n",
    "        pass\n",
    "    \n",
    "    else:\n",
    "        Product_Link.append(product_link)\n",
    "        Product_Brand.append(product_brand)\n",
    "        Product_Name.append(product_name)\n",
    "        Description.append(product_des)\n",
    "        Gender.append('Women')\n",
    "        Cat_list.append(product_cat)\n",
    "        MRP.append(product_mrp)\n",
    "        Price.append(product_price)\n",
    "        Primary_Image_Link.append(primary_link)\n",
    "        Secondary_Image_Link.append(secondary_link)\n",
    "        Size_Available.append(size_avl)\n"
   ]
  },
  {
   "cell_type": "markdown",
   "metadata": {},
   "source": [
    "## Lehangas"
   ]
  },
  {
   "cell_type": "code",
   "execution_count": 79,
   "metadata": {},
   "outputs": [
    {
     "name": "stderr",
     "output_type": "stream",
     "text": [
      "100%|██████████| 2/2 [00:02<00:00,  1.48s/it]\n"
     ]
    }
   ],
   "source": [
    "lehangas=[]\n",
    "for i in tqdm(range(1,3)):\n",
    "    try:\n",
    "        result=requests.get(f\"https://www.yellowfashion.in/collections/designer-lehengas?page={i}\",headers=headers)\n",
    "        get=result.content\n",
    "        soup=BeautifulSoup(get,'lxml')\n",
    "        prod=soup.find_all('div',{'class':'product-info'})\n",
    "        for j in prod:\n",
    "            try:\n",
    "                lehangas.append(\"https://www.yellowfashion.in\"+j.find('a').attrs['href'])\n",
    "            except:\n",
    "                pass\n",
    "    except:\n",
    "        pass"
   ]
  },
  {
   "cell_type": "code",
   "execution_count": 81,
   "metadata": {},
   "outputs": [
    {
     "name": "stderr",
     "output_type": "stream",
     "text": [
      "100%|██████████| 50/50 [01:15<00:00,  1.52s/it]\n"
     ]
    }
   ],
   "source": [
    "err=[]\n",
    "for i in tqdm(lehangas):\n",
    "    try:\n",
    "        result = requests.get(i,headers=headers)\n",
    "        get = result.content\n",
    "        soup = BeautifulSoup(get,\"lxml\")\n",
    "        js=soup.find('script',{'id':'product-json'}).string\n",
    "        js=json.loads(js)\n",
    "        product_name=js['title']\n",
    "        product_brand=js['vendor']\n",
    "        product_link=i\n",
    "        product_cat=js['type']\n",
    "        product_des=js['description']\n",
    "       \n",
    "        product_price=js['price']//100\n",
    "        product_mrp=js['price']//100\n",
    "        \n",
    "        img=soup.find_all('div',{'class':'imgwrap'})\n",
    "        images=js['images']\n",
    "        if(len(images)==1):\n",
    "            primary_link=images[0]\n",
    "            secondary_link=\"Not Available\"\n",
    "        else:\n",
    "            primary_link=images[0]\n",
    "            secondary_link=','.join(images[1:])\n",
    "        size_avl=\"One-Size\"\n",
    "\n",
    "    \n",
    "    except:\n",
    "        err.append(i)\n",
    "        pass\n",
    "    \n",
    "    else:\n",
    "        Product_Link.append(product_link)\n",
    "        Product_Brand.append(product_brand)\n",
    "        Product_Name.append(product_name)\n",
    "        Description.append(product_des)\n",
    "        Gender.append('Women')\n",
    "        Cat_list.append(product_cat)\n",
    "        MRP.append(product_mrp)\n",
    "        Price.append(product_price)\n",
    "        Primary_Image_Link.append(primary_link)\n",
    "        Secondary_Image_Link.append(secondary_link)\n",
    "        Size_Available.append(size_avl)\n"
   ]
  },
  {
   "cell_type": "code",
   "execution_count": 82,
   "metadata": {},
   "outputs": [],
   "source": [
    "con=sqlite3.connect(\"yellow_fashion.db\")  \n",
    "cur=con.cursor()\n",
    "cur.execute('CREATE TABLE product_details (Website varchar(40) not null,Product_Link text PRIMARY KEY,Product_Name varchar(50) not null,Product_Brand varchar(50) not null,Product_Category varchar(50),Size_Avail varchar(20) not null,Price int not null,MRP int not null,Gender varchar(15) not null,Description text not null,Primary_Image_Links text not null,Secondary_Image_Links text not null,Affiliate_Link text not null )')\n",
    "for i in range(len(Product_Link)):\n",
    "    try:\n",
    "        cur.execute('insert into product_details  values(%r,%r,%r,%r,%r,%r,%d,%d,%r,%r,%r,%r,%r)'%('https://www.yellowfashion.in/',Product_Link[i],Product_Name[i],Product_Brand[i],Cat_list[i],Size_Available[i],Price[i],MRP[i],Gender[i],Description[i],Primary_Image_Link[i],Secondary_Image_Link[i],''))\n",
    "    except:\n",
    "        pass\n",
    "con.commit()\n",
    "con.close()"
   ]
  },
  {
   "cell_type": "code",
   "execution_count": null,
   "metadata": {},
   "outputs": [],
   "source": []
  }
 ],
 "metadata": {
  "kernelspec": {
   "display_name": "Python 3",
   "language": "python",
   "name": "python3"
  },
  "language_info": {
   "codemirror_mode": {
    "name": "ipython",
    "version": 3
   },
   "file_extension": ".py",
   "mimetype": "text/x-python",
   "name": "python",
   "nbconvert_exporter": "python",
   "pygments_lexer": "ipython3",
   "version": "3.8.5"
  }
 },
 "nbformat": 4,
 "nbformat_minor": 4
}
