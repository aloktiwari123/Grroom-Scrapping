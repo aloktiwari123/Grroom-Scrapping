{
 "cells": [
  {
   "cell_type": "code",
   "execution_count": 1,
   "metadata": {},
   "outputs": [],
   "source": [
    "from bs4 import BeautifulSoup\n",
    "import requests\n",
    "import pandas as pd\n",
    "from pandas import Series, DataFrame\n",
    "from ipywidgets import FloatProgress\n",
    "from time import sleep\n",
    "from IPython.display import display\n",
    "import re\n",
    "import pickle\n",
    "from urlextract import URLExtract\n",
    "import json\n",
    "import sqlite3\n",
    "import datetime\n",
    "from tqdm import tqdm"
   ]
  },
  {
   "cell_type": "code",
   "execution_count": 2,
   "metadata": {},
   "outputs": [],
   "source": [
    "headers = {'User-Agent' : 'Mozilla/5.0 (Macintosh; Intel Mac OS X 10_14_5) AppleWebKit/537.36 (KHTML, like Gecko) Chrome/84.0.4147.89 Safari/537.36'}"
   ]
  },
  {
   "cell_type": "code",
   "execution_count": 3,
   "metadata": {},
   "outputs": [],
   "source": [
    "result=requests.get(\"https://www.ecoright.com/shop-sustainable-fashion/?swoof=1&v=c86ee0d9d7ed&paged=1\",headers=headers)\n",
    "get=result.content\n",
    "soup=BeautifulSoup(get,'lxml')"
   ]
  },
  {
   "cell_type": "code",
   "execution_count": 7,
   "metadata": {},
   "outputs": [
    {
     "name": "stdout",
     "output_type": "stream",
     "text": [
      "https://www.ecoright.com/houston-we-have-a-problem-tote-bag-for-girl-online/\n",
      "https://www.ecoright.com/cute-animals-shopping-tote-bag-for-women-online/\n",
      "https://www.ecoright.com/formal-look-adjustable-cotton-face-masks-online/\n",
      "https://www.ecoright.com/spectacular-dragonfly-green-canvas-zipper-tote-bag-online/\n",
      "https://www.ecoright.com/purrfect-large-utility-tote-bag-online/\n",
      "https://www.ecoright.com/fineapple-simple-cotton-tote-bag-for-women-online/\n",
      "https://www.ecoright.com/porcupine-hug-black-canvas-zipper-tote-bag-online/\n",
      "https://www.ecoright.com/sea-la-vie-simple-large-tote-bag-for-women-online/\n",
      "https://www.ecoright.com/happy-flowers-blue-canvas-zipper-tote-bag-online/\n",
      "https://www.ecoright.com/navy-blue-lunch-bag-online/\n",
      "https://www.ecoright.com/natures-design-convertible-backpack-for-girls-online/\n",
      "https://www.ecoright.com/mesmerizing-stingray-zipper-canvas-tote-bag-online/\n",
      "https://www.ecoright.com/the-safe-and-the-beautiful-adjustable-cotton-face-masks-online/\n",
      "https://www.ecoright.com/the-night-sky-crossbody-bag-for-women-online/\n",
      "https://www.ecoright.com/safety-first-adjustable-cotton-face-masks-online/\n",
      "https://www.ecoright.com/simple-tote-bag-the-fly-me-to-space/\n",
      "https://www.ecoright.com/large-zipper-tote-save-our-seas-2/\n",
      "https://www.ecoright.com/formal-look-cotton-face-masks-set-of-03/\n",
      "https://www.ecoright.com/no-room-for-plastic-black-canvas-zipper-tote-bag-online/\n",
      "https://www.ecoright.com/hungry-crocs-simple-tote-bag-for-women-online/\n"
     ]
    }
   ],
   "source": [
    "prod=soup.find_all('div',{'class':'product-block grid v1'})\n",
    "for i in prod:\n",
    "    print(i.find('a').attrs['href'])"
   ]
  },
  {
   "cell_type": "code",
   "execution_count": null,
   "metadata": {},
   "outputs": [],
   "source": []
  }
 ],
 "metadata": {
  "kernelspec": {
   "display_name": "Python 3",
   "language": "python",
   "name": "python3"
  },
  "language_info": {
   "codemirror_mode": {
    "name": "ipython",
    "version": 3
   },
   "file_extension": ".py",
   "mimetype": "text/x-python",
   "name": "python",
   "nbconvert_exporter": "python",
   "pygments_lexer": "ipython3",
   "version": "3.8.5"
  }
 },
 "nbformat": 4,
 "nbformat_minor": 4
}
