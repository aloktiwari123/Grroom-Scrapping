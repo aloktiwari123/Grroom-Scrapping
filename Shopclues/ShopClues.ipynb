{
 "cells": [
  {
   "cell_type": "code",
   "execution_count": 1,
   "metadata": {},
   "outputs": [],
   "source": [
    "from bs4 import BeautifulSoup\n",
    "import requests\n",
    "import pandas as pd\n",
    "from pandas import Series, DataFrame\n",
    "from ipywidgets import FloatProgress\n",
    "from time import sleep\n",
    "from IPython.display import display\n",
    "import re\n",
    "import pickle\n",
    "from urlextract import URLExtract\n",
    "import json\n",
    "import sqlite3"
   ]
  },
  {
   "cell_type": "code",
   "execution_count": 2,
   "metadata": {},
   "outputs": [],
   "source": [
    "result=requests.get(f'https://www.shopclues.com/mens-clothing.html?page=1')\n",
    "get= result.content\n",
    "soup = BeautifulSoup(get,\"html.parser\")"
   ]
  },
  {
   "cell_type": "code",
   "execution_count": 3,
   "metadata": {},
   "outputs": [],
   "source": [
    "s=soup.find_all('div',class_='column col4')"
   ]
  },
  {
   "cell_type": "code",
   "execution_count": 4,
   "metadata": {},
   "outputs": [
    {
     "data": {
      "text/plain": [
       "'//www.shopclues.com/stylogue-round-neck-half-sleeve-t-shirt-for-men-150492191.html'"
      ]
     },
     "execution_count": 4,
     "metadata": {},
     "output_type": "execute_result"
    }
   ],
   "source": [
    "s[0].find_all('a')[1].attrs['href']"
   ]
  },
  {
   "cell_type": "code",
   "execution_count": 5,
   "metadata": {},
   "outputs": [],
   "source": [
    "product_link=[]\n",
    "c=0\n",
    "while (c <400):\n",
    "    c=c+1\n",
    "    result=requests.get(f'https://www.shopclues.com/mens-clothing.html?page={c}')\n",
    "    g= result.content\n",
    "    soup = BeautifulSoup(g,\"html.parser\")\n",
    "    data=soup.find_all('div',class_='column col4')\n",
    "    for i in data:\n",
    "        product_link.append(\"https:\"+i.find_all('a')[1].attrs['href'])"
   ]
  },
  {
   "cell_type": "code",
   "execution_count": 6,
   "metadata": {},
   "outputs": [
    {
     "data": {
      "text/plain": [
       "9600"
      ]
     },
     "execution_count": 6,
     "metadata": {},
     "output_type": "execute_result"
    }
   ],
   "source": [
    "len(product_link)"
   ]
  },
  {
   "cell_type": "code",
   "execution_count": 7,
   "metadata": {},
   "outputs": [],
   "source": [
    "s=list(set(product_link))"
   ]
  },
  {
   "cell_type": "code",
   "execution_count": 8,
   "metadata": {},
   "outputs": [
    {
     "data": {
      "text/plain": [
       "2401"
      ]
     },
     "execution_count": 8,
     "metadata": {},
     "output_type": "execute_result"
    }
   ],
   "source": [
    "len(s)"
   ]
  },
  {
   "cell_type": "code",
   "execution_count": 71,
   "metadata": {},
   "outputs": [],
   "source": [
    "result=requests.get(f'https://www.shopclues.com/freed-minds-dotted-white-casual-shirt-for-men-141084581.html')\n",
    "get= result.content\n",
    "soup = BeautifulSoup(get,\"html.parser\")"
   ]
  },
  {
   "cell_type": "code",
   "execution_count": 72,
   "metadata": {},
   "outputs": [],
   "source": [
    "s=soup.find('div',class_='prd_mid_info')"
   ]
  },
  {
   "cell_type": "code",
   "execution_count": 73,
   "metadata": {},
   "outputs": [],
   "source": [
    "#s"
   ]
  },
  {
   "cell_type": "code",
   "execution_count": 74,
   "metadata": {},
   "outputs": [
    {
     "data": {
      "text/plain": [
       "'https://schema.org/InStock'"
      ]
     },
     "execution_count": 74,
     "metadata": {},
     "output_type": "execute_result"
    }
   ],
   "source": [
    "s.find('link',{'itemprop':'availability'}).attrs['href']\n",
    "#<link href=\"https://schema.org/InStock\" itemprop=\"availability\"/>"
   ]
  },
  {
   "cell_type": "raw",
   "metadata": {},
   "source": [
    "size=s.find('div',{'class':\"f_variation\"})\n",
    "li=size.ul.find_all('span',{'class':'variant'})\n",
    "#s_l=''\n",
    "#for i in li:\n",
    "#    s_l=s_l+i.text+\" , \"\n",
    "#s_l[:-2] \n",
    "li"
   ]
  },
  {
   "cell_type": "raw",
   "metadata": {},
   "source": [
    "s.find('span',{'itemprop':'description'}).text"
   ]
  },
  {
   "cell_type": "raw",
   "metadata": {},
   "source": [
    "s.find('h1',{'itemprop':'name'}).text.rstrip().lstrip()"
   ]
  },
  {
   "cell_type": "raw",
   "metadata": {},
   "source": [
    "s.find('span',{'itemprop':'brand'}).text"
   ]
  },
  {
   "cell_type": "raw",
   "metadata": {},
   "source": [
    "s.find('span',{'id':\"sec_list_price_\"}).text.split('MRP:')[1]"
   ]
  },
  {
   "cell_type": "raw",
   "metadata": {},
   "source": [
    "s.find('span',{'class':'f_price'}).text"
   ]
  },
  {
   "cell_type": "code",
   "execution_count": 75,
   "metadata": {},
   "outputs": [],
   "source": [
    "img=soup.find('div',class_='prd_img_gallery')\n",
    "img_list=img.find_all('li',class_=\"thumb_click\")"
   ]
  },
  {
   "cell_type": "code",
   "execution_count": 76,
   "metadata": {},
   "outputs": [
    {
     "data": {
      "text/plain": [
       "'https://cdn.shopclues.com/images1/detailed/92880/141084581-92880242-1537502857.jpg'"
      ]
     },
     "execution_count": 76,
     "metadata": {},
     "output_type": "execute_result"
    }
   ],
   "source": [
    "img_list[0].a.attrs['data-zoom-image']"
   ]
  },
  {
   "cell_type": "code",
   "execution_count": 10,
   "metadata": {},
   "outputs": [],
   "source": [
    "Product_Link=[]\n",
    "Product_Name=[]\n",
    "Product_Brand=[]\n",
    "Size_Available=[]\n",
    "Price=[]\n",
    "MRP=[]\n",
    "#Gender\n",
    "Description=[]\n",
    "Primary_Image_Link=[]\n",
    "Secondary_Image_Link=[]"
   ]
  },
  {
   "cell_type": "code",
   "execution_count": 11,
   "metadata": {},
   "outputs": [],
   "source": [
    "error_link=[]\n",
    "out_of_stock=[]\n",
    "for i in s:\n",
    "    try:\n",
    "        result = requests.get(i)\n",
    "        c = result.content\n",
    "        soup = BeautifulSoup(c,\"html.parser\")\n",
    "        s=soup.find('div',class_='prd_mid_info')\n",
    "        \n",
    "        if(list(s.find('link',{'itemprop':'availability'}).attrs.values())[1]=='https://schema.org/InStock'):\n",
    "            \n",
    "            if(s.find('span',{'id':\"sec_list_price_\"})!=None):\n",
    "                MRP.append(s.find('span',{'id':\"sec_list_price_\"}).text.split('MRP:')[1])\n",
    "            else:\n",
    "                if(s.find('span',{'id':'o_price'})!=None):\n",
    "                    MRP.append(s.find('span',{'id':\"o_price\"}).text)\n",
    "                else:\n",
    "                    MRP.append(s.find('span',{'id':\"f_price\"}).text)\n",
    "            Product_Link.append(i)\n",
    "            Product_Name.append(s.find('h1',{'itemprop':'name'}).text.rstrip().lstrip())\n",
    "            Product_Brand.append(s.find('span',{'itemprop':'brand'}).text)\n",
    "            size=s.find('div',{'class':\"f_variation\"})\n",
    "            if(size==None):\n",
    "                Size_Available.append(\"Not Available\")\n",
    "            else:\n",
    "                li=size.ul.find_all('span',{'class':'variant'})\n",
    "                s_l=''\n",
    "                for j in li:\n",
    "                    s_l=s_l+j.text+\" , \"\n",
    "                Size_Available.append(s_l[:-2])\n",
    "            Price.append(s.find('span',{'class':'f_price'}).text)\n",
    "           \n",
    "                \n",
    "            \n",
    "            Description.append(s.find('span',{'itemprop':'description'}).text)\n",
    "            img=soup.find('div',class_='prd_img_gallery')\n",
    "            img_list=img.find_all('li',class_=\"thumb_click\")\n",
    "            if(len(img_list)==1):\n",
    "                Primary_Image_Link.append(img_list[0].a.attrs['data-zoom-image'])\n",
    "                Secondary_Image_Link.append(\"Not Available\")\n",
    "            else:\n",
    "                Primary_Image_Link.append(img_list[0].a.attrs['data-zoom-image'])\n",
    "                Secondary_Image_Link.append(img_list[1].a.attrs['data-zoom-image'])\n",
    "        else:\n",
    "            out_of_stock.append(i)\n",
    "            \n",
    "    except:\n",
    "        error_link.append(i)\n",
    "        pass"
   ]
  },
  {
   "cell_type": "code",
   "execution_count": 17,
   "metadata": {},
   "outputs": [],
   "source": [
    "data=pd.DataFrame({\n",
    "    \"Product\":Product_Name,\n",
    "    \"Link\":Product_Link,\n",
    "    \"Brand\":Product_Brand,\n",
    "    \"Size Available\":Size_Available,\n",
    "    \"Selling Price\":Price,\n",
    "    \"MRP\":MRP,\n",
    "    \"Gender\":'Men',\n",
    "    \"Description\":Description,\n",
    "    \"Primary_Image\":Primary_Image_Link,\n",
    "    \"Secondary_Image\":Secondary_Image_Link,\n",
    "    \n",
    "})"
   ]
  },
  {
   "cell_type": "code",
   "execution_count": 18,
   "metadata": {},
   "outputs": [],
   "source": [
    "data.to_csv('Men_Clothing_SC.csv',index=False)"
   ]
  },
  {
   "cell_type": "code",
   "execution_count": 19,
   "metadata": {},
   "outputs": [],
   "source": [
    "Product_Link=[]\n",
    "Product_Name=[]\n",
    "Product_Brand=[]\n",
    "Size_Available=[]\n",
    "Price=[]\n",
    "MRP=[]\n",
    "#Gender\n",
    "Description=[]\n",
    "Primary_Image_Link=[]\n",
    "Secondary_Image_Link=[]"
   ]
  },
  {
   "cell_type": "code",
   "execution_count": 20,
   "metadata": {},
   "outputs": [],
   "source": [
    "#out_of_stock=[]\n",
    "err=[]\n",
    "for i in error_link:\n",
    "    try:\n",
    "        result = requests.get(i)\n",
    "        c = result.content\n",
    "        soup = BeautifulSoup(c,\"html.parser\")\n",
    "        s=soup.find('div',class_='prd_mid_info')\n",
    "        \n",
    "        if(list(s.find('link',{'itemprop':'availability'}).attrs.values())[1]=='https://schema.org/InStock'):\n",
    "            \n",
    "            \n",
    "            if(s.find('span',{'class':'o_price'})!=None):\n",
    "                MRP.append(s.find('span',{'class':\"o_price\"}).text)\n",
    "            else:\n",
    "                MRP.append(s.find('span',{'class':\"f_price\"}).text)\n",
    "            Product_Link.append(i)\n",
    "            Product_Name.append(s.find('h1',{'itemprop':'name'}).text.rstrip().lstrip())\n",
    "            Product_Brand.append(s.find('span',{'itemprop':'brand'}).text)\n",
    "            size=s.find('div',{'class':\"f_variation\"})\n",
    "            if(size==None):\n",
    "                Size_Available.append(\"Not Available\")\n",
    "            else:\n",
    "                li=size.ul.find_all('span',{'class':'variant'})\n",
    "                s_l=''\n",
    "                for j in li:\n",
    "                    s_l=s_l+j.text+\" , \"\n",
    "                Size_Available.append(s_l[:-2])\n",
    "            Price.append(s.find('span',{'class':'f_price'}).text)\n",
    "           \n",
    "                \n",
    "            \n",
    "            Description.append(s.find('span',{'itemprop':'description'}).text)\n",
    "            img=soup.find('div',class_='prd_img_gallery')\n",
    "            img_list=img.find_all('li',class_=\"thumb_click\")\n",
    "            if(len(img_list)==1):\n",
    "                Primary_Image_Link.append(img_list[0].a.attrs['data-zoom-image'])\n",
    "                Secondary_Image_Link.append(\"Not Available\")\n",
    "            else:\n",
    "                Primary_Image_Link.append(img_list[0].a.attrs['data-zoom-image'])\n",
    "                Secondary_Image_Link.append(img_list[1].a.attrs['data-zoom-image'])\n",
    "        else:\n",
    "            out_of_stock.append(i)\n",
    "            \n",
    "    except:\n",
    "        err.append(i)\n",
    "        pass"
   ]
  },
  {
   "cell_type": "code",
   "execution_count": 22,
   "metadata": {},
   "outputs": [],
   "source": [
    "data=pd.DataFrame({\n",
    "    \"Product\":Product_Name,\n",
    "    \"Link\":Product_Link,\n",
    "    \"Brand\":Product_Brand,\n",
    "    \"Size Available\":Size_Available,\n",
    "    \"Selling Price\":Price,\n",
    "    \"MRP\":MRP,\n",
    "    \"Gender\":'Men',\n",
    "    \"Description\":Description,\n",
    "    \"Primary_Image\":Primary_Image_Link,\n",
    "    \"Secondary_Image\":Secondary_Image_Link,\n",
    "    \n",
    "})"
   ]
  },
  {
   "cell_type": "code",
   "execution_count": 23,
   "metadata": {},
   "outputs": [],
   "source": [
    "new=pd.read_csv('Men_Clothing_SC.csv')"
   ]
  },
  {
   "cell_type": "code",
   "execution_count": 24,
   "metadata": {},
   "outputs": [],
   "source": [
    "n=new.append(data)"
   ]
  },
  {
   "cell_type": "code",
   "execution_count": 25,
   "metadata": {},
   "outputs": [],
   "source": [
    "n.to_csv('Men_Clothing_Sc.csv')"
   ]
  },
  {
   "cell_type": "code",
   "execution_count": 26,
   "metadata": {},
   "outputs": [
    {
     "data": {
      "text/plain": [
       "(2399, 10)"
      ]
     },
     "execution_count": 26,
     "metadata": {},
     "output_type": "execute_result"
    }
   ],
   "source": [
    "n.shape"
   ]
  },
  {
   "cell_type": "code",
   "execution_count": 27,
   "metadata": {},
   "outputs": [
    {
     "data": {
      "text/plain": [
       "['https://www.shopclues.com/dia-a-dia-unisex-combo-of-3-cotton-shorts-143432323.html',\n",
       " 'https://www.shopclues.com/ketex-pack-of-navy-blue-black-bottle-green-polo-t-shirts-pack-of-3-143392593.html']"
      ]
     },
     "execution_count": 27,
     "metadata": {},
     "output_type": "execute_result"
    }
   ],
   "source": [
    "out_of_stock"
   ]
  },
  {
   "cell_type": "code",
   "execution_count": 29,
   "metadata": {},
   "outputs": [],
   "source": [
    "acc_link=[]\n",
    "products=['footwear-mens-shoes','men-watches','accessories-men-belts','mens-accessories-wallets']\n",
    "for i in products:\n",
    "    c = 0\n",
    "    while (c <400):\n",
    "        c=c+1\n",
    "        result=requests.get(f'https://www.shopclues.com/{i}.html?page={c}')\n",
    "        g= result.content\n",
    "        soup = BeautifulSoup(g,\"html.parser\")\n",
    "        data=soup.find_all('div',class_='column col4')\n",
    "        for j in data:\n",
    "            acc_link.append(\"https:\"+j.find_all('a')[1].attrs['href'])"
   ]
  },
  {
   "cell_type": "code",
   "execution_count": 31,
   "metadata": {},
   "outputs": [],
   "source": [
    "men_acc=list(set(acc_link))"
   ]
  },
  {
   "cell_type": "code",
   "execution_count": 32,
   "metadata": {},
   "outputs": [
    {
     "data": {
      "text/plain": [
       "7676"
      ]
     },
     "execution_count": 32,
     "metadata": {},
     "output_type": "execute_result"
    }
   ],
   "source": [
    "len(men_acc)"
   ]
  },
  {
   "cell_type": "code",
   "execution_count": 33,
   "metadata": {},
   "outputs": [],
   "source": [
    "Product_Link=[]\n",
    "Product_Name=[]\n",
    "Product_Brand=[]\n",
    "Size_Available=[]\n",
    "Price=[]\n",
    "MRP=[]\n",
    "#Gender\n",
    "Description=[]\n",
    "Primary_Image_Link=[]\n",
    "Secondary_Image_Link=[]"
   ]
  },
  {
   "cell_type": "code",
   "execution_count": 34,
   "metadata": {},
   "outputs": [],
   "source": [
    "error_link=[]\n",
    "out_of_stock=[]\n",
    "for i in men_acc:\n",
    "    try:\n",
    "        result = requests.get(i)\n",
    "        c = result.content\n",
    "        soup = BeautifulSoup(c,\"html.parser\")\n",
    "        s=soup.find('div',class_='prd_mid_info')\n",
    "        \n",
    "        if(list(s.find('link',{'itemprop':'availability'}).attrs.values())[1]=='https://schema.org/InStock'):\n",
    "            \n",
    "            if(s.find('span',{'id':\"sec_list_price_\"})!=None):\n",
    "                MRP.append(s.find('span',{'id':\"sec_list_price_\"}).text.split('MRP:')[1])\n",
    "            else:\n",
    "                if(s.find('span',{'id':'o_price'})!=None):\n",
    "                    MRP.append(s.find('span',{'id':\"o_price\"}).text)\n",
    "                else:\n",
    "                    MRP.append(s.find('span',{'id':\"f_price\"}).text)\n",
    "            Product_Link.append(i)\n",
    "            Product_Name.append(s.find('h1',{'itemprop':'name'}).text.rstrip().lstrip())\n",
    "            Product_Brand.append(s.find('span',{'itemprop':'brand'}).text)\n",
    "            size=s.find('div',{'class':\"f_variation\"})\n",
    "            if(size==None):\n",
    "                Size_Available.append(\"Not Available\")\n",
    "            else:\n",
    "                li=size.ul.find_all('span',{'class':'variant'})\n",
    "                s_l=''\n",
    "                for j in li:\n",
    "                    s_l=s_l+j.text+\" , \"\n",
    "                Size_Available.append(s_l[:-2])\n",
    "            Price.append(s.find('span',{'class':'f_price'}).text)\n",
    "           \n",
    "                \n",
    "            \n",
    "            Description.append(s.find('span',{'itemprop':'description'}).text)\n",
    "            img=soup.find('div',class_='prd_img_gallery')\n",
    "            img_list=img.find_all('li',class_=\"thumb_click\")\n",
    "            if(len(img_list)==1):\n",
    "                Primary_Image_Link.append(img_list[0].a.attrs['data-zoom-image'])\n",
    "                Secondary_Image_Link.append(\"Not Available\")\n",
    "            else:\n",
    "                Primary_Image_Link.append(img_list[0].a.attrs['data-zoom-image'])\n",
    "                Secondary_Image_Link.append(img_list[1].a.attrs['data-zoom-image'])\n",
    "        else:\n",
    "            out_of_stock.append(i)\n",
    "            \n",
    "    except:\n",
    "        error_link.append(i)\n",
    "        pass"
   ]
  },
  {
   "cell_type": "code",
   "execution_count": 35,
   "metadata": {},
   "outputs": [
    {
     "data": {
      "text/plain": [
       "127"
      ]
     },
     "execution_count": 35,
     "metadata": {},
     "output_type": "execute_result"
    }
   ],
   "source": [
    "len(error_link)"
   ]
  },
  {
   "cell_type": "code",
   "execution_count": 36,
   "metadata": {},
   "outputs": [
    {
     "data": {
      "text/plain": [
       "3"
      ]
     },
     "execution_count": 36,
     "metadata": {},
     "output_type": "execute_result"
    }
   ],
   "source": [
    "len(out_of_stock)"
   ]
  },
  {
   "cell_type": "code",
   "execution_count": 37,
   "metadata": {},
   "outputs": [],
   "source": [
    "data=pd.DataFrame({\n",
    "    \"Product\":Product_Name,\n",
    "    \"Link\":Product_Link,\n",
    "    \"Brand\":Product_Brand,\n",
    "    \"Size Available\":Size_Available,\n",
    "    \"Selling Price\":Price,\n",
    "    \"MRP\":MRP,\n",
    "    \"Gender\":'Men',\n",
    "    \"Description\":Description,\n",
    "    \"Primary_Image\":Primary_Image_Link,\n",
    "    \"Secondary_Image\":Secondary_Image_Link,\n",
    "    \n",
    "})"
   ]
  },
  {
   "cell_type": "code",
   "execution_count": 38,
   "metadata": {},
   "outputs": [],
   "source": [
    "#data.to_csv('Men_all_SC.csv')"
   ]
  },
  {
   "cell_type": "code",
   "execution_count": 39,
   "metadata": {},
   "outputs": [
    {
     "data": {
      "text/plain": [
       "(7546, 10)"
      ]
     },
     "execution_count": 39,
     "metadata": {},
     "output_type": "execute_result"
    }
   ],
   "source": [
    "data.shape"
   ]
  },
  {
   "cell_type": "code",
   "execution_count": 40,
   "metadata": {},
   "outputs": [],
   "source": [
    "#out_of_stock=[]\n",
    "err=[]\n",
    "for i in error_link:\n",
    "    try:\n",
    "        result = requests.get(i)\n",
    "        c = result.content\n",
    "        soup = BeautifulSoup(c,\"html.parser\")\n",
    "        s=soup.find('div',class_='prd_mid_info')\n",
    "        \n",
    "        if(list(s.find('link',{'itemprop':'availability'}).attrs.values())[1]=='https://schema.org/InStock'):\n",
    "            \n",
    "            \n",
    "            if(s.find('span',{'class':'o_price'})!=None):\n",
    "                MRP.append(s.find('span',{'class':\"o_price\"}).text)\n",
    "            else:\n",
    "                MRP.append(s.find('span',{'class':\"f_price\"}).text)\n",
    "            Product_Link.append(i)\n",
    "            Product_Name.append(s.find('h1',{'itemprop':'name'}).text.rstrip().lstrip())\n",
    "            Product_Brand.append(s.find('span',{'itemprop':'brand'}).text)\n",
    "            size=s.find('div',{'class':\"f_variation\"})\n",
    "            if(size==None):\n",
    "                Size_Available.append(\"Not Available\")\n",
    "            else:\n",
    "                li=size.ul.find_all('span',{'class':'variant'})\n",
    "                s_l=''\n",
    "                for j in li:\n",
    "                    s_l=s_l+j.text+\" , \"\n",
    "                Size_Available.append(s_l[:-2])\n",
    "            Price.append(s.find('span',{'class':'f_price'}).text)\n",
    "           \n",
    "                \n",
    "            \n",
    "            Description.append(s.find('span',{'itemprop':'description'}).text)\n",
    "            img=soup.find('div',class_='prd_img_gallery')\n",
    "            img_list=img.find_all('li',class_=\"thumb_click\")\n",
    "            if(len(img_list)==1):\n",
    "                Primary_Image_Link.append(img_list[0].a.attrs['data-zoom-image'])\n",
    "                Secondary_Image_Link.append(\"Not Available\")\n",
    "            else:\n",
    "                Primary_Image_Link.append(img_list[0].a.attrs['data-zoom-image'])\n",
    "                Secondary_Image_Link.append(img_list[1].a.attrs['data-zoom-image'])\n",
    "        else:\n",
    "            out_of_stock.append(i)\n",
    "            \n",
    "    except:\n",
    "        err.append(i)\n",
    "        pass"
   ]
  },
  {
   "cell_type": "code",
   "execution_count": 50,
   "metadata": {},
   "outputs": [],
   "source": [
    "data=pd.DataFrame({\n",
    "    \"Product\":Product_Name,\n",
    "    \"Link\":Product_Link,\n",
    "    \"Brand\":Product_Brand,\n",
    "    \"Size Available\":Size_Available,\n",
    "    \"Selling Price\":Price,\n",
    "    \"MRP\":MRP,\n",
    "    \"Gender\":'Men',\n",
    "    \"Description\":Description,\n",
    "    \"Primary_Image\":Primary_Image_Link,\n",
    "    \"Secondary_Image\":Secondary_Image_Link,\n",
    "    \n",
    "})"
   ]
  },
  {
   "cell_type": "code",
   "execution_count": 51,
   "metadata": {},
   "outputs": [
    {
     "data": {
      "text/plain": [
       "(7673, 10)"
      ]
     },
     "execution_count": 51,
     "metadata": {},
     "output_type": "execute_result"
    }
   ],
   "source": [
    "data.shape"
   ]
  },
  {
   "cell_type": "code",
   "execution_count": 52,
   "metadata": {},
   "outputs": [],
   "source": [
    "data.to_csv('Men_all_SC.csv',index=False)"
   ]
  },
  {
   "cell_type": "code",
   "execution_count": 57,
   "metadata": {},
   "outputs": [],
   "source": [
    "n=pd.read_csv('Men_Clothing_SC.csv')"
   ]
  },
  {
   "cell_type": "code",
   "execution_count": 59,
   "metadata": {},
   "outputs": [
    {
     "data": {
      "text/plain": [
       "Index(['Unnamed: 0', 'Product', 'Link', 'Brand', 'Size Available',\n",
       "       'Selling Price', 'MRP', 'Gender', 'Description', 'Primary_Image',\n",
       "       'Secondary_Image'],\n",
       "      dtype='object')"
      ]
     },
     "execution_count": 59,
     "metadata": {},
     "output_type": "execute_result"
    }
   ],
   "source": [
    "n.columns"
   ]
  },
  {
   "cell_type": "code",
   "execution_count": 61,
   "metadata": {},
   "outputs": [],
   "source": [
    "new=n.drop(columns='Unnamed: 0',axis=1)"
   ]
  },
  {
   "cell_type": "code",
   "execution_count": 64,
   "metadata": {},
   "outputs": [],
   "source": [
    "data=data.append(new)"
   ]
  },
  {
   "cell_type": "code",
   "execution_count": 65,
   "metadata": {},
   "outputs": [
    {
     "data": {
      "text/plain": [
       "(10072, 10)"
      ]
     },
     "execution_count": 65,
     "metadata": {},
     "output_type": "execute_result"
    }
   ],
   "source": [
    "data.shape"
   ]
  },
  {
   "cell_type": "code",
   "execution_count": 66,
   "metadata": {},
   "outputs": [],
   "source": [
    "data.to_csv('All_Men_SC.csv',index=False)"
   ]
  },
  {
   "cell_type": "code",
   "execution_count": null,
   "metadata": {},
   "outputs": [],
   "source": []
  }
 ],
 "metadata": {
  "kernelspec": {
   "display_name": "Python 3",
   "language": "python",
   "name": "python3"
  },
  "language_info": {
   "codemirror_mode": {
    "name": "ipython",
    "version": 3
   },
   "file_extension": ".py",
   "mimetype": "text/x-python",
   "name": "python",
   "nbconvert_exporter": "python",
   "pygments_lexer": "ipython3",
   "version": "3.8.5"
  }
 },
 "nbformat": 4,
 "nbformat_minor": 4
}
