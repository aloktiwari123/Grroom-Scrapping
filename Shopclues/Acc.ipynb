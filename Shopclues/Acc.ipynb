{
 "cells": [
  {
   "cell_type": "code",
   "execution_count": 1,
   "metadata": {},
   "outputs": [],
   "source": [
    "from bs4 import BeautifulSoup\n",
    "import requests\n",
    "import pandas as pd\n",
    "from pandas import Series, DataFrame\n",
    "from ipywidgets import FloatProgress\n",
    "from time import sleep\n",
    "from IPython.display import display\n",
    "import re\n",
    "import pickle\n",
    "from urlextract import URLExtract\n",
    "import json\n",
    "import sqlite3"
   ]
  },
  {
   "cell_type": "code",
   "execution_count": 15,
   "metadata": {},
   "outputs": [],
   "source": [
    "for i  in d2.Link.values:\n",
    "    index_names = d1[ d1['Link'] == i ].index\n",
    "    d1.drop(index_names, inplace = True)"
   ]
  },
  {
   "cell_type": "code",
   "execution_count": 16,
   "metadata": {},
   "outputs": [],
   "source": [
    "d1['Gender']='Women'\n",
    "d2['Gender']='Men'"
   ]
  },
  {
   "cell_type": "code",
   "execution_count": 17,
   "metadata": {},
   "outputs": [],
   "source": [
    "d=d1.append(d2)"
   ]
  },
  {
   "cell_type": "code",
   "execution_count": 18,
   "metadata": {},
   "outputs": [
    {
     "data": {
      "text/plain": [
       "Product             0\n",
       "Link                0\n",
       "Brand              19\n",
       "Size Available      0\n",
       "Selling Price       0\n",
       "MRP                 0\n",
       "Description         0\n",
       "Primary_Image      10\n",
       "Secondary_Image     4\n",
       "Gender              0\n",
       "dtype: int64"
      ]
     },
     "execution_count": 18,
     "metadata": {},
     "output_type": "execute_result"
    }
   ],
   "source": [
    "d.isnull().sum()"
   ]
  },
  {
   "cell_type": "code",
   "execution_count": null,
   "metadata": {},
   "outputs": [],
   "source": [
    "data=pd.read_csv('All_SC.csv')"
   ]
  },
  {
   "cell_type": "code",
   "execution_count": 20,
   "metadata": {},
   "outputs": [
    {
     "data": {
      "text/plain": [
       "(23216, 10)"
      ]
     },
     "execution_count": 20,
     "metadata": {},
     "output_type": "execute_result"
    }
   ],
   "source": [
    "data.shape"
   ]
  },
  {
   "cell_type": "code",
   "execution_count": 21,
   "metadata": {},
   "outputs": [],
   "source": [
    "data=data.dropna()"
   ]
  },
  {
   "cell_type": "code",
   "execution_count": 22,
   "metadata": {},
   "outputs": [],
   "source": [
    "data=data.append(d)"
   ]
  },
  {
   "cell_type": "code",
   "execution_count": 24,
   "metadata": {},
   "outputs": [
    {
     "data": {
      "text/plain": [
       "(23114, 10)"
      ]
     },
     "execution_count": 24,
     "metadata": {},
     "output_type": "execute_result"
    }
   ],
   "source": [
    "data.shape"
   ]
  },
  {
   "cell_type": "code",
   "execution_count": 25,
   "metadata": {},
   "outputs": [],
   "source": [
    "data.to_csv(\"All_Shopclues.csv\",index=False)"
   ]
  },
  {
   "cell_type": "code",
   "execution_count": 26,
   "metadata": {},
   "outputs": [
    {
     "name": "stderr",
     "output_type": "stream",
     "text": [
      "C:\\Users\\alokt\\anaconda3\\lib\\site-packages\\pandas\\core\\generic.py:2605: UserWarning: The spaces in these column names will not be changed. In pandas versions < 0.14, spaces were converted to underscores.\n",
      "  sql.to_sql(\n"
     ]
    },
    {
     "data": {
      "text/plain": [
       "<function Connection.close>"
      ]
     },
     "execution_count": 26,
     "metadata": {},
     "output_type": "execute_result"
    }
   ],
   "source": [
    "import sqlite3\n",
    "#from pandas import DataFrame\n",
    "\n",
    "conn = sqlite3.connect('All_ShopClues.db')\n",
    "c = conn.cursor()\n",
    "\n",
    "c.execute('CREATE TABLE products (Product,Link,Brand,Size Available,Selling Price,MRP,Gender,Description,Primary_Image,Secondary_Image)')\n",
    "conn.commit()\n",
    "\n",
    "data.to_sql('products', conn, if_exists='replace', index = False)\n",
    "conn.close"
   ]
  },
  {
   "cell_type": "code",
   "execution_count": 7,
   "metadata": {},
   "outputs": [],
   "source": [
    "new=pd.read_csv('All_Shopclues.csv')"
   ]
  },
  {
   "cell_type": "code",
   "execution_count": 8,
   "metadata": {},
   "outputs": [
    {
     "data": {
      "text/plain": [
       "(23114, 10)"
      ]
     },
     "execution_count": 8,
     "metadata": {},
     "output_type": "execute_result"
    }
   ],
   "source": [
    "new.shape"
   ]
  },
  {
   "cell_type": "code",
   "execution_count": 9,
   "metadata": {},
   "outputs": [
    {
     "data": {
      "text/plain": [
       "Product             0\n",
       "Link                0\n",
       "Brand              19\n",
       "Size Available      0\n",
       "Selling Price       0\n",
       "MRP                 0\n",
       "Gender              0\n",
       "Description         0\n",
       "Primary_Image      10\n",
       "Secondary_Image     4\n",
       "dtype: int64"
      ]
     },
     "execution_count": 9,
     "metadata": {},
     "output_type": "execute_result"
    }
   ],
   "source": [
    "new.isnull().sum()"
   ]
  },
  {
   "cell_type": "code",
   "execution_count": 10,
   "metadata": {},
   "outputs": [],
   "source": [
    "new=new.dropna()"
   ]
  },
  {
   "cell_type": "code",
   "execution_count": 11,
   "metadata": {},
   "outputs": [
    {
     "data": {
      "text/plain": [
       "247"
      ]
     },
     "execution_count": 11,
     "metadata": {},
     "output_type": "execute_result"
    }
   ],
   "source": [
    "int(new['Selling Price'][0][1:])"
   ]
  },
  {
   "cell_type": "code",
   "execution_count": 12,
   "metadata": {},
   "outputs": [
    {
     "data": {
      "text/plain": [
       "23082"
      ]
     },
     "execution_count": 12,
     "metadata": {},
     "output_type": "execute_result"
    }
   ],
   "source": [
    "len(new['Selling Price'])"
   ]
  },
  {
   "cell_type": "code",
   "execution_count": 13,
   "metadata": {},
   "outputs": [],
   "source": [
    "sell=[]\n",
    "for i in range(len(new['Selling Price'])):\n",
    "    sell.append(int(re.sub(\"\\D\",'',new['Selling Price'].values[i])))\n",
    "    "
   ]
  },
  {
   "cell_type": "code",
   "execution_count": 14,
   "metadata": {},
   "outputs": [],
   "source": [
    "mrp=[]\n",
    "for i in range(len(new['MRP'])):\n",
    "    mrp.append(int(re.sub(\"\\D\",'',new['MRP'].values[i])))"
   ]
  },
  {
   "cell_type": "code",
   "execution_count": 15,
   "metadata": {},
   "outputs": [],
   "source": [
    "new['Selling Price']=sell\n",
    "new['MRP']=mrp"
   ]
  },
  {
   "cell_type": "code",
   "execution_count": 16,
   "metadata": {},
   "outputs": [
    {
     "data": {
      "text/html": [
       "<div>\n",
       "<style scoped>\n",
       "    .dataframe tbody tr th:only-of-type {\n",
       "        vertical-align: middle;\n",
       "    }\n",
       "\n",
       "    .dataframe tbody tr th {\n",
       "        vertical-align: top;\n",
       "    }\n",
       "\n",
       "    .dataframe thead th {\n",
       "        text-align: right;\n",
       "    }\n",
       "</style>\n",
       "<table border=\"1\" class=\"dataframe\">\n",
       "  <thead>\n",
       "    <tr style=\"text-align: right;\">\n",
       "      <th></th>\n",
       "      <th>Product</th>\n",
       "      <th>Link</th>\n",
       "      <th>Brand</th>\n",
       "      <th>Size Available</th>\n",
       "      <th>Selling Price</th>\n",
       "      <th>MRP</th>\n",
       "      <th>Gender</th>\n",
       "      <th>Description</th>\n",
       "      <th>Primary_Image</th>\n",
       "      <th>Secondary_Image</th>\n",
       "    </tr>\n",
       "  </thead>\n",
       "  <tbody>\n",
       "    <tr>\n",
       "      <th>0</th>\n",
       "      <td>Sunshopping men's multicolor leatherite needle...</td>\n",
       "      <td>https://www.shopclues.com/sunshopping-mens-mul...</td>\n",
       "      <td>Sunshopping</td>\n",
       "      <td>28 , 30 , 32 , 34 , 36 , 38</td>\n",
       "      <td>247</td>\n",
       "      <td>599</td>\n",
       "      <td>Men</td>\n",
       "      <td>Buy [product _name] Online at Best Prices from...</td>\n",
       "      <td>https://cdn.shopclues.com/images1/detailed/909...</td>\n",
       "      <td>https://cdn.shopclues.com/images1/detailed/909...</td>\n",
       "    </tr>\n",
       "    <tr>\n",
       "      <th>1</th>\n",
       "      <td>Sunshopping men's brown leatherite needle pin ...</td>\n",
       "      <td>https://www.shopclues.com/sunshopping-mens-bro...</td>\n",
       "      <td>Sunshopping</td>\n",
       "      <td>28 , 30 , 32 , 36</td>\n",
       "      <td>171</td>\n",
       "      <td>499</td>\n",
       "      <td>Men</td>\n",
       "      <td>Buy [product _name] Online at Best Prices from...</td>\n",
       "      <td>https://cdn.shopclues.com/images1/detailed/890...</td>\n",
       "      <td>https://cdn.shopclues.com/images1/detailed/890...</td>\n",
       "    </tr>\n",
       "    <tr>\n",
       "      <th>2</th>\n",
       "      <td>UNU New Stylish Leather Strap 0060 Watch Gor B...</td>\n",
       "      <td>https://www.shopclues.com/unu-new-stylish-leat...</td>\n",
       "      <td>Unu</td>\n",
       "      <td>Not Available</td>\n",
       "      <td>152</td>\n",
       "      <td>999</td>\n",
       "      <td>Men</td>\n",
       "      <td>Buy UNU New Stylish Leather Strap 0060 Watch G...</td>\n",
       "      <td>https://cdn.shopclues.com/images1/detailed/968...</td>\n",
       "      <td>Not Available</td>\n",
       "    </tr>\n",
       "    <tr>\n",
       "      <th>3</th>\n",
       "      <td>Knoos Men Synthetic Leather Loafers</td>\n",
       "      <td>https://www.shopclues.com/knoos-men-synthetic-...</td>\n",
       "      <td>Knoos</td>\n",
       "      <td>9</td>\n",
       "      <td>427</td>\n",
       "      <td>1045</td>\n",
       "      <td>Men</td>\n",
       "      <td>Buy Knoos Men Synthetic Leather Loafers online...</td>\n",
       "      <td>https://cdn.shopclues.com/images/detailed/7901...</td>\n",
       "      <td>https://cdn.shopclues.com/images/detailed/7901...</td>\n",
       "    </tr>\n",
       "    <tr>\n",
       "      <th>4</th>\n",
       "      <td>Sunshopping Men's Brown Leatherite Auto Lock B...</td>\n",
       "      <td>https://www.shopclues.com/sunshopping-mens-bro...</td>\n",
       "      <td>Sunshopping</td>\n",
       "      <td>28 , 30 , 32 , 34 , 36 , 38</td>\n",
       "      <td>266</td>\n",
       "      <td>599</td>\n",
       "      <td>Men</td>\n",
       "      <td>Buy [product _name] Online at Best Prices from...</td>\n",
       "      <td>https://cdn.shopclues.com/images1/detailed/971...</td>\n",
       "      <td>https://cdn.shopclues.com/images1/detailed/971...</td>\n",
       "    </tr>\n",
       "  </tbody>\n",
       "</table>\n",
       "</div>"
      ],
      "text/plain": [
       "                                             Product  \\\n",
       "0  Sunshopping men's multicolor leatherite needle...   \n",
       "1  Sunshopping men's brown leatherite needle pin ...   \n",
       "2  UNU New Stylish Leather Strap 0060 Watch Gor B...   \n",
       "3                Knoos Men Synthetic Leather Loafers   \n",
       "4  Sunshopping Men's Brown Leatherite Auto Lock B...   \n",
       "\n",
       "                                                Link        Brand  \\\n",
       "0  https://www.shopclues.com/sunshopping-mens-mul...  Sunshopping   \n",
       "1  https://www.shopclues.com/sunshopping-mens-bro...  Sunshopping   \n",
       "2  https://www.shopclues.com/unu-new-stylish-leat...          Unu   \n",
       "3  https://www.shopclues.com/knoos-men-synthetic-...        Knoos   \n",
       "4  https://www.shopclues.com/sunshopping-mens-bro...  Sunshopping   \n",
       "\n",
       "                 Size Available  Selling Price   MRP Gender  \\\n",
       "0  28 , 30 , 32 , 34 , 36 , 38             247   599    Men   \n",
       "1            28 , 30 , 32 , 36             171   499    Men   \n",
       "2                 Not Available            152   999    Men   \n",
       "3                            9             427  1045    Men   \n",
       "4  28 , 30 , 32 , 34 , 36 , 38             266   599    Men   \n",
       "\n",
       "                                         Description  \\\n",
       "0  Buy [product _name] Online at Best Prices from...   \n",
       "1  Buy [product _name] Online at Best Prices from...   \n",
       "2  Buy UNU New Stylish Leather Strap 0060 Watch G...   \n",
       "3  Buy Knoos Men Synthetic Leather Loafers online...   \n",
       "4  Buy [product _name] Online at Best Prices from...   \n",
       "\n",
       "                                       Primary_Image  \\\n",
       "0  https://cdn.shopclues.com/images1/detailed/909...   \n",
       "1  https://cdn.shopclues.com/images1/detailed/890...   \n",
       "2  https://cdn.shopclues.com/images1/detailed/968...   \n",
       "3  https://cdn.shopclues.com/images/detailed/7901...   \n",
       "4  https://cdn.shopclues.com/images1/detailed/971...   \n",
       "\n",
       "                                     Secondary_Image  \n",
       "0  https://cdn.shopclues.com/images1/detailed/909...  \n",
       "1  https://cdn.shopclues.com/images1/detailed/890...  \n",
       "2                                      Not Available  \n",
       "3  https://cdn.shopclues.com/images/detailed/7901...  \n",
       "4  https://cdn.shopclues.com/images1/detailed/971...  "
      ]
     },
     "execution_count": 16,
     "metadata": {},
     "output_type": "execute_result"
    }
   ],
   "source": [
    "new.head()"
   ]
  },
  {
   "cell_type": "code",
   "execution_count": 17,
   "metadata": {},
   "outputs": [],
   "source": [
    "data_1=pd.DataFrame({\n",
    "    \n",
    "    \"Website\":'https://www.shopclues.com/',\n",
    "    \"Product_Link\":new['Link'].values,\n",
    "    \"Product_Name\":new['Product'].values,\n",
    "    \"Product_Brand\":new['Brand'].values,\n",
    "    \"Size_Avail\":new['Size Available'].values,\n",
    "    \"Price\":new['Selling Price'].values,\n",
    "    \"MRP\":new['MRP'].values,\n",
    "    \"Gender\":new['Gender'].values,\n",
    "    \"Description\":new['Description'].values,\n",
    "    \"Primary_Image_Links\":new['Primary_Image'].values,\n",
    "    \"Secondary_Image_Links\":new['Secondary_Image'].values,\n",
    "    \"Affiliate_Link\":''\n",
    "    \n",
    "})"
   ]
  },
  {
   "cell_type": "code",
   "execution_count": 18,
   "metadata": {},
   "outputs": [],
   "source": [
    "data_1.to_csv('shopclues.csv',index=False)"
   ]
  },
  {
   "cell_type": "code",
   "execution_count": 80,
   "metadata": {},
   "outputs": [
    {
     "data": {
      "text/plain": [
       "<function Connection.close>"
      ]
     },
     "execution_count": 80,
     "metadata": {},
     "output_type": "execute_result"
    }
   ],
   "source": [
    "import sqlite3\n",
    "#from pandas import DataFrame\n",
    "\n",
    "conn = sqlite3.connect('ShopC.db')\n",
    "c = conn.cursor()\n",
    "\n",
    "c.execute('CREATE TABLE product_details (Website varchar(40) not null,Product_Link text PRIMARY KEY,Product_Name varchar(50) not null,Product_Brand varchar(50) not null,Size_Avail varchar(20) not null,Price int not null,MRP int not null,Gender varchar(15) not null,Description text not null,Primary_Image_Links text not null,Secondary_Image_Links text not null,Affiliate_Link text not null )')\n",
    "\n",
    "\n",
    "data_1.to_sql('product_details', conn, if_exists='replace', index = False)    \n",
    "conn.commit()\n",
    "conn.close"
   ]
  },
  {
   "cell_type": "markdown",
   "metadata": {},
   "source": [
    "## Men Accessories"
   ]
  },
  {
   "cell_type": "code",
   "execution_count": 20,
   "metadata": {},
   "outputs": [],
   "source": [
    "link=[]\n",
    "products=['jewelry-watches-mens-jewellery','mens-accessories-socks','accessories-men-caps']\n",
    "for i in products:\n",
    "    c = 0\n",
    "    while (c <400):\n",
    "        c=c+1\n",
    "        result=requests.get(f'https://www.shopclues.com/{i}.html?page={c}')\n",
    "        g= result.content\n",
    "        soup = BeautifulSoup(g,\"html.parser\")\n",
    "        data=soup.find_all('div',class_='column col4')\n",
    "        for j in data:\n",
    "            try:\n",
    "                link.append(\"https:\"+j.find_all('a')[1].attrs['href'])\n",
    "            except:\n",
    "                pass"
   ]
  },
  {
   "cell_type": "code",
   "execution_count": 24,
   "metadata": {},
   "outputs": [],
   "source": [
    "link=list(set(link))"
   ]
  },
  {
   "cell_type": "code",
   "execution_count": 63,
   "metadata": {},
   "outputs": [
    {
     "data": {
      "text/plain": [
       "4536"
      ]
     },
     "execution_count": 63,
     "metadata": {},
     "output_type": "execute_result"
    }
   ],
   "source": [
    "len(link)"
   ]
  },
  {
   "cell_type": "code",
   "execution_count": 62,
   "metadata": {},
   "outputs": [],
   "source": [
    "Product_Link=[]\n",
    "Product_Name=[]\n",
    "Product_Brand=[]\n",
    "Size_Available=[]\n",
    "Price=[]\n",
    "MRP=[]\n",
    "Gender=[]\n",
    "Description=[]\n",
    "Primary_Image_Link=[]\n",
    "Secondary_Image_Link=[]"
   ]
  },
  {
   "cell_type": "code",
   "execution_count": 64,
   "metadata": {},
   "outputs": [],
   "source": [
    "error_link=[]\n",
    "out_of_stock=[]\n",
    "for i in link:\n",
    "    try:\n",
    "        result = requests.get(i)\n",
    "        c = result.content\n",
    "        soup = BeautifulSoup(c,\"html.parser\")\n",
    "        s=soup.find('div',class_='prd_mid_info')\n",
    "        \n",
    "        if(list(s.find('link',{'itemprop':'availability'}).attrs.values())[1]=='https://schema.org/InStock'):\n",
    "            \n",
    "            \n",
    "                \n",
    "            if(s.find('span',{'id':\"sec_list_price_\"})!=None):\n",
    "                MRP.append(s.find('span',{'id':\"sec_list_price_\"}).text.split('MRP:')[1])\n",
    "            else:\n",
    "                if(s.find('span',{'class':'o_price'})!=None):\n",
    "                    MRP.append(s.find('span',{'class':\"o_price\"}).text)\n",
    "                else:\n",
    "                    MRP.append(s.find('span',{'class':\"f_price\"}).text)\n",
    "            \n",
    "            Price.append(s.find('span',{'class':'f_price'}).text)\n",
    "            Product_Link.append(i)\n",
    "            Product_Name.append(s.find('h1',{'itemprop':'name'}).text.rstrip().lstrip())\n",
    "            if(s.find('span',{'itemprop':'brand'}).text!=''):\n",
    "                Product_Brand.append(s.find('span',{'itemprop':'brand'}).text)\n",
    "            else:\n",
    "                if(s.find('span',{'class':'pID'}).a!=None):\n",
    "                    Product_Brand.append(s.find('span',{'class':'pID'}).a.text)\n",
    "                else:\n",
    "                    Product_Brand.append(\"ShopClues\")\n",
    "                    \n",
    "            size=s.find('div',{'class':\"f_variation\"})\n",
    "            if(size==None):\n",
    "                Size_Available.append(\"Not Available\")\n",
    "            else:\n",
    "                li=size.ul.find_all('span',{'class':'variant'})\n",
    "                s_l=''\n",
    "                for j in li:\n",
    "                    s_l=s_l+j.text+\" , \"\n",
    "                Size_Available.append(s_l[:-2])\n",
    "            \n",
    "            Description.append(s.find('span',{'itemprop':'description'}).text)\n",
    "            Gender.append('Men')\n",
    "            img=soup.find('div',class_='prd_img_gallery')\n",
    "            img_list=img.find_all('li',class_=\"thumb_click\")\n",
    "            if(len(img_list)==0):\n",
    "                Primary_Image_Link.append('Not Available')\n",
    "                Secondary_Image_Link.append('Not Available')\n",
    "            else:\n",
    "                if(len(img_list)==1):\n",
    "                    Primary_Image_Link.append(img_list[0].a.attrs['data-zoom-image'])\n",
    "                    Secondary_Image_Link.append(\"Not Available\")\n",
    "                else:\n",
    "                    Primary_Image_Link.append(img_list[0].a.attrs['data-zoom-image'])\n",
    "                    Secondary_Image_Link.append(img_list[1].a.attrs['data-zoom-image'])\n",
    "        else:\n",
    "            out_of_stock.append(i)\n",
    "            \n",
    "    except:\n",
    "        error_link.append(i)\n",
    "        pass"
   ]
  },
  {
   "cell_type": "code",
   "execution_count": 65,
   "metadata": {},
   "outputs": [
    {
     "data": {
      "text/plain": [
       "['https://www.shopclues.com/crystal-pack-of-10-long-socks-for-men-139419480.html']"
      ]
     },
     "execution_count": 65,
     "metadata": {},
     "output_type": "execute_result"
    }
   ],
   "source": [
    "error_link"
   ]
  },
  {
   "cell_type": "code",
   "execution_count": 66,
   "metadata": {},
   "outputs": [
    {
     "data": {
      "text/plain": [
       "4525"
      ]
     },
     "execution_count": 66,
     "metadata": {},
     "output_type": "execute_result"
    }
   ],
   "source": [
    "len(Secondary_Image_Link)"
   ]
  },
  {
   "cell_type": "code",
   "execution_count": 67,
   "metadata": {},
   "outputs": [],
   "source": [
    "data_1=pd.DataFrame({\n",
    "    \n",
    "    \"Website\":'https://www.shopclues.com/',\n",
    "    \"Product_Link\":Product_Link,\n",
    "    \"Product_Name\":Product_Name,\n",
    "    \"Product_Brand\":Product_Brand,\n",
    "    \"Size_Avail\":Size_Available,\n",
    "    \"Price\":Price,\n",
    "    \"MRP\":MRP,\n",
    "    \"Gender\":Gender,\n",
    "    \"Description\":Description,\n",
    "    \"Primary_Image_Links\":Primary_Image_Link,\n",
    "    \"Secondary_Image_Links\":Secondary_Image_Link,\n",
    "    \"Affiliate_Link\":''\n",
    "    \n",
    "})"
   ]
  },
  {
   "cell_type": "code",
   "execution_count": 68,
   "metadata": {},
   "outputs": [],
   "source": [
    "data_1.to_csv('Men_Acc.csv',index=False)"
   ]
  },
  {
   "cell_type": "markdown",
   "metadata": {},
   "source": [
    "## Women Accessories"
   ]
  },
  {
   "cell_type": "code",
   "execution_count": 2,
   "metadata": {},
   "outputs": [],
   "source": [
    "link=[]\n",
    "products=['all-jewellery','womens-accessories']\n",
    "for i in products:\n",
    "    c = 0\n",
    "    while (c <400):\n",
    "        c=c+1\n",
    "        result=requests.get(f'https://www.shopclues.com/{i}.html?page={c}')\n",
    "        g= result.content\n",
    "        soup = BeautifulSoup(g,\"html.parser\")\n",
    "        data=soup.find_all('div',class_='column col4')\n",
    "        for j in data:\n",
    "            try:\n",
    "                link.append(\"https:\"+j.find_all('a')[1].attrs['href'])\n",
    "            except:\n",
    "                pass"
   ]
  },
  {
   "cell_type": "code",
   "execution_count": 3,
   "metadata": {},
   "outputs": [
    {
     "data": {
      "text/plain": [
       "2491"
      ]
     },
     "execution_count": 3,
     "metadata": {},
     "output_type": "execute_result"
    }
   ],
   "source": [
    "link=list(set(link))\n",
    "len(link)"
   ]
  },
  {
   "cell_type": "code",
   "execution_count": 4,
   "metadata": {},
   "outputs": [],
   "source": [
    "Product_Link=[]\n",
    "Product_Name=[]\n",
    "Product_Brand=[]\n",
    "Size_Available=[]\n",
    "Price=[]\n",
    "MRP=[]\n",
    "Gender=[]\n",
    "Description=[]\n",
    "Primary_Image_Link=[]\n",
    "Secondary_Image_Link=[]"
   ]
  },
  {
   "cell_type": "code",
   "execution_count": 5,
   "metadata": {},
   "outputs": [],
   "source": [
    "error_link=[]\n",
    "out_of_stock=[]\n",
    "for i in link:\n",
    "    try:\n",
    "        result = requests.get(i)\n",
    "        c = result.content\n",
    "        soup = BeautifulSoup(c,\"html.parser\")\n",
    "        s=soup.find('div',class_='prd_mid_info')\n",
    "        \n",
    "        if(list(s.find('link',{'itemprop':'availability'}).attrs.values())[1]=='https://schema.org/InStock'):\n",
    "            \n",
    "            \n",
    "                \n",
    "            if(s.find('span',{'id':\"sec_list_price_\"})!=None):\n",
    "                MRP.append(s.find('span',{'id':\"sec_list_price_\"}).text.split('MRP:')[1])\n",
    "            else:\n",
    "                if(s.find('span',{'class':'o_price'})!=None):\n",
    "                    MRP.append(s.find('span',{'class':\"o_price\"}).text)\n",
    "                else:\n",
    "                    MRP.append(s.find('span',{'class':\"f_price\"}).text)\n",
    "            \n",
    "            Price.append(s.find('span',{'class':'f_price'}).text)\n",
    "            Product_Link.append(i)\n",
    "            Product_Name.append(s.find('h1',{'itemprop':'name'}).text.rstrip().lstrip())\n",
    "            if(s.find('span',{'itemprop':'brand'}).text!=''):\n",
    "                Product_Brand.append(s.find('span',{'itemprop':'brand'}).text)\n",
    "            else:\n",
    "                if(s.find('span',{'class':'pID'}).a!=None):\n",
    "                    Product_Brand.append(s.find('span',{'class':'pID'}).a.text)\n",
    "                else:\n",
    "                    Product_Brand.append(\"ShopClues\")\n",
    "                    \n",
    "            size=s.find('div',{'class':\"f_variation\"})\n",
    "            if(size==None):\n",
    "                Size_Available.append(\"Not Available\")\n",
    "            else:\n",
    "                li=size.ul.find_all('span',{'class':'variant'})\n",
    "                s_l=''\n",
    "                for j in li:\n",
    "                    s_l=s_l+j.text+\" , \"\n",
    "                Size_Available.append(s_l[:-2])\n",
    "            \n",
    "            Description.append(s.find('span',{'itemprop':'description'}).text)\n",
    "            Gender.append('Women')\n",
    "            img=soup.find('div',class_='prd_img_gallery')\n",
    "            img_list=img.find_all('li',class_=\"thumb_click\")\n",
    "            if(len(img_list)==0):\n",
    "                Primary_Image_Link.append('Not Available')\n",
    "                Secondary_Image_Link.append('Not Available')\n",
    "            else:\n",
    "                if(len(img_list)==1):\n",
    "                    Primary_Image_Link.append(img_list[0].a.attrs['data-zoom-image'])\n",
    "                    Secondary_Image_Link.append(\"Not Available\")\n",
    "                else:\n",
    "                    Primary_Image_Link.append(img_list[0].a.attrs['data-zoom-image'])\n",
    "                    Secondary_Image_Link.append(img_list[1].a.attrs['data-zoom-image'])\n",
    "        else:\n",
    "            out_of_stock.append(i)\n",
    "            \n",
    "    except:\n",
    "        error_link.append(i)\n",
    "        pass"
   ]
  },
  {
   "cell_type": "code",
   "execution_count": 6,
   "metadata": {},
   "outputs": [
    {
     "data": {
      "text/plain": [
       "16"
      ]
     },
     "execution_count": 6,
     "metadata": {},
     "output_type": "execute_result"
    }
   ],
   "source": [
    "len(error_link)"
   ]
  },
  {
   "cell_type": "code",
   "execution_count": 7,
   "metadata": {},
   "outputs": [],
   "source": [
    "data_2=pd.DataFrame({\n",
    "    \n",
    "    \"Website\":'https://www.shopclues.com/',\n",
    "    \"Product_Link\":Product_Link,\n",
    "    \"Product_Name\":Product_Name,\n",
    "    \"Product_Brand\":Product_Brand,\n",
    "    \"Size_Avail\":Size_Available,\n",
    "    \"Price\":Price,\n",
    "    \"MRP\":MRP,\n",
    "    \"Gender\":Gender,\n",
    "    \"Description\":Description,\n",
    "    \"Primary_Image_Links\":Primary_Image_Link,\n",
    "    \"Secondary_Image_Links\":Secondary_Image_Link,\n",
    "    \"Affiliate_Link\":''\n",
    "    \n",
    "})"
   ]
  },
  {
   "cell_type": "code",
   "execution_count": 52,
   "metadata": {},
   "outputs": [],
   "source": [
    "data_2.to_csv('Women_Acc.csv',index=False)"
   ]
  },
  {
   "cell_type": "code",
   "execution_count": 9,
   "metadata": {},
   "outputs": [],
   "source": [
    "link=[]\n",
    "products=['travel-and-luggage','case-and-cover-10']\n",
    "for i in products:\n",
    "    c = 0\n",
    "    while (c <400):\n",
    "        c=c+1\n",
    "        result=requests.get(f'https://www.shopclues.com/{i}.html?page={c}')\n",
    "        g= result.content\n",
    "        soup = BeautifulSoup(g,\"html.parser\")\n",
    "        data=soup.find_all('div',class_='column col4')\n",
    "        for j in data:\n",
    "            try:\n",
    "                link.append(\"https:\"+j.find_all('a')[1].attrs['href'])\n",
    "            except:\n",
    "                pass"
   ]
  },
  {
   "cell_type": "code",
   "execution_count": 10,
   "metadata": {},
   "outputs": [],
   "source": [
    "link=list(set(link))"
   ]
  },
  {
   "cell_type": "code",
   "execution_count": 11,
   "metadata": {},
   "outputs": [],
   "source": [
    "Product_Link=[]\n",
    "Product_Name=[]\n",
    "Product_Brand=[]\n",
    "Size_Available=[]\n",
    "Price=[]\n",
    "MRP=[]\n",
    "Gender=[]\n",
    "Description=[]\n",
    "Primary_Image_Link=[]\n",
    "Secondary_Image_Link=[]"
   ]
  },
  {
   "cell_type": "code",
   "execution_count": 12,
   "metadata": {},
   "outputs": [],
   "source": [
    "error_link=[]\n",
    "out_of_stock=[]\n",
    "for i in link:\n",
    "    try:\n",
    "        result = requests.get(i)\n",
    "        c = result.content\n",
    "        soup = BeautifulSoup(c,\"html.parser\")\n",
    "        s=soup.find('div',class_='prd_mid_info')\n",
    "        \n",
    "        if(list(s.find('link',{'itemprop':'availability'}).attrs.values())[1]=='https://schema.org/InStock'):\n",
    "            \n",
    "            \n",
    "                \n",
    "            if(s.find('span',{'id':\"sec_list_price_\"})!=None):\n",
    "                MRP.append(s.find('span',{'id':\"sec_list_price_\"}).text.split('MRP:')[1])\n",
    "            else:\n",
    "                if(s.find('span',{'class':'o_price'})!=None):\n",
    "                    MRP.append(s.find('span',{'class':\"o_price\"}).text)\n",
    "                else:\n",
    "                    MRP.append(s.find('span',{'class':\"f_price\"}).text)\n",
    "            \n",
    "            Price.append(s.find('span',{'class':'f_price'}).text)\n",
    "            Product_Link.append(i)\n",
    "            Product_Name.append(s.find('h1',{'itemprop':'name'}).text.rstrip().lstrip())\n",
    "            if(s.find('span',{'itemprop':'brand'}).text!=''):\n",
    "                Product_Brand.append(s.find('span',{'itemprop':'brand'}).text)\n",
    "            else:\n",
    "                if(s.find('span',{'class':'pID'}).a!=None):\n",
    "                    Product_Brand.append(s.find('span',{'class':'pID'}).a.text)\n",
    "                else:\n",
    "                    Product_Brand.append(\"ShopClues\")\n",
    "                    \n",
    "            size=s.find('div',{'class':\"f_variation\"})\n",
    "            if(size==None):\n",
    "                Size_Available.append(\"Not Available\")\n",
    "            else:\n",
    "                li=size.ul.find_all('span',{'class':'variant'})\n",
    "                s_l=''\n",
    "                for j in li:\n",
    "                    s_l=s_l+j.text+\" , \"\n",
    "                Size_Available.append(s_l[:-2])\n",
    "            \n",
    "            Description.append(s.find('span',{'itemprop':'description'}).text)\n",
    "            Gender.append('Unisex')\n",
    "            img=soup.find('div',class_='prd_img_gallery')\n",
    "            img_list=img.find_all('li',class_=\"thumb_click\")\n",
    "            if(len(img_list)==0):\n",
    "                Primary_Image_Link.append('Not Available')\n",
    "                Secondary_Image_Link.append('Not Available')\n",
    "            else:\n",
    "                if(len(img_list)==1):\n",
    "                    Primary_Image_Link.append(img_list[0].a.attrs['data-zoom-image'])\n",
    "                    Secondary_Image_Link.append(\"Not Available\")\n",
    "                else:\n",
    "                    Primary_Image_Link.append(img_list[0].a.attrs['data-zoom-image'])\n",
    "                    Secondary_Image_Link.append(img_list[1].a.attrs['data-zoom-image'])\n",
    "        else:\n",
    "            out_of_stock.append(i)\n",
    "            \n",
    "    except:\n",
    "        error_link.append(i)\n",
    "        pass"
   ]
  },
  {
   "cell_type": "code",
   "execution_count": 13,
   "metadata": {},
   "outputs": [],
   "source": [
    "data_3=pd.DataFrame({\n",
    "    \n",
    "    \"Website\":'https://www.shopclues.com/',\n",
    "    \"Product_Link\":Product_Link,\n",
    "    \"Product_Name\":Product_Name,\n",
    "    \"Product_Brand\":Product_Brand,\n",
    "    \"Size_Avail\":Size_Available,\n",
    "    \"Price\":Price,\n",
    "    \"MRP\":MRP,\n",
    "    \"Gender\":Gender,\n",
    "    \"Description\":Description,\n",
    "    \"Primary_Image_Links\":Primary_Image_Link,\n",
    "    \"Secondary_Image_Links\":Secondary_Image_Link,\n",
    "    \"Affiliate_Link\":''\n",
    "    \n",
    "})"
   ]
  },
  {
   "cell_type": "code",
   "execution_count": 14,
   "metadata": {},
   "outputs": [],
   "source": [
    "data_3.to_csv('Unisex_Acc.csv',index=False)"
   ]
  },
  {
   "cell_type": "code",
   "execution_count": 15,
   "metadata": {},
   "outputs": [],
   "source": [
    "d1=pd.read_csv('Men_Acc.csv')"
   ]
  },
  {
   "cell_type": "code",
   "execution_count": 16,
   "metadata": {},
   "outputs": [],
   "source": [
    "acc=d1.append(data_2)\n",
    "acc=acc.append(data_3)"
   ]
  },
  {
   "cell_type": "code",
   "execution_count": 22,
   "metadata": {},
   "outputs": [
    {
     "data": {
      "text/plain": [
       "(9356, 12)"
      ]
     },
     "execution_count": 22,
     "metadata": {},
     "output_type": "execute_result"
    }
   ],
   "source": [
    "acc.shape"
   ]
  },
  {
   "cell_type": "code",
   "execution_count": 23,
   "metadata": {},
   "outputs": [],
   "source": [
    "mrp=[]\n",
    "for i in range(len(acc['MRP'])):\n",
    "    mrp.append(int(re.sub(\"\\D\",'',acc['MRP'].values[i])))"
   ]
  },
  {
   "cell_type": "code",
   "execution_count": 25,
   "metadata": {},
   "outputs": [],
   "source": [
    "sell=[]\n",
    "for i in range(len(acc['Price'])):\n",
    "    sell.append(int(re.sub(\"\\D\",'',acc['Price'].values[i])))\n",
    "    "
   ]
  },
  {
   "cell_type": "code",
   "execution_count": 26,
   "metadata": {},
   "outputs": [],
   "source": [
    "acc['Price']=sell\n",
    "acc['MRP']=mrp"
   ]
  },
  {
   "cell_type": "code",
   "execution_count": 27,
   "metadata": {},
   "outputs": [
    {
     "data": {
      "text/plain": [
       "(9356, 12)"
      ]
     },
     "execution_count": 27,
     "metadata": {},
     "output_type": "execute_result"
    }
   ],
   "source": [
    "acc.shape"
   ]
  },
  {
   "cell_type": "code",
   "execution_count": 31,
   "metadata": {},
   "outputs": [],
   "source": [
    "s=pd.read_csv('shopclues.csv')"
   ]
  },
  {
   "cell_type": "code",
   "execution_count": 32,
   "metadata": {},
   "outputs": [],
   "source": [
    "s=s.append(acc)"
   ]
  },
  {
   "cell_type": "code",
   "execution_count": 33,
   "metadata": {},
   "outputs": [
    {
     "data": {
      "text/plain": [
       "(32438, 12)"
      ]
     },
     "execution_count": 33,
     "metadata": {},
     "output_type": "execute_result"
    }
   ],
   "source": [
    "s.shape"
   ]
  },
  {
   "cell_type": "code",
   "execution_count": 43,
   "metadata": {},
   "outputs": [],
   "source": [
    "s.drop_duplicates(inplace=True)"
   ]
  },
  {
   "cell_type": "code",
   "execution_count": 44,
   "metadata": {},
   "outputs": [
    {
     "data": {
      "text/plain": [
       "(32438, 12)"
      ]
     },
     "execution_count": 44,
     "metadata": {},
     "output_type": "execute_result"
    }
   ],
   "source": [
    "s.shape"
   ]
  },
  {
   "cell_type": "code",
   "execution_count": 37,
   "metadata": {},
   "outputs": [
    {
     "data": {
      "text/plain": [
       "32438"
      ]
     },
     "execution_count": 37,
     "metadata": {},
     "output_type": "execute_result"
    }
   ],
   "source": [
    "len(s['Product_Link'])"
   ]
  },
  {
   "cell_type": "code",
   "execution_count": 58,
   "metadata": {},
   "outputs": [],
   "source": [
    "s['Product_Brand']=s['Product_Brand'].replace('Not Available','ShopClues')"
   ]
  },
  {
   "cell_type": "code",
   "execution_count": 59,
   "metadata": {},
   "outputs": [],
   "source": [
    "a=list(set(s['Product_Link']))"
   ]
  },
  {
   "cell_type": "code",
   "execution_count": 63,
   "metadata": {},
   "outputs": [],
   "source": [
    "s.to_csv('All_Shop_Clues.csv',index=False)"
   ]
  },
  {
   "cell_type": "code",
   "execution_count": 62,
   "metadata": {},
   "outputs": [
    {
     "data": {
      "text/plain": [
       "<function Connection.close>"
      ]
     },
     "execution_count": 62,
     "metadata": {},
     "output_type": "execute_result"
    }
   ],
   "source": [
    "import sqlite3\n",
    "#from pandas import DataFrame\n",
    "\n",
    "conn = sqlite3.connect('All_Shop_Clues.db')\n",
    "c = conn.cursor()\n",
    "\n",
    "c.execute('CREATE TABLE product_details (Website varchar(40) not null,Product_Link text PRIMARY KEY,Product_Name varchar(50) not null,Product_Brand varchar(50) not null,Size_Avail varchar(20) not null,Price int not null,MRP int not null,Gender varchar(15) not null,Description text not null,Primary_Image_Links text not null,Secondary_Image_Links text not null,Affiliate_Link text not null )')\n",
    "\n",
    "\n",
    "s.to_sql('product_details', conn, if_exists='replace', index = False)    \n",
    "conn.commit()\n",
    "conn.close"
   ]
  },
  {
   "cell_type": "code",
   "execution_count": null,
   "metadata": {},
   "outputs": [],
   "source": []
  }
 ],
 "metadata": {
  "kernelspec": {
   "display_name": "Python 3",
   "language": "python",
   "name": "python3"
  },
  "language_info": {
   "codemirror_mode": {
    "name": "ipython",
    "version": 3
   },
   "file_extension": ".py",
   "mimetype": "text/x-python",
   "name": "python",
   "nbconvert_exporter": "python",
   "pygments_lexer": "ipython3",
   "version": "3.8.5"
  }
 },
 "nbformat": 4,
 "nbformat_minor": 4
}
