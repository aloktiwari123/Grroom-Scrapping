{
 "cells": [
  {
   "cell_type": "code",
   "execution_count": 1,
   "metadata": {},
   "outputs": [],
   "source": [
    "from bs4 import BeautifulSoup\n",
    "import requests\n",
    "import pandas as pd\n",
    "from pandas import Series, DataFrame\n",
    "from ipywidgets import FloatProgress\n",
    "from time import sleep\n",
    "from IPython.display import display\n",
    "import re\n",
    "import pickle\n",
    "from urlextract import URLExtract\n",
    "import json\n",
    "import sqlite3"
   ]
  },
  {
   "cell_type": "code",
   "execution_count": 29,
   "metadata": {},
   "outputs": [],
   "source": [
    "link=[]\n",
    "products=['womens-clothing-ethnic-wear','womens-western-wear','womens-inner-and-sleepwear','footwear-womens-shoes','womens-watches','women-belts-accessories']\n",
    "products=['women-belts-accessories']\n",
    "for i in products:\n",
    "    c = 114\n",
    "    while (c <400):\n",
    "        c=c+1\n",
    "        result=requests.get(f'https://www.shopclues.com/{i}.html?page={c}')\n",
    "        g= result.content\n",
    "        soup = BeautifulSoup(g,\"html.parser\")\n",
    "        data=soup.find_all('div',class_='column col4')\n",
    "        for j in data:\n",
    "            try:\n",
    "                link.append(\"https:\"+j.find_all('a')[1].attrs['href'])\n",
    "            except:\n",
    "                pass"
   ]
  },
  {
   "cell_type": "code",
   "execution_count": 37,
   "metadata": {},
   "outputs": [],
   "source": [
    "product_link=list(set(links))"
   ]
  },
  {
   "cell_type": "code",
   "execution_count": 38,
   "metadata": {},
   "outputs": [
    {
     "data": {
      "text/plain": [
       "13197"
      ]
     },
     "execution_count": 38,
     "metadata": {},
     "output_type": "execute_result"
    }
   ],
   "source": [
    "len(product_link)"
   ]
  },
  {
   "cell_type": "code",
   "execution_count": 39,
   "metadata": {},
   "outputs": [],
   "source": [
    "Product_Link=[]\n",
    "Product_Name=[]\n",
    "Product_Brand=[]\n",
    "Size_Available=[]\n",
    "Price=[]\n",
    "MRP=[]\n",
    "#Gender\n",
    "Description=[]\n",
    "Primary_Image_Link=[]\n",
    "Secondary_Image_Link=[]"
   ]
  },
  {
   "cell_type": "code",
   "execution_count": 40,
   "metadata": {},
   "outputs": [],
   "source": [
    "error_link=[]\n",
    "out_of_stock=[]\n",
    "for i in product_link:\n",
    "    try:\n",
    "        result = requests.get(i)\n",
    "        c = result.content\n",
    "        soup = BeautifulSoup(c,\"html.parser\")\n",
    "        s=soup.find('div',class_='prd_mid_info')\n",
    "        \n",
    "        if(list(s.find('link',{'itemprop':'availability'}).attrs.values())[1]=='https://schema.org/InStock'):\n",
    "            \n",
    "            if(s.find('span',{'id':\"sec_list_price_\"})!=None):\n",
    "                MRP.append(s.find('span',{'id':\"sec_list_price_\"}).text.split('MRP:')[1])\n",
    "            else:\n",
    "                if(s.find('span',{'id':'o_price'})!=None):\n",
    "                    MRP.append(s.find('span',{'id':\"o_price\"}).text)\n",
    "                else:\n",
    "                    MRP.append(s.find('span',{'id':\"f_price\"}).text)\n",
    "            Product_Link.append(i)\n",
    "            Product_Name.append(s.find('h1',{'itemprop':'name'}).text.rstrip().lstrip())\n",
    "            Product_Brand.append(s.find('span',{'itemprop':'brand'}).text)\n",
    "            size=s.find('div',{'class':\"f_variation\"})\n",
    "            if(size==None):\n",
    "                Size_Available.append(\"Not Available\")\n",
    "            else:\n",
    "                li=size.ul.find_all('span',{'class':'variant'})\n",
    "                s_l=''\n",
    "                for j in li:\n",
    "                    s_l=s_l+j.text+\" , \"\n",
    "                Size_Available.append(s_l[:-2])\n",
    "            Price.append(s.find('span',{'class':'f_price'}).text)\n",
    "           \n",
    "                \n",
    "            \n",
    "            Description.append(s.find('span',{'itemprop':'description'}).text)\n",
    "            img=soup.find('div',class_='prd_img_gallery')\n",
    "            img_list=img.find_all('li',class_=\"thumb_click\")\n",
    "            if(len(img_list)==1):\n",
    "                Primary_Image_Link.append(img_list[0].a.attrs['data-zoom-image'])\n",
    "                Secondary_Image_Link.append(\"Not Available\")\n",
    "            else:\n",
    "                Primary_Image_Link.append(img_list[0].a.attrs['data-zoom-image'])\n",
    "                Secondary_Image_Link.append(img_list[1].a.attrs['data-zoom-image'])\n",
    "        else:\n",
    "            out_of_stock.append(i)\n",
    "            \n",
    "    except:\n",
    "        error_link.append(i)\n",
    "        pass"
   ]
  },
  {
   "cell_type": "code",
   "execution_count": null,
   "metadata": {},
   "outputs": [],
   "source": [
    "data=pd.DataFrame({\n",
    "    \"Product\":Product_Name,\n",
    "    \"Link\":Product_Link,\n",
    "    \"Brand\":Product_Brand,\n",
    "    \"Size Available\":Size_Available,\n",
    "    \"Selling Price\":Price,\n",
    "    \"MRP\":MRP,\n",
    "    \"Gender\":'Women',\n",
    "    \"Description\":Description,\n",
    "    \"Primary_Image\":Primary_Image_Link,\n",
    "    \"Secondary_Image\":Secondary_Image_Link,\n",
    "    \n",
    "})"
   ]
  },
  {
   "cell_type": "code",
   "execution_count": 54,
   "metadata": {},
   "outputs": [
    {
     "data": {
      "text/plain": [
       "'https://www.shopclues.com/kds-paris-fancy-fashion-analog-watch-for-women-134525366.html'"
      ]
     },
     "execution_count": 54,
     "metadata": {},
     "output_type": "execute_result"
    }
   ],
   "source": [
    "Product_Link[11884]"
   ]
  },
  {
   "cell_type": "code",
   "execution_count": 55,
   "metadata": {},
   "outputs": [
    {
     "data": {
      "text/plain": [
       "1290"
      ]
     },
     "execution_count": 55,
     "metadata": {},
     "output_type": "execute_result"
    }
   ],
   "source": [
    "len(error_link)"
   ]
  },
  {
   "cell_type": "code",
   "execution_count": 92,
   "metadata": {},
   "outputs": [
    {
     "data": {
      "text/plain": [
       "49"
      ]
     },
     "execution_count": 92,
     "metadata": {},
     "output_type": "execute_result"
    }
   ],
   "source": [
    "error_link.index('https://www.shopclues.com/king-creation-blue-net-saree-3.html')"
   ]
  },
  {
   "cell_type": "code",
   "execution_count": 93,
   "metadata": {},
   "outputs": [],
   "source": [
    "e=error_link[:49]+error_link[50:]"
   ]
  },
  {
   "cell_type": "code",
   "execution_count": 94,
   "metadata": {},
   "outputs": [
    {
     "data": {
      "text/plain": [
       "1289"
      ]
     },
     "execution_count": 94,
     "metadata": {},
     "output_type": "execute_result"
    }
   ],
   "source": [
    "len(e)"
   ]
  },
  {
   "cell_type": "code",
   "execution_count": 95,
   "metadata": {},
   "outputs": [],
   "source": [
    "_Product_Link=[]\n",
    "_Product_Name=[]\n",
    "_Product_Brand=[]\n",
    "_Size_Available=[]\n",
    "_Price=[]\n",
    "_MRP=[]\n",
    "#Gender\n",
    "_Description=[]\n",
    "_Primary_Image_Link=[]\n",
    "_Secondary_Image_Link=[]"
   ]
  },
  {
   "cell_type": "code",
   "execution_count": 96,
   "metadata": {},
   "outputs": [],
   "source": [
    "#out_of_stock=[]\n",
    "err=[]\n",
    "for i in e:\n",
    "    try:\n",
    "        result = requests.get(i)\n",
    "        c = result.content\n",
    "        soup = BeautifulSoup(c,\"html.parser\")\n",
    "        s=soup.find('div',class_='prd_mid_info')\n",
    "        \n",
    "        if(list(s.find('link',{'itemprop':'availability'}).attrs.values())[1]=='https://schema.org/InStock'):\n",
    "            \n",
    "            \n",
    "            if(s.find('span',{'class':'o_price'})!=None):\n",
    "                _MRP.append(s.find('span',{'class':\"o_price\"}).text)\n",
    "            else:\n",
    "                _MRP.append(s.find('span',{'class':\"f_price\"}).text)\n",
    "            _Product_Link.append(i)\n",
    "            _Product_Name.append(s.find('h1',{'itemprop':'name'}).text.rstrip().lstrip())\n",
    "            _Product_Brand.append(s.find('span',{'itemprop':'brand'}).text)\n",
    "            size=s.find('div',{'class':\"f_variation\"})\n",
    "            if(size==None):\n",
    "                _Size_Available.append(\"Not Available\")\n",
    "            else:\n",
    "                li=size.ul.find_all('span',{'class':'variant'})\n",
    "                s_l=''\n",
    "                for j in li:\n",
    "                    s_l=s_l+j.text+\" , \"\n",
    "                _Size_Available.append(s_l[:-2])\n",
    "            _Price.append(s.find('span',{'class':'f_price'}).text)\n",
    "           \n",
    "                \n",
    "            \n",
    "            _Description.append(s.find('span',{'itemprop':'description'}).text)\n",
    "            img=soup.find('div',class_='prd_img_gallery')\n",
    "            img_list=img.find_all('li',class_=\"thumb_click\")\n",
    "            if(img_list==None):\n",
    "                _Primary_Image_Link.append('Not Available')\n",
    "                _Secondary_Image_Link.append('Not Available')\n",
    "            else:\n",
    "                if(len(img_list)==1):\n",
    "                    _Primary_Image_Link.append(img_list[0].a.attrs['data-zoom-image'])\n",
    "                    _Secondary_Image_Link.append(\"Not Available\")\n",
    "                else:\n",
    "                    _Primary_Image_Link.append(img_list[0].a.attrs['data-zoom-image'])\n",
    "                    _Secondary_Image_Link.append(img_list[1].a.attrs['data-zoom-image'])\n",
    "        else:\n",
    "            out_of_stock.append(i)\n",
    "            \n",
    "    except:\n",
    "        err.append(i)\n",
    "        pass"
   ]
  },
  {
   "cell_type": "code",
   "execution_count": 97,
   "metadata": {},
   "outputs": [
    {
     "data": {
      "text/plain": [
       "30"
      ]
     },
     "execution_count": 97,
     "metadata": {},
     "output_type": "execute_result"
    }
   ],
   "source": [
    "len(err)"
   ]
  },
  {
   "cell_type": "code",
   "execution_count": 63,
   "metadata": {},
   "outputs": [
    {
     "data": {
      "text/plain": [
       "431"
      ]
     },
     "execution_count": 63,
     "metadata": {},
     "output_type": "execute_result"
    }
   ],
   "source": [
    "Product_Link.index('https://www.shopclues.com/king-creation-blue-net-saree-3.html')"
   ]
  },
  {
   "cell_type": "code",
   "execution_count": 66,
   "metadata": {},
   "outputs": [],
   "source": [
    "p=Product_Link[:430]+Product_Link[430:len(Product_Link)-1]"
   ]
  },
  {
   "cell_type": "code",
   "execution_count": 70,
   "metadata": {},
   "outputs": [],
   "source": [
    "P=Primary_Image_Link[:431]"
   ]
  },
  {
   "cell_type": "code",
   "execution_count": 71,
   "metadata": {},
   "outputs": [],
   "source": [
    "P.append('Not Available')"
   ]
  },
  {
   "cell_type": "code",
   "execution_count": 72,
   "metadata": {},
   "outputs": [],
   "source": [
    "P=P+Primary_Image_Link[431:len(Product_Link)-1]"
   ]
  },
  {
   "cell_type": "code",
   "execution_count": 76,
   "metadata": {},
   "outputs": [],
   "source": [
    "S=Secondary_Image_Link[:431]\n",
    "S.append('Not Available')\n",
    "S=S+Secondary_Image_Link[431:len(Product_Link)-1]"
   ]
  },
  {
   "cell_type": "code",
   "execution_count": 78,
   "metadata": {},
   "outputs": [],
   "source": [
    "data=pd.DataFrame({\n",
    "    \"Product\":Product_Name,\n",
    "    \"Link\":Product_Link,\n",
    "    \"Brand\":Product_Brand,\n",
    "    \"Size Available\":Size_Available,\n",
    "    \"Selling Price\":Price,\n",
    "    \"MRP\":MRP,\n",
    "    \"Gender\":'Women',\n",
    "    \"Description\":Description,\n",
    "    \"Primary_Image\":P,\n",
    "    \"Secondary_Image\":S,\n",
    "    \n",
    "})"
   ]
  },
  {
   "cell_type": "code",
   "execution_count": 80,
   "metadata": {},
   "outputs": [],
   "source": [
    "data.to_csv('All_Women_SC.csv',index=False)"
   ]
  },
  {
   "cell_type": "code",
   "execution_count": 98,
   "metadata": {},
   "outputs": [],
   "source": [
    "data_1=pd.DataFrame({\n",
    "    \"Product\":_Product_Name,\n",
    "    \"Link\":_Product_Link,\n",
    "    \"Brand\":_Product_Brand,\n",
    "    \"Size Available\":_Size_Available,\n",
    "    \"Selling Price\":_Price,\n",
    "    \"MRP\":_MRP,\n",
    "    \"Gender\":'Women',\n",
    "    \"Description\":_Description,\n",
    "    \"Primary_Image\":_Primary_Image_Link,\n",
    "    \"Secondary_Image\":_Secondary_Image_Link,\n",
    "    \n",
    "})"
   ]
  },
  {
   "cell_type": "code",
   "execution_count": 101,
   "metadata": {},
   "outputs": [],
   "source": [
    "new_data=data.append(data_1)"
   ]
  },
  {
   "cell_type": "code",
   "execution_count": 102,
   "metadata": {},
   "outputs": [
    {
     "data": {
      "text/plain": [
       "(13144, 10)"
      ]
     },
     "execution_count": 102,
     "metadata": {},
     "output_type": "execute_result"
    }
   ],
   "source": [
    "new_data.shape"
   ]
  },
  {
   "cell_type": "code",
   "execution_count": 115,
   "metadata": {},
   "outputs": [],
   "source": [
    "new_data.to_csv('All_women_Sc.csv',index=False)"
   ]
  },
  {
   "cell_type": "code",
   "execution_count": 116,
   "metadata": {},
   "outputs": [],
   "source": [
    "d1=pd.read_csv('All_Men_SC.csv')"
   ]
  },
  {
   "cell_type": "code",
   "execution_count": 117,
   "metadata": {},
   "outputs": [],
   "source": [
    "d2=pd.read_csv('All_Women_SC.csv')"
   ]
  },
  {
   "cell_type": "code",
   "execution_count": 118,
   "metadata": {},
   "outputs": [],
   "source": [
    "d=d1.append(d2)"
   ]
  },
  {
   "cell_type": "code",
   "execution_count": 119,
   "metadata": {},
   "outputs": [
    {
     "data": {
      "text/plain": [
       "(10072, 10)"
      ]
     },
     "execution_count": 119,
     "metadata": {},
     "output_type": "execute_result"
    }
   ],
   "source": [
    "d1.shape"
   ]
  },
  {
   "cell_type": "code",
   "execution_count": 120,
   "metadata": {},
   "outputs": [
    {
     "data": {
      "text/plain": [
       "(13144, 10)"
      ]
     },
     "execution_count": 120,
     "metadata": {},
     "output_type": "execute_result"
    }
   ],
   "source": [
    "d2.shape"
   ]
  },
  {
   "cell_type": "code",
   "execution_count": 121,
   "metadata": {},
   "outputs": [],
   "source": [
    "d.to_csv('All_SC.csv',index=False)"
   ]
  },
  {
   "cell_type": "code",
   "execution_count": 122,
   "metadata": {},
   "outputs": [
    {
     "data": {
      "text/plain": [
       "<function Connection.close>"
      ]
     },
     "execution_count": 122,
     "metadata": {},
     "output_type": "execute_result"
    }
   ],
   "source": [
    "import sqlite3\n",
    "#from pandas import DataFrame\n",
    "\n",
    "conn = sqlite3.connect('All_SC.db')\n",
    "c = conn.cursor()\n",
    "\n",
    "c.execute('CREATE TABLE products (Product,Link,Brand,Size Available,Selling Price,MRP,Gender,Description,Primary_Image,Secondary_Image)')\n",
    "conn.commit()\n",
    "\n",
    "d.to_sql('products', conn, if_exists='replace', index = False)\n",
    "conn.close"
   ]
  },
  {
   "cell_type": "code",
   "execution_count": 2,
   "metadata": {},
   "outputs": [],
   "source": [
    "import pandas as pd"
   ]
  },
  {
   "cell_type": "code",
   "execution_count": 3,
   "metadata": {},
   "outputs": [],
   "source": [
    "data=pd.read_csv('All_SC.csv')"
   ]
  },
  {
   "cell_type": "code",
   "execution_count": 4,
   "metadata": {},
   "outputs": [
    {
     "name": "stderr",
     "output_type": "stream",
     "text": [
      "<ipython-input-4-36ad0b1eeb8e>:1: UserWarning: Boolean Series key will be reindexed to match DataFrame index.\n",
      "  B_men_null=data[:][data['Brand'].isnull()][data['Gender']=='Men']\n"
     ]
    }
   ],
   "source": [
    "B_men_null=data[:][data['Brand'].isnull()][data['Gender']=='Men']"
   ]
  },
  {
   "cell_type": "code",
   "execution_count": 6,
   "metadata": {},
   "outputs": [
    {
     "data": {
      "text/plain": [
       "(3808, 10)"
      ]
     },
     "execution_count": 6,
     "metadata": {},
     "output_type": "execute_result"
    }
   ],
   "source": [
    "B_men_null.shape"
   ]
  },
  {
   "cell_type": "code",
   "execution_count": 9,
   "metadata": {},
   "outputs": [],
   "source": [
    "result = requests.get('https://www.shopclues.com/men-belt-black-2.html')\n",
    "c = result.content\n",
    "soup = BeautifulSoup(c,\"html.parser\")\n",
    "s=soup.find('div',class_='prd_mid_info')"
   ]
  },
  {
   "cell_type": "code",
   "execution_count": 10,
   "metadata": {},
   "outputs": [
    {
     "data": {
      "text/plain": [
       "True"
      ]
     },
     "execution_count": 10,
     "metadata": {},
     "output_type": "execute_result"
    }
   ],
   "source": [
    "s.find('span',{'itemprop':'brand'}).text==''"
   ]
  },
  {
   "cell_type": "code",
   "execution_count": 14,
   "metadata": {},
   "outputs": [
    {
     "data": {
      "text/plain": [
       "False"
      ]
     },
     "execution_count": 14,
     "metadata": {},
     "output_type": "execute_result"
    }
   ],
   "source": [
    "s.find('span',{'class':'pID'}).a!=None"
   ]
  },
  {
   "cell_type": "code",
   "execution_count": 15,
   "metadata": {},
   "outputs": [
    {
     "data": {
      "text/plain": [
       "array(['https://www.shopclues.com/evolite-black-stylish-loafers-smart-casuals-for-men-and-boys-137670427.html',\n",
       "       'https://www.shopclues.com/lorem-analog-black-and-rose-gold-dial-wrist-watch-for-women-lk-221-225-146135815.html',\n",
       "       'https://www.shopclues.com/men-belt-black-2.html', ...,\n",
       "       'https://www.shopclues.com/vip-champ-brief-white-brown-pack-of-2-briefs-for-men.html',\n",
       "       'https://www.shopclues.com/vip-advanta-white-blue-pack-of-2-trunks-for-men-1.html',\n",
       "       'https://www.shopclues.com/vip-advanta-white-grey-pack-of-2-trunks-for-men.html'],\n",
       "      dtype=object)"
      ]
     },
     "execution_count": 15,
     "metadata": {},
     "output_type": "execute_result"
    }
   ],
   "source": [
    "B_men_null['Link'].values"
   ]
  },
  {
   "cell_type": "code",
   "execution_count": 16,
   "metadata": {},
   "outputs": [],
   "source": [
    "Product_Link=[]\n",
    "Product_Name=[]\n",
    "Product_Brand=[]\n",
    "Size_Available=[]\n",
    "Price=[]\n",
    "MRP=[]\n",
    "#Gender\n",
    "Description=[]\n",
    "Primary_Image_Link=[]\n",
    "Secondary_Image_Link=[]"
   ]
  },
  {
   "cell_type": "code",
   "execution_count": 17,
   "metadata": {},
   "outputs": [],
   "source": [
    "error_link=[]\n",
    "out_of_stock=[]\n",
    "for i in B_men_null['Link'].values:\n",
    "    try:\n",
    "        result = requests.get(i)\n",
    "        c = result.content\n",
    "        soup = BeautifulSoup(c,\"html.parser\")\n",
    "        s=soup.find('div',class_='prd_mid_info')\n",
    "        \n",
    "        if(list(s.find('link',{'itemprop':'availability'}).attrs.values())[1]=='https://schema.org/InStock'):\n",
    "            \n",
    "            if(s.find('span',{'id':\"sec_list_price_\"})!=None):\n",
    "                MRP.append(s.find('span',{'id':\"sec_list_price_\"}).text.split('MRP:')[1])\n",
    "            else:\n",
    "                if(s.find('span',{'id':'o_price'})!=None):\n",
    "                    MRP.append(s.find('span',{'id':\"o_price\"}).text)\n",
    "                else:\n",
    "                    MRP.append(s.find('span',{'id':\"f_price\"}).text)\n",
    "            Product_Link.append(i)\n",
    "            Product_Name.append(s.find('h1',{'itemprop':'name'}).text.rstrip().lstrip())\n",
    "            if(s.find('span',{'itemprop':'brand'}).text!=''):\n",
    "                Product_Brand.append(s.find('span',{'itemprop':'brand'}).text)\n",
    "            else:\n",
    "                if(s.find('span',{'class':'pID'}).a!=None):\n",
    "                    Product_Brand.append(s.find('span',{'class':'pID'}).a.text)\n",
    "                else:\n",
    "                    Product_Brand.append(\"Not Available\")\n",
    "                    \n",
    "            size=s.find('div',{'class':\"f_variation\"})\n",
    "            if(size==None):\n",
    "                Size_Available.append(\"Not Available\")\n",
    "            else:\n",
    "                li=size.ul.find_all('span',{'class':'variant'})\n",
    "                s_l=''\n",
    "                for j in li:\n",
    "                    s_l=s_l+j.text+\" , \"\n",
    "                Size_Available.append(s_l[:-2])\n",
    "            Price.append(s.find('span',{'class':'f_price'}).text)\n",
    "           \n",
    "                \n",
    "            \n",
    "            Description.append(s.find('span',{'itemprop':'description'}).text)\n",
    "            img=soup.find('div',class_='prd_img_gallery')\n",
    "            img_list=img.find_all('li',class_=\"thumb_click\")\n",
    "            if(len(img_list)==1):\n",
    "                Primary_Image_Link.append(img_list[0].a.attrs['data-zoom-image'])\n",
    "                Secondary_Image_Link.append(\"Not Available\")\n",
    "            else:\n",
    "                Primary_Image_Link.append(img_list[0].a.attrs['data-zoom-image'])\n",
    "                Secondary_Image_Link.append(img_list[1].a.attrs['data-zoom-image'])\n",
    "        else:\n",
    "            out_of_stock.append(i)\n",
    "            \n",
    "    except:\n",
    "        error_link.append(i)\n",
    "        pass"
   ]
  },
  {
   "cell_type": "code",
   "execution_count": 28,
   "metadata": {},
   "outputs": [],
   "source": [
    "#out_of_stock=[]\n",
    "err=[]\n",
    "for i in error_link:\n",
    "    try:\n",
    "        result = requests.get(i)\n",
    "        c = result.content\n",
    "        soup = BeautifulSoup(c,\"html.parser\")\n",
    "        s=soup.find('div',class_='prd_mid_info')\n",
    "        \n",
    "        if(list(s.find('link',{'itemprop':'availability'}).attrs.values())[1]=='https://schema.org/InStock'):\n",
    "            \n",
    "            \n",
    "            if(s.find('span',{'class':'o_price'})!=None):\n",
    "                MRP.append(s.find('span',{'class':\"o_price\"}).text)\n",
    "            else:\n",
    "                MRP.append(s.find('span',{'class':\"f_price\"}).text)\n",
    "            Product_Link.append(i)\n",
    "            Product_Name.append(s.find('h1',{'itemprop':'name'}).text.rstrip().lstrip())\n",
    "            if(s.find('span',{'itemprop':'brand'}).text!=''):\n",
    "                Product_Brand.append(s.find('span',{'itemprop':'brand'}).text)\n",
    "            else:\n",
    "                if(s.find('span',{'class':'pID'}).a!=None):\n",
    "                    Product_Brand.append(s.find('span',{'class':'pID'}).a.text)\n",
    "                else:\n",
    "                    Product_Brand.append(\"Not Available\")\n",
    "            size=s.find('div',{'class':\"f_variation\"})\n",
    "            if(size==None):\n",
    "                Size_Available.append(\"Not Available\")\n",
    "            else:\n",
    "                li=size.ul.find_all('span',{'class':'variant'})\n",
    "                s_l=''\n",
    "                for j in li:\n",
    "                    s_l=s_l+j.text+\" , \"\n",
    "                Size_Available.append(s_l[:-2])\n",
    "            Price.append(s.find('span',{'class':'f_price'}).text)\n",
    "           \n",
    "                \n",
    "            \n",
    "            Description.append(s.find('span',{'itemprop':'description'}).text)\n",
    "            img=soup.find('div',class_='prd_img_gallery')\n",
    "            img_list=img.find_all('li',class_=\"thumb_click\")\n",
    "            if(img_list==None):\n",
    "                Primary_Image_Link.append('Not Available')\n",
    "                Secondary_Image_Link.append('Not Available')\n",
    "            else:\n",
    "                if(len(img_list)==1):\n",
    "                    Primary_Image_Link.append(img_list[0].a.attrs['data-zoom-image'])\n",
    "                    Secondary_Image_Link.append(\"Not Available\")\n",
    "                else:\n",
    "                    Primary_Image_Link.append(img_list[0].a.attrs['data-zoom-image'])\n",
    "                    Secondary_Image_Link.append(img_list[1].a.attrs['data-zoom-image'])\n",
    "        else:\n",
    "            out_of_stock.append(i)\n",
    "            \n",
    "    except:\n",
    "        err.append(i)\n",
    "        pass"
   ]
  },
  {
   "cell_type": "code",
   "execution_count": 29,
   "metadata": {},
   "outputs": [],
   "source": [
    "data1=pd.DataFrame({\n",
    "    \"Product\":Product_Name,\n",
    "    \"Link\":Product_Link,\n",
    "    \"Brand\":Product_Brand,\n",
    "    \"Size Available\":Size_Available,\n",
    "    \"Selling Price\":Price,\n",
    "    \"MRP\":MRP,\n",
    "    \"Gender\":'Men',\n",
    "    \"Description\":Description,\n",
    "    \"Primary_Image\":Primary_Image_Link,\n",
    "    \"Secondary_Image\":Secondary_Image_Link,\n",
    "    \n",
    "})"
   ]
  },
  {
   "cell_type": "code",
   "execution_count": 30,
   "metadata": {},
   "outputs": [
    {
     "data": {
      "text/plain": [
       "(3755, 10)"
      ]
     },
     "execution_count": 30,
     "metadata": {},
     "output_type": "execute_result"
    }
   ],
   "source": [
    "data1.shape"
   ]
  },
  {
   "cell_type": "code",
   "execution_count": 32,
   "metadata": {},
   "outputs": [],
   "source": [
    "data1.to_csv('Men_Null.csv',index=False)"
   ]
  },
  {
   "cell_type": "code",
   "execution_count": 22,
   "metadata": {},
   "outputs": [
    {
     "name": "stderr",
     "output_type": "stream",
     "text": [
      "<ipython-input-22-754e7deed7e5>:1: UserWarning: Boolean Series key will be reindexed to match DataFrame index.\n",
      "  W_null=data[:][data['Brand'].isnull()][data['Gender']=='Women']\n"
     ]
    }
   ],
   "source": [
    "W_null=data[:][data['Brand'].isnull()][data['Gender']=='Women']"
   ]
  },
  {
   "cell_type": "code",
   "execution_count": 23,
   "metadata": {},
   "outputs": [
    {
     "data": {
      "text/plain": [
       "(5316, 10)"
      ]
     },
     "execution_count": 23,
     "metadata": {},
     "output_type": "execute_result"
    }
   ],
   "source": [
    "W_null.shape"
   ]
  },
  {
   "cell_type": "code",
   "execution_count": 33,
   "metadata": {},
   "outputs": [],
   "source": [
    "error_link=[]\n",
    "out_of_stock=[]\n",
    "for i in W_null['Link'].values:\n",
    "    try:\n",
    "        result = requests.get(i)\n",
    "        c = result.content\n",
    "        soup = BeautifulSoup(c,\"html.parser\")\n",
    "        s=soup.find('div',class_='prd_mid_info')\n",
    "        \n",
    "        if(list(s.find('link',{'itemprop':'availability'}).attrs.values())[1]=='https://schema.org/InStock'):\n",
    "            \n",
    "            if(s.find('span',{'id':\"sec_list_price_\"})!=None):\n",
    "                MRP.append(s.find('span',{'id':\"sec_list_price_\"}).text.split('MRP:')[1])\n",
    "            else:\n",
    "                if(s.find('span',{'id':'o_price'})!=None):\n",
    "                    MRP.append(s.find('span',{'id':\"o_price\"}).text)\n",
    "                else:\n",
    "                    MRP.append(s.find('span',{'id':\"f_price\"}).text)\n",
    "            Product_Link.append(i)\n",
    "            Product_Name.append(s.find('h1',{'itemprop':'name'}).text.rstrip().lstrip())\n",
    "            if(s.find('span',{'itemprop':'brand'}).text!=''):\n",
    "                Product_Brand.append(s.find('span',{'itemprop':'brand'}).text)\n",
    "            else:\n",
    "                if(s.find('span',{'class':'pID'}).a!=None):\n",
    "                    Product_Brand.append(s.find('span',{'class':'pID'}).a.text)\n",
    "                else:\n",
    "                    Product_Brand.append(\"Not Available\")\n",
    "                    \n",
    "            size=s.find('div',{'class':\"f_variation\"})\n",
    "            if(size==None):\n",
    "                Size_Available.append(\"Not Available\")\n",
    "            else:\n",
    "                li=size.ul.find_all('span',{'class':'variant'})\n",
    "                s_l=''\n",
    "                for j in li:\n",
    "                    s_l=s_l+j.text+\" , \"\n",
    "                Size_Available.append(s_l[:-2])\n",
    "            Price.append(s.find('span',{'class':'f_price'}).text)\n",
    "           \n",
    "                \n",
    "            \n",
    "            Description.append(s.find('span',{'itemprop':'description'}).text)\n",
    "            img=soup.find('div',class_='prd_img_gallery')\n",
    "            img_list=img.find_all('li',class_=\"thumb_click\")\n",
    "            if(img_list==None):\n",
    "                Primary_Image_Link.append('Not Available')\n",
    "                Secondary_Image_Link.append('Not Available')\n",
    "            else:\n",
    "                if(len(img_list)==1):\n",
    "                    Primary_Image_Link.append(img_list[0].a.attrs['data-zoom-image'])\n",
    "                    Secondary_Image_Link.append(\"Not Available\")\n",
    "                else:\n",
    "                    Primary_Image_Link.append(img_list[0].a.attrs['data-zoom-image'])\n",
    "                    Secondary_Image_Link.append(img_list[1].a.attrs['data-zoom-image'])\n",
    "        else:\n",
    "            out_of_stock.append(i)\n",
    "            \n",
    "    except:\n",
    "        error_link.append(i)\n",
    "        pass"
   ]
  },
  {
   "cell_type": "code",
   "execution_count": 34,
   "metadata": {},
   "outputs": [
    {
     "data": {
      "text/plain": [
       "883"
      ]
     },
     "execution_count": 34,
     "metadata": {},
     "output_type": "execute_result"
    }
   ],
   "source": [
    "len(error_link)"
   ]
  },
  {
   "cell_type": "code",
   "execution_count": 44,
   "metadata": {},
   "outputs": [
    {
     "data": {
      "text/plain": [
       "8178"
      ]
     },
     "execution_count": 44,
     "metadata": {},
     "output_type": "execute_result"
    }
   ],
   "source": [
    "len(Secondary_Image_Link)"
   ]
  },
  {
   "cell_type": "raw",
   "metadata": {},
   "source": []
  },
  {
   "cell_type": "code",
   "execution_count": 46,
   "metadata": {},
   "outputs": [
    {
     "data": {
      "text/plain": [
       "3924"
      ]
     },
     "execution_count": 46,
     "metadata": {},
     "output_type": "execute_result"
    }
   ],
   "source": [
    "Product_Link.index('https://www.shopclues.com/king-creation-blue-net-saree-3.html')"
   ]
  },
  {
   "cell_type": "code",
   "execution_count": 47,
   "metadata": {},
   "outputs": [],
   "source": [
    "S=Secondary_Image_Link[:3924]\n",
    "S.append('Not Available')\n",
    "S=S+Secondary_Image_Link[3924:len(Product_Link)-1]"
   ]
  },
  {
   "cell_type": "code",
   "execution_count": 48,
   "metadata": {},
   "outputs": [],
   "source": [
    "P=Primary_Image_Link[:3924]\n",
    "P.append('Not Available')\n",
    "P=P+Primary_Image_Link[3924:len(Product_Link)-1]"
   ]
  },
  {
   "cell_type": "code",
   "execution_count": 50,
   "metadata": {},
   "outputs": [],
   "source": [
    "Primary_Image_Link=P\n",
    "Secondary_Image_Link=S"
   ]
  },
  {
   "cell_type": "code",
   "execution_count": 51,
   "metadata": {},
   "outputs": [],
   "source": [
    "data_3=pd.DataFrame({\n",
    "    \"Product\":Product_Name,\n",
    "    \"Link\":Product_Link,\n",
    "    \"Brand\":Product_Brand,\n",
    "    \"Size Available\":Size_Available,\n",
    "    \"Selling Price\":Price,\n",
    "    \"MRP\":MRP,\n",
    "    \"Gender\":'Women',\n",
    "    \"Description\":Description,\n",
    "    \"Primary_Image\":Primary_Image_Link,\n",
    "    \"Secondary_Image\":Secondary_Image_Link,\n",
    "    \n",
    "})"
   ]
  },
  {
   "cell_type": "code",
   "execution_count": 52,
   "metadata": {},
   "outputs": [],
   "source": [
    "data_3.to_csv('All_n.csv',index=False)"
   ]
  },
  {
   "cell_type": "code",
   "execution_count": 53,
   "metadata": {},
   "outputs": [
    {
     "data": {
      "text/plain": [
       "0"
      ]
     },
     "execution_count": 53,
     "metadata": {},
     "output_type": "execute_result"
    }
   ],
   "source": [
    "error_link.index('https://www.shopclues.com/king-creation-blue-net-saree-3.html')"
   ]
  },
  {
   "cell_type": "code",
   "execution_count": 54,
   "metadata": {},
   "outputs": [],
   "source": [
    "#out_of_stock=[]\n",
    "err=[]\n",
    "for i in error_link[1:]:\n",
    "    try:\n",
    "        result = requests.get(i)\n",
    "        c = result.content\n",
    "        soup = BeautifulSoup(c,\"html.parser\")\n",
    "        s=soup.find('div',class_='prd_mid_info')\n",
    "        \n",
    "        if(list(s.find('link',{'itemprop':'availability'}).attrs.values())[1]=='https://schema.org/InStock'):\n",
    "            \n",
    "            \n",
    "            if(s.find('span',{'class':'o_price'})!=None):\n",
    "                MRP.append(s.find('span',{'class':\"o_price\"}).text)\n",
    "            else:\n",
    "                MRP.append(s.find('span',{'class':\"f_price\"}).text)\n",
    "            Product_Link.append(i)\n",
    "            Product_Name.append(s.find('h1',{'itemprop':'name'}).text.rstrip().lstrip())\n",
    "            if(s.find('span',{'itemprop':'brand'}).text!=''):\n",
    "                Product_Brand.append(s.find('span',{'itemprop':'brand'}).text)\n",
    "            else:\n",
    "                if(s.find('span',{'class':'pID'}).a!=None):\n",
    "                    Product_Brand.append(s.find('span',{'class':'pID'}).a.text)\n",
    "                else:\n",
    "                    Product_Brand.append(\"Not Available\")\n",
    "            size=s.find('div',{'class':\"f_variation\"})\n",
    "            if(size==None):\n",
    "                Size_Available.append(\"Not Available\")\n",
    "            else:\n",
    "                li=size.ul.find_all('span',{'class':'variant'})\n",
    "                s_l=''\n",
    "                for j in li:\n",
    "                    s_l=s_l+j.text+\" , \"\n",
    "                Size_Available.append(s_l[:-2])\n",
    "            Price.append(s.find('span',{'class':'f_price'}).text)\n",
    "           \n",
    "                \n",
    "            \n",
    "            Description.append(s.find('span',{'itemprop':'description'}).text)\n",
    "            img=soup.find('div',class_='prd_img_gallery')\n",
    "            img_list=img.find_all('li',class_=\"thumb_click\")\n",
    "            if(img_list==None):\n",
    "                Primary_Image_Link.append('Not Available')\n",
    "                Secondary_Image_Link.append('Not Available')\n",
    "            else:\n",
    "                if(len(img_list)==1):\n",
    "                    Primary_Image_Link.append(img_list[0].a.attrs['data-zoom-image'])\n",
    "                    Secondary_Image_Link.append(\"Not Available\")\n",
    "                else:\n",
    "                    Primary_Image_Link.append(img_list[0].a.attrs['data-zoom-image'])\n",
    "                    Secondary_Image_Link.append(img_list[1].a.attrs['data-zoom-image'])\n",
    "        else:\n",
    "            out_of_stock.append(i)\n",
    "            \n",
    "    except:\n",
    "        err.append(i)\n",
    "        pass"
   ]
  },
  {
   "cell_type": "code",
   "execution_count": 55,
   "metadata": {},
   "outputs": [
    {
     "data": {
      "text/plain": [
       "['https://www.shopclues.com/bra-push-pads-3-pairs-high-quality-material.html']"
      ]
     },
     "execution_count": 55,
     "metadata": {},
     "output_type": "execute_result"
    }
   ],
   "source": [
    "err"
   ]
  },
  {
   "cell_type": "code",
   "execution_count": 56,
   "metadata": {},
   "outputs": [
    {
     "data": {
      "text/plain": [
       "9060"
      ]
     },
     "execution_count": 56,
     "metadata": {},
     "output_type": "execute_result"
    }
   ],
   "source": [
    "len(Product_Link)"
   ]
  },
  {
   "cell_type": "code",
   "execution_count": 57,
   "metadata": {},
   "outputs": [],
   "source": [
    "data_n=pd.DataFrame({\n",
    "    \"Product\":Product_Name,\n",
    "    \"Link\":Product_Link,\n",
    "    \"Brand\":Product_Brand,\n",
    "    \"Size Available\":Size_Available,\n",
    "    \"Selling Price\":Price,\n",
    "    \"MRP\":MRP,\n",
    "    \"Gender\":'Women',\n",
    "    \"Description\":Description,\n",
    "    \"Primary_Image\":Primary_Image_Link,\n",
    "    \"Secondary_Image\":Secondary_Image_Link,\n",
    "    \n",
    "})"
   ]
  },
  {
   "cell_type": "code",
   "execution_count": 168,
   "metadata": {},
   "outputs": [],
   "source": [
    "data_n.to_csv(\"All_Null_SC.csv\",index=False)"
   ]
  },
  {
   "cell_type": "code",
   "execution_count": 172,
   "metadata": {},
   "outputs": [
    {
     "data": {
      "text/plain": [
       "(9060, 10)"
      ]
     },
     "execution_count": 172,
     "metadata": {},
     "output_type": "execute_result"
    }
   ],
   "source": [
    "data_n.shape"
   ]
  },
  {
   "cell_type": "code",
   "execution_count": 173,
   "metadata": {},
   "outputs": [],
   "source": [
    "d1=pd.read_csv('Men_Null.csv')"
   ]
  },
  {
   "cell_type": "code",
   "execution_count": 174,
   "metadata": {},
   "outputs": [
    {
     "data": {
      "text/plain": [
       "Product            0\n",
       "Link               0\n",
       "Brand              5\n",
       "Size Available     0\n",
       "Selling Price      0\n",
       "MRP                0\n",
       "Gender             0\n",
       "Description        0\n",
       "Primary_Image      1\n",
       "Secondary_Image    0\n",
       "dtype: int64"
      ]
     },
     "execution_count": 174,
     "metadata": {},
     "output_type": "execute_result"
    }
   ],
   "source": [
    "d1.isnull().sum()"
   ]
  },
  {
   "cell_type": "code",
   "execution_count": 169,
   "metadata": {},
   "outputs": [],
   "source": [
    "d2=pd.read_csv(\"All_Null_SC.csv\")"
   ]
  },
  {
   "cell_type": "code",
   "execution_count": 170,
   "metadata": {},
   "outputs": [
    {
     "data": {
      "text/plain": [
       "Product             0\n",
       "Link                0\n",
       "Brand              19\n",
       "Size Available      0\n",
       "Selling Price       0\n",
       "MRP                 0\n",
       "Gender              0\n",
       "Description         0\n",
       "Primary_Image      10\n",
       "Secondary_Image     4\n",
       "dtype: int64"
      ]
     },
     "execution_count": 170,
     "metadata": {},
     "output_type": "execute_result"
    }
   ],
   "source": [
    "d2.isnull().sum()"
   ]
  },
  {
   "cell_type": "code",
   "execution_count": 133,
   "metadata": {},
   "outputs": [],
   "source": [
    "d2=d2.drop(columns='Gender',axis=1)"
   ]
  },
  {
   "cell_type": "code",
   "execution_count": 134,
   "metadata": {},
   "outputs": [],
   "source": [
    "d1=d1.drop(columns='Gender',axis=1)"
   ]
  },
  {
   "cell_type": "code",
   "execution_count": 135,
   "metadata": {},
   "outputs": [
    {
     "data": {
      "text/plain": [
       "array(['https://www.shopclues.com/evolite-black-stylish-loafers-smart-casuals-for-men-and-boys-137670427.html',\n",
       "       'https://www.shopclues.com/lorem-analog-black-and-rose-gold-dial-wrist-watch-for-women-lk-221-225-146135815.html',\n",
       "       'https://www.shopclues.com/men-belt-black-2.html', ...,\n",
       "       'https://www.shopclues.com/vip-champ-brief-white-brown-pack-of-2-briefs-for-men.html',\n",
       "       'https://www.shopclues.com/vip-advanta-white-blue-pack-of-2-trunks-for-men-1.html',\n",
       "       'https://www.shopclues.com/vip-advanta-white-grey-pack-of-2-trunks-for-men.html'],\n",
       "      dtype=object)"
      ]
     },
     "execution_count": 135,
     "metadata": {},
     "output_type": "execute_result"
    }
   ],
   "source": [
    "d1.Link.values"
   ]
  },
  {
   "cell_type": "code",
   "execution_count": 125,
   "metadata": {},
   "outputs": [
    {
     "data": {
      "text/html": [
       "<div>\n",
       "<style scoped>\n",
       "    .dataframe tbody tr th:only-of-type {\n",
       "        vertical-align: middle;\n",
       "    }\n",
       "\n",
       "    .dataframe tbody tr th {\n",
       "        vertical-align: top;\n",
       "    }\n",
       "\n",
       "    .dataframe thead th {\n",
       "        text-align: right;\n",
       "    }\n",
       "</style>\n",
       "<table border=\"1\" class=\"dataframe\">\n",
       "  <thead>\n",
       "    <tr style=\"text-align: right;\">\n",
       "      <th></th>\n",
       "      <th>Product</th>\n",
       "      <th>Link</th>\n",
       "      <th>Brand</th>\n",
       "      <th>Size Available</th>\n",
       "      <th>Selling Price</th>\n",
       "      <th>MRP</th>\n",
       "      <th>Description</th>\n",
       "      <th>Primary_Image</th>\n",
       "      <th>Secondary_Image</th>\n",
       "    </tr>\n",
       "  </thead>\n",
       "  <tbody>\n",
       "    <tr>\n",
       "      <th>3752</th>\n",
       "      <td>VIP Champ Brief White,Brown Pack of 2 Briefs f...</td>\n",
       "      <td>https://www.shopclues.com/vip-champ-brief-whit...</td>\n",
       "      <td>VIP</td>\n",
       "      <td>110 , 100 , 80</td>\n",
       "      <td>₹270</td>\n",
       "      <td>₹304</td>\n",
       "      <td>Buy VIP Champ Brief White,Brown Pack of 2 Brie...</td>\n",
       "      <td>https://cdn.shopclues.com/images/detailed/4825...</td>\n",
       "      <td>https://cdn.shopclues.com/images/detailed/4826...</td>\n",
       "    </tr>\n",
       "  </tbody>\n",
       "</table>\n",
       "</div>"
      ],
      "text/plain": [
       "                                                Product  \\\n",
       "3752  VIP Champ Brief White,Brown Pack of 2 Briefs f...   \n",
       "\n",
       "                                                   Link Brand  \\\n",
       "3752  https://www.shopclues.com/vip-champ-brief-whit...   VIP   \n",
       "\n",
       "       Size Available Selling Price   MRP  \\\n",
       "3752  110 , 100 , 80           ₹270  ₹304   \n",
       "\n",
       "                                            Description  \\\n",
       "3752  Buy VIP Champ Brief White,Brown Pack of 2 Brie...   \n",
       "\n",
       "                                          Primary_Image  \\\n",
       "3752  https://cdn.shopclues.com/images/detailed/4825...   \n",
       "\n",
       "                                        Secondary_Image  \n",
       "3752  https://cdn.shopclues.com/images/detailed/4826...  "
      ]
     },
     "execution_count": 125,
     "metadata": {},
     "output_type": "execute_result"
    }
   ],
   "source": [
    "d2[:][d2.Link=='https://www.shopclues.com/vip-champ-brief-white-brown-pack-of-2-briefs-for-men.html']"
   ]
  },
  {
   "cell_type": "code",
   "execution_count": 137,
   "metadata": {},
   "outputs": [],
   "source": [
    "for i  in d1.Link.values:\n",
    "    index_names = d2[ d2['Link'] == i ].index\n",
    "    d2.drop(index_names, inplace = True)"
   ]
  },
  {
   "cell_type": "code",
   "execution_count": 139,
   "metadata": {},
   "outputs": [],
   "source": [
    "d2['Gender']='Women'"
   ]
  },
  {
   "cell_type": "code",
   "execution_count": 140,
   "metadata": {},
   "outputs": [],
   "source": [
    "d1['Gender']='Men'"
   ]
  },
  {
   "cell_type": "code",
   "execution_count": 162,
   "metadata": {},
   "outputs": [
    {
     "data": {
      "text/plain": [
       "Product            0\n",
       "Link               0\n",
       "Brand              5\n",
       "Size Available     0\n",
       "Selling Price      0\n",
       "MRP                0\n",
       "Description        0\n",
       "Primary_Image      1\n",
       "Secondary_Image    0\n",
       "Gender             0\n",
       "dtype: int64"
      ]
     },
     "execution_count": 162,
     "metadata": {},
     "output_type": "execute_result"
    }
   ],
   "source": [
    "d1.isnull().sum()"
   ]
  },
  {
   "cell_type": "code",
   "execution_count": 141,
   "metadata": {},
   "outputs": [],
   "source": [
    "d=d1.append(d2)"
   ]
  },
  {
   "cell_type": "code",
   "execution_count": 161,
   "metadata": {},
   "outputs": [
    {
     "data": {
      "text/plain": [
       "Product             0\n",
       "Link                0\n",
       "Brand              19\n",
       "Size Available      0\n",
       "Selling Price       0\n",
       "MRP                 0\n",
       "Description         0\n",
       "Primary_Image      10\n",
       "Secondary_Image     4\n",
       "Gender              0\n",
       "dtype: int64"
      ]
     },
     "execution_count": 161,
     "metadata": {},
     "output_type": "execute_result"
    }
   ],
   "source": [
    "d.isnull().sum()"
   ]
  },
  {
   "cell_type": "code",
   "execution_count": 143,
   "metadata": {},
   "outputs": [
    {
     "data": {
      "text/plain": [
       "(9051, 10)"
      ]
     },
     "execution_count": 143,
     "metadata": {},
     "output_type": "execute_result"
    }
   ],
   "source": [
    "d.shape"
   ]
  },
  {
   "cell_type": "code",
   "execution_count": 103,
   "metadata": {},
   "outputs": [],
   "source": [
    "n=pd.read_csv(\"All_Null_SC.csv\")"
   ]
  },
  {
   "cell_type": "code",
   "execution_count": 104,
   "metadata": {},
   "outputs": [
    {
     "data": {
      "text/plain": [
       "(9060, 10)"
      ]
     },
     "execution_count": 104,
     "metadata": {},
     "output_type": "execute_result"
    }
   ],
   "source": [
    "n.shape"
   ]
  },
  {
   "cell_type": "code",
   "execution_count": 158,
   "metadata": {},
   "outputs": [],
   "source": [
    "data=pd.read_csv('All_SC.csv')"
   ]
  },
  {
   "cell_type": "code",
   "execution_count": 159,
   "metadata": {},
   "outputs": [
    {
     "data": {
      "text/plain": [
       "(23216, 10)"
      ]
     },
     "execution_count": 159,
     "metadata": {},
     "output_type": "execute_result"
    }
   ],
   "source": [
    "data.shape"
   ]
  },
  {
   "cell_type": "code",
   "execution_count": 149,
   "metadata": {},
   "outputs": [],
   "source": [
    "data=data.dropna()"
   ]
  },
  {
   "cell_type": "code",
   "execution_count": 150,
   "metadata": {},
   "outputs": [
    {
     "data": {
      "text/plain": [
       "(14063, 10)"
      ]
     },
     "execution_count": 150,
     "metadata": {},
     "output_type": "execute_result"
    }
   ],
   "source": [
    "data.shape"
   ]
  },
  {
   "cell_type": "code",
   "execution_count": 151,
   "metadata": {},
   "outputs": [],
   "source": [
    "data=data.append(d)"
   ]
  },
  {
   "cell_type": "code",
   "execution_count": 153,
   "metadata": {},
   "outputs": [],
   "source": [
    "data.to_csv(\"All_Shopclues.csv\",index=False)"
   ]
  },
  {
   "cell_type": "code",
   "execution_count": 154,
   "metadata": {},
   "outputs": [],
   "source": [
    "dd=pd.read_csv('All_Shopclues.csv')"
   ]
  },
  {
   "cell_type": "code",
   "execution_count": 156,
   "metadata": {},
   "outputs": [
    {
     "data": {
      "text/plain": [
       "(13102, 10)"
      ]
     },
     "execution_count": 156,
     "metadata": {},
     "output_type": "execute_result"
    }
   ],
   "source": [
    "dd[:][dd['Gender']=='Women'].shape"
   ]
  },
  {
   "cell_type": "code",
   "execution_count": 160,
   "metadata": {},
   "outputs": [
    {
     "data": {
      "text/plain": [
       "(23114, 10)"
      ]
     },
     "execution_count": 160,
     "metadata": {},
     "output_type": "execute_result"
    }
   ],
   "source": [
    "dd.shape"
   ]
  },
  {
   "cell_type": "code",
   "execution_count": 71,
   "metadata": {},
   "outputs": [
    {
     "name": "stderr",
     "output_type": "stream",
     "text": [
      "C:\\Users\\alokt\\anaconda3\\lib\\site-packages\\pandas\\core\\generic.py:2605: UserWarning: The spaces in these column names will not be changed. In pandas versions < 0.14, spaces were converted to underscores.\n",
      "  sql.to_sql(\n"
     ]
    },
    {
     "data": {
      "text/plain": [
       "<function Connection.close>"
      ]
     },
     "execution_count": 71,
     "metadata": {},
     "output_type": "execute_result"
    }
   ],
   "source": [
    "import sqlite3\n",
    "#from pandas import DataFrame\n",
    "\n",
    "conn = sqlite3.connect('All_ShopClues.db')\n",
    "c = conn.cursor()\n",
    "\n",
    "c.execute('CREATE TABLE products (Product,Link,Brand,Size Available,Selling Price,MRP,Gender,Description,Primary_Image,Secondary_Image)')\n",
    "conn.commit()\n",
    "\n",
    "data.to_sql('products', conn, if_exists='replace', index = False)\n",
    "conn.close"
   ]
  },
  {
   "cell_type": "code",
   "execution_count": 72,
   "metadata": {},
   "outputs": [
    {
     "data": {
      "text/plain": [
       "Product            0\n",
       "Link               0\n",
       "Brand              0\n",
       "Size Available     0\n",
       "Selling Price      0\n",
       "MRP                0\n",
       "Gender             0\n",
       "Description        0\n",
       "Primary_Image      0\n",
       "Secondary_Image    0\n",
       "dtype: int64"
      ]
     },
     "execution_count": 72,
     "metadata": {},
     "output_type": "execute_result"
    }
   ],
   "source": [
    "data.isnull().sum()"
   ]
  },
  {
   "cell_type": "code",
   "execution_count": null,
   "metadata": {},
   "outputs": [],
   "source": []
  }
 ],
 "metadata": {
  "kernelspec": {
   "display_name": "Python 3",
   "language": "python",
   "name": "python3"
  },
  "language_info": {
   "codemirror_mode": {
    "name": "ipython",
    "version": 3
   },
   "file_extension": ".py",
   "mimetype": "text/x-python",
   "name": "python",
   "nbconvert_exporter": "python",
   "pygments_lexer": "ipython3",
   "version": "3.8.5"
  }
 },
 "nbformat": 4,
 "nbformat_minor": 4
}
