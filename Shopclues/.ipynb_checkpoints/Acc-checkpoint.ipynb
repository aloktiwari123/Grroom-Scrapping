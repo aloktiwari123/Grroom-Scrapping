{
 "cells": [
  {
   "cell_type": "code",
   "execution_count": 1,
   "metadata": {},
   "outputs": [],
   "source": [
    "from bs4 import BeautifulSoup\n",
    "import requests\n",
    "import pandas as pd\n",
    "from pandas import Series, DataFrame\n",
    "from ipywidgets import FloatProgress\n",
    "from time import sleep\n",
    "from IPython.display import display\n",
    "import re\n",
    "import pickle\n",
    "from urlextract import URLExtract\n",
    "import json\n",
    "import sqlite3"
   ]
  },
  {
   "cell_type": "code",
   "execution_count": 8,
   "metadata": {},
   "outputs": [],
   "source": [
    "d2=pd.read_csv('Men_Null.csv')"
   ]
  },
  {
   "cell_type": "code",
   "execution_count": 10,
   "metadata": {},
   "outputs": [
    {
     "data": {
      "text/plain": [
       "Product            0\n",
       "Link               0\n",
       "Brand              5\n",
       "Size Available     0\n",
       "Selling Price      0\n",
       "MRP                0\n",
       "Gender             0\n",
       "Description        0\n",
       "Primary_Image      1\n",
       "Secondary_Image    0\n",
       "dtype: int64"
      ]
     },
     "execution_count": 10,
     "metadata": {},
     "output_type": "execute_result"
    }
   ],
   "source": [
    "d2.isnull().sum()"
   ]
  },
  {
   "cell_type": "code",
   "execution_count": 11,
   "metadata": {},
   "outputs": [],
   "source": [
    "d1=pd.read_csv('All_Null_SC.csv')"
   ]
  },
  {
   "cell_type": "code",
   "execution_count": 12,
   "metadata": {},
   "outputs": [
    {
     "data": {
      "text/plain": [
       "(9060, 10)"
      ]
     },
     "execution_count": 12,
     "metadata": {},
     "output_type": "execute_result"
    }
   ],
   "source": [
    "d1.shape"
   ]
  },
  {
   "cell_type": "code",
   "execution_count": 13,
   "metadata": {},
   "outputs": [],
   "source": [
    "d2=d2.drop(columns='Gender',axis=1)"
   ]
  },
  {
   "cell_type": "code",
   "execution_count": 14,
   "metadata": {},
   "outputs": [],
   "source": [
    "d1=d1.drop(columns='Gender',axis=1)"
   ]
  },
  {
   "cell_type": "code",
   "execution_count": 15,
   "metadata": {},
   "outputs": [],
   "source": [
    "for i  in d2.Link.values:\n",
    "    index_names = d1[ d1['Link'] == i ].index\n",
    "    d1.drop(index_names, inplace = True)"
   ]
  },
  {
   "cell_type": "code",
   "execution_count": 16,
   "metadata": {},
   "outputs": [],
   "source": [
    "d1['Gender']='Women'\n",
    "d2['Gender']='Men'"
   ]
  },
  {
   "cell_type": "code",
   "execution_count": 17,
   "metadata": {},
   "outputs": [],
   "source": [
    "d=d1.append(d2)"
   ]
  },
  {
   "cell_type": "code",
   "execution_count": 18,
   "metadata": {},
   "outputs": [
    {
     "data": {
      "text/plain": [
       "Product             0\n",
       "Link                0\n",
       "Brand              19\n",
       "Size Available      0\n",
       "Selling Price       0\n",
       "MRP                 0\n",
       "Description         0\n",
       "Primary_Image      10\n",
       "Secondary_Image     4\n",
       "Gender              0\n",
       "dtype: int64"
      ]
     },
     "execution_count": 18,
     "metadata": {},
     "output_type": "execute_result"
    }
   ],
   "source": [
    "d.isnull().sum()"
   ]
  },
  {
   "cell_type": "code",
   "execution_count": 19,
   "metadata": {},
   "outputs": [],
   "source": [
    "data=pd.read_csv('All_SC.csv')"
   ]
  },
  {
   "cell_type": "code",
   "execution_count": 20,
   "metadata": {},
   "outputs": [
    {
     "data": {
      "text/plain": [
       "(23216, 10)"
      ]
     },
     "execution_count": 20,
     "metadata": {},
     "output_type": "execute_result"
    }
   ],
   "source": [
    "data.shape"
   ]
  },
  {
   "cell_type": "code",
   "execution_count": 21,
   "metadata": {},
   "outputs": [],
   "source": [
    "data=data.dropna()"
   ]
  },
  {
   "cell_type": "code",
   "execution_count": 22,
   "metadata": {},
   "outputs": [],
   "source": [
    "data=data.append(d)"
   ]
  },
  {
   "cell_type": "code",
   "execution_count": 24,
   "metadata": {},
   "outputs": [
    {
     "data": {
      "text/plain": [
       "(23114, 10)"
      ]
     },
     "execution_count": 24,
     "metadata": {},
     "output_type": "execute_result"
    }
   ],
   "source": [
    "data.shape"
   ]
  },
  {
   "cell_type": "code",
   "execution_count": 25,
   "metadata": {},
   "outputs": [],
   "source": [
    "data.to_csv(\"All_Shopclues.csv\",index=False)"
   ]
  },
  {
   "cell_type": "code",
   "execution_count": 26,
   "metadata": {},
   "outputs": [
    {
     "name": "stderr",
     "output_type": "stream",
     "text": [
      "C:\\Users\\alokt\\anaconda3\\lib\\site-packages\\pandas\\core\\generic.py:2605: UserWarning: The spaces in these column names will not be changed. In pandas versions < 0.14, spaces were converted to underscores.\n",
      "  sql.to_sql(\n"
     ]
    },
    {
     "data": {
      "text/plain": [
       "<function Connection.close>"
      ]
     },
     "execution_count": 26,
     "metadata": {},
     "output_type": "execute_result"
    }
   ],
   "source": [
    "import sqlite3\n",
    "#from pandas import DataFrame\n",
    "\n",
    "conn = sqlite3.connect('All_ShopClues.db')\n",
    "c = conn.cursor()\n",
    "\n",
    "c.execute('CREATE TABLE products (Product,Link,Brand,Size Available,Selling Price,MRP,Gender,Description,Primary_Image,Secondary_Image)')\n",
    "conn.commit()\n",
    "\n",
    "data.to_sql('products', conn, if_exists='replace', index = False)\n",
    "conn.close"
   ]
  },
  {
   "cell_type": "code",
   "execution_count": 50,
   "metadata": {},
   "outputs": [],
   "source": [
    "new=pd.read_csv('All_Shopclues.csv')"
   ]
  },
  {
   "cell_type": "code",
   "execution_count": 51,
   "metadata": {},
   "outputs": [
    {
     "data": {
      "text/plain": [
       "(23114, 10)"
      ]
     },
     "execution_count": 51,
     "metadata": {},
     "output_type": "execute_result"
    }
   ],
   "source": [
    "new.shape"
   ]
  },
  {
   "cell_type": "code",
   "execution_count": 52,
   "metadata": {},
   "outputs": [
    {
     "data": {
      "text/plain": [
       "Product             0\n",
       "Link                0\n",
       "Brand              19\n",
       "Size Available      0\n",
       "Selling Price       0\n",
       "MRP                 0\n",
       "Gender              0\n",
       "Description         0\n",
       "Primary_Image      10\n",
       "Secondary_Image     4\n",
       "dtype: int64"
      ]
     },
     "execution_count": 52,
     "metadata": {},
     "output_type": "execute_result"
    }
   ],
   "source": [
    "new.isnull().sum()"
   ]
  },
  {
   "cell_type": "code",
   "execution_count": 53,
   "metadata": {},
   "outputs": [],
   "source": [
    "new=new.dropna()"
   ]
  },
  {
   "cell_type": "code",
   "execution_count": 54,
   "metadata": {},
   "outputs": [
    {
     "data": {
      "text/plain": [
       "247"
      ]
     },
     "execution_count": 54,
     "metadata": {},
     "output_type": "execute_result"
    }
   ],
   "source": [
    "int(new['Selling Price'][0][1:])"
   ]
  },
  {
   "cell_type": "code",
   "execution_count": 56,
   "metadata": {},
   "outputs": [
    {
     "data": {
      "text/plain": [
       "23082"
      ]
     },
     "execution_count": 56,
     "metadata": {},
     "output_type": "execute_result"
    }
   ],
   "source": [
    "len(new['Selling Price'])"
   ]
  },
  {
   "cell_type": "code",
   "execution_count": 72,
   "metadata": {},
   "outputs": [],
   "source": [
    "sell=[]\n",
    "for i in range(len(new['Selling Price'])):\n",
    "    sell.append(int(re.sub(\"\\D\",'',new['Selling Price'].values[i])))\n",
    "    "
   ]
  },
  {
   "cell_type": "code",
   "execution_count": 73,
   "metadata": {},
   "outputs": [
    {
     "data": {
      "text/plain": [
       "23082"
      ]
     },
     "execution_count": 73,
     "metadata": {},
     "output_type": "execute_result"
    }
   ],
   "source": []
  },
  {
   "cell_type": "code",
   "execution_count": 74,
   "metadata": {},
   "outputs": [],
   "source": [
    "mrp=[]\n",
    "for i in range(len(new['MRP'])):\n",
    "    mrp.append(int(re.sub(\"\\D\",'',new['MRP'].values[i])))"
   ]
  },
  {
   "cell_type": "code",
   "execution_count": 75,
   "metadata": {},
   "outputs": [],
   "source": [
    "new['Selling Price']=sell\n",
    "new['MRP']=mrp"
   ]
  },
  {
   "cell_type": "code",
   "execution_count": 77,
   "metadata": {},
   "outputs": [
    {
     "data": {
      "text/html": [
       "<div>\n",
       "<style scoped>\n",
       "    .dataframe tbody tr th:only-of-type {\n",
       "        vertical-align: middle;\n",
       "    }\n",
       "\n",
       "    .dataframe tbody tr th {\n",
       "        vertical-align: top;\n",
       "    }\n",
       "\n",
       "    .dataframe thead th {\n",
       "        text-align: right;\n",
       "    }\n",
       "</style>\n",
       "<table border=\"1\" class=\"dataframe\">\n",
       "  <thead>\n",
       "    <tr style=\"text-align: right;\">\n",
       "      <th></th>\n",
       "      <th>Product</th>\n",
       "      <th>Link</th>\n",
       "      <th>Brand</th>\n",
       "      <th>Size Available</th>\n",
       "      <th>Selling Price</th>\n",
       "      <th>MRP</th>\n",
       "      <th>Gender</th>\n",
       "      <th>Description</th>\n",
       "      <th>Primary_Image</th>\n",
       "      <th>Secondary_Image</th>\n",
       "    </tr>\n",
       "  </thead>\n",
       "  <tbody>\n",
       "    <tr>\n",
       "      <th>0</th>\n",
       "      <td>Sunshopping men's multicolor leatherite needle...</td>\n",
       "      <td>https://www.shopclues.com/sunshopping-mens-mul...</td>\n",
       "      <td>Sunshopping</td>\n",
       "      <td>28 , 30 , 32 , 34 , 36 , 38</td>\n",
       "      <td>247</td>\n",
       "      <td>599</td>\n",
       "      <td>Men</td>\n",
       "      <td>Buy [product _name] Online at Best Prices from...</td>\n",
       "      <td>https://cdn.shopclues.com/images1/detailed/909...</td>\n",
       "      <td>https://cdn.shopclues.com/images1/detailed/909...</td>\n",
       "    </tr>\n",
       "    <tr>\n",
       "      <th>1</th>\n",
       "      <td>Sunshopping men's brown leatherite needle pin ...</td>\n",
       "      <td>https://www.shopclues.com/sunshopping-mens-bro...</td>\n",
       "      <td>Sunshopping</td>\n",
       "      <td>28 , 30 , 32 , 36</td>\n",
       "      <td>171</td>\n",
       "      <td>499</td>\n",
       "      <td>Men</td>\n",
       "      <td>Buy [product _name] Online at Best Prices from...</td>\n",
       "      <td>https://cdn.shopclues.com/images1/detailed/890...</td>\n",
       "      <td>https://cdn.shopclues.com/images1/detailed/890...</td>\n",
       "    </tr>\n",
       "    <tr>\n",
       "      <th>2</th>\n",
       "      <td>UNU New Stylish Leather Strap 0060 Watch Gor B...</td>\n",
       "      <td>https://www.shopclues.com/unu-new-stylish-leat...</td>\n",
       "      <td>Unu</td>\n",
       "      <td>Not Available</td>\n",
       "      <td>152</td>\n",
       "      <td>999</td>\n",
       "      <td>Men</td>\n",
       "      <td>Buy UNU New Stylish Leather Strap 0060 Watch G...</td>\n",
       "      <td>https://cdn.shopclues.com/images1/detailed/968...</td>\n",
       "      <td>Not Available</td>\n",
       "    </tr>\n",
       "    <tr>\n",
       "      <th>3</th>\n",
       "      <td>Knoos Men Synthetic Leather Loafers</td>\n",
       "      <td>https://www.shopclues.com/knoos-men-synthetic-...</td>\n",
       "      <td>Knoos</td>\n",
       "      <td>9</td>\n",
       "      <td>427</td>\n",
       "      <td>1045</td>\n",
       "      <td>Men</td>\n",
       "      <td>Buy Knoos Men Synthetic Leather Loafers online...</td>\n",
       "      <td>https://cdn.shopclues.com/images/detailed/7901...</td>\n",
       "      <td>https://cdn.shopclues.com/images/detailed/7901...</td>\n",
       "    </tr>\n",
       "    <tr>\n",
       "      <th>4</th>\n",
       "      <td>Sunshopping Men's Brown Leatherite Auto Lock B...</td>\n",
       "      <td>https://www.shopclues.com/sunshopping-mens-bro...</td>\n",
       "      <td>Sunshopping</td>\n",
       "      <td>28 , 30 , 32 , 34 , 36 , 38</td>\n",
       "      <td>266</td>\n",
       "      <td>599</td>\n",
       "      <td>Men</td>\n",
       "      <td>Buy [product _name] Online at Best Prices from...</td>\n",
       "      <td>https://cdn.shopclues.com/images1/detailed/971...</td>\n",
       "      <td>https://cdn.shopclues.com/images1/detailed/971...</td>\n",
       "    </tr>\n",
       "  </tbody>\n",
       "</table>\n",
       "</div>"
      ],
      "text/plain": [
       "                                             Product  \\\n",
       "0  Sunshopping men's multicolor leatherite needle...   \n",
       "1  Sunshopping men's brown leatherite needle pin ...   \n",
       "2  UNU New Stylish Leather Strap 0060 Watch Gor B...   \n",
       "3                Knoos Men Synthetic Leather Loafers   \n",
       "4  Sunshopping Men's Brown Leatherite Auto Lock B...   \n",
       "\n",
       "                                                Link        Brand  \\\n",
       "0  https://www.shopclues.com/sunshopping-mens-mul...  Sunshopping   \n",
       "1  https://www.shopclues.com/sunshopping-mens-bro...  Sunshopping   \n",
       "2  https://www.shopclues.com/unu-new-stylish-leat...          Unu   \n",
       "3  https://www.shopclues.com/knoos-men-synthetic-...        Knoos   \n",
       "4  https://www.shopclues.com/sunshopping-mens-bro...  Sunshopping   \n",
       "\n",
       "                 Size Available  Selling Price   MRP Gender  \\\n",
       "0  28 , 30 , 32 , 34 , 36 , 38             247   599    Men   \n",
       "1            28 , 30 , 32 , 36             171   499    Men   \n",
       "2                 Not Available            152   999    Men   \n",
       "3                            9             427  1045    Men   \n",
       "4  28 , 30 , 32 , 34 , 36 , 38             266   599    Men   \n",
       "\n",
       "                                         Description  \\\n",
       "0  Buy [product _name] Online at Best Prices from...   \n",
       "1  Buy [product _name] Online at Best Prices from...   \n",
       "2  Buy UNU New Stylish Leather Strap 0060 Watch G...   \n",
       "3  Buy Knoos Men Synthetic Leather Loafers online...   \n",
       "4  Buy [product _name] Online at Best Prices from...   \n",
       "\n",
       "                                       Primary_Image  \\\n",
       "0  https://cdn.shopclues.com/images1/detailed/909...   \n",
       "1  https://cdn.shopclues.com/images1/detailed/890...   \n",
       "2  https://cdn.shopclues.com/images1/detailed/968...   \n",
       "3  https://cdn.shopclues.com/images/detailed/7901...   \n",
       "4  https://cdn.shopclues.com/images1/detailed/971...   \n",
       "\n",
       "                                     Secondary_Image  \n",
       "0  https://cdn.shopclues.com/images1/detailed/909...  \n",
       "1  https://cdn.shopclues.com/images1/detailed/890...  \n",
       "2                                      Not Available  \n",
       "3  https://cdn.shopclues.com/images/detailed/7901...  \n",
       "4  https://cdn.shopclues.com/images1/detailed/971...  "
      ]
     },
     "execution_count": 77,
     "metadata": {},
     "output_type": "execute_result"
    }
   ],
   "source": [
    "new.head()"
   ]
  },
  {
   "cell_type": "code",
   "execution_count": 79,
   "metadata": {},
   "outputs": [],
   "source": [
    "data_1=pd.DataFrame({\n",
    "    \n",
    "    \"Website\":'https://www.shopclues.com/',\n",
    "    \"Product_Link\":new['Link'].values,\n",
    "    \"Product_Name\":new['Product'].values,\n",
    "    \"Product_Brand\":new['Brand'].values,\n",
    "    \"Size_Avail\":new['Size Available'].values,\n",
    "    \"Price\":new['Selling Price'].values,\n",
    "    \"MRP\":new['MRP'].values,\n",
    "    \"Gender\":new['Gender'].values,\n",
    "    \"Description\":new['Description'].values,\n",
    "    \"Primary_Image_Links\":new['Primary_Image'].values,\n",
    "    \"Secondary_Image_Links\":new['Secondary_Image'].values,\n",
    "    \"Affiliate_Link\":''\n",
    "    \n",
    "})"
   ]
  },
  {
   "cell_type": "code",
   "execution_count": 80,
   "metadata": {},
   "outputs": [
    {
     "data": {
      "text/plain": [
       "<function Connection.close>"
      ]
     },
     "execution_count": 80,
     "metadata": {},
     "output_type": "execute_result"
    }
   ],
   "source": [
    "import sqlite3\n",
    "#from pandas import DataFrame\n",
    "\n",
    "conn = sqlite3.connect('ShopC.db')\n",
    "c = conn.cursor()\n",
    "\n",
    "c.execute('CREATE TABLE product_details (Website varchar(40) not null,Product_Link text PRIMARY KEY,Product_Name varchar(50) not null,Product_Brand varchar(50) not null,Size_Avail varchar(20) not null,Price int not null,MRP int not null,Gender varchar(15) not null,Description text not null,Primary_Image_Links text not null,Secondary_Image_Links text not null,Affiliate_Link text not null )')\n",
    "\n",
    "\n",
    "data_1.to_sql('product_details', conn, if_exists='replace', index = False)    \n",
    "conn.commit()\n",
    "conn.close"
   ]
  },
  {
   "cell_type": "code",
   "execution_count": null,
   "metadata": {},
   "outputs": [],
   "source": []
  }
 ],
 "metadata": {
  "kernelspec": {
   "display_name": "Python 3",
   "language": "python",
   "name": "python3"
  },
  "language_info": {
   "codemirror_mode": {
    "name": "ipython",
    "version": 3
   },
   "file_extension": ".py",
   "mimetype": "text/x-python",
   "name": "python",
   "nbconvert_exporter": "python",
   "pygments_lexer": "ipython3",
   "version": "3.8.5"
  }
 },
 "nbformat": 4,
 "nbformat_minor": 4
}
