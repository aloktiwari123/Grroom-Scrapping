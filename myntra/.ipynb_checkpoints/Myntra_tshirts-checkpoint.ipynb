{
 "cells": [
  {
   "cell_type": "code",
   "execution_count": 1,
   "metadata": {},
   "outputs": [],
   "source": [
    "from bs4 import BeautifulSoup\n",
    "import requests\n",
    "from requests.exceptions import Timeout\n",
    "import pandas as pd\n",
    "from pandas import Series, DataFrame\n",
    "from ipywidgets import FloatProgress\n",
    "from time import sleep\n",
    "from IPython.display import display\n",
    "import re\n",
    "import pickle"
   ]
  },
  {
   "cell_type": "code",
   "execution_count": 2,
   "metadata": {},
   "outputs": [],
   "source": [
    "headers = {'User-Agent' : 'Mozilla/5.0 (Macintosh; Intel Mac OS X 10_14_5) AppleWebKit/537.36 (KHTML, like Gecko) Chrome/84.0.4147.89 Safari/537.36'}"
   ]
  },
  {
   "cell_type": "code",
   "execution_count": 3,
   "metadata": {},
   "outputs": [],
   "source": [
    "import json\n",
    "req = requests.get('https://www.myntra.com/men-tshirts?p=1&plaEnabled=false',headers=headers)\n",
    "soup = BeautifulSoup(req.content , 'html.parser')\n",
    "data=soup.find_all(\"script\",type=\"application/ld+json\")[1]\n",
    "js = json.loads(data.string)"
   ]
  },
  {
   "cell_type": "code",
   "execution_count": 4,
   "metadata": {},
   "outputs": [
    {
     "data": {
      "text/plain": [
       "{'@type': 'ListItem',\n",
       " 'position': 1,\n",
       " 'url': 'https://www.myntra.com/tshirts/herenow/herenow-men-teal-blue-solid-polo-collar-t-shirt/7546902/buy',\n",
       " 'name': 'HERE&NOW Men Teal Blue Solid Polo Collar T-shirt'}"
      ]
     },
     "execution_count": 4,
     "metadata": {},
     "output_type": "execute_result"
    }
   ],
   "source": [
    "js['itemListElement'][0]"
   ]
  },
  {
   "cell_type": "code",
   "execution_count": 5,
   "metadata": {},
   "outputs": [],
   "source": [
    "product_name=[]\n",
    "product_link=[]"
   ]
  },
  {
   "cell_type": "code",
   "execution_count": 6,
   "metadata": {},
   "outputs": [],
   "source": [
    "c = 0\n",
    "while (c < 600):\n",
    "    c=c+1\n",
    "    #result = requests.get(f'https://www.limeroad.com/listing/get_listing_objects?p_start={c}&s_start=0&story_start=4&stories_to_edit=false&scraps_to_edit=false&stories_to_rate=false&scraps_to_rate=false&p_queryparam=%7B%22classification%22%3A%5B%22.0.1116.1240.1242%22%5D%2C%22stock%22%3A%5B%221%22%5D%7D&p_sortorder=threeQuarterStock_i%2Bdesc%2CscCount%2Bdesc&p_searchquery=*%3A*&s_queryparam=%7B%22classification%22%3A%5B%22.0.1116.1240.1242%22%5D%2C%22stock%22%3A%5B%221%22%5D%7D&s_sortorder=priority%2Bdesc%2Crandom_5401805%2Bdesc&s_searchquery=*%3A*&isScrapOnlySearch&group=false&product_id=&story_id=ms1242st&s_rows=0&p_rows=8&tag_sort=&df_type=&tag_condition=%22%22&tag=&p_groupoffset=&story_rows=2&stories&ext_img=&template=&badge&catEditor&gender&chopPage&chopPageSameUser&filterUserid&disableFixedScraps&tagPageStories&newUserSort=bsSort&new_user_data=newUserFlow&st_queryparam=&st_queryparam_or=&issearch=false&ajax=true')\n",
    "    req = requests.get(f'https://www.myntra.com/men-tshirts?p={c}&plaEnabled=false',headers=headers)\n",
    "    soup = BeautifulSoup(req.content , 'html.parser')\n",
    "    data=soup.find_all(\"script\",type=\"application/ld+json\")[1]\n",
    "    js = json.loads(data.string)\n",
    "    for i in range(len(js['itemListElement'])):\n",
    "        product_name.append(js['itemListElement'][i]['name'])\n",
    "        product_link.append(js['itemListElement'][i]['url'])\n",
    "    "
   ]
  },
  {
   "cell_type": "code",
   "execution_count": 7,
   "metadata": {},
   "outputs": [
    {
     "data": {
      "text/plain": [
       "6000"
      ]
     },
     "execution_count": 7,
     "metadata": {},
     "output_type": "execute_result"
    }
   ],
   "source": [
    "len(product_name)"
   ]
  },
  {
   "cell_type": "code",
   "execution_count": 8,
   "metadata": {},
   "outputs": [
    {
     "data": {
      "text/plain": [
       "'https://www.myntra.com/tshirts/herenow/herenow-men-teal-blue-solid-polo-collar-t-shirt/7546902/buy'"
      ]
     },
     "execution_count": 8,
     "metadata": {},
     "output_type": "execute_result"
    }
   ],
   "source": [
    "product_link[0]"
   ]
  },
  {
   "cell_type": "code",
   "execution_count": 9,
   "metadata": {},
   "outputs": [],
   "source": [
    "data=pd.DataFrame({'Product_Name':product_name,'Product_Link':product_link})\n",
    "data.to_csv('myn_tshirts.csv')"
   ]
  },
  {
   "cell_type": "code",
   "execution_count": 52,
   "metadata": {},
   "outputs": [],
   "source": [
    "req = requests.get(product_link[0],headers=headers)\n",
    "soup = BeautifulSoup(req.content , 'html.parser')\n",
    "data=soup.find_all(\"script\",type=\"application/ld+json\")[1]\n",
    "js = json.loads(data.string)"
   ]
  },
  {
   "cell_type": "code",
   "execution_count": 11,
   "metadata": {},
   "outputs": [
    {
     "data": {
      "text/plain": [
       "dict_keys(['@context', '@type', 'name', 'image', 'sku', 'mpn', 'description', 'offers', 'brand'])"
      ]
     },
     "execution_count": 11,
     "metadata": {},
     "output_type": "execute_result"
    }
   ],
   "source": [
    "#<p class=\"size-buttons-unified-size\"><!-- react-text: 110 -->M<!-- /react-text --></p>\n",
    "js.keys()"
   ]
  },
  {
   "cell_type": "code",
   "execution_count": 12,
   "metadata": {},
   "outputs": [
    {
     "data": {
      "text/plain": [
       "{'@context': 'https://schema.org',\n",
       " '@type': 'Product',\n",
       " 'name': 'HERE&NOW Men Teal Blue Solid Polo Collar T-shirt',\n",
       " 'image': 'https://assets.myntassets.com/h_1440,q_100,w_1080/v1/assets/images/7546902/2019/2/11/be44366c-a232-47ec-a7b4-c4bea24f04e71549886561293-HERENOW-Men-Teal-Solid-Polo-Collar-T-shirt-7371549886559966-1.jpg',\n",
       " 'sku': '7546902',\n",
       " 'mpn': '7546902',\n",
       " 'description': 'HERE&NOW Men Teal Blue Solid Polo Collar T-shirt',\n",
       " 'offers': {'@type': 'Offer',\n",
       "  'priceCurrency': 'INR',\n",
       "  'availability': 'InStock',\n",
       "  'price': '439',\n",
       "  'url': 'https://www.myntra.com/tshirts/herenow/herenow-men-teal-blue-solid-polo-collar-t-shirt/7546902/buy'},\n",
       " 'brand': {'@type': 'Thing', 'name': 'HERE&NOW'}}"
      ]
     },
     "execution_count": 12,
     "metadata": {},
     "output_type": "execute_result"
    }
   ],
   "source": [
    "js"
   ]
  },
  {
   "cell_type": "code",
   "execution_count": 45,
   "metadata": {},
   "outputs": [
    {
     "data": {
      "text/plain": [
       "'https://assets.myntassets.com/h_1440,q_100,w_1080/v1/assets/images/12552112/2021/3/15/e8debbfe-aff9-4ecb-813e-9020b08f2a551615809782450-Mast--Harbour-Men-Green-Solid-Mandarin-Collar-T-shirt-211161-1.jpg'"
      ]
     },
     "execution_count": 45,
     "metadata": {},
     "output_type": "execute_result"
    }
   ],
   "source": [
    "js['image']"
   ]
  },
  {
   "cell_type": "code",
   "execution_count": 38,
   "metadata": {},
   "outputs": [],
   "source": [
    "p_name=[]\n",
    "product_image=[]\n",
    "p_link=[]\n",
    "product_brand=[]\n",
    "product_des=[]\n",
    "product_price=[]\n",
    "product_availability=[]"
   ]
  },
  {
   "cell_type": "code",
   "execution_count": 39,
   "metadata": {},
   "outputs": [
    {
     "data": {
      "text/plain": [
       "6000"
      ]
     },
     "execution_count": 39,
     "metadata": {},
     "output_type": "execute_result"
    }
   ],
   "source": [
    "len(product_link)"
   ]
  },
  {
   "cell_type": "code",
   "execution_count": 44,
   "metadata": {},
   "outputs": [
    {
     "name": "stdout",
     "output_type": "stream",
     "text": [
      "500\n",
      "1000\n",
      "1500\n",
      "2000\n",
      "2500\n",
      "3000\n",
      "3500\n",
      "4000\n",
      "4500\n",
      "5000\n",
      "5500\n"
     ]
    }
   ],
   "source": [
    "count=0\n",
    "for i in product_link:\n",
    "    try:\n",
    "        req = requests.get(i,headers=headers)\n",
    "        soup = BeautifulSoup(req.content , 'html.parser')\n",
    "        data=soup.find_all(\"script\",type=\"application/ld+json\")[1]\n",
    "        js = json.loads(data.string) # <- Calling `.string` to get the JSON\n",
    "        product_availability.append(js['offers']['availability'])\n",
    "        product_image.append(js['image'])\n",
    "        product_brand.append(js['brand']['name'])\n",
    "        product_des.append(js['description'])\n",
    "        product_price.append(js['offers']['price'])\n",
    "        p_name.append(js['name'])\n",
    "        p_link.append(js['offers']['url'])\n",
    "        count=count+1\n",
    "        if count%500==0:\n",
    "            print(count)\n",
    "    except:\n",
    "        pass\n",
    "    \n",
    "        \n",
    "        "
   ]
  },
  {
   "cell_type": "code",
   "execution_count": 46,
   "metadata": {},
   "outputs": [],
   "source": [
    "t_shirts=pd.DataFrame({'Name':p_name,'Product_Link':p_link,'Product_Image':product_image,'Brand':product_brand,'Price':product_price,'Availability':product_availability,'Description':product_des,'Gender':'Men'})"
   ]
  },
  {
   "cell_type": "code",
   "execution_count": 47,
   "metadata": {},
   "outputs": [
    {
     "data": {
      "text/html": [
       "<div>\n",
       "<style scoped>\n",
       "    .dataframe tbody tr th:only-of-type {\n",
       "        vertical-align: middle;\n",
       "    }\n",
       "\n",
       "    .dataframe tbody tr th {\n",
       "        vertical-align: top;\n",
       "    }\n",
       "\n",
       "    .dataframe thead th {\n",
       "        text-align: right;\n",
       "    }\n",
       "</style>\n",
       "<table border=\"1\" class=\"dataframe\">\n",
       "  <thead>\n",
       "    <tr style=\"text-align: right;\">\n",
       "      <th></th>\n",
       "      <th>Name</th>\n",
       "      <th>Product_Link</th>\n",
       "      <th>Product_Image</th>\n",
       "      <th>Brand</th>\n",
       "      <th>Price</th>\n",
       "      <th>Availability</th>\n",
       "      <th>Description</th>\n",
       "      <th>Gender</th>\n",
       "    </tr>\n",
       "  </thead>\n",
       "  <tbody>\n",
       "    <tr>\n",
       "      <th>0</th>\n",
       "      <td>HERE&amp;NOW Men Teal Blue Solid Polo Collar T-shirt</td>\n",
       "      <td>https://www.myntra.com/tshirts/herenow/herenow...</td>\n",
       "      <td>https://assets.myntassets.com/h_1440,q_100,w_1...</td>\n",
       "      <td>HERE&amp;NOW</td>\n",
       "      <td>439</td>\n",
       "      <td>InStock</td>\n",
       "      <td>HERE&amp;NOW Men Teal Blue Solid Polo Collar T-shirt</td>\n",
       "      <td>Men</td>\n",
       "    </tr>\n",
       "    <tr>\n",
       "      <th>1</th>\n",
       "      <td>Roadster Men Navy Blue Printed Round Neck T-shirt</td>\n",
       "      <td>https://www.myntra.com/tshirts/roadster/roadst...</td>\n",
       "      <td>https://assets.myntassets.com/h_1440,q_100,w_1...</td>\n",
       "      <td>Roadster</td>\n",
       "      <td>299</td>\n",
       "      <td>InStock</td>\n",
       "      <td>Roadster Men Navy Blue Printed Round Neck T-shirt</td>\n",
       "      <td>Men</td>\n",
       "    </tr>\n",
       "    <tr>\n",
       "      <th>2</th>\n",
       "      <td>WROGN Men Green Slim Fit Solid Polo Collar T-s...</td>\n",
       "      <td>https://www.myntra.com/tshirts/wrogn/wrogn-men...</td>\n",
       "      <td>https://assets.myntassets.com/h_1440,q_100,w_1...</td>\n",
       "      <td>WROGN</td>\n",
       "      <td>1119</td>\n",
       "      <td>InStock</td>\n",
       "      <td>WROGN Men Green Slim Fit Solid Polo Collar T-s...</td>\n",
       "      <td>Men</td>\n",
       "    </tr>\n",
       "    <tr>\n",
       "      <th>3</th>\n",
       "      <td>Nike Men Turquoise Blue Striped Dri-Fit MILER ...</td>\n",
       "      <td>https://www.myntra.com/tshirts/nike/nike-men-t...</td>\n",
       "      <td>https://assets.myntassets.com/h_1440,q_100,w_1...</td>\n",
       "      <td>Nike</td>\n",
       "      <td>1695</td>\n",
       "      <td>InStock</td>\n",
       "      <td>Nike Men Turquoise Blue Striped Dri-Fit MILER ...</td>\n",
       "      <td>Men</td>\n",
       "    </tr>\n",
       "    <tr>\n",
       "      <th>4</th>\n",
       "      <td>Nautica Men Peach-Coloured Solid Polo Collar T...</td>\n",
       "      <td>https://www.myntra.com/tshirts/nautica/nautica...</td>\n",
       "      <td>https://assets.myntassets.com/h_1440,q_100,w_1...</td>\n",
       "      <td>Nautica</td>\n",
       "      <td>1679</td>\n",
       "      <td>InStock</td>\n",
       "      <td>Nautica Men Peach-Coloured Solid Polo Collar T...</td>\n",
       "      <td>Men</td>\n",
       "    </tr>\n",
       "    <tr>\n",
       "      <th>...</th>\n",
       "      <td>...</td>\n",
       "      <td>...</td>\n",
       "      <td>...</td>\n",
       "      <td>...</td>\n",
       "      <td>...</td>\n",
       "      <td>...</td>\n",
       "      <td>...</td>\n",
       "      <td>...</td>\n",
       "    </tr>\n",
       "    <tr>\n",
       "      <th>5980</th>\n",
       "      <td>WROGN Men Black &amp; Charcoal Grey Striped Slim F...</td>\n",
       "      <td>https://www.myntra.com/tshirts/wrogn/wrogn-men...</td>\n",
       "      <td>https://assets.myntassets.com/h_1440,q_100,w_1...</td>\n",
       "      <td>WROGN</td>\n",
       "      <td>659</td>\n",
       "      <td>InStock</td>\n",
       "      <td>WROGN Men Black &amp; Charcoal Grey Striped Slim F...</td>\n",
       "      <td>Men</td>\n",
       "    </tr>\n",
       "    <tr>\n",
       "      <th>5981</th>\n",
       "      <td>Monte Carlo Men Pink Solid Polo Collar T-shirt</td>\n",
       "      <td>https://www.myntra.com/tshirts/monte-carlo/mon...</td>\n",
       "      <td>https://assets.myntassets.com/h_1440,q_100,w_1...</td>\n",
       "      <td>Monte Carlo</td>\n",
       "      <td>738</td>\n",
       "      <td>InStock</td>\n",
       "      <td>Monte Carlo Men Pink Solid Polo Collar T-shirt</td>\n",
       "      <td>Men</td>\n",
       "    </tr>\n",
       "    <tr>\n",
       "      <th>5982</th>\n",
       "      <td>WROGN Men Olive Green Striped Round Neck T-shirt</td>\n",
       "      <td>https://www.myntra.com/tshirts/wrogn/wrogn-men...</td>\n",
       "      <td>https://assets.myntassets.com/h_1440,q_100,w_1...</td>\n",
       "      <td>WROGN</td>\n",
       "      <td>979</td>\n",
       "      <td>InStock</td>\n",
       "      <td>WROGN Men Olive Green Striped Round Neck T-shirt</td>\n",
       "      <td>Men</td>\n",
       "    </tr>\n",
       "    <tr>\n",
       "      <th>5983</th>\n",
       "      <td>WROGN Men White Printed Hood T-shirt</td>\n",
       "      <td>https://www.myntra.com/tshirts/wrogn/wrogn-men...</td>\n",
       "      <td>https://assets.myntassets.com/h_1440,q_100,w_1...</td>\n",
       "      <td>WROGN</td>\n",
       "      <td>599</td>\n",
       "      <td>InStock</td>\n",
       "      <td>WROGN Men White Printed Hood T-shirt</td>\n",
       "      <td>Men</td>\n",
       "    </tr>\n",
       "    <tr>\n",
       "      <th>5984</th>\n",
       "      <td>Mast &amp; Harbour Men Green Solid Mandarin Collar...</td>\n",
       "      <td>https://www.myntra.com/tshirts/mast--harbour/m...</td>\n",
       "      <td>https://assets.myntassets.com/h_1440,q_100,w_1...</td>\n",
       "      <td>Mast &amp; Harbour</td>\n",
       "      <td>489</td>\n",
       "      <td>InStock</td>\n",
       "      <td>Mast &amp; Harbour Men Green Solid Mandarin Collar...</td>\n",
       "      <td>Men</td>\n",
       "    </tr>\n",
       "  </tbody>\n",
       "</table>\n",
       "<p>5985 rows × 8 columns</p>\n",
       "</div>"
      ],
      "text/plain": [
       "                                                   Name  \\\n",
       "0      HERE&NOW Men Teal Blue Solid Polo Collar T-shirt   \n",
       "1     Roadster Men Navy Blue Printed Round Neck T-shirt   \n",
       "2     WROGN Men Green Slim Fit Solid Polo Collar T-s...   \n",
       "3     Nike Men Turquoise Blue Striped Dri-Fit MILER ...   \n",
       "4     Nautica Men Peach-Coloured Solid Polo Collar T...   \n",
       "...                                                 ...   \n",
       "5980  WROGN Men Black & Charcoal Grey Striped Slim F...   \n",
       "5981     Monte Carlo Men Pink Solid Polo Collar T-shirt   \n",
       "5982   WROGN Men Olive Green Striped Round Neck T-shirt   \n",
       "5983               WROGN Men White Printed Hood T-shirt   \n",
       "5984  Mast & Harbour Men Green Solid Mandarin Collar...   \n",
       "\n",
       "                                           Product_Link  \\\n",
       "0     https://www.myntra.com/tshirts/herenow/herenow...   \n",
       "1     https://www.myntra.com/tshirts/roadster/roadst...   \n",
       "2     https://www.myntra.com/tshirts/wrogn/wrogn-men...   \n",
       "3     https://www.myntra.com/tshirts/nike/nike-men-t...   \n",
       "4     https://www.myntra.com/tshirts/nautica/nautica...   \n",
       "...                                                 ...   \n",
       "5980  https://www.myntra.com/tshirts/wrogn/wrogn-men...   \n",
       "5981  https://www.myntra.com/tshirts/monte-carlo/mon...   \n",
       "5982  https://www.myntra.com/tshirts/wrogn/wrogn-men...   \n",
       "5983  https://www.myntra.com/tshirts/wrogn/wrogn-men...   \n",
       "5984  https://www.myntra.com/tshirts/mast--harbour/m...   \n",
       "\n",
       "                                          Product_Image           Brand Price  \\\n",
       "0     https://assets.myntassets.com/h_1440,q_100,w_1...        HERE&NOW   439   \n",
       "1     https://assets.myntassets.com/h_1440,q_100,w_1...        Roadster   299   \n",
       "2     https://assets.myntassets.com/h_1440,q_100,w_1...           WROGN  1119   \n",
       "3     https://assets.myntassets.com/h_1440,q_100,w_1...            Nike  1695   \n",
       "4     https://assets.myntassets.com/h_1440,q_100,w_1...         Nautica  1679   \n",
       "...                                                 ...             ...   ...   \n",
       "5980  https://assets.myntassets.com/h_1440,q_100,w_1...           WROGN   659   \n",
       "5981  https://assets.myntassets.com/h_1440,q_100,w_1...     Monte Carlo   738   \n",
       "5982  https://assets.myntassets.com/h_1440,q_100,w_1...           WROGN   979   \n",
       "5983  https://assets.myntassets.com/h_1440,q_100,w_1...           WROGN   599   \n",
       "5984  https://assets.myntassets.com/h_1440,q_100,w_1...  Mast & Harbour   489   \n",
       "\n",
       "     Availability                                        Description Gender  \n",
       "0         InStock   HERE&NOW Men Teal Blue Solid Polo Collar T-shirt    Men  \n",
       "1         InStock  Roadster Men Navy Blue Printed Round Neck T-shirt    Men  \n",
       "2         InStock  WROGN Men Green Slim Fit Solid Polo Collar T-s...    Men  \n",
       "3         InStock  Nike Men Turquoise Blue Striped Dri-Fit MILER ...    Men  \n",
       "4         InStock  Nautica Men Peach-Coloured Solid Polo Collar T...    Men  \n",
       "...           ...                                                ...    ...  \n",
       "5980      InStock  WROGN Men Black & Charcoal Grey Striped Slim F...    Men  \n",
       "5981      InStock     Monte Carlo Men Pink Solid Polo Collar T-shirt    Men  \n",
       "5982      InStock   WROGN Men Olive Green Striped Round Neck T-shirt    Men  \n",
       "5983      InStock               WROGN Men White Printed Hood T-shirt    Men  \n",
       "5984      InStock  Mast & Harbour Men Green Solid Mandarin Collar...    Men  \n",
       "\n",
       "[5985 rows x 8 columns]"
      ]
     },
     "execution_count": 47,
     "metadata": {},
     "output_type": "execute_result"
    }
   ],
   "source": [
    "t_shirts"
   ]
  },
  {
   "cell_type": "code",
   "execution_count": 48,
   "metadata": {},
   "outputs": [],
   "source": [
    "t_shirts.to_csv('t_shirts_myntra.csv')"
   ]
  },
  {
   "cell_type": "code",
   "execution_count": 57,
   "metadata": {},
   "outputs": [],
   "source": [
    "#<p class=\"size-buttons-unified-size\"><!-- react-text: 110 -->M<!-- /react-text --></p>\n",
    "req = requests.get(product_link[0],headers=headers)\n",
    "soup = BeautifulSoup(req.content , 'html.parser')"
   ]
  },
  {
   "cell_type": "code",
   "execution_count": 59,
   "metadata": {},
   "outputs": [],
   "source": [
    "#<div class=\"image-grid-container common-clearfix\"><div class=\"image-grid-col50\"><div class=\"image-grid-imageContainer\"><div class=\"image-grid-image\" style=\"background-image: url(&quot;https://assets.myntassets.com/h_720,q_90,w_540/v1/assets/images/7546902/2019/2/11/be44366c-a232-47ec-a7b4-c4bea24f04e71549886561293-HERENOW-Men-Teal-Solid-Polo-Collar-T-shirt-7371549886559966-1.jpg&quot;);\"></div><div class=\"image-grid-skeletonLoader\"></div></div></div><div class=\"image-grid-col50\"><div class=\"image-grid-imageContainer\"><div class=\"image-grid-image\" style=\"background-image: url(&quot;https://assets.myntassets.com/h_720,q_90,w_540/v1/assets/images/7546902/2019/2/11/efe2881f-06cd-44f4-b5f4-b1b78c4b868d1549886561272-HERENOW-Men-Teal-Solid-Polo-Collar-T-shirt-7371549886559966-2.jpg&quot;);\"></div><div class=\"image-grid-similarColorsCta undefined\"><span class=\"myntraweb-sprite image-grid-similarColorsIcon sprites-similarProductsIcon\"></span><span class=\"image-grid-iconText\">VIEW SIMILAR</span></div><div class=\"image-grid-skeletonLoader\"></div></div></div><div class=\"image-grid-col50\"><div class=\"image-grid-imageContainer\"><div class=\"image-grid-image\" style=\"background-image: url(&quot;https://assets.myntassets.com/h_720,q_90,w_540/v1/assets/images/7546902/2019/2/11/70409171-c53c-46ae-9902-e97a03d92ac61549886561252-HERENOW-Men-Teal-Solid-Polo-Collar-T-shirt-7371549886559966-3.jpg&quot;);\"></div><div class=\"image-grid-skeletonLoader\"></div></div></div><div class=\"image-grid-col50\"><div class=\"image-grid-imageContainer\" style=\"\"><div class=\"image-grid-image\" style=\"background-image: url(&quot;https://assets.myntassets.com/h_720,q_90,w_540/v1/assets/images/7546902/2019/2/11/c3c70f0c-5d06-414b-a647-3bb9b6297f1b1549886561231-HERENOW-Men-Teal-Solid-Polo-Collar-T-shirt-7371549886559966-4.jpg&quot;);\"></div><div class=\"image-grid-skeletonLoader\"></div></div></div><div class=\"image-grid-col50\"><div class=\"lazyload-placeholder\" style=\"height: 500px;\"></div></div></div>"
   ]
  },
  {
   "cell_type": "code",
   "execution_count": 73,
   "metadata": {},
   "outputs": [],
   "source": [
    "s=soup.find('div',{'id':'mountRoot'})"
   ]
  },
  {
   "cell_type": "code",
   "execution_count": 78,
   "metadata": {},
   "outputs": [],
   "source": [
    "f=s.find('div',{'class':\"loader-container\"})"
   ]
  },
  {
   "cell_type": "code",
   "execution_count": 80,
   "metadata": {},
   "outputs": [
    {
     "data": {
      "text/plain": [
       "[<div class=\"spinner-spinner\"></div>]"
      ]
     },
     "execution_count": 80,
     "metadata": {},
     "output_type": "execute_result"
    }
   ],
   "source": [
    "f.find('div')"
   ]
  },
  {
   "cell_type": "code",
   "execution_count": null,
   "metadata": {},
   "outputs": [],
   "source": []
  }
 ],
 "metadata": {
  "kernelspec": {
   "display_name": "Python 3",
   "language": "python",
   "name": "python3"
  },
  "language_info": {
   "codemirror_mode": {
    "name": "ipython",
    "version": 3
   },
   "file_extension": ".py",
   "mimetype": "text/x-python",
   "name": "python",
   "nbconvert_exporter": "python",
   "pygments_lexer": "ipython3",
   "version": "3.8.5"
  }
 },
 "nbformat": 4,
 "nbformat_minor": 4
}
