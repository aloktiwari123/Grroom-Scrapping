{
 "cells": [
  {
   "cell_type": "markdown",
   "metadata": {},
   "source": [
    "# Imports and necessary assignments"
   ]
  },
  {
   "cell_type": "code",
   "execution_count": null,
   "metadata": {},
   "outputs": [],
   "source": [
    "from bs4 import BeautifulSoup as bs\n",
    "import requests, json, sqlite3"
   ]
  },
  {
   "cell_type": "code",
   "execution_count": null,
   "metadata": {},
   "outputs": [],
   "source": [
    "headers = {\"accept-encoding\": \"gzip, deflate, br\",\n",
    "           \"accept-language\": \"en-US,en;q=0.9\",\n",
    "           \"user-agent\": \"Mozilla/5.0 (Windows NT 10.0; Win64; x64) AppleWebKit/537.36 (KHTML, like Gecko) Chrome/90.0.4430.93 Safari/537.36 Edg/90.0.818.56\"}\n",
    "cookies = requests.get(\"https://www.amazon.in/b/?_encoding=UTF8&node=7459781031&ref_=sv_top_ap_mega_2\", headers=headers).cookies"
   ]
  },
  {
   "cell_type": "code",
   "execution_count": null,
   "metadata": {},
   "outputs": [],
   "source": [
    "mens_section = [\n",
    "    [\"https://www.amazon.in/s?i=apparel&rh=n%3A1968120031&fs=true&page=\", 50000, \"T-Shirts & Polos\"],\n",
    "    [\"https://www.amazon.in/s?i=apparel&rh=n%3A1968093031&fs=true&page=\", 40000, \"Shirts\"],\n",
    "    [\"https://www.amazon.in/s?i=apparel&rh=n%3A1968125031&fs=true&page=\", 20000, \"Trousers\"],\n",
    "    [\"https://www.amazon.in/s?i=apparel&rh=n%3A1968076031&fs=true&page=\", 20000, \"Jeans\"],\n",
    "    [\"https://www.amazon.in/s?i=apparel&rh=n%3A1968126031&fs=true&page=\", 30000, \"Innerwear\"],\n",
    "    [\"https://www.amazon.in/s?i=apparel&rh=n%3A1968062031&fs=true&page=\", 30000, \"Sportswear\"],\n",
    "    [\"https://www.amazon.in/s?i=apparel&rh=n%3A1968082031&fs=true&page=\", 3000, \"Sleep & Lounge Wear\"],\n",
    "    [\"https://www.amazon.in/s?i=apparel&rh=n%3A1968248031&fs=true&page=\", 30000, \"Ethnic Wear\"],\n",
    "    [\"https://www.amazon.in/s?i=apparel&rh=n%3A1968025031&fs=true&page=\", 30000, \"Accessories\"],\n",
    "    [\"https://www.amazon.in/s?i=apparel&rh=n%3A1968107031&fs=true&page=\", 10000, \"Suits & Blazers\"],\n",
    "    [\"https://www.amazon.in/s?i=apparel&rh=n%3A1968088031&fs=true&page=\", 30000, \"Winterwear\"],\n",
    "    \n",
    "    [\"https://www.amazon.in/s?i=apparel&rh=n%3A1983518031&fs=true&page=\", 40000, \"Shoes\"],\n",
    "    [\"https://www.amazon.in/s?i=watches&rh=n%3A2563504031&fs=true&page=\", 40000, \"Watches\"],\n",
    "    [\"https://www.amazon.in/s?i=watches&rh=n%3A7124359031&fs=true&page=\", 30000, \"Jewellery\"],\n",
    "    [\"https://www.amazon.in/s?i=watches&rh=n%3A1968032031&fs=true&page=\", 30000, \"Sunglasses & Spectacle Frames\"],\n",
    "    [\"https://www.amazon.in/s?i=watches&rh=n%3A2917496031&fs=true&page=\", 30000, \"Wallets\"]\n",
    "    \n",
    "]\n",
    "\n",
    "womens_section = [\n",
    "    [\"https://www.amazon.in/s?i=apparel&rh=n%3A11400137031&fs=true&page=\", 40000, \"Western Wear\"],\n",
    "    [\"https://www.amazon.in/s?i=apparel&rh=n%3A1968542031&fs=true&page=\", 40000, \"Tops, T-Shirts & Shirts\"],\n",
    "    [\"https://www.amazon.in/s?i=apparel&rh=n%3A1968445031&fs=true&page=\", 30000, \"Dresses\"],\n",
    "    [\"https://www.amazon.in/s?i=apparel&rh=n%3A1968447031&fs=true&page=\", 20000, \"Jeans & Jeggings\"],\n",
    "    [\"https://www.amazon.in/s?i=apparel&rh=n%3A1968255031&fs=true&page=\", 40000, \"Kurtas & Kurtis\"],\n",
    "    [\"https://www.amazon.in/s?i=apparel&rh=n%3A3723380031&fs=true&page=\", 20000, \"Salwar Suits\"],\n",
    "    [\"https://www.amazon.in/s?i=apparel&rh=n%3A1968256031&fs=true&page=\", 40000, \"Sarees\"],\n",
    "    [\"https://www.amazon.in/s?i=apparel&rh=n%3A11400136031&fs=true&page=\", 40000, \"Lingerie & Nightwear\"],\n",
    "    [\"https://www.amazon.in/s?i=apparel&rh=n%3A1968428031&fs=true&page=\", 30000, \"Sportswear\"],\n",
    "    \n",
    "    [\"https://www.amazon.in/s?i=apparel&rh=n%3A1983578031&fs=true&page=\", 30000, \"Shoes\"],\n",
    "    [\"https://www.amazon.in/s?i=apparel&rh=n%3A1968397031&fs=true&page=\", 30000, \"Sunglasses & Spectacle Frames\"],\n",
    "    [\"https://www.amazon.in/s?i=apparel&rh=n%3A7124358031&fs=true&page=\", 40000, \"Jewellery\"],\n",
    "    [\"https://www.amazon.in/s?i=apparel&rh=n%3A1983338031&fs=true&page=\", 20000, \"Handbags, Purses & Clutches\"]\n",
    "]"
   ]
  },
  {
   "cell_type": "markdown",
   "metadata": {},
   "source": [
    "# Find product links and save links to file"
   ]
  },
  {
   "cell_type": "code",
   "execution_count": null,
   "metadata": {},
   "outputs": [],
   "source": [
    "men_product_links = []\n",
    "\n",
    "for section in mens_section:\n",
    "    print(\"\\n\"+section[2])\n",
    "    new_links = []\n",
    "    for page in range(1, section[1]//48+2):\n",
    "        url = f\"{section[0]}{page}\"\n",
    "        pg_html = bs(requests.get(url, headers=headers).text, 'html.parser')\n",
    "        divs = pg_html.findAll('a', {'class': 'a-link-normal a-text-normal'})\n",
    "        for product in divs:\n",
    "            new_links.append([\"https://www.amazon.in\"+product['href'], section[2]])\n",
    "        print(\"Page: \", page, \"\\tTotal page links: \", len(new_links) )\n",
    "    men_product_links.extend(new_links)\n",
    "\n",
    "print(\"All men links:\", len(men_product_links))"
   ]
  },
  {
   "cell_type": "code",
   "execution_count": null,
   "metadata": {},
   "outputs": [],
   "source": [
    "with open('amazon_men.csv', 'w') as file:\n",
    "    for link in men_product_links:\n",
    "        file.write(link[0]+\", \"+link[1]+\"\\n\")"
   ]
  },
  {
   "cell_type": "code",
   "execution_count": null,
   "metadata": {
    "scrolled": true
   },
   "outputs": [],
   "source": [
    "women_product_links = []\n",
    "\n",
    "for section in womens_section:\n",
    "    print(\"\\n\"+section[2])\n",
    "    new_links = []\n",
    "    for page in range(1, section[1]//48+2):\n",
    "        url = f\"{section[0]}{page}\"\n",
    "        pg_html = bs(requests.get(url, headers=headers).text, 'html.parser')\n",
    "        divs = pg_html.findAll('a', {'class': 'a-link-normal a-text-normal'})\n",
    "        for product in divs:\n",
    "            new_links.append([\"https://www.amazon.in\"+product['href'], section[2]])\n",
    "        print(\"Page: \", page, \"\\tTotal page links: \", len(new_links) )\n",
    "    women_product_links.extend(new_links)\n",
    "\n",
    "print(\"All women links:\", len(women_product_links))"
   ]
  },
  {
   "cell_type": "code",
   "execution_count": null,
   "metadata": {},
   "outputs": [],
   "source": [
    "with open('amazon_women.csv', 'w') as file:\n",
    "    for link in women_product_links:\n",
    "        file.write(link[0]+\", \"+link[1]+\"\\n\")"
   ]
  },
  {
   "cell_type": "markdown",
   "metadata": {},
   "source": [
    "### Extract saved links from file"
   ]
  },
  {
   "cell_type": "code",
   "execution_count": null,
   "metadata": {},
   "outputs": [],
   "source": [
    "all_links = []\n",
    "\n",
    "with open(\"amazon_men.csv\",\"r\") as f:\n",
    "    for line in f:\n",
    "        all_links.append(list(line.strip().split(\", \")))\n",
    "\n",
    "with open(\"amazon_women.csv\",\"r\") as f:\n",
    "    for line in f:\n",
    "        all_links.append(list(line.strip().split(\", \")))\n",
    "        \n",
    "len(all_links)"
   ]
  },
  {
   "cell_type": "markdown",
   "metadata": {},
   "source": [
    "# Functions\n",
    "## Function to get each product details"
   ]
  },
  {
   "cell_type": "code",
   "execution_count": null,
   "metadata": {},
   "outputs": [],
   "source": [
    "def get_details(main_link, category):\n",
    "    try:\n",
    "        site_html = bs(requests.get(main_link, headers=headers, cookies=cookies).text, 'html.parser')\n",
    "\n",
    "        brand_line = site_html.find('a', {'id': 'bylineInfo'})\n",
    "        if brand_line:\n",
    "            brand_line = brand_line.text\n",
    "            brand_line = brand_line[7:] if \"Brand:\" in brand_line else brand_line[10:-6]\n",
    "        else: brand_line = site_html.find('span', {'id': 'productTitle'}).text.strip().split()[0]\n",
    "        \n",
    "        for idx,item in enumerate(site_html.findAll('script')):\n",
    "            if item.contents and \"origSessionId\" in item.contents[0] and \"subPageType\" in item.contents[0]:\n",
    "                title_idx = idx\n",
    "                break\n",
    "\n",
    "        breadcrums = site_html.find('div', {'id': 'wayfinding-breadcrumbs_feature_div'})\n",
    "        if breadcrums is not None: breadcrums = breadcrums.ul\n",
    "        else: breadcrums = ''\n",
    "        avail_size = []\n",
    "        try:\n",
    "            for sz in site_html.find('select', {'id': 'native_dropdown_selected_size_name'}).findAll('option')[1:]:\n",
    "                avail_size.append(sz.text.strip())\n",
    "        except:\n",
    "            avail_size.append(\"One Size\")\n",
    "\n",
    "        if breadcrums and 'women' in breadcrums.text.lower(): gender = 'Women'\n",
    "        elif breadcrums and'men' in breadcrums.text.lower(): gender = 'Men'\n",
    "        else: gender = 'Unisex'\n",
    "\n",
    "        if site_html.find('span', {'class': 'priceBlockBuyingPriceString'}): price = site_html.find('span', {'class': 'priceBlockBuyingPriceString'}).text.strip().replace('₹','').replace(',','')\n",
    "        elif site_html.find('span', {'class': 'priceBlockSalePriceString'}): price = site_html.find('span', {'class': 'priceBlockSalePriceString'}).text.strip().replace('₹','').replace(',','')\n",
    "        elif site_html.find('span', {'class': 'priceBlockDealPriceString'}): price = site_html.find('span', {'class': 'priceBlockDealPriceString'}).text.strip().replace('₹','').replace(',','')\n",
    "        else: return None\n",
    "            \n",
    "        images = []\n",
    "        for idx, cnt in enumerate(site_html.findAll('script')):\n",
    "            if 'colorImages' in cnt.contents[0]:\n",
    "                img_idx = idx\n",
    "                break\n",
    "        begin = site_html.findAll('script')[img_idx].contents[0].find('colorImages')\n",
    "        end = site_html.findAll('script')[img_idx].contents[0].find('colorToAsin')\n",
    "        json.loads(site_html.findAll('script')[img_idx].contents[0][begin+27:end-4])\n",
    "        for img in json.loads(site_html.findAll('script')[img_idx].contents[0][begin+27:end-4]):\n",
    "            if img['hiRes'] is not None: images.append(img['hiRes'])\n",
    "            else: images.append(img['large'])\n",
    "\n",
    "\n",
    "        product_details = {}\n",
    "        product_details['link']          = \"https://www.amazon.in\" + json.loads(site_html.findAll('script')[title_idx].contents[0])['path']\n",
    "        product_details['name']          = site_html.find('span', {'id': 'productTitle'}).text.strip()\n",
    "        product_details['brand']         = brand_line[7:] if \"Brand:\" in brand_line else brand_line[10:-6]\n",
    "        product_details['category']      = category\n",
    "        product_details['avail_size']    = \", \".join(avail_size)\n",
    "        product_details['price']         = price\n",
    "        product_details['mrp']           = site_html.find('span', {'class': 'priceBlockStrikePriceString'}).text.strip().replace('₹','').replace(',','') if site_html.find('span', {'class': 'priceBlockStrikePriceString'}) else price\n",
    "        product_details['gender']        = gender\n",
    "        product_details['desc']          = site_html.find('div', {'id': 'productDescription'}).p.text if site_html.find('div', {'id': 'productDescription'}) and site_html.find('div', {'id': 'productDescription'}).p else ''\n",
    "        product_details['primary_img']   = images[0]\n",
    "        product_details['secondary_img'] = \", \".join(images[1:])\n",
    "        \n",
    "        return product_details\n",
    "    except Exception as e:\n",
    "        print(e, end=\"---\")\n",
    "        return None"
   ]
  },
  {
   "cell_type": "markdown",
   "metadata": {},
   "source": [
    "## Function to add each product details to db"
   ]
  },
  {
   "cell_type": "code",
   "execution_count": null,
   "metadata": {},
   "outputs": [],
   "source": [
    "def add_to_db(product_details):\n",
    "    try:\n",
    "        cursor.execute(\"INSERT INTO product_details(Website, Product_Link, Product_Name, Product_Brand, Product_Category, Size_Avail, Price, MRP, Gender, Description, Primary_Image_Links, Secondary_Image_Links) VALUES(?,?,?,?, ?,?,?,?, ?,?,?,?)\",\n",
    "                       (\"https://www.amazon.in/\",\n",
    "                        product_details['link'],\n",
    "                        product_details['name'],\n",
    "                        product_details['brand'],\n",
    "                        product_details['category'],\n",
    "                        product_details['avail_size'],\n",
    "                        product_details['price'],\n",
    "                        product_details['mrp'],\n",
    "                        product_details['gender'],\n",
    "                        product_details['desc'],\n",
    "                        product_details['primary_img'],\n",
    "                        product_details['secondary_img'])\n",
    "                      )\n",
    "        conn.commit()\n",
    "        print(\"Added to db\")\n",
    "    except Exception as e:\n",
    "        print(e)\n",
    "        pass"
   ]
  },
  {
   "cell_type": "markdown",
   "metadata": {},
   "source": [
    "# Create db"
   ]
  },
  {
   "cell_type": "code",
   "execution_count": null,
   "metadata": {},
   "outputs": [],
   "source": [
    "conn = sqlite3.connect(\"amazon.db\")\n",
    "cursor = conn.cursor()\n",
    "try:\n",
    "    cursor.execute(\"\"\"CREATE TABLE product_details(\n",
    "                    Website varchar(40) not null,\n",
    "                    Product_Link text PRIMARY KEY,\n",
    "                    Product_Name varchar(50) not null,\n",
    "                    Product_Brand varchar(50) not null,\n",
    "                    Product_Category varchar(50),\n",
    "                    Size_Avail varchar(40) not null,\n",
    "                    Price int not null,\n",
    "                    MRP int not null,\n",
    "                    Gender varchar(15) not null,\n",
    "                    Description text not null,\n",
    "                    Primary_Image_Links text not null,\n",
    "                    Secondary_Image_Links text not null,\n",
    "                    Affiliate_Link text\n",
    "                )\"\"\")\n",
    "    conn.commit()\n",
    "except Exception as e:\n",
    "    print(e)\n",
    "    pass"
   ]
  },
  {
   "cell_type": "markdown",
   "metadata": {},
   "source": [
    "# Get product details and save to db directly"
   ]
  },
  {
   "cell_type": "markdown",
   "metadata": {},
   "source": [
    "### Save links to file / extract links from file (to avoid collecting links again in case of notebook crash)"
   ]
  },
  {
   "cell_type": "code",
   "execution_count": null,
   "metadata": {},
   "outputs": [],
   "source": [
    "#all_details=[]\n",
    "start = 0\n",
    "for i, link in enumerate(all_links[start:]):\n",
    "    print(i+start, end=\": \")\n",
    "    data=get_details(link[0],link[1])\n",
    "    add_to_db(data)\n",
    "    #all_details.append(data)\n",
    "    print(link[0], end=\"\\n\\n\")"
   ]
  },
  {
   "cell_type": "markdown",
   "metadata": {},
   "source": [
    "#  --OR-- get all product details first and then add all to db "
   ]
  },
  {
   "cell_type": "code",
   "execution_count": null,
   "metadata": {},
   "outputs": [],
   "source": [
    "all_details=[]\n",
    "for i, link in enumerate(all_links):\n",
    "    print(i, end=\": \")\n",
    "    data=get_details(link[0],link[1])\n",
    "    #add_to_db(data)\n",
    "    all_details.append(data)\n",
    "    print(link[0], end=\"\\n\\n\")"
   ]
  },
  {
   "cell_type": "code",
   "execution_count": null,
   "metadata": {},
   "outputs": [],
   "source": [
    "for i, product_detail in enumerate(all_details):\n",
    "    print(i, end=\": \")\n",
    "    #data=get_details(link[0],link[1])\n",
    "    add_to_db(data)\n",
    "    #all_details.append(data)\n",
    "    print(link[0], end=\"\\n\\n\")"
   ]
  },
  {
   "cell_type": "markdown",
   "metadata": {},
   "source": [
    "# Check if data added in db and close connection"
   ]
  },
  {
   "cell_type": "code",
   "execution_count": null,
   "metadata": {},
   "outputs": [],
   "source": [
    "cursor.execute(\"select Product_link from product_details\")\n",
    "rows = cursor.fetchall()\n",
    "len(rows)"
   ]
  },
  {
   "cell_type": "code",
   "execution_count": null,
   "metadata": {},
   "outputs": [],
   "source": []
  },
  {
   "cell_type": "code",
   "execution_count": null,
   "metadata": {},
   "outputs": [],
   "source": [
    "conn.close()"
   ]
  },
  {
   "cell_type": "code",
   "execution_count": null,
   "metadata": {},
   "outputs": [],
   "source": []
  }
 ],
 "metadata": {
  "kernelspec": {
   "display_name": "Python 3",
   "language": "python",
   "name": "python3"
  },
  "language_info": {
   "codemirror_mode": {
    "name": "ipython",
    "version": 3
   },
   "file_extension": ".py",
   "mimetype": "text/x-python",
   "name": "python",
   "nbconvert_exporter": "python",
   "pygments_lexer": "ipython3",
   "version": "3.8.5"
  }
 },
 "nbformat": 4,
 "nbformat_minor": 4
}
