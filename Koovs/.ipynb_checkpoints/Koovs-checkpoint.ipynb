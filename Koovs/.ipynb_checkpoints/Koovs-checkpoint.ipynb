{
 "cells": [
  {
   "cell_type": "code",
   "execution_count": 1,
   "metadata": {},
   "outputs": [],
   "source": [
    "import time\n",
    "import re\n",
    "import requests as rt\n",
    "import bs4\n",
    "import json\n",
    "import warnings\n",
    "from selenium import webdriver\n",
    "from selenium.webdriver.common.keys import Keys\n",
    "warnings.filterwarnings(\"ignore\")\n",
    "import pickle\n",
    "import numpy\n",
    "import threading\n",
    "import numpy as np\n",
    "import sqlite3 as sq\n",
    "from collections import deque"
   ]
  },
  {
   "cell_type": "code",
   "execution_count": 2,
   "metadata": {},
   "outputs": [],
   "source": [
    "def cleanhtml(raw_html):\n",
    "    cleanr = re.compile('<.*?>')\n",
    "    cleantext = re.sub(cleanr, '', raw_html)\n",
    "    return cleantext"
   ]
  },
  {
   "cell_type": "code",
   "execution_count": 3,
   "metadata": {},
   "outputs": [],
   "source": [
    "def value_tester(index):\n",
    "    print(product_links[index])\n",
    "    print(mrp[index])\n",
    "    print(price[index])\n",
    "    print(description[index])\n",
    "    print(gender[index])\n",
    "    print(brand_names[index])\n",
    "    print(product_names[index])\n",
    "    print(primary_image_links_dict[index])\n",
    "    print(secondary_image_links_dict[index])\n",
    "    print(sizes[index])\n",
    "    "
   ]
  },
  {
   "cell_type": "code",
   "execution_count": 4,
   "metadata": {},
   "outputs": [],
   "source": [
    "headers = {'User-Agent' : 'Mozilla/5.0 (Macintosh; Intel Mac OS X 10_14_5) AppleWebKit/537.36 (KHTML, like Gecko) Chrome/84.0.4147.89 Safari/537.36'}"
   ]
  },
  {
   "cell_type": "markdown",
   "metadata": {},
   "source": [
    "# Women\n"
   ]
  },
  {
   "cell_type": "markdown",
   "metadata": {},
   "source": [
    "## Tops"
   ]
  },
  {
   "cell_type": "code",
   "execution_count": 5,
   "metadata": {},
   "outputs": [],
   "source": [
    "product_links={}\n",
    "counter=0\n",
    "for i in range(1,7):\n",
    "    data=rt.get(f'https://www.koovs.com/search-service/v1/products/listing/complete?href=https%3A%2F%2Fwww.koovs.com%2Fwomen%2Ftops&page-size=100&sort=relevance&page={i}',headers=headers)\n",
    "    data_in_json=json.loads(data.text)\n",
    "    for j in data_in_json['data'][0]['data']:\n",
    "        product_links[counter]='https://www.koovs.com'+j['links'][0]['href']\n",
    "        counter+=1\n",
    "    "
   ]
  },
  {
   "cell_type": "code",
   "execution_count": 6,
   "metadata": {},
   "outputs": [
    {
     "data": {
      "text/plain": [
       "600"
      ]
     },
     "execution_count": 6,
     "metadata": {},
     "output_type": "execute_result"
    }
   ],
   "source": [
    "len(product_links)"
   ]
  },
  {
   "cell_type": "code",
   "execution_count": 7,
   "metadata": {},
   "outputs": [],
   "source": [
    "brand_names={}\n",
    "product_names={}\n",
    "primary_image_links_dict={}\n",
    "secondary_image_links_dict={}\n",
    "sizes={}\n",
    "price={}\n",
    "mrp={}\n",
    "description={}\n",
    "gender={}\n",
    "for i in range(len(product_links)):\n",
    "    data=rt.get(product_links[i],headers=headers)\n",
    "    soup=bs4.BeautifulSoup(data.text,'html.parser')\n",
    "    temp=soup.find_all('script')\n",
    "    for j in temp:\n",
    "        try:\n",
    "            json_data = json.loads(j.contents[0][j.contents[0].index('{'):])\n",
    "            if json_data['productPage']['productData']:\n",
    "                brand_names[i]=json_data['productPage']['productData']['brandName']\n",
    "                product_names[i]=json_data['productPage']['productData']['productName']\n",
    "                img_temp=json_data['productPage']['productData']['imageUrls']\n",
    "                primary_image_links_dict[i]=img_temp[0]\n",
    "                secondary_image_links_dict[i]=img_temp[1:]\n",
    "                price[i]=json_data['productPage']['productData']['discountPrice']\n",
    "                mrp[i]=json_data['productPage']['productData']['price']\n",
    "                gender[i]=json_data['productPage']['productData']['gender']\n",
    "                temp_sizes=[]\n",
    "                for k in json_data['productPage']['productAttribute']['sizes']:\n",
    "                    if k['isOutOfStock'] == False:\n",
    "                        temp_sizes.append(k['code'])\n",
    "                sizes[i]=temp_sizes\n",
    "                soup2=bs4.BeautifulSoup(json_data['productPage']['productData']['productDescription'],'html.parser')\n",
    "                temp_description=[]\n",
    "                for z in soup2.find_all('li'):\n",
    "                    temp_description.append(z.text)\n",
    "                description[i]=' '.join(temp_description)\n",
    "                #break\n",
    "        except:\n",
    "            continue\n",
    "    #break"
   ]
  },
  {
   "cell_type": "code",
   "execution_count": 8,
   "metadata": {},
   "outputs": [
    {
     "data": {
      "text/plain": [
       "(600, 600, 600, 600, 600, 600, 600, 600, 600)"
      ]
     },
     "execution_count": 8,
     "metadata": {},
     "output_type": "execute_result"
    }
   ],
   "source": [
    "len(product_links),len(mrp),len(price),len(description),len(gender),len(brand_names),len(product_names),len(primary_image_links_dict),len(secondary_image_links_dict)"
   ]
  },
  {
   "cell_type": "code",
   "execution_count": 9,
   "metadata": {},
   "outputs": [
    {
     "name": "stdout",
     "output_type": "stream",
     "text": [
      "https://www.koovs.com/blue-saint-womens-tshirts-139170-156171.html\n",
      "699\n",
      "350\n",
      "Made from cotton Round Neckline Placement print Short sleeve Oversized Fit\n",
      "Women\n",
      "Blue Saint\n",
      "Placement Print Oversized Short Sleeve T-Shirt\n",
      "https://product.koovs.com/156171_818657adaf9e4f2db4a95b047028875b_image1_super_zoom.jpg\n",
      "['https://product.koovs.com/156171_818657adaf9e4f2db4a95b047028875b_front_super_zoom.jpg', 'https://product.koovs.com/156171_818657adaf9e4f2db4a95b047028875b_back_super_zoom.jpg', 'https://product.koovs.com/156171_818657adaf9e4f2db4a95b047028875b_left_super_zoom.jpg']\n",
      "['M']\n"
     ]
    }
   ],
   "source": [
    "value_tester(555)"
   ]
  },
  {
   "cell_type": "code",
   "execution_count": 13,
   "metadata": {},
   "outputs": [],
   "source": [
    "con=sq.connect(r\"E:\\GRROOM\\DataBase\\Koovs.db\")  \n",
    "cur=con.cursor()\n",
    "for i in range(len(product_links)):\n",
    "    try:\n",
    "        if i in brand_names.keys() and i in product_names.keys() and i in secondary_image_links_dict.keys() and i in sizes.keys() and i in price.keys() and i in mrp.keys() and i in description.keys() and i in gender.keys()  and i in primary_image_links_dict.keys():\n",
    "            if brand_names[i] != '' and primary_image_links_dict[i] != ''  and product_names[i] != '' and ','.join(secondary_image_links_dict[i]) != '' and ','.join(sizes[i]) != '' and price[i] != '' and mrp[i] != '' and brand_names[i] != '' and description[i] != '' :\n",
    "                cur.execute('insert into product_details  values(%r,%r,%r,%r,%r,%d,%d,%r,%r,%r,%r,%r)'%('https://www.tatacliq.com/',product_links[i],product_names[i],brand_names[i],','.join(set(sizes[i])),price[i],mrp[i],gender[i],description[i],primary_image_links_dict[i],','.join(secondary_image_links_dict[i]),''))\n",
    "    except:\n",
    "        pass\n",
    "con.commit()\n",
    "con.close()"
   ]
  },
  {
   "cell_type": "code",
   "execution_count": null,
   "metadata": {},
   "outputs": [],
   "source": []
  },
  {
   "cell_type": "markdown",
   "metadata": {},
   "source": [
    "## Dresses"
   ]
  },
  {
   "cell_type": "code",
   "execution_count": 14,
   "metadata": {},
   "outputs": [],
   "source": [
    "product_links={}\n",
    "counter=0\n",
    "for i in range(1,7):\n",
    "    data=rt.get(f'https://www.koovs.com/search-service/v1/products/listing/complete?href=https%3A%2F%2Fwww.koovs.com%2Fwomen%2Fdresses&page-size=36&sort=relevance&page={i}',headers=headers)\n",
    "    data_in_json=json.loads(data.text)\n",
    "    for j in data_in_json['data'][0]['data']:\n",
    "        product_links[counter]='https://www.koovs.com'+j['links'][0]['href']\n",
    "        counter+=1\n",
    "    "
   ]
  },
  {
   "cell_type": "code",
   "execution_count": 15,
   "metadata": {},
   "outputs": [
    {
     "data": {
      "text/plain": [
       "216"
      ]
     },
     "execution_count": 15,
     "metadata": {},
     "output_type": "execute_result"
    }
   ],
   "source": [
    "len(product_links)"
   ]
  },
  {
   "cell_type": "code",
   "execution_count": 16,
   "metadata": {},
   "outputs": [],
   "source": [
    "brand_names={}\n",
    "product_names={}\n",
    "primary_image_links_dict={}\n",
    "secondary_image_links_dict={}\n",
    "sizes={}\n",
    "price={}\n",
    "mrp={}\n",
    "description={}\n",
    "gender={}\n",
    "for i in range(len(product_links)):\n",
    "    data=rt.get(product_links[i],headers=headers)\n",
    "    soup=bs4.BeautifulSoup(data.text,'html.parser')\n",
    "    temp=soup.find_all('script')\n",
    "    for j in temp:\n",
    "        try:\n",
    "            json_data = json.loads(j.contents[0][j.contents[0].index('{'):])\n",
    "            if json_data['productPage']['productData']:\n",
    "                brand_names[i]=json_data['productPage']['productData']['brandName']\n",
    "                product_names[i]=json_data['productPage']['productData']['productName']\n",
    "                img_temp=json_data['productPage']['productData']['imageUrls']\n",
    "                primary_image_links_dict[i]=img_temp[0]\n",
    "                secondary_image_links_dict[i]=img_temp[1:]\n",
    "                price[i]=json_data['productPage']['productData']['discountPrice']\n",
    "                mrp[i]=json_data['productPage']['productData']['price']\n",
    "                gender[i]=json_data['productPage']['productData']['gender']\n",
    "                temp_sizes=[]\n",
    "                for k in json_data['productPage']['productAttribute']['sizes']:\n",
    "                    if k['isOutOfStock'] == False:\n",
    "                        temp_sizes.append(k['code'])\n",
    "                sizes[i]=temp_sizes\n",
    "                soup2=bs4.BeautifulSoup(json_data['productPage']['productData']['productDescription'],'html.parser')\n",
    "                temp_description=[]\n",
    "                for z in soup2.find_all('li'):\n",
    "                    temp_description.append(z.text)\n",
    "                description[i]=' '.join(temp_description)\n",
    "                #break\n",
    "        except:\n",
    "            continue\n",
    "    #break"
   ]
  },
  {
   "cell_type": "code",
   "execution_count": 17,
   "metadata": {},
   "outputs": [
    {
     "data": {
      "text/plain": [
       "(216, 216, 216, 216, 216, 216, 216, 216, 216)"
      ]
     },
     "execution_count": 17,
     "metadata": {},
     "output_type": "execute_result"
    }
   ],
   "source": [
    "len(product_links),len(mrp),len(price),len(description),len(gender),len(brand_names),len(product_names),len(primary_image_links_dict),len(secondary_image_links_dict)"
   ]
  },
  {
   "cell_type": "code",
   "execution_count": 18,
   "metadata": {},
   "outputs": [
    {
     "name": "stdout",
     "output_type": "stream",
     "text": [
      "https://www.koovs.com/glamorous-cold-shoulder-asymmetric-dress-144757-161871.html\n",
      "2499\n",
      "500\n",
      "Made from polyester V-neckline with cross cutout  Cold shoulder style Long flared sleeves Asymmetric hem Mini length Regular fit\n",
      "Women\n",
      "Glamorous\n",
      "Cold Shoulder Asymmetric Dress\n",
      "https://product.koovs.com/161871_5fc0664bb6184e6b86c5abcd1b0c3479_image1_super_zoom.jpg\n",
      "['https://product.koovs.com/161871_5fc0664bb6184e6b86c5abcd1b0c3479_front_super_zoom.jpg', 'https://product.koovs.com/161871_5fc0664bb6184e6b86c5abcd1b0c3479_back_super_zoom.jpg', 'https://product.koovs.com/161871_5fc0664bb6184e6b86c5abcd1b0c3479_left_super_zoom.jpg']\n",
      "['M']\n"
     ]
    }
   ],
   "source": [
    "value_tester(200)"
   ]
  },
  {
   "cell_type": "code",
   "execution_count": 19,
   "metadata": {},
   "outputs": [],
   "source": [
    "con=sq.connect(r\"E:\\GRROOM\\DataBase\\Koovs.db\")  \n",
    "cur=con.cursor()\n",
    "for i in range(len(product_links)):\n",
    "    try:\n",
    "        if i in brand_names.keys() and i in product_names.keys() and i in secondary_image_links_dict.keys() and i in sizes.keys() and i in price.keys() and i in mrp.keys() and i in description.keys() and i in gender.keys()  and i in primary_image_links_dict.keys():\n",
    "            if brand_names[i] != '' and primary_image_links_dict[i] != ''  and product_names[i] != '' and ','.join(secondary_image_links_dict[i]) != '' and ','.join(sizes[i]) != '' and price[i] != '' and mrp[i] != '' and brand_names[i] != '' and description[i] != '' :\n",
    "                cur.execute('insert into product_details  values(%r,%r,%r,%r,%r,%d,%d,%r,%r,%r,%r,%r)'%('https://www.tatacliq.com/',product_links[i],product_names[i],brand_names[i],','.join(set(sizes[i])),price[i],mrp[i],gender[i],description[i],primary_image_links_dict[i],','.join(secondary_image_links_dict[i]),''))\n",
    "    except:\n",
    "        pass\n",
    "con.commit()\n",
    "con.close()"
   ]
  },
  {
   "cell_type": "code",
   "execution_count": null,
   "metadata": {},
   "outputs": [],
   "source": []
  },
  {
   "cell_type": "markdown",
   "metadata": {},
   "source": [
    "## Jeans"
   ]
  },
  {
   "cell_type": "code",
   "execution_count": 20,
   "metadata": {
    "collapsed": true
   },
   "outputs": [
    {
     "ename": "JSONDecodeError",
     "evalue": "Expecting value: line 1 column 1 (char 0)",
     "output_type": "error",
     "traceback": [
      "\u001b[1;31m---------------------------------------------------------------------------\u001b[0m",
      "\u001b[1;31mJSONDecodeError\u001b[0m                           Traceback (most recent call last)",
      "\u001b[1;32m<ipython-input-20-ae756f853a31>\u001b[0m in \u001b[0;36m<module>\u001b[1;34m\u001b[0m\n\u001b[0;32m      3\u001b[0m \u001b[1;32mfor\u001b[0m \u001b[0mi\u001b[0m \u001b[1;32min\u001b[0m \u001b[0mrange\u001b[0m\u001b[1;33m(\u001b[0m\u001b[1;36m1\u001b[0m\u001b[1;33m,\u001b[0m\u001b[1;36m7\u001b[0m\u001b[1;33m)\u001b[0m\u001b[1;33m:\u001b[0m\u001b[1;33m\u001b[0m\u001b[1;33m\u001b[0m\u001b[0m\n\u001b[0;32m      4\u001b[0m     \u001b[0mdata\u001b[0m\u001b[1;33m=\u001b[0m\u001b[0mrt\u001b[0m\u001b[1;33m.\u001b[0m\u001b[0mget\u001b[0m\u001b[1;33m(\u001b[0m\u001b[1;34mf'https://www.koovs.com/search-service/v1/products/listing/complete?href=https%3A%2F%2Fwww.koovs.com%2Fwomen%2Fjeans&page-size=36&sort=relevance&page={i}'\u001b[0m\u001b[1;33m,\u001b[0m\u001b[0mheaders\u001b[0m\u001b[1;33m=\u001b[0m\u001b[0mheaders\u001b[0m\u001b[1;33m)\u001b[0m\u001b[1;33m\u001b[0m\u001b[1;33m\u001b[0m\u001b[0m\n\u001b[1;32m----> 5\u001b[1;33m     \u001b[0mdata_in_json\u001b[0m\u001b[1;33m=\u001b[0m\u001b[0mjson\u001b[0m\u001b[1;33m.\u001b[0m\u001b[0mloads\u001b[0m\u001b[1;33m(\u001b[0m\u001b[0mdata\u001b[0m\u001b[1;33m.\u001b[0m\u001b[0mtext\u001b[0m\u001b[1;33m)\u001b[0m\u001b[1;33m\u001b[0m\u001b[1;33m\u001b[0m\u001b[0m\n\u001b[0m\u001b[0;32m      6\u001b[0m     \u001b[1;32mfor\u001b[0m \u001b[0mj\u001b[0m \u001b[1;32min\u001b[0m \u001b[0mdata_in_json\u001b[0m\u001b[1;33m[\u001b[0m\u001b[1;34m'data'\u001b[0m\u001b[1;33m]\u001b[0m\u001b[1;33m[\u001b[0m\u001b[1;36m0\u001b[0m\u001b[1;33m]\u001b[0m\u001b[1;33m[\u001b[0m\u001b[1;34m'data'\u001b[0m\u001b[1;33m]\u001b[0m\u001b[1;33m:\u001b[0m\u001b[1;33m\u001b[0m\u001b[1;33m\u001b[0m\u001b[0m\n\u001b[0;32m      7\u001b[0m         \u001b[0mproduct_links\u001b[0m\u001b[1;33m[\u001b[0m\u001b[0mcounter\u001b[0m\u001b[1;33m]\u001b[0m\u001b[1;33m=\u001b[0m\u001b[1;34m'https://www.koovs.com'\u001b[0m\u001b[1;33m+\u001b[0m\u001b[0mj\u001b[0m\u001b[1;33m[\u001b[0m\u001b[1;34m'links'\u001b[0m\u001b[1;33m]\u001b[0m\u001b[1;33m[\u001b[0m\u001b[1;36m0\u001b[0m\u001b[1;33m]\u001b[0m\u001b[1;33m[\u001b[0m\u001b[1;34m'href'\u001b[0m\u001b[1;33m]\u001b[0m\u001b[1;33m\u001b[0m\u001b[1;33m\u001b[0m\u001b[0m\n",
      "\u001b[1;32m~\\anaconda3\\lib\\json\\__init__.py\u001b[0m in \u001b[0;36mloads\u001b[1;34m(s, cls, object_hook, parse_float, parse_int, parse_constant, object_pairs_hook, **kw)\u001b[0m\n\u001b[0;32m    355\u001b[0m             \u001b[0mparse_int\u001b[0m \u001b[1;32mis\u001b[0m \u001b[1;32mNone\u001b[0m \u001b[1;32mand\u001b[0m \u001b[0mparse_float\u001b[0m \u001b[1;32mis\u001b[0m \u001b[1;32mNone\u001b[0m \u001b[1;32mand\u001b[0m\u001b[1;33m\u001b[0m\u001b[1;33m\u001b[0m\u001b[0m\n\u001b[0;32m    356\u001b[0m             parse_constant is None and object_pairs_hook is None and not kw):\n\u001b[1;32m--> 357\u001b[1;33m         \u001b[1;32mreturn\u001b[0m \u001b[0m_default_decoder\u001b[0m\u001b[1;33m.\u001b[0m\u001b[0mdecode\u001b[0m\u001b[1;33m(\u001b[0m\u001b[0ms\u001b[0m\u001b[1;33m)\u001b[0m\u001b[1;33m\u001b[0m\u001b[1;33m\u001b[0m\u001b[0m\n\u001b[0m\u001b[0;32m    358\u001b[0m     \u001b[1;32mif\u001b[0m \u001b[0mcls\u001b[0m \u001b[1;32mis\u001b[0m \u001b[1;32mNone\u001b[0m\u001b[1;33m:\u001b[0m\u001b[1;33m\u001b[0m\u001b[1;33m\u001b[0m\u001b[0m\n\u001b[0;32m    359\u001b[0m         \u001b[0mcls\u001b[0m \u001b[1;33m=\u001b[0m \u001b[0mJSONDecoder\u001b[0m\u001b[1;33m\u001b[0m\u001b[1;33m\u001b[0m\u001b[0m\n",
      "\u001b[1;32m~\\anaconda3\\lib\\json\\decoder.py\u001b[0m in \u001b[0;36mdecode\u001b[1;34m(self, s, _w)\u001b[0m\n\u001b[0;32m    335\u001b[0m \u001b[1;33m\u001b[0m\u001b[0m\n\u001b[0;32m    336\u001b[0m         \"\"\"\n\u001b[1;32m--> 337\u001b[1;33m         \u001b[0mobj\u001b[0m\u001b[1;33m,\u001b[0m \u001b[0mend\u001b[0m \u001b[1;33m=\u001b[0m \u001b[0mself\u001b[0m\u001b[1;33m.\u001b[0m\u001b[0mraw_decode\u001b[0m\u001b[1;33m(\u001b[0m\u001b[0ms\u001b[0m\u001b[1;33m,\u001b[0m \u001b[0midx\u001b[0m\u001b[1;33m=\u001b[0m\u001b[0m_w\u001b[0m\u001b[1;33m(\u001b[0m\u001b[0ms\u001b[0m\u001b[1;33m,\u001b[0m \u001b[1;36m0\u001b[0m\u001b[1;33m)\u001b[0m\u001b[1;33m.\u001b[0m\u001b[0mend\u001b[0m\u001b[1;33m(\u001b[0m\u001b[1;33m)\u001b[0m\u001b[1;33m)\u001b[0m\u001b[1;33m\u001b[0m\u001b[1;33m\u001b[0m\u001b[0m\n\u001b[0m\u001b[0;32m    338\u001b[0m         \u001b[0mend\u001b[0m \u001b[1;33m=\u001b[0m \u001b[0m_w\u001b[0m\u001b[1;33m(\u001b[0m\u001b[0ms\u001b[0m\u001b[1;33m,\u001b[0m \u001b[0mend\u001b[0m\u001b[1;33m)\u001b[0m\u001b[1;33m.\u001b[0m\u001b[0mend\u001b[0m\u001b[1;33m(\u001b[0m\u001b[1;33m)\u001b[0m\u001b[1;33m\u001b[0m\u001b[1;33m\u001b[0m\u001b[0m\n\u001b[0;32m    339\u001b[0m         \u001b[1;32mif\u001b[0m \u001b[0mend\u001b[0m \u001b[1;33m!=\u001b[0m \u001b[0mlen\u001b[0m\u001b[1;33m(\u001b[0m\u001b[0ms\u001b[0m\u001b[1;33m)\u001b[0m\u001b[1;33m:\u001b[0m\u001b[1;33m\u001b[0m\u001b[1;33m\u001b[0m\u001b[0m\n",
      "\u001b[1;32m~\\anaconda3\\lib\\json\\decoder.py\u001b[0m in \u001b[0;36mraw_decode\u001b[1;34m(self, s, idx)\u001b[0m\n\u001b[0;32m    353\u001b[0m             \u001b[0mobj\u001b[0m\u001b[1;33m,\u001b[0m \u001b[0mend\u001b[0m \u001b[1;33m=\u001b[0m \u001b[0mself\u001b[0m\u001b[1;33m.\u001b[0m\u001b[0mscan_once\u001b[0m\u001b[1;33m(\u001b[0m\u001b[0ms\u001b[0m\u001b[1;33m,\u001b[0m \u001b[0midx\u001b[0m\u001b[1;33m)\u001b[0m\u001b[1;33m\u001b[0m\u001b[1;33m\u001b[0m\u001b[0m\n\u001b[0;32m    354\u001b[0m         \u001b[1;32mexcept\u001b[0m \u001b[0mStopIteration\u001b[0m \u001b[1;32mas\u001b[0m \u001b[0merr\u001b[0m\u001b[1;33m:\u001b[0m\u001b[1;33m\u001b[0m\u001b[1;33m\u001b[0m\u001b[0m\n\u001b[1;32m--> 355\u001b[1;33m             \u001b[1;32mraise\u001b[0m \u001b[0mJSONDecodeError\u001b[0m\u001b[1;33m(\u001b[0m\u001b[1;34m\"Expecting value\"\u001b[0m\u001b[1;33m,\u001b[0m \u001b[0ms\u001b[0m\u001b[1;33m,\u001b[0m \u001b[0merr\u001b[0m\u001b[1;33m.\u001b[0m\u001b[0mvalue\u001b[0m\u001b[1;33m)\u001b[0m \u001b[1;32mfrom\u001b[0m \u001b[1;32mNone\u001b[0m\u001b[1;33m\u001b[0m\u001b[1;33m\u001b[0m\u001b[0m\n\u001b[0m\u001b[0;32m    356\u001b[0m         \u001b[1;32mreturn\u001b[0m \u001b[0mobj\u001b[0m\u001b[1;33m,\u001b[0m \u001b[0mend\u001b[0m\u001b[1;33m\u001b[0m\u001b[1;33m\u001b[0m\u001b[0m\n",
      "\u001b[1;31mJSONDecodeError\u001b[0m: Expecting value: line 1 column 1 (char 0)"
     ]
    }
   ],
   "source": [
    "product_links={}\n",
    "counter=0\n",
    "for i in range(1,7):\n",
    "    data=rt.get(f'https://www.koovs.com/search-service/v1/products/listing/complete?href=https%3A%2F%2Fwww.koovs.com%2Fwomen%2Fjeans&page-size=36&sort=relevance&page={i}',headers=headers)\n",
    "    data_in_json=json.loads(data.text)\n",
    "    for j in data_in_json['data'][0]['data']:\n",
    "        product_links[counter]='https://www.koovs.com'+j['links'][0]['href']\n",
    "        counter+=1\n",
    "    "
   ]
  },
  {
   "cell_type": "code",
   "execution_count": 23,
   "metadata": {},
   "outputs": [
    {
     "data": {
      "text/plain": [
       "134"
      ]
     },
     "execution_count": 23,
     "metadata": {},
     "output_type": "execute_result"
    }
   ],
   "source": [
    "len(product_links)"
   ]
  },
  {
   "cell_type": "code",
   "execution_count": 24,
   "metadata": {},
   "outputs": [],
   "source": [
    "brand_names={}\n",
    "product_names={}\n",
    "primary_image_links_dict={}\n",
    "secondary_image_links_dict={}\n",
    "sizes={}\n",
    "price={}\n",
    "mrp={}\n",
    "description={}\n",
    "gender={}\n",
    "for i in range(len(product_links)):\n",
    "    data=rt.get(product_links[i],headers=headers)\n",
    "    soup=bs4.BeautifulSoup(data.text,'html.parser')\n",
    "    temp=soup.find_all('script')\n",
    "    for j in temp:\n",
    "        try:\n",
    "            json_data = json.loads(j.contents[0][j.contents[0].index('{'):])\n",
    "            if json_data['productPage']['productData']:\n",
    "                brand_names[i]=json_data['productPage']['productData']['brandName']\n",
    "                product_names[i]=json_data['productPage']['productData']['productName']\n",
    "                img_temp=json_data['productPage']['productData']['imageUrls']\n",
    "                primary_image_links_dict[i]=img_temp[0]\n",
    "                secondary_image_links_dict[i]=img_temp[1:]\n",
    "                price[i]=json_data['productPage']['productData']['discountPrice']\n",
    "                mrp[i]=json_data['productPage']['productData']['price']\n",
    "                gender[i]=json_data['productPage']['productData']['gender']\n",
    "                temp_sizes=[]\n",
    "                for k in json_data['productPage']['productAttribute']['sizes']:\n",
    "                    if k['isOutOfStock'] == False:\n",
    "                        temp_sizes.append(k['code'])\n",
    "                sizes[i]=temp_sizes\n",
    "                soup2=bs4.BeautifulSoup(json_data['productPage']['productData']['productDescription'],'html.parser')\n",
    "                temp_description=[]\n",
    "                for z in soup2.find_all('li'):\n",
    "                    temp_description.append(z.text)\n",
    "                description[i]=' '.join(temp_description)\n",
    "                #break\n",
    "        except:\n",
    "            continue\n",
    "    #break"
   ]
  },
  {
   "cell_type": "code",
   "execution_count": 25,
   "metadata": {},
   "outputs": [
    {
     "data": {
      "text/plain": [
       "(134, 134, 134, 134, 134, 134, 134, 134, 134)"
      ]
     },
     "execution_count": 25,
     "metadata": {},
     "output_type": "execute_result"
    }
   ],
   "source": [
    "len(product_links),len(mrp),len(price),len(description),len(gender),len(brand_names),len(product_names),len(primary_image_links_dict),len(secondary_image_links_dict)"
   ]
  },
  {
   "cell_type": "code",
   "execution_count": 26,
   "metadata": {},
   "outputs": [
    {
     "name": "stdout",
     "output_type": "stream",
     "text": [
      "https://www.koovs.com/kultprit-navy-skinny-fit-jeans-145550-162690.html\n",
      "1999\n",
      "999\n",
      "Made from cotton-spandex blend Elasticated waist with button closure Four pockets Acid-wash effect Bow detailing Cropped length Skinny fit\n",
      "Women\n",
      "Kultprit\n",
      "Stone Wash Bow Detailing Jeans\n",
      "https://product.koovs.com/162690_012a0f93bac5487ca8aea1808790a791_image1_super_zoom.jpg\n",
      "['https://product.koovs.com/162690_012a0f93bac5487ca8aea1808790a791_front_super_zoom.jpg', 'https://product.koovs.com/162690_012a0f93bac5487ca8aea1808790a791_back_super_zoom.jpg', 'https://product.koovs.com/162690_012a0f93bac5487ca8aea1808790a791_left_super_zoom.jpg', 'https://product.koovs.com/162690_012a0f93bac5487ca8aea1808790a791_right_super_zoom.jpg']\n",
      "['S', 'M', 'L', 'XL']\n"
     ]
    }
   ],
   "source": [
    "value_tester(100)"
   ]
  },
  {
   "cell_type": "code",
   "execution_count": null,
   "metadata": {},
   "outputs": [],
   "source": []
  },
  {
   "cell_type": "code",
   "execution_count": 27,
   "metadata": {},
   "outputs": [],
   "source": [
    "con=sq.connect(r\"E:\\GRROOM\\DataBase\\Koovs.db\")  \n",
    "cur=con.cursor()\n",
    "for i in range(len(product_links)):\n",
    "    try:\n",
    "        if i in brand_names.keys() and i in product_names.keys() and i in secondary_image_links_dict.keys() and i in sizes.keys() and i in price.keys() and i in mrp.keys() and i in description.keys() and i in gender.keys()  and i in primary_image_links_dict.keys():\n",
    "            if brand_names[i] != '' and primary_image_links_dict[i] != ''  and product_names[i] != '' and ','.join(secondary_image_links_dict[i]) != '' and ','.join(sizes[i]) != '' and price[i] != '' and mrp[i] != '' and brand_names[i] != '' and description[i] != '' :\n",
    "                cur.execute('insert into product_details  values(%r,%r,%r,%r,%r,%d,%d,%r,%r,%r,%r,%r)'%('https://www.tatacliq.com/',product_links[i],product_names[i],brand_names[i],','.join(set(sizes[i])),price[i],mrp[i],gender[i],description[i],primary_image_links_dict[i],','.join(secondary_image_links_dict[i]),''))\n",
    "    except:\n",
    "        pass\n",
    "con.commit()\n",
    "con.close()"
   ]
  },
  {
   "cell_type": "code",
   "execution_count": null,
   "metadata": {},
   "outputs": [],
   "source": []
  },
  {
   "cell_type": "markdown",
   "metadata": {},
   "source": [
    "## Skirts"
   ]
  },
  {
   "cell_type": "code",
   "execution_count": 32,
   "metadata": {},
   "outputs": [],
   "source": [
    "product_links={}\n",
    "counter=0\n",
    "for i in range(0,7):\n",
    "    try:\n",
    "        data=rt.get(f'https://www.koovs.com/search-service/v1/products/listing/complete?href=https%3A%2F%2Fwww.koovs.com%2Fwomen%2Fskirts&page-size=36&sort=relevance&page={0}',headers=headers)\n",
    "        data_in_json=json.loads(data.text)\n",
    "        for j in data_in_json['data'][0]['data']:\n",
    "            product_links[counter]='https://www.koovs.com'+j['links'][0]['href']\n",
    "            counter+=1\n",
    "    except:\n",
    "        continue"
   ]
  },
  {
   "cell_type": "code",
   "execution_count": 33,
   "metadata": {},
   "outputs": [
    {
     "data": {
      "text/plain": [
       "216"
      ]
     },
     "execution_count": 33,
     "metadata": {},
     "output_type": "execute_result"
    }
   ],
   "source": [
    "len(product_links)"
   ]
  },
  {
   "cell_type": "code",
   "execution_count": 34,
   "metadata": {},
   "outputs": [],
   "source": [
    "brand_names={}\n",
    "product_names={}\n",
    "primary_image_links_dict={}\n",
    "secondary_image_links_dict={}\n",
    "sizes={}\n",
    "price={}\n",
    "mrp={}\n",
    "description={}\n",
    "gender={}\n",
    "for i in range(len(product_links)):\n",
    "    data=rt.get(product_links[i],headers=headers)\n",
    "    soup=bs4.BeautifulSoup(data.text,'html.parser')\n",
    "    temp=soup.find_all('script')\n",
    "    for j in temp:\n",
    "        try:\n",
    "            json_data = json.loads(j.contents[0][j.contents[0].index('{'):])\n",
    "            if json_data['productPage']['productData']:\n",
    "                brand_names[i]=json_data['productPage']['productData']['brandName']\n",
    "                product_names[i]=json_data['productPage']['productData']['productName']\n",
    "                img_temp=json_data['productPage']['productData']['imageUrls']\n",
    "                primary_image_links_dict[i]=img_temp[0]\n",
    "                secondary_image_links_dict[i]=img_temp[1:]\n",
    "                price[i]=json_data['productPage']['productData']['discountPrice']\n",
    "                mrp[i]=json_data['productPage']['productData']['price']\n",
    "                gender[i]=json_data['productPage']['productData']['gender']\n",
    "                temp_sizes=[]\n",
    "                for k in json_data['productPage']['productAttribute']['sizes']:\n",
    "                    if k['isOutOfStock'] == False:\n",
    "                        temp_sizes.append(k['code'])\n",
    "                sizes[i]=temp_sizes\n",
    "                soup2=bs4.BeautifulSoup(json_data['productPage']['productData']['productDescription'],'html.parser')\n",
    "                temp_description=[]\n",
    "                for z in soup2.find_all('li'):\n",
    "                    temp_description.append(z.text)\n",
    "                description[i]=' '.join(temp_description)\n",
    "                #break\n",
    "        except:\n",
    "            continue\n",
    "    #break"
   ]
  },
  {
   "cell_type": "code",
   "execution_count": 35,
   "metadata": {},
   "outputs": [
    {
     "data": {
      "text/plain": [
       "(216, 216, 216, 216, 216, 216, 216, 216, 216)"
      ]
     },
     "execution_count": 35,
     "metadata": {},
     "output_type": "execute_result"
    }
   ],
   "source": [
    "len(product_links),len(mrp),len(price),len(description),len(gender),len(brand_names),len(product_names),len(primary_image_links_dict),len(secondary_image_links_dict)"
   ]
  },
  {
   "cell_type": "code",
   "execution_count": 37,
   "metadata": {},
   "outputs": [
    {
     "name": "stdout",
     "output_type": "stream",
     "text": [
      "https://www.koovs.com/blue-saint-womens-midi-skirts-150946-168164.html\n",
      "1199\n",
      "839\n",
      "Made from cotton Elasticated high waist Pleated design Tie-knot front Midi length  Regular fit   \n",
      "Women\n",
      "D'BASIC\n",
      "Tie-knot Waist Midi Skirt\n",
      "https://product.koovs.com/168164_6edf7895a52f481a8a90bd4467066e33_image1_super_zoom.jpg\n",
      "['https://product.koovs.com/168164_6edf7895a52f481a8a90bd4467066e33_front_super_zoom.jpg', 'https://product.koovs.com/168164_6edf7895a52f481a8a90bd4467066e33_back_super_zoom.jpg', 'https://product.koovs.com/168164_6edf7895a52f481a8a90bd4467066e33_left_super_zoom.jpg']\n",
      "['S', 'M', 'L']\n"
     ]
    }
   ],
   "source": [
    "value_tester(200)"
   ]
  },
  {
   "cell_type": "code",
   "execution_count": 38,
   "metadata": {},
   "outputs": [],
   "source": [
    "con=sq.connect(r\"E:\\GRROOM\\DataBase\\Koovs.db\")  \n",
    "cur=con.cursor()\n",
    "for i in range(len(product_links)):\n",
    "    try:\n",
    "        if i in brand_names.keys() and i in product_names.keys() and i in secondary_image_links_dict.keys() and i in sizes.keys() and i in price.keys() and i in mrp.keys() and i in description.keys() and i in gender.keys()  and i in primary_image_links_dict.keys():\n",
    "            if brand_names[i] != '' and primary_image_links_dict[i] != ''  and product_names[i] != '' and ','.join(secondary_image_links_dict[i]) != '' and ','.join(sizes[i]) != '' and price[i] != '' and mrp[i] != '' and brand_names[i] != '' and description[i] != '' :\n",
    "                cur.execute('insert into product_details  values(%r,%r,%r,%r,%r,%d,%d,%r,%r,%r,%r,%r)'%('https://www.tatacliq.com/',product_links[i],product_names[i],brand_names[i],','.join(set(sizes[i])),price[i],mrp[i],gender[i],description[i],primary_image_links_dict[i],','.join(secondary_image_links_dict[i]),''))\n",
    "    except:\n",
    "        pass\n",
    "con.commit()\n",
    "con.close()"
   ]
  },
  {
   "cell_type": "code",
   "execution_count": null,
   "metadata": {},
   "outputs": [],
   "source": []
  },
  {
   "cell_type": "markdown",
   "metadata": {},
   "source": [
    "## Leggings"
   ]
  },
  {
   "cell_type": "code",
   "execution_count": 39,
   "metadata": {},
   "outputs": [],
   "source": [
    "product_links={}\n",
    "counter=0\n",
    "for i in range(0,7):\n",
    "    try:\n",
    "        data=rt.get(f'https://www.koovs.com/search-service/v1/products/listing/complete?href=https%3A%2F%2Fwww.koovs.com%2Fwomen%2Ftrousers-and-leggings%2Fsortby-latest&page-size=36&sort=relevance&page={i}',headers=headers)\n",
    "        data_in_json=json.loads(data.text)\n",
    "        for j in data_in_json['data'][0]['data']:\n",
    "            product_links[counter]='https://www.koovs.com'+j['links'][0]['href']\n",
    "            counter+=1\n",
    "    except:\n",
    "        continue"
   ]
  },
  {
   "cell_type": "code",
   "execution_count": 40,
   "metadata": {},
   "outputs": [
    {
     "data": {
      "text/plain": [
       "99"
      ]
     },
     "execution_count": 40,
     "metadata": {},
     "output_type": "execute_result"
    }
   ],
   "source": [
    "len(product_links)"
   ]
  },
  {
   "cell_type": "code",
   "execution_count": 41,
   "metadata": {},
   "outputs": [],
   "source": [
    "brand_names={}\n",
    "product_names={}\n",
    "primary_image_links_dict={}\n",
    "secondary_image_links_dict={}\n",
    "sizes={}\n",
    "price={}\n",
    "mrp={}\n",
    "description={}\n",
    "gender={}\n",
    "for i in range(len(product_links)):\n",
    "    data=rt.get(product_links[i],headers=headers)\n",
    "    soup=bs4.BeautifulSoup(data.text,'html.parser')\n",
    "    temp=soup.find_all('script')\n",
    "    for j in temp:\n",
    "        try:\n",
    "            json_data = json.loads(j.contents[0][j.contents[0].index('{'):])\n",
    "            if json_data['productPage']['productData']:\n",
    "                brand_names[i]=json_data['productPage']['productData']['brandName']\n",
    "                product_names[i]=json_data['productPage']['productData']['productName']\n",
    "                img_temp=json_data['productPage']['productData']['imageUrls']\n",
    "                primary_image_links_dict[i]=img_temp[0]\n",
    "                secondary_image_links_dict[i]=img_temp[1:]\n",
    "                price[i]=json_data['productPage']['productData']['discountPrice']\n",
    "                mrp[i]=json_data['productPage']['productData']['price']\n",
    "                gender[i]=json_data['productPage']['productData']['gender']\n",
    "                temp_sizes=[]\n",
    "                for k in json_data['productPage']['productAttribute']['sizes']:\n",
    "                    if k['isOutOfStock'] == False:\n",
    "                        temp_sizes.append(k['code'])\n",
    "                sizes[i]=temp_sizes\n",
    "                soup2=bs4.BeautifulSoup(json_data['productPage']['productData']['productDescription'],'html.parser')\n",
    "                temp_description=[]\n",
    "                for z in soup2.find_all('li'):\n",
    "                    temp_description.append(z.text)\n",
    "                description[i]=' '.join(temp_description)\n",
    "                #break\n",
    "        except:\n",
    "            continue\n",
    "    #break"
   ]
  },
  {
   "cell_type": "code",
   "execution_count": 42,
   "metadata": {},
   "outputs": [
    {
     "name": "stdout",
     "output_type": "stream",
     "text": [
      "https://www.koovs.com/onezero-womens-leggings-148735-165948.html\n",
      "1299\n",
      "909\n",
      "Made from poly-elastane blend  Elasticated waistband High-waist style Single side patch pocket Breathable and lightweight Active stretch Reflective brand logo Cropped length Bodycon fit\n",
      "Women\n",
      "ONE/ZERO BY KOOVS\n",
      "Cropped Training Leggings\n",
      "https://product.koovs.com/165948_80ca9271e801465bba734dbc74a31aa5_image1_super_zoom.jpg\n",
      "['https://product.koovs.com/165948_80ca9271e801465bba734dbc74a31aa5_front_super_zoom.jpg', 'https://product.koovs.com/165948_80ca9271e801465bba734dbc74a31aa5_back_super_zoom.jpg', 'https://product.koovs.com/165948_80ca9271e801465bba734dbc74a31aa5_left_super_zoom.jpg', 'https://product.koovs.com/165948_80ca9271e801465bba734dbc74a31aa5_right_super_zoom.jpg']\n",
      "['S', 'M', 'L', 'XL']\n"
     ]
    }
   ],
   "source": [
    "value_tester(50)"
   ]
  },
  {
   "cell_type": "code",
   "execution_count": 45,
   "metadata": {},
   "outputs": [],
   "source": [
    "con=sq.connect(r\"E:\\GRROOM\\DataBase\\Koovs.db\")  \n",
    "cur=con.cursor()\n",
    "for i in range(len(product_links)):\n",
    "    try:\n",
    "        if i in brand_names.keys() and i in product_names.keys() and i in secondary_image_links_dict.keys() and i in sizes.keys() and i in price.keys() and i in mrp.keys() and i in description.keys() and i in gender.keys()  and i in primary_image_links_dict.keys():\n",
    "            if brand_names[i] != '' and primary_image_links_dict[i] != ''  and product_names[i] != '' and ','.join(secondary_image_links_dict[i]) != '' and ','.join(sizes[i]) != '' and price[i] != '' and mrp[i] != '' and brand_names[i] != '' and description[i] != '' :\n",
    "                cur.execute('insert into product_details  values(%r,%r,%r,%r,%r,%d,%d,%r,%r,%r,%r,%r)'%('https://www.tatacliq.com/',product_links[i],product_names[i],brand_names[i],','.join(set(sizes[i])),price[i],mrp[i],gender[i],description[i],primary_image_links_dict[i],','.join(secondary_image_links_dict[i]),''))\n",
    "    except:\n",
    "        pass\n",
    "con.commit()\n",
    "con.close()"
   ]
  },
  {
   "cell_type": "code",
   "execution_count": null,
   "metadata": {},
   "outputs": [],
   "source": []
  },
  {
   "cell_type": "markdown",
   "metadata": {},
   "source": [
    "## Shorts"
   ]
  },
  {
   "cell_type": "code",
   "execution_count": 46,
   "metadata": {},
   "outputs": [],
   "source": [
    "product_links={}\n",
    "counter=0\n",
    "for i in range(0,7):\n",
    "    try:\n",
    "        data=rt.get(f'https://www.koovs.com/search-service/v1/products/listing/complete?href=https%3A%2F%2Fwww.koovs.com%2Fwomen%2Fshorts&page-size=36&sort=latest&page={i}',headers=headers)\n",
    "        data_in_json=json.loads(data.text)\n",
    "        for j in data_in_json['data'][0]['data']:\n",
    "            product_links[counter]='https://www.koovs.com'+j['links'][0]['href']\n",
    "            counter+=1\n",
    "    except:\n",
    "        continue"
   ]
  },
  {
   "cell_type": "code",
   "execution_count": 47,
   "metadata": {},
   "outputs": [
    {
     "data": {
      "text/plain": [
       "61"
      ]
     },
     "execution_count": 47,
     "metadata": {},
     "output_type": "execute_result"
    }
   ],
   "source": [
    "len(product_links)"
   ]
  },
  {
   "cell_type": "code",
   "execution_count": 48,
   "metadata": {},
   "outputs": [],
   "source": [
    "brand_names={}\n",
    "product_names={}\n",
    "primary_image_links_dict={}\n",
    "secondary_image_links_dict={}\n",
    "sizes={}\n",
    "price={}\n",
    "mrp={}\n",
    "description={}\n",
    "gender={}\n",
    "for i in range(len(product_links)):\n",
    "    data=rt.get(product_links[i],headers=headers)\n",
    "    soup=bs4.BeautifulSoup(data.text,'html.parser')\n",
    "    temp=soup.find_all('script')\n",
    "    for j in temp:\n",
    "        try:\n",
    "            json_data = json.loads(j.contents[0][j.contents[0].index('{'):])\n",
    "            if json_data['productPage']['productData']:\n",
    "                brand_names[i]=json_data['productPage']['productData']['brandName']\n",
    "                product_names[i]=json_data['productPage']['productData']['productName']\n",
    "                img_temp=json_data['productPage']['productData']['imageUrls']\n",
    "                primary_image_links_dict[i]=img_temp[0]\n",
    "                secondary_image_links_dict[i]=img_temp[1:]\n",
    "                price[i]=json_data['productPage']['productData']['discountPrice']\n",
    "                mrp[i]=json_data['productPage']['productData']['price']\n",
    "                gender[i]=json_data['productPage']['productData']['gender']\n",
    "                temp_sizes=[]\n",
    "                for k in json_data['productPage']['productAttribute']['sizes']:\n",
    "                    if k['isOutOfStock'] == False:\n",
    "                        temp_sizes.append(k['code'])\n",
    "                sizes[i]=temp_sizes\n",
    "                soup2=bs4.BeautifulSoup(json_data['productPage']['productData']['productDescription'],'html.parser')\n",
    "                temp_description=[]\n",
    "                for z in soup2.find_all('li'):\n",
    "                    temp_description.append(z.text)\n",
    "                description[i]=' '.join(temp_description)\n",
    "                #break\n",
    "        except:\n",
    "            continue\n",
    "    #break"
   ]
  },
  {
   "cell_type": "code",
   "execution_count": 49,
   "metadata": {},
   "outputs": [
    {
     "name": "stdout",
     "output_type": "stream",
     "text": [
      "https://www.koovs.com/red-floral-nightwear-women-shorts-144276-161382.html\n",
      "1299\n",
      "568\n",
      "Made from polyester Elasticated waist with draw cord Front tie-up style All over floral print Regular fit Lace hem\n",
      "Women\n",
      "Oxolloxo\n",
      "Graphic Print Shorts\n",
      "https://product.koovs.com/161382_ef98a228823d4475a888ce68a89f3bec_image1_super_zoom.jpg\n",
      "['https://product.koovs.com/161382_ef98a228823d4475a888ce68a89f3bec_front_super_zoom.jpg', 'https://product.koovs.com/161382_ef98a228823d4475a888ce68a89f3bec_back_super_zoom.jpg', 'https://product.koovs.com/161382_ef98a228823d4475a888ce68a89f3bec_left_super_zoom.jpg']\n",
      "['S', 'M', 'L', 'XL']\n"
     ]
    }
   ],
   "source": [
    "value_tester(50)"
   ]
  },
  {
   "cell_type": "code",
   "execution_count": 51,
   "metadata": {},
   "outputs": [],
   "source": [
    "con=sq.connect(r\"E:\\GRROOM\\DataBase\\Koovs.db\")  \n",
    "cur=con.cursor()\n",
    "for i in range(len(product_links)):\n",
    "    try:\n",
    "        if i in brand_names.keys() and i in product_names.keys() and i in secondary_image_links_dict.keys() and i in sizes.keys() and i in price.keys() and i in mrp.keys() and i in description.keys() and i in gender.keys()  and i in primary_image_links_dict.keys():\n",
    "            if brand_names[i] != '' and primary_image_links_dict[i] != ''  and product_names[i] != '' and ','.join(secondary_image_links_dict[i]) != '' and ','.join(sizes[i]) != '' and price[i] != '' and mrp[i] != '' and brand_names[i] != '' and description[i] != '' :\n",
    "                cur.execute('insert into product_details  values(%r,%r,%r,%r,%r,%d,%d,%r,%r,%r,%r,%r)'%('https://www.tatacliq.com/',product_links[i],product_names[i],brand_names[i],','.join(set(sizes[i])),price[i],mrp[i],gender[i],description[i],primary_image_links_dict[i],','.join(secondary_image_links_dict[i]),''))\n",
    "    except:\n",
    "        pass\n",
    "con.commit()\n",
    "con.close()"
   ]
  },
  {
   "cell_type": "code",
   "execution_count": null,
   "metadata": {},
   "outputs": [],
   "source": []
  },
  {
   "cell_type": "markdown",
   "metadata": {},
   "source": [
    "## Coats/Jackets"
   ]
  },
  {
   "cell_type": "code",
   "execution_count": 50,
   "metadata": {},
   "outputs": [
    {
     "data": {
      "text/plain": [
       "113"
      ]
     },
     "execution_count": 50,
     "metadata": {},
     "output_type": "execute_result"
    }
   ],
   "source": [
    "product_links={}\n",
    "counter=0\n",
    "for i in range(0,7):\n",
    "    try:\n",
    "        data=rt.get(f'https://www.koovs.com/search-service/v1/products/listing/complete?href=https%3A%2F%2Fwww.koovs.com%2Fwomen%2Fcoats-and-jackets&page-size=36&sort=relevance&page={i}',headers=headers)\n",
    "        data_in_json=json.loads(data.text)\n",
    "        for j in data_in_json['data'][0]['data']:\n",
    "            product_links[counter]='https://www.koovs.com'+j['links'][0]['href']\n",
    "            counter+=1\n",
    "    except:\n",
    "        continue\n",
    "len(product_links)"
   ]
  },
  {
   "cell_type": "code",
   "execution_count": 52,
   "metadata": {},
   "outputs": [
    {
     "data": {
      "text/plain": [
       "(113, 113, 113, 113, 113, 113, 113, 113, 113)"
      ]
     },
     "execution_count": 52,
     "metadata": {},
     "output_type": "execute_result"
    }
   ],
   "source": [
    "brand_names={}\n",
    "product_names={}\n",
    "primary_image_links_dict={}\n",
    "secondary_image_links_dict={}\n",
    "sizes={}\n",
    "price={}\n",
    "mrp={}\n",
    "description={}\n",
    "gender={}\n",
    "for i in range(len(product_links)):\n",
    "    data=rt.get(product_links[i],headers=headers)\n",
    "    soup=bs4.BeautifulSoup(data.text,'html.parser')\n",
    "    temp=soup.find_all('script')\n",
    "    for j in temp:\n",
    "        try:\n",
    "            json_data = json.loads(j.contents[0][j.contents[0].index('{'):])\n",
    "            if json_data['productPage']['productData']:\n",
    "                brand_names[i]=json_data['productPage']['productData']['brandName']\n",
    "                product_names[i]=json_data['productPage']['productData']['productName']\n",
    "                img_temp=json_data['productPage']['productData']['imageUrls']\n",
    "                primary_image_links_dict[i]=img_temp[0]\n",
    "                secondary_image_links_dict[i]=img_temp[1:]\n",
    "                price[i]=json_data['productPage']['productData']['discountPrice']\n",
    "                mrp[i]=json_data['productPage']['productData']['price']\n",
    "                gender[i]=json_data['productPage']['productData']['gender']\n",
    "                temp_sizes=[]\n",
    "                for k in json_data['productPage']['productAttribute']['sizes']:\n",
    "                    if k['isOutOfStock'] == False:\n",
    "                        temp_sizes.append(k['code'])\n",
    "                sizes[i]=temp_sizes\n",
    "                soup2=bs4.BeautifulSoup(json_data['productPage']['productData']['productDescription'],'html.parser')\n",
    "                temp_description=[]\n",
    "                for z in soup2.find_all('li'):\n",
    "                    temp_description.append(z.text)\n",
    "                description[i]=' '.join(temp_description)\n",
    "                #break\n",
    "        except:\n",
    "            continue\n",
    "    #break\n",
    "len(product_links),len(mrp),len(price),len(description),len(gender),len(brand_names),len(product_names),len(primary_image_links_dict),len(secondary_image_links_dict)"
   ]
  },
  {
   "cell_type": "code",
   "execution_count": 53,
   "metadata": {},
   "outputs": [
    {
     "name": "stdout",
     "output_type": "stream",
     "text": [
      "https://www.koovs.com/kultprit-blacknavy-slim-fit-jacket-145574-162714.html\n",
      "2199\n",
      "1599\n",
      "Made from cotton Spread collar Button-down closure Colour block style Dark wash effect Long sleeves Frayed hem Slim fit\n",
      "Women\n",
      "Kultprit\n",
      "Colour Block Cropped Denim Jacket\n",
      "https://product.koovs.com/162714_b040c25b0a16432497584298960ae559_image1_super_zoom.jpg\n",
      "['https://product.koovs.com/162714_b040c25b0a16432497584298960ae559_front_super_zoom.jpg', 'https://product.koovs.com/162714_b040c25b0a16432497584298960ae559_back_super_zoom.jpg', 'https://product.koovs.com/162714_b040c25b0a16432497584298960ae559_left_super_zoom.jpg', 'https://product.koovs.com/162714_b040c25b0a16432497584298960ae559_right_super_zoom.jpg']\n",
      "['S', 'M', 'L', 'XL']\n"
     ]
    }
   ],
   "source": [
    "value_tester(50)"
   ]
  },
  {
   "cell_type": "code",
   "execution_count": 54,
   "metadata": {},
   "outputs": [],
   "source": [
    "con=sq.connect(r\"E:\\GRROOM\\DataBase\\Koovs.db\")  \n",
    "cur=con.cursor()\n",
    "for i in range(len(product_links)):\n",
    "    try:\n",
    "        if i in brand_names.keys() and i in product_names.keys() and i in secondary_image_links_dict.keys() and i in sizes.keys() and i in price.keys() and i in mrp.keys() and i in description.keys() and i in gender.keys()  and i in primary_image_links_dict.keys():\n",
    "            if brand_names[i] != '' and primary_image_links_dict[i] != ''  and product_names[i] != '' and ','.join(secondary_image_links_dict[i]) != '' and ','.join(sizes[i]) != '' and price[i] != '' and mrp[i] != '' and brand_names[i] != '' and description[i] != '' :\n",
    "                cur.execute('insert into product_details  values(%r,%r,%r,%r,%r,%d,%d,%r,%r,%r,%r,%r)'%('https://www.tatacliq.com/',product_links[i],product_names[i],brand_names[i],','.join(set(sizes[i])),price[i],mrp[i],gender[i],description[i],primary_image_links_dict[i],','.join(secondary_image_links_dict[i]),''))\n",
    "    except:\n",
    "        pass\n",
    "con.commit()\n",
    "con.close()"
   ]
  },
  {
   "cell_type": "code",
   "execution_count": null,
   "metadata": {},
   "outputs": [],
   "source": []
  },
  {
   "cell_type": "markdown",
   "metadata": {},
   "source": [
    "## Shoes"
   ]
  },
  {
   "cell_type": "code",
   "execution_count": 55,
   "metadata": {},
   "outputs": [
    {
     "data": {
      "text/plain": [
       "42"
      ]
     },
     "execution_count": 55,
     "metadata": {},
     "output_type": "execute_result"
    }
   ],
   "source": [
    "product_links={}\n",
    "counter=0\n",
    "for i in range(0,7):\n",
    "    try:\n",
    "        data=rt.get(f'https://www.koovs.com/search-service/v1/products/listing/complete?href=https%3A%2F%2Fwww.koovs.com%2Fwomen%2Fshoes&page-size=36&sort=relevance&page={i}',headers=headers)\n",
    "        data_in_json=json.loads(data.text)\n",
    "        for j in data_in_json['data'][0]['data']:\n",
    "            product_links[counter]='https://www.koovs.com'+j['links'][0]['href']\n",
    "            counter+=1\n",
    "    except:\n",
    "        continue\n",
    "len(product_links)"
   ]
  },
  {
   "cell_type": "code",
   "execution_count": 56,
   "metadata": {},
   "outputs": [
    {
     "data": {
      "text/plain": [
       "(42, 42, 42, 42, 42, 42, 42, 42, 42)"
      ]
     },
     "execution_count": 56,
     "metadata": {},
     "output_type": "execute_result"
    }
   ],
   "source": [
    "brand_names={}\n",
    "product_names={}\n",
    "primary_image_links_dict={}\n",
    "secondary_image_links_dict={}\n",
    "sizes={}\n",
    "price={}\n",
    "mrp={}\n",
    "description={}\n",
    "gender={}\n",
    "for i in range(len(product_links)):\n",
    "    data=rt.get(product_links[i],headers=headers)\n",
    "    soup=bs4.BeautifulSoup(data.text,'html.parser')\n",
    "    temp=soup.find_all('script')\n",
    "    for j in temp:\n",
    "        try:\n",
    "            json_data = json.loads(j.contents[0][j.contents[0].index('{'):])\n",
    "            if json_data['productPage']['productData']:\n",
    "                brand_names[i]=json_data['productPage']['productData']['brandName']\n",
    "                product_names[i]=json_data['productPage']['productData']['productName']\n",
    "                img_temp=json_data['productPage']['productData']['imageUrls']\n",
    "                primary_image_links_dict[i]=img_temp[0]\n",
    "                secondary_image_links_dict[i]=img_temp[1:]\n",
    "                price[i]=json_data['productPage']['productData']['discountPrice']\n",
    "                mrp[i]=json_data['productPage']['productData']['price']\n",
    "                gender[i]=json_data['productPage']['productData']['gender']\n",
    "                temp_sizes=[]\n",
    "                for k in json_data['productPage']['productAttribute']['sizes']:\n",
    "                    if k['isOutOfStock'] == False:\n",
    "                        temp_sizes.append(k['code'])\n",
    "                sizes[i]=temp_sizes\n",
    "                soup2=bs4.BeautifulSoup(json_data['productPage']['productData']['productDescription'],'html.parser')\n",
    "                temp_description=[]\n",
    "                for z in soup2.find_all('li'):\n",
    "                    temp_description.append(z.text)\n",
    "                description[i]=' '.join(temp_description)\n",
    "                #break\n",
    "        except:\n",
    "            continue\n",
    "    #break\n",
    "len(product_links),len(mrp),len(price),len(description),len(gender),len(brand_names),len(product_names),len(primary_image_links_dict),len(secondary_image_links_dict)"
   ]
  },
  {
   "cell_type": "code",
   "execution_count": 62,
   "metadata": {},
   "outputs": [
    {
     "name": "stdout",
     "output_type": "stream",
     "text": [
      "https://www.koovs.com/361-degree-floral-printed-piping-sneakers-139515-156552.html\n",
      "3999\n",
      "800\n",
      "Made from PU Round toe Lace-up closure Floral printed insert Rubber outsole\n",
      "Women\n",
      "361 Degree\n",
      "Floral Printed Piping Sneakers\n",
      "https://product.koovs.com/156552_2d3d8207e8d842e7b8655df53f7406a8_image1_super_zoom.jpg\n",
      "['https://product.koovs.com/156552_2d3d8207e8d842e7b8655df53f7406a8_front_super_zoom.jpg', 'https://product.koovs.com/156552_2d3d8207e8d842e7b8655df53f7406a8_back_super_zoom.jpg', 'https://product.koovs.com/156552_2d3d8207e8d842e7b8655df53f7406a8_left_super_zoom.jpg', 'https://product.koovs.com/156552_2d3d8207e8d842e7b8655df53f7406a8_right_super_zoom.jpg']\n",
      "[]\n"
     ]
    }
   ],
   "source": [
    "value_tester(40)"
   ]
  },
  {
   "cell_type": "code",
   "execution_count": 63,
   "metadata": {},
   "outputs": [],
   "source": [
    "con=sq.connect(r\"E:\\GRROOM\\DataBase\\Koovs.db\")  \n",
    "cur=con.cursor()\n",
    "for i in range(len(product_links)):\n",
    "    try:\n",
    "        if i in brand_names.keys() and i in product_names.keys() and i in secondary_image_links_dict.keys() and i in sizes.keys() and i in price.keys() and i in mrp.keys() and i in description.keys() and i in gender.keys()  and i in primary_image_links_dict.keys():\n",
    "            if brand_names[i] != '' and primary_image_links_dict[i] != ''  and product_names[i] != '' and ','.join(secondary_image_links_dict[i]) != '' and ','.join(sizes[i]) != '' and price[i] != '' and mrp[i] != '' and brand_names[i] != '' and description[i] != '' :\n",
    "                cur.execute('insert into product_details  values(%r,%r,%r,%r,%r,%d,%d,%r,%r,%r,%r,%r)'%('https://www.tatacliq.com/',product_links[i],product_names[i],brand_names[i],','.join(set(sizes[i])),price[i],mrp[i],gender[i],description[i],primary_image_links_dict[i],','.join(secondary_image_links_dict[i]),''))\n",
    "    except:\n",
    "        pass\n",
    "con.commit()\n",
    "con.close()"
   ]
  },
  {
   "cell_type": "code",
   "execution_count": null,
   "metadata": {},
   "outputs": [],
   "source": []
  },
  {
   "cell_type": "markdown",
   "metadata": {},
   "source": [
    "# Men"
   ]
  },
  {
   "cell_type": "markdown",
   "metadata": {},
   "source": [
    "## Shirts"
   ]
  },
  {
   "cell_type": "code",
   "execution_count": 66,
   "metadata": {},
   "outputs": [
    {
     "data": {
      "text/plain": [
       "604"
      ]
     },
     "execution_count": 66,
     "metadata": {},
     "output_type": "execute_result"
    }
   ],
   "source": [
    "product_links={}\n",
    "counter=0\n",
    "for i in range(0,7):\n",
    "    try:\n",
    "        data=rt.get(f'https://www.koovs.com/search-service/v1/products/listing/complete?href=https%3A%2F%2Fwww.koovs.com%2Fmen%2Fshirts&page-size=100&sort=relevance&page={i}',headers=headers)\n",
    "        data_in_json=json.loads(data.text)\n",
    "        for j in data_in_json['data'][0]['data']:\n",
    "            product_links[counter]='https://www.koovs.com'+j['links'][0]['href']\n",
    "            counter+=1\n",
    "    except:\n",
    "        continue\n",
    "len(product_links)"
   ]
  },
  {
   "cell_type": "code",
   "execution_count": 67,
   "metadata": {},
   "outputs": [
    {
     "data": {
      "text/plain": [
       "(604, 604, 604, 604, 604, 604, 604, 604, 604)"
      ]
     },
     "execution_count": 67,
     "metadata": {},
     "output_type": "execute_result"
    }
   ],
   "source": [
    "brand_names={}\n",
    "product_names={}\n",
    "primary_image_links_dict={}\n",
    "secondary_image_links_dict={}\n",
    "sizes={}\n",
    "price={}\n",
    "mrp={}\n",
    "description={}\n",
    "gender={}\n",
    "for i in range(len(product_links)):\n",
    "    data=rt.get(product_links[i],headers=headers)\n",
    "    soup=bs4.BeautifulSoup(data.text,'html.parser')\n",
    "    temp=soup.find_all('script')\n",
    "    for j in temp:\n",
    "        try:\n",
    "            json_data = json.loads(j.contents[0][j.contents[0].index('{'):])\n",
    "            if json_data['productPage']['productData']:\n",
    "                brand_names[i]=json_data['productPage']['productData']['brandName']\n",
    "                product_names[i]=json_data['productPage']['productData']['productName']\n",
    "                img_temp=json_data['productPage']['productData']['imageUrls']\n",
    "                primary_image_links_dict[i]=img_temp[0]\n",
    "                secondary_image_links_dict[i]=img_temp[1:]\n",
    "                price[i]=json_data['productPage']['productData']['discountPrice']\n",
    "                mrp[i]=json_data['productPage']['productData']['price']\n",
    "                gender[i]=json_data['productPage']['productData']['gender']\n",
    "                temp_sizes=[]\n",
    "                for k in json_data['productPage']['productAttribute']['sizes']:\n",
    "                    if k['isOutOfStock'] == False:\n",
    "                        temp_sizes.append(k['code'])\n",
    "                sizes[i]=temp_sizes\n",
    "                soup2=bs4.BeautifulSoup(json_data['productPage']['productData']['productDescription'],'html.parser')\n",
    "                temp_description=[]\n",
    "                for z in soup2.find_all('li'):\n",
    "                    temp_description.append(z.text)\n",
    "                description[i]=' '.join(temp_description)\n",
    "                #break\n",
    "        except:\n",
    "            continue\n",
    "    #break\n",
    "len(product_links),len(mrp),len(price),len(description),len(gender),len(brand_names),len(product_names),len(primary_image_links_dict),len(secondary_image_links_dict)"
   ]
  },
  {
   "cell_type": "code",
   "execution_count": 68,
   "metadata": {},
   "outputs": [
    {
     "name": "stdout",
     "output_type": "stream",
     "text": [
      "https://www.koovs.com/oxolloxo-mens-shirt-152440-169671.html\n",
      "1899\n",
      "1899\n",
      "Made from cotton Spread collar Button-down closure All over tropical print Long sleeves Curved hem Slim fit\n",
      "Men\n",
      "Oxolloxo\n",
      "All Over Tropical Print Shirt \n",
      "https://product.koovs.com/169671_2b099e28161f4265b2d301d7c3301b4a_image1_super_zoom.jpg\n",
      "['https://product.koovs.com/169671_2b099e28161f4265b2d301d7c3301b4a_front_super_zoom.jpg', 'https://product.koovs.com/169671_2b099e28161f4265b2d301d7c3301b4a_back_super_zoom.jpg', 'https://product.koovs.com/169671_2b099e28161f4265b2d301d7c3301b4a_left_super_zoom.jpg', 'https://product.koovs.com/169671_2b099e28161f4265b2d301d7c3301b4a_right_super_zoom.jpg']\n",
      "['S', 'L', 'XL', 'XXL']\n"
     ]
    }
   ],
   "source": [
    "value_tester(40)"
   ]
  },
  {
   "cell_type": "code",
   "execution_count": 69,
   "metadata": {},
   "outputs": [],
   "source": [
    "con=sq.connect(r\"E:\\GRROOM\\DataBase\\Koovs.db\")  \n",
    "cur=con.cursor()\n",
    "for i in range(len(product_links)):\n",
    "    try:\n",
    "        if i in brand_names.keys() and i in product_names.keys() and i in secondary_image_links_dict.keys() and i in sizes.keys() and i in price.keys() and i in mrp.keys() and i in description.keys() and i in gender.keys()  and i in primary_image_links_dict.keys():\n",
    "            if brand_names[i] != '' and primary_image_links_dict[i] != ''  and product_names[i] != '' and ','.join(secondary_image_links_dict[i]) != '' and ','.join(sizes[i]) != '' and price[i] != '' and mrp[i] != '' and brand_names[i] != '' and description[i] != '' :\n",
    "                cur.execute('insert into product_details  values(%r,%r,%r,%r,%r,%d,%d,%r,%r,%r,%r,%r)'%('https://www.tatacliq.com/',product_links[i],product_names[i],brand_names[i],','.join(set(sizes[i])),price[i],mrp[i],gender[i],description[i],primary_image_links_dict[i],','.join(secondary_image_links_dict[i]),''))\n",
    "    except:\n",
    "        pass\n",
    "con.commit()\n",
    "con.close()"
   ]
  },
  {
   "cell_type": "code",
   "execution_count": null,
   "metadata": {},
   "outputs": [],
   "source": []
  },
  {
   "cell_type": "markdown",
   "metadata": {},
   "source": [
    "## Tshirts"
   ]
  },
  {
   "cell_type": "code",
   "execution_count": 70,
   "metadata": {},
   "outputs": [
    {
     "data": {
      "text/plain": [
       "1242"
      ]
     },
     "execution_count": 70,
     "metadata": {},
     "output_type": "execute_result"
    }
   ],
   "source": [
    "product_links={}\n",
    "counter=0\n",
    "for i in range(0,15):\n",
    "    try:\n",
    "        data=rt.get(f'https://www.koovs.com/search-service/v1/products/listing/complete?href=https%3A%2F%2Fwww.koovs.com%2Fmen%2Ft-shirts-and-polo-shirts&page-size=100&sort=relevance&page={i}',headers=headers)\n",
    "        data_in_json=json.loads(data.text)\n",
    "        for j in data_in_json['data'][0]['data']:\n",
    "            product_links[counter]='https://www.koovs.com'+j['links'][0]['href']\n",
    "            counter+=1\n",
    "    except:\n",
    "        continue\n",
    "len(product_links)"
   ]
  },
  {
   "cell_type": "code",
   "execution_count": 71,
   "metadata": {},
   "outputs": [
    {
     "data": {
      "text/plain": [
       "(1242, 1242, 1242, 1242, 1242, 1242, 1242, 1242, 1242)"
      ]
     },
     "execution_count": 71,
     "metadata": {},
     "output_type": "execute_result"
    }
   ],
   "source": [
    "brand_names={}\n",
    "product_names={}\n",
    "primary_image_links_dict={}\n",
    "secondary_image_links_dict={}\n",
    "sizes={}\n",
    "price={}\n",
    "mrp={}\n",
    "description={}\n",
    "gender={}\n",
    "for i in range(len(product_links)):\n",
    "    data=rt.get(product_links[i],headers=headers)\n",
    "    soup=bs4.BeautifulSoup(data.text,'html.parser')\n",
    "    temp=soup.find_all('script')\n",
    "    for j in temp:\n",
    "        try:\n",
    "            json_data = json.loads(j.contents[0][j.contents[0].index('{'):])\n",
    "            if json_data['productPage']['productData']:\n",
    "                brand_names[i]=json_data['productPage']['productData']['brandName']\n",
    "                product_names[i]=json_data['productPage']['productData']['productName']\n",
    "                img_temp=json_data['productPage']['productData']['imageUrls']\n",
    "                primary_image_links_dict[i]=img_temp[0]\n",
    "                secondary_image_links_dict[i]=img_temp[1:]\n",
    "                price[i]=json_data['productPage']['productData']['discountPrice']\n",
    "                mrp[i]=json_data['productPage']['productData']['price']\n",
    "                gender[i]=json_data['productPage']['productData']['gender']\n",
    "                temp_sizes=[]\n",
    "                for k in json_data['productPage']['productAttribute']['sizes']:\n",
    "                    if k['isOutOfStock'] == False:\n",
    "                        temp_sizes.append(k['code'])\n",
    "                sizes[i]=temp_sizes\n",
    "                soup2=bs4.BeautifulSoup(json_data['productPage']['productData']['productDescription'],'html.parser')\n",
    "                temp_description=[]\n",
    "                for z in soup2.find_all('li'):\n",
    "                    temp_description.append(z.text)\n",
    "                description[i]=' '.join(temp_description)\n",
    "                #break\n",
    "        except:\n",
    "            continue\n",
    "    #break\n",
    "len(product_links),len(mrp),len(price),len(description),len(gender),len(brand_names),len(product_names),len(primary_image_links_dict),len(secondary_image_links_dict)"
   ]
  },
  {
   "cell_type": "code",
   "execution_count": 72,
   "metadata": {},
   "outputs": [
    {
     "name": "stdout",
     "output_type": "stream",
     "text": [
      "https://www.koovs.com/blue-saint--mens-tshirt-137983-154971.html\n",
      "699\n",
      "437\n",
      "\n",
      "T-Shirt by BLUE SAINT\n",
      " Made from cotton Scoop neckline Rose slogan print Cut and sew style Short sleeves Slim fit\n",
      "Men\n",
      "Blue Saint\n",
      "Cut & Sew Slogan Print  T-Shirt\n",
      "https://product.koovs.com/154971_6d76f6fa33dd4d83bf0e4abc191ef499_image1_super_zoom.jpg\n",
      "['https://product.koovs.com/154971_6d76f6fa33dd4d83bf0e4abc191ef499_front_super_zoom.jpg', 'https://product.koovs.com/154971_6d76f6fa33dd4d83bf0e4abc191ef499_back_super_zoom.jpg', 'https://product.koovs.com/154971_6d76f6fa33dd4d83bf0e4abc191ef499_left_super_zoom.jpg']\n",
      "['S', 'M', 'L']\n"
     ]
    }
   ],
   "source": [
    "value_tester(1000)"
   ]
  },
  {
   "cell_type": "code",
   "execution_count": 73,
   "metadata": {},
   "outputs": [],
   "source": [
    "con=sq.connect(r\"E:\\GRROOM\\DataBase\\Koovs.db\")  \n",
    "cur=con.cursor()\n",
    "for i in range(len(product_links)):\n",
    "    try:\n",
    "        if i in brand_names.keys() and i in product_names.keys() and i in secondary_image_links_dict.keys() and i in sizes.keys() and i in price.keys() and i in mrp.keys() and i in description.keys() and i in gender.keys()  and i in primary_image_links_dict.keys():\n",
    "            if brand_names[i] != '' and primary_image_links_dict[i] != ''  and product_names[i] != '' and ','.join(secondary_image_links_dict[i]) != '' and ','.join(sizes[i]) != '' and price[i] != '' and mrp[i] != '' and brand_names[i] != '' and description[i] != '' :\n",
    "                cur.execute('insert into product_details  values(%r,%r,%r,%r,%r,%d,%d,%r,%r,%r,%r,%r)'%('https://www.tatacliq.com/',product_links[i],product_names[i],brand_names[i],','.join(set(sizes[i])),price[i],mrp[i],gender[i],description[i],primary_image_links_dict[i],','.join(secondary_image_links_dict[i]),''))\n",
    "    except:\n",
    "        pass\n",
    "con.commit()\n",
    "con.close()"
   ]
  },
  {
   "cell_type": "code",
   "execution_count": null,
   "metadata": {},
   "outputs": [],
   "source": []
  },
  {
   "cell_type": "markdown",
   "metadata": {},
   "source": [
    "## Jeans"
   ]
  },
  {
   "cell_type": "code",
   "execution_count": 74,
   "metadata": {},
   "outputs": [
    {
     "data": {
      "text/plain": [
       "352"
      ]
     },
     "execution_count": 74,
     "metadata": {},
     "output_type": "execute_result"
    }
   ],
   "source": [
    "product_links={}\n",
    "counter=0\n",
    "for i in range(0,15):\n",
    "    try:\n",
    "        data=rt.get(f'https://www.koovs.com/search-service/v1/products/listing/complete?href=https%3A%2F%2Fwww.koovs.com%2Fmen%2Fjeans&page-size=100&sort=relevance&page={i}',headers=headers)\n",
    "        data_in_json=json.loads(data.text)\n",
    "        for j in data_in_json['data'][0]['data']:\n",
    "            product_links[counter]='https://www.koovs.com'+j['links'][0]['href']\n",
    "            counter+=1\n",
    "    except:\n",
    "        continue\n",
    "len(product_links)"
   ]
  },
  {
   "cell_type": "code",
   "execution_count": 75,
   "metadata": {},
   "outputs": [
    {
     "data": {
      "text/plain": [
       "(352, 352, 352, 352, 352, 352, 352, 352, 352)"
      ]
     },
     "execution_count": 75,
     "metadata": {},
     "output_type": "execute_result"
    }
   ],
   "source": [
    "brand_names={}\n",
    "product_names={}\n",
    "primary_image_links_dict={}\n",
    "secondary_image_links_dict={}\n",
    "sizes={}\n",
    "price={}\n",
    "mrp={}\n",
    "description={}\n",
    "gender={}\n",
    "for i in range(len(product_links)):\n",
    "    data=rt.get(product_links[i],headers=headers)\n",
    "    soup=bs4.BeautifulSoup(data.text,'html.parser')\n",
    "    temp=soup.find_all('script')\n",
    "    for j in temp:\n",
    "        try:\n",
    "            json_data = json.loads(j.contents[0][j.contents[0].index('{'):])\n",
    "            if json_data['productPage']['productData']:\n",
    "                brand_names[i]=json_data['productPage']['productData']['brandName']\n",
    "                product_names[i]=json_data['productPage']['productData']['productName']\n",
    "                img_temp=json_data['productPage']['productData']['imageUrls']\n",
    "                primary_image_links_dict[i]=img_temp[0]\n",
    "                secondary_image_links_dict[i]=img_temp[1:]\n",
    "                price[i]=json_data['productPage']['productData']['discountPrice']\n",
    "                mrp[i]=json_data['productPage']['productData']['price']\n",
    "                gender[i]=json_data['productPage']['productData']['gender']\n",
    "                temp_sizes=[]\n",
    "                for k in json_data['productPage']['productAttribute']['sizes']:\n",
    "                    if k['isOutOfStock'] == False:\n",
    "                        temp_sizes.append(k['code'])\n",
    "                sizes[i]=temp_sizes\n",
    "                soup2=bs4.BeautifulSoup(json_data['productPage']['productData']['productDescription'],'html.parser')\n",
    "                temp_description=[]\n",
    "                for z in soup2.find_all('li'):\n",
    "                    temp_description.append(z.text)\n",
    "                description[i]=' '.join(temp_description)\n",
    "                #break\n",
    "        except:\n",
    "            continue\n",
    "    #break\n",
    "len(product_links),len(mrp),len(price),len(description),len(gender),len(brand_names),len(product_names),len(primary_image_links_dict),len(secondary_image_links_dict)"
   ]
  },
  {
   "cell_type": "code",
   "execution_count": 76,
   "metadata": {},
   "outputs": [
    {
     "name": "stdout",
     "output_type": "stream",
     "text": [
      "https://www.koovs.com/kultprit-white-skinny-fit-jeans-145575-162715.html\n",
      "2299\n",
      "1499\n",
      "Made from cotton-spandex blend Button and fly closure Four pockets All over print Patch detailing Ripped style Slim fit\n",
      "Men\n",
      "Kultprit\n",
      "All Over Print Distressed Patchwork Jeans\n",
      "https://product.koovs.com/162715_4a69aa85b2844ea9bf72d154b91f4a76_image1_super_zoom.jpg\n",
      "['https://product.koovs.com/162715_4a69aa85b2844ea9bf72d154b91f4a76_front_super_zoom.jpg', 'https://product.koovs.com/162715_4a69aa85b2844ea9bf72d154b91f4a76_back_super_zoom.jpg', 'https://product.koovs.com/162715_4a69aa85b2844ea9bf72d154b91f4a76_left_super_zoom.jpg', 'https://product.koovs.com/162715_4a69aa85b2844ea9bf72d154b91f4a76_right_super_zoom.jpg']\n",
      "['S', 'M', 'L', 'XL']\n"
     ]
    }
   ],
   "source": [
    "value_tester(300)"
   ]
  },
  {
   "cell_type": "code",
   "execution_count": 77,
   "metadata": {},
   "outputs": [],
   "source": [
    "con=sq.connect(r\"E:\\GRROOM\\DataBase\\Koovs.db\")  \n",
    "cur=con.cursor()\n",
    "for i in range(len(product_links)):\n",
    "    try:\n",
    "        if i in brand_names.keys() and i in product_names.keys() and i in secondary_image_links_dict.keys() and i in sizes.keys() and i in price.keys() and i in mrp.keys() and i in description.keys() and i in gender.keys()  and i in primary_image_links_dict.keys():\n",
    "            if brand_names[i] != '' and primary_image_links_dict[i] != ''  and product_names[i] != '' and ','.join(secondary_image_links_dict[i]) != '' and ','.join(sizes[i]) != '' and price[i] != '' and mrp[i] != '' and brand_names[i] != '' and description[i] != '' :\n",
    "                cur.execute('insert into product_details  values(%r,%r,%r,%r,%r,%d,%d,%r,%r,%r,%r,%r)'%('https://www.tatacliq.com/',product_links[i],product_names[i],brand_names[i],','.join(set(sizes[i])),price[i],mrp[i],gender[i],description[i],primary_image_links_dict[i],','.join(secondary_image_links_dict[i]),''))\n",
    "    except:\n",
    "        pass\n",
    "con.commit()\n",
    "con.close()"
   ]
  },
  {
   "cell_type": "code",
   "execution_count": null,
   "metadata": {},
   "outputs": [],
   "source": []
  },
  {
   "cell_type": "markdown",
   "metadata": {},
   "source": [
    "## Trousers"
   ]
  },
  {
   "cell_type": "code",
   "execution_count": 78,
   "metadata": {},
   "outputs": [
    {
     "data": {
      "text/plain": [
       "107"
      ]
     },
     "execution_count": 78,
     "metadata": {},
     "output_type": "execute_result"
    }
   ],
   "source": [
    "product_links={}\n",
    "counter=0\n",
    "for i in range(0,15):\n",
    "    try:\n",
    "        data=rt.get(f'https://www.koovs.com/search-service/v1/products/listing/complete?href=https%3A%2F%2Fwww.koovs.com%2Fmen%2Ftrousers-and-chinos&page-size=100&sort=relevance&page={i}',headers=headers)\n",
    "        data_in_json=json.loads(data.text)\n",
    "        for j in data_in_json['data'][0]['data']:\n",
    "            product_links[counter]='https://www.koovs.com'+j['links'][0]['href']\n",
    "            counter+=1\n",
    "    except:\n",
    "        continue\n",
    "len(product_links)"
   ]
  },
  {
   "cell_type": "code",
   "execution_count": 79,
   "metadata": {},
   "outputs": [
    {
     "data": {
      "text/plain": [
       "(107, 107, 107, 107, 107, 107, 107, 107, 107)"
      ]
     },
     "execution_count": 79,
     "metadata": {},
     "output_type": "execute_result"
    }
   ],
   "source": [
    "brand_names={}\n",
    "product_names={}\n",
    "primary_image_links_dict={}\n",
    "secondary_image_links_dict={}\n",
    "sizes={}\n",
    "price={}\n",
    "mrp={}\n",
    "description={}\n",
    "gender={}\n",
    "for i in range(len(product_links)):\n",
    "    data=rt.get(product_links[i],headers=headers)\n",
    "    soup=bs4.BeautifulSoup(data.text,'html.parser')\n",
    "    temp=soup.find_all('script')\n",
    "    for j in temp:\n",
    "        try:\n",
    "            json_data = json.loads(j.contents[0][j.contents[0].index('{'):])\n",
    "            if json_data['productPage']['productData']:\n",
    "                brand_names[i]=json_data['productPage']['productData']['brandName']\n",
    "                product_names[i]=json_data['productPage']['productData']['productName']\n",
    "                img_temp=json_data['productPage']['productData']['imageUrls']\n",
    "                primary_image_links_dict[i]=img_temp[0]\n",
    "                secondary_image_links_dict[i]=img_temp[1:]\n",
    "                price[i]=json_data['productPage']['productData']['discountPrice']\n",
    "                mrp[i]=json_data['productPage']['productData']['price']\n",
    "                gender[i]=json_data['productPage']['productData']['gender']\n",
    "                temp_sizes=[]\n",
    "                for k in json_data['productPage']['productAttribute']['sizes']:\n",
    "                    if k['isOutOfStock'] == False:\n",
    "                        temp_sizes.append(k['code'])\n",
    "                sizes[i]=temp_sizes\n",
    "                soup2=bs4.BeautifulSoup(json_data['productPage']['productData']['productDescription'],'html.parser')\n",
    "                temp_description=[]\n",
    "                for z in soup2.find_all('li'):\n",
    "                    temp_description.append(z.text)\n",
    "                description[i]=' '.join(temp_description)\n",
    "                #break\n",
    "        except:\n",
    "            continue\n",
    "    #break\n",
    "len(product_links),len(mrp),len(price),len(description),len(gender),len(brand_names),len(product_names),len(primary_image_links_dict),len(secondary_image_links_dict)"
   ]
  },
  {
   "cell_type": "code",
   "execution_count": 81,
   "metadata": {},
   "outputs": [
    {
     "name": "stdout",
     "output_type": "stream",
     "text": [
      "https://www.koovs.com/blue-saint-mens-trousers-138022-155010.html\n",
      "1299\n",
      "974\n",
      "Made from cotton-spandex blend Button and fly closure Classic five-pocket style Belt loops Slim fit\n",
      "Men\n",
      "Blue Saint\n",
      "Basic Slim Fit Trousers\n",
      "https://product.koovs.com/155010_7a3b85fd21b84f9488ebf4db63db92b3_image1_super_zoom.jpg\n",
      "['https://product.koovs.com/155010_7a3b85fd21b84f9488ebf4db63db92b3_front_super_zoom.jpg', 'https://product.koovs.com/155010_7a3b85fd21b84f9488ebf4db63db92b3_back_super_zoom.jpg', 'https://product.koovs.com/155010_7a3b85fd21b84f9488ebf4db63db92b3_left_super_zoom.jpg']\n",
      "['28', '30', '32', '34']\n"
     ]
    }
   ],
   "source": [
    "value_tester(100)"
   ]
  },
  {
   "cell_type": "code",
   "execution_count": 82,
   "metadata": {},
   "outputs": [],
   "source": [
    "con=sq.connect(r\"E:\\GRROOM\\DataBase\\Koovs.db\")  \n",
    "cur=con.cursor()\n",
    "for i in range(len(product_links)):\n",
    "    try:\n",
    "        if i in brand_names.keys() and i in product_names.keys() and i in secondary_image_links_dict.keys() and i in sizes.keys() and i in price.keys() and i in mrp.keys() and i in description.keys() and i in gender.keys()  and i in primary_image_links_dict.keys():\n",
    "            if brand_names[i] != '' and primary_image_links_dict[i] != ''  and product_names[i] != '' and ','.join(secondary_image_links_dict[i]) != '' and ','.join(sizes[i]) != '' and price[i] != '' and mrp[i] != '' and brand_names[i] != '' and description[i] != '' :\n",
    "                cur.execute('insert into product_details  values(%r,%r,%r,%r,%r,%d,%d,%r,%r,%r,%r,%r)'%('https://www.tatacliq.com/',product_links[i],product_names[i],brand_names[i],','.join(set(sizes[i])),price[i],mrp[i],gender[i],description[i],primary_image_links_dict[i],','.join(secondary_image_links_dict[i]),''))\n",
    "    except:\n",
    "        pass\n",
    "con.commit()\n",
    "con.close()"
   ]
  },
  {
   "cell_type": "code",
   "execution_count": null,
   "metadata": {},
   "outputs": [],
   "source": []
  },
  {
   "cell_type": "markdown",
   "metadata": {},
   "source": [
    "## Jogger"
   ]
  },
  {
   "cell_type": "code",
   "execution_count": 83,
   "metadata": {},
   "outputs": [
    {
     "data": {
      "text/plain": [
       "229"
      ]
     },
     "execution_count": 83,
     "metadata": {},
     "output_type": "execute_result"
    }
   ],
   "source": [
    "product_links={}\n",
    "counter=0\n",
    "for i in range(0,15):\n",
    "    try:\n",
    "        data=rt.get(f'https://www.koovs.com/search-service/v1/products/listing/complete?href=https%3A%2F%2Fwww.koovs.com%2Fmen%2Fjog-pants&page-size=100&sort=relevance&page={i}',headers=headers)\n",
    "        data_in_json=json.loads(data.text)\n",
    "        for j in data_in_json['data'][0]['data']:\n",
    "            product_links[counter]='https://www.koovs.com'+j['links'][0]['href']\n",
    "            counter+=1\n",
    "    except:\n",
    "        continue\n",
    "len(product_links)"
   ]
  },
  {
   "cell_type": "code",
   "execution_count": 84,
   "metadata": {},
   "outputs": [
    {
     "data": {
      "text/plain": [
       "(229, 229, 229, 229, 229, 229, 229, 229, 229)"
      ]
     },
     "execution_count": 84,
     "metadata": {},
     "output_type": "execute_result"
    }
   ],
   "source": [
    "brand_names={}\n",
    "product_names={}\n",
    "primary_image_links_dict={}\n",
    "secondary_image_links_dict={}\n",
    "sizes={}\n",
    "price={}\n",
    "mrp={}\n",
    "description={}\n",
    "gender={}\n",
    "for i in range(len(product_links)):\n",
    "    data=rt.get(product_links[i],headers=headers)\n",
    "    soup=bs4.BeautifulSoup(data.text,'html.parser')\n",
    "    temp=soup.find_all('script')\n",
    "    for j in temp:\n",
    "        try:\n",
    "            json_data = json.loads(j.contents[0][j.contents[0].index('{'):])\n",
    "            if json_data['productPage']['productData']:\n",
    "                brand_names[i]=json_data['productPage']['productData']['brandName']\n",
    "                product_names[i]=json_data['productPage']['productData']['productName']\n",
    "                img_temp=json_data['productPage']['productData']['imageUrls']\n",
    "                primary_image_links_dict[i]=img_temp[0]\n",
    "                secondary_image_links_dict[i]=img_temp[1:]\n",
    "                price[i]=json_data['productPage']['productData']['discountPrice']\n",
    "                mrp[i]=json_data['productPage']['productData']['price']\n",
    "                gender[i]=json_data['productPage']['productData']['gender']\n",
    "                temp_sizes=[]\n",
    "                for k in json_data['productPage']['productAttribute']['sizes']:\n",
    "                    if k['isOutOfStock'] == False:\n",
    "                        temp_sizes.append(k['code'])\n",
    "                sizes[i]=temp_sizes\n",
    "                soup2=bs4.BeautifulSoup(json_data['productPage']['productData']['productDescription'],'html.parser')\n",
    "                temp_description=[]\n",
    "                for z in soup2.find_all('li'):\n",
    "                    temp_description.append(z.text)\n",
    "                description[i]=' '.join(temp_description)\n",
    "                #break\n",
    "        except:\n",
    "            continue\n",
    "    #break\n",
    "len(product_links),len(mrp),len(price),len(description),len(gender),len(brand_names),len(product_names),len(primary_image_links_dict),len(secondary_image_links_dict)"
   ]
  },
  {
   "cell_type": "code",
   "execution_count": 86,
   "metadata": {},
   "outputs": [
    {
     "name": "stdout",
     "output_type": "stream",
     "text": [
      "https://www.koovs.com/realm-mens-jeans-138922-155921.html\n",
      "2199\n",
      "962\n",
      "Made from cotton-spandex blend Draw-cord closure Classic five-pocket style Cuffed hem Slim fit\n",
      "Men\n",
      "REALM\n",
      "Basic Slim Fit Denim Jogger\n",
      "https://product.koovs.com/155921_8a2e19a68fa04242abf295743e4e2b75_image1_super_zoom.jpg\n",
      "['https://product.koovs.com/155921_8a2e19a68fa04242abf295743e4e2b75_front_super_zoom.jpg', 'https://product.koovs.com/155921_8a2e19a68fa04242abf295743e4e2b75_back_super_zoom.jpg', 'https://product.koovs.com/155921_8a2e19a68fa04242abf295743e4e2b75_left_super_zoom.jpg']\n",
      "['30']\n"
     ]
    }
   ],
   "source": [
    "value_tester(200)"
   ]
  },
  {
   "cell_type": "code",
   "execution_count": 87,
   "metadata": {},
   "outputs": [],
   "source": [
    "con=sq.connect(r\"E:\\GRROOM\\DataBase\\Koovs.db\")  \n",
    "cur=con.cursor()\n",
    "for i in range(len(product_links)):\n",
    "    try:\n",
    "        if i in brand_names.keys() and i in product_names.keys() and i in secondary_image_links_dict.keys() and i in sizes.keys() and i in price.keys() and i in mrp.keys() and i in description.keys() and i in gender.keys()  and i in primary_image_links_dict.keys():\n",
    "            if brand_names[i] != '' and primary_image_links_dict[i] != ''  and product_names[i] != '' and ','.join(secondary_image_links_dict[i]) != '' and ','.join(sizes[i]) != '' and price[i] != '' and mrp[i] != '' and brand_names[i] != '' and description[i] != '' :\n",
    "                cur.execute('insert into product_details  values(%r,%r,%r,%r,%r,%d,%d,%r,%r,%r,%r,%r)'%('https://www.tatacliq.com/',product_links[i],product_names[i],brand_names[i],','.join(set(sizes[i])),price[i],mrp[i],gender[i],description[i],primary_image_links_dict[i],','.join(secondary_image_links_dict[i]),''))\n",
    "    except:\n",
    "        pass\n",
    "con.commit()\n",
    "con.close()"
   ]
  },
  {
   "cell_type": "code",
   "execution_count": null,
   "metadata": {},
   "outputs": [],
   "source": []
  },
  {
   "cell_type": "markdown",
   "metadata": {},
   "source": [
    "## Vests"
   ]
  },
  {
   "cell_type": "code",
   "execution_count": 88,
   "metadata": {},
   "outputs": [
    {
     "data": {
      "text/plain": [
       "83"
      ]
     },
     "execution_count": 88,
     "metadata": {},
     "output_type": "execute_result"
    }
   ],
   "source": [
    "product_links={}\n",
    "counter=0\n",
    "for i in range(0,15):\n",
    "    try:\n",
    "        data=rt.get(f'https://www.koovs.com/search-service/v1/products/listing/complete?href=https%3A%2F%2Fwww.koovs.com%2Fmen%2Fvests&page-size=100&sort=relevance&page={i}',headers=headers)\n",
    "        data_in_json=json.loads(data.text)\n",
    "        for j in data_in_json['data'][0]['data']:\n",
    "            product_links[counter]='https://www.koovs.com'+j['links'][0]['href']\n",
    "            counter+=1\n",
    "    except:\n",
    "        continue\n",
    "len(product_links)"
   ]
  },
  {
   "cell_type": "code",
   "execution_count": 89,
   "metadata": {},
   "outputs": [
    {
     "data": {
      "text/plain": [
       "(83, 83, 83, 83, 83, 83, 83, 83, 83)"
      ]
     },
     "execution_count": 89,
     "metadata": {},
     "output_type": "execute_result"
    }
   ],
   "source": [
    "brand_names={}\n",
    "product_names={}\n",
    "primary_image_links_dict={}\n",
    "secondary_image_links_dict={}\n",
    "sizes={}\n",
    "price={}\n",
    "mrp={}\n",
    "description={}\n",
    "gender={}\n",
    "for i in range(len(product_links)):\n",
    "    data=rt.get(product_links[i],headers=headers)\n",
    "    soup=bs4.BeautifulSoup(data.text,'html.parser')\n",
    "    temp=soup.find_all('script')\n",
    "    for j in temp:\n",
    "        try:\n",
    "            json_data = json.loads(j.contents[0][j.contents[0].index('{'):])\n",
    "            if json_data['productPage']['productData']:\n",
    "                brand_names[i]=json_data['productPage']['productData']['brandName']\n",
    "                product_names[i]=json_data['productPage']['productData']['productName']\n",
    "                img_temp=json_data['productPage']['productData']['imageUrls']\n",
    "                primary_image_links_dict[i]=img_temp[0]\n",
    "                secondary_image_links_dict[i]=img_temp[1:]\n",
    "                price[i]=json_data['productPage']['productData']['discountPrice']\n",
    "                mrp[i]=json_data['productPage']['productData']['price']\n",
    "                gender[i]=json_data['productPage']['productData']['gender']\n",
    "                temp_sizes=[]\n",
    "                for k in json_data['productPage']['productAttribute']['sizes']:\n",
    "                    if k['isOutOfStock'] == False:\n",
    "                        temp_sizes.append(k['code'])\n",
    "                sizes[i]=temp_sizes\n",
    "                soup2=bs4.BeautifulSoup(json_data['productPage']['productData']['productDescription'],'html.parser')\n",
    "                temp_description=[]\n",
    "                for z in soup2.find_all('li'):\n",
    "                    temp_description.append(z.text)\n",
    "                description[i]=' '.join(temp_description)\n",
    "                #break\n",
    "        except:\n",
    "            continue\n",
    "    #break\n",
    "len(product_links),len(mrp),len(price),len(description),len(gender),len(brand_names),len(product_names),len(primary_image_links_dict),len(secondary_image_links_dict)"
   ]
  },
  {
   "cell_type": "code",
   "execution_count": 91,
   "metadata": {},
   "outputs": [
    {
     "name": "stdout",
     "output_type": "stream",
     "text": [
      "https://www.koovs.com/blue-saint-mens-tshirts-138232-155221.html\n",
      "899\n",
      "562\n",
      "Made from cotton Ribbed crew neckline All over floral print Deep armholes Sleeveless Regular fit\n",
      "Men\n",
      "Blue Saint\n",
      "Floral Print Crew Neck Tank\n",
      "https://product.koovs.com/155221_e2ad8799d9224a25b866ac5733a35fde_image1_super_zoom.jpg\n",
      "['https://product.koovs.com/155221_e2ad8799d9224a25b866ac5733a35fde_front_super_zoom.jpg', 'https://product.koovs.com/155221_e2ad8799d9224a25b866ac5733a35fde_back_super_zoom.jpg', 'https://product.koovs.com/155221_e2ad8799d9224a25b866ac5733a35fde_left_super_zoom.jpg']\n",
      "['S', 'M', 'L', 'XL']\n"
     ]
    }
   ],
   "source": [
    "value_tester(80)"
   ]
  },
  {
   "cell_type": "code",
   "execution_count": 92,
   "metadata": {},
   "outputs": [],
   "source": [
    "con=sq.connect(r\"E:\\GRROOM\\DataBase\\Koovs.db\")  \n",
    "cur=con.cursor()\n",
    "for i in range(len(product_links)):\n",
    "    try:\n",
    "        if i in brand_names.keys() and i in product_names.keys() and i in secondary_image_links_dict.keys() and i in sizes.keys() and i in price.keys() and i in mrp.keys() and i in description.keys() and i in gender.keys()  and i in primary_image_links_dict.keys():\n",
    "            if brand_names[i] != '' and primary_image_links_dict[i] != ''  and product_names[i] != '' and ','.join(secondary_image_links_dict[i]) != '' and ','.join(sizes[i]) != '' and price[i] != '' and mrp[i] != '' and brand_names[i] != '' and description[i] != '' :\n",
    "                cur.execute('insert into product_details  values(%r,%r,%r,%r,%r,%d,%d,%r,%r,%r,%r,%r)'%('https://www.tatacliq.com/',product_links[i],product_names[i],brand_names[i],','.join(set(sizes[i])),price[i],mrp[i],gender[i],description[i],primary_image_links_dict[i],','.join(secondary_image_links_dict[i]),''))\n",
    "    except:\n",
    "        pass\n",
    "con.commit()\n",
    "con.close()"
   ]
  },
  {
   "cell_type": "code",
   "execution_count": null,
   "metadata": {},
   "outputs": [],
   "source": []
  },
  {
   "cell_type": "markdown",
   "metadata": {},
   "source": [
    "## Shorts"
   ]
  },
  {
   "cell_type": "code",
   "execution_count": 93,
   "metadata": {},
   "outputs": [
    {
     "data": {
      "text/plain": [
       "162"
      ]
     },
     "execution_count": 93,
     "metadata": {},
     "output_type": "execute_result"
    }
   ],
   "source": [
    "product_links={}\n",
    "counter=0\n",
    "for i in range(0,15):\n",
    "    try:\n",
    "        data=rt.get(f'https://www.koovs.com/search-service/v1/products/listing/complete?href=https%3A%2F%2Fwww.koovs.com%2Fmen%2Fshorts&page-size=100&sort=relevance&page={i}',headers=headers)\n",
    "        data_in_json=json.loads(data.text)\n",
    "        for j in data_in_json['data'][0]['data']:\n",
    "            product_links[counter]='https://www.koovs.com'+j['links'][0]['href']\n",
    "            counter+=1\n",
    "    except:\n",
    "        continue\n",
    "len(product_links)"
   ]
  },
  {
   "cell_type": "code",
   "execution_count": 94,
   "metadata": {},
   "outputs": [
    {
     "data": {
      "text/plain": [
       "(162, 162, 162, 162, 162, 162, 162, 162, 162)"
      ]
     },
     "execution_count": 94,
     "metadata": {},
     "output_type": "execute_result"
    }
   ],
   "source": [
    "brand_names={}\n",
    "product_names={}\n",
    "primary_image_links_dict={}\n",
    "secondary_image_links_dict={}\n",
    "sizes={}\n",
    "price={}\n",
    "mrp={}\n",
    "description={}\n",
    "gender={}\n",
    "for i in range(len(product_links)):\n",
    "    data=rt.get(product_links[i],headers=headers)\n",
    "    soup=bs4.BeautifulSoup(data.text,'html.parser')\n",
    "    temp=soup.find_all('script')\n",
    "    for j in temp:\n",
    "        try:\n",
    "            json_data = json.loads(j.contents[0][j.contents[0].index('{'):])\n",
    "            if json_data['productPage']['productData']:\n",
    "                brand_names[i]=json_data['productPage']['productData']['brandName']\n",
    "                product_names[i]=json_data['productPage']['productData']['productName']\n",
    "                img_temp=json_data['productPage']['productData']['imageUrls']\n",
    "                primary_image_links_dict[i]=img_temp[0]\n",
    "                secondary_image_links_dict[i]=img_temp[1:]\n",
    "                price[i]=json_data['productPage']['productData']['discountPrice']\n",
    "                mrp[i]=json_data['productPage']['productData']['price']\n",
    "                gender[i]=json_data['productPage']['productData']['gender']\n",
    "                temp_sizes=[]\n",
    "                for k in json_data['productPage']['productAttribute']['sizes']:\n",
    "                    if k['isOutOfStock'] == False:\n",
    "                        temp_sizes.append(k['code'])\n",
    "                sizes[i]=temp_sizes\n",
    "                soup2=bs4.BeautifulSoup(json_data['productPage']['productData']['productDescription'],'html.parser')\n",
    "                temp_description=[]\n",
    "                for z in soup2.find_all('li'):\n",
    "                    temp_description.append(z.text)\n",
    "                description[i]=' '.join(temp_description)\n",
    "                #break\n",
    "        except:\n",
    "            continue\n",
    "    #break\n",
    "len(product_links),len(mrp),len(price),len(description),len(gender),len(brand_names),len(product_names),len(primary_image_links_dict),len(secondary_image_links_dict)"
   ]
  },
  {
   "cell_type": "code",
   "execution_count": 96,
   "metadata": {},
   "outputs": [
    {
     "name": "stdout",
     "output_type": "stream",
     "text": [
      "https://www.koovs.com/blue-saint-mens-shorts-145860-163000.html\n",
      "1299\n",
      "974\n",
      "\n",
      "Made from cotton\n",
      " \n",
      "Button and fly closure\n",
      " \n",
      "Twin pockets\n",
      " \n",
      "Belt loops\n",
      " \n",
      "Slim fit\n",
      "\n",
      "Men\n",
      "Blue Saint\n",
      "Basic Slim Fit Shorts\n",
      "https://product.koovs.com/163000_95c4cf25e8454f17bea2dc18a5de62a2_image1_super_zoom.jpg\n",
      "['https://product.koovs.com/163000_95c4cf25e8454f17bea2dc18a5de62a2_front_super_zoom.jpg', 'https://product.koovs.com/163000_95c4cf25e8454f17bea2dc18a5de62a2_back_super_zoom.jpg', 'https://product.koovs.com/163000_95c4cf25e8454f17bea2dc18a5de62a2_left_super_zoom.jpg']\n",
      "['28', '30', '32', '34', '36']\n"
     ]
    }
   ],
   "source": [
    "value_tester(100)"
   ]
  },
  {
   "cell_type": "code",
   "execution_count": 97,
   "metadata": {},
   "outputs": [],
   "source": [
    "con=sq.connect(r\"E:\\GRROOM\\DataBase\\Koovs.db\")  \n",
    "cur=con.cursor()\n",
    "for i in range(len(product_links)):\n",
    "    try:\n",
    "        if i in brand_names.keys() and i in product_names.keys() and i in secondary_image_links_dict.keys() and i in sizes.keys() and i in price.keys() and i in mrp.keys() and i in description.keys() and i in gender.keys()  and i in primary_image_links_dict.keys():\n",
    "            if brand_names[i] != '' and primary_image_links_dict[i] != ''  and product_names[i] != '' and ','.join(secondary_image_links_dict[i]) != '' and ','.join(sizes[i]) != '' and price[i] != '' and mrp[i] != '' and brand_names[i] != '' and description[i] != '' :\n",
    "                cur.execute('insert into product_details  values(%r,%r,%r,%r,%r,%d,%d,%r,%r,%r,%r,%r)'%('https://www.tatacliq.com/',product_links[i],product_names[i],brand_names[i],','.join(set(sizes[i])),price[i],mrp[i],gender[i],description[i],primary_image_links_dict[i],','.join(secondary_image_links_dict[i]),''))\n",
    "    except:\n",
    "        pass\n",
    "con.commit()\n",
    "con.close()"
   ]
  },
  {
   "cell_type": "code",
   "execution_count": null,
   "metadata": {},
   "outputs": [],
   "source": []
  },
  {
   "cell_type": "markdown",
   "metadata": {},
   "source": [
    "## Hoodies"
   ]
  },
  {
   "cell_type": "code",
   "execution_count": 98,
   "metadata": {},
   "outputs": [
    {
     "data": {
      "text/plain": [
       "121"
      ]
     },
     "execution_count": 98,
     "metadata": {},
     "output_type": "execute_result"
    }
   ],
   "source": [
    "product_links={}\n",
    "counter=0\n",
    "for i in range(0,15):\n",
    "    try:\n",
    "        data=rt.get(f'https://www.koovs.com/search-service/v1/products/listing/complete?href=https%3A%2F%2Fwww.koovs.com%2Fmen%2Fhoodies-and-sweatshirts&page-size=100&sort=relevance&page={i}',headers=headers)\n",
    "        data_in_json=json.loads(data.text)\n",
    "        for j in data_in_json['data'][0]['data']:\n",
    "            product_links[counter]='https://www.koovs.com'+j['links'][0]['href']\n",
    "            counter+=1\n",
    "    except:\n",
    "        continue\n",
    "len(product_links)"
   ]
  },
  {
   "cell_type": "code",
   "execution_count": 99,
   "metadata": {},
   "outputs": [
    {
     "data": {
      "text/plain": [
       "(121, 121, 121, 121, 121, 121, 121, 121, 121)"
      ]
     },
     "execution_count": 99,
     "metadata": {},
     "output_type": "execute_result"
    }
   ],
   "source": [
    "brand_names={}\n",
    "product_names={}\n",
    "primary_image_links_dict={}\n",
    "secondary_image_links_dict={}\n",
    "sizes={}\n",
    "price={}\n",
    "mrp={}\n",
    "description={}\n",
    "gender={}\n",
    "for i in range(len(product_links)):\n",
    "    data=rt.get(product_links[i],headers=headers)\n",
    "    soup=bs4.BeautifulSoup(data.text,'html.parser')\n",
    "    temp=soup.find_all('script')\n",
    "    for j in temp:\n",
    "        try:\n",
    "            json_data = json.loads(j.contents[0][j.contents[0].index('{'):])\n",
    "            if json_data['productPage']['productData']:\n",
    "                brand_names[i]=json_data['productPage']['productData']['brandName']\n",
    "                product_names[i]=json_data['productPage']['productData']['productName']\n",
    "                img_temp=json_data['productPage']['productData']['imageUrls']\n",
    "                primary_image_links_dict[i]=img_temp[0]\n",
    "                secondary_image_links_dict[i]=img_temp[1:]\n",
    "                price[i]=json_data['productPage']['productData']['discountPrice']\n",
    "                mrp[i]=json_data['productPage']['productData']['price']\n",
    "                gender[i]=json_data['productPage']['productData']['gender']\n",
    "                temp_sizes=[]\n",
    "                for k in json_data['productPage']['productAttribute']['sizes']:\n",
    "                    if k['isOutOfStock'] == False:\n",
    "                        temp_sizes.append(k['code'])\n",
    "                sizes[i]=temp_sizes\n",
    "                soup2=bs4.BeautifulSoup(json_data['productPage']['productData']['productDescription'],'html.parser')\n",
    "                temp_description=[]\n",
    "                for z in soup2.find_all('li'):\n",
    "                    temp_description.append(z.text)\n",
    "                description[i]=' '.join(temp_description)\n",
    "                #break\n",
    "        except:\n",
    "            continue\n",
    "    #break\n",
    "len(product_links),len(mrp),len(price),len(description),len(gender),len(brand_names),len(product_names),len(primary_image_links_dict),len(secondary_image_links_dict)"
   ]
  },
  {
   "cell_type": "code",
   "execution_count": 101,
   "metadata": {},
   "outputs": [
    {
     "name": "stdout",
     "output_type": "stream",
     "text": [
      "https://www.koovs.com/blue-saint-mens-sweatshirt-139421-156454.html\n",
      "1299\n",
      "974\n",
      "Made From Cotton Round Neck Long Sleeves Placement Print Design Regular Fit\n",
      "Men\n",
      "Blue Saint\n",
      "Alienated Placement Printed Sweatshirt\n",
      "https://product.koovs.com/156454_6ef156ace1494a5c9be446ad248cb578_image1_super_zoom.jpg\n",
      "['https://product.koovs.com/156454_6ef156ace1494a5c9be446ad248cb578_front_super_zoom.jpg', 'https://product.koovs.com/156454_6ef156ace1494a5c9be446ad248cb578_back_super_zoom.jpg', 'https://product.koovs.com/156454_6ef156ace1494a5c9be446ad248cb578_left_super_zoom.jpg']\n",
      "['S', 'M', 'L', 'XL']\n"
     ]
    }
   ],
   "source": [
    "value_tester(100)"
   ]
  },
  {
   "cell_type": "code",
   "execution_count": 102,
   "metadata": {},
   "outputs": [],
   "source": [
    "con=sq.connect(r\"E:\\GRROOM\\DataBase\\Koovs.db\")  \n",
    "cur=con.cursor()\n",
    "for i in range(len(product_links)):\n",
    "    try:\n",
    "        if i in brand_names.keys() and i in product_names.keys() and i in secondary_image_links_dict.keys() and i in sizes.keys() and i in price.keys() and i in mrp.keys() and i in description.keys() and i in gender.keys()  and i in primary_image_links_dict.keys():\n",
    "            if brand_names[i] != '' and primary_image_links_dict[i] != ''  and product_names[i] != '' and ','.join(secondary_image_links_dict[i]) != '' and ','.join(sizes[i]) != '' and price[i] != '' and mrp[i] != '' and brand_names[i] != '' and description[i] != '' :\n",
    "                cur.execute('insert into product_details  values(%r,%r,%r,%r,%r,%d,%d,%r,%r,%r,%r,%r)'%('https://www.tatacliq.com/',product_links[i],product_names[i],brand_names[i],','.join(set(sizes[i])),price[i],mrp[i],gender[i],description[i],primary_image_links_dict[i],','.join(secondary_image_links_dict[i]),''))\n",
    "    except:\n",
    "        pass\n",
    "con.commit()\n",
    "con.close()"
   ]
  },
  {
   "cell_type": "code",
   "execution_count": null,
   "metadata": {},
   "outputs": [],
   "source": []
  },
  {
   "cell_type": "markdown",
   "metadata": {},
   "source": [
    "## Jackets"
   ]
  },
  {
   "cell_type": "code",
   "execution_count": 103,
   "metadata": {},
   "outputs": [
    {
     "data": {
      "text/plain": [
       "240"
      ]
     },
     "execution_count": 103,
     "metadata": {},
     "output_type": "execute_result"
    }
   ],
   "source": [
    "product_links={}\n",
    "counter=0\n",
    "for i in range(0,15):\n",
    "    try:\n",
    "        data=rt.get(f'https://www.koovs.com/search-service/v1/products/listing/complete?href=https%3A%2F%2Fwww.koovs.com%2Fmen%2Fcoats-and-jackets&page-size=100&sort=relevance&page={i}',headers=headers)\n",
    "        data_in_json=json.loads(data.text)\n",
    "        for j in data_in_json['data'][0]['data']:\n",
    "            product_links[counter]='https://www.koovs.com'+j['links'][0]['href']\n",
    "            counter+=1\n",
    "    except:\n",
    "        continue\n",
    "len(product_links)"
   ]
  },
  {
   "cell_type": "code",
   "execution_count": 104,
   "metadata": {},
   "outputs": [
    {
     "data": {
      "text/plain": [
       "(240, 240, 240, 240, 240, 240, 240, 240, 240)"
      ]
     },
     "execution_count": 104,
     "metadata": {},
     "output_type": "execute_result"
    }
   ],
   "source": [
    "brand_names={}\n",
    "product_names={}\n",
    "primary_image_links_dict={}\n",
    "secondary_image_links_dict={}\n",
    "sizes={}\n",
    "price={}\n",
    "mrp={}\n",
    "description={}\n",
    "gender={}\n",
    "for i in range(len(product_links)):\n",
    "    data=rt.get(product_links[i],headers=headers)\n",
    "    soup=bs4.BeautifulSoup(data.text,'html.parser')\n",
    "    temp=soup.find_all('script')\n",
    "    for j in temp:\n",
    "        try:\n",
    "            json_data = json.loads(j.contents[0][j.contents[0].index('{'):])\n",
    "            if json_data['productPage']['productData']:\n",
    "                brand_names[i]=json_data['productPage']['productData']['brandName']\n",
    "                product_names[i]=json_data['productPage']['productData']['productName']\n",
    "                img_temp=json_data['productPage']['productData']['imageUrls']\n",
    "                primary_image_links_dict[i]=img_temp[0]\n",
    "                secondary_image_links_dict[i]=img_temp[1:]\n",
    "                price[i]=json_data['productPage']['productData']['discountPrice']\n",
    "                mrp[i]=json_data['productPage']['productData']['price']\n",
    "                gender[i]=json_data['productPage']['productData']['gender']\n",
    "                temp_sizes=[]\n",
    "                for k in json_data['productPage']['productAttribute']['sizes']:\n",
    "                    if k['isOutOfStock'] == False:\n",
    "                        temp_sizes.append(k['code'])\n",
    "                sizes[i]=temp_sizes\n",
    "                soup2=bs4.BeautifulSoup(json_data['productPage']['productData']['productDescription'],'html.parser')\n",
    "                temp_description=[]\n",
    "                for z in soup2.find_all('li'):\n",
    "                    temp_description.append(z.text)\n",
    "                description[i]=' '.join(temp_description)\n",
    "                #break\n",
    "        except:\n",
    "            continue\n",
    "    #break\n",
    "len(product_links),len(mrp),len(price),len(description),len(gender),len(brand_names),len(product_names),len(primary_image_links_dict),len(secondary_image_links_dict)"
   ]
  },
  {
   "cell_type": "code",
   "execution_count": 106,
   "metadata": {},
   "outputs": [
    {
     "name": "stdout",
     "output_type": "stream",
     "text": [
      "https://www.koovs.com/blue-saint-mens-jacket-138426-155417.html\n",
      "1499\n",
      "1499\n",
      "Made from Cotton Spread Collar Button Down Closure Four Patch Pocket           Full Sleeves Regular Fit\n",
      "Men\n",
      "Blue Saint\n",
      "Green Full Sleeve Regular Fit Jacket\n",
      "https://product.koovs.com/155417_f1f17e5ba8a74afbb1036caf86877f24_image1_super_zoom.jpg\n",
      "['https://product.koovs.com/155417_f1f17e5ba8a74afbb1036caf86877f24_front_super_zoom.jpg', 'https://product.koovs.com/155417_f1f17e5ba8a74afbb1036caf86877f24_back_super_zoom.jpg', 'https://product.koovs.com/155417_f1f17e5ba8a74afbb1036caf86877f24_left_super_zoom.jpg']\n",
      "['M', 'L', 'XL']\n"
     ]
    }
   ],
   "source": [
    "value_tester(200)"
   ]
  },
  {
   "cell_type": "code",
   "execution_count": 107,
   "metadata": {},
   "outputs": [],
   "source": [
    "con=sq.connect(r\"E:\\GRROOM\\DataBase\\Koovs.db\")  \n",
    "cur=con.cursor()\n",
    "for i in range(len(product_links)):\n",
    "    try:\n",
    "        if i in brand_names.keys() and i in product_names.keys() and i in secondary_image_links_dict.keys() and i in sizes.keys() and i in price.keys() and i in mrp.keys() and i in description.keys() and i in gender.keys()  and i in primary_image_links_dict.keys():\n",
    "            if brand_names[i] != '' and primary_image_links_dict[i] != ''  and product_names[i] != '' and ','.join(secondary_image_links_dict[i]) != '' and ','.join(sizes[i]) != '' and price[i] != '' and mrp[i] != '' and brand_names[i] != '' and description[i] != '' :\n",
    "                cur.execute('insert into product_details  values(%r,%r,%r,%r,%r,%d,%d,%r,%r,%r,%r,%r)'%('https://www.tatacliq.com/',product_links[i],product_names[i],brand_names[i],','.join(set(sizes[i])),price[i],mrp[i],gender[i],description[i],primary_image_links_dict[i],','.join(secondary_image_links_dict[i]),''))\n",
    "    except:\n",
    "        pass\n",
    "con.commit()\n",
    "con.close()"
   ]
  },
  {
   "cell_type": "code",
   "execution_count": null,
   "metadata": {},
   "outputs": [],
   "source": []
  },
  {
   "cell_type": "markdown",
   "metadata": {},
   "source": [
    "## Shoes"
   ]
  },
  {
   "cell_type": "code",
   "execution_count": 108,
   "metadata": {},
   "outputs": [
    {
     "data": {
      "text/plain": [
       "121"
      ]
     },
     "execution_count": 108,
     "metadata": {},
     "output_type": "execute_result"
    }
   ],
   "source": [
    "product_links={}\n",
    "counter=0\n",
    "for i in range(0,15):\n",
    "    try:\n",
    "        data=rt.get(f'https://www.koovs.com/search-service/v1/products/listing/complete?href=https%3A%2F%2Fwww.koovs.com%2Fmen%2Ffootwear&page-size=100&sort=relevance&page={i}',headers=headers)\n",
    "        data_in_json=json.loads(data.text)\n",
    "        for j in data_in_json['data'][0]['data']:\n",
    "            product_links[counter]='https://www.koovs.com'+j['links'][0]['href']\n",
    "            counter+=1\n",
    "    except:\n",
    "        continue\n",
    "len(product_links)"
   ]
  },
  {
   "cell_type": "code",
   "execution_count": 109,
   "metadata": {},
   "outputs": [
    {
     "data": {
      "text/plain": [
       "(121, 121, 121, 121, 121, 121, 121, 121, 121)"
      ]
     },
     "execution_count": 109,
     "metadata": {},
     "output_type": "execute_result"
    }
   ],
   "source": [
    "brand_names={}\n",
    "product_names={}\n",
    "primary_image_links_dict={}\n",
    "secondary_image_links_dict={}\n",
    "sizes={}\n",
    "price={}\n",
    "mrp={}\n",
    "description={}\n",
    "gender={}\n",
    "for i in range(len(product_links)):\n",
    "    data=rt.get(product_links[i],headers=headers)\n",
    "    soup=bs4.BeautifulSoup(data.text,'html.parser')\n",
    "    temp=soup.find_all('script')\n",
    "    for j in temp:\n",
    "        try:\n",
    "            json_data = json.loads(j.contents[0][j.contents[0].index('{'):])\n",
    "            if json_data['productPage']['productData']:\n",
    "                brand_names[i]=json_data['productPage']['productData']['brandName']\n",
    "                product_names[i]=json_data['productPage']['productData']['productName']\n",
    "                img_temp=json_data['productPage']['productData']['imageUrls']\n",
    "                primary_image_links_dict[i]=img_temp[0]\n",
    "                secondary_image_links_dict[i]=img_temp[1:]\n",
    "                price[i]=json_data['productPage']['productData']['discountPrice']\n",
    "                mrp[i]=json_data['productPage']['productData']['price']\n",
    "                gender[i]=json_data['productPage']['productData']['gender']\n",
    "                temp_sizes=[]\n",
    "                for k in json_data['productPage']['productAttribute']['sizes']:\n",
    "                    if k['isOutOfStock'] == False:\n",
    "                        temp_sizes.append(k['code'])\n",
    "                sizes[i]=temp_sizes\n",
    "                soup2=bs4.BeautifulSoup(json_data['productPage']['productData']['productDescription'],'html.parser')\n",
    "                temp_description=[]\n",
    "                for z in soup2.find_all('li'):\n",
    "                    temp_description.append(z.text)\n",
    "                description[i]=' '.join(temp_description)\n",
    "                #break\n",
    "        except:\n",
    "            continue\n",
    "    #break\n",
    "len(product_links),len(mrp),len(price),len(description),len(gender),len(brand_names),len(product_names),len(primary_image_links_dict),len(secondary_image_links_dict)"
   ]
  },
  {
   "cell_type": "code",
   "execution_count": 111,
   "metadata": {},
   "outputs": [
    {
     "name": "stdout",
     "output_type": "stream",
     "text": [
      "https://www.koovs.com/griffin-twotone-suede-leather-chelsea-boots-139358-156373.html\n",
      "2499\n",
      "2499\n",
      "Made from synthetic leather Pointed-toe Two-tone suede finish Contrast flat sole\n",
      "Men\n",
      "Griffin\n",
      "Two-Tone Suede Chelsea Boots\n",
      "https://product.koovs.com/156373_78eb702861af471390a258e5cf72b0f0_image1_super_zoom.jpg\n",
      "['https://product.koovs.com/156373_78eb702861af471390a258e5cf72b0f0_front_super_zoom.jpg', 'https://product.koovs.com/156373_78eb702861af471390a258e5cf72b0f0_back_super_zoom.jpg', 'https://product.koovs.com/156373_78eb702861af471390a258e5cf72b0f0_left_super_zoom.jpg']\n",
      "['UK 6/US 7', 'UK 7/US 8', 'UK 8/US 9', 'UK 9/US 10', 'UK 10/US 11']\n"
     ]
    }
   ],
   "source": [
    "value_tester(100)"
   ]
  },
  {
   "cell_type": "code",
   "execution_count": 112,
   "metadata": {},
   "outputs": [],
   "source": [
    "con=sq.connect(r\"E:\\GRROOM\\DataBase\\Koovs.db\")  \n",
    "cur=con.cursor()\n",
    "for i in range(len(product_links)):\n",
    "    try:\n",
    "        if i in brand_names.keys() and i in product_names.keys() and i in secondary_image_links_dict.keys() and i in sizes.keys() and i in price.keys() and i in mrp.keys() and i in description.keys() and i in gender.keys()  and i in primary_image_links_dict.keys():\n",
    "            if brand_names[i] != '' and primary_image_links_dict[i] != ''  and product_names[i] != '' and ','.join(secondary_image_links_dict[i]) != '' and ','.join(sizes[i]) != '' and price[i] != '' and mrp[i] != '' and brand_names[i] != '' and description[i] != '' :\n",
    "                cur.execute('insert into product_details  values(%r,%r,%r,%r,%r,%d,%d,%r,%r,%r,%r,%r)'%('https://www.tatacliq.com/',product_links[i],product_names[i],brand_names[i],','.join(set(sizes[i])),price[i],mrp[i],gender[i],description[i],primary_image_links_dict[i],','.join(secondary_image_links_dict[i]),''))\n",
    "    except:\n",
    "        pass\n",
    "con.commit()\n",
    "con.close()"
   ]
  },
  {
   "cell_type": "code",
   "execution_count": null,
   "metadata": {},
   "outputs": [],
   "source": []
  },
  {
   "cell_type": "code",
   "execution_count": null,
   "metadata": {},
   "outputs": [],
   "source": []
  }
 ],
 "metadata": {
  "kernelspec": {
   "display_name": "Python 3",
   "language": "python",
   "name": "python3"
  },
  "language_info": {
   "codemirror_mode": {
    "name": "ipython",
    "version": 3
   },
   "file_extension": ".py",
   "mimetype": "text/x-python",
   "name": "python",
   "nbconvert_exporter": "python",
   "pygments_lexer": "ipython3",
   "version": "3.8.5"
  }
 },
 "nbformat": 4,
 "nbformat_minor": 4
}
