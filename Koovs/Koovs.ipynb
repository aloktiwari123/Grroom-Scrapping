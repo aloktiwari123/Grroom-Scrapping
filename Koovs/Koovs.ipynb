{
 "cells": [
  {
   "cell_type": "code",
   "execution_count": 1,
   "metadata": {},
   "outputs": [],
   "source": [
    "import time\n",
    "import re\n",
    "import requests as rt\n",
    "import bs4\n",
    "import json\n",
    "import warnings\n",
    "from selenium import webdriver\n",
    "from selenium.webdriver.common.keys import Keys\n",
    "warnings.filterwarnings(\"ignore\")\n",
    "import pickle\n",
    "import numpy\n",
    "import threading\n",
    "import numpy as np\n",
    "import sqlite3 as sq\n",
    "from collections import deque\n",
    "from tqdm import tqdm"
   ]
  },
  {
   "cell_type": "code",
   "execution_count": 2,
   "metadata": {},
   "outputs": [],
   "source": [
    "def cleanhtml(raw_html):\n",
    "    cleanr = re.compile('<.*?>')\n",
    "    cleantext = re.sub(cleanr, '', raw_html)\n",
    "    return cleantext"
   ]
  },
  {
   "cell_type": "code",
   "execution_count": 3,
   "metadata": {},
   "outputs": [],
   "source": [
    "def value_tester(index):\n",
    "    print(product_links[index])\n",
    "    print(mrp[index])\n",
    "    print(price[index])\n",
    "    print(description[index])\n",
    "    print(gender[index])\n",
    "    print(brand_names[index])\n",
    "    print(product_names[index])\n",
    "    print(category[index])\n",
    "    print(primary_image_links_dict[index])\n",
    "    print(secondary_image_links_dict[index])\n",
    "    print(sizes[index])\n",
    "    "
   ]
  },
  {
   "cell_type": "code",
   "execution_count": 4,
   "metadata": {},
   "outputs": [],
   "source": [
    "headers = {'User-Agent' : 'Mozilla/5.0 (Macintosh; Intel Mac OS X 10_14_5) AppleWebKit/537.36 (KHTML, like Gecko) Chrome/84.0.4147.89 Safari/537.36'}"
   ]
  },
  {
   "cell_type": "markdown",
   "metadata": {},
   "source": [
    "# Women\n"
   ]
  },
  {
   "cell_type": "markdown",
   "metadata": {},
   "source": [
    "## Tops"
   ]
  },
  {
   "cell_type": "code",
   "execution_count": 5,
   "metadata": {},
   "outputs": [],
   "source": [
    "product_links={}\n",
    "counter=0\n",
    "for i in range(1,7):\n",
    "    data=rt.get(f'https://www.koovs.com/search-service/v1/products/listing/complete?href=https%3A%2F%2Fwww.koovs.com%2Fwomen%2Ftops&page-size=100&sort=relevance&page={i}',headers=headers)\n",
    "    data_in_json=json.loads(data.text)\n",
    "    for j in data_in_json['data'][0]['data']:\n",
    "        product_links[counter]='https://www.koovs.com'+j['links'][0]['href']\n",
    "        counter+=1\n",
    "    "
   ]
  },
  {
   "cell_type": "code",
   "execution_count": 6,
   "metadata": {},
   "outputs": [
    {
     "data": {
      "text/plain": [
       "600"
      ]
     },
     "execution_count": 6,
     "metadata": {},
     "output_type": "execute_result"
    }
   ],
   "source": [
    "len(product_links)"
   ]
  },
  {
   "cell_type": "code",
   "execution_count": 7,
   "metadata": {},
   "outputs": [],
   "source": [
    "brand_names={}\n",
    "product_names={}\n",
    "primary_image_links_dict={}\n",
    "secondary_image_links_dict={}\n",
    "sizes={}\n",
    "price={}\n",
    "mrp={}\n",
    "category={}\n",
    "description={}\n",
    "gender={}\n",
    "for i in range(len(product_links)):\n",
    "    data=rt.get(product_links[i],headers=headers)\n",
    "    soup=bs4.BeautifulSoup(data.text,'html.parser')\n",
    "    temp=soup.find_all('script')\n",
    "    for j in temp:\n",
    "        try:\n",
    "            json_data = json.loads(j.contents[0][j.contents[0].index('{'):])\n",
    "            if json_data['productPage']['productData']:\n",
    "                brand_names[i]=json_data['productPage']['productData']['brandName']\n",
    "                product_names[i]=json_data['productPage']['productData']['productName']\n",
    "                img_temp=json_data['productPage']['productData']['imageUrls']\n",
    "                primary_image_links_dict[i]=img_temp[0]\n",
    "                secondary_image_links_dict[i]=img_temp[1:]\n",
    "                price[i]=json_data['productPage']['productData']['discountPrice']\n",
    "                mrp[i]=json_data['productPage']['productData']['price']\n",
    "                gender[i]=json_data['productPage']['productData']['gender']\n",
    "                category[i]='Tops'\n",
    "                temp_sizes=[]\n",
    "                for k in json_data['productPage']['productAttribute']['sizes']:\n",
    "                    if k['isOutOfStock'] == False:\n",
    "                        temp_sizes.append(k['code'])\n",
    "                sizes[i]=temp_sizes\n",
    "                soup2=bs4.BeautifulSoup(json_data['productPage']['productData']['productDescription'],'html.parser')\n",
    "                temp_description=[]\n",
    "                for z in soup2.find_all('li'):\n",
    "                    temp_description.append(z.text)\n",
    "                description[i]=' '.join(temp_description)\n",
    "                #break\n",
    "        except:\n",
    "            continue\n",
    "    #break"
   ]
  },
  {
   "cell_type": "code",
   "execution_count": 8,
   "metadata": {},
   "outputs": [
    {
     "data": {
      "text/plain": [
       "(600, 599, 599, 599, 599, 599, 599, 599, 599, 599)"
      ]
     },
     "execution_count": 8,
     "metadata": {},
     "output_type": "execute_result"
    }
   ],
   "source": [
    "len(product_links),len(mrp),len(price),len(description),len(gender),len(brand_names),len(product_names),len(primary_image_links_dict),len(secondary_image_links_dict),len(category)"
   ]
  },
  {
   "cell_type": "code",
   "execution_count": 9,
   "metadata": {},
   "outputs": [
    {
     "name": "stdout",
     "output_type": "stream",
     "text": [
      "https://www.koovs.com/blue-saint-womens-tops-150204-167422.html\n",
      "1399\n",
      "1399\n",
      "Made from Cotton V neck Full sleeves Bell sleeves Regular fit\n",
      "Women\n",
      "Blue Saint\n",
      "Bell Sleeves Casual Top\n",
      "Tops\n",
      "https://product.koovs.com/167422_d13e7e4daab94dd3bbc00140bf0e4165_image1_super_zoom.jpg\n",
      "['https://product.koovs.com/167422_d13e7e4daab94dd3bbc00140bf0e4165_front_super_zoom.jpg', 'https://product.koovs.com/167422_d13e7e4daab94dd3bbc00140bf0e4165_back_super_zoom.jpg', 'https://product.koovs.com/167422_d13e7e4daab94dd3bbc00140bf0e4165_left_super_zoom.jpg', 'https://product.koovs.com/167422_d13e7e4daab94dd3bbc00140bf0e4165_right_super_zoom.jpg']\n",
      "['S', 'XL']\n"
     ]
    }
   ],
   "source": [
    "value_tester(555)"
   ]
  },
  {
   "cell_type": "code",
   "execution_count": 10,
   "metadata": {},
   "outputs": [],
   "source": [
    "con=sq.connect(\"Koovs.db\")  \n",
    "cur=con.cursor()\n",
    "cur.execute('CREATE TABLE product_details (Website varchar(40) not null,Product_Link text PRIMARY KEY,Product_Name varchar(50) not null,Product_Brand varchar(50) not null,Product_Category varchar(50),Size_Avail varchar(20) not null,Price int not null,MRP int not null,Gender varchar(15) not null,Description text not null,Primary_Image_Links text not null,Secondary_Image_Links text not null,Affiliate_Link text not null )')\n",
    "for i in range(len(product_links)):\n",
    "    try:\n",
    "        if i in brand_names.keys() and i in product_names.keys() and i in secondary_image_links_dict.keys() and i in sizes.keys() and i in price.keys() and i in mrp.keys() and i in description.keys() and i in gender.keys()  and i in primary_image_links_dict.keys() and i in category.keys():\n",
    "            if brand_names[i] != '' and primary_image_links_dict[i] != ''  and product_names[i] != '' and ','.join(secondary_image_links_dict[i]) != '' and ','.join(sizes[i]) != '' and price[i] != '' and mrp[i] != '' and brand_names[i] != '' and description[i] != '' and category[i] !='':\n",
    "                cur.execute('insert into product_details  values(%r,%r,%r,%r,%r,%r,%d,%d,%r,%r,%r,%r,%r)'%('https://www.koovs.com/',product_links[i],product_names[i],brand_names[i],category[i],','.join(set(sizes[i])),price[i],mrp[i],gender[i],description[i],primary_image_links_dict[i],','.join(secondary_image_links_dict[i]),''))\n",
    "    except:\n",
    "        pass\n",
    "con.commit()\n",
    "con.close()"
   ]
  },
  {
   "cell_type": "markdown",
   "metadata": {},
   "source": [
    "## Dresses"
   ]
  },
  {
   "cell_type": "code",
   "execution_count": 11,
   "metadata": {},
   "outputs": [],
   "source": [
    "product_links={}\n",
    "counter=0\n",
    "for i in range(1,7):\n",
    "    data=rt.get(f'https://www.koovs.com/search-service/v1/products/listing/complete?href=https%3A%2F%2Fwww.koovs.com%2Fwomen%2Fdresses&page-size=36&sort=relevance&page={i}',headers=headers)\n",
    "    data_in_json=json.loads(data.text)\n",
    "    for j in data_in_json['data'][0]['data']:\n",
    "        product_links[counter]='https://www.koovs.com'+j['links'][0]['href']\n",
    "        counter+=1\n",
    "    "
   ]
  },
  {
   "cell_type": "code",
   "execution_count": 12,
   "metadata": {},
   "outputs": [
    {
     "data": {
      "text/plain": [
       "216"
      ]
     },
     "execution_count": 12,
     "metadata": {},
     "output_type": "execute_result"
    }
   ],
   "source": [
    "len(product_links)"
   ]
  },
  {
   "cell_type": "code",
   "execution_count": 13,
   "metadata": {},
   "outputs": [],
   "source": [
    "brand_names={}\n",
    "product_names={}\n",
    "primary_image_links_dict={}\n",
    "secondary_image_links_dict={}\n",
    "sizes={}\n",
    "price={}\n",
    "mrp={}\n",
    "category={}\n",
    "description={}\n",
    "gender={}\n",
    "for i in range(len(product_links)):\n",
    "    data=rt.get(product_links[i],headers=headers)\n",
    "    soup=bs4.BeautifulSoup(data.text,'html.parser')\n",
    "    temp=soup.find_all('script')\n",
    "    for j in temp:\n",
    "        try:\n",
    "            json_data = json.loads(j.contents[0][j.contents[0].index('{'):])\n",
    "            if json_data['productPage']['productData']:\n",
    "                brand_names[i]=json_data['productPage']['productData']['brandName']\n",
    "                product_names[i]=json_data['productPage']['productData']['productName']\n",
    "                img_temp=json_data['productPage']['productData']['imageUrls']\n",
    "                primary_image_links_dict[i]=img_temp[0]\n",
    "                secondary_image_links_dict[i]=img_temp[1:]\n",
    "                price[i]=json_data['productPage']['productData']['discountPrice']\n",
    "                mrp[i]=json_data['productPage']['productData']['price']\n",
    "                gender[i]=json_data['productPage']['productData']['gender']\n",
    "                category[i]='Dresses'\n",
    "                temp_sizes=[]\n",
    "                for k in json_data['productPage']['productAttribute']['sizes']:\n",
    "                    if k['isOutOfStock'] == False:\n",
    "                        temp_sizes.append(k['code'])\n",
    "                sizes[i]=temp_sizes\n",
    "                soup2=bs4.BeautifulSoup(json_data['productPage']['productData']['productDescription'],'html.parser')\n",
    "                temp_description=[]\n",
    "                for z in soup2.find_all('li'):\n",
    "                    temp_description.append(z.text)\n",
    "                description[i]=' '.join(temp_description)\n",
    "                #break\n",
    "        except:\n",
    "            continue\n",
    "    #break"
   ]
  },
  {
   "cell_type": "code",
   "execution_count": 14,
   "metadata": {},
   "outputs": [
    {
     "data": {
      "text/plain": [
       "(216, 216, 216, 216, 216, 216, 216, 216, 216, 216)"
      ]
     },
     "execution_count": 14,
     "metadata": {},
     "output_type": "execute_result"
    }
   ],
   "source": [
    "len(product_links),len(mrp),len(price),len(description),len(gender),len(brand_names),len(product_names),len(primary_image_links_dict),len(secondary_image_links_dict),len(category)"
   ]
  },
  {
   "cell_type": "code",
   "execution_count": 15,
   "metadata": {},
   "outputs": [
    {
     "name": "stdout",
     "output_type": "stream",
     "text": [
      "https://www.koovs.com/blue-saint-womens-dresses-140174-157231.html\n",
      "1499\n",
      "899\n",
      "Made from cotton-elastane blend Spread collar Button-down closure All over multi-vertical stripes Twin patch pocket Sleeveless Regular fit\n",
      "Women\n",
      "Blue Saint\n",
      "Multi Vertical Stripe Shirt Dress\n",
      "Dresses\n",
      "https://product.koovs.com/157231_4908b934432948fd88b5e3ccd3589d67_image1_super_zoom.jpg\n",
      "['https://product.koovs.com/157231_4908b934432948fd88b5e3ccd3589d67_front_super_zoom.jpg', 'https://product.koovs.com/157231_4908b934432948fd88b5e3ccd3589d67_back_super_zoom.jpg', 'https://product.koovs.com/157231_4908b934432948fd88b5e3ccd3589d67_left_super_zoom.jpg']\n",
      "['XS', 'S', 'M', 'L']\n"
     ]
    }
   ],
   "source": [
    "value_tester(200)"
   ]
  },
  {
   "cell_type": "code",
   "execution_count": 16,
   "metadata": {},
   "outputs": [],
   "source": [
    "con=sq.connect(r\"Koovs.db\")  \n",
    "cur=con.cursor()\n",
    "for i in range(len(product_links)):\n",
    "    try:\n",
    "        if i in brand_names.keys() and i in product_names.keys() and i in secondary_image_links_dict.keys() and i in sizes.keys() and i in price.keys() and i in mrp.keys() and i in description.keys() and i in gender.keys()  and i in primary_image_links_dict.keys() and i in category.keys():\n",
    "            if brand_names[i] != '' and primary_image_links_dict[i] != ''  and product_names[i] != '' and ','.join(secondary_image_links_dict[i]) != '' and ','.join(sizes[i]) != '' and price[i] != '' and mrp[i] != '' and brand_names[i] != '' and description[i] != '' and category[i] !='':\n",
    "                cur.execute('insert into product_details  values(%r,%r,%r,%r,%r,%r,%d,%d,%r,%r,%r,%r,%r)'%('https://www.koovs.com/',product_links[i],product_names[i],brand_names[i],category[i],','.join(set(sizes[i])),price[i],mrp[i],gender[i],description[i],primary_image_links_dict[i],','.join(secondary_image_links_dict[i]),''))\n",
    "    except:\n",
    "        pass\n",
    "con.commit()\n",
    "con.close()"
   ]
  },
  {
   "cell_type": "markdown",
   "metadata": {},
   "source": [
    "## Jeans"
   ]
  },
  {
   "cell_type": "code",
   "execution_count": 17,
   "metadata": {},
   "outputs": [],
   "source": [
    "product_links={}\n",
    "counter=0\n",
    "for i in range(1,7):\n",
    "    try:\n",
    "        data=rt.get(f'https://www.koovs.com/search-service/v1/products/listing/complete?href=https%3A%2F%2Fwww.koovs.com%2Fwomen%2Fjeans&page-size=36&sort=relevance&page={i}',headers=headers)\n",
    "        data_in_json=json.loads(data.text)\n",
    "        for j in data_in_json['data'][0]['data']:\n",
    "            product_links[counter]='https://www.koovs.com'+j['links'][0]['href']\n",
    "            counter+=1\n",
    "    except:\n",
    "        pass\n",
    "\n",
    "    "
   ]
  },
  {
   "cell_type": "code",
   "execution_count": 18,
   "metadata": {},
   "outputs": [
    {
     "data": {
      "text/plain": [
       "153"
      ]
     },
     "execution_count": 18,
     "metadata": {},
     "output_type": "execute_result"
    }
   ],
   "source": [
    "len(product_links)"
   ]
  },
  {
   "cell_type": "code",
   "execution_count": 19,
   "metadata": {},
   "outputs": [],
   "source": [
    "brand_names={}\n",
    "product_names={}\n",
    "primary_image_links_dict={}\n",
    "secondary_image_links_dict={}\n",
    "sizes={}\n",
    "price={}\n",
    "category={}\n",
    "mrp={}\n",
    "description={}\n",
    "gender={}\n",
    "for i in range(len(product_links)):\n",
    "    data=rt.get(product_links[i],headers=headers)\n",
    "    soup=bs4.BeautifulSoup(data.text,'html.parser')\n",
    "    temp=soup.find_all('script')\n",
    "    for j in temp:\n",
    "        try:\n",
    "            json_data = json.loads(j.contents[0][j.contents[0].index('{'):])\n",
    "            if json_data['productPage']['productData']:\n",
    "                brand_names[i]=json_data['productPage']['productData']['brandName']\n",
    "                product_names[i]=json_data['productPage']['productData']['productName']\n",
    "                img_temp=json_data['productPage']['productData']['imageUrls']\n",
    "                primary_image_links_dict[i]=img_temp[0]\n",
    "                secondary_image_links_dict[i]=img_temp[1:]\n",
    "                price[i]=json_data['productPage']['productData']['discountPrice']\n",
    "                mrp[i]=json_data['productPage']['productData']['price']\n",
    "                gender[i]=json_data['productPage']['productData']['gender']\n",
    "                category[i]='Jeans-Women'\n",
    "                temp_sizes=[]\n",
    "                for k in json_data['productPage']['productAttribute']['sizes']:\n",
    "                    if k['isOutOfStock'] == False:\n",
    "                        temp_sizes.append(k['code'])\n",
    "                sizes[i]=temp_sizes\n",
    "                soup2=bs4.BeautifulSoup(json_data['productPage']['productData']['productDescription'],'html.parser')\n",
    "                temp_description=[]\n",
    "                for z in soup2.find_all('li'):\n",
    "                    temp_description.append(z.text)\n",
    "                description[i]=' '.join(temp_description)\n",
    "                #break\n",
    "        except:\n",
    "            continue\n",
    "    #break"
   ]
  },
  {
   "cell_type": "code",
   "execution_count": 20,
   "metadata": {},
   "outputs": [
    {
     "data": {
      "text/plain": [
       "(153, 153, 153, 153, 153, 153, 153, 153, 153, 153)"
      ]
     },
     "execution_count": 20,
     "metadata": {},
     "output_type": "execute_result"
    }
   ],
   "source": [
    "len(product_links),len(mrp),len(price),len(description),len(gender),len(brand_names),len(product_names),len(primary_image_links_dict),len(secondary_image_links_dict),len(category)"
   ]
  },
  {
   "cell_type": "code",
   "execution_count": 21,
   "metadata": {},
   "outputs": [
    {
     "name": "stdout",
     "output_type": "stream",
     "text": [
      "https://www.koovs.com/mid-blue-eco-washed-boyfriend-jeans-151314-168536.html\n",
      "1899\n",
      "1234\n",
      "Made from cotton-elastane Button and fly closure Classic five-pocket style Belt loops Straight fit\n",
      "Women\n",
      "Freakins\n",
      "Mid Rise Boyfriend Jeans\n",
      "Jeans-Women\n",
      "https://product.koovs.com/168536_79f948137c764459a2e77a7cbb7b5b3f_image1_super_zoom.jpg\n",
      "['https://product.koovs.com/168536_79f948137c764459a2e77a7cbb7b5b3f_front_super_zoom.jpg', 'https://product.koovs.com/168536_79f948137c764459a2e77a7cbb7b5b3f_back_super_zoom.jpg', 'https://product.koovs.com/168536_79f948137c764459a2e77a7cbb7b5b3f_left_super_zoom.jpg', 'https://product.koovs.com/168536_79f948137c764459a2e77a7cbb7b5b3f_right_super_zoom.jpg']\n",
      "['30']\n"
     ]
    }
   ],
   "source": [
    "value_tester(100)"
   ]
  },
  {
   "cell_type": "code",
   "execution_count": null,
   "metadata": {},
   "outputs": [],
   "source": []
  },
  {
   "cell_type": "code",
   "execution_count": 22,
   "metadata": {},
   "outputs": [],
   "source": [
    "con=sq.connect(r\"Koovs.db\")  \n",
    "cur=con.cursor()\n",
    "for i in range(len(product_links)):\n",
    "    try:\n",
    "        if i in brand_names.keys() and i in product_names.keys() and i in secondary_image_links_dict.keys() and i in sizes.keys() and i in price.keys() and i in mrp.keys() and i in description.keys() and i in gender.keys()  and i in primary_image_links_dict.keys() and i in category.keys():\n",
    "            if brand_names[i] != '' and primary_image_links_dict[i] != ''  and product_names[i] != '' and ','.join(secondary_image_links_dict[i]) != '' and ','.join(sizes[i]) != '' and price[i] != '' and mrp[i] != '' and brand_names[i] != '' and description[i] != '' and category[i] !='':\n",
    "                cur.execute('insert into product_details  values(%r,%r,%r,%r,%r,%r,%d,%d,%r,%r,%r,%r,%r)'%('https://www.koovs.com/',product_links[i],product_names[i],brand_names[i],category[i],','.join(set(sizes[i])),price[i],mrp[i],gender[i],description[i],primary_image_links_dict[i],','.join(secondary_image_links_dict[i]),''))\n",
    "    except:\n",
    "        pass\n",
    "con.commit()\n",
    "con.close()"
   ]
  },
  {
   "cell_type": "code",
   "execution_count": null,
   "metadata": {},
   "outputs": [],
   "source": []
  },
  {
   "cell_type": "markdown",
   "metadata": {},
   "source": [
    "## Skirts"
   ]
  },
  {
   "cell_type": "code",
   "execution_count": 23,
   "metadata": {},
   "outputs": [],
   "source": [
    "product_links={}\n",
    "counter=0\n",
    "for i in range(0,7):\n",
    "    try:\n",
    "        data=rt.get(f'https://www.koovs.com/search-service/v1/products/listing/complete?href=https%3A%2F%2Fwww.koovs.com%2Fwomen%2Fskirts&page-size=36&sort=relevance&page={0}',headers=headers)\n",
    "        data_in_json=json.loads(data.text)\n",
    "        for j in data_in_json['data'][0]['data']:\n",
    "            product_links[counter]='https://www.koovs.com'+j['links'][0]['href']\n",
    "            counter+=1\n",
    "    except:\n",
    "        continue"
   ]
  },
  {
   "cell_type": "code",
   "execution_count": 24,
   "metadata": {},
   "outputs": [
    {
     "data": {
      "text/plain": [
       "252"
      ]
     },
     "execution_count": 24,
     "metadata": {},
     "output_type": "execute_result"
    }
   ],
   "source": [
    "len(product_links)"
   ]
  },
  {
   "cell_type": "code",
   "execution_count": 25,
   "metadata": {},
   "outputs": [],
   "source": [
    "brand_names={}\n",
    "product_names={}\n",
    "primary_image_links_dict={}\n",
    "secondary_image_links_dict={}\n",
    "sizes={}\n",
    "price={}\n",
    "mrp={}\n",
    "category={}\n",
    "description={}\n",
    "gender={}\n",
    "for i in range(len(product_links)):\n",
    "    data=rt.get(product_links[i],headers=headers)\n",
    "    soup=bs4.BeautifulSoup(data.text,'html.parser')\n",
    "    temp=soup.find_all('script')\n",
    "    for j in temp:\n",
    "        try:\n",
    "            json_data = json.loads(j.contents[0][j.contents[0].index('{'):])\n",
    "            if json_data['productPage']['productData']:\n",
    "                brand_names[i]=json_data['productPage']['productData']['brandName']\n",
    "                product_names[i]=json_data['productPage']['productData']['productName']\n",
    "                img_temp=json_data['productPage']['productData']['imageUrls']\n",
    "                primary_image_links_dict[i]=img_temp[0]\n",
    "                secondary_image_links_dict[i]=img_temp[1:]\n",
    "                price[i]=json_data['productPage']['productData']['discountPrice']\n",
    "                mrp[i]=json_data['productPage']['productData']['price']\n",
    "                gender[i]=json_data['productPage']['productData']['gender']\n",
    "                category[i]='Skirts'\n",
    "                temp_sizes=[]\n",
    "                for k in json_data['productPage']['productAttribute']['sizes']:\n",
    "                    if k['isOutOfStock'] == False:\n",
    "                        temp_sizes.append(k['code'])\n",
    "                sizes[i]=temp_sizes\n",
    "                soup2=bs4.BeautifulSoup(json_data['productPage']['productData']['productDescription'],'html.parser')\n",
    "                temp_description=[]\n",
    "                for z in soup2.find_all('li'):\n",
    "                    temp_description.append(z.text)\n",
    "                description[i]=' '.join(temp_description)\n",
    "                #break\n",
    "        except:\n",
    "            continue\n",
    "    #break"
   ]
  },
  {
   "cell_type": "code",
   "execution_count": 26,
   "metadata": {},
   "outputs": [
    {
     "data": {
      "text/plain": [
       "(252, 252, 252, 252, 252, 252, 252, 252, 252, 252)"
      ]
     },
     "execution_count": 26,
     "metadata": {},
     "output_type": "execute_result"
    }
   ],
   "source": [
    "len(product_links),len(mrp),len(price),len(description),len(gender),len(brand_names),len(product_names),len(primary_image_links_dict),len(secondary_image_links_dict),len(category)"
   ]
  },
  {
   "cell_type": "code",
   "execution_count": 27,
   "metadata": {},
   "outputs": [
    {
     "name": "stdout",
     "output_type": "stream",
     "text": [
      "https://www.koovs.com/dbasic-women-mini-skirts-151735-168957.html\n",
      "999\n",
      "999\n",
      "Made from cotton Elasticated waist Button down style Mini length Regular fit\n",
      "Women\n",
      "D'BASIC\n",
      "Button Down Betty Skirts\n",
      "Skirts\n",
      "https://product.koovs.com/168957_6d115161f49d4f28875cf33b327ed45a_image1_super_zoom.jpg\n",
      "['https://product.koovs.com/168957_6d115161f49d4f28875cf33b327ed45a_front_super_zoom.jpg', 'https://product.koovs.com/168957_6d115161f49d4f28875cf33b327ed45a_back_super_zoom.jpg', 'https://product.koovs.com/168957_6d115161f49d4f28875cf33b327ed45a_left_super_zoom.jpg']\n",
      "['S', 'M']\n"
     ]
    }
   ],
   "source": [
    "value_tester(200)"
   ]
  },
  {
   "cell_type": "code",
   "execution_count": 28,
   "metadata": {},
   "outputs": [
    {
     "data": {
      "text/plain": [
       "252"
      ]
     },
     "execution_count": 28,
     "metadata": {},
     "output_type": "execute_result"
    }
   ],
   "source": [
    "len(product_links)"
   ]
  },
  {
   "cell_type": "code",
   "execution_count": 29,
   "metadata": {},
   "outputs": [],
   "source": [
    "con=sq.connect(r\"Koovs.db\")  \n",
    "cur=con.cursor()\n",
    "for i in range(len(product_links)):\n",
    "    try:\n",
    "        if i in brand_names.keys() and i in product_names.keys() and i in secondary_image_links_dict.keys() and i in sizes.keys() and i in price.keys() and i in mrp.keys() and i in description.keys() and i in gender.keys()  and i in primary_image_links_dict.keys() and i in category.keys():\n",
    "            if brand_names[i] != '' and primary_image_links_dict[i] != ''  and product_names[i] != '' and ','.join(secondary_image_links_dict[i]) != '' and ','.join(sizes[i]) != '' and price[i] != '' and mrp[i] != '' and brand_names[i] != '' and description[i] != '' and category[i] !='':\n",
    "                cur.execute('insert into product_details  values(%r,%r,%r,%r,%r,%r,%d,%d,%r,%r,%r,%r,%r)'%('https://www.koovs.com/',product_links[i],product_names[i],brand_names[i],category[i],','.join(set(sizes[i])),price[i],mrp[i],gender[i],description[i],primary_image_links_dict[i],','.join(secondary_image_links_dict[i]),''))\n",
    "    except:\n",
    "        pass\n",
    "con.commit()\n",
    "con.close()"
   ]
  },
  {
   "cell_type": "markdown",
   "metadata": {},
   "source": [
    "## Leggings"
   ]
  },
  {
   "cell_type": "code",
   "execution_count": 30,
   "metadata": {},
   "outputs": [],
   "source": [
    "product_links={}\n",
    "counter=0\n",
    "for i in range(0,7):\n",
    "    try:\n",
    "        data=rt.get(f'https://www.koovs.com/search-service/v1/products/listing/complete?href=https%3A%2F%2Fwww.koovs.com%2Fwomen%2Ftrousers-and-leggings%2Fsortby-latest&page-size=36&sort=relevance&page={i}',headers=headers)\n",
    "        data_in_json=json.loads(data.text)\n",
    "        for j in data_in_json['data'][0]['data']:\n",
    "            product_links[counter]='https://www.koovs.com'+j['links'][0]['href']\n",
    "            counter+=1\n",
    "    except:\n",
    "        continue"
   ]
  },
  {
   "cell_type": "code",
   "execution_count": 31,
   "metadata": {},
   "outputs": [
    {
     "data": {
      "text/plain": [
       "108"
      ]
     },
     "execution_count": 31,
     "metadata": {},
     "output_type": "execute_result"
    }
   ],
   "source": [
    "len(product_links)"
   ]
  },
  {
   "cell_type": "code",
   "execution_count": 32,
   "metadata": {},
   "outputs": [],
   "source": [
    "brand_names={}\n",
    "product_names={}\n",
    "primary_image_links_dict={}\n",
    "secondary_image_links_dict={}\n",
    "sizes={}\n",
    "price={}\n",
    "mrp={}\n",
    "category={}\n",
    "description={}\n",
    "gender={}\n",
    "for i in range(len(product_links)):\n",
    "    data=rt.get(product_links[i],headers=headers)\n",
    "    soup=bs4.BeautifulSoup(data.text,'html.parser')\n",
    "    temp=soup.find_all('script')\n",
    "    for j in temp:\n",
    "        try:\n",
    "            json_data = json.loads(j.contents[0][j.contents[0].index('{'):])\n",
    "            if json_data['productPage']['productData']:\n",
    "                brand_names[i]=json_data['productPage']['productData']['brandName']\n",
    "                product_names[i]=json_data['productPage']['productData']['productName']\n",
    "                img_temp=json_data['productPage']['productData']['imageUrls']\n",
    "                primary_image_links_dict[i]=img_temp[0]\n",
    "                secondary_image_links_dict[i]=img_temp[1:]\n",
    "                price[i]=json_data['productPage']['productData']['discountPrice']\n",
    "                mrp[i]=json_data['productPage']['productData']['price']\n",
    "                gender[i]=json_data['productPage']['productData']['gender']\n",
    "                category[i]='Leggings'\n",
    "                temp_sizes=[]\n",
    "                for k in json_data['productPage']['productAttribute']['sizes']:\n",
    "                    if k['isOutOfStock'] == False:\n",
    "                        temp_sizes.append(k['code'])\n",
    "                sizes[i]=temp_sizes\n",
    "                soup2=bs4.BeautifulSoup(json_data['productPage']['productData']['productDescription'],'html.parser')\n",
    "                temp_description=[]\n",
    "                for z in soup2.find_all('li'):\n",
    "                    temp_description.append(z.text)\n",
    "                description[i]=' '.join(temp_description)\n",
    "                #break\n",
    "        except:\n",
    "            continue\n",
    "    #break"
   ]
  },
  {
   "cell_type": "code",
   "execution_count": 33,
   "metadata": {},
   "outputs": [
    {
     "name": "stdout",
     "output_type": "stream",
     "text": [
      "https://www.koovs.com/koovs-womens-regular-jeans-151950-169172.html\n",
      "1999\n",
      "1999\n",
      "Made from cotton-spandex blend Elastictaed waist Pleated style Four pockets Slim fit\n",
      "Women\n",
      "KOOVS\n",
      "Elasticated Waist Pleated Trousers\n",
      "Leggings\n",
      "https://product.koovs.com/169172_fd82de4355b34c4aa062c6ca4d40d203_image1_super_zoom.jpg\n",
      "['https://product.koovs.com/169172_fd82de4355b34c4aa062c6ca4d40d203_front_super_zoom.jpg', 'https://product.koovs.com/169172_fd82de4355b34c4aa062c6ca4d40d203_back_super_zoom.jpg', 'https://product.koovs.com/169172_fd82de4355b34c4aa062c6ca4d40d203_left_super_zoom.jpg', 'https://product.koovs.com/169172_fd82de4355b34c4aa062c6ca4d40d203_right_super_zoom.jpg']\n",
      "['26', '28', '30', '32', '34']\n"
     ]
    }
   ],
   "source": [
    "value_tester(50)"
   ]
  },
  {
   "cell_type": "code",
   "execution_count": 34,
   "metadata": {},
   "outputs": [],
   "source": [
    "con=sq.connect(r\"Koovs.db\")  \n",
    "cur=con.cursor()\n",
    "for i in range(len(product_links)):\n",
    "    try:\n",
    "        if i in brand_names.keys() and i in product_names.keys() and i in secondary_image_links_dict.keys() and i in sizes.keys() and i in price.keys() and i in mrp.keys() and i in description.keys() and i in gender.keys()  and i in primary_image_links_dict.keys() and i in category.keys():\n",
    "            if brand_names[i] != '' and primary_image_links_dict[i] != ''  and product_names[i] != '' and ','.join(secondary_image_links_dict[i]) != '' and ','.join(sizes[i]) != '' and price[i] != '' and mrp[i] != '' and brand_names[i] != '' and description[i] != '' and category[i] !='':\n",
    "                cur.execute('insert into product_details  values(%r,%r,%r,%r,%r,%r,%d,%d,%r,%r,%r,%r,%r)'%('https://www.koovs.com/',product_links[i],product_names[i],brand_names[i],category[i],','.join(set(sizes[i])),price[i],mrp[i],gender[i],description[i],primary_image_links_dict[i],','.join(secondary_image_links_dict[i]),''))\n",
    "    except:\n",
    "        pass\n",
    "con.commit()\n",
    "con.close()"
   ]
  },
  {
   "cell_type": "code",
   "execution_count": null,
   "metadata": {},
   "outputs": [],
   "source": []
  },
  {
   "cell_type": "markdown",
   "metadata": {},
   "source": [
    "## Shorts"
   ]
  },
  {
   "cell_type": "code",
   "execution_count": 35,
   "metadata": {},
   "outputs": [],
   "source": [
    "product_links={}\n",
    "counter=0\n",
    "for i in range(0,7):\n",
    "    try:\n",
    "        data=rt.get(f'https://www.koovs.com/search-service/v1/products/listing/complete?href=https%3A%2F%2Fwww.koovs.com%2Fwomen%2Fshorts&page-size=36&sort=latest&page={i}',headers=headers)\n",
    "        data_in_json=json.loads(data.text)\n",
    "        for j in data_in_json['data'][0]['data']:\n",
    "            product_links[counter]='https://www.koovs.com'+j['links'][0]['href']\n",
    "            counter+=1\n",
    "    except:\n",
    "        continue"
   ]
  },
  {
   "cell_type": "code",
   "execution_count": 36,
   "metadata": {},
   "outputs": [
    {
     "data": {
      "text/plain": [
       "67"
      ]
     },
     "execution_count": 36,
     "metadata": {},
     "output_type": "execute_result"
    }
   ],
   "source": [
    "len(product_links)"
   ]
  },
  {
   "cell_type": "code",
   "execution_count": 37,
   "metadata": {},
   "outputs": [],
   "source": [
    "brand_names={}\n",
    "product_names={}\n",
    "primary_image_links_dict={}\n",
    "secondary_image_links_dict={}\n",
    "sizes={}\n",
    "price={}\n",
    "category={}\n",
    "mrp={}\n",
    "description={}\n",
    "gender={}\n",
    "for i in range(len(product_links)):\n",
    "    data=rt.get(product_links[i],headers=headers)\n",
    "    soup=bs4.BeautifulSoup(data.text,'html.parser')\n",
    "    temp=soup.find_all('script')\n",
    "    for j in temp:\n",
    "        try:\n",
    "            json_data = json.loads(j.contents[0][j.contents[0].index('{'):])\n",
    "            if json_data['productPage']['productData']:\n",
    "                brand_names[i]=json_data['productPage']['productData']['brandName']\n",
    "                product_names[i]=json_data['productPage']['productData']['productName']\n",
    "                img_temp=json_data['productPage']['productData']['imageUrls']\n",
    "                primary_image_links_dict[i]=img_temp[0]\n",
    "                secondary_image_links_dict[i]=img_temp[1:]\n",
    "                price[i]=json_data['productPage']['productData']['discountPrice']\n",
    "                mrp[i]=json_data['productPage']['productData']['price']\n",
    "                gender[i]=json_data['productPage']['productData']['gender']\n",
    "                category[i]='Shorts'\n",
    "                temp_sizes=[]\n",
    "                for k in json_data['productPage']['productAttribute']['sizes']:\n",
    "                    if k['isOutOfStock'] == False:\n",
    "                        temp_sizes.append(k['code'])\n",
    "                sizes[i]=temp_sizes\n",
    "                soup2=bs4.BeautifulSoup(json_data['productPage']['productData']['productDescription'],'html.parser')\n",
    "                temp_description=[]\n",
    "                for z in soup2.find_all('li'):\n",
    "                    temp_description.append(z.text)\n",
    "                description[i]=' '.join(temp_description)\n",
    "                #break\n",
    "        except:\n",
    "            continue\n",
    "    #break"
   ]
  },
  {
   "cell_type": "code",
   "execution_count": 38,
   "metadata": {},
   "outputs": [
    {
     "name": "stdout",
     "output_type": "stream",
     "text": [
      "https://www.koovs.com/onezero-womens-day-shorts-148732-165945.html\n",
      "999\n",
      "699\n",
      "Made from poly-elastane blend Elasticated waist Textured effect Active stretch Breathable and lightweight Moisture-wicking technology Reflective brand logo Bodycon fit\n",
      "Women\n",
      "ONE/ZERO BY KOOVS\n",
      "Active Stretch Training Shorts\n",
      "Shorts\n",
      "https://product.koovs.com/165945_77fd32bf7e1d4ad5ac3054d569779350_image1_super_zoom.jpg\n",
      "['https://product.koovs.com/165945_77fd32bf7e1d4ad5ac3054d569779350_front_super_zoom.jpg', 'https://product.koovs.com/165945_77fd32bf7e1d4ad5ac3054d569779350_back_super_zoom.jpg', 'https://product.koovs.com/165945_77fd32bf7e1d4ad5ac3054d569779350_left_super_zoom.jpg', 'https://product.koovs.com/165945_77fd32bf7e1d4ad5ac3054d569779350_right_super_zoom.jpg']\n",
      "['S', 'M', 'L', 'XL']\n"
     ]
    }
   ],
   "source": [
    "value_tester(50)"
   ]
  },
  {
   "cell_type": "code",
   "execution_count": 39,
   "metadata": {},
   "outputs": [],
   "source": [
    "con=sq.connect(r\"Koovs.db\")  \n",
    "cur=con.cursor()\n",
    "for i in range(len(product_links)):\n",
    "    try:\n",
    "        if i in brand_names.keys() and i in product_names.keys() and i in secondary_image_links_dict.keys() and i in sizes.keys() and i in price.keys() and i in mrp.keys() and i in description.keys() and i in gender.keys()  and i in primary_image_links_dict.keys() and i in category.keys():\n",
    "            if brand_names[i] != '' and primary_image_links_dict[i] != ''  and product_names[i] != '' and ','.join(secondary_image_links_dict[i]) != '' and ','.join(sizes[i]) != '' and price[i] != '' and mrp[i] != '' and brand_names[i] != '' and description[i] != '' and category[i] !='':\n",
    "                cur.execute('insert into product_details  values(%r,%r,%r,%r,%r,%r,%d,%d,%r,%r,%r,%r,%r)'%('https://www.koovs.com/',product_links[i],product_names[i],brand_names[i],category[i],','.join(set(sizes[i])),price[i],mrp[i],gender[i],description[i],primary_image_links_dict[i],','.join(secondary_image_links_dict[i]),''))\n",
    "    except:\n",
    "        pass\n",
    "con.commit()\n",
    "con.close()"
   ]
  },
  {
   "cell_type": "code",
   "execution_count": null,
   "metadata": {},
   "outputs": [],
   "source": []
  },
  {
   "cell_type": "markdown",
   "metadata": {},
   "source": [
    "## Coats/Jackets"
   ]
  },
  {
   "cell_type": "code",
   "execution_count": 40,
   "metadata": {},
   "outputs": [
    {
     "data": {
      "text/plain": [
       "117"
      ]
     },
     "execution_count": 40,
     "metadata": {},
     "output_type": "execute_result"
    }
   ],
   "source": [
    "product_links={}\n",
    "counter=0\n",
    "for i in range(0,7):\n",
    "    try:\n",
    "        data=rt.get(f'https://www.koovs.com/search-service/v1/products/listing/complete?href=https%3A%2F%2Fwww.koovs.com%2Fwomen%2Fcoats-and-jackets&page-size=36&sort=relevance&page={i}',headers=headers)\n",
    "        data_in_json=json.loads(data.text)\n",
    "        for j in data_in_json['data'][0]['data']:\n",
    "            product_links[counter]='https://www.koovs.com'+j['links'][0]['href']\n",
    "            counter+=1\n",
    "    except:\n",
    "        continue\n",
    "len(product_links)"
   ]
  },
  {
   "cell_type": "code",
   "execution_count": 41,
   "metadata": {},
   "outputs": [
    {
     "data": {
      "text/plain": [
       "(117, 117, 117, 117, 117, 117, 117, 117, 117)"
      ]
     },
     "execution_count": 41,
     "metadata": {},
     "output_type": "execute_result"
    }
   ],
   "source": [
    "brand_names={}\n",
    "product_names={}\n",
    "primary_image_links_dict={}\n",
    "secondary_image_links_dict={}\n",
    "sizes={}\n",
    "price={}\n",
    "category={}\n",
    "mrp={}\n",
    "description={}\n",
    "gender={}\n",
    "for i in range(len(product_links)):\n",
    "    data=rt.get(product_links[i],headers=headers)\n",
    "    soup=bs4.BeautifulSoup(data.text,'html.parser')\n",
    "    temp=soup.find_all('script')\n",
    "    for j in temp:\n",
    "        try:\n",
    "            json_data = json.loads(j.contents[0][j.contents[0].index('{'):])\n",
    "            if json_data['productPage']['productData']:\n",
    "                brand_names[i]=json_data['productPage']['productData']['brandName']\n",
    "                product_names[i]=json_data['productPage']['productData']['productName']\n",
    "                img_temp=json_data['productPage']['productData']['imageUrls']\n",
    "                primary_image_links_dict[i]=img_temp[0]\n",
    "                secondary_image_links_dict[i]=img_temp[1:]\n",
    "                price[i]=json_data['productPage']['productData']['discountPrice']\n",
    "                mrp[i]=json_data['productPage']['productData']['price']\n",
    "                gender[i]=json_data['productPage']['productData']['gender']\n",
    "                category[i]='Coats/Jackets'\n",
    "                temp_sizes=[]\n",
    "                for k in json_data['productPage']['productAttribute']['sizes']:\n",
    "                    if k['isOutOfStock'] == False:\n",
    "                        temp_sizes.append(k['code'])\n",
    "                sizes[i]=temp_sizes\n",
    "                soup2=bs4.BeautifulSoup(json_data['productPage']['productData']['productDescription'],'html.parser')\n",
    "                temp_description=[]\n",
    "                for z in soup2.find_all('li'):\n",
    "                    temp_description.append(z.text)\n",
    "                description[i]=' '.join(temp_description)\n",
    "                #break\n",
    "        except:\n",
    "            continue\n",
    "    #break\n",
    "len(product_links),len(mrp),len(price),len(description),len(gender),len(brand_names),len(product_names),len(primary_image_links_dict),len(secondary_image_links_dict)"
   ]
  },
  {
   "cell_type": "code",
   "execution_count": 42,
   "metadata": {},
   "outputs": [
    {
     "name": "stdout",
     "output_type": "stream",
     "text": [
      "https://www.koovs.com/blue-graphic-women-quilted-jacket-144336-161442.html\n",
      "2899\n",
      "1450\n",
      "Made From Polyester Hoodie Neckline Long Sleeves Floral Print Style Regular Fit\n",
      "Women\n",
      "Oxolloxo\n",
      "Floral Print Jacket\n",
      "Coats/Jackets\n",
      "https://product.koovs.com/161442_7aba4754f433498f810156dbf5d05eb9_image1_super_zoom.jpg\n",
      "['https://product.koovs.com/161442_7aba4754f433498f810156dbf5d05eb9_front_super_zoom.jpg', 'https://product.koovs.com/161442_7aba4754f433498f810156dbf5d05eb9_back_super_zoom.jpg', 'https://product.koovs.com/161442_7aba4754f433498f810156dbf5d05eb9_left_super_zoom.jpg']\n",
      "['S', 'M', 'L', 'XL']\n"
     ]
    }
   ],
   "source": [
    "value_tester(50)"
   ]
  },
  {
   "cell_type": "code",
   "execution_count": 43,
   "metadata": {},
   "outputs": [],
   "source": [
    "con=sq.connect(r\"Koovs.db\")  \n",
    "cur=con.cursor()\n",
    "for i in range(len(product_links)):\n",
    "    try:\n",
    "        if i in brand_names.keys() and i in product_names.keys() and i in secondary_image_links_dict.keys() and i in sizes.keys() and i in price.keys() and i in mrp.keys() and i in description.keys() and i in gender.keys()  and i in primary_image_links_dict.keys() and i in category.keys():\n",
    "            if brand_names[i] != '' and primary_image_links_dict[i] != ''  and product_names[i] != '' and ','.join(secondary_image_links_dict[i]) != '' and ','.join(sizes[i]) != '' and price[i] != '' and mrp[i] != '' and brand_names[i] != '' and description[i] != '' and category[i] !='':\n",
    "                cur.execute('insert into product_details  values(%r,%r,%r,%r,%r,%r,%d,%d,%r,%r,%r,%r,%r)'%('https://www.koovs.com/',product_links[i],product_names[i],brand_names[i],category[i],','.join(set(sizes[i])),price[i],mrp[i],gender[i],description[i],primary_image_links_dict[i],','.join(secondary_image_links_dict[i]),''))\n",
    "    except:\n",
    "        pass\n",
    "con.commit()\n",
    "con.close()"
   ]
  },
  {
   "cell_type": "code",
   "execution_count": null,
   "metadata": {},
   "outputs": [],
   "source": []
  },
  {
   "cell_type": "markdown",
   "metadata": {},
   "source": [
    "## Shoes"
   ]
  },
  {
   "cell_type": "code",
   "execution_count": 44,
   "metadata": {},
   "outputs": [
    {
     "data": {
      "text/plain": [
       "43"
      ]
     },
     "execution_count": 44,
     "metadata": {},
     "output_type": "execute_result"
    }
   ],
   "source": [
    "product_links={}\n",
    "counter=0\n",
    "for i in range(0,7):\n",
    "    try:\n",
    "        data=rt.get(f'https://www.koovs.com/search-service/v1/products/listing/complete?href=https%3A%2F%2Fwww.koovs.com%2Fwomen%2Fshoes&page-size=36&sort=relevance&page={i}',headers=headers)\n",
    "        data_in_json=json.loads(data.text)\n",
    "        for j in data_in_json['data'][0]['data']:\n",
    "            product_links[counter]='https://www.koovs.com'+j['links'][0]['href']\n",
    "            counter+=1\n",
    "    except:\n",
    "        continue\n",
    "len(product_links)"
   ]
  },
  {
   "cell_type": "code",
   "execution_count": 45,
   "metadata": {},
   "outputs": [
    {
     "data": {
      "text/plain": [
       "(43, 43, 43, 43, 43, 43, 43, 43, 43)"
      ]
     },
     "execution_count": 45,
     "metadata": {},
     "output_type": "execute_result"
    }
   ],
   "source": [
    "brand_names={}\n",
    "product_names={}\n",
    "primary_image_links_dict={}\n",
    "secondary_image_links_dict={}\n",
    "sizes={}\n",
    "price={}\n",
    "category={}\n",
    "mrp={}\n",
    "description={}\n",
    "gender={}\n",
    "for i in range(len(product_links)):\n",
    "    data=rt.get(product_links[i],headers=headers)\n",
    "    soup=bs4.BeautifulSoup(data.text,'html.parser')\n",
    "    temp=soup.find_all('script')\n",
    "    for j in temp:\n",
    "        try:\n",
    "            json_data = json.loads(j.contents[0][j.contents[0].index('{'):])\n",
    "            if json_data['productPage']['productData']:\n",
    "                brand_names[i]=json_data['productPage']['productData']['brandName']\n",
    "                product_names[i]=json_data['productPage']['productData']['productName']\n",
    "                img_temp=json_data['productPage']['productData']['imageUrls']\n",
    "                primary_image_links_dict[i]=img_temp[0]\n",
    "                secondary_image_links_dict[i]=img_temp[1:]\n",
    "                price[i]=json_data['productPage']['productData']['discountPrice']\n",
    "                mrp[i]=json_data['productPage']['productData']['price']\n",
    "                gender[i]=json_data['productPage']['productData']['gender']\n",
    "                category[i]='Shoes'\n",
    "                temp_sizes=[]\n",
    "                for k in json_data['productPage']['productAttribute']['sizes']:\n",
    "                    if k['isOutOfStock'] == False:\n",
    "                        temp_sizes.append(k['code'])\n",
    "                sizes[i]=temp_sizes\n",
    "                soup2=bs4.BeautifulSoup(json_data['productPage']['productData']['productDescription'],'html.parser')\n",
    "                temp_description=[]\n",
    "                for z in soup2.find_all('li'):\n",
    "                    temp_description.append(z.text)\n",
    "                description[i]=' '.join(temp_description)\n",
    "                #break\n",
    "        except:\n",
    "            continue\n",
    "    #break\n",
    "len(product_links),len(mrp),len(price),len(description),len(gender),len(brand_names),len(product_names),len(primary_image_links_dict),len(secondary_image_links_dict)"
   ]
  },
  {
   "cell_type": "code",
   "execution_count": 46,
   "metadata": {},
   "outputs": [
    {
     "name": "stdout",
     "output_type": "stream",
     "text": [
      "https://www.koovs.com/thong-flat-black-141316-158380.html\n",
      "999\n",
      "500\n",
      "Made from PU Thong T-strap Metallic embellishment Flat sole\n",
      "Women\n",
      "INARI\n",
      "Thong T-Strap Flat Sandals\n",
      "Shoes\n",
      "https://product.koovs.com/158380_e2bf16a4bf2749dd8d6108e41fcd1683_image1_super_zoom.jpg\n",
      "['https://product.koovs.com/158380_e2bf16a4bf2749dd8d6108e41fcd1683_front_super_zoom.jpg', 'https://product.koovs.com/158380_e2bf16a4bf2749dd8d6108e41fcd1683_back_super_zoom.jpg', 'https://product.koovs.com/158380_e2bf16a4bf2749dd8d6108e41fcd1683_left_super_zoom.jpg']\n",
      "['UK 5/EU 38', 'UK 6/EU 39', 'UK 7/EU 40', 'UK 4/EU 37']\n"
     ]
    }
   ],
   "source": [
    "value_tester(40)"
   ]
  },
  {
   "cell_type": "code",
   "execution_count": 47,
   "metadata": {},
   "outputs": [],
   "source": [
    "con=sq.connect(r\"Koovs.db\")  \n",
    "cur=con.cursor()\n",
    "for i in range(len(product_links)):\n",
    "    try:\n",
    "        if i in brand_names.keys() and i in product_names.keys() and i in secondary_image_links_dict.keys() and i in sizes.keys() and i in price.keys() and i in mrp.keys() and i in description.keys() and i in gender.keys()  and i in primary_image_links_dict.keys() and i in category.keys():\n",
    "            if brand_names[i] != '' and primary_image_links_dict[i] != ''  and product_names[i] != '' and ','.join(secondary_image_links_dict[i]) != '' and ','.join(sizes[i]) != '' and price[i] != '' and mrp[i] != '' and brand_names[i] != '' and description[i] != '' and category[i] !='':\n",
    "                cur.execute('insert into product_details  values(%r,%r,%r,%r,%r,%r,%d,%d,%r,%r,%r,%r,%r)'%('https://www.koovs.com/',product_links[i],product_names[i],brand_names[i],category[i],','.join(set(sizes[i])),price[i],mrp[i],gender[i],description[i],primary_image_links_dict[i],','.join(secondary_image_links_dict[i]),''))\n",
    "    except:\n",
    "        pass\n",
    "con.commit()\n",
    "con.close()"
   ]
  },
  {
   "cell_type": "code",
   "execution_count": null,
   "metadata": {},
   "outputs": [],
   "source": []
  },
  {
   "cell_type": "markdown",
   "metadata": {},
   "source": [
    "# Men"
   ]
  },
  {
   "cell_type": "markdown",
   "metadata": {},
   "source": [
    "## Shirts"
   ]
  },
  {
   "cell_type": "code",
   "execution_count": 48,
   "metadata": {},
   "outputs": [
    {
     "data": {
      "text/plain": [
       "625"
      ]
     },
     "execution_count": 48,
     "metadata": {},
     "output_type": "execute_result"
    }
   ],
   "source": [
    "product_links={}\n",
    "counter=0\n",
    "for i in range(0,7):\n",
    "    try:\n",
    "        data=rt.get(f'https://www.koovs.com/search-service/v1/products/listing/complete?href=https%3A%2F%2Fwww.koovs.com%2Fmen%2Fshirts&page-size=100&sort=relevance&page={i}',headers=headers)\n",
    "        data_in_json=json.loads(data.text)\n",
    "        for j in data_in_json['data'][0]['data']:\n",
    "            product_links[counter]='https://www.koovs.com'+j['links'][0]['href']\n",
    "            counter+=1\n",
    "    except:\n",
    "        continue\n",
    "len(product_links)"
   ]
  },
  {
   "cell_type": "code",
   "execution_count": 49,
   "metadata": {},
   "outputs": [
    {
     "data": {
      "text/plain": [
       "(625, 625, 625, 625, 625, 625, 625, 625, 625)"
      ]
     },
     "execution_count": 49,
     "metadata": {},
     "output_type": "execute_result"
    }
   ],
   "source": [
    "brand_names={}\n",
    "product_names={}\n",
    "primary_image_links_dict={}\n",
    "secondary_image_links_dict={}\n",
    "sizes={}\n",
    "price={}\n",
    "category={}\n",
    "mrp={}\n",
    "description={}\n",
    "gender={}\n",
    "for i in range(len(product_links)):\n",
    "    data=rt.get(product_links[i],headers=headers)\n",
    "    soup=bs4.BeautifulSoup(data.text,'html.parser')\n",
    "    temp=soup.find_all('script')\n",
    "    for j in temp:\n",
    "        try:\n",
    "            json_data = json.loads(j.contents[0][j.contents[0].index('{'):])\n",
    "            if json_data['productPage']['productData']:\n",
    "                brand_names[i]=json_data['productPage']['productData']['brandName']\n",
    "                product_names[i]=json_data['productPage']['productData']['productName']\n",
    "                img_temp=json_data['productPage']['productData']['imageUrls']\n",
    "                primary_image_links_dict[i]=img_temp[0]\n",
    "                secondary_image_links_dict[i]=img_temp[1:]\n",
    "                price[i]=json_data['productPage']['productData']['discountPrice']\n",
    "                mrp[i]=json_data['productPage']['productData']['price']\n",
    "                gender[i]=json_data['productPage']['productData']['gender']\n",
    "                category[i]='Shirts'\n",
    "                temp_sizes=[]\n",
    "                for k in json_data['productPage']['productAttribute']['sizes']:\n",
    "                    if k['isOutOfStock'] == False:\n",
    "                        temp_sizes.append(k['code'])\n",
    "                sizes[i]=temp_sizes\n",
    "                soup2=bs4.BeautifulSoup(json_data['productPage']['productData']['productDescription'],'html.parser')\n",
    "                temp_description=[]\n",
    "                for z in soup2.find_all('li'):\n",
    "                    temp_description.append(z.text)\n",
    "                description[i]=' '.join(temp_description)\n",
    "                #break\n",
    "        except:\n",
    "            continue\n",
    "    #break\n",
    "len(product_links),len(mrp),len(price),len(description),len(gender),len(brand_names),len(product_names),len(primary_image_links_dict),len(secondary_image_links_dict)"
   ]
  },
  {
   "cell_type": "code",
   "execution_count": 50,
   "metadata": {},
   "outputs": [
    {
     "name": "stdout",
     "output_type": "stream",
     "text": [
      "https://www.koovs.com/blue-saint-men-casual-shirts-153023-170257.html\n",
      "1899\n",
      "1899\n",
      "Made from cotton  Spread collar  Buttondown closure  Overlap placket  Twin patch pocket Twin flap pockets Long sleeves Regular fit \n",
      "Men\n",
      "Blue Saint\n",
      "Twin Patch Pocket Regular Fit Shirt\n",
      "Shirts\n",
      "https://product.koovs.com/170257_c00be7a2068d4d889e5b94fab24271c4_image1_super_zoom.jpg\n",
      "['https://product.koovs.com/170257_c00be7a2068d4d889e5b94fab24271c4_front_super_zoom.jpg', 'https://product.koovs.com/170257_c00be7a2068d4d889e5b94fab24271c4_back_super_zoom.jpg', 'https://product.koovs.com/170257_c00be7a2068d4d889e5b94fab24271c4_left_super_zoom.jpg', 'https://product.koovs.com/170257_c00be7a2068d4d889e5b94fab24271c4_right_super_zoom.jpg']\n",
      "['L', 'XL']\n"
     ]
    }
   ],
   "source": [
    "value_tester(40)"
   ]
  },
  {
   "cell_type": "code",
   "execution_count": 51,
   "metadata": {},
   "outputs": [],
   "source": [
    "con=sq.connect(r\"Koovs.db\")  \n",
    "cur=con.cursor()\n",
    "for i in range(len(product_links)):\n",
    "    try:\n",
    "        if i in brand_names.keys() and i in product_names.keys() and i in secondary_image_links_dict.keys() and i in sizes.keys() and i in price.keys() and i in mrp.keys() and i in description.keys() and i in gender.keys()  and i in primary_image_links_dict.keys() and i in category.keys():\n",
    "            if brand_names[i] != '' and primary_image_links_dict[i] != ''  and product_names[i] != '' and ','.join(secondary_image_links_dict[i]) != '' and ','.join(sizes[i]) != '' and price[i] != '' and mrp[i] != '' and brand_names[i] != '' and description[i] != '' and category[i] !='':\n",
    "                cur.execute('insert into product_details  values(%r,%r,%r,%r,%r,%r,%d,%d,%r,%r,%r,%r,%r)'%('https://www.koovs.com/',product_links[i],product_names[i],brand_names[i],category[i],','.join(set(sizes[i])),price[i],mrp[i],gender[i],description[i],primary_image_links_dict[i],','.join(secondary_image_links_dict[i]),''))\n",
    "    except:\n",
    "        pass\n",
    "con.commit()\n",
    "con.close()"
   ]
  },
  {
   "cell_type": "code",
   "execution_count": null,
   "metadata": {},
   "outputs": [],
   "source": []
  },
  {
   "cell_type": "markdown",
   "metadata": {},
   "source": [
    "## Tshirts"
   ]
  },
  {
   "cell_type": "code",
   "execution_count": 52,
   "metadata": {},
   "outputs": [
    {
     "data": {
      "text/plain": [
       "1322"
      ]
     },
     "execution_count": 52,
     "metadata": {},
     "output_type": "execute_result"
    }
   ],
   "source": [
    "product_links={}\n",
    "counter=0\n",
    "for i in range(0,15):\n",
    "    try:\n",
    "        data=rt.get(f'https://www.koovs.com/search-service/v1/products/listing/complete?href=https%3A%2F%2Fwww.koovs.com%2Fmen%2Ft-shirts-and-polo-shirts&page-size=100&sort=relevance&page={i}',headers=headers)\n",
    "        data_in_json=json.loads(data.text)\n",
    "        for j in data_in_json['data'][0]['data']:\n",
    "            product_links[counter]='https://www.koovs.com'+j['links'][0]['href']\n",
    "            counter+=1\n",
    "    except:\n",
    "        continue\n",
    "len(product_links)"
   ]
  },
  {
   "cell_type": "code",
   "execution_count": 53,
   "metadata": {},
   "outputs": [
    {
     "data": {
      "text/plain": [
       "(1322, 1322, 1322, 1322, 1322, 1322, 1322, 1322, 1322)"
      ]
     },
     "execution_count": 53,
     "metadata": {},
     "output_type": "execute_result"
    }
   ],
   "source": [
    "brand_names={}\n",
    "product_names={}\n",
    "primary_image_links_dict={}\n",
    "secondary_image_links_dict={}\n",
    "sizes={}\n",
    "price={}\n",
    "category={}\n",
    "mrp={}\n",
    "description={}\n",
    "gender={}\n",
    "for i in range(len(product_links)):\n",
    "    data=rt.get(product_links[i],headers=headers)\n",
    "    soup=bs4.BeautifulSoup(data.text,'html.parser')\n",
    "    temp=soup.find_all('script')\n",
    "    for j in temp:\n",
    "        try:\n",
    "            json_data = json.loads(j.contents[0][j.contents[0].index('{'):])\n",
    "            if json_data['productPage']['productData']:\n",
    "                brand_names[i]=json_data['productPage']['productData']['brandName']\n",
    "                product_names[i]=json_data['productPage']['productData']['productName']\n",
    "                img_temp=json_data['productPage']['productData']['imageUrls']\n",
    "                primary_image_links_dict[i]=img_temp[0]\n",
    "                secondary_image_links_dict[i]=img_temp[1:]\n",
    "                price[i]=json_data['productPage']['productData']['discountPrice']\n",
    "                mrp[i]=json_data['productPage']['productData']['price']\n",
    "                gender[i]=json_data['productPage']['productData']['gender']\n",
    "                category[i]='T-Shirts'\n",
    "                temp_sizes=[]\n",
    "                for k in json_data['productPage']['productAttribute']['sizes']:\n",
    "                    if k['isOutOfStock'] == False:\n",
    "                        temp_sizes.append(k['code'])\n",
    "                sizes[i]=temp_sizes\n",
    "                soup2=bs4.BeautifulSoup(json_data['productPage']['productData']['productDescription'],'html.parser')\n",
    "                temp_description=[]\n",
    "                for z in soup2.find_all('li'):\n",
    "                    temp_description.append(z.text)\n",
    "                description[i]=' '.join(temp_description)\n",
    "                #break \n",
    "        except:\n",
    "            continue\n",
    "    #break\n",
    "len(product_links),len(mrp),len(price),len(description),len(gender),len(brand_names),len(product_names),len(primary_image_links_dict),len(secondary_image_links_dict)"
   ]
  },
  {
   "cell_type": "code",
   "execution_count": 54,
   "metadata": {},
   "outputs": [
    {
     "name": "stdout",
     "output_type": "stream",
     "text": [
      "https://www.koovs.com/blue-saint-mens-tshirt-141357-158421.html\n",
      "499\n",
      "499\n",
      "Made from cotton V-neckline Short sleeves Tipped and ribbed edges Slim fit\n",
      "Men\n",
      "Blue Saint\n",
      "V-Neck Short Sleeves T-shirt\n",
      "T-Shirts\n",
      "https://product.koovs.com/158421_83c48a267db64b11be2aa0f2c8ab5803_image1_super_zoom.jpg\n",
      "['https://product.koovs.com/158421_83c48a267db64b11be2aa0f2c8ab5803_front_super_zoom.jpg', 'https://product.koovs.com/158421_83c48a267db64b11be2aa0f2c8ab5803_back_super_zoom.jpg', 'https://product.koovs.com/158421_83c48a267db64b11be2aa0f2c8ab5803_left_super_zoom.jpg']\n",
      "['S', 'M', 'L']\n"
     ]
    }
   ],
   "source": [
    "value_tester(1000)"
   ]
  },
  {
   "cell_type": "code",
   "execution_count": 55,
   "metadata": {},
   "outputs": [],
   "source": [
    "con=sq.connect(r\"Koovs.db\")  \n",
    "cur=con.cursor()\n",
    "for i in range(len(product_links)):\n",
    "    try:\n",
    "        if i in brand_names.keys() and i in product_names.keys() and i in secondary_image_links_dict.keys() and i in sizes.keys() and i in price.keys() and i in mrp.keys() and i in description.keys() and i in gender.keys()  and i in primary_image_links_dict.keys() and i in category.keys():\n",
    "            if brand_names[i] != '' and primary_image_links_dict[i] != ''  and product_names[i] != '' and ','.join(secondary_image_links_dict[i]) != '' and ','.join(sizes[i]) != '' and price[i] != '' and mrp[i] != '' and brand_names[i] != '' and description[i] != '' and category[i] !='':\n",
    "                cur.execute('insert into product_details  values(%r,%r,%r,%r,%r,%r,%d,%d,%r,%r,%r,%r,%r)'%('https://www.koovs.com/',product_links[i],product_names[i],brand_names[i],category[i],','.join(set(sizes[i])),price[i],mrp[i],gender[i],description[i],primary_image_links_dict[i],','.join(secondary_image_links_dict[i]),''))\n",
    "    except:\n",
    "        pass\n",
    "con.commit()\n",
    "con.close()"
   ]
  },
  {
   "cell_type": "code",
   "execution_count": null,
   "metadata": {},
   "outputs": [],
   "source": []
  },
  {
   "cell_type": "markdown",
   "metadata": {},
   "source": [
    "## Jeans"
   ]
  },
  {
   "cell_type": "code",
   "execution_count": 56,
   "metadata": {},
   "outputs": [
    {
     "data": {
      "text/plain": [
       "431"
      ]
     },
     "execution_count": 56,
     "metadata": {},
     "output_type": "execute_result"
    }
   ],
   "source": [
    "product_links={}\n",
    "counter=0\n",
    "for i in range(0,15):\n",
    "    try:\n",
    "        data=rt.get(f'https://www.koovs.com/search-service/v1/products/listing/complete?href=https%3A%2F%2Fwww.koovs.com%2Fmen%2Fjeans&page-size=100&sort=relevance&page={i}',headers=headers)\n",
    "        data_in_json=json.loads(data.text)\n",
    "        for j in data_in_json['data'][0]['data']:\n",
    "            product_links[counter]='https://www.koovs.com'+j['links'][0]['href']\n",
    "            counter+=1\n",
    "    except:\n",
    "        continue\n",
    "len(product_links)"
   ]
  },
  {
   "cell_type": "code",
   "execution_count": 57,
   "metadata": {},
   "outputs": [
    {
     "data": {
      "text/plain": [
       "(431, 431, 431, 431, 431, 431, 431, 431, 431)"
      ]
     },
     "execution_count": 57,
     "metadata": {},
     "output_type": "execute_result"
    }
   ],
   "source": [
    "brand_names={}\n",
    "product_names={}\n",
    "primary_image_links_dict={}\n",
    "secondary_image_links_dict={}\n",
    "sizes={}\n",
    "price={}\n",
    "category={}\n",
    "mrp={}\n",
    "description={}\n",
    "gender={}\n",
    "for i in range(len(product_links)):\n",
    "    data=rt.get(product_links[i],headers=headers)\n",
    "    soup=bs4.BeautifulSoup(data.text,'html.parser')\n",
    "    temp=soup.find_all('script')\n",
    "    for j in temp:\n",
    "        try:\n",
    "            json_data = json.loads(j.contents[0][j.contents[0].index('{'):])\n",
    "            if json_data['productPage']['productData']:\n",
    "                brand_names[i]=json_data['productPage']['productData']['brandName']\n",
    "                product_names[i]=json_data['productPage']['productData']['productName']\n",
    "                img_temp=json_data['productPage']['productData']['imageUrls']\n",
    "                primary_image_links_dict[i]=img_temp[0]\n",
    "                secondary_image_links_dict[i]=img_temp[1:]\n",
    "                price[i]=json_data['productPage']['productData']['discountPrice']\n",
    "                mrp[i]=json_data['productPage']['productData']['price']\n",
    "                gender[i]=json_data['productPage']['productData']['gender']\n",
    "                category[i]='Jeans'\n",
    "                temp_sizes=[]\n",
    "                for k in json_data['productPage']['productAttribute']['sizes']:\n",
    "                    if k['isOutOfStock'] == False:\n",
    "                        temp_sizes.append(k['code'])\n",
    "                sizes[i]=temp_sizes\n",
    "                soup2=bs4.BeautifulSoup(json_data['productPage']['productData']['productDescription'],'html.parser')\n",
    "                temp_description=[]\n",
    "                for z in soup2.find_all('li'):\n",
    "                    temp_description.append(z.text)\n",
    "                description[i]=' '.join(temp_description)\n",
    "                #break\n",
    "        except:\n",
    "            continue\n",
    "    #break\n",
    "len(product_links),len(mrp),len(price),len(description),len(gender),len(brand_names),len(product_names),len(primary_image_links_dict),len(secondary_image_links_dict)"
   ]
  },
  {
   "cell_type": "code",
   "execution_count": 58,
   "metadata": {},
   "outputs": [
    {
     "name": "stdout",
     "output_type": "stream",
     "text": [
      "https://www.koovs.com/blue-saint-men-skinny-jeans-148632-165845.html\n",
      "2499\n",
      "1749\n",
      "Made from cotton-elastane blend Button and fly closure Classic five-pocket style Dark wash effect Chain detailing Belt loops Slim fit\n",
      "Men\n",
      "Blue Saint\n",
      "Dark Wash Chain Detail Jeans\n",
      "Jeans\n",
      "https://product.koovs.com/165845_d1f6c547b31444a98963cfa7a9b0f8c8_image1_super_zoom.jpg\n",
      "['https://product.koovs.com/165845_d1f6c547b31444a98963cfa7a9b0f8c8_front_super_zoom.jpg', 'https://product.koovs.com/165845_d1f6c547b31444a98963cfa7a9b0f8c8_back_super_zoom.jpg', 'https://product.koovs.com/165845_d1f6c547b31444a98963cfa7a9b0f8c8_left_super_zoom.jpg', 'https://product.koovs.com/165845_d1f6c547b31444a98963cfa7a9b0f8c8_right_super_zoom.jpg']\n",
      "['30', '32', '34']\n"
     ]
    }
   ],
   "source": [
    "value_tester(300)"
   ]
  },
  {
   "cell_type": "code",
   "execution_count": 59,
   "metadata": {},
   "outputs": [],
   "source": [
    "con=sq.connect(r\"Koovs.db\")  \n",
    "cur=con.cursor()\n",
    "for i in range(len(product_links)):\n",
    "    try:\n",
    "        if i in brand_names.keys() and i in product_names.keys() and i in secondary_image_links_dict.keys() and i in sizes.keys() and i in price.keys() and i in mrp.keys() and i in description.keys() and i in gender.keys()  and i in primary_image_links_dict.keys() and i in category.keys():\n",
    "            if brand_names[i] != '' and primary_image_links_dict[i] != ''  and product_names[i] != '' and ','.join(secondary_image_links_dict[i]) != '' and ','.join(sizes[i]) != '' and price[i] != '' and mrp[i] != '' and brand_names[i] != '' and description[i] != '' and category[i] !='':\n",
    "                cur.execute('insert into product_details  values(%r,%r,%r,%r,%r,%r,%d,%d,%r,%r,%r,%r,%r)'%('https://www.koovs.com/',product_links[i],product_names[i],brand_names[i],category[i],','.join(set(sizes[i])),price[i],mrp[i],gender[i],description[i],primary_image_links_dict[i],','.join(secondary_image_links_dict[i]),''))\n",
    "    except:\n",
    "        pass\n",
    "con.commit()\n",
    "con.close()"
   ]
  },
  {
   "cell_type": "code",
   "execution_count": null,
   "metadata": {},
   "outputs": [],
   "source": []
  },
  {
   "cell_type": "markdown",
   "metadata": {},
   "source": [
    "## Trousers"
   ]
  },
  {
   "cell_type": "code",
   "execution_count": 60,
   "metadata": {},
   "outputs": [
    {
     "data": {
      "text/plain": [
       "118"
      ]
     },
     "execution_count": 60,
     "metadata": {},
     "output_type": "execute_result"
    }
   ],
   "source": [
    "product_links={}\n",
    "counter=0\n",
    "for i in range(0,15):\n",
    "    try:\n",
    "        data=rt.get(f'https://www.koovs.com/search-service/v1/products/listing/complete?href=https%3A%2F%2Fwww.koovs.com%2Fmen%2Ftrousers-and-chinos&page-size=100&sort=relevance&page={i}',headers=headers)\n",
    "        data_in_json=json.loads(data.text)\n",
    "        for j in data_in_json['data'][0]['data']:\n",
    "            product_links[counter]='https://www.koovs.com'+j['links'][0]['href']\n",
    "            counter+=1\n",
    "    except:\n",
    "        continue\n",
    "len(product_links)"
   ]
  },
  {
   "cell_type": "code",
   "execution_count": 61,
   "metadata": {},
   "outputs": [
    {
     "data": {
      "text/plain": [
       "(118, 118, 118, 118, 118, 118, 118, 118, 118)"
      ]
     },
     "execution_count": 61,
     "metadata": {},
     "output_type": "execute_result"
    }
   ],
   "source": [
    "brand_names={}\n",
    "product_names={}\n",
    "primary_image_links_dict={}\n",
    "secondary_image_links_dict={}\n",
    "sizes={}\n",
    "price={}\n",
    "category={}\n",
    "mrp={}\n",
    "description={}\n",
    "gender={}\n",
    "for i in range(len(product_links)):\n",
    "    data=rt.get(product_links[i],headers=headers)\n",
    "    soup=bs4.BeautifulSoup(data.text,'html.parser')\n",
    "    temp=soup.find_all('script')\n",
    "    for j in temp:\n",
    "        try:\n",
    "            json_data = json.loads(j.contents[0][j.contents[0].index('{'):])\n",
    "            if json_data['productPage']['productData']:\n",
    "                brand_names[i]=json_data['productPage']['productData']['brandName']\n",
    "                product_names[i]=json_data['productPage']['productData']['productName']\n",
    "                img_temp=json_data['productPage']['productData']['imageUrls']\n",
    "                primary_image_links_dict[i]=img_temp[0]\n",
    "                secondary_image_links_dict[i]=img_temp[1:]\n",
    "                price[i]=json_data['productPage']['productData']['discountPrice']\n",
    "                mrp[i]=json_data['productPage']['productData']['price']\n",
    "                gender[i]=json_data['productPage']['productData']['gender']\n",
    "                category[i]='Trousers'\n",
    "                temp_sizes=[]\n",
    "                for k in json_data['productPage']['productAttribute']['sizes']:\n",
    "                    if k['isOutOfStock'] == False:\n",
    "                        temp_sizes.append(k['code'])\n",
    "                sizes[i]=temp_sizes\n",
    "                soup2=bs4.BeautifulSoup(json_data['productPage']['productData']['productDescription'],'html.parser')\n",
    "                temp_description=[]\n",
    "                for z in soup2.find_all('li'):\n",
    "                    temp_description.append(z.text)\n",
    "                description[i]=' '.join(temp_description)\n",
    "                #break\n",
    "        except:\n",
    "            continue\n",
    "    #break\n",
    "len(product_links),len(mrp),len(price),len(description),len(gender),len(brand_names),len(product_names),len(primary_image_links_dict),len(secondary_image_links_dict)"
   ]
  },
  {
   "cell_type": "code",
   "execution_count": 62,
   "metadata": {},
   "outputs": [
    {
     "name": "stdout",
     "output_type": "stream",
     "text": [
      "https://www.koovs.com/koovs-men-trousers-150030-167243.html\n",
      "2699\n",
      "2699\n",
      "Made from cotton Button and fly closure Scenery print style Side pockets Belt loops Relaxed fit\n",
      "Men\n",
      "KOOVS\n",
      "Placement Scenery Print Trousers\n",
      "Trousers\n",
      "https://product.koovs.com/167243_9414def4a2b345caa0cdb700439c0f19_image1_super_zoom.jpg\n",
      "['https://product.koovs.com/167243_9414def4a2b345caa0cdb700439c0f19_front_super_zoom.jpg', 'https://product.koovs.com/167243_9414def4a2b345caa0cdb700439c0f19_back_super_zoom.jpg', 'https://product.koovs.com/167243_9414def4a2b345caa0cdb700439c0f19_left_super_zoom.jpg', 'https://product.koovs.com/167243_9414def4a2b345caa0cdb700439c0f19_right_super_zoom.jpg']\n",
      "['30', '32', '34', '36']\n"
     ]
    }
   ],
   "source": [
    "value_tester(100)"
   ]
  },
  {
   "cell_type": "code",
   "execution_count": 63,
   "metadata": {},
   "outputs": [],
   "source": [
    "con=sq.connect(r\"Koovs.db\")  \n",
    "cur=con.cursor()\n",
    "for i in range(len(product_links)):\n",
    "    try:\n",
    "        if i in brand_names.keys() and i in product_names.keys() and i in secondary_image_links_dict.keys() and i in sizes.keys() and i in price.keys() and i in mrp.keys() and i in description.keys() and i in gender.keys()  and i in primary_image_links_dict.keys() and i in category.keys():\n",
    "            if brand_names[i] != '' and primary_image_links_dict[i] != ''  and product_names[i] != '' and ','.join(secondary_image_links_dict[i]) != '' and ','.join(sizes[i]) != '' and price[i] != '' and mrp[i] != '' and brand_names[i] != '' and description[i] != '' and category[i] !='':\n",
    "                cur.execute('insert into product_details  values(%r,%r,%r,%r,%r,%r,%d,%d,%r,%r,%r,%r,%r)'%('https://www.koovs.com/',product_links[i],product_names[i],brand_names[i],category[i],','.join(set(sizes[i])),price[i],mrp[i],gender[i],description[i],primary_image_links_dict[i],','.join(secondary_image_links_dict[i]),''))\n",
    "    except:\n",
    "        pass\n",
    "con.commit()\n",
    "con.close()"
   ]
  },
  {
   "cell_type": "code",
   "execution_count": null,
   "metadata": {},
   "outputs": [],
   "source": []
  },
  {
   "cell_type": "markdown",
   "metadata": {},
   "source": [
    "## Jogger"
   ]
  },
  {
   "cell_type": "code",
   "execution_count": 64,
   "metadata": {},
   "outputs": [
    {
     "data": {
      "text/plain": [
       "249"
      ]
     },
     "execution_count": 64,
     "metadata": {},
     "output_type": "execute_result"
    }
   ],
   "source": [
    "product_links={}\n",
    "counter=0\n",
    "for i in range(0,15):\n",
    "    try:\n",
    "        data=rt.get(f'https://www.koovs.com/search-service/v1/products/listing/complete?href=https%3A%2F%2Fwww.koovs.com%2Fmen%2Fjog-pants&page-size=100&sort=relevance&page={i}',headers=headers)\n",
    "        data_in_json=json.loads(data.text)\n",
    "        for j in data_in_json['data'][0]['data']:\n",
    "            product_links[counter]='https://www.koovs.com'+j['links'][0]['href']\n",
    "            counter+=1\n",
    "    except:\n",
    "        continue\n",
    "len(product_links)"
   ]
  },
  {
   "cell_type": "code",
   "execution_count": 65,
   "metadata": {},
   "outputs": [
    {
     "data": {
      "text/plain": [
       "(249, 249, 249, 249, 249, 249, 249, 249, 249)"
      ]
     },
     "execution_count": 65,
     "metadata": {},
     "output_type": "execute_result"
    }
   ],
   "source": [
    "brand_names={}\n",
    "product_names={}\n",
    "primary_image_links_dict={}\n",
    "secondary_image_links_dict={}\n",
    "sizes={}\n",
    "price={}\n",
    "category={}\n",
    "mrp={}\n",
    "description={}\n",
    "gender={}\n",
    "for i in range(len(product_links)):\n",
    "    data=rt.get(product_links[i],headers=headers)\n",
    "    soup=bs4.BeautifulSoup(data.text,'html.parser')\n",
    "    temp=soup.find_all('script')\n",
    "    for j in temp:\n",
    "        try:\n",
    "            json_data = json.loads(j.contents[0][j.contents[0].index('{'):])\n",
    "            if json_data['productPage']['productData']:\n",
    "                brand_names[i]=json_data['productPage']['productData']['brandName']\n",
    "                product_names[i]=json_data['productPage']['productData']['productName']\n",
    "                img_temp=json_data['productPage']['productData']['imageUrls']\n",
    "                primary_image_links_dict[i]=img_temp[0]\n",
    "                secondary_image_links_dict[i]=img_temp[1:]\n",
    "                price[i]=json_data['productPage']['productData']['discountPrice']\n",
    "                mrp[i]=json_data['productPage']['productData']['price']\n",
    "                gender[i]=json_data['productPage']['productData']['gender']\n",
    "                category[i]='Jogger'\n",
    "                temp_sizes=[]\n",
    "                for k in json_data['productPage']['productAttribute']['sizes']:\n",
    "                    if k['isOutOfStock'] == False:\n",
    "                        temp_sizes.append(k['code'])\n",
    "                sizes[i]=temp_sizes\n",
    "                soup2=bs4.BeautifulSoup(json_data['productPage']['productData']['productDescription'],'html.parser')\n",
    "                temp_description=[]\n",
    "                for z in soup2.find_all('li'):\n",
    "                    temp_description.append(z.text)\n",
    "                description[i]=' '.join(temp_description)\n",
    "                #break\n",
    "        except:\n",
    "            continue\n",
    "    #break\n",
    "len(product_links),len(mrp),len(price),len(description),len(gender),len(brand_names),len(product_names),len(primary_image_links_dict),len(secondary_image_links_dict)"
   ]
  },
  {
   "cell_type": "code",
   "execution_count": 66,
   "metadata": {},
   "outputs": [
    {
     "name": "stdout",
     "output_type": "stream",
     "text": [
      "https://www.koovs.com/sheltr-mens-jogger-141090-158154.html\n",
      "2299\n",
      "1150\n",
      "Made From Cotton and Elastane Two Pocket Style Zip Hem Closure Regular Fit\n",
      "Men\n",
      "Sheltr\n",
      "Basic Zip Hem Jogger\n",
      "Jogger\n",
      "https://product.koovs.com/158154_d46d9f6b8c774fc19342bb44a6f1fdeb_image1_super_zoom.jpg\n",
      "['https://product.koovs.com/158154_d46d9f6b8c774fc19342bb44a6f1fdeb_front_super_zoom.jpg', 'https://product.koovs.com/158154_d46d9f6b8c774fc19342bb44a6f1fdeb_back_super_zoom.jpg', 'https://product.koovs.com/158154_d46d9f6b8c774fc19342bb44a6f1fdeb_left_super_zoom.jpg', 'https://product.koovs.com/158154_d46d9f6b8c774fc19342bb44a6f1fdeb_right_super_zoom.jpg']\n",
      "['28', '30', '32', '34', '36']\n"
     ]
    }
   ],
   "source": [
    "value_tester(200)"
   ]
  },
  {
   "cell_type": "code",
   "execution_count": 67,
   "metadata": {},
   "outputs": [],
   "source": [
    "con=sq.connect(r\"Koovs.db\")  \n",
    "cur=con.cursor()\n",
    "for i in range(len(product_links)):\n",
    "    try:\n",
    "        if i in brand_names.keys() and i in product_names.keys() and i in secondary_image_links_dict.keys() and i in sizes.keys() and i in price.keys() and i in mrp.keys() and i in description.keys() and i in gender.keys()  and i in primary_image_links_dict.keys() and i in category.keys():\n",
    "            if brand_names[i] != '' and primary_image_links_dict[i] != ''  and product_names[i] != '' and ','.join(secondary_image_links_dict[i]) != '' and ','.join(sizes[i]) != '' and price[i] != '' and mrp[i] != '' and brand_names[i] != '' and description[i] != '' and category[i] !='':\n",
    "                cur.execute('insert into product_details  values(%r,%r,%r,%r,%r,%r,%d,%d,%r,%r,%r,%r,%r)'%('https://www.koovs.com/',product_links[i],product_names[i],brand_names[i],category[i],','.join(set(sizes[i])),price[i],mrp[i],gender[i],description[i],primary_image_links_dict[i],','.join(secondary_image_links_dict[i]),''))\n",
    "    except:\n",
    "        pass\n",
    "con.commit()\n",
    "con.close()"
   ]
  },
  {
   "cell_type": "code",
   "execution_count": null,
   "metadata": {},
   "outputs": [],
   "source": []
  },
  {
   "cell_type": "markdown",
   "metadata": {},
   "source": [
    "## Vests"
   ]
  },
  {
   "cell_type": "code",
   "execution_count": 68,
   "metadata": {},
   "outputs": [
    {
     "data": {
      "text/plain": [
       "93"
      ]
     },
     "execution_count": 68,
     "metadata": {},
     "output_type": "execute_result"
    }
   ],
   "source": [
    "product_links={}\n",
    "counter=0\n",
    "for i in range(0,15):\n",
    "    try:\n",
    "        data=rt.get(f'https://www.koovs.com/search-service/v1/products/listing/complete?href=https%3A%2F%2Fwww.koovs.com%2Fmen%2Fvests&page-size=100&sort=relevance&page={i}',headers=headers)\n",
    "        data_in_json=json.loads(data.text)\n",
    "        for j in data_in_json['data'][0]['data']:\n",
    "            product_links[counter]='https://www.koovs.com'+j['links'][0]['href']\n",
    "            counter+=1\n",
    "    except:\n",
    "        continue\n",
    "len(product_links)"
   ]
  },
  {
   "cell_type": "code",
   "execution_count": 69,
   "metadata": {},
   "outputs": [
    {
     "data": {
      "text/plain": [
       "(93, 93, 93, 93, 93, 93, 93, 93, 93)"
      ]
     },
     "execution_count": 69,
     "metadata": {},
     "output_type": "execute_result"
    }
   ],
   "source": [
    "brand_names={}\n",
    "product_names={}\n",
    "primary_image_links_dict={}\n",
    "secondary_image_links_dict={}\n",
    "sizes={}\n",
    "price={}\n",
    "category={}\n",
    "mrp={}\n",
    "description={}\n",
    "gender={}\n",
    "for i in range(len(product_links)):\n",
    "    data=rt.get(product_links[i],headers=headers)\n",
    "    soup=bs4.BeautifulSoup(data.text,'html.parser')\n",
    "    temp=soup.find_all('script')\n",
    "    for j in temp:\n",
    "        try:\n",
    "            json_data = json.loads(j.contents[0][j.contents[0].index('{'):])\n",
    "            if json_data['productPage']['productData']:\n",
    "                brand_names[i]=json_data['productPage']['productData']['brandName']\n",
    "                product_names[i]=json_data['productPage']['productData']['productName']\n",
    "                img_temp=json_data['productPage']['productData']['imageUrls']\n",
    "                primary_image_links_dict[i]=img_temp[0]\n",
    "                secondary_image_links_dict[i]=img_temp[1:]\n",
    "                price[i]=json_data['productPage']['productData']['discountPrice']\n",
    "                mrp[i]=json_data['productPage']['productData']['price']\n",
    "                gender[i]=json_data['productPage']['productData']['gender']\n",
    "                category[i]='Vests'\n",
    "                temp_sizes=[]\n",
    "                for k in json_data['productPage']['productAttribute']['sizes']:\n",
    "                    if k['isOutOfStock'] == False:\n",
    "                        temp_sizes.append(k['code'])\n",
    "                sizes[i]=temp_sizes\n",
    "                soup2=bs4.BeautifulSoup(json_data['productPage']['productData']['productDescription'],'html.parser')\n",
    "                temp_description=[]\n",
    "                for z in soup2.find_all('li'):\n",
    "                    temp_description.append(z.text)\n",
    "                description[i]=' '.join(temp_description)\n",
    "                #break\n",
    "        except:\n",
    "            continue\n",
    "    #break\n",
    "len(product_links),len(mrp),len(price),len(description),len(gender),len(brand_names),len(product_names),len(primary_image_links_dict),len(secondary_image_links_dict)"
   ]
  },
  {
   "cell_type": "code",
   "execution_count": 70,
   "metadata": {},
   "outputs": [
    {
     "name": "stdout",
     "output_type": "stream",
     "text": [
      "https://www.koovs.com/blue-saint-mens-vest-149678-166891.html\n",
      "699\n",
      "699\n",
      "Made from cotton Round neck Back graphic print Sleeveless Oversized fit\n",
      "Men\n",
      "Blue Saint\n",
      "Back Graphic Print Casual Vest\n",
      "Vests\n",
      "https://product.koovs.com/166891_b03ef77331d34c79ac98642cdb2fc117_image1_super_zoom.jpg\n",
      "['https://product.koovs.com/166891_b03ef77331d34c79ac98642cdb2fc117_front_super_zoom.jpg', 'https://product.koovs.com/166891_b03ef77331d34c79ac98642cdb2fc117_back_super_zoom.jpg', 'https://product.koovs.com/166891_b03ef77331d34c79ac98642cdb2fc117_left_super_zoom.jpg', 'https://product.koovs.com/166891_b03ef77331d34c79ac98642cdb2fc117_right_super_zoom.jpg']\n",
      "['S', 'M', 'L', 'XL']\n"
     ]
    }
   ],
   "source": [
    "value_tester(80)"
   ]
  },
  {
   "cell_type": "code",
   "execution_count": 71,
   "metadata": {},
   "outputs": [],
   "source": [
    "con=sq.connect(r\"Koovs.db\")  \n",
    "cur=con.cursor()\n",
    "for i in range(len(product_links)):\n",
    "    try:\n",
    "        if i in brand_names.keys() and i in product_names.keys() and i in secondary_image_links_dict.keys() and i in sizes.keys() and i in price.keys() and i in mrp.keys() and i in description.keys() and i in gender.keys()  and i in primary_image_links_dict.keys() and i in category.keys():\n",
    "            if brand_names[i] != '' and primary_image_links_dict[i] != ''  and product_names[i] != '' and ','.join(secondary_image_links_dict[i]) != '' and ','.join(sizes[i]) != '' and price[i] != '' and mrp[i] != '' and brand_names[i] != '' and description[i] != '' and category[i] !='':\n",
    "                cur.execute('insert into product_details  values(%r,%r,%r,%r,%r,%r,%d,%d,%r,%r,%r,%r,%r)'%('https://www.koovs.com/',product_links[i],product_names[i],brand_names[i],category[i],','.join(set(sizes[i])),price[i],mrp[i],gender[i],description[i],primary_image_links_dict[i],','.join(secondary_image_links_dict[i]),''))\n",
    "    except:\n",
    "        pass\n",
    "con.commit()\n",
    "con.close()"
   ]
  },
  {
   "cell_type": "code",
   "execution_count": null,
   "metadata": {},
   "outputs": [],
   "source": []
  },
  {
   "cell_type": "markdown",
   "metadata": {},
   "source": [
    "## Shorts"
   ]
  },
  {
   "cell_type": "code",
   "execution_count": 72,
   "metadata": {},
   "outputs": [
    {
     "data": {
      "text/plain": [
       "196"
      ]
     },
     "execution_count": 72,
     "metadata": {},
     "output_type": "execute_result"
    }
   ],
   "source": [
    "product_links={}\n",
    "counter=0\n",
    "for i in range(0,15):\n",
    "    try:\n",
    "        data=rt.get(f'https://www.koovs.com/search-service/v1/products/listing/complete?href=https%3A%2F%2Fwww.koovs.com%2Fmen%2Fshorts&page-size=100&sort=relevance&page={i}',headers=headers)\n",
    "        data_in_json=json.loads(data.text)\n",
    "        for j in data_in_json['data'][0]['data']:\n",
    "            product_links[counter]='https://www.koovs.com'+j['links'][0]['href']\n",
    "            counter+=1\n",
    "    except:\n",
    "        continue\n",
    "len(product_links)"
   ]
  },
  {
   "cell_type": "code",
   "execution_count": 73,
   "metadata": {},
   "outputs": [
    {
     "data": {
      "text/plain": [
       "(196, 196, 196, 196, 196, 196, 196, 196, 196)"
      ]
     },
     "execution_count": 73,
     "metadata": {},
     "output_type": "execute_result"
    }
   ],
   "source": [
    "brand_names={}\n",
    "product_names={}\n",
    "primary_image_links_dict={}\n",
    "secondary_image_links_dict={}\n",
    "sizes={}\n",
    "price={}\n",
    "category={}\n",
    "mrp={}\n",
    "description={}\n",
    "gender={}\n",
    "for i in range(len(product_links)):\n",
    "    data=rt.get(product_links[i],headers=headers)\n",
    "    soup=bs4.BeautifulSoup(data.text,'html.parser')\n",
    "    temp=soup.find_all('script')\n",
    "    for j in temp:\n",
    "        try:\n",
    "            json_data = json.loads(j.contents[0][j.contents[0].index('{'):])\n",
    "            if json_data['productPage']['productData']:\n",
    "                brand_names[i]=json_data['productPage']['productData']['brandName']\n",
    "                product_names[i]=json_data['productPage']['productData']['productName']\n",
    "                img_temp=json_data['productPage']['productData']['imageUrls']\n",
    "                primary_image_links_dict[i]=img_temp[0]\n",
    "                secondary_image_links_dict[i]=img_temp[1:]\n",
    "                price[i]=json_data['productPage']['productData']['discountPrice']\n",
    "                mrp[i]=json_data['productPage']['productData']['price']\n",
    "                gender[i]=json_data['productPage']['productData']['gender']\n",
    "                category[i]='Shorts'\n",
    "                temp_sizes=[]\n",
    "                for k in json_data['productPage']['productAttribute']['sizes']:\n",
    "                    if k['isOutOfStock'] == False:\n",
    "                        temp_sizes.append(k['code'])\n",
    "                sizes[i]=temp_sizes\n",
    "                soup2=bs4.BeautifulSoup(json_data['productPage']['productData']['productDescription'],'html.parser')\n",
    "                temp_description=[]\n",
    "                for z in soup2.find_all('li'):\n",
    "                    temp_description.append(z.text)\n",
    "                description[i]=' '.join(temp_description)\n",
    "                #break\n",
    "        except:\n",
    "            continue\n",
    "    #break\n",
    "len(product_links),len(mrp),len(price),len(description),len(gender),len(brand_names),len(product_names),len(primary_image_links_dict),len(secondary_image_links_dict)"
   ]
  },
  {
   "cell_type": "code",
   "execution_count": 74,
   "metadata": {},
   "outputs": [
    {
     "name": "stdout",
     "output_type": "stream",
     "text": [
      "https://www.koovs.com/realm-mens-shorts-138942-155941.html\n",
      "1799\n",
      "1259\n",
      "Made from cotton-spandex blend  Button and fly closure All over Print Three Pockets Slim fit\n",
      "Men\n",
      "REALM\n",
      "Printed Casual Shorts\n",
      "Shorts\n",
      "https://product.koovs.com/155941_a5a847c3aa164e809dc115e1de5d3196_image1_super_zoom.jpg\n",
      "['https://product.koovs.com/155941_a5a847c3aa164e809dc115e1de5d3196_front_super_zoom.jpg', 'https://product.koovs.com/155941_a5a847c3aa164e809dc115e1de5d3196_back_super_zoom.jpg', 'https://product.koovs.com/155941_a5a847c3aa164e809dc115e1de5d3196_left_super_zoom.jpg', 'https://product.koovs.com/155941_a5a847c3aa164e809dc115e1de5d3196_right_super_zoom.jpg']\n",
      "['28', '30', '32', '34', '36']\n"
     ]
    }
   ],
   "source": [
    "value_tester(100)"
   ]
  },
  {
   "cell_type": "code",
   "execution_count": 75,
   "metadata": {},
   "outputs": [],
   "source": [
    "con=sq.connect(r\"Koovs.db\")  \n",
    "cur=con.cursor()\n",
    "for i in range(len(product_links)):\n",
    "    try:\n",
    "        if i in brand_names.keys() and i in product_names.keys() and i in secondary_image_links_dict.keys() and i in sizes.keys() and i in price.keys() and i in mrp.keys() and i in description.keys() and i in gender.keys()  and i in primary_image_links_dict.keys() and i in category.keys():\n",
    "            if brand_names[i] != '' and primary_image_links_dict[i] != ''  and product_names[i] != '' and ','.join(secondary_image_links_dict[i]) != '' and ','.join(sizes[i]) != '' and price[i] != '' and mrp[i] != '' and brand_names[i] != '' and description[i] != '' and category[i] !='':\n",
    "                cur.execute('insert into product_details  values(%r,%r,%r,%r,%r,%r,%d,%d,%r,%r,%r,%r,%r)'%('https://www.koovs.com/',product_links[i],product_names[i],brand_names[i],category[i],','.join(set(sizes[i])),price[i],mrp[i],gender[i],description[i],primary_image_links_dict[i],','.join(secondary_image_links_dict[i]),''))\n",
    "    except:\n",
    "        pass\n",
    "con.commit()\n",
    "con.close()"
   ]
  },
  {
   "cell_type": "code",
   "execution_count": null,
   "metadata": {},
   "outputs": [],
   "source": []
  },
  {
   "cell_type": "markdown",
   "metadata": {},
   "source": [
    "## Hoodies"
   ]
  },
  {
   "cell_type": "code",
   "execution_count": 76,
   "metadata": {},
   "outputs": [
    {
     "data": {
      "text/plain": [
       "121"
      ]
     },
     "execution_count": 76,
     "metadata": {},
     "output_type": "execute_result"
    }
   ],
   "source": [
    "product_links={}\n",
    "counter=0\n",
    "for i in range(0,15):\n",
    "    try:\n",
    "        data=rt.get(f'https://www.koovs.com/search-service/v1/products/listing/complete?href=https%3A%2F%2Fwww.koovs.com%2Fmen%2Fhoodies-and-sweatshirts&page-size=100&sort=relevance&page={i}',headers=headers)\n",
    "        data_in_json=json.loads(data.text)\n",
    "        for j in data_in_json['data'][0]['data']:\n",
    "            product_links[counter]='https://www.koovs.com'+j['links'][0]['href']\n",
    "            counter+=1\n",
    "    except:\n",
    "        continue\n",
    "len(product_links)"
   ]
  },
  {
   "cell_type": "code",
   "execution_count": 77,
   "metadata": {},
   "outputs": [
    {
     "data": {
      "text/plain": [
       "(121, 121, 121, 121, 121, 121, 121, 121, 121)"
      ]
     },
     "execution_count": 77,
     "metadata": {},
     "output_type": "execute_result"
    }
   ],
   "source": [
    "brand_names={}\n",
    "product_names={}\n",
    "primary_image_links_dict={}\n",
    "secondary_image_links_dict={}\n",
    "sizes={}\n",
    "price={}\n",
    "category={}\n",
    "mrp={}\n",
    "description={}\n",
    "gender={}\n",
    "for i in range(len(product_links)):\n",
    "    data=rt.get(product_links[i],headers=headers)\n",
    "    soup=bs4.BeautifulSoup(data.text,'html.parser')\n",
    "    temp=soup.find_all('script')\n",
    "    for j in temp:\n",
    "        try:\n",
    "            json_data = json.loads(j.contents[0][j.contents[0].index('{'):])\n",
    "            if json_data['productPage']['productData']:\n",
    "                brand_names[i]=json_data['productPage']['productData']['brandName']\n",
    "                product_names[i]=json_data['productPage']['productData']['productName']\n",
    "                img_temp=json_data['productPage']['productData']['imageUrls']\n",
    "                primary_image_links_dict[i]=img_temp[0]\n",
    "                secondary_image_links_dict[i]=img_temp[1:]\n",
    "                price[i]=json_data['productPage']['productData']['discountPrice']\n",
    "                mrp[i]=json_data['productPage']['productData']['price']\n",
    "                gender[i]=json_data['productPage']['productData']['gender']\n",
    "                category[i]='Hoodies'\n",
    "                temp_sizes=[]\n",
    "                for k in json_data['productPage']['productAttribute']['sizes']:\n",
    "                    if k['isOutOfStock'] == False:\n",
    "                        temp_sizes.append(k['code'])\n",
    "                sizes[i]=temp_sizes\n",
    "                soup2=bs4.BeautifulSoup(json_data['productPage']['productData']['productDescription'],'html.parser')\n",
    "                temp_description=[]\n",
    "                for z in soup2.find_all('li'):\n",
    "                    temp_description.append(z.text)\n",
    "                description[i]=' '.join(temp_description)\n",
    "                #break\n",
    "        except:\n",
    "            continue\n",
    "    #break\n",
    "len(product_links),len(mrp),len(price),len(description),len(gender),len(brand_names),len(product_names),len(primary_image_links_dict),len(secondary_image_links_dict)"
   ]
  },
  {
   "cell_type": "code",
   "execution_count": 78,
   "metadata": {},
   "outputs": [
    {
     "name": "stdout",
     "output_type": "stream",
     "text": [
      "https://www.koovs.com/abg-men-tshirts-143344-160441.html\n",
      "1499\n",
      "1499\n",
      "Made from cotton Crew neckline Back slogan print detail Long sleeves Regular fit\n",
      "Men\n",
      "ABG\n",
      "Back Slogan Print Long Sleeve Sweatshirt\n",
      "Hoodies\n",
      "https://product.koovs.com/160441_a37b72a91daa496f876b657acd60e29f_image1_super_zoom.jpg\n",
      "['https://product.koovs.com/160441_a37b72a91daa496f876b657acd60e29f_front_super_zoom.jpg', 'https://product.koovs.com/160441_a37b72a91daa496f876b657acd60e29f_back_super_zoom.jpg', 'https://product.koovs.com/160441_a37b72a91daa496f876b657acd60e29f_left_super_zoom.jpg']\n",
      "['S', 'M', 'L']\n"
     ]
    }
   ],
   "source": [
    "value_tester(100)"
   ]
  },
  {
   "cell_type": "code",
   "execution_count": 79,
   "metadata": {},
   "outputs": [],
   "source": [
    "con=sq.connect(r\"Koovs.db\")  \n",
    "cur=con.cursor()\n",
    "for i in range(len(product_links)):\n",
    "    try:\n",
    "        if i in brand_names.keys() and i in product_names.keys() and i in secondary_image_links_dict.keys() and i in sizes.keys() and i in price.keys() and i in mrp.keys() and i in description.keys() and i in gender.keys()  and i in primary_image_links_dict.keys() and i in category.keys():\n",
    "            if brand_names[i] != '' and primary_image_links_dict[i] != ''  and product_names[i] != '' and ','.join(secondary_image_links_dict[i]) != '' and ','.join(sizes[i]) != '' and price[i] != '' and mrp[i] != '' and brand_names[i] != '' and description[i] != '' and category[i] !='':\n",
    "                cur.execute('insert into product_details  values(%r,%r,%r,%r,%r,%r,%d,%d,%r,%r,%r,%r,%r)'%('https://www.koovs.com/',product_links[i],product_names[i],brand_names[i],category[i],','.join(set(sizes[i])),price[i],mrp[i],gender[i],description[i],primary_image_links_dict[i],','.join(secondary_image_links_dict[i]),''))\n",
    "    except:\n",
    "        pass\n",
    "con.commit()\n",
    "con.close()"
   ]
  },
  {
   "cell_type": "code",
   "execution_count": null,
   "metadata": {},
   "outputs": [],
   "source": []
  },
  {
   "cell_type": "markdown",
   "metadata": {},
   "source": [
    "## Jackets"
   ]
  },
  {
   "cell_type": "code",
   "execution_count": 80,
   "metadata": {},
   "outputs": [
    {
     "data": {
      "text/plain": [
       "252"
      ]
     },
     "execution_count": 80,
     "metadata": {},
     "output_type": "execute_result"
    }
   ],
   "source": [
    "product_links={}\n",
    "counter=0\n",
    "for i in range(0,15):\n",
    "    try:\n",
    "        data=rt.get(f'https://www.koovs.com/search-service/v1/products/listing/complete?href=https%3A%2F%2Fwww.koovs.com%2Fmen%2Fcoats-and-jackets&page-size=100&sort=relevance&page={i}',headers=headers)\n",
    "        data_in_json=json.loads(data.text)\n",
    "        for j in data_in_json['data'][0]['data']:\n",
    "            product_links[counter]='https://www.koovs.com'+j['links'][0]['href']\n",
    "            counter+=1\n",
    "    except:\n",
    "        continue\n",
    "len(product_links)"
   ]
  },
  {
   "cell_type": "code",
   "execution_count": 81,
   "metadata": {},
   "outputs": [
    {
     "data": {
      "text/plain": [
       "(252, 252, 252, 252, 252, 252, 252, 252, 252)"
      ]
     },
     "execution_count": 81,
     "metadata": {},
     "output_type": "execute_result"
    }
   ],
   "source": [
    "brand_names={}\n",
    "product_names={}\n",
    "primary_image_links_dict={}\n",
    "secondary_image_links_dict={}\n",
    "sizes={}\n",
    "price={}\n",
    "category={}\n",
    "mrp={}\n",
    "description={}\n",
    "gender={}\n",
    "for i in range(len(product_links)):\n",
    "    data=rt.get(product_links[i],headers=headers)\n",
    "    soup=bs4.BeautifulSoup(data.text,'html.parser')\n",
    "    temp=soup.find_all('script')\n",
    "    for j in temp:\n",
    "        try:\n",
    "            json_data = json.loads(j.contents[0][j.contents[0].index('{'):])\n",
    "            if json_data['productPage']['productData']:\n",
    "                brand_names[i]=json_data['productPage']['productData']['brandName']\n",
    "                product_names[i]=json_data['productPage']['productData']['productName']\n",
    "                img_temp=json_data['productPage']['productData']['imageUrls']\n",
    "                primary_image_links_dict[i]=img_temp[0]\n",
    "                secondary_image_links_dict[i]=img_temp[1:]\n",
    "                price[i]=json_data['productPage']['productData']['discountPrice']\n",
    "                mrp[i]=json_data['productPage']['productData']['price']\n",
    "                gender[i]=json_data['productPage']['productData']['gender']\n",
    "                category[i]='Jackets'\n",
    "                temp_sizes=[]\n",
    "                for k in json_data['productPage']['productAttribute']['sizes']:\n",
    "                    if k['isOutOfStock'] == False:\n",
    "                        temp_sizes.append(k['code'])\n",
    "                sizes[i]=temp_sizes\n",
    "                soup2=bs4.BeautifulSoup(json_data['productPage']['productData']['productDescription'],'html.parser')\n",
    "                temp_description=[]\n",
    "                for z in soup2.find_all('li'):\n",
    "                    temp_description.append(z.text)\n",
    "                description[i]=' '.join(temp_description)\n",
    "                #break\n",
    "        except:\n",
    "            continue\n",
    "    #break\n",
    "len(product_links),len(mrp),len(price),len(description),len(gender),len(brand_names),len(product_names),len(primary_image_links_dict),len(secondary_image_links_dict)"
   ]
  },
  {
   "cell_type": "code",
   "execution_count": 82,
   "metadata": {},
   "outputs": [
    {
     "name": "stdout",
     "output_type": "stream",
     "text": [
      "https://www.koovs.com/nylon-reflective-cut-and-sew-windcheater-jacket-151815-169037.html\n",
      "1999\n",
      "1099\n",
      "Made from cotton Zip-up closure Cut & Sew style Full sleeves Slim fit\n",
      "Men\n",
      "FUGAZEE\n",
      "Reflective Cut & Sew Jacket\n",
      "Jackets\n",
      "https://product.koovs.com/169037_92cfd00a584c4b92a36b28c683a1d418_image1_super_zoom.jpg\n",
      "['https://product.koovs.com/169037_92cfd00a584c4b92a36b28c683a1d418_front_super_zoom.jpg', 'https://product.koovs.com/169037_92cfd00a584c4b92a36b28c683a1d418_back_super_zoom.jpg', 'https://product.koovs.com/169037_92cfd00a584c4b92a36b28c683a1d418_left_super_zoom.jpg', 'https://product.koovs.com/169037_92cfd00a584c4b92a36b28c683a1d418_right_super_zoom.jpg']\n",
      "['M']\n"
     ]
    }
   ],
   "source": [
    "value_tester(200)"
   ]
  },
  {
   "cell_type": "code",
   "execution_count": 83,
   "metadata": {},
   "outputs": [],
   "source": [
    "con=sq.connect(r\"Koovs.db\")  \n",
    "cur=con.cursor()\n",
    "for i in range(len(product_links)):\n",
    "    try:\n",
    "        if i in brand_names.keys() and i in product_names.keys() and i in secondary_image_links_dict.keys() and i in sizes.keys() and i in price.keys() and i in mrp.keys() and i in description.keys() and i in gender.keys()  and i in primary_image_links_dict.keys() and i in category.keys():\n",
    "            if brand_names[i] != '' and primary_image_links_dict[i] != ''  and product_names[i] != '' and ','.join(secondary_image_links_dict[i]) != '' and ','.join(sizes[i]) != '' and price[i] != '' and mrp[i] != '' and brand_names[i] != '' and description[i] != '' and category[i] !='':\n",
    "                cur.execute('insert into product_details  values(%r,%r,%r,%r,%r,%r,%d,%d,%r,%r,%r,%r,%r)'%('https://www.koovs.com/',product_links[i],product_names[i],brand_names[i],category[i],','.join(set(sizes[i])),price[i],mrp[i],gender[i],description[i],primary_image_links_dict[i],','.join(secondary_image_links_dict[i]),''))\n",
    "    except:\n",
    "        pass\n",
    "con.commit()\n",
    "con.close()"
   ]
  },
  {
   "cell_type": "code",
   "execution_count": null,
   "metadata": {},
   "outputs": [],
   "source": []
  },
  {
   "cell_type": "markdown",
   "metadata": {},
   "source": [
    "## Shoes"
   ]
  },
  {
   "cell_type": "code",
   "execution_count": 84,
   "metadata": {},
   "outputs": [
    {
     "data": {
      "text/plain": [
       "99"
      ]
     },
     "execution_count": 84,
     "metadata": {},
     "output_type": "execute_result"
    }
   ],
   "source": [
    "product_links={}\n",
    "counter=0\n",
    "for i in range(0,15):\n",
    "    try:\n",
    "        data=rt.get(f'https://www.koovs.com/search-service/v1/products/listing/complete?href=https%3A%2F%2Fwww.koovs.com%2Fmen%2Ffootwear&page-size=100&sort=relevance&page={i}',headers=headers)\n",
    "        data_in_json=json.loads(data.text)\n",
    "        for j in data_in_json['data'][0]['data']:\n",
    "            product_links[counter]='https://www.koovs.com'+j['links'][0]['href']\n",
    "            counter+=1\n",
    "    except:\n",
    "        continue\n",
    "len(product_links)"
   ]
  },
  {
   "cell_type": "code",
   "execution_count": 85,
   "metadata": {},
   "outputs": [
    {
     "data": {
      "text/plain": [
       "(99, 99, 99, 99, 99, 99, 99, 99, 99)"
      ]
     },
     "execution_count": 85,
     "metadata": {},
     "output_type": "execute_result"
    }
   ],
   "source": [
    "brand_names={}\n",
    "product_names={}\n",
    "primary_image_links_dict={}\n",
    "secondary_image_links_dict={}\n",
    "sizes={}\n",
    "price={}\n",
    "category={}\n",
    "mrp={}\n",
    "description={}\n",
    "gender={}\n",
    "for i in range(len(product_links)):\n",
    "    data=rt.get(product_links[i],headers=headers)\n",
    "    soup=bs4.BeautifulSoup(data.text,'html.parser')\n",
    "    temp=soup.find_all('script')\n",
    "    for j in temp:\n",
    "        try:\n",
    "            json_data = json.loads(j.contents[0][j.contents[0].index('{'):])\n",
    "            if json_data['productPage']['productData']:\n",
    "                brand_names[i]=json_data['productPage']['productData']['brandName']\n",
    "                product_names[i]=json_data['productPage']['productData']['productName']\n",
    "                img_temp=json_data['productPage']['productData']['imageUrls']\n",
    "                primary_image_links_dict[i]=img_temp[0]\n",
    "                secondary_image_links_dict[i]=img_temp[1:]\n",
    "                price[i]=json_data['productPage']['productData']['discountPrice']\n",
    "                mrp[i]=json_data['productPage']['productData']['price']\n",
    "                gender[i]=json_data['productPage']['productData']['gender']\n",
    "                category[i]='Shoes'\n",
    "                temp_sizes=[]\n",
    "                for k in json_data['productPage']['productAttribute']['sizes']:\n",
    "                    if k['isOutOfStock'] == False:\n",
    "                        temp_sizes.append(k['code'])\n",
    "                sizes[i]=temp_sizes\n",
    "                soup2=bs4.BeautifulSoup(json_data['productPage']['productData']['productDescription'],'html.parser')\n",
    "                temp_description=[]\n",
    "                for z in soup2.find_all('li'):\n",
    "                    temp_description.append(z.text)\n",
    "                description[i]=' '.join(temp_description)\n",
    "                #break\n",
    "        except:\n",
    "            continue\n",
    "    #break\n",
    "len(product_links),len(mrp),len(price),len(description),len(gender),len(brand_names),len(product_names),len(primary_image_links_dict),len(secondary_image_links_dict)"
   ]
  },
  {
   "cell_type": "code",
   "execution_count": 87,
   "metadata": {},
   "outputs": [
    {
     "name": "stdout",
     "output_type": "stream",
     "text": [
      "https://www.koovs.com/marcello--ferri-owl-embroidered-loafers-148612-165825.html\n",
      "2499\n",
      "1250\n",
      "Made from PU Round toe Velvet finish Owl embroidered detail Slip-on style Slightly raised sole\n",
      "Men\n",
      "Marcello & Ferri\n",
      "Owl Embroidered Loafers\n",
      "Shoes\n",
      "https://product.koovs.com/165825_347a909a884043998f35547ebb932059_image1_super_zoom.jpg\n",
      "['https://product.koovs.com/165825_347a909a884043998f35547ebb932059_front_super_zoom.jpg', 'https://product.koovs.com/165825_347a909a884043998f35547ebb932059_back_super_zoom.jpg', 'https://product.koovs.com/165825_347a909a884043998f35547ebb932059_left_super_zoom.jpg']\n",
      "['UK 6/US 7', 'UK 7/US 8', 'UK 8/US 9', 'UK 9/US 10', 'UK 10/US 11']\n"
     ]
    }
   ],
   "source": [
    "value_tester(88)"
   ]
  },
  {
   "cell_type": "code",
   "execution_count": 88,
   "metadata": {},
   "outputs": [],
   "source": [
    "con=sq.connect(r\"Koovs.db\")  \n",
    "cur=con.cursor()\n",
    "for i in range(len(product_links)):\n",
    "    try:\n",
    "        if i in brand_names.keys() and i in product_names.keys() and i in secondary_image_links_dict.keys() and i in sizes.keys() and i in price.keys() and i in mrp.keys() and i in description.keys() and i in gender.keys()  and i in primary_image_links_dict.keys() and i in category.keys():\n",
    "            if brand_names[i] != '' and primary_image_links_dict[i] != ''  and product_names[i] != '' and ','.join(secondary_image_links_dict[i]) != '' and ','.join(sizes[i]) != '' and price[i] != '' and mrp[i] != '' and brand_names[i] != '' and description[i] != '' and category[i] !='':\n",
    "                cur.execute('insert into product_details  values(%r,%r,%r,%r,%r,%r,%d,%d,%r,%r,%r,%r,%r)'%('https://www.koovs.com/',product_links[i],product_names[i],brand_names[i],category[i],','.join(set(sizes[i])),price[i],mrp[i],gender[i],description[i],primary_image_links_dict[i],','.join(secondary_image_links_dict[i]),''))\n",
    "    except:\n",
    "        pass\n",
    "con.commit()\n",
    "con.close()"
   ]
  }
 ],
 "metadata": {
  "kernelspec": {
   "display_name": "Python 3",
   "language": "python",
   "name": "python3"
  },
  "language_info": {
   "codemirror_mode": {
    "name": "ipython",
    "version": 3
   },
   "file_extension": ".py",
   "mimetype": "text/x-python",
   "name": "python",
   "nbconvert_exporter": "python",
   "pygments_lexer": "ipython3",
   "version": "3.8.5"
  }
 },
 "nbformat": 4,
 "nbformat_minor": 4
}
