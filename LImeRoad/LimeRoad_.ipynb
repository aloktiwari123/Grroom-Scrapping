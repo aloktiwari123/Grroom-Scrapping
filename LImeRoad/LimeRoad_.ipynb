{
 "cells": [
  {
   "cell_type": "code",
   "execution_count": 1,
   "metadata": {},
   "outputs": [],
   "source": [
    "from bs4 import BeautifulSoup\n",
    "import requests\n",
    "import pandas as pd\n",
    "from pandas import Series, DataFrame\n",
    "from ipywidgets import FloatProgress\n",
    "from time import sleep\n",
    "from IPython.display import display\n",
    "import re\n",
    "import pickle\n",
    "from urlextract import URLExtract\n",
    "import json\n",
    "import sqlite3\n",
    "import datetime\n",
    "from tqdm import tqdm"
   ]
  },
  {
   "cell_type": "code",
   "execution_count": 2,
   "metadata": {},
   "outputs": [],
   "source": [
    "headers = {'User-Agent' : 'Mozilla/5.0 (Macintosh; Intel Mac OS X 10_14_5) AppleWebKit/537.36 (KHTML, like Gecko) Chrome/84.0.4147.89 Safari/537.36'}"
   ]
  },
  {
   "cell_type": "markdown",
   "metadata": {},
   "source": [
    "## T-shirts"
   ]
  },
  {
   "cell_type": "code",
   "execution_count": 3,
   "metadata": {
    "scrolled": true
   },
   "outputs": [],
   "source": [
    "product_links=[]\n",
    "c=0\n",
    "while c<3000:\n",
    "    data=requests.get(f\"https://www.limeroad.com/listing/get_listing_objects?p_start={c}&shuffleSearchProducts=true&s_start=0&story_start=0&stories_to_edit=false&scraps_to_edit=false&stories_to_rate=false&scraps_to_rate=false&p_queryparam=%7B%22stock%22%3A%5B%221%22%5D%7D&p_sortorder=threeQuarterStock_i%2Bdesc%2CscoreBucket17_f%2Bdesc&p_searchquery=tshirt+%7C%7C+tshirt*+%7C%7C+tshirt&s_queryparam=%7B%22stock%22%3A%5B%221%22%5D%7D&s_sortorder=priority%2Bdesc%2Crandom_5396281%2Bdesc&s_searchquery=tshirt+%7C%7C+tshirt*+%7C%7C+tshirt&isScrapOnlySearch=false&group=false&product_id=&story_id=&s_rows=0&p_rows=8&tag_sort=&df_type=&tag_condition=and&tag=&p_groupoffset=&story_rows=0&stories&ext_img=&template=&badge&catEditor=&gender=men&chopPage&chopPageSameUser&filterUserid&disableFixedScraps&tagPageStories=false&newUserSort=bsSort&new_user_data=newUserFlow&st_queryparam=&st_queryparam_or=&issearch=true&searchFilter=%5B%5B%22classification+.0.1116.1235.1237%22%2C%22classification+.0.11201585.11201684.11201717.11201719%22%2C%22classification+.0.11201585.11201684.11201586.11201595%22%5D%5D&ajax=true\",headers=headers)\n",
    "    c+=8\n",
    "    data=BeautifulSoup(data.content,'lxml')\n",
    "    for i in data.find_all('a',{'data-obj':\"impVipAjaxMenuCloseLog\"}):\n",
    "        product_links.append('https://www.limeroad.com'+str(i.get('href')))"
   ]
  },
  {
   "cell_type": "code",
   "execution_count": 4,
   "metadata": {},
   "outputs": [
    {
     "data": {
      "text/plain": [
       "(2704, 2704)"
      ]
     },
     "execution_count": 4,
     "metadata": {},
     "output_type": "execute_result"
    }
   ],
   "source": [
    "len(product_links),len(set(product_links))"
   ]
  },
  {
   "cell_type": "markdown",
   "metadata": {},
   "source": [
    "# Ethnic"
   ]
  },
  {
   "cell_type": "code",
   "execution_count": 5,
   "metadata": {},
   "outputs": [],
   "source": [
    "c=0\n",
    "counter=0\n",
    "while c<3000:\n",
    "    data=requests.get(f\"https://www.limeroad.com/listing/get_listing_objects?p_start={c}&shuffleSearchProducts=true&s_start=0&story_start=0&stories_to_edit=false&scraps_to_edit=false&stories_to_rate=false&scraps_to_rate=false&p_queryparam=%7B%22stock%22%3A%5B%221%22%5D%7D&p_sortorder=threeQuarterStock_i%2Bdesc%2CscoreBucket17_f%2Bdesc&p_searchquery=ethnic+%7C%7C+ethnic*+%7C%7C+ethnic&s_queryparam=%7B%22stock%22%3A%5B%221%22%5D%7D&s_sortorder=priority%2Bdesc%2Crandom_5398853%2Bdesc&s_searchquery=ethnic+%7C%7C+ethnic*+%7C%7C+ethnic&isScrapOnlySearch=false&group=false&product_id=&story_id=&s_rows=0&p_rows=8&tag_sort=&df_type=&tag_condition=and&tag=&p_groupoffset=&story_rows=0&stories&ext_img=&template=&badge&catEditor=&gender=men&chopPage&chopPageSameUser&filterUserid&disableFixedScraps&tagPageStories=false&newUserSort=bsSort&new_user_data=newUserFlow&st_queryparam=&st_queryparam_or=&issearch=true&searchFilter=%5B%5B%22classification+.0.1116.1240%22%2C%22classification+.0.1116.1240.11202062%22%2C%22classification+.0.11201863.11201864.11201896.11201907%22%2C%22classification+.0.11201585.11201684.11201639.11201709%22%5D%5D&ajax=true\",headers=headers)\n",
    "    c+=8\n",
    "    data=BeautifulSoup(data.content,'lxml')\n",
    "    for i in data.find_all('a',{'data-obj':\"impVipAjaxMenuCloseLog\"}):\n",
    "        product_links.append('https://www.limeroad.com'+str(i.get('href')))"
   ]
  },
  {
   "cell_type": "code",
   "execution_count": 6,
   "metadata": {},
   "outputs": [
    {
     "data": {
      "text/plain": [
       "(5408, 5408)"
      ]
     },
     "execution_count": 6,
     "metadata": {},
     "output_type": "execute_result"
    }
   ],
   "source": [
    "len(product_links),len(set(product_links))"
   ]
  },
  {
   "cell_type": "markdown",
   "metadata": {},
   "source": [
    "# Tops Women\n"
   ]
  },
  {
   "cell_type": "code",
   "execution_count": 7,
   "metadata": {},
   "outputs": [],
   "source": [
    "c=0\n",
    "counter=0\n",
    "while c<3000:\n",
    "    data=requests.get(f\"https://www.limeroad.com/listing/get_listing_objects?p_start={c}&s_start=2&story_start=2&stories_to_edit=false&scraps_to_edit=false&stories_to_rate=false&scraps_to_rate=false&p_queryparam=%7B%22classification%22%3A%5B%22.0.1116.1235.1236%22%5D%2C%22stock%22%3A%5B%221%22%5D%7D&p_sortorder=threeQuarterStock_i%2Bdesc%2CscCount%2Bdesc&p_searchquery=*%3A*&s_queryparam=%7B%22classification%22%3A%5B%22.0.1116.1235.1236%22%5D%2C%22stock%22%3A%5B%221%22%5D%7D&s_sortorder=priority%2Bdesc%2Crandom_5398879%2Bdesc&s_searchquery=*%3A*&isScrapOnlySearch&group=false&product_id=&story_id=ms1236st&s_rows=2&p_rows=8&tag_sort=&df_type=&tag_condition=%22%22&tag=&p_groupoffset=&story_rows=2&stories&ext_img=&template=&badge&catEditor&gender&chopPage&chopPageSameUser&filterUserid&disableFixedScraps&tagPageStories&newUserSort=bsSort&new_user_data=newUserFlow&st_queryparam=&st_queryparam_or=&issearch=false&ajax=true\",headers=headers)\n",
    "    c+=8\n",
    "    data=BeautifulSoup(data.content,'lxml')\n",
    "    for i in data.find_all('a',{'data-obj':\"impVipAjaxMenuCloseLog\"}):\n",
    "        product_links.append('https://www.limeroad.com'+str(i.get('href')))\n"
   ]
  },
  {
   "cell_type": "code",
   "execution_count": 8,
   "metadata": {},
   "outputs": [
    {
     "data": {
      "text/plain": [
       "(7955, 7726)"
      ]
     },
     "execution_count": 8,
     "metadata": {},
     "output_type": "execute_result"
    }
   ],
   "source": [
    "len(product_links),len(set(product_links))"
   ]
  },
  {
   "cell_type": "markdown",
   "metadata": {},
   "source": [
    "# Tees Women"
   ]
  },
  {
   "cell_type": "code",
   "execution_count": 9,
   "metadata": {},
   "outputs": [],
   "source": [
    "c=0\n",
    "counter=0\n",
    "while c<3000:\n",
    "    data=requests.get(f\"https://www.limeroad.com/listing/get_listing_objects?p_start={c}&s_start=2&story_start=15&stories_to_edit=false&scraps_to_edit=false&stories_to_rate=false&scraps_to_rate=false&p_queryparam=%7B%22classification%22%3A%5B%22.0.1116.1235.1237%22%5D%2C%22stock%22%3A%5B%221%22%5D%7D&p_sortorder=threeQuarterStock_i%2Bdesc%2CscCount%2Bdesc&p_searchquery=*%3A*&s_queryparam=%7B%22classification%22%3A%5B%22.0.1116.1235.1237%22%5D%2C%22stock%22%3A%5B%221%22%5D%7D&s_sortorder=priority%2Bdesc%2Crandom_5398910%2Bdesc&s_searchquery=*%3A*&isScrapOnlySearch&group=false&product_id=&story_id=ms1237st&s_rows=2&p_rows=8&tag_sort=&df_type=&tag_condition=%22%22&tag=&p_groupoffset=&story_rows=2&stories&ext_img=&template=&badge&catEditor&gender&chopPage&chopPageSameUser&filterUserid&disableFixedScraps&tagPageStories&newUserSort=bsSort&new_user_data=newUserFlow&st_queryparam=&st_queryparam_or=&issearch=false&ajax=true\",headers=headers)\n",
    "    c+=8\n",
    "    data=BeautifulSoup(data.content,'lxml')\n",
    "    for i in data.find_all('a',{'data-obj':\"impVipAjaxMenuCloseLog\"}):\n",
    "        product_links.append('https://www.limeroad.com'+str(i.get('href')))\n"
   ]
  },
  {
   "cell_type": "code",
   "execution_count": 10,
   "metadata": {},
   "outputs": [
    {
     "data": {
      "text/plain": [
       "(10659, 9339)"
      ]
     },
     "execution_count": 10,
     "metadata": {},
     "output_type": "execute_result"
    }
   ],
   "source": [
    "len(product_links),len(set(product_links))"
   ]
  },
  {
   "cell_type": "markdown",
   "metadata": {},
   "source": [
    "# Shirts Women"
   ]
  },
  {
   "cell_type": "code",
   "execution_count": 11,
   "metadata": {},
   "outputs": [],
   "source": [
    "c=0\n",
    "counter=0\n",
    "while c<3000:\n",
    "    data=requests.get(f\"https://www.limeroad.com/listing/get_listing_objects?p_start={c}&s_start=1&story_start=2&stories_to_edit=false&scraps_to_edit=false&stories_to_rate=false&scraps_to_rate=false&p_queryparam=%7B%22classification%22%3A%5B%22.0.1116.1235.11201443%22%5D%2C%22stock%22%3A%5B%221%22%5D%7D&p_sortorder=threeQuarterStock_i%2Bdesc%2CscCount%2Bdesc&p_searchquery=*%3A*&s_queryparam=%7B%22classification%22%3A%5B%22.0.1116.1235.11201443%22%5D%2C%22stock%22%3A%5B%221%22%5D%7D&s_sortorder=priority%2Bdesc%2Crandom_5398923%2Bdesc&s_searchquery=*%3A*&isScrapOnlySearch&group=false&product_id=&story_id=ms11201443st&s_rows=2&p_rows=8&tag_sort=&df_type=&tag_condition=%22%22&tag=&p_groupoffset=&story_rows=2&stories&ext_img=&template=&badge&catEditor&gender&chopPage&chopPageSameUser&filterUserid&disableFixedScraps&tagPageStories&newUserSort=bsSort&new_user_data=newUserFlow&st_queryparam=&st_queryparam_or=&issearch=false&ajax=true\",headers=headers)\n",
    "    c+=8\n",
    "    data=BeautifulSoup(data.content,'lxml')\n",
    "    for i in data.find_all('a',{'data-obj':\"impVipAjaxMenuCloseLog\"}):\n",
    "        product_links.append('https://www.limeroad.com'+str(i.get('href')))\n"
   ]
  },
  {
   "cell_type": "code",
   "execution_count": 12,
   "metadata": {},
   "outputs": [
    {
     "data": {
      "text/plain": [
       "(13194, 11422)"
      ]
     },
     "execution_count": 12,
     "metadata": {},
     "output_type": "execute_result"
    }
   ],
   "source": [
    "len(product_links),len(set(product_links))"
   ]
  },
  {
   "cell_type": "markdown",
   "metadata": {},
   "source": [
    "# Women Tunics"
   ]
  },
  {
   "cell_type": "code",
   "execution_count": 13,
   "metadata": {},
   "outputs": [],
   "source": [
    "c=0\n",
    "while c<3000:\n",
    "    data=requests.get(f\"https://www.limeroad.com/listing/get_listing_objects?p_start={c}&s_start=0&story_start=4&stories_to_edit=false&scraps_to_edit=false&stories_to_rate=false&scraps_to_rate=false&p_queryparam=%7B%22classification%22%3A%5B%22.0.1116.1235.11201447%22%5D%2C%22stock%22%3A%5B%221%22%5D%7D&p_sortorder=threeQuarterStock_i%2Bdesc%2CscCount%2Bdesc&p_searchquery=*%3A*&s_queryparam=%7B%22classification%22%3A%5B%22.0.1116.1235.11201447%22%5D%2C%22stock%22%3A%5B%221%22%5D%7D&s_sortorder=priority%2Bdesc%2Crandom_5399139%2Bdesc&s_searchquery=*%3A*&isScrapOnlySearch&group=false&product_id=&story_id=ms11201447st&s_rows=0&p_rows=8&tag_sort=&df_type=&tag_condition=%22%22&tag=&p_groupoffset=&story_rows=2&stories&ext_img=&template=&badge&catEditor&gender&chopPage&chopPageSameUser&filterUserid&disableFixedScraps&tagPageStories&newUserSort=bsSort&new_user_data=newUserFlow&st_queryparam=&st_queryparam_or=&issearch=false&ajax=true\",headers=headers)\n",
    "    c+=8\n",
    "    data=BeautifulSoup(data.content,'lxml')\n",
    "    for i in data.find_all('a',{'data-obj':\"impVipAjaxMenuCloseLog\"}):\n",
    "        product_links.append('https://www.limeroad.com'+str(i.get('href')))\n"
   ]
  },
  {
   "cell_type": "code",
   "execution_count": 14,
   "metadata": {},
   "outputs": [
    {
     "data": {
      "text/plain": [
       "(15383, 13146)"
      ]
     },
     "execution_count": 14,
     "metadata": {},
     "output_type": "execute_result"
    }
   ],
   "source": [
    "len(product_links),len(set(product_links))"
   ]
  },
  {
   "cell_type": "markdown",
   "metadata": {},
   "source": [
    "# Women Dresses"
   ]
  },
  {
   "cell_type": "code",
   "execution_count": 15,
   "metadata": {},
   "outputs": [],
   "source": [
    "c=0\n",
    "counter=0\n",
    "while c<3000:\n",
    "    data=requests.get(f\"https://www.limeroad.com/listing/get_listing_objects?p_start={c}&s_start=2&story_start=4&stories_to_edit=false&scraps_to_edit=false&stories_to_rate=false&scraps_to_rate=false&p_queryparam=%7B%22classification%22%3A%5B%22.0.1116.1235.1238%22%5D%2C%22stock%22%3A%5B%221%22%5D%7D&p_sortorder=threeQuarterStock_i%2Bdesc%2CscCount%2Bdesc&p_searchquery=*%3A*&s_queryparam=%7B%22classification%22%3A%5B%22.0.1116.1235.1238%22%5D%2C%22stock%22%3A%5B%221%22%5D%7D&s_sortorder=priority%2Bdesc%2Crandom_5399142%2Bdesc&s_searchquery=*%3A*&isScrapOnlySearch&group=false&product_id=&story_id=ms1238st&s_rows=2&p_rows=8&tag_sort=&df_type=&tag_condition=%22%22&tag=&p_groupoffset=&story_rows=2&stories&ext_img=&template=&badge&catEditor&gender&chopPage&chopPageSameUser&filterUserid&disableFixedScraps&tagPageStories&newUserSort=bsSort&new_user_data=newUserFlow&st_queryparam=&st_queryparam_or=&issearch=false&ajax=true\",headers=headers)\n",
    "    c+=8\n",
    "    data=BeautifulSoup(data.content,'lxml')\n",
    "    for i in data.find_all('a',{'data-obj':\"impVipAjaxMenuCloseLog\"}):\n",
    "        product_links.append('https://www.limeroad.com'+str(i.get('href')))\n",
    "\n"
   ]
  },
  {
   "cell_type": "code",
   "execution_count": 16,
   "metadata": {},
   "outputs": [
    {
     "data": {
      "text/plain": [
       "(16397, 14095)"
      ]
     },
     "execution_count": 16,
     "metadata": {},
     "output_type": "execute_result"
    }
   ],
   "source": [
    "len(product_links),len(set(product_links))"
   ]
  },
  {
   "cell_type": "markdown",
   "metadata": {},
   "source": [
    "# Women Jumpsuits"
   ]
  },
  {
   "cell_type": "code",
   "execution_count": 17,
   "metadata": {},
   "outputs": [],
   "source": [
    "c=0\n",
    "counter=0\n",
    "while c<2000:\n",
    "    data=requests.get(f\"https://www.limeroad.com/listing/get_listing_objects?p_start={c}&s_start=0&story_start=2&stories_to_edit=false&scraps_to_edit=false&stories_to_rate=false&scraps_to_rate=false&p_queryparam=%7B%22classification%22%3A%5B%22.0.1116.1235.1239%22%5D%2C%22stock%22%3A%5B%221%22%5D%7D&p_sortorder=threeQuarterStock_i%2Bdesc%2CscCount%2Bdesc&p_searchquery=*%3A*&s_queryparam=%7B%22classification%22%3A%5B%22.0.1116.1235.1239%22%5D%2C%22stock%22%3A%5B%221%22%5D%7D&s_sortorder=priority%2Bdesc%2Crandom_5399148%2Bdesc&s_searchquery=*%3A*&isScrapOnlySearch&group=false&product_id=&story_id=ms1239st&s_rows=0&p_rows=8&tag_sort=&df_type=&tag_condition=%22%22&tag=&p_groupoffset=&story_rows=2&stories&ext_img=&template=&badge&catEditor&gender&chopPage&chopPageSameUser&filterUserid&disableFixedScraps&tagPageStories&newUserSort=bsSort&new_user_data=newUserFlow&st_queryparam=&st_queryparam_or=&issearch=false&ajax=true\",headers=headers)\n",
    "    c+=8\n",
    "    data=BeautifulSoup(data.content,'lxml')\n",
    "    for i in data.find_all('a',{'data-obj':\"impVipAjaxMenuCloseLog\"}):\n",
    "        product_links.append('https://www.limeroad.com'+str(i.get('href')))\n",
    "\n"
   ]
  },
  {
   "cell_type": "code",
   "execution_count": 18,
   "metadata": {},
   "outputs": [
    {
     "data": {
      "text/plain": [
       "(17578, 15036)"
      ]
     },
     "execution_count": 18,
     "metadata": {},
     "output_type": "execute_result"
    }
   ],
   "source": [
    "len(product_links),len(set(product_links))"
   ]
  },
  {
   "cell_type": "markdown",
   "metadata": {},
   "source": [
    "# Women Capes and Shrugs"
   ]
  },
  {
   "cell_type": "code",
   "execution_count": 19,
   "metadata": {},
   "outputs": [],
   "source": [
    "c=0\n",
    "counter=0\n",
    "while c<1000:\n",
    "    data=requests.get(f\"https://www.limeroad.com/listing/get_listing_objects?p_start={c}&s_start=0&story_start=0&stories_to_edit=false&scraps_to_edit=false&stories_to_rate=false&scraps_to_rate=false&p_queryparam=%7B%22classification%22%3A%5B%22.0.1116.1235.11201455%22%5D%2C%22stock%22%3A%5B%221%22%5D%7D&p_sortorder=threeQuarterStock_i%2Bdesc%2CscCount%2Bdesc&p_searchquery=*%3A*&s_queryparam=%7B%22classification%22%3A%5B%22.0.1116.1235.11201455%22%5D%2C%22stock%22%3A%5B%221%22%5D%7D&s_sortorder=priority%2Bdesc%2Crandom_5399150%2Bdesc&s_searchquery=*%3A*&isScrapOnlySearch&group=false&product_id=&story_id=ms11201455st&s_rows=0&p_rows=8&tag_sort=&df_type=&tag_condition=%22%22&tag=&p_groupoffset=&story_rows=0&stories&ext_img=&template=&badge&catEditor&gender&chopPage&chopPageSameUser&filterUserid&disableFixedScraps&tagPageStories&newUserSort=bsSort&new_user_data=newUserFlow&st_queryparam=&st_queryparam_or=&issearch=false&ajax=true\",headers=headers)\n",
    "    c+=8\n",
    "    data=BeautifulSoup(data.content,'lxml')\n",
    "    for i in data.find_all('a',{'data-obj':\"impVipAjaxMenuCloseLog\"}):\n",
    "        product_links.append('https://www.limeroad.com'+str(i.get('href')))\n",
    "\n"
   ]
  },
  {
   "cell_type": "code",
   "execution_count": 20,
   "metadata": {},
   "outputs": [
    {
     "data": {
      "text/plain": [
       "(18027, 15423)"
      ]
     },
     "execution_count": 20,
     "metadata": {},
     "output_type": "execute_result"
    }
   ],
   "source": [
    "len(product_links),len(set(product_links))"
   ]
  },
  {
   "cell_type": "markdown",
   "metadata": {},
   "source": [
    "# Women Jeans/Leggings"
   ]
  },
  {
   "cell_type": "code",
   "execution_count": 21,
   "metadata": {},
   "outputs": [],
   "source": [
    "c=0\n",
    "counter=0\n",
    "while c<2500:\n",
    "    data=requests.get(f\"https://www.limeroad.com/listing/get_listing_objects?p_start={c}&s_start=2&story_start=2&stories_to_edit=false&scraps_to_edit=false&stories_to_rate=false&scraps_to_rate=false&p_queryparam=%7B%22classification%22%3A%5B%22.0.1116.1217.1248%22%5D%2C%22stock%22%3A%5B%221%22%5D%7D&p_sortorder=threeQuarterStock_i%2Bdesc%2CscCount%2Bdesc&p_searchquery=*%3A*&s_queryparam=%7B%22classification%22%3A%5B%22.0.1116.1217.1248%22%5D%2C%22stock%22%3A%5B%221%22%5D%7D&s_sortorder=priority%2Bdesc%2Crandom_5399153%2Bdesc&s_searchquery=*%3A*&isScrapOnlySearch&group=false&product_id=&story_id=ms1248st&s_rows=2&p_rows=8&tag_sort=&df_type=&tag_condition=%22%22&tag=&p_groupoffset=&story_rows=2&stories&ext_img=&template=&badge&catEditor&gender&chopPage&chopPageSameUser&filterUserid&disableFixedScraps&tagPageStories&newUserSort=bsSort&new_user_data=newUserFlow&st_queryparam=&st_queryparam_or=&issearch=false&ajax=true\",headers=headers)\n",
    "    c+=8\n",
    "    data=BeautifulSoup(data.content,'lxml')\n",
    "    for i in data.find_all('a',{'data-obj':\"impVipAjaxMenuCloseLog\"}):\n",
    "        product_links.append('https://www.limeroad.com'+str(i.get('href')))\n"
   ]
  },
  {
   "cell_type": "markdown",
   "metadata": {},
   "source": [
    "# Women Skirts"
   ]
  },
  {
   "cell_type": "code",
   "execution_count": 22,
   "metadata": {},
   "outputs": [],
   "source": [
    "c=0\n",
    "counter=0\n",
    "while c<1500:\n",
    "    data=requests.get(f\"https://www.limeroad.com/listing/get_listing_objects?p_start={c}&s_start=2&story_start=2&stories_to_edit=false&scraps_to_edit=false&stories_to_rate=false&scraps_to_rate=false&p_queryparam=%7B%22classification%22%3A%5B%22.0.1116.1217.1247.1256%22%5D%2C%22stock%22%3A%5B%221%22%5D%7D&p_sortorder=threeQuarterStock_i%2Bdesc%2CscCount%2Bdesc&p_searchquery=*%3A*&s_queryparam=%7B%22classification%22%3A%5B%22.0.1116.1217.1247.1256%22%5D%2C%22stock%22%3A%5B%221%22%5D%7D&s_sortorder=priority%2Bdesc%2Crandom_5399154%2Bdesc&s_searchquery=*%3A*&isScrapOnlySearch&group=false&product_id=&story_id=ms1256st&s_rows=2&p_rows=8&tag_sort=&df_type=&tag_condition=%22%22&tag=&p_groupoffset=&story_rows=2&stories&ext_img=&template=&badge&catEditor&gender&chopPage&chopPageSameUser&filterUserid&disableFixedScraps&tagPageStories&newUserSort=bsSort&new_user_data=newUserFlow&st_queryparam=&st_queryparam_or=&issearch=false&ajax=true\",headers=headers)\n",
    "    c+=8\n",
    "    data=BeautifulSoup(data.content,'lxml')\n",
    "    for i in data.find_all('a',{'data-obj':\"impVipAjaxMenuCloseLog\"}):\n",
    "        product_links.append('https://www.limeroad.com'+str(i.get('href')))\n"
   ]
  },
  {
   "cell_type": "markdown",
   "metadata": {},
   "source": [
    "# Women Plazzos "
   ]
  },
  {
   "cell_type": "code",
   "execution_count": 23,
   "metadata": {},
   "outputs": [],
   "source": [
    "c=0\n",
    "counter=0\n",
    "while c<2000:\n",
    "    data=requests.get(f\"https://www.limeroad.com/listing/get_listing_objects?p_start={c}&s_start=1&story_start=2&stories_to_edit=false&scraps_to_edit=false&stories_to_rate=false&scraps_to_rate=false&p_queryparam=%7B%22classification%22%3A%5B%22.0.1116.1217.11201459%22%5D%2C%22stock%22%3A%5B%221%22%5D%7D&p_sortorder=threeQuarterStock_i%2Bdesc%2CscCount%2Bdesc&p_searchquery=*%3A*&s_queryparam=%7B%22classification%22%3A%5B%22.0.1116.1217.11201459%22%5D%2C%22stock%22%3A%5B%221%22%5D%7D&s_sortorder=priority%2Bdesc%2Crandom_5399155%2Bdesc&s_searchquery=*%3A*&isScrapOnlySearch&group=false&product_id=&story_id=ms11201459st&s_rows=2&p_rows=8&tag_sort=&df_type=&tag_condition=%22%22&tag=&p_groupoffset=&story_rows=2&stories&ext_img=&template=&badge&catEditor&gender&chopPage&chopPageSameUser&filterUserid&disableFixedScraps&tagPageStories&newUserSort=bsSort&new_user_data=newUserFlow&st_queryparam=&st_queryparam_or=&issearch=false&ajax=true\",headers=headers)\n",
    "    c+=8\n",
    "    data=BeautifulSoup(data.content,'lxml')\n",
    "    for i in data.find_all('a',{'data-obj':\"impVipAjaxMenuCloseLog\"}):\n",
    "        product_links.append('https://www.limeroad.com'+str(i.get('href')))\n"
   ]
  },
  {
   "cell_type": "markdown",
   "metadata": {},
   "source": [
    "# Women Shorts"
   ]
  },
  {
   "cell_type": "code",
   "execution_count": 24,
   "metadata": {},
   "outputs": [],
   "source": [
    "c=0\n",
    "counter=0\n",
    "while c<1000:\n",
    "    data=requests.get(f\"https://www.limeroad.com/listing/get_listing_objects?p_start={c}&s_start=0&story_start=2&stories_to_edit=false&scraps_to_edit=false&stories_to_rate=false&scraps_to_rate=false&p_queryparam=%7B%22classification%22%3A%5B%22.0.1116.1217.1247.1257%22%5D%2C%22stock%22%3A%5B%221%22%5D%7D&p_sortorder=threeQuarterStock_i%2Bdesc%2CscCount%2Bdesc&p_searchquery=*%3A*&s_queryparam=%7B%22classification%22%3A%5B%22.0.1116.1217.1247.1257%22%5D%2C%22stock%22%3A%5B%221%22%5D%7D&s_sortorder=priority%2Bdesc%2Crandom_5399157%2Bdesc&s_searchquery=*%3A*&isScrapOnlySearch&group=false&product_id=&story_id=ms1257st&s_rows=0&p_rows=8&tag_sort=&df_type=&tag_condition=%22%22&tag=&p_groupoffset=&story_rows=2&stories&ext_img=&template=&badge&catEditor&gender&chopPage&chopPageSameUser&filterUserid&disableFixedScraps&tagPageStories&newUserSort=bsSort&new_user_data=newUserFlow&st_queryparam=&st_queryparam_or=&issearch=false&ajax=true\",headers=headers)\n",
    "    c+=8\n",
    "    data=BeautifulSoup(data.content,'lxml')\n",
    "    for i in data.find_all('a',{'data-obj':\"impVipAjaxMenuCloseLog\"}):\n",
    "        product_links.append('https://www.limeroad.com'+str(i.get('href')))\n"
   ]
  },
  {
   "cell_type": "markdown",
   "metadata": {},
   "source": [
    "# Women Capris\n"
   ]
  },
  {
   "cell_type": "code",
   "execution_count": 25,
   "metadata": {},
   "outputs": [],
   "source": [
    "c=0\n",
    "counter=0\n",
    "while c<1000:\n",
    "    data=requests.get(f\"https://www.limeroad.com/listing/get_listing_objects?p_start={c}&s_start=0&story_start=2&stories_to_edit=false&scraps_to_edit=false&stories_to_rate=false&scraps_to_rate=false&p_queryparam=%7B%22classification%22%3A%5B%22.0.1116.1217.1246.1252%22%5D%2C%22stock%22%3A%5B%221%22%5D%7D&p_sortorder=threeQuarterStock_i%2Bdesc%2CscCount%2Bdesc&p_searchquery=*%3A*&s_queryparam=%7B%22classification%22%3A%5B%22.0.1116.1217.1246.1252%22%5D%2C%22stock%22%3A%5B%221%22%5D%7D&s_sortorder=priority%2Bdesc%2Crandom_5399160%2Bdesc&s_searchquery=*%3A*&isScrapOnlySearch&group=false&product_id=&story_id=ms1252st&s_rows=0&p_rows=8&tag_sort=&df_type=&tag_condition=%22%22&tag=&p_groupoffset=&story_rows=2&stories&ext_img=&template=&badge&catEditor&gender&chopPage&chopPageSameUser&filterUserid&disableFixedScraps&tagPageStories&newUserSort=bsSort&new_user_data=newUserFlow&st_queryparam=&st_queryparam_or=&issearch=false&ajax=true\",headers=headers)\n",
    "    c+=8\n",
    "    data=BeautifulSoup(data.content,'lxml')\n",
    "    for i in data.find_all('a',{'data-obj':\"impVipAjaxMenuCloseLog\"}):\n",
    "        product_links.append('https://www.limeroad.com'+str(i.get('href')))\n"
   ]
  },
  {
   "cell_type": "code",
   "execution_count": null,
   "metadata": {},
   "outputs": [],
   "source": []
  },
  {
   "cell_type": "markdown",
   "metadata": {},
   "source": [
    "# Women Trousers"
   ]
  },
  {
   "cell_type": "code",
   "execution_count": 26,
   "metadata": {},
   "outputs": [],
   "source": [
    "c=0\n",
    "counter=0\n",
    "while c<2000:\n",
    "    data=requests.get(f\"https://www.limeroad.com/listing/get_listing_objects?p_start={c}&s_start=0&story_start=2&stories_to_edit=false&scraps_to_edit=false&stories_to_rate=false&scraps_to_rate=false&p_queryparam=%7B%22classification%22%3A%5B%22.0.1116.1217.1249%22%5D%2C%22stock%22%3A%5B%221%22%5D%7D&p_sortorder=threeQuarterStock_i%2Bdesc%2CscCount%2Bdesc&p_searchquery=*%3A*&s_queryparam=%7B%22classification%22%3A%5B%22.0.1116.1217.1249%22%5D%2C%22stock%22%3A%5B%221%22%5D%7D&s_sortorder=priority%2Bdesc%2Crandom_5399161%2Bdesc&s_searchquery=*%3A*&isScrapOnlySearch&group=false&product_id=&story_id=ms1249st&s_rows=0&p_rows=8&tag_sort=&df_type=&tag_condition=%22%22&tag=&p_groupoffset=&story_rows=2&stories&ext_img=&template=&badge&catEditor&gender&chopPage&chopPageSameUser&filterUserid&disableFixedScraps&tagPageStories&newUserSort=bsSort&new_user_data=newUserFlow&st_queryparam=&st_queryparam_or=&issearch=false&ajax=true\",headers=headers)\n",
    "    c+=8\n",
    "    data=BeautifulSoup(data.content,'lxml')\n",
    "    for i in data.find_all('a',{'data-obj':\"impVipAjaxMenuCloseLog\"}):\n",
    "        product_links.append('https://www.limeroad.com'+str(i.get('href')))\n"
   ]
  },
  {
   "cell_type": "code",
   "execution_count": null,
   "metadata": {},
   "outputs": [],
   "source": []
  },
  {
   "cell_type": "markdown",
   "metadata": {},
   "source": [
    "# Women Track Pants"
   ]
  },
  {
   "cell_type": "code",
   "execution_count": 27,
   "metadata": {},
   "outputs": [],
   "source": [
    "c=0\n",
    "counter=0\n",
    "while c<1000:\n",
    "    data=requests.get(f\"https://www.limeroad.com/listing/get_listing_objects?p_start={c}&s_start=0&story_start=2&stories_to_edit=false&scraps_to_edit=false&stories_to_rate=false&scraps_to_rate=false&p_queryparam=%7B%22classification%22%3A%5B%22.0.1116.1217.11201460%22%5D%2C%22stock%22%3A%5B%221%22%5D%7D&p_sortorder=threeQuarterStock_i%2Bdesc%2CscCount%2Bdesc&p_searchquery=*%3A*&s_queryparam=%7B%22classification%22%3A%5B%22.0.1116.1217.11201460%22%5D%2C%22stock%22%3A%5B%221%22%5D%7D&s_sortorder=priority%2Bdesc%2Crandom_5399162%2Bdesc&s_searchquery=*%3A*&isScrapOnlySearch&group=false&product_id=&story_id=ms11201460st&s_rows=0&p_rows=8&tag_sort=&df_type=&tag_condition=%22%22&tag=&p_groupoffset=&story_rows=2&stories&ext_img=&template=&badge&catEditor&gender&chopPage&chopPageSameUser&filterUserid&disableFixedScraps&tagPageStories&newUserSort=bsSort&new_user_data=newUserFlow&st_queryparam=&st_queryparam_or=&issearch=false&ajax=true\",headers=headers)\n",
    "    c+=8\n",
    "    data=BeautifulSoup(data.content,'lxml')\n",
    "    for i in data.find_all('a',{'data-obj':\"impVipAjaxMenuCloseLog\"}):\n",
    "        product_links.append('https://www.limeroad.com'+str(i.get('href')))\n"
   ]
  },
  {
   "cell_type": "markdown",
   "metadata": {},
   "source": [
    "# Women Bras"
   ]
  },
  {
   "cell_type": "code",
   "execution_count": 28,
   "metadata": {},
   "outputs": [],
   "source": [
    "c=0\n",
    "counter=0\n",
    "while c<3000:\n",
    "    data=requests.get(f\"https://www.limeroad.com/listing/get_listing_objects?p_start={c}&s_start=0&story_start=0&stories_to_edit=false&scraps_to_edit=false&stories_to_rate=false&scraps_to_rate=false&p_queryparam=%7B%22stock%22%3A%5B%221%22%5D%7D&p_sortorder=threeQuarterStock_i%2Bdesc%2CscoreBucket17_f%2Bdesc&p_searchquery=bras+%7C%7C+bras*+%7C%7C+bra&s_queryparam=%7B%22stock%22%3A%5B%221%22%5D%7D&s_sortorder=priority%2Bdesc%2Crandom_5399163%2Bdesc&s_searchquery=bras+%7C%7C+bras*+%7C%7C+bra&isScrapOnlySearch=false&group=false&product_id=&story_id=&s_rows=0&p_rows=8&tag_sort=&df_type=&tag_condition=and&tag=&p_groupoffset=&story_rows=0&stories&ext_img=&template=&badge&catEditor=&gender=men&chopPage&chopPageSameUser&filterUserid&disableFixedScraps&tagPageStories=false&newUserSort=bsSort&new_user_data=newUserFlow&st_queryparam=&st_queryparam_or=&issearch=true&searchFilter=%5B%5B%22classification+.0.1116.1128.1129%22%2C%22classification+.0.1116.1128.1226%22%2C%22classification+.0.1116.1128.1129%22%5D%5D&ajax=true\",headers=headers)\n",
    "    c+=8\n",
    "    data=BeautifulSoup(data.content,'lxml')\n",
    "    for i in data.find_all('a',{'data-obj':\"impVipAjaxMenuCloseLog\"}):\n",
    "        product_links.append('https://www.limeroad.com'+str(i.get('href')))\n"
   ]
  },
  {
   "cell_type": "markdown",
   "metadata": {},
   "source": [
    "# Women Panties\n"
   ]
  },
  {
   "cell_type": "code",
   "execution_count": 29,
   "metadata": {},
   "outputs": [],
   "source": [
    "c=0\n",
    "counter=0\n",
    "while c<2000:\n",
    "    data=requests.get(f\"https://www.limeroad.com/listing/get_listing_objects?p_start={c}&s_start=0&story_start=0&stories_to_edit=false&scraps_to_edit=false&stories_to_rate=false&scraps_to_rate=false&p_queryparam=%7B%22stock%22%3A%5B%221%22%5D%7D&p_sortorder=threeQuarterStock_i%2Bdesc%2CscoreBucket17_f%2Bdesc&p_searchquery=panties+%7C%7C+panties*+%7C%7C+panty&s_queryparam=%7B%22stock%22%3A%5B%221%22%5D%7D&s_sortorder=priority%2Bdesc%2Crandom_5399170%2Bdesc&s_searchquery=panties+%7C%7C+panties*+%7C%7C+panty&isScrapOnlySearch=false&group=false&product_id=&story_id=&s_rows=0&p_rows=8&tag_sort=&df_type=&tag_condition=and&tag=&p_groupoffset=&story_rows=0&stories&ext_img=&template=&badge&catEditor=&gender=men&chopPage&chopPageSameUser&filterUserid&disableFixedScraps&tagPageStories=false&newUserSort=bsSort&new_user_data=newUserFlow&st_queryparam=&st_queryparam_or=&issearch=true&searchFilter=%5B%5B%22classification+.0.1116.1128.1227%22%5D%5D&ajax=true\",headers=headers)\n",
    "    c+=8\n",
    "    data=BeautifulSoup(data.content,'lxml')\n",
    "    for i in data.find_all('a',{'data-obj':\"impVipAjaxMenuCloseLog\"}):\n",
    "        product_links.append('https://www.limeroad.com'+str(i.get('href')))\n"
   ]
  },
  {
   "cell_type": "markdown",
   "metadata": {},
   "source": [
    "# Women Night Wear\n"
   ]
  },
  {
   "cell_type": "code",
   "execution_count": 30,
   "metadata": {},
   "outputs": [],
   "source": [
    "c=0\n",
    "counter=0\n",
    "while c<3000:\n",
    "    data=requests.get(f\"https://www.limeroad.com/listing/get_listing_objects?p_start={c}&s_start=0&story_start=0&stories_to_edit=false&scraps_to_edit=false&stories_to_rate=false&scraps_to_rate=false&p_queryparam=%7B%22stock%22%3A%5B%221%22%5D%7D&p_sortorder=threeQuarterStock_i%2Bdesc%2CscoreBucket17_f%2Bdesc&p_searchquery=night+wear+%7C%7C+night+wear*+%7C%7C+night+wear&s_queryparam=%7B%22stock%22%3A%5B%221%22%5D%7D&s_sortorder=priority%2Bdesc%2Crandom_5399172%2Bdesc&s_searchquery=night+wear+%7C%7C+night+wear*+%7C%7C+night+wear&isScrapOnlySearch=false&group=false&product_id=&story_id=&s_rows=0&p_rows=8&tag_sort=&df_type=&tag_condition=and&tag=&p_groupoffset=&story_rows=0&stories&ext_img=&template=&badge&catEditor=&gender=men&chopPage&chopPageSameUser&filterUserid&disableFixedScraps&tagPageStories=false&newUserSort=bsSort&new_user_data=newUserFlow&st_queryparam=&st_queryparam_or=&issearch=true&searchFilter=%5B%5B%22classification+.0.1116.1128.11201469%22%2C%22classification+.0.11201585.11201684.11201598.11201603%22%2C%22classification+.0.1116.1128.11201469%22%2C%22classification+.0.11201585.11201684.11201598.11201603%22%5D%5D&ajax=true\",headers=headers)\n",
    "    c+=8\n",
    "    data=BeautifulSoup(data.content,'lxml')\n",
    "    for i in data.find_all('a',{'data-obj':\"impVipAjaxMenuCloseLog\"}):\n",
    "        product_links.append('https://www.limeroad.com'+str(i.get('href')))\n"
   ]
  },
  {
   "cell_type": "code",
   "execution_count": 32,
   "metadata": {},
   "outputs": [
    {
     "data": {
      "text/plain": [
       "33752"
      ]
     },
     "execution_count": 32,
     "metadata": {},
     "output_type": "execute_result"
    }
   ],
   "source": [
    "len(product_links)"
   ]
  },
  {
   "cell_type": "markdown",
   "metadata": {},
   "source": [
    "# Women sweatshirts"
   ]
  },
  {
   "cell_type": "code",
   "execution_count": 134,
   "metadata": {},
   "outputs": [],
   "source": [
    "c=0\n",
    "counter=0\n",
    "while c<2500:\n",
    "    data=requests.get(f\"https://www.limeroad.com/listing/get_listing_objects?p_start={c}&s_start=0&story_start=0&stories_to_edit=false&scraps_to_edit=false&stories_to_rate=false&scraps_to_rate=false&p_queryparam=%7B%22classification%22%3A%5B%22.0.1116.1230.11201399%22%5D%2C%22stock%22%3A%5B%221%22%5D%7D&p_sortorder=threeQuarterStock_i%2Bdesc%2CscCount%2Bdesc&p_searchquery=*%3A*&s_queryparam=%7B%22classification%22%3A%5B%22.0.1116.1230.11201399%22%5D%2C%22stock%22%3A%5B%221%22%5D%7D&s_sortorder=priority%2Bdesc%2Crandom_5399174%2Bdesc&s_searchquery=*%3A*&isScrapOnlySearch&group=false&product_id=&story_id=ms11201399st&s_rows=0&p_rows=8&tag_sort=&df_type=&tag_condition=%22%22&tag=&p_groupoffset=&story_rows=0&stories&ext_img=&template=&badge&catEditor&gender&chopPage&chopPageSameUser&filterUserid&disableFixedScraps&tagPageStories&newUserSort=bsSort&new_user_data=newUserFlow&st_queryparam=&st_queryparam_or=&issearch=false&ajax=true\",headers=headers)\n",
    "    c+=8\n",
    "    data=BeautifulSoup(data.content,'lxml')\n",
    "    for i in data.find_all('a',{'data-obj':\"impVipAjaxMenuCloseLog\"}):\n",
    "        product_links.append('https://www.limeroad.com'+str(i.get('href')))\n"
   ]
  },
  {
   "cell_type": "markdown",
   "metadata": {},
   "source": [
    "# Women Jackets"
   ]
  },
  {
   "cell_type": "code",
   "execution_count": 34,
   "metadata": {},
   "outputs": [],
   "source": [
    "c=0\n",
    "counter=0\n",
    "while c<1500:\n",
    "    data=requests.get(f\"https://www.limeroad.com/listing/get_listing_objects?p_start={c}&s_start=0&story_start=2&stories_to_edit=false&scraps_to_edit=false&stories_to_rate=false&scraps_to_rate=false&p_queryparam=%7B%22classification%22%3A%5B%22.0.1116.1230.1232.1260%22%5D%2C%22stock%22%3A%5B%221%22%5D%7D&p_sortorder=threeQuarterStock_i%2Bdesc%2CscCount%2Bdesc&p_searchquery=*%3A*&s_queryparam=%7B%22classification%22%3A%5B%22.0.1116.1230.1232.1260%22%5D%2C%22stock%22%3A%5B%221%22%5D%7D&s_sortorder=priority%2Bdesc%2Crandom_5399175%2Bdesc&s_searchquery=*%3A*&isScrapOnlySearch&group=false&product_id=&story_id=ms1260st&s_rows=0&p_rows=8&tag_sort=&df_type=&tag_condition=%22%22&tag=&p_groupoffset=&story_rows=2&stories&ext_img=&template=&badge&catEditor&gender&chopPage&chopPageSameUser&filterUserid&disableFixedScraps&tagPageStories&newUserSort=bsSort&new_user_data=newUserFlow&st_queryparam=&st_queryparam_or=&issearch=false&ajax=true\",headers=headers)\n",
    "    c+=8\n",
    "    data=BeautifulSoup(data.content,'lxml')\n",
    "    for i in data.find_all('a',{'data-obj':\"impVipAjaxMenuCloseLog\"}):\n",
    "        product_links.append('https://www.limeroad.com'+str(i.get('href')))\n"
   ]
  },
  {
   "cell_type": "markdown",
   "metadata": {},
   "source": [
    "#  Women Blazer and Coats"
   ]
  },
  {
   "cell_type": "code",
   "execution_count": 35,
   "metadata": {},
   "outputs": [],
   "source": [
    "c=0\n",
    "counter=0\n",
    "while c<800:\n",
    "    data=requests.get(f\"https://www.limeroad.com/listing/get_listing_objects?p_start={c}&s_start=0&story_start=1&stories_to_edit=false&scraps_to_edit=false&stories_to_rate=false&scraps_to_rate=false&p_queryparam=%7B%22classification%22%3A%5B%22.0.1116.1230.1232.1261%22%5D%2C%22stock%22%3A%5B%221%22%5D%7D&p_sortorder=threeQuarterStock_i%2Bdesc%2CscCount%2Bdesc&p_searchquery=*%3A*&s_queryparam=%7B%22classification%22%3A%5B%22.0.1116.1230.1232.1261%22%5D%2C%22stock%22%3A%5B%221%22%5D%7D&s_sortorder=priority%2Bdesc%2Crandom_5399176%2Bdesc&s_searchquery=*%3A*&isScrapOnlySearch&group=false&product_id=&story_id=ms1261st&s_rows=0&p_rows=8&tag_sort=&df_type=&tag_condition=%22%22&tag=&p_groupoffset=&story_rows=2&stories&ext_img=&template=&badge&catEditor&gender&chopPage&chopPageSameUser&filterUserid&disableFixedScraps&tagPageStories&newUserSort=bsSort&new_user_data=newUserFlow&st_queryparam=&st_queryparam_or=&issearch=false&ajax=true\",headers=headers)\n",
    "    c+=8\n",
    "    data=BeautifulSoup(data.content,'lxml')\n",
    "    for i in data.find_all('a',{'data-obj':\"impVipAjaxMenuCloseLog\"}):\n",
    "        product_links.append('https://www.limeroad.com'+str(i.get('href')))\n"
   ]
  },
  {
   "cell_type": "markdown",
   "metadata": {},
   "source": [
    "# Women Pullover"
   ]
  },
  {
   "cell_type": "code",
   "execution_count": 37,
   "metadata": {},
   "outputs": [],
   "source": [
    "c=0\n",
    "counter=0\n",
    "while c<800:\n",
    "    data=requests.get(f\"https://www.limeroad.com/listing/get_listing_objects?p_start={c}&s_start=0&story_start=0&stories_to_edit=false&scraps_to_edit=false&stories_to_rate=false&scraps_to_rate=false&p_queryparam=%7B%22classification%22%3A%5B%22.0.1116.1230.1234%22%5D%2C%22stock%22%3A%5B%221%22%5D%7D&p_sortorder=threeQuarterStock_i%2Bdesc%2CscCount%2Bdesc&p_searchquery=*%3A*&s_queryparam=%7B%22classification%22%3A%5B%22.0.1116.1230.1234%22%5D%2C%22stock%22%3A%5B%221%22%5D%7D&s_sortorder=priority%2Bdesc%2Crandom_5399178%2Bdesc&s_searchquery=*%3A*&isScrapOnlySearch&group=false&product_id=&story_id=ms1234st&s_rows=0&p_rows=8&tag_sort=&df_type=&tag_condition=%22%22&tag=&p_groupoffset=&story_rows=0&stories&ext_img=&template=&badge&catEditor&gender&chopPage&chopPageSameUser&filterUserid&disableFixedScraps&tagPageStories&newUserSort=bsSort&new_user_data=newUserFlow&st_queryparam=&st_queryparam_or=&issearch=false&ajax=true\",headers=headers)\n",
    "    c+=8\n",
    "    data=BeautifulSoup(data.content,'lxml')\n",
    "    for i in data.find_all('a',{'data-obj':\"impVipAjaxMenuCloseLog\"}):\n",
    "        product_links.append('https://www.limeroad.com'+str(i.get('href')))\n"
   ]
  },
  {
   "cell_type": "markdown",
   "metadata": {},
   "source": [
    "# Woolen Kurta"
   ]
  },
  {
   "cell_type": "code",
   "execution_count": 38,
   "metadata": {},
   "outputs": [],
   "source": [
    "c=0\n",
    "counter=0\n",
    "while c<200:\n",
    "    data=requests.get(f\"https://www.limeroad.com/listing/get_listing_objects?p_start={c}&s_start=0&story_start=0&stories_to_edit=false&scraps_to_edit=false&stories_to_rate=false&scraps_to_rate=false&p_queryparam=%7B%22classification%22%3A%5B%22.0.1116.1230.11201484%22%5D%2C%22stock%22%3A%5B%221%22%5D%7D&p_sortorder=threeQuarterStock_i%2Bdesc%2CscCount%2Bdesc&p_searchquery=*%3A*&s_queryparam=%7B%22classification%22%3A%5B%22.0.1116.1230.11201484%22%5D%2C%22stock%22%3A%5B%221%22%5D%7D&s_sortorder=priority%2Bdesc%2Crandom_5399179%2Bdesc&s_searchquery=*%3A*&isScrapOnlySearch&group=false&product_id=&story_id=ms11201484st&s_rows=0&p_rows=8&tag_sort=&df_type=&tag_condition=%22%22&tag=&p_groupoffset=&story_rows=0&stories&ext_img=&template=&badge&catEditor&gender&chopPage&chopPageSameUser&filterUserid&disableFixedScraps&tagPageStories&newUserSort=bsSort&new_user_data=newUserFlow&st_queryparam=&st_queryparam_or=&issearch=false&ajax=true\",headers=headers)\n",
    "    c+=8\n",
    "    data=BeautifulSoup(data.content,'lxml')\n",
    "    for i in data.find_all('a',{'data-obj':\"impVipAjaxMenuCloseLog\"}):\n",
    "        product_links.append('https://www.limeroad.com'+str(i.get('href')))\n"
   ]
  },
  {
   "cell_type": "code",
   "execution_count": null,
   "metadata": {},
   "outputs": [],
   "source": []
  },
  {
   "cell_type": "markdown",
   "metadata": {},
   "source": [
    "# Women Stoles"
   ]
  },
  {
   "cell_type": "code",
   "execution_count": 39,
   "metadata": {},
   "outputs": [],
   "source": [
    "c=0\n",
    "counter=0\n",
    "while c<1500:\n",
    "    data=requests.get(f\"https://www.limeroad.com/listing/get_listing_objects?p_start={c}&s_start=0&story_start=0&stories_to_edit=false&scraps_to_edit=false&stories_to_rate=false&scraps_to_rate=false&p_queryparam=%7B%22classification%22%3A%5B%22.0.1116.1230.11201483%22%5D%2C%22stock%22%3A%5B%221%22%5D%7D&p_sortorder=threeQuarterStock_i%2Bdesc%2CscCount%2Bdesc&p_searchquery=*%3A*&s_queryparam=%7B%22classification%22%3A%5B%22.0.1116.1230.11201483%22%5D%2C%22stock%22%3A%5B%221%22%5D%7D&s_sortorder=priority%2Bdesc%2Crandom_5399180%2Bdesc&s_searchquery=*%3A*&isScrapOnlySearch&group=false&product_id=&story_id=ms11201483st&s_rows=0&p_rows=8&tag_sort=&df_type=&tag_condition=%22%22&tag=&p_groupoffset=&story_rows=0&stories&ext_img=&template=&badge&catEditor&gender&chopPage&chopPageSameUser&filterUserid&disableFixedScraps&tagPageStories&newUserSort=bsSort&new_user_data=newUserFlow&st_queryparam=&st_queryparam_or=&issearch=false&ajax=true\",headers=headers)\n",
    "    c+=8\n",
    "    data=BeautifulSoup(data.content,'lxml')\n",
    "    for i in data.find_all('a',{'data-obj':\"impVipAjaxMenuCloseLog\"}):\n",
    "        product_links.append('https://www.limeroad.com'+str(i.get('href')))\n"
   ]
  },
  {
   "cell_type": "markdown",
   "metadata": {},
   "source": [
    "# Women Shawls"
   ]
  },
  {
   "cell_type": "code",
   "execution_count": 40,
   "metadata": {},
   "outputs": [],
   "source": [
    "c=0\n",
    "counter=0\n",
    "while c<1000:\n",
    "    data=requests.get(f\"https://www.limeroad.com/listing/get_listing_objects?p_start={c}&s_start=0&story_start=2&stories_to_edit=false&scraps_to_edit=false&stories_to_rate=false&scraps_to_rate=false&p_queryparam=%7B%22classification%22%3A%5B%22.0.1116.1230.1233%22%5D%2C%22stock%22%3A%5B%221%22%5D%7D&p_sortorder=threeQuarterStock_i%2Bdesc%2CscCount%2Bdesc&p_searchquery=*%3A*&s_queryparam=%7B%22classification%22%3A%5B%22.0.1116.1230.1233%22%5D%2C%22stock%22%3A%5B%221%22%5D%7D&s_sortorder=priority%2Bdesc%2Crandom_5399181%2Bdesc&s_searchquery=*%3A*&isScrapOnlySearch&group=false&product_id=&story_id=ms1233st&s_rows=0&p_rows=8&tag_sort=&df_type=&tag_condition=%22%22&tag=&p_groupoffset=&story_rows=2&stories&ext_img=&template=&badge&catEditor&gender&chopPage&chopPageSameUser&filterUserid&disableFixedScraps&tagPageStories&newUserSort=bsSort&new_user_data=newUserFlow&st_queryparam=&st_queryparam_or=&issearch=false&ajax=true\",headers=headers)\n",
    "    c+=8\n",
    "    data=BeautifulSoup(data.content,'lxml')\n",
    "    for i in data.find_all('a',{'data-obj':\"impVipAjaxMenuCloseLog\"}):\n",
    "        product_links.append('https://www.limeroad.com'+str(i.get('href')))\n"
   ]
  },
  {
   "cell_type": "markdown",
   "metadata": {},
   "source": [
    "# Women Poncho"
   ]
  },
  {
   "cell_type": "code",
   "execution_count": 41,
   "metadata": {},
   "outputs": [],
   "source": [
    "c=0\n",
    "counter=0\n",
    "while c<100:\n",
    "    data=requests.get(f\"https://www.limeroad.com/listing/get_listing_objects?p_start={c}&s_start=0&story_start=0&stories_to_edit=false&scraps_to_edit=false&stories_to_rate=false&scraps_to_rate=false&p_queryparam=%7B%22classification%22%3A%5B%22.0.1116.1230.11201490%22%5D%2C%22stock%22%3A%5B%221%22%5D%7D&p_sortorder=threeQuarterStock_i%2Bdesc%2CscCount%2Bdesc&p_searchquery=*%3A*&s_queryparam=%7B%22classification%22%3A%5B%22.0.1116.1230.11201490%22%5D%2C%22stock%22%3A%5B%221%22%5D%7D&s_sortorder=priority%2Bdesc%2Crandom_5399182%2Bdesc&s_searchquery=*%3A*&isScrapOnlySearch&group=false&product_id=&story_id=ms11201490st&s_rows=0&p_rows=8&tag_sort=&df_type=&tag_condition=%22%22&tag=&p_groupoffset=&story_rows=0&stories&ext_img=&template=&badge&catEditor&gender&chopPage&chopPageSameUser&filterUserid&disableFixedScraps&tagPageStories&newUserSort=bsSort&new_user_data=newUserFlow&st_queryparam=&st_queryparam_or=&issearch=false&ajax=true\",headers=headers)\n",
    "    c+=8\n",
    "    data=BeautifulSoup(data.content,'lxml')\n",
    "    for i in data.find_all('a',{'data-obj':\"impVipAjaxMenuCloseLog\"}):\n",
    "        product_links.append('https://www.limeroad.com'+str(i.get('href')))\n"
   ]
  },
  {
   "cell_type": "markdown",
   "metadata": {},
   "source": [
    "# Women Mufflers, Caps, Gloves"
   ]
  },
  {
   "cell_type": "code",
   "execution_count": 42,
   "metadata": {},
   "outputs": [],
   "source": [
    "c=0\n",
    "counter=0\n",
    "while c<100:\n",
    "    data=requests.get(f\"https://www.limeroad.com/listing/get_listing_objects?p_start={c}&s_start=0&story_start=0&stories_to_edit=false&scraps_to_edit=false&stories_to_rate=false&scraps_to_rate=false&p_queryparam=%7B%22classification%22%3A%5B%22.0.1116.1230.11201485%22%5D%2C%22stock%22%3A%5B%221%22%5D%7D&p_sortorder=threeQuarterStock_i%2Bdesc%2CscCount%2Bdesc&p_searchquery=*%3A*&s_queryparam=%7B%22classification%22%3A%5B%22.0.1116.1230.11201485%22%5D%2C%22stock%22%3A%5B%221%22%5D%7D&s_sortorder=priority%2Bdesc%2Crandom_5399183%2Bdesc&s_searchquery=*%3A*&isScrapOnlySearch&group=false&product_id=&story_id=ms11201485st&s_rows=0&p_rows=8&tag_sort=&df_type=&tag_condition=%22%22&tag=&p_groupoffset=&story_rows=0&stories&ext_img=&template=&badge&catEditor&gender&chopPage&chopPageSameUser&filterUserid&disableFixedScraps&tagPageStories&newUserSort=bsSort&new_user_data=newUserFlow&st_queryparam=&st_queryparam_or=&issearch=false&ajax=true\",headers=headers)\n",
    "    c+=8\n",
    "    data=BeautifulSoup(data.content,'lxml')\n",
    "    for i in data.find_all('a',{'data-obj':\"impVipAjaxMenuCloseLog\"}):\n",
    "        product_links.append('https://www.limeroad.com'+str(i.get('href')))\n"
   ]
  },
  {
   "cell_type": "markdown",
   "metadata": {},
   "source": [
    "# Thermal Innerwear"
   ]
  },
  {
   "cell_type": "code",
   "execution_count": 43,
   "metadata": {},
   "outputs": [],
   "source": [
    "c=0\n",
    "counter=0\n",
    "while c<100:\n",
    "    data=requests.get(f\"https://www.limeroad.com/listing/get_listing_objects?p_start={c}&s_start=0&story_start=0&stories_to_edit=false&scraps_to_edit=false&stories_to_rate=false&scraps_to_rate=false&p_queryparam=%7B%22classification%22%3A%5B%22.0.1116.1230.11201787%22%5D%2C%22stock%22%3A%5B%221%22%5D%7D&p_sortorder=threeQuarterStock_i%2Bdesc%2CscCount%2Bdesc&p_searchquery=*%3A*&s_queryparam=%7B%22classification%22%3A%5B%22.0.1116.1230.11201787%22%5D%2C%22stock%22%3A%5B%221%22%5D%7D&s_sortorder=priority%2Bdesc%2Crandom_5399184%2Bdesc&s_searchquery=*%3A*&isScrapOnlySearch&group=false&product_id=&story_id=ms11201787st&s_rows=0&p_rows=8&tag_sort=&df_type=&tag_condition=%22%22&tag=&p_groupoffset=&story_rows=0&stories&ext_img=&template=&badge&catEditor&gender&chopPage&chopPageSameUser&filterUserid&disableFixedScraps&tagPageStories&newUserSort=bsSort&new_user_data=newUserFlow&st_queryparam=&st_queryparam_or=&issearch=false&ajax=true\",headers=headers)\n",
    "    c+=8\n",
    "    data=BeautifulSoup(data.content,'lxml')\n",
    "    for i in data.find_all('a',{'data-obj':\"impVipAjaxMenuCloseLog\"}):\n",
    "        product_links.append('https://www.limeroad.com'+str(i.get('href')))\n"
   ]
  },
  {
   "cell_type": "markdown",
   "metadata": {},
   "source": [
    "# Women Sandals"
   ]
  },
  {
   "cell_type": "code",
   "execution_count": 44,
   "metadata": {},
   "outputs": [],
   "source": [
    "c=0\n",
    "counter=0\n",
    "while c<2000:\n",
    "    data=requests.get(f\"https://www.limeroad.com/listing/get_listing_objects?p_start={c}&s_start=0&story_start=2&stories_to_edit=false&scraps_to_edit=false&stories_to_rate=false&scraps_to_rate=false&p_queryparam=%7B%22classification%22%3A%5B%22.0.1148.1150.1153%22%5D%2C%22stock%22%3A%5B%221%22%5D%7D&p_sortorder=threeQuarterStock_i%2Bdesc%2CscCount%2Bdesc&p_searchquery=*%3A*&s_queryparam=%7B%22classification%22%3A%5B%22.0.1148.1150.1153%22%5D%2C%22stock%22%3A%5B%221%22%5D%7D&s_sortorder=priority%2Bdesc%2Crandom_5399232%2Bdesc&s_searchquery=*%3A*&isScrapOnlySearch&group=false&product_id=&story_id=ms1153st&s_rows=0&p_rows=8&tag_sort=&df_type=&tag_condition=%22%22&tag=&p_groupoffset=&story_rows=2&stories&ext_img=&template=&badge&catEditor&gender&chopPage&chopPageSameUser&filterUserid&disableFixedScraps&tagPageStories&newUserSort=bsSort&new_user_data=newUserFlow&st_queryparam=&st_queryparam_or=&issearch=false&ajax=true\",headers=headers)\n",
    "    c+=8\n",
    "    data=BeautifulSoup(data.content,'lxml')\n",
    "    for i in data.find_all('a',{'data-obj':\"impVipAjaxMenuCloseLog\"}):\n",
    "        product_links.append('https://www.limeroad.com'+str(i.get('href')))\n"
   ]
  },
  {
   "cell_type": "markdown",
   "metadata": {},
   "source": [
    "# Women Ballerina"
   ]
  },
  {
   "cell_type": "code",
   "execution_count": 45,
   "metadata": {},
   "outputs": [],
   "source": [
    "c=0\n",
    "counter=0\n",
    "while c<1000:\n",
    "    data=requests.get(f\"https://www.limeroad.com/listing/get_listing_objects?p_start={c}&s_start=0&story_start=0&stories_to_edit=false&scraps_to_edit=false&stories_to_rate=false&scraps_to_rate=false&p_queryparam=%7B%22classification%22%3A%5B%22.0.1148.1150.1151%22%5D%2C%22stock%22%3A%5B%221%22%5D%7D&p_sortorder=threeQuarterStock_i%2Bdesc%2CscCount%2Bdesc&p_searchquery=*%3A*&s_queryparam=%7B%22classification%22%3A%5B%22.0.1148.1150.1151%22%5D%2C%22stock%22%3A%5B%221%22%5D%7D&s_sortorder=priority%2Bdesc%2Crandom_5399234%2Bdesc&s_searchquery=*%3A*&isScrapOnlySearch&group=false&product_id=&story_id=ms1151st&s_rows=0&p_rows=8&tag_sort=&df_type=&tag_condition=%22%22&tag=&p_groupoffset=&story_rows=0&stories&ext_img=&template=&badge&catEditor&gender&chopPage&chopPageSameUser&filterUserid&disableFixedScraps&tagPageStories&newUserSort=bsSort&new_user_data=newUserFlow&st_queryparam=&st_queryparam_or=&issearch=false&ajax=true\",headers=headers)\n",
    "    c+=8\n",
    "    data=BeautifulSoup(data.content,'lxml')\n",
    "    for i in data.find_all('a',{'data-obj':\"impVipAjaxMenuCloseLog\"}):\n",
    "        product_links.append('https://www.limeroad.com'+str(i.get('href')))\n"
   ]
  },
  {
   "cell_type": "markdown",
   "metadata": {},
   "source": [
    "# Women Casual Shoes"
   ]
  },
  {
   "cell_type": "code",
   "execution_count": 46,
   "metadata": {},
   "outputs": [],
   "source": [
    "c=0\n",
    "counter=0\n",
    "while c<500:\n",
    "    data=requests.get(f\"https://www.limeroad.com/listing/get_listing_objects?p_start={c}&s_start=0&story_start=0&stories_to_edit=false&scraps_to_edit=false&stories_to_rate=false&scraps_to_rate=false&p_queryparam=%7B%22classification%22%3A%5B%22.0.1148.11201442%22%5D%2C%22stock%22%3A%5B%221%22%5D%7D&p_sortorder=threeQuarterStock_i%2Bdesc%2CscCount%2Bdesc&p_searchquery=*%3A*&s_queryparam=%7B%22classification%22%3A%5B%22.0.1148.11201442%22%5D%2C%22stock%22%3A%5B%221%22%5D%7D&s_sortorder=priority%2Bdesc%2Crandom_5399236%2Bdesc&s_searchquery=*%3A*&isScrapOnlySearch&group=false&product_id=&story_id=ms11201442st&s_rows=0&p_rows=8&tag_sort=&df_type=&tag_condition=%22%22&tag=&p_groupoffset=&story_rows=0&stories&ext_img=&template=&badge&catEditor&gender&chopPage&chopPageSameUser&filterUserid&disableFixedScraps&tagPageStories&newUserSort=bsSort&new_user_data=newUserFlow&st_queryparam=&st_queryparam_or=&issearch=false&ajax=true\",headers=headers)\n",
    "    c+=8\n",
    "    data=BeautifulSoup(data.content,'lxml')\n",
    "    for i in data.find_all('a',{'data-obj':\"impVipAjaxMenuCloseLog\"}):\n",
    "        product_links.append('https://www.limeroad.com'+str(i.get('href')))\n"
   ]
  },
  {
   "cell_type": "markdown",
   "metadata": {},
   "source": [
    "# Women Sports Shoes"
   ]
  },
  {
   "cell_type": "code",
   "execution_count": 47,
   "metadata": {},
   "outputs": [],
   "source": [
    "c=0\n",
    "counter=0\n",
    "while c<500:\n",
    "    data=requests.get(f\"https://www.limeroad.com/listing/get_listing_objects?p_start={c}&s_start=0&story_start=1&stories_to_edit=false&scraps_to_edit=false&stories_to_rate=false&scraps_to_rate=false&p_queryparam=%7B%22classification%22%3A%5B%22.0.1148.11201512.11201691%22%5D%2C%22stock%22%3A%5B%221%22%5D%7D&p_sortorder=threeQuarterStock_i%2Bdesc%2CscCount%2Bdesc&p_searchquery=*%3A*&s_queryparam=%7B%22classification%22%3A%5B%22.0.1148.11201512.11201691%22%5D%2C%22stock%22%3A%5B%221%22%5D%7D&s_sortorder=priority%2Bdesc%2Crandom_5399240%2Bdesc&s_searchquery=*%3A*&isScrapOnlySearch&group=false&product_id=&story_id=ms11201691st&s_rows=0&p_rows=8&tag_sort=&df_type=&tag_condition=%22%22&tag=&p_groupoffset=&story_rows=2&stories&ext_img=&template=&badge&catEditor&gender&chopPage&chopPageSameUser&filterUserid&disableFixedScraps&tagPageStories&newUserSort=bsSort&new_user_data=newUserFlow&st_queryparam=&st_queryparam_or=&issearch=false&ajax=true\",headers=headers)\n",
    "    c+=8\n",
    "    data=BeautifulSoup(data.content,'lxml')\n",
    "    for i in data.find_all('a',{'data-obj':\"impVipAjaxMenuCloseLog\"}):\n",
    "        product_links.append('https://www.limeroad.com'+str(i.get('href')))\n"
   ]
  },
  {
   "cell_type": "markdown",
   "metadata": {},
   "source": [
    "# Sneakers Women"
   ]
  },
  {
   "cell_type": "code",
   "execution_count": 50,
   "metadata": {},
   "outputs": [],
   "source": [
    "c=0\n",
    "counter=0\n",
    "while c<500:\n",
    "    data=requests.get(f\"https://www.limeroad.com/listing/get_listing_objects?p_start={c}&s_start=0&story_start=1&stories_to_edit=false&scraps_to_edit=false&stories_to_rate=false&scraps_to_rate=false&p_queryparam=%7B%22classification%22%3A%5B%22.0.1148.11201512.11201692%22%5D%2C%22stock%22%3A%5B%221%22%5D%7D&p_sortorder=threeQuarterStock_i%2Bdesc%2CscCount%2Bdesc&p_searchquery=*%3A*&s_queryparam=%7B%22classification%22%3A%5B%22.0.1148.11201512.11201692%22%5D%2C%22stock%22%3A%5B%221%22%5D%7D&s_sortorder=priority%2Bdesc%2Crandom_5399242%2Bdesc&s_searchquery=*%3A*&isScrapOnlySearch&group=false&product_id=&story_id=ms11201692st&s_rows=0&p_rows=8&tag_sort=&df_type=&tag_condition=%22%22&tag=&p_groupoffset=&story_rows=2&stories&ext_img=&template=&badge&catEditor&gender&chopPage&chopPageSameUser&filterUserid&disableFixedScraps&tagPageStories&newUserSort=bsSort&new_user_data=newUserFlow&st_queryparam=&st_queryparam_or=&issearch=false&ajax=true\",headers=headers)\n",
    "    c+=8\n",
    "    data=BeautifulSoup(data.content,'lxml')\n",
    "    for i in data.find_all('a',{'data-obj':\"impVipAjaxMenuCloseLog\"}):\n",
    "        product_links.append('https://www.limeroad.com'+str(i.get('href')))\n"
   ]
  },
  {
   "cell_type": "code",
   "execution_count": null,
   "metadata": {},
   "outputs": [],
   "source": []
  },
  {
   "cell_type": "markdown",
   "metadata": {},
   "source": [
    "# Women Loafers & Mocassins"
   ]
  },
  {
   "cell_type": "code",
   "execution_count": 51,
   "metadata": {},
   "outputs": [],
   "source": [
    "c=0\n",
    "counter=0\n",
    "while c<500:\n",
    "    data=requests.get(f\"https://www.limeroad.com/listing/get_listing_objects?p_start={c}&s_start=0&story_start=0&stories_to_edit=false&scraps_to_edit=false&stories_to_rate=false&scraps_to_rate=false&p_queryparam=%7B%22classification%22%3A%5B%22.0.1148.1152%22%5D%2C%22stock%22%3A%5B%221%22%5D%7D&p_sortorder=threeQuarterStock_i%2Bdesc%2CscCount%2Bdesc&p_searchquery=*%3A*&s_queryparam=%7B%22classification%22%3A%5B%22.0.1148.1152%22%5D%2C%22stock%22%3A%5B%221%22%5D%7D&s_sortorder=priority%2Bdesc%2Crandom_5399243%2Bdesc&s_searchquery=*%3A*&isScrapOnlySearch&group=false&product_id=&story_id=ms1152st&s_rows=0&p_rows=8&tag_sort=&df_type=&tag_condition=%22%22&tag=&p_groupoffset=&story_rows=0&stories&ext_img=&template=&badge&catEditor&gender&chopPage&chopPageSameUser&filterUserid&disableFixedScraps&tagPageStories&newUserSort=bsSort&new_user_data=newUserFlow&st_queryparam=&st_queryparam_or=&issearch=false&ajax=true\",headers=headers)\n",
    "    c+=8\n",
    "    data=BeautifulSoup(data.content,'lxml')\n",
    "    for i in data.find_all('a',{'data-obj':\"impVipAjaxMenuCloseLog\"}):\n",
    "        product_links.append('https://www.limeroad.com'+str(i.get('href')))\n"
   ]
  },
  {
   "cell_type": "code",
   "execution_count": null,
   "metadata": {},
   "outputs": [],
   "source": []
  },
  {
   "cell_type": "markdown",
   "metadata": {},
   "source": [
    "# Women Flip-Flop"
   ]
  },
  {
   "cell_type": "code",
   "execution_count": 52,
   "metadata": {},
   "outputs": [],
   "source": [
    "c=0\n",
    "counter=0\n",
    "while c<500:\n",
    "    data=requests.get(f\"https://www.limeroad.com/listing/get_listing_objects?p_start={c}&s_start=0&story_start=0&stories_to_edit=false&scraps_to_edit=false&stories_to_rate=false&scraps_to_rate=false&p_queryparam=%7B%22classification%22%3A%5B%22.0.1148.1158%22%5D%2C%22stock%22%3A%5B%221%22%5D%7D&p_sortorder=threeQuarterStock_i%2Bdesc%2CscCount%2Bdesc&p_searchquery=*%3A*&s_queryparam=%7B%22classification%22%3A%5B%22.0.1148.1158%22%5D%2C%22stock%22%3A%5B%221%22%5D%7D&s_sortorder=priority%2Bdesc%2Crandom_5399244%2Bdesc&s_searchquery=*%3A*&isScrapOnlySearch&group=false&product_id=&story_id=ms1158st&s_rows=0&p_rows=8&tag_sort=&df_type=&tag_condition=%22%22&tag=&p_groupoffset=&story_rows=0&stories&ext_img=&template=&badge&catEditor&gender&chopPage&chopPageSameUser&filterUserid&disableFixedScraps&tagPageStories&newUserSort=bsSort&new_user_data=newUserFlow&st_queryparam=&st_queryparam_or=&issearch=false&ajax=true\",headers=headers)\n",
    "    c+=8\n",
    "    data=BeautifulSoup(data.content,'lxml')\n",
    "    for i in data.find_all('a',{'data-obj':\"impVipAjaxMenuCloseLog\"}):\n",
    "        product_links.append('https://www.limeroad.com'+str(i.get('href')))\n"
   ]
  },
  {
   "cell_type": "code",
   "execution_count": null,
   "metadata": {},
   "outputs": [],
   "source": []
  },
  {
   "cell_type": "markdown",
   "metadata": {},
   "source": [
    "# Women Boots"
   ]
  },
  {
   "cell_type": "code",
   "execution_count": 53,
   "metadata": {},
   "outputs": [],
   "source": [
    "c=0\n",
    "counter=0\n",
    "while c<500:\n",
    "    data=requests.get(f\"https://www.limeroad.com/listing/get_listing_objects?p_start={c}&s_start=0&story_start=0&stories_to_edit=false&scraps_to_edit=false&stories_to_rate=false&scraps_to_rate=false&p_queryparam=%7B%22classification%22%3A%5B%22.0.1148.1149%22%5D%2C%22stock%22%3A%5B%221%22%5D%7D&p_sortorder=threeQuarterStock_i%2Bdesc%2CscCount%2Bdesc&p_searchquery=*%3A*&s_queryparam=%7B%22classification%22%3A%5B%22.0.1148.1149%22%5D%2C%22stock%22%3A%5B%221%22%5D%7D&s_sortorder=priority%2Bdesc%2Crandom_5399245%2Bdesc&s_searchquery=*%3A*&isScrapOnlySearch&group=false&product_id=&story_id=ms1149st&s_rows=0&p_rows=8&tag_sort=&df_type=&tag_condition=%22%22&tag=&p_groupoffset=&story_rows=0&stories&ext_img=&template=&badge&catEditor&gender&chopPage&chopPageSameUser&filterUserid&disableFixedScraps&tagPageStories&newUserSort=bsSort&new_user_data=newUserFlow&st_queryparam=&st_queryparam_or=&issearch=false&ajax=true\",headers=headers)\n",
    "    c+=8\n",
    "    data=BeautifulSoup(data.content,'lxml')\n",
    "    for i in data.find_all('a',{'data-obj':\"impVipAjaxMenuCloseLog\"}):\n",
    "        product_links.append('https://www.limeroad.com'+str(i.get('href')))\n"
   ]
  },
  {
   "cell_type": "code",
   "execution_count": null,
   "metadata": {},
   "outputs": [],
   "source": []
  },
  {
   "cell_type": "markdown",
   "metadata": {},
   "source": [
    "# Women Pumps"
   ]
  },
  {
   "cell_type": "code",
   "execution_count": 54,
   "metadata": {},
   "outputs": [],
   "source": [
    "c=0\n",
    "counter=0\n",
    "while c<500:\n",
    "    data=requests.get(f\"https://www.limeroad.com/listing/get_listing_objects?p_start={c}&s_start=0&story_start=2&stories_to_edit=false&scraps_to_edit=false&stories_to_rate=false&scraps_to_rate=false&p_queryparam=%7B%22classification%22%3A%5B%22.0.1148.1154.1156%22%5D%2C%22stock%22%3A%5B%221%22%5D%7D&p_sortorder=threeQuarterStock_i%2Bdesc%2CscCount%2Bdesc&p_searchquery=*%3A*&s_queryparam=%7B%22classification%22%3A%5B%22.0.1148.1154.1156%22%5D%2C%22stock%22%3A%5B%221%22%5D%7D&s_sortorder=priority%2Bdesc%2Crandom_5399287%2Bdesc&s_searchquery=*%3A*&isScrapOnlySearch&group=false&product_id=&story_id=ms1156st&s_rows=0&p_rows=8&tag_sort=&df_type=&tag_condition=%22%22&tag=&p_groupoffset=&story_rows=2&stories&ext_img=&template=&badge&catEditor&gender&chopPage&chopPageSameUser&filterUserid&disableFixedScraps&tagPageStories&newUserSort=bsSort&new_user_data=newUserFlow&st_queryparam=&st_queryparam_or=&issearch=false&ajax=true\",headers=headers)\n",
    "    c+=8\n",
    "    data=BeautifulSoup(data.content,'lxml')\n",
    "    for i in data.find_all('a',{'data-obj':\"impVipAjaxMenuCloseLog\"}):\n",
    "        product_links.append('https://www.limeroad.com'+str(i.get('href')))\n"
   ]
  },
  {
   "cell_type": "code",
   "execution_count": null,
   "metadata": {},
   "outputs": [],
   "source": []
  },
  {
   "cell_type": "markdown",
   "metadata": {},
   "source": [
    "# Women Wedges"
   ]
  },
  {
   "cell_type": "code",
   "execution_count": 55,
   "metadata": {},
   "outputs": [],
   "source": [
    "c=0\n",
    "counter=0\n",
    "while c<500:\n",
    "    data=requests.get(f\"https://www.limeroad.com/listing/get_listing_objects?p_start={c}&s_start=0&story_start=0&stories_to_edit=false&scraps_to_edit=false&stories_to_rate=false&scraps_to_rate=false&p_queryparam=%7B%22classification%22%3A%5B%22.0.1148.1154.11201043%22%5D%2C%22stock%22%3A%5B%221%22%5D%7D&p_sortorder=threeQuarterStock_i%2Bdesc%2CscCount%2Bdesc&p_searchquery=*%3A*&s_queryparam=%7B%22classification%22%3A%5B%22.0.1148.1154.11201043%22%5D%2C%22stock%22%3A%5B%221%22%5D%7D&s_sortorder=priority%2Bdesc%2Crandom_5399288%2Bdesc&s_searchquery=*%3A*&isScrapOnlySearch&group=false&product_id=&story_id=ms11201043st&s_rows=0&p_rows=8&tag_sort=&df_type=&tag_condition=%22%22&tag=&p_groupoffset=&story_rows=0&stories&ext_img=&template=&badge&catEditor&gender&chopPage&chopPageSameUser&filterUserid&disableFixedScraps&tagPageStories&newUserSort=bsSort&new_user_data=newUserFlow&st_queryparam=&st_queryparam_or=&issearch=false&ajax=true\",headers=headers)\n",
    "    c+=8\n",
    "    data=BeautifulSoup(data.content,'lxml')\n",
    "    for i in data.find_all('a',{'data-obj':\"impVipAjaxMenuCloseLog\"}):\n",
    "        product_links.append('https://www.limeroad.com'+str(i.get('href')))\n"
   ]
  },
  {
   "cell_type": "markdown",
   "metadata": {},
   "source": [
    "# Men t-shirts"
   ]
  },
  {
   "cell_type": "code",
   "execution_count": 56,
   "metadata": {},
   "outputs": [],
   "source": [
    "c=0\n",
    "counter=0\n",
    "while c<3000:\n",
    "    data=requests.get(f\"https://www.limeroad.com/listing/get_listing_objects?p_start={c}&s_start=2&story_start=2&stories_to_edit=false&scraps_to_edit=false&stories_to_rate=false&scraps_to_rate=false&p_queryparam=%7B%22classification%22%3A%5B%22.0.11201585.11201684.11201586.11201595%22%5D%2C%22stock%22%3A%5B%221%22%5D%7D&p_sortorder=threeQuarterStock_i%2Bdesc%2CscCount%2Bdesc&p_searchquery=*%3A*&s_queryparam=%7B%22classification%22%3A%5B%22.0.11201585.11201684.11201586.11201595%22%5D%2C%22stock%22%3A%5B%221%22%5D%7D&s_sortorder=priority%2Bdesc%2Crandom_5399289%2Bdesc&s_searchquery=*%3A*&isScrapOnlySearch&group=false&product_id=&story_id=ms11201595st&s_rows=2&p_rows=8&tag_sort=&df_type=&tag_condition=%22%22&tag=&p_groupoffset=&story_rows=2&stories&ext_img=&template=&badge&catEditor&gender&chopPage&chopPageSameUser&filterUserid&disableFixedScraps&tagPageStories&newUserSort=bsSort&new_user_data=newUserFlow&st_queryparam=&st_queryparam_or=&issearch=false&ajax=true\",headers=headers)\n",
    "    c+=8\n",
    "    data=BeautifulSoup(data.content,'lxml')\n",
    "    for i in data.find_all('a',{'data-obj':\"impVipAjaxMenuCloseLog\"}):\n",
    "        product_links.append('https://www.limeroad.com'+str(i.get('href')))\n"
   ]
  },
  {
   "cell_type": "markdown",
   "metadata": {},
   "source": [
    "# Men Tshirt Polo"
   ]
  },
  {
   "cell_type": "code",
   "execution_count": 57,
   "metadata": {},
   "outputs": [],
   "source": [
    "c=0\n",
    "counter=0\n",
    "while c<2000:\n",
    "    data=requests.get(f\"https://www.limeroad.com/listing/get_listing_objects?p_start={c}&s_start=0&story_start=2&stories_to_edit=false&scraps_to_edit=false&stories_to_rate=false&scraps_to_rate=false&p_queryparam=%7B%22tag_values%22%3A%7B%22type%22%3A%5B%22polo+t-shirt%22%5D%2C%22neck%22%3A%5B%22polo+neck%22%5D%7D%2C%22classification%22%3A%5B%22.0.11201585.11201684.11201586.11201595%22%5D%2C%22stock%22%3A%5B%221%22%5D%7D&p_sortorder=threeQuarterStock_i%2Bdesc%2CscCount%2Bdesc&p_searchquery=*%3A*&s_queryparam=%7B%22tag_values%22%3A%7B%22type%22%3A%5B%22polo+t-shirt%22%5D%2C%22neck%22%3A%5B%22polo+neck%22%5D%7D%2C%22classification%22%3A%5B%22.0.11201585.11201684.11201586.11201595%22%5D%2C%22stock%22%3A%5B%221%22%5D%7D&s_sortorder=priority%2Bdesc%2Crandom_5399291%2Bdesc&s_searchquery=*%3A*&isScrapOnlySearch&group=false&product_id=&story_id=ms11201595st&s_rows=0&p_rows=8&tag_sort=&df_type=&tag_condition=%22%22&tag=&p_groupoffset=&story_rows=2&stories&ext_img=&template=&badge&catEditor&gender&chopPage&chopPageSameUser&filterUserid&disableFixedScraps&tagPageStories&newUserSort=bsSort&new_user_data=newUserFlow&st_queryparam=&st_queryparam_or=&issearch=false&ajax=true\",headers=headers)\n",
    "    c+=8\n",
    "    data=BeautifulSoup(data.content,'lxml')\n",
    "    for i in data.find_all('a',{'data-obj':\"impVipAjaxMenuCloseLog\"}):\n",
    "        product_links.append('https://www.limeroad.com'+str(i.get('href')))\n"
   ]
  },
  {
   "cell_type": "markdown",
   "metadata": {},
   "source": [
    "# Men Casual Shirts"
   ]
  },
  {
   "cell_type": "code",
   "execution_count": 58,
   "metadata": {},
   "outputs": [],
   "source": [
    "c=0\n",
    "counter=0\n",
    "while c<3000:\n",
    "    data=requests.get(f\"https://www.limeroad.com/listing/get_listing_objects?p_start={c}&s_start=0&story_start=2&stories_to_edit=false&scraps_to_edit=false&stories_to_rate=false&scraps_to_rate=false&p_queryparam=%7B%22classification%22%3A%5B%22.0.11201585.11201684.11201586.11202215.11201587%22%5D%2C%22stock%22%3A%5B%221%22%5D%7D&p_sortorder=threeQuarterStock_i%2Bdesc%2CscCount%2Bdesc&p_searchquery=*%3A*&s_queryparam=%7B%22classification%22%3A%5B%22.0.11201585.11201684.11201586.11202215.11201587%22%5D%2C%22stock%22%3A%5B%221%22%5D%7D&s_sortorder=priority%2Bdesc%2Crandom_5399291%2Bdesc&s_searchquery=*%3A*&isScrapOnlySearch&group=false&product_id=&story_id=ms11201587st&s_rows=0&p_rows=8&tag_sort=&df_type=&tag_condition=%22%22&tag=&p_groupoffset=&story_rows=2&stories&ext_img=&template=&badge&catEditor&gender&chopPage&chopPageSameUser&filterUserid&disableFixedScraps&tagPageStories&newUserSort=bsSort&new_user_data=newUserFlow&st_queryparam=&st_queryparam_or=&issearch=false&ajax=true\",headers=headers)\n",
    "    c+=8\n",
    "    data=BeautifulSoup(data.content,'lxml')\n",
    "    for i in data.find_all('a',{'data-obj':\"impVipAjaxMenuCloseLog\"}):\n",
    "        product_links.append('https://www.limeroad.com'+str(i.get('href')))\n"
   ]
  },
  {
   "cell_type": "markdown",
   "metadata": {},
   "source": [
    "# Men Formal Shirts"
   ]
  },
  {
   "cell_type": "code",
   "execution_count": 59,
   "metadata": {},
   "outputs": [],
   "source": [
    "c=0\n",
    "counter=0\n",
    "while c<4000:\n",
    "    data=requests.get(f\"https://www.limeroad.com/listing/get_listing_objects?p_start={c}&s_start=0&story_start=1&stories_to_edit=false&scraps_to_edit=false&stories_to_rate=false&scraps_to_rate=false&p_queryparam=%7B%22classification%22%3A%5B%22.0.11201585.11201684.11201586.11202215.11201588%22%5D%2C%22stock%22%3A%5B%221%22%5D%7D&p_sortorder=threeQuarterStock_i%2Bdesc%2CscCount%2Bdesc&p_searchquery=*%3A*&s_queryparam=%7B%22classification%22%3A%5B%22.0.11201585.11201684.11201586.11202215.11201588%22%5D%2C%22stock%22%3A%5B%221%22%5D%7D&s_sortorder=priority%2Bdesc%2Crandom_5399292%2Bdesc&s_searchquery=*%3A*&isScrapOnlySearch&group=false&product_id=&story_id=ms11201588st&s_rows=0&p_rows=8&tag_sort=&df_type=&tag_condition=%22%22&tag=&p_groupoffset=&story_rows=2&stories&ext_img=&template=&badge&catEditor&gender&chopPage&chopPageSameUser&filterUserid&disableFixedScraps&tagPageStories&newUserSort=bsSort&new_user_data=newUserFlow&st_queryparam=&st_queryparam_or=&issearch=false&ajax=true\",headers=headers)\n",
    "    c+=8\n",
    "    data=BeautifulSoup(data.content,'lxml')\n",
    "    for i in data.find_all('a',{'data-obj':\"impVipAjaxMenuCloseLog\"}):\n",
    "        product_links.append('https://www.limeroad.com'+str(i.get('href')))\n"
   ]
  },
  {
   "cell_type": "markdown",
   "metadata": {},
   "source": [
    "# Men Jeans"
   ]
  },
  {
   "cell_type": "code",
   "execution_count": 60,
   "metadata": {},
   "outputs": [],
   "source": [
    "c=0\n",
    "counter=0\n",
    "while c<2500:\n",
    "    data=requests.get(f\"https://www.limeroad.com/listing/get_listing_objects?p_start={c}&s_start=2&story_start=2&stories_to_edit=false&scraps_to_edit=false&stories_to_rate=false&scraps_to_rate=false&p_queryparam=%7B%22classification%22%3A%5B%22.0.11201585.11201684.11201632%22%5D%2C%22stock%22%3A%5B%221%22%5D%7D&p_sortorder=threeQuarterStock_i%2Bdesc%2CscCount%2Bdesc&p_searchquery=*%3A*&s_queryparam=%7B%22classification%22%3A%5B%22.0.11201585.11201684.11201632%22%5D%2C%22stock%22%3A%5B%221%22%5D%7D&s_sortorder=priority%2Bdesc%2Crandom_5399292%2Bdesc&s_searchquery=*%3A*&isScrapOnlySearch&group=false&product_id=&story_id=ms11201632st&s_rows=2&p_rows=8&tag_sort=&df_type=&tag_condition=%22%22&tag=&p_groupoffset=&story_rows=2&stories&ext_img=&template=&badge&catEditor&gender&chopPage&chopPageSameUser&filterUserid&disableFixedScraps&tagPageStories&newUserSort=bsSort&new_user_data=newUserFlow&st_queryparam=&st_queryparam_or=&issearch=false&ajax=true\",headers=headers)\n",
    "    c+=8\n",
    "    data=BeautifulSoup(data.content,'lxml')\n",
    "    for i in data.find_all('a',{'data-obj':\"impVipAjaxMenuCloseLog\"}):\n",
    "        product_links.append('https://www.limeroad.com'+str(i.get('href')))\n"
   ]
  },
  {
   "cell_type": "markdown",
   "metadata": {},
   "source": [
    "# Men Casual Trouser"
   ]
  },
  {
   "cell_type": "code",
   "execution_count": 61,
   "metadata": {},
   "outputs": [],
   "source": [
    "c=0\n",
    "counter=0\n",
    "while c<2000:\n",
    "    data=requests.get(f\"https://www.limeroad.com/listing/get_listing_objects?p_start={c}&s_start=0&story_start=2&stories_to_edit=false&scraps_to_edit=false&stories_to_rate=false&scraps_to_rate=false&p_queryparam=%7B%22classification%22%3A%5B%22.0.11201585.11201684.11201598.11201599%22%5D%2C%22stock%22%3A%5B%221%22%5D%7D&p_sortorder=threeQuarterStock_i%2Bdesc%2CscCount%2Bdesc&p_searchquery=*%3A*&s_queryparam=%7B%22classification%22%3A%5B%22.0.11201585.11201684.11201598.11201599%22%5D%2C%22stock%22%3A%5B%221%22%5D%7D&s_sortorder=priority%2Bdesc%2Crandom_5399293%2Bdesc&s_searchquery=*%3A*&isScrapOnlySearch&group=false&product_id=&story_id=ms11201599st&s_rows=0&p_rows=8&tag_sort=&df_type=&tag_condition=%22%22&tag=&p_groupoffset=&story_rows=2&stories&ext_img=&template=&badge&catEditor&gender&chopPage&chopPageSameUser&filterUserid&disableFixedScraps&tagPageStories&newUserSort=bsSort&new_user_data=newUserFlow&st_queryparam=&st_queryparam_or=&issearch=false&ajax=true\",headers=headers)\n",
    "    c+=8\n",
    "    data=BeautifulSoup(data.content,'lxml')\n",
    "    for i in data.find_all('a',{'data-obj':\"impVipAjaxMenuCloseLog\"}):\n",
    "        product_links.append('https://www.limeroad.com'+str(i.get('href')))\n"
   ]
  },
  {
   "cell_type": "markdown",
   "metadata": {},
   "source": [
    "# Men Formal Trouser"
   ]
  },
  {
   "cell_type": "code",
   "execution_count": 62,
   "metadata": {},
   "outputs": [],
   "source": [
    "c=0\n",
    "counter=0\n",
    "while c<1000:\n",
    "    data=requests.get(f\"https://www.limeroad.com/listing/get_listing_objects?p_start={c}&s_start=0&story_start=2&stories_to_edit=false&scraps_to_edit=false&stories_to_rate=false&scraps_to_rate=false&p_queryparam=%7B%22classification%22%3A%5B%22.0.11201585.11201684.11201598.11201600%22%5D%2C%22stock%22%3A%5B%221%22%5D%7D&p_sortorder=threeQuarterStock_i%2Bdesc%2CscCount%2Bdesc&p_searchquery=*%3A*&s_queryparam=%7B%22classification%22%3A%5B%22.0.11201585.11201684.11201598.11201600%22%5D%2C%22stock%22%3A%5B%221%22%5D%7D&s_sortorder=priority%2Bdesc%2Crandom_5399293%2Bdesc&s_searchquery=*%3A*&isScrapOnlySearch&group=false&product_id=&story_id=ms11201600st&s_rows=0&p_rows=8&tag_sort=&df_type=&tag_condition=%22%22&tag=&p_groupoffset=&story_rows=2&stories&ext_img=&template=&badge&catEditor&gender&chopPage&chopPageSameUser&filterUserid&disableFixedScraps&tagPageStories&newUserSort=bsSort&new_user_data=newUserFlow&st_queryparam=&st_queryparam_or=&issearch=false&ajax=true\",headers=headers)\n",
    "    c+=8\n",
    "    data=BeautifulSoup(data.content,'lxml')\n",
    "    for i in data.find_all('a',{'data-obj':\"impVipAjaxMenuCloseLog\"}):\n",
    "        product_links.append('https://www.limeroad.com'+str(i.get('href')))\n"
   ]
  },
  {
   "cell_type": "markdown",
   "metadata": {},
   "source": [
    "# Joggers"
   ]
  },
  {
   "cell_type": "code",
   "execution_count": 63,
   "metadata": {},
   "outputs": [],
   "source": [
    "c=0\n",
    "counter=0\n",
    "while c<1500:\n",
    "    data=requests.get(f\"https://www.limeroad.com/listing/get_listing_objects?p_start={c}&s_start=0&story_start=2&stories_to_edit=false&scraps_to_edit=false&stories_to_rate=false&scraps_to_rate=false&p_queryparam=%7B%22stock%22%3A%5B%221%22%5D%2C%22classification%22%3A%5B%22.0.11201585.11201684.11201598.11201861%22%5D%7D&p_sortorder=threeQuarterStock_i%2Bdesc%2CscoreBucket6_f%2Bdesc&p_searchquery=*%3A*&s_queryparam=%7B%22stock%22%3A%5B%221%22%5D%2C%22classification%22%3A%5B%22.0.11201585.11201684.11201598.11201861%22%5D%7D&s_sortorder=priority%2Bdesc%2Crandom_5399294%2Bdesc&s_searchquery=*%3A*&isScrapOnlySearch&group=false&product_id=&story_id=ms11201861st&s_rows=0&p_rows=8&tag_sort=&df_type=&tag_condition=%22%22&tag=&p_groupoffset=&story_rows=2&stories&ext_img=&template=&badge&catEditor&gender&chopPage&chopPageSameUser&filterUserid&disableFixedScraps&tagPageStories&newUserSort=bsSort&new_user_data=newUserFlow&st_queryparam=&st_queryparam_or=&issearch=false&ajax=true\",headers=headers)\n",
    "    c+=8\n",
    "    data=BeautifulSoup(data.content,'lxml')\n",
    "    for i in data.find_all('a',{'data-obj':\"impVipAjaxMenuCloseLog\"}):\n",
    "        product_links.append('https://www.limeroad.com'+str(i.get('href')))\n"
   ]
  },
  {
   "cell_type": "markdown",
   "metadata": {},
   "source": [
    "# Men Shorts"
   ]
  },
  {
   "cell_type": "code",
   "execution_count": 64,
   "metadata": {},
   "outputs": [],
   "source": [
    "c=0\n",
    "counter=0\n",
    "while c<1500:\n",
    "    data=requests.get(f\"https://www.limeroad.com/listing/get_listing_objects?p_start={c}&s_start=0&story_start=4&stories_to_edit=false&scraps_to_edit=false&stories_to_rate=false&scraps_to_rate=false&p_queryparam=%7B%22stock%22%3A%5B%221%22%5D%2C%22classification%22%3A%5B%22.0.11201585.11201684.11201598.11201601%22%5D%7D&p_sortorder=threeQuarterStock_i%2Bdesc%2CscoreBucket6_f%2Bdesc&p_searchquery=*%3A*&s_queryparam=%7B%22stock%22%3A%5B%221%22%5D%2C%22classification%22%3A%5B%22.0.11201585.11201684.11201598.11201601%22%5D%7D&s_sortorder=priority%2Bdesc%2Crandom_5399294%2Bdesc&s_searchquery=*%3A*&isScrapOnlySearch&group=false&product_id=&story_id=ms11201601st&s_rows=0&p_rows=8&tag_sort=&df_type=&tag_condition=%22%22&tag=&p_groupoffset=&story_rows=2&stories&ext_img=&template=&badge&catEditor&gender&chopPage&chopPageSameUser&filterUserid&disableFixedScraps&tagPageStories&newUserSort=bsSort&new_user_data=newUserFlow&st_queryparam=&st_queryparam_or=&issearch=false&ajax=true\",headers=headers)\n",
    "    c+=8\n",
    "    data=BeautifulSoup(data.content,'lxml')\n",
    "    for i in data.find_all('a',{'data-obj':\"impVipAjaxMenuCloseLog\"}):\n",
    "        product_links.append('https://www.limeroad.com'+str(i.get('href')))\n"
   ]
  },
  {
   "cell_type": "markdown",
   "metadata": {},
   "source": [
    "# Men Kurtas"
   ]
  },
  {
   "cell_type": "code",
   "execution_count": 65,
   "metadata": {},
   "outputs": [],
   "source": [
    "c=0\n",
    "counter=0\n",
    "while c<2000:\n",
    "    data=requests.get(f\"https://www.limeroad.com/listing/get_listing_objects?p_start={c}&s_start=0&story_start=2&stories_to_edit=false&scraps_to_edit=false&stories_to_rate=false&scraps_to_rate=false&p_queryparam=%7B%22classification%22%3A%5B%22.0.11201585.11201684.11201586.11201592%22%5D%2C%22stock%22%3A%5B%221%22%5D%7D&p_sortorder=threeQuarterStock_i%2Bdesc%2CscCount%2Bdesc&p_searchquery=*%3A*&s_queryparam=%7B%22classification%22%3A%5B%22.0.11201585.11201684.11201586.11201592%22%5D%2C%22stock%22%3A%5B%221%22%5D%7D&s_sortorder=priority%2Bdesc%2Crandom_5399295%2Bdesc&s_searchquery=*%3A*&isScrapOnlySearch&group=false&product_id=&story_id=ms11201592st&s_rows=0&p_rows=8&tag_sort=&df_type=&tag_condition=%22%22&tag=&p_groupoffset=&story_rows=2&stories&ext_img=&template=&badge&catEditor&gender&chopPage&chopPageSameUser&filterUserid&disableFixedScraps&tagPageStories&newUserSort=bsSort&new_user_data=newUserFlow&st_queryparam=&st_queryparam_or=&issearch=false&ajax=true\",headers=headers)\n",
    "    c+=8\n",
    "    data=BeautifulSoup(data.content,'lxml')\n",
    "    for i in data.find_all('a',{'data-obj':\"impVipAjaxMenuCloseLog\"}):\n",
    "        product_links.append('https://www.limeroad.com'+str(i.get('href')))\n"
   ]
  },
  {
   "cell_type": "markdown",
   "metadata": {},
   "source": [
    "# Men Ethnic Wear Sets"
   ]
  },
  {
   "cell_type": "code",
   "execution_count": 66,
   "metadata": {},
   "outputs": [],
   "source": [
    "c=0\n",
    "counter=0\n",
    "while c<3000:\n",
    "    data=requests.get(f\"https://www.limeroad.com/listing/get_listing_objects?p_start={c}&s_start=0&story_start=0&stories_to_edit=false&scraps_to_edit=false&stories_to_rate=false&scraps_to_rate=false&p_queryparam=%7B%22classification%22%3A%5B%22.0.11201585.11201684.11201695%22%5D%2C%22stock%22%3A%5B%221%22%5D%7D&p_sortorder=threeQuarterStock_i%2Bdesc%2CscCount%2Bdesc&p_searchquery=*%3A*&s_queryparam=%7B%22classification%22%3A%5B%22.0.11201585.11201684.11201695%22%5D%2C%22stock%22%3A%5B%221%22%5D%7D&s_sortorder=priority%2Bdesc%2Crandom_5399296%2Bdesc&s_searchquery=*%3A*&isScrapOnlySearch&group=false&product_id=&story_id=ms11201695st&s_rows=0&p_rows=8&tag_sort=&df_type=&tag_condition=%22%22&tag=&p_groupoffset=&story_rows=0&stories&ext_img=&template=&badge&catEditor&gender&chopPage&chopPageSameUser&filterUserid&disableFixedScraps&tagPageStories&newUserSort=bsSort&new_user_data=newUserFlow&st_queryparam=&st_queryparam_or=&issearch=false&ajax=true\",headers=headers)\n",
    "    c+=8\n",
    "    data=BeautifulSoup(data.content,'lxml')\n",
    "    for i in data.find_all('a',{'data-obj':\"impVipAjaxMenuCloseLog\"}):\n",
    "        product_links.append('https://www.limeroad.com'+str(i.get('href')))\n"
   ]
  },
  {
   "cell_type": "markdown",
   "metadata": {},
   "source": [
    "# Men Nehru Jackets"
   ]
  },
  {
   "cell_type": "code",
   "execution_count": 67,
   "metadata": {},
   "outputs": [],
   "source": [
    "c=0\n",
    "counter=0\n",
    "while c<1500:\n",
    "    data=requests.get(f\"https://www.limeroad.com/listing/get_listing_objects?p_start={c}&s_start=0&story_start=2&stories_to_edit=false&scraps_to_edit=false&stories_to_rate=false&scraps_to_rate=false&p_queryparam=%7B%22categories%22%3A%5B%22Men%2FClothing%2Ftop+wear%2FJackets%2FNehru+Jacket%22%5D%2C%22stock%22%3A%5B%221%22%5D%2C%22classification%22%3A%5B%22.0.11201585.11201684.11201586.11201593%22%5D%7D&p_sortorder=threeQuarterStock_i%2Bdesc%2CscoreBucket6_f%2Bdesc&p_searchquery=*%3A*&s_queryparam=%7B%22categories%22%3A%5B%22Men%2FClothing%2Ftop+wear%2FJackets%2FNehru+Jacket%22%5D%2C%22stock%22%3A%5B%221%22%5D%2C%22classification%22%3A%5B%22.0.11201585.11201684.11201586.11201593%22%5D%7D&s_sortorder=priority%2Bdesc%2Crandom_5399297%2Bdesc&s_searchquery=*%3A*&isScrapOnlySearch&group=false&product_id=&story_id=ms11201593st&s_rows=0&p_rows=8&tag_sort=&df_type=&tag_condition=%22%22&tag=&p_groupoffset=&story_rows=2&stories&ext_img=&template=&badge&catEditor&gender&chopPage&chopPageSameUser&filterUserid&disableFixedScraps&tagPageStories&newUserSort=bsSort&new_user_data=newUserFlow&st_queryparam=&st_queryparam_or=&issearch=false&ajax=true\",headers=headers)\n",
    "    c+=8\n",
    "    data=BeautifulSoup(data.content,'lxml')\n",
    "    for i in data.find_all('a',{'data-obj':\"impVipAjaxMenuCloseLog\"}):\n",
    "        product_links.append('https://www.limeroad.com'+str(i.get('href')))\n"
   ]
  },
  {
   "cell_type": "markdown",
   "metadata": {},
   "source": [
    "# Men Briefs"
   ]
  },
  {
   "cell_type": "code",
   "execution_count": 68,
   "metadata": {},
   "outputs": [],
   "source": [
    "c=0\n",
    "counter=0\n",
    "while c<1500:\n",
    "    data=requests.get(f\"https://www.limeroad.com/listing/get_listing_objects?p_start={c}&s_start=0&story_start=0&stories_to_edit=false&scraps_to_edit=false&stories_to_rate=false&scraps_to_rate=false&p_queryparam=%7B%22classification%22%3A%5B%22.0.11201585.11201684.11201608.11201610%22%5D%2C%22stock%22%3A%5B%221%22%5D%7D&p_sortorder=threeQuarterStock_i%2Bdesc%2CscCount%2Bdesc&p_searchquery=*%3A*&s_queryparam=%7B%22classification%22%3A%5B%22.0.11201585.11201684.11201608.11201610%22%5D%2C%22stock%22%3A%5B%221%22%5D%7D&s_sortorder=priority%2Bdesc%2Crandom_5399299%2Bdesc&s_searchquery=*%3A*&isScrapOnlySearch&group=false&product_id=&story_id=ms11201610st&s_rows=0&p_rows=8&tag_sort=&df_type=&tag_condition=%22%22&tag=&p_groupoffset=&story_rows=0&stories&ext_img=&template=&badge&catEditor&gender&chopPage&chopPageSameUser&filterUserid&disableFixedScraps&tagPageStories&newUserSort=bsSort&new_user_data=newUserFlow&st_queryparam=&st_queryparam_or=&issearch=false&ajax=true\",headers=headers)\n",
    "    c+=8\n",
    "    data=BeautifulSoup(data.content,'lxml')\n",
    "    for i in data.find_all('a',{'data-obj':\"impVipAjaxMenuCloseLog\"}):\n",
    "        product_links.append('https://www.limeroad.com'+str(i.get('href')))\n"
   ]
  },
  {
   "cell_type": "markdown",
   "metadata": {},
   "source": [
    "# Men Boxers"
   ]
  },
  {
   "cell_type": "code",
   "execution_count": 69,
   "metadata": {},
   "outputs": [],
   "source": [
    "c=0\n",
    "counter=0\n",
    "while c<1000:\n",
    "    data=requests.get(f\"https://www.limeroad.com/listing/get_listing_objects?p_start={c}&s_start=0&story_start=0&stories_to_edit=false&scraps_to_edit=false&stories_to_rate=false&scraps_to_rate=false&p_queryparam=%7B%22classification%22%3A%5B%22.0.11201585.11201684.11201608.11201792%22%5D%2C%22stock%22%3A%5B%221%22%5D%7D&p_sortorder=threeQuarterStock_i%2Bdesc%2CscCount%2Bdesc&p_searchquery=*%3A*&s_queryparam=%7B%22classification%22%3A%5B%22.0.11201585.11201684.11201608.11201792%22%5D%2C%22stock%22%3A%5B%221%22%5D%7D&s_sortorder=priority%2Bdesc%2Crandom_5399300%2Bdesc&s_searchquery=*%3A*&isScrapOnlySearch&group=false&product_id=&story_id=ms11201792st&s_rows=0&p_rows=8&tag_sort=&df_type=&tag_condition=%22%22&tag=&p_groupoffset=&story_rows=0&stories&ext_img=&template=&badge&catEditor&gender&chopPage&chopPageSameUser&filterUserid&disableFixedScraps&tagPageStories&newUserSort=bsSort&new_user_data=newUserFlow&st_queryparam=&st_queryparam_or=&issearch=false&ajax=true\",headers=headers)\n",
    "    c+=8\n",
    "    data=BeautifulSoup(data.content,'lxml')\n",
    "    for i in data.find_all('a',{'data-obj':\"impVipAjaxMenuCloseLog\"}):\n",
    "        product_links.append('https://www.limeroad.com'+str(i.get('href')))\n"
   ]
  },
  {
   "cell_type": "markdown",
   "metadata": {},
   "source": [
    "# Men Vests"
   ]
  },
  {
   "cell_type": "code",
   "execution_count": 70,
   "metadata": {},
   "outputs": [],
   "source": [
    "c=0\n",
    "counter=0\n",
    "while c<500:\n",
    "    data=requests.get(f\"https://www.limeroad.com/listing/get_listing_objects?p_start={c}&s_start=0&story_start=0&stories_to_edit=false&scraps_to_edit=false&stories_to_rate=false&scraps_to_rate=false&p_queryparam=%7B%22classification%22%3A%5B%22.0.11201585.11201684.11201608.11201609%22%5D%2C%22stock%22%3A%5B%221%22%5D%7D&p_sortorder=threeQuarterStock_i%2Bdesc%2CscCount%2Bdesc&p_searchquery=*%3A*&s_queryparam=%7B%22classification%22%3A%5B%22.0.11201585.11201684.11201608.11201609%22%5D%2C%22stock%22%3A%5B%221%22%5D%7D&s_sortorder=priority%2Bdesc%2Crandom_5399300%2Bdesc&s_searchquery=*%3A*&isScrapOnlySearch&group=false&product_id=&story_id=ms11201609st&s_rows=0&p_rows=8&tag_sort=&df_type=&tag_condition=%22%22&tag=&p_groupoffset=&story_rows=0&stories&ext_img=&template=&badge&catEditor&gender&chopPage&chopPageSameUser&filterUserid&disableFixedScraps&tagPageStories&newUserSort=bsSort&new_user_data=newUserFlow&st_queryparam=&st_queryparam_or=&issearch=false&ajax=true\",headers=headers)\n",
    "    c+=8\n",
    "    data=BeautifulSoup(data.content,'lxml')\n",
    "    for i in data.find_all('a',{'data-obj':\"impVipAjaxMenuCloseLog\"}):\n",
    "        product_links.append('https://www.limeroad.com'+str(i.get('href')))\n"
   ]
  },
  {
   "cell_type": "markdown",
   "metadata": {},
   "source": [
    "# Men Sneakers"
   ]
  },
  {
   "cell_type": "code",
   "execution_count": 71,
   "metadata": {},
   "outputs": [],
   "source": [
    "c=0\n",
    "counter=0\n",
    "while c<500:\n",
    "    data=requests.get(f\"https://www.limeroad.com/listing/get_listing_objects?p_start={c}&s_start=0&story_start=0&stories_to_edit=false&scraps_to_edit=false&stories_to_rate=false&scraps_to_rate=false&p_queryparam=%7B%22stock%22%3A%5B%221%22%5D%2C%22classification%22%3A%5B%22.0.11201585.11201685.11201612.11201693%22%5D%7D&p_sortorder=threeQuarterStock_i%2Bdesc%2CscoreBucket6_f%2Bdesc&p_searchquery=*%3A*&s_queryparam=%7B%22stock%22%3A%5B%221%22%5D%2C%22classification%22%3A%5B%22.0.11201585.11201685.11201612.11201693%22%5D%7D&s_sortorder=priority%2Bdesc%2Crandom_5399301%2Bdesc&s_searchquery=*%3A*&isScrapOnlySearch&group=false&product_id=14945084&story_id=ms11201693st&s_rows=0&p_rows=8&tag_sort=&df_type=&tag_condition=%22%22&tag=&p_groupoffset=&story_rows=0&stories&ext_img=false&template=&badge&catEditor&gender&chopPage&chopPageSameUser&filterUserid&disableFixedScraps&tagPageStories&newUserSort=bsSort&new_user_data=newUserFlow&st_queryparam=&st_queryparam_or=&issearch=false&src_id=5afe78ece667f__43&ajax=true\",headers=headers)\n",
    "    c+=8\n",
    "    data=BeautifulSoup(data.content,'lxml')\n",
    "    for i in data.find_all('a',{'data-obj':\"impVipAjaxMenuCloseLog\"}):\n",
    "        product_links.append('https://www.limeroad.com'+str(i.get('href')))\n"
   ]
  },
  {
   "cell_type": "markdown",
   "metadata": {},
   "source": [
    "# Mens Sports Shoes"
   ]
  },
  {
   "cell_type": "code",
   "execution_count": 72,
   "metadata": {},
   "outputs": [],
   "source": [
    "c=0\n",
    "counter=0\n",
    "while c<1000:\n",
    "    data=requests.get(f\"https://www.limeroad.com/listing/get_listing_objects?p_start={c}&s_start=0&story_start=2&stories_to_edit=false&scraps_to_edit=false&stories_to_rate=false&scraps_to_rate=false&p_queryparam=%7B%22stock%22%3A%5B%221%22%5D%2C%22classification%22%3A%5B%22.0.11201585.11201685.11201614%22%5D%7D&p_sortorder=threeQuarterStock_i%2Bdesc%2CscoreBucket6_f%2Bdesc&p_searchquery=*%3A*&s_queryparam=%7B%22stock%22%3A%5B%221%22%5D%2C%22classification%22%3A%5B%22.0.11201585.11201685.11201614%22%5D%7D&s_sortorder=priority%2Bdesc%2Crandom_5399305%2Bdesc&s_searchquery=*%3A*&isScrapOnlySearch&group=false&product_id=14147693&story_id=ms11201614st&s_rows=0&p_rows=8&tag_sort=&df_type=&tag_condition=%22%22&tag=&p_groupoffset=&story_rows=2&stories&ext_img=false&template=&badge&catEditor&gender&chopPage&chopPageSameUser&filterUserid&disableFixedScraps&tagPageStories&newUserSort=bsSort&new_user_data=newUserFlow&st_queryparam=&st_queryparam_or=&issearch=false&src_id=5afe78ece67d3__43&ajax=true\",headers=headers)\n",
    "    c+=8\n",
    "    data=BeautifulSoup(data.content,'lxml')\n",
    "    for i in data.find_all('a',{'data-obj':\"impVipAjaxMenuCloseLog\"}):\n",
    "        product_links.append('https://www.limeroad.com'+str(i.get('href')))\n"
   ]
  },
  {
   "cell_type": "markdown",
   "metadata": {},
   "source": [
    "# Men Sandals Floaters"
   ]
  },
  {
   "cell_type": "code",
   "execution_count": 73,
   "metadata": {},
   "outputs": [],
   "source": [
    "c=0\n",
    "counter=0\n",
    "while c<800:\n",
    "    data=requests.get(f\"https://www.limeroad.com/listing/get_listing_objects?p_start={c}&s_start=0&story_start=0&stories_to_edit=false&scraps_to_edit=false&stories_to_rate=false&scraps_to_rate=false&p_queryparam=%7B%22stock%22%3A%5B%221%22%5D%2C%22classification%22%3A%5B%22.0.11201585.11201685.11201714%22%5D%7D&p_sortorder=threeQuarterStock_i%2Bdesc%2CscoreBucket6_f%2Bdesc&p_searchquery=*%3A*&s_queryparam=%7B%22stock%22%3A%5B%221%22%5D%2C%22classification%22%3A%5B%22.0.11201585.11201685.11201714%22%5D%7D&s_sortorder=priority%2Bdesc%2Crandom_5399307%2Bdesc&s_searchquery=*%3A*&isScrapOnlySearch&group=false&product_id=14933072&story_id=ms11201714st&s_rows=0&p_rows=8&tag_sort=&df_type=&tag_condition=%22%22&tag=&p_groupoffset=&story_rows=0&stories&ext_img=false&template=&badge&catEditor&gender&chopPage&chopPageSameUser&filterUserid&disableFixedScraps&tagPageStories&newUserSort=bsSort&new_user_data=newUserFlow&st_queryparam=&st_queryparam_or=&issearch=false&src_id=5afe78ece6922__43&ajax=true\",headers=headers)\n",
    "    c+=8\n",
    "    data=BeautifulSoup(data.content,'lxml')\n",
    "    for i in data.find_all('a',{'data-obj':\"impVipAjaxMenuCloseLog\"}):\n",
    "        product_links.append('https://www.limeroad.com'+str(i.get('href')))\n"
   ]
  },
  {
   "cell_type": "markdown",
   "metadata": {},
   "source": [
    "# Men Boots"
   ]
  },
  {
   "cell_type": "code",
   "execution_count": 74,
   "metadata": {},
   "outputs": [],
   "source": [
    "c=0\n",
    "counter=0\n",
    "while c<500:\n",
    "    data=requests.get(f\"https://www.limeroad.com/listing/get_listing_objects?p_start={c}&s_start=0&story_start=0&stories_to_edit=false&scraps_to_edit=false&stories_to_rate=false&scraps_to_rate=false&p_queryparam=%7B%22stock%22%3A%5B%221%22%5D%2C%22classification%22%3A%5B%22.0.11201585.11201685.11201612.11201694%22%5D%7D&p_sortorder=threeQuarterStock_i%2Bdesc%2CscoreBucket6_f%2Bdesc&p_searchquery=*%3A*&s_queryparam=%7B%22stock%22%3A%5B%221%22%5D%2C%22classification%22%3A%5B%22.0.11201585.11201685.11201612.11201694%22%5D%7D&s_sortorder=priority%2Bdesc%2Crandom_5399319%2Bdesc&s_searchquery=*%3A*&isScrapOnlySearch&group=false&product_id=13304869&story_id=ms11201694st&s_rows=0&p_rows=8&tag_sort=&df_type=&tag_condition=%22%22&tag=&p_groupoffset=&story_rows=0&stories&ext_img=false&template=&badge&catEditor&gender&chopPage&chopPageSameUser&filterUserid&disableFixedScraps&tagPageStories&newUserSort=bsSort&new_user_data=newUserFlow&st_queryparam=&st_queryparam_or=&issearch=false&src_id=5afe78ece6ae5__43&ajax=true\",headers=headers)\n",
    "    c+=8\n",
    "    data=BeautifulSoup(data.content,'lxml')\n",
    "    for i in data.find_all('a',{'data-obj':\"impVipAjaxMenuCloseLog\"}):\n",
    "        product_links.append('https://www.limeroad.com'+str(i.get('href')))\n"
   ]
  },
  {
   "cell_type": "markdown",
   "metadata": {},
   "source": [
    "# Men Slip-ons"
   ]
  },
  {
   "cell_type": "code",
   "execution_count": 75,
   "metadata": {},
   "outputs": [],
   "source": [
    "c=0\n",
    "counter=0\n",
    "while c<500:\n",
    "    data=requests.get(f\"https://www.limeroad.com/listing/get_listing_objects?p_start={c}&s_start=0&story_start=0&stories_to_edit=false&scraps_to_edit=false&stories_to_rate=false&scraps_to_rate=false&p_queryparam=%7B%22stock%22%3A%5B%221%22%5D%2C%22classification%22%3A%5B%22.0.11201585.11201685.11201612.11201843%22%5D%7D&p_sortorder=threeQuarterStock_i%2Bdesc%2CscoreBucket6_f%2Bdesc&p_searchquery=*%3A*&s_queryparam=%7B%22stock%22%3A%5B%221%22%5D%2C%22classification%22%3A%5B%22.0.11201585.11201685.11201612.11201843%22%5D%7D&s_sortorder=priority%2Bdesc%2Crandom_5399321%2Bdesc&s_searchquery=*%3A*&isScrapOnlySearch&group=false&product_id=14127733&story_id=ms11201843st&s_rows=0&p_rows=8&tag_sort=&df_type=&tag_condition=%22%22&tag=&p_groupoffset=&story_rows=0&stories&ext_img=false&template=&badge&catEditor&gender&chopPage&chopPageSameUser&filterUserid&disableFixedScraps&tagPageStories&newUserSort=bsSort&new_user_data=newUserFlow&st_queryparam=&st_queryparam_or=&issearch=false&src_id=5afe78ece6d07__43&ajax=true\",headers=headers)\n",
    "    c+=8\n",
    "    data=BeautifulSoup(data.content,'lxml')\n",
    "    for i in data.find_all('a',{'data-obj':\"impVipAjaxMenuCloseLog\"}):\n",
    "        product_links.append('https://www.limeroad.com'+str(i.get('href')))\n"
   ]
  },
  {
   "cell_type": "markdown",
   "metadata": {},
   "source": [
    "# Men Loafers"
   ]
  },
  {
   "cell_type": "code",
   "execution_count": 76,
   "metadata": {},
   "outputs": [],
   "source": [
    "c=0\n",
    "counter=0\n",
    "while c<900:\n",
    "    data=requests.get(f\"https://www.limeroad.com/listing/get_listing_objects?p_start={c}&s_start=0&story_start=2&stories_to_edit=false&scraps_to_edit=false&stories_to_rate=false&scraps_to_rate=false&p_queryparam=%7B%22stock%22%3A%5B%221%22%5D%2C%22classification%22%3A%5B%22.0.11201585.11201685.11201612.11201636%22%5D%7D&p_sortorder=threeQuarterStock_i%2Bdesc%2CscoreBucket6_f%2Bdesc&p_searchquery=*%3A*&s_queryparam=%7B%22stock%22%3A%5B%221%22%5D%2C%22classification%22%3A%5B%22.0.11201585.11201685.11201612.11201636%22%5D%7D&s_sortorder=priority%2Bdesc%2Crandom_5399322%2Bdesc&s_searchquery=*%3A*&isScrapOnlySearch&group=false&product_id=12901876&story_id=ms11201636st&s_rows=0&p_rows=8&tag_sort=&df_type=&tag_condition=%22%22&tag=&p_groupoffset=&story_rows=2&stories&ext_img=false&template=&badge&catEditor&gender&chopPage&chopPageSameUser&filterUserid&disableFixedScraps&tagPageStories&newUserSort=bsSort&new_user_data=newUserFlow&st_queryparam=&st_queryparam_or=&issearch=false&src_id=5afe78ece71f8__43&ajax=true\",headers=headers)\n",
    "    c+=8\n",
    "    data=BeautifulSoup(data.content,'lxml')\n",
    "    for i in data.find_all('a',{'data-obj':\"impVipAjaxMenuCloseLog\"}):\n",
    "        product_links.append('https://www.limeroad.com'+str(i.get('href')))\n"
   ]
  },
  {
   "cell_type": "markdown",
   "metadata": {},
   "source": [
    "# Men Casual jacket"
   ]
  },
  {
   "cell_type": "code",
   "execution_count": 77,
   "metadata": {},
   "outputs": [],
   "source": [
    "c=0\n",
    "counter=0\n",
    "while c<900:\n",
    "    data=requests.get(f\"https://www.limeroad.com/listing/get_listing_objects?p_start={c}&s_start=0&story_start=2&stories_to_edit=false&scraps_to_edit=false&stories_to_rate=false&scraps_to_rate=false&p_queryparam=%7B%22classification%22%3A%5B%22.0.11201585.11201684.11201586.11201593.11201743%22%5D%2C%22stock%22%3A%5B%221%22%5D%7D&p_sortorder=threeQuarterStock_i%2Bdesc%2CscCount%2Bdesc&p_searchquery=*%3A*&s_queryparam=%7B%22classification%22%3A%5B%22.0.11201585.11201684.11201586.11201593.11201743%22%5D%2C%22stock%22%3A%5B%221%22%5D%7D&s_sortorder=priority%2Bdesc%2Crandom_5399323%2Bdesc&s_searchquery=*%3A*&isScrapOnlySearch&group=false&product_id=&story_id=ms11201743st&s_rows=0&p_rows=8&tag_sort=&df_type=&tag_condition=%22%22&tag=&p_groupoffset=&story_rows=2&stories&ext_img=&template=&badge&catEditor&gender&chopPage&chopPageSameUser&filterUserid&disableFixedScraps&tagPageStories&newUserSort=bsSort&new_user_data=newUserFlow&st_queryparam=&st_queryparam_or=&issearch=false&ajax=true\",headers=headers)\n",
    "    c+=8\n",
    "    data=BeautifulSoup(data.content,'lxml')\n",
    "    for i in data.find_all('a',{'data-obj':\"impVipAjaxMenuCloseLog\"}):\n",
    "        product_links.append('https://www.limeroad.com'+str(i.get('href')))\n"
   ]
  },
  {
   "cell_type": "markdown",
   "metadata": {},
   "source": [
    "# Men Biker jackets"
   ]
  },
  {
   "cell_type": "code",
   "execution_count": 78,
   "metadata": {},
   "outputs": [],
   "source": [
    "c=0\n",
    "counter=0\n",
    "while c<500:\n",
    "    data=requests.get(f\"https://www.limeroad.com/listing/get_listing_objects?p_start={c}&s_start=0&story_start=2&stories_to_edit=false&scraps_to_edit=false&stories_to_rate=false&scraps_to_rate=false&p_queryparam=%7B%22classification%22%3A%5B%22.0.11201585.11201684.11201586.11201593.11201738%22%5D%2C%22stock%22%3A%5B%221%22%5D%7D&p_sortorder=threeQuarterStock_i%2Bdesc%2CscCount%2Bdesc&p_searchquery=*%3A*&s_queryparam=%7B%22classification%22%3A%5B%22.0.11201585.11201684.11201586.11201593.11201738%22%5D%2C%22stock%22%3A%5B%221%22%5D%7D&s_sortorder=priority%2Bdesc%2Crandom_5399326%2Bdesc&s_searchquery=*%3A*&isScrapOnlySearch&group=false&product_id=&story_id=ms11201738st&s_rows=0&p_rows=8&tag_sort=&df_type=&tag_condition=%22%22&tag=&p_groupoffset=&story_rows=2&stories&ext_img=&template=&badge&catEditor&gender&chopPage&chopPageSameUser&filterUserid&disableFixedScraps&tagPageStories&newUserSort=bsSort&new_user_data=newUserFlow&st_queryparam=&st_queryparam_or=&issearch=false&ajax=true\",headers=headers)\n",
    "    c+=8\n",
    "    data=BeautifulSoup(data.content,'lxml')\n",
    "    for i in data.find_all('a',{'data-obj':\"impVipAjaxMenuCloseLog\"}):\n",
    "        product_links.append('https://www.limeroad.com'+str(i.get('href')))\n"
   ]
  },
  {
   "cell_type": "markdown",
   "metadata": {},
   "source": [
    "# MEn Quilted Jackets"
   ]
  },
  {
   "cell_type": "code",
   "execution_count": 79,
   "metadata": {},
   "outputs": [],
   "source": [
    "c=0\n",
    "counter=0\n",
    "while c<500:\n",
    "    data=requests.get(f\"https://www.limeroad.com/listing/get_listing_objects?p_start={c}&s_start=0&story_start=0&stories_to_edit=false&scraps_to_edit=false&stories_to_rate=false&scraps_to_rate=false&p_queryparam=%7B%22classification%22%3A%5B%22.0.11201585.11201684.11201586.11201593.11201802%22%5D%2C%22stock%22%3A%5B%221%22%5D%7D&p_sortorder=threeQuarterStock_i%2Bdesc%2CscCount%2Bdesc&p_searchquery=*%3A*&s_queryparam=%7B%22classification%22%3A%5B%22.0.11201585.11201684.11201586.11201593.11201802%22%5D%2C%22stock%22%3A%5B%221%22%5D%7D&s_sortorder=priority%2Bdesc%2Crandom_5399326%2Bdesc&s_searchquery=*%3A*&isScrapOnlySearch&group=false&product_id=&story_id=ms11201802st&s_rows=0&p_rows=8&tag_sort=&df_type=&tag_condition=%22%22&tag=&p_groupoffset=&story_rows=0&stories&ext_img=&template=&badge&catEditor&gender&chopPage&chopPageSameUser&filterUserid&disableFixedScraps&tagPageStories&newUserSort=bsSort&new_user_data=newUserFlow&st_queryparam=&st_queryparam_or=&issearch=false&ajax=true\",headers=headers)\n",
    "    c+=8\n",
    "    data=BeautifulSoup(data.content,'lxml')\n",
    "    for i in data.find_all('a',{'data-obj':\"impVipAjaxMenuCloseLog\"}):\n",
    "        product_links.append('https://www.limeroad.com'+str(i.get('href')))\n"
   ]
  },
  {
   "cell_type": "markdown",
   "metadata": {},
   "source": [
    "# Men Bomber Jacket"
   ]
  },
  {
   "cell_type": "code",
   "execution_count": 80,
   "metadata": {},
   "outputs": [],
   "source": [
    "c=0\n",
    "counter=0\n",
    "while c<500:\n",
    "    data=requests.get(f\"https://www.limeroad.com/listing/get_listing_objects?p_start={c}&s_start=0&story_start=0&stories_to_edit=false&scraps_to_edit=false&stories_to_rate=false&scraps_to_rate=false&p_queryparam=%7B%22classification%22%3A%5B%22.0.11201585.11201684.11201586.11201593.11201801%22%5D%2C%22stock%22%3A%5B%221%22%5D%7D&p_sortorder=threeQuarterStock_i%2Bdesc%2CscCount%2Bdesc&p_searchquery=*%3A*&s_queryparam=%7B%22classification%22%3A%5B%22.0.11201585.11201684.11201586.11201593.11201801%22%5D%2C%22stock%22%3A%5B%221%22%5D%7D&s_sortorder=priority%2Bdesc%2Crandom_5399327%2Bdesc&s_searchquery=*%3A*&isScrapOnlySearch&group=false&product_id=&story_id=ms11201801st&s_rows=0&p_rows=8&tag_sort=&df_type=&tag_condition=%22%22&tag=&p_groupoffset=&story_rows=0&stories&ext_img=&template=&badge&catEditor&gender&chopPage&chopPageSameUser&filterUserid&disableFixedScraps&tagPageStories&newUserSort=bsSort&new_user_data=newUserFlow&st_queryparam=&st_queryparam_or=&issearch=false&ajax=true\",headers=headers)\n",
    "    c+=8\n",
    "    data=BeautifulSoup(data.content,'lxml')\n",
    "    for i in data.find_all('a',{'data-obj':\"impVipAjaxMenuCloseLog\"}):\n",
    "        product_links.append('https://www.limeroad.com'+str(i.get('href')))\n"
   ]
  },
  {
   "cell_type": "markdown",
   "metadata": {},
   "source": [
    "# Men Denim Jacket"
   ]
  },
  {
   "cell_type": "code",
   "execution_count": 81,
   "metadata": {},
   "outputs": [],
   "source": [
    "c=0\n",
    "counter=0\n",
    "while c<500:\n",
    "    data=requests.get(f\"https://www.limeroad.com/listing/get_listing_objects?p_start={c}&s_start=0&story_start=1&stories_to_edit=false&scraps_to_edit=false&stories_to_rate=false&scraps_to_rate=false&p_queryparam=%7B%22classification%22%3A%5B%22.0.11201585.11201684.11201586.11201593.11201741%22%5D%2C%22stock%22%3A%5B%221%22%5D%7D&p_sortorder=threeQuarterStock_i%2Bdesc%2CscCount%2Bdesc&p_searchquery=*%3A*&s_queryparam=%7B%22classification%22%3A%5B%22.0.11201585.11201684.11201586.11201593.11201741%22%5D%2C%22stock%22%3A%5B%221%22%5D%7D&s_sortorder=priority%2Bdesc%2Crandom_5399327%2Bdesc&s_searchquery=*%3A*&isScrapOnlySearch&group=false&product_id=&story_id=ms11201741st&s_rows=0&p_rows=8&tag_sort=&df_type=&tag_condition=%22%22&tag=&p_groupoffset=&story_rows=2&stories&ext_img=&template=&badge&catEditor&gender&chopPage&chopPageSameUser&filterUserid&disableFixedScraps&tagPageStories&newUserSort=bsSort&new_user_data=newUserFlow&st_queryparam=&st_queryparam_or=&issearch=false&ajax=true\",headers=headers)\n",
    "    c+=8\n",
    "    data=BeautifulSoup(data.content,'lxml')\n",
    "    for i in data.find_all('a',{'data-obj':\"impVipAjaxMenuCloseLog\"}):\n",
    "        product_links.append('https://www.limeroad.com'+str(i.get('href')))\n"
   ]
  },
  {
   "cell_type": "markdown",
   "metadata": {},
   "source": [
    "# Men Suits"
   ]
  },
  {
   "cell_type": "code",
   "execution_count": 82,
   "metadata": {},
   "outputs": [],
   "source": [
    "c=0\n",
    "counter=0\n",
    "while c<500:\n",
    "    data=requests.get(f\"https://www.limeroad.com/listing/get_listing_objects?p_start={c}&s_start=0&story_start=0&stories_to_edit=false&scraps_to_edit=false&stories_to_rate=false&scraps_to_rate=false&p_queryparam=%7B%22classification%22%3A%5B%22.0.11201585.11201684.11201586.11201594%22%5D%2C%22stock%22%3A%5B%221%22%5D%7D&p_sortorder=threeQuarterStock_i%2Bdesc%2CscCount%2Bdesc&p_searchquery=*%3A*&s_queryparam=%7B%22classification%22%3A%5B%22.0.11201585.11201684.11201586.11201594%22%5D%2C%22stock%22%3A%5B%221%22%5D%7D&s_sortorder=priority%2Bdesc%2Crandom_5399328%2Bdesc&s_searchquery=*%3A*&isScrapOnlySearch&group=false&product_id=&story_id=ms11201594st&s_rows=0&p_rows=8&tag_sort=&df_type=&tag_condition=%22%22&tag=&p_groupoffset=&story_rows=0&stories&ext_img=&template=&badge&catEditor&gender&chopPage&chopPageSameUser&filterUserid&disableFixedScraps&tagPageStories&newUserSort=bsSort&new_user_data=newUserFlow&st_queryparam=&st_queryparam_or=&issearch=false&ajax=true\",headers=headers)\n",
    "    c+=8\n",
    "    data=BeautifulSoup(data.content,'lxml')\n",
    "    for i in data.find_all('a',{'data-obj':\"impVipAjaxMenuCloseLog\"}):\n",
    "        product_links.append('https://www.limeroad.com'+str(i.get('href')))\n"
   ]
  },
  {
   "cell_type": "markdown",
   "metadata": {},
   "source": [
    "# Men Blazers"
   ]
  },
  {
   "cell_type": "code",
   "execution_count": 83,
   "metadata": {},
   "outputs": [],
   "source": [
    "c=0\n",
    "counter=0\n",
    "while c<500:\n",
    "    data=requests.get(f\"https://www.limeroad.com/listing/get_listing_objects?p_start={c}&s_start=0&story_start=2&stories_to_edit=false&scraps_to_edit=false&stories_to_rate=false&scraps_to_rate=false&p_queryparam=%7B%22classification%22%3A%5B%22.0.11201585.11201684.11201586.11201726%22%5D%2C%22stock%22%3A%5B%221%22%5D%7D&p_sortorder=threeQuarterStock_i%2Bdesc%2CscCount%2Bdesc&p_searchquery=*%3A*&s_queryparam=%7B%22classification%22%3A%5B%22.0.11201585.11201684.11201586.11201726%22%5D%2C%22stock%22%3A%5B%221%22%5D%7D&s_sortorder=priority%2Bdesc%2Crandom_5399328%2Bdesc&s_searchquery=*%3A*&isScrapOnlySearch&group=false&product_id=&story_id=ms11201726st&s_rows=0&p_rows=8&tag_sort=&df_type=&tag_condition=%22%22&tag=&p_groupoffset=&story_rows=2&stories&ext_img=&template=&badge&catEditor&gender&chopPage&chopPageSameUser&filterUserid&disableFixedScraps&tagPageStories&newUserSort=bsSort&new_user_data=newUserFlow&st_queryparam=&st_queryparam_or=&issearch=false&ajax=true\",headers=headers)\n",
    "    c+=8\n",
    "    data=BeautifulSoup(data.content,'lxml')\n",
    "    for i in data.find_all('a',{'data-obj':\"impVipAjaxMenuCloseLog\"}):\n",
    "        product_links.append('https://www.limeroad.com'+str(i.get('href')))\n"
   ]
  },
  {
   "cell_type": "markdown",
   "metadata": {},
   "source": [
    "# Men Sweatshirts"
   ]
  },
  {
   "cell_type": "code",
   "execution_count": 84,
   "metadata": {},
   "outputs": [],
   "source": [
    "c=0\n",
    "counter=0\n",
    "while c<500:\n",
    "    data=requests.get(f\"https://www.limeroad.com/listing/get_listing_objects?p_start={c}&s_start=0&story_start=2&stories_to_edit=false&scraps_to_edit=false&stories_to_rate=false&scraps_to_rate=false&p_queryparam=%7B%22classification%22%3A%5B%22.0.11201585.11201684.11201586.11201597%22%5D%2C%22stock%22%3A%5B%221%22%5D%7D&p_sortorder=threeQuarterStock_i%2Bdesc%2CscCount%2Bdesc&p_searchquery=*%3A*&s_queryparam=%7B%22classification%22%3A%5B%22.0.11201585.11201684.11201586.11201597%22%5D%2C%22stock%22%3A%5B%221%22%5D%7D&s_sortorder=priority%2Bdesc%2Crandom_5399329%2Bdesc&s_searchquery=*%3A*&isScrapOnlySearch&group=false&product_id=&story_id=ms11201597st&s_rows=0&p_rows=8&tag_sort=&df_type=&tag_condition=%22%22&tag=&p_groupoffset=&story_rows=2&stories&ext_img=&template=&badge&catEditor&gender&chopPage&chopPageSameUser&filterUserid&disableFixedScraps&tagPageStories&newUserSort=bsSort&new_user_data=newUserFlow&st_queryparam=&st_queryparam_or=&issearch=false&ajax=true\",headers=headers)\n",
    "    c+=8\n",
    "    data=BeautifulSoup(data.content,'lxml')\n",
    "    for i in data.find_all('a',{'data-obj':\"impVipAjaxMenuCloseLog\"}):\n",
    "        product_links.append('https://www.limeroad.com'+str(i.get('href')))\n"
   ]
  },
  {
   "cell_type": "markdown",
   "metadata": {},
   "source": [
    "# Men Pullover"
   ]
  },
  {
   "cell_type": "code",
   "execution_count": 85,
   "metadata": {},
   "outputs": [],
   "source": [
    "c=0\n",
    "counter=0\n",
    "while c<700:\n",
    "    data=requests.get(f\"https://www.limeroad.com/listing/get_listing_objects?p_start={c}&s_start=0&story_start=0&stories_to_edit=false&scraps_to_edit=false&stories_to_rate=false&scraps_to_rate=false&p_queryparam=%7B%22stock%22%3A%5B%221%22%5D%2C%22classification%22%3A%5B%22.0.11201585.11201684.11201586.11201596.11201702%22%5D%7D&p_sortorder=threeQuarterStock_i%2Bdesc%2CscoreBucket6_f%2Bdesc&p_searchquery=*%3A*&s_queryparam=%7B%22stock%22%3A%5B%221%22%5D%2C%22classification%22%3A%5B%22.0.11201585.11201684.11201586.11201596.11201702%22%5D%7D&s_sortorder=priority%2Bdesc%2Crandom_5399330%2Bdesc&s_searchquery=*%3A*&isScrapOnlySearch&group=false&product_id=&story_id=ms11201702st&s_rows=0&p_rows=8&tag_sort=&df_type=&tag_condition=%22%22&tag=&p_groupoffset=&story_rows=0&stories&ext_img=&template=&badge&catEditor&gender&chopPage&chopPageSameUser&filterUserid&disableFixedScraps&tagPageStories&newUserSort=bsSort&new_user_data=newUserFlow&st_queryparam=&st_queryparam_or=&issearch=false&ajax=true\",headers=headers)\n",
    "    c+=8\n",
    "    data=BeautifulSoup(data.content,'lxml')\n",
    "    for i in data.find_all('a',{'data-obj':\"impVipAjaxMenuCloseLog\"}):\n",
    "        product_links.append('https://www.limeroad.com'+str(i.get('href')))\n"
   ]
  },
  {
   "cell_type": "markdown",
   "metadata": {},
   "source": [
    "# Men Shrugs"
   ]
  },
  {
   "cell_type": "code",
   "execution_count": 86,
   "metadata": {},
   "outputs": [],
   "source": [
    "c=0\n",
    "counter=0\n",
    "while c<700:\n",
    "    data=requests.get(f\"https://www.limeroad.com/listing/get_listing_objects?p_start={c}&s_start=2&story_start=4&stories_to_edit=false&scraps_to_edit=false&stories_to_rate=false&scraps_to_rate=false&p_queryparam=%7B%22categories%22%3A%5B%22Men%2FClothing%2Ftop+wear%2Fshrugs%22%5D%2C%22classification%22%3A%5B%22.0.11201585.11201684.11201586%22%5D%2C%22stock%22%3A%5B%221%22%5D%7D&p_sortorder=threeQuarterStock_i%2Bdesc%2CscCount%2Bdesc&p_searchquery=*%3A*&s_queryparam=%7B%22categories%22%3A%5B%22Men%2FClothing%2Ftop+wear%2Fshrugs%22%5D%2C%22classification%22%3A%5B%22.0.11201585.11201684.11201586%22%5D%2C%22stock%22%3A%5B%221%22%5D%7D&s_sortorder=priority%2Bdesc%2Crandom_5399331%2Bdesc&s_searchquery=*%3A*&isScrapOnlySearch&group=false&product_id=&story_id=ms11201586st&s_rows=2&p_rows=8&tag_sort=&df_type=&tag_condition=%22%22&tag=&p_groupoffset=&story_rows=2&stories&ext_img=&template=&badge&catEditor&gender&chopPage&chopPageSameUser&filterUserid&disableFixedScraps&tagPageStories&newUserSort=bsSort&new_user_data=newUserFlow&st_queryparam=&st_queryparam_or=&issearch=false&ajax=true\",headers=headers)\n",
    "    c+=8\n",
    "    data=BeautifulSoup(data.content,'lxml')\n",
    "    for i in data.find_all('a',{'data-obj':\"impVipAjaxMenuCloseLog\"}):\n",
    "        product_links.append('https://www.limeroad.com'+str(i.get('href')))\n"
   ]
  },
  {
   "cell_type": "code",
   "execution_count": 135,
   "metadata": {},
   "outputs": [
    {
     "data": {
      "text/plain": [
       "65392"
      ]
     },
     "execution_count": 135,
     "metadata": {},
     "output_type": "execute_result"
    }
   ],
   "source": [
    "len(product_links)"
   ]
  },
  {
   "cell_type": "code",
   "execution_count": 136,
   "metadata": {},
   "outputs": [],
   "source": [
    "product_links=list(set(product_links))"
   ]
  },
  {
   "cell_type": "code",
   "execution_count": 137,
   "metadata": {},
   "outputs": [
    {
     "data": {
      "text/plain": [
       "64938"
      ]
     },
     "execution_count": 137,
     "metadata": {},
     "output_type": "execute_result"
    }
   ],
   "source": [
    "len(product_links)"
   ]
  },
  {
   "cell_type": "markdown",
   "metadata": {},
   "source": [
    "#### Saving all the extracted links as backup"
   ]
  },
  {
   "cell_type": "code",
   "execution_count": 138,
   "metadata": {},
   "outputs": [],
   "source": [
    "pickling_on = open(\"prod_links.pickle\",\"wb\")\n",
    "pickle.dump(product_links, pickling_on)\n",
    "pickling_on.close()"
   ]
  },
  {
   "cell_type": "markdown",
   "metadata": {},
   "source": [
    "#### Unpickling the saved links"
   ]
  },
  {
   "cell_type": "code",
   "execution_count": null,
   "metadata": {},
   "outputs": [],
   "source": [
    "pickle_off = open (\"prod_links.pickle\", \"rb\")\n",
    "product_links= pickle.load(pickle_off)\n",
    "print(len(product_links))"
   ]
  },
  {
   "cell_type": "code",
   "execution_count": 129,
   "metadata": {},
   "outputs": [],
   "source": [
    "Product_Link=[]\n",
    "Product_Name=[]\n",
    "Product_Brand=[]\n",
    "Size_Available=[]\n",
    "Price=[]\n",
    "MRP=[]\n",
    "Gender=[]\n",
    "Description=[]\n",
    "Cat_list=[]\n",
    "Primary_Image_Link=[]\n",
    "Secondary_Image_Link=[]"
   ]
  },
  {
   "cell_type": "code",
   "execution_count": 130,
   "metadata": {},
   "outputs": [
    {
     "name": "stderr",
     "output_type": "stream",
     "text": [
      "100%|██████████| 100/100 [01:10<00:00,  1.42it/s]\n"
     ]
    }
   ],
   "source": [
    "err=[]\n",
    "outstock=0\n",
    "for i in tqdm(product_links):\n",
    "    try:\n",
    "        data2=requests.get(i,headers=headers)\n",
    "        get=data2.content\n",
    "        s2=BeautifulSoup(get,'lxml')\n",
    "        if s2.find('div',{'class':'p40 pt0'}):\n",
    "            if s2.find('div',{'class':'p40 pt0'}).text == 'This product is out of stock!':\n",
    "                outstock+=1\n",
    "                continue\n",
    "        product_brand=s2.find('div',{'class':'fs12 p12 bs pt0 pb0 taL dT wp100'}).find('a').text #fs12 p12 bs pt0 pb0 taL dT wp100\n",
    "        product_name=s2.find('h1',{'class':'ftwN m0 p0 c3 fs20 pt0 p12 pb2 bs ttC'}).text\n",
    "        product_link=i\n",
    "        product_price=int(s2.find('span',{'class':'sell'}).text)\n",
    "        try:\n",
    "            product_mrp=int(s2.find('span',{'class':'mrp'}).text)\n",
    "        except:\n",
    "            product_mrp=int(s2.find('span',{'class':'sell'}).text)\n",
    "        if s2.find_all('span',{'itemprop':'name'})[1].text=='Men':\n",
    "            gender='Men'\n",
    "        elif s2.find_all('span',{'itemprop':'name'})[1].text=='clothing':\n",
    "            gender='Women'\n",
    "        else:\n",
    "            gender='Unisex'\n",
    "        des=s2.find_all('div',{'class':'p80 pt0 wp100'})\n",
    "        s=''\n",
    "        for i in des:\n",
    "            try:\n",
    "                s=s+i.find('div',{'class':'dIb vT'}).text+i.find('div',{'class':'dIb vT c3'}).text\n",
    "            except:\n",
    "                pass\n",
    "        product_des=s\n",
    "        temp_primary_img=s2.find('div',{'class':'m02 vT dIb pR zmimgH w310 h412 z2'})\n",
    "        primary_link=temp_primary_img.find('img').get('data-src')[2:]\n",
    "        image_links=[]\n",
    "        for k in s2.find_all('div',{'class':'m02 zmimgH vT dIb pR w310 h412 z2'}):\n",
    "            image_links.append(k.find('img').get('data-src')[2:])\n",
    "        image_links=image_links[1:]\n",
    "        secondary_link=[j for j in image_links if j]\n",
    "        \n",
    "        temp=s2.find('div',{'id':'alSz'})\n",
    "        temp_sizes=[]\n",
    "        for j in temp.find_all('div',{'class':'br4 dIb m4 vT p12 fs16 bxs bs ttU taC wsN size bd3 hcP hbxs'}):\n",
    "            if int(j.attrs['data-e']) > 0:\n",
    "                temp_sizes.append(j.attrs['data-b'][5:])\n",
    "        size_avl=temp_sizes\n",
    "        cat=s2.findAll(\"a\", {\"class\": \"tdN c6 hcP\"})\n",
    "        product_cat=cat[2].text.strip()[2:] +\", \"+ cat[3].text.strip()[2:]\n",
    "    \n",
    "    except:\n",
    "        err.append(i)\n",
    "        pass\n",
    "    \n",
    "    else:\n",
    "        Product_Link.append(product_link)\n",
    "        Product_Brand.append(product_brand)\n",
    "        Product_Name.append(product_name)\n",
    "        Description.append(product_des)\n",
    "        Gender.append(gender)\n",
    "        Cat_list.append(product_cat)\n",
    "        MRP.append(product_mrp)\n",
    "        Price.append(product_price)\n",
    "        Primary_Image_Link.append(primary_link)\n",
    "        Secondary_Image_Link.append(secondary_link)\n",
    "        Size_Available.append(size_avl)\n",
    "        \n"
   ]
  },
  {
   "cell_type": "code",
   "execution_count": 133,
   "metadata": {},
   "outputs": [],
   "source": [
    "con=sqlite3.connect(\"lime_road.db\")  \n",
    "cur=con.cursor()\n",
    "cur.execute('CREATE TABLE product_details (Website varchar(40) not null,Product_Link text PRIMARY KEY,Product_Name varchar(50) not null,Product_Brand varchar(50) not null,Product_Category varchar(50),Size_Avail varchar(20) not null,Price int not null,MRP int not null,Gender varchar(15) not null,Description text not null,Primary_Image_Links text not null,Secondary_Image_Links text not null,Affiliate_Link text not null )')\n",
    "for i in range(len(Product_Link)):\n",
    "    try:\n",
    "        cur.execute('insert into product_details  values(%r,%r,%r,%r,%r,%r,%d,%d,%r,%r,%r,%r,%r)'%('https://www.limeroad.com/',Product_Link[i],Product_Name[i],Product_Brand[i],Cat_list[i],','.join(Size_Available[i]),Price[i],MRP[i],Gender[i],Description[i],Primary_Image_Link[i],','.join(Secondary_Image_Link[i]),''))\n",
    "    except:\n",
    "        pass\n",
    "con.commit()\n",
    "con.close()"
   ]
  },
  {
   "cell_type": "code",
   "execution_count": null,
   "metadata": {},
   "outputs": [],
   "source": []
  }
 ],
 "metadata": {
  "kernelspec": {
   "display_name": "Python 3",
   "language": "python",
   "name": "python3"
  },
  "language_info": {
   "codemirror_mode": {
    "name": "ipython",
    "version": 3
   },
   "file_extension": ".py",
   "mimetype": "text/x-python",
   "name": "python",
   "nbconvert_exporter": "python",
   "pygments_lexer": "ipython3",
   "version": "3.8.5"
  }
 },
 "nbformat": 4,
 "nbformat_minor": 4
}
