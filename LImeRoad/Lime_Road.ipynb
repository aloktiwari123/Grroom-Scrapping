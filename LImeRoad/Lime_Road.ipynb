{
 "cells": [
  {
   "cell_type": "code",
   "execution_count": 1,
   "metadata": {},
   "outputs": [],
   "source": [
    "from bs4 import BeautifulSoup\n",
    "import requests\n",
    "import pandas as pd\n",
    "from pandas import Series, DataFrame\n",
    "from ipywidgets import FloatProgress\n",
    "from time import sleep\n",
    "from IPython.display import display\n",
    "import re\n",
    "import pickle\n",
    "from urlextract import URLExtract\n",
    "import json\n",
    "import sqlite3\n",
    "import datetime\n",
    "from tqdm import tqdm"
   ]
  },
  {
   "cell_type": "code",
   "execution_count": 3,
   "metadata": {},
   "outputs": [],
   "source": [
    "headers = {'User-Agent' : 'Mozilla/5.0 (Macintosh; Intel Mac OS X 10_14_5) AppleWebKit/537.36 (KHTML, like Gecko) Chrome/84.0.4147.89 Safari/537.36'}"
   ]
  },
  {
   "cell_type": "markdown",
   "metadata": {},
   "source": [
    "# Mens"
   ]
  },
  {
   "cell_type": "markdown",
   "metadata": {},
   "source": [
    "## T-shirts"
   ]
  },
  {
   "cell_type": "code",
   "execution_count": 4,
   "metadata": {},
   "outputs": [],
   "source": [
    "product_links=[]\n",
    "c=0\n",
    "while c<3000:\n",
    "    result=requests.get(f\"https://www.limeroad.com/listing/get_listing_objects?p_start={c}&shuffleSearchProducts=true&s_start=0&story_start=0&stories_to_edit=false&scraps_to_edit=false&stories_to_rate=false&scraps_to_rate=false&p_queryparam=%7B%22stock%22%3A%5B%221%22%5D%7D&p_sortorder=threeQuarterStock_i%2Bdesc%2CscoreBucket17_f%2Bdesc&p_searchquery=tshirt+%7C%7C+tshirt*+%7C%7C+tshirt&s_queryparam=%7B%22stock%22%3A%5B%221%22%5D%7D&s_sortorder=priority%2Bdesc%2Crandom_5396281%2Bdesc&s_searchquery=tshirt+%7C%7C+tshirt*+%7C%7C+tshirt&isScrapOnlySearch=false&group=false&product_id=&story_id=&s_rows=0&p_rows=8&tag_sort=&df_type=&tag_condition=and&tag=&p_groupoffset=&story_rows=0&stories&ext_img=&template=&badge&catEditor=&gender=men&chopPage&chopPageSameUser&filterUserid&disableFixedScraps&tagPageStories=false&newUserSort=bsSort&new_user_data=newUserFlow&st_queryparam=&st_queryparam_or=&issearch=true&searchFilter=%5B%5B%22classification+.0.1116.1235.1237%22%2C%22classification+.0.11201585.11201684.11201717.11201719%22%2C%22classification+.0.11201585.11201684.11201586.11201595%22%5D%5D&ajax=true\",headers=headers)\n",
    "    c+=8\n",
    "    get=result.content\n",
    "    data=BeautifulSoup(get,'lxml')\n",
    "    for i in data.find_all('a',{'data-obj':\"impVipAjaxMenuCloseLog\"}):\n",
    "        product_links.append('https://www.limeroad.com'+str(i.get('href')))"
   ]
  },
  {
   "cell_type": "code",
   "execution_count": 6,
   "metadata": {},
   "outputs": [
    {
     "data": {
      "text/plain": [
       "(2704, 2704)"
      ]
     },
     "execution_count": 6,
     "metadata": {},
     "output_type": "execute_result"
    }
   ],
   "source": [
    "len(product_links),len(set(product_links))"
   ]
  },
  {
   "cell_type": "markdown",
   "metadata": {},
   "source": [
    "## Ethnics"
   ]
  },
  {
   "cell_type": "code",
   "execution_count": null,
   "metadata": {},
   "outputs": [],
   "source": [
    "#product_links=[]\n",
    "c=0\n",
    "while c<3000:\n",
    "    result=requests.get(f\"https://www.limeroad.com/listing/get_listing_objects?p_start={c}&shuffleSearchProducts=true&s_start=0&story_start=0&stories_to_edit=false&scraps_to_edit=false&stories_to_rate=false&scraps_to_rate=false&p_queryparam=%7B%22stock%22%3A%5B%221%22%5D%7D&p_sortorder=threeQuarterStock_i%2Bdesc%2CscoreBucket17_f%2Bdesc&p_searchquery=ethnic+%7C%7C+ethnic*+%7C%7C+ethnic&s_queryparam=%7B%22stock%22%3A%5B%221%22%5D%7D&s_sortorder=priority%2Bdesc%2Crandom_5398853%2Bdesc&s_searchquery=ethnic+%7C%7C+ethnic*+%7C%7C+ethnic&isScrapOnlySearch=false&group=false&product_id=&story_id=&s_rows=0&p_rows=8&tag_sort=&df_type=&tag_condition=and&tag=&p_groupoffset=&story_rows=0&stories&ext_img=&template=&badge&catEditor=&gender=men&chopPage&chopPageSameUser&filterUserid&disableFixedScraps&tagPageStories=false&newUserSort=bsSort&new_user_data=newUserFlow&st_queryparam=&st_queryparam_or=&issearch=true&searchFilter=%5B%5B%22classification+.0.1116.1240%22%2C%22classification+.0.1116.1240.11202062%22%2C%22classification+.0.11201863.11201864.11201896.11201907%22%2C%22classification+.0.11201585.11201684.11201639.11201709%22%5D%5D&ajax=true\",headers=headers)\n",
    "    c+=8\n",
    "    get=result.content\n",
    "    data=BeautifulSoup(get,'lxml')\n",
    "    for i in data.find_all('a',{'data-obj':\"impVipAjaxMenuCloseLog\"}):\n",
    "        product_links.append('https://www.limeroad.com'+str(i.get('href')))"
   ]
  },
  {
   "cell_type": "markdown",
   "metadata": {},
   "source": [
    "## Tops Women"
   ]
  },
  {
   "cell_type": "code",
   "execution_count": null,
   "metadata": {},
   "outputs": [],
   "source": [
    "f\"https://www.limeroad.com/listing/get_listing_objects?p_start={c}&s_start=2&story_start=2&stories_to_edit=false&scraps_to_edit=false&stories_to_rate=false&scraps_to_rate=false&p_queryparam=%7B%22classification%22%3A%5B%22.0.1116.1235.1236%22%5D%2C%22stock%22%3A%5B%221%22%5D%7D&p_sortorder=threeQuarterStock_i%2Bdesc%2CscCount%2Bdesc&p_searchquery=*%3A*&s_queryparam=%7B%22classification%22%3A%5B%22.0.1116.1235.1236%22%5D%2C%22stock%22%3A%5B%221%22%5D%7D&s_sortorder=priority%2Bdesc%2Crandom_5398879%2Bdesc&s_searchquery=*%3A*&isScrapOnlySearch&group=false&product_id=&story_id=ms1236st&s_rows=2&p_rows=8&tag_sort=&df_type=&tag_condition=%22%22&tag=&p_groupoffset=&story_rows=2&stories&ext_img=&template=&badge&catEditor&gender&chopPage&chopPageSameUser&filterUserid&disableFixedScraps&tagPageStories&newUserSort=bsSort&new_user_data=newUserFlow&st_queryparam=&st_queryparam_or=&issearch=false&ajax=true\",headers=headers"
   ]
  },
  {
   "cell_type": "markdown",
   "metadata": {},
   "source": [
    "## Tees Women"
   ]
  },
  {
   "cell_type": "code",
   "execution_count": null,
   "metadata": {},
   "outputs": [],
   "source": [
    "f\"https://www.limeroad.com/listing/get_listing_objects?p_start={c}&s_start=2&story_start=15&stories_to_edit=false&scraps_to_edit=false&stories_to_rate=false&scraps_to_rate=false&p_queryparam=%7B%22classification%22%3A%5B%22.0.1116.1235.1237%22%5D%2C%22stock%22%3A%5B%221%22%5D%7D&p_sortorder=threeQuarterStock_i%2Bdesc%2CscCount%2Bdesc&p_searchquery=*%3A*&s_queryparam=%7B%22classification%22%3A%5B%22.0.1116.1235.1237%22%5D%2C%22stock%22%3A%5B%221%22%5D%7D&s_sortorder=priority%2Bdesc%2Crandom_5398910%2Bdesc&s_searchquery=*%3A*&isScrapOnlySearch&group=false&product_id=&story_id=ms1237st&s_rows=2&p_rows=8&tag_sort=&df_type=&tag_condition=%22%22&tag=&p_groupoffset=&story_rows=2&stories&ext_img=&template=&badge&catEditor&gender&chopPage&chopPageSameUser&filterUserid&disableFixedScraps&tagPageStories&newUserSort=bsSort&new_user_data=newUserFlow&st_queryparam=&st_queryparam_or=&issearch=false&ajax=true\",headers=headers)"
   ]
  },
  {
   "cell_type": "markdown",
   "metadata": {},
   "source": [
    "## Shirts Women"
   ]
  },
  {
   "cell_type": "code",
   "execution_count": null,
   "metadata": {},
   "outputs": [],
   "source": [
    "f\"https://www.limeroad.com/listing/get_listing_objects?p_start={c}&s_start=1&story_start=2&stories_to_edit=false&scraps_to_edit=false&stories_to_rate=false&scraps_to_rate=false&p_queryparam=%7B%22classification%22%3A%5B%22.0.1116.1235.11201443%22%5D%2C%22stock%22%3A%5B%221%22%5D%7D&p_sortorder=threeQuarterStock_i%2Bdesc%2CscCount%2Bdesc&p_searchquery=*%3A*&s_queryparam=%7B%22classification%22%3A%5B%22.0.1116.1235.11201443%22%5D%2C%22stock%22%3A%5B%221%22%5D%7D&s_sortorder=priority%2Bdesc%2Crandom_5398923%2Bdesc&s_searchquery=*%3A*&isScrapOnlySearch&group=false&product_id=&story_id=ms11201443st&s_rows=2&p_rows=8&tag_sort=&df_type=&tag_condition=%22%22&tag=&p_groupoffset=&story_rows=2&stories&ext_img=&template=&badge&catEditor&gender&chopPage&chopPageSameUser&filterUserid&disableFixedScraps&tagPageStories&newUserSort=bsSort&new_user_data=newUserFlow&st_queryparam=&st_queryparam_or=&issearch=false&ajax=true\",headers=headers"
   ]
  },
  {
   "cell_type": "markdown",
   "metadata": {},
   "source": [
    "## Women Tunics"
   ]
  },
  {
   "cell_type": "markdown",
   "metadata": {},
   "source": [
    "## Women Dresses"
   ]
  },
  {
   "cell_type": "code",
   "execution_count": null,
   "metadata": {},
   "outputs": [],
   "source": [
    "f\"https://www.limeroad.com/listing/get_listing_objects?p_start={c}&s_start=2&story_start=4&stories_to_edit=false&scraps_to_edit=false&stories_to_rate=false&scraps_to_rate=false&p_queryparam=%7B%22classification%22%3A%5B%22.0.1116.1235.1238%22%5D%2C%22stock%22%3A%5B%221%22%5D%7D&p_sortorder=threeQuarterStock_i%2Bdesc%2CscCount%2Bdesc&p_searchquery=*%3A*&s_queryparam=%7B%22classification%22%3A%5B%22.0.1116.1235.1238%22%5D%2C%22stock%22%3A%5B%221%22%5D%7D&s_sortorder=priority%2Bdesc%2Crandom_5399142%2Bdesc&s_searchquery=*%3A*&isScrapOnlySearch&group=false&product_id=&story_id=ms1238st&s_rows=2&p_rows=8&tag_sort=&df_type=&tag_condition=%22%22&tag=&p_groupoffset=&story_rows=2&stories&ext_img=&template=&badge&catEditor&gender&chopPage&chopPageSameUser&filterUserid&disableFixedScraps&tagPageStories&newUserSort=bsSort&new_user_data=newUserFlow&st_queryparam=&st_queryparam_or=&issearch=false&ajax=true\",headers=headers"
   ]
  },
  {
   "cell_type": "markdown",
   "metadata": {},
   "source": [
    "## Women Jumpsuits"
   ]
  },
  {
   "cell_type": "code",
   "execution_count": null,
   "metadata": {},
   "outputs": [],
   "source": [
    "f\"https://www.limeroad.com/listing/get_listing_objects?p_start={c}&s_start=0&story_start=2&stories_to_edit=false&scraps_to_edit=false&stories_to_rate=false&scraps_to_rate=false&p_queryparam=%7B%22classification%22%3A%5B%22.0.1116.1235.1239%22%5D%2C%22stock%22%3A%5B%221%22%5D%7D&p_sortorder=threeQuarterStock_i%2Bdesc%2CscCount%2Bdesc&p_searchquery=*%3A*&s_queryparam=%7B%22classification%22%3A%5B%22.0.1116.1235.1239%22%5D%2C%22stock%22%3A%5B%221%22%5D%7D&s_sortorder=priority%2Bdesc%2Crandom_5399148%2Bdesc&s_searchquery=*%3A*&isScrapOnlySearch&group=false&product_id=&story_id=ms1239st&s_rows=0&p_rows=8&tag_sort=&df_type=&tag_condition=%22%22&tag=&p_groupoffset=&story_rows=2&stories&ext_img=&template=&badge&catEditor&gender&chopPage&chopPageSameUser&filterUserid&disableFixedScraps&tagPageStories&newUserSort=bsSort&new_user_data=newUserFlow&st_queryparam=&st_queryparam_or=&issearch=false&ajax=true\",headers=headers"
   ]
  },
  {
   "cell_type": "markdown",
   "metadata": {},
   "source": [
    "## Women Capes and Shrugs"
   ]
  },
  {
   "cell_type": "code",
   "execution_count": null,
   "metadata": {},
   "outputs": [],
   "source": [
    "f\"https://www.limeroad.com/listing/get_listing_objects?p_start={c}&s_start=0&story_start=0&stories_to_edit=false&scraps_to_edit=false&stories_to_rate=false&scraps_to_rate=false&p_queryparam=%7B%22classification%22%3A%5B%22.0.1116.1235.11201455%22%5D%2C%22stock%22%3A%5B%221%22%5D%7D&p_sortorder=threeQuarterStock_i%2Bdesc%2CscCount%2Bdesc&p_searchquery=*%3A*&s_queryparam=%7B%22classification%22%3A%5B%22.0.1116.1235.11201455%22%5D%2C%22stock%22%3A%5B%221%22%5D%7D&s_sortorder=priority%2Bdesc%2Crandom_5399150%2Bdesc&s_searchquery=*%3A*&isScrapOnlySearch&group=false&product_id=&story_id=ms11201455st&s_rows=0&p_rows=8&tag_sort=&df_type=&tag_condition=%22%22&tag=&p_groupoffset=&story_rows=0&stories&ext_img=&template=&badge&catEditor&gender&chopPage&chopPageSameUser&filterUserid&disableFixedScraps&tagPageStories&newUserSort=bsSort&new_user_data=newUserFlow&st_queryparam=&st_queryparam_or=&issearch=false&ajax=true\",headers=headers"
   ]
  },
  {
   "cell_type": "markdown",
   "metadata": {},
   "source": [
    "## Women Jeans and Leggings"
   ]
  },
  {
   "cell_type": "code",
   "execution_count": null,
   "metadata": {},
   "outputs": [],
   "source": [
    "f\"https://www.limeroad.com/listing/get_listing_objects?p_start={c}&s_start=2&story_start=2&stories_to_edit=false&scraps_to_edit=false&stories_to_rate=false&scraps_to_rate=false&p_queryparam=%7B%22classification%22%3A%5B%22.0.1116.1217.1247.1256%22%5D%2C%22stock%22%3A%5B%221%22%5D%7D&p_sortorder=threeQuarterStock_i%2Bdesc%2CscCount%2Bdesc&p_searchquery=*%3A*&s_queryparam=%7B%22classification%22%3A%5B%22.0.1116.1217.1247.1256%22%5D%2C%22stock%22%3A%5B%221%22%5D%7D&s_sortorder=priority%2Bdesc%2Crandom_5399154%2Bdesc&s_searchquery=*%3A*&isScrapOnlySearch&group=false&product_id=&story_id=ms1256st&s_rows=2&p_rows=8&tag_sort=&df_type=&tag_condition=%22%22&tag=&p_groupoffset=&story_rows=2&stories&ext_img=&template=&badge&catEditor&gender&chopPage&chopPageSameUser&filterUserid&disableFixedScraps&tagPageStories&newUserSort=bsSort&new_user_data=newUserFlow&st_queryparam=&st_queryparam_or=&issearch=false&ajax=true\",headers=headers"
   ]
  },
  {
   "cell_type": "markdown",
   "metadata": {},
   "source": [
    "## Women Skirts"
   ]
  },
  {
   "cell_type": "code",
   "execution_count": null,
   "metadata": {},
   "outputs": [],
   "source": [
    "f\"https://www.limeroad.com/listing/get_listing_objects?p_start={c}&s_start=2&story_start=2&stories_to_edit=false&scraps_to_edit=false&stories_to_rate=false&scraps_to_rate=false&p_queryparam=%7B%22classification%22%3A%5B%22.0.1116.1217.1247.1256%22%5D%2C%22stock%22%3A%5B%221%22%5D%7D&p_sortorder=threeQuarterStock_i%2Bdesc%2CscCount%2Bdesc&p_searchquery=*%3A*&s_queryparam=%7B%22classification%22%3A%5B%22.0.1116.1217.1247.1256%22%5D%2C%22stock%22%3A%5B%221%22%5D%7D&s_sortorder=priority%2Bdesc%2Crandom_5399154%2Bdesc&s_searchquery=*%3A*&isScrapOnlySearch&group=false&product_id=&story_id=ms1256st&s_rows=2&p_rows=8&tag_sort=&df_type=&tag_condition=%22%22&tag=&p_groupoffset=&story_rows=2&stories&ext_img=&template=&badge&catEditor&gender&chopPage&chopPageSameUser&filterUserid&disableFixedScraps&tagPageStories&newUserSort=bsSort&new_user_data=newUserFlow&st_queryparam=&st_queryparam_or=&issearch=false&ajax=true\",headers=headers"
   ]
  },
  {
   "cell_type": "markdown",
   "metadata": {},
   "source": [
    "## Women Plazzos "
   ]
  },
  {
   "cell_type": "code",
   "execution_count": null,
   "metadata": {},
   "outputs": [],
   "source": [
    "f\"https://www.limeroad.com/listing/get_listing_objects?p_start={c}&s_start=1&story_start=2&stories_to_edit=false&scraps_to_edit=false&stories_to_rate=false&scraps_to_rate=false&p_queryparam=%7B%22classification%22%3A%5B%22.0.1116.1217.11201459%22%5D%2C%22stock%22%3A%5B%221%22%5D%7D&p_sortorder=threeQuarterStock_i%2Bdesc%2CscCount%2Bdesc&p_searchquery=*%3A*&s_queryparam=%7B%22classification%22%3A%5B%22.0.1116.1217.11201459%22%5D%2C%22stock%22%3A%5B%221%22%5D%7D&s_sortorder=priority%2Bdesc%2Crandom_5399155%2Bdesc&s_searchquery=*%3A*&isScrapOnlySearch&group=false&product_id=&story_id=ms11201459st&s_rows=2&p_rows=8&tag_sort=&df_type=&tag_condition=%22%22&tag=&p_groupoffset=&story_rows=2&stories&ext_img=&template=&badge&catEditor&gender&chopPage&chopPageSameUser&filterUserid&disableFixedScraps&tagPageStories&newUserSort=bsSort&new_user_data=newUserFlow&st_queryparam=&st_queryparam_or=&issearch=false&ajax=true\",headers=headers"
   ]
  },
  {
   "cell_type": "markdown",
   "metadata": {},
   "source": [
    "## Women Shorts"
   ]
  },
  {
   "cell_type": "code",
   "execution_count": null,
   "metadata": {},
   "outputs": [],
   "source": [
    "f\"https://www.limeroad.com/listing/get_listing_objects?p_start={c}&s_start=0&story_start=2&stories_to_edit=false&scraps_to_edit=false&stories_to_rate=false&scraps_to_rate=false&p_queryparam=%7B%22classification%22%3A%5B%22.0.1116.1217.1247.1257%22%5D%2C%22stock%22%3A%5B%221%22%5D%7D&p_sortorder=threeQuarterStock_i%2Bdesc%2CscCount%2Bdesc&p_searchquery=*%3A*&s_queryparam=%7B%22classification%22%3A%5B%22.0.1116.1217.1247.1257%22%5D%2C%22stock%22%3A%5B%221%22%5D%7D&s_sortorder=priority%2Bdesc%2Crandom_5399157%2Bdesc&s_searchquery=*%3A*&isScrapOnlySearch&group=false&product_id=&story_id=ms1257st&s_rows=0&p_rows=8&tag_sort=&df_type=&tag_condition=%22%22&tag=&p_groupoffset=&story_rows=2&stories&ext_img=&template=&badge&catEditor&gender&chopPage&chopPageSameUser&filterUserid&disableFixedScraps&tagPageStories&newUserSort=bsSort&new_user_data=newUserFlow&st_queryparam=&st_queryparam_or=&issearch=false&ajax=true\",headers=headers"
   ]
  },
  {
   "cell_type": "code",
   "execution_count": null,
   "metadata": {},
   "outputs": [],
   "source": [
    "## Women "
   ]
  },
  {
   "cell_type": "code",
   "execution_count": 9,
   "metadata": {},
   "outputs": [],
   "source": [
    "Product_Link=[]\n",
    "Product_Name=[]\n",
    "Product_Brand=[]\n",
    "Size_Available=[]\n",
    "Price=[]\n",
    "MRP=[]\n",
    "Gender=[]\n",
    "Description=[]\n",
    "Cat_list=[]\n",
    "Primary_Image_Link=[]\n",
    "Secondary_Image_Link=[]"
   ]
  },
  {
   "cell_type": "code",
   "execution_count": 10,
   "metadata": {},
   "outputs": [
    {
     "name": "stderr",
     "output_type": "stream",
     "text": [
      "100%|██████████| 2704/2704 [35:48<00:00,  1.26it/s]  \n"
     ]
    }
   ],
   "source": [
    "err=[]\n",
    "outstock=0\n",
    "for i in tqdm(product_links):\n",
    "    try:\n",
    "        data2=requests.get(i,headers=headers)\n",
    "        get=data2.content\n",
    "        s2=BeautifulSoup(get,'lxml')\n",
    "        if s2.find('div',{'class':'p40 pt0'}):\n",
    "            if s2.find('div',{'class':'p40 pt0'}).text == 'This product is out of stock!':\n",
    "                outstock+=1\n",
    "                continue\n",
    "        product_brand=s2.find('div',{'class':'fs12 p12 bs pt0 pb0 taL dT wp100'}).find('a').text #fs12 p12 bs pt0 pb0 taL dT wp100\n",
    "        product_name=s2.find('h1',{'class':'ftwN m0 p0 c3 fs20 pt0 p12 pb2 bs ttC'}).text\n",
    "        product_link=i\n",
    "        product_price=int(s2.find('span',{'class':'sell'}).text)\n",
    "        try:\n",
    "            product_mrp=int(s2.find('span',{'class':'mrp'}).text)\n",
    "        except:\n",
    "            product_mrp=int(s2.find('span',{'class':'sell'}).text)\n",
    "        gender=s2.find_all('span',{'itemprop':'name'})[1].text\n",
    "        #description[i]=s2.find_all('div',{'class':'p80 pt0 wp100'})[1].find('div',{'class':'dIb vT c3'}).text\n",
    "        for m in s2.find_all('div',{'class':'p80 pt0 wp100'}):\n",
    "            if re.match('\\nproduct details :',m.text,re.IGNORECASE):\n",
    "                product_des=m.find('div',{'class':'dIb vT c3'}).text\n",
    "            if re.match('\\nproduct description :',m.text,re.IGNORECASE):\n",
    "                product_des=m.find('div',{'class':'dIb vT c3'}).text\n",
    "        temp_primary_img=s2.find('div',{'class':'m02 vT dIb pR zmimgH w310 h412 z2'})\n",
    "        primary_link=temp_primary_img.find('img').get('data-src')[2:]\n",
    "        image_links=[]\n",
    "        for k in s2.find_all('div',{'class':'m02 zmimgH vT dIb pR w310 h412 z2'}):\n",
    "            image_links.append(k.find('img').get('data-src')[2:])\n",
    "        image_links=image_links[1:]\n",
    "        secondary_link=[j for j in image_links if j]\n",
    "        \n",
    "        temp=s2.find('div',{'id':'alSz'})\n",
    "        temp_sizes=[]\n",
    "        for j in temp.find_all('div',{'class':'br4 dIb m4 vT p12 fs16 bxs bs ttU taC wsN size bd3 hcP hbxs'}):\n",
    "            if int(j.attrs['data-e']) > 0:\n",
    "                temp_sizes.append(j.attrs['data-b'][5:])\n",
    "        size_avl=temp_sizes\n",
    "        cat=s2.findAll(\"a\", {\"class\": \"tdN c6 hcP\"})\n",
    "        product_cat=cat[2].text.strip()[2:] +\", \"+ cat[3].text.strip()[2:]\n",
    "    \n",
    "    except:\n",
    "        err.append(i)\n",
    "        pass\n",
    "    \n",
    "    else:\n",
    "        Product_Link.append(product_link)\n",
    "        Product_Brand.append(product_brand)\n",
    "        Product_Name.append(product_name)\n",
    "        Description.append(product_des)\n",
    "        Gender.append(gender)\n",
    "        Cat_list.append(product_cat)\n",
    "        MRP.append(product_mrp)\n",
    "        Price.append(product_price)\n",
    "        Primary_Image_Link.append(primary_link)\n",
    "        Secondary_Image_Link.append(secondary_link)\n",
    "        Size_Available.append(size_avl)\n",
    "        \n"
   ]
  },
  {
   "cell_type": "code",
   "execution_count": 23,
   "metadata": {},
   "outputs": [],
   "source": [
    "con=sqlite3.connect(\"lime_road.db\")  \n",
    "cur=con.cursor()\n",
    "cur.execute('CREATE TABLE product_details (Website varchar(40) not null,Product_Link text PRIMARY KEY,Product_Name varchar(50) not null,Product_Brand varchar(50) not null,Product_Category varchar(50),Size_Avail varchar(20) not null,Price int not null,MRP int not null,Gender varchar(15) not null,Description text not null,Primary_Image_Links text not null,Secondary_Image_Links text not null,Affiliate_Link text not null )')\n",
    "for i in range(len(Product_Link)):\n",
    "    try:\n",
    "        cur.execute('insert into product_details  values(%r,%r,%r,%r,%r,%r,%d,%d,%r,%r,%r,%r,%r)'%('https://www.metroshoes.net/',Product_Link[i],Product_Name[i],Product_Brand[i],Cat_list[i],','.join(Size_Available[i]),Price[i],MRP[i],Gender[i],Description[i],Primary_Image_Link[i],','.join(Secondary_Image_Link[i]),''))\n",
    "    except:\n",
    "        pass\n",
    "con.commit()\n",
    "con.close()"
   ]
  },
  {
   "cell_type": "code",
   "execution_count": 15,
   "metadata": {},
   "outputs": [
    {
     "name": "stdout",
     "output_type": "stream",
     "text": [
      "3\n"
     ]
    }
   ],
   "source": [
    "#x=int(input())\n",
    "num=[2,7,2,3,4,4,4,4,3,2,3]\n",
    "##for i in range(0,x):\n",
    "##    num.append(int(input()))\n",
    "unique=list(set(num))\n",
    "unique.sort(reverse=True)\n",
    "for i in unique:\n",
    "    if(num.count(i)==i):\n",
    "        print(i)\n",
    "        break"
   ]
  },
  {
   "cell_type": "code",
   "execution_count": null,
   "metadata": {},
   "outputs": [],
   "source": [
    "def decimalToBinary(n):\n",
    "    return int(bin(n).replace(\"0b\", \"\"))\n",
    "print(decimalToBinary(int(input())))"
   ]
  },
  {
   "cell_type": "code",
   "execution_count": 59,
   "metadata": {},
   "outputs": [
    {
     "name": "stdin",
     "output_type": "stream",
     "text": [
      " 3521\n",
      " 2452\n",
      " 1352\n"
     ]
    },
    {
     "name": "stdout",
     "output_type": "stream",
     "text": [
      "1522\n"
     ]
    }
   ],
   "source": [
    "n1=str(int(input()))\n",
    "n2=str(int(input()))\n",
    "n3=str(int(input()))\n",
    "s1=str(max(int(n1[len(n1)-1]),int(n2[len(n1)-1]),int(n3[len(n1)-1])))\n",
    "s2=str(min(int(n1[len(n1)-2]),int(n2[len(n1)-2]),int(n3[len(n1)-2])))\n",
    "s3=str(max(int(n1[len(n1)-3]),int(n2[len(n1)-3]),int(n3[len(n1)-3])))\n",
    "s4=str(min(int(n1[len(n1)-4]),int(n2[len(n1)-4]),int(n3[len(n1)-4])))\n",
    "print(int(s4+s3+s2+s1))"
   ]
  },
  {
   "cell_type": "code",
   "execution_count": 16,
   "metadata": {},
   "outputs": [
    {
     "name": "stdin",
     "output_type": "stream",
     "text": [
      " 2 3 4 5 6 7\n"
     ]
    },
    {
     "name": "stdout",
     "output_type": "stream",
     "text": [
      "[2, 4, 6, 3, 5]\n"
     ]
    }
   ],
   "source": [
    "n=5\n",
    "li=[int(i) for i in input().split()][:n]\n",
    "l1=[]\n",
    "l2=[]\n",
    "for j in range(0,len(li)):\n",
    "    if(j%2==0):\n",
    "        l1.append(li[j])    \n",
    "    else:\n",
    "        l2.append(li[j])\n",
    "print(l1+l2)"
   ]
  },
  {
   "cell_type": "code",
   "execution_count": 27,
   "metadata": {},
   "outputs": [
    {
     "name": "stdout",
     "output_type": "stream",
     "text": [
      "2 4 6 3 5 "
     ]
    }
   ],
   "source": [
    "l=l1+l2\n",
    "for i in range(0,len(l)):\n",
    "    print(l[i],end=' ')"
   ]
  },
  {
   "cell_type": "code",
   "execution_count": 28,
   "metadata": {},
   "outputs": [],
   "source": [
    "def check(s):\n",
    "    vowel={'a','e','i','o','u'}\n",
    "    count=0\n",
    "    for i in range(len(s)-1):\n",
    "        if(s[i] in vowel and s[i+1] not in vowel):\n",
    "            count+=1 \n",
    "    return count"
   ]
  },
  {
   "cell_type": "code",
   "execution_count": 29,
   "metadata": {},
   "outputs": [
    {
     "data": {
      "text/plain": [
       "2"
      ]
     },
     "execution_count": 29,
     "metadata": {},
     "output_type": "execute_result"
    }
   ],
   "source": [
    "s=\"OqPputLE\"\n",
    "s=s.lower()\n",
    "check(s)"
   ]
  },
  {
   "cell_type": "code",
   "execution_count": null,
   "metadata": {},
   "outputs": [],
   "source": []
  }
 ],
 "metadata": {
  "kernelspec": {
   "display_name": "Python 3",
   "language": "python",
   "name": "python3"
  },
  "language_info": {
   "codemirror_mode": {
    "name": "ipython",
    "version": 3
   },
   "file_extension": ".py",
   "mimetype": "text/x-python",
   "name": "python",
   "nbconvert_exporter": "python",
   "pygments_lexer": "ipython3",
   "version": "3.8.5"
  }
 },
 "nbformat": 4,
 "nbformat_minor": 4
}
