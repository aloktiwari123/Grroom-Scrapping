{
 "cells": [
  {
   "cell_type": "code",
   "execution_count": 142,
   "metadata": {},
   "outputs": [],
   "source": [
    "from bs4 import BeautifulSoup\n",
    "import requests\n",
    "import pandas as pd\n",
    "from pandas import Series, DataFrame\n",
    "from ipywidgets import FloatProgress\n",
    "from time import sleep\n",
    "from IPython.display import display\n",
    "import re\n",
    "import pickle\n",
    "from urlextract import URLExtract\n",
    "import json\n",
    "import sqlite3\n",
    "import datetime\n",
    "from tqdm import tqdm"
   ]
  },
  {
   "cell_type": "code",
   "execution_count": 143,
   "metadata": {},
   "outputs": [],
   "source": [
    "headers = {'User-Agent' : 'Mozilla/5.0 (Macintosh; Intel Mac OS X 10_14_5) AppleWebKit/537.36 (KHTML, like Gecko) Chrome/84.0.4147.89 Safari/537.36'}"
   ]
  },
  {
   "cell_type": "markdown",
   "metadata": {},
   "source": [
    "## Sarees"
   ]
  },
  {
   "cell_type": "code",
   "execution_count": 144,
   "metadata": {},
   "outputs": [
    {
     "name": "stderr",
     "output_type": "stream",
     "text": [
      "100%|██████████| 5/5 [00:03<00:00,  1.30it/s]\n"
     ]
    }
   ],
   "source": [
    "sarees_link=[]\n",
    "for i in tqdm(range(0,49,12)):\n",
    "    try:\n",
    "        result=requests.get(f\"https://thehaelli.com/get-products?offset={i}&sort_by=&sort_dir=&limit=12&type=saree&size=all\",headers=headers)\n",
    "        get=result.content\n",
    "        js=json.loads(get)\n",
    "        for j in js['products']:\n",
    "            sarees_link.append('https://thehaelli.com/product/'+str(j['id']))\n",
    "    except:\n",
    "        pass\n"
   ]
  },
  {
   "cell_type": "code",
   "execution_count": 145,
   "metadata": {},
   "outputs": [],
   "source": [
    "Product_Link=[]\n",
    "Product_Name=[]\n",
    "Product_Brand=[]\n",
    "Size_Available=[]\n",
    "Price=[]\n",
    "MRP=[]\n",
    "Gender=[]\n",
    "Description=[]\n",
    "Cat_list=[]\n",
    "Primary_Image_Link=[]\n",
    "Secondary_Image_Link=[]"
   ]
  },
  {
   "cell_type": "code",
   "execution_count": 146,
   "metadata": {},
   "outputs": [
    {
     "name": "stderr",
     "output_type": "stream",
     "text": [
      "100%|██████████| 46/46 [00:57<00:00,  1.25s/it]\n"
     ]
    }
   ],
   "source": [
    "err=[]\n",
    "for i in tqdm(sarees_link):\n",
    "    try:\n",
    "        result=requests.get(i,headers=headers)\n",
    "        get=result.content\n",
    "        soup=BeautifulSoup(get,'lxml')\n",
    "        product_name=soup.find('h4',{'class':'product-detail-name m-text16 p-b-13'}).text.lstrip().rstrip()\n",
    "        product_brand=\"TheHaelli\"\n",
    "        product_link=i\n",
    "        product_cat='Sarees'\n",
    "        product_des=soup.find('p',{'class':'s-text8 p-t-10'}).text.lstrip().rstrip()\n",
    "        try:\n",
    "            product_price=int(soup.find('span',{'class':'m-text17'}).text.split('₹')[1].lstrip().rstrip())\n",
    "            product_mrp=product_price\n",
    "        except:\n",
    "            product_price=int(soup.find('span',{'class':'m-text17'}).text.split('                        ')[1].rstrip().lstrip())\n",
    "            product_mrp=int(soup.find('span',{'class':'m-text17'}).text.split('                        ')[2].rstrip().lstrip())\n",
    "        img=soup.find_all('img',{'alt':'IMG-PRODUCT'})[0:5]\n",
    "        images=[]\n",
    "        for i in img:\n",
    "            images.append(i.attrs['src'])\n",
    "    \n",
    "        primary_link=images[0]\n",
    "        secondary_link=','.join(images[1:])\n",
    "        size_avl='One-Size'\n",
    "    \n",
    "    except:\n",
    "        err.append(i)\n",
    "        pass\n",
    "        \n",
    "    else:\n",
    "        Product_Link.append(product_link)\n",
    "        Product_Brand.append(product_brand)\n",
    "        Product_Name.append(product_name)\n",
    "        Description.append(product_des)\n",
    "        Gender.append('Women')\n",
    "        Cat_list.append(product_cat)\n",
    "        MRP.append(product_mrp)\n",
    "        Price.append(product_price)\n",
    "        Primary_Image_Link.append(primary_link)\n",
    "        Secondary_Image_Link.append(secondary_link)\n",
    "        Size_Available.append(size_avl)\n",
    "    "
   ]
  },
  {
   "cell_type": "markdown",
   "metadata": {},
   "source": [
    "##  Juttis"
   ]
  },
  {
   "cell_type": "code",
   "execution_count": 147,
   "metadata": {},
   "outputs": [
    {
     "name": "stderr",
     "output_type": "stream",
     "text": [
      "100%|██████████| 9/9 [00:07<00:00,  1.24it/s]\n"
     ]
    }
   ],
   "source": [
    "juttis_link=[]\n",
    "c=0\n",
    "for i in tqdm(range(0,9)):\n",
    "    try:\n",
    "        result=requests.get(f\"https://thehaelli.com/get-products?offset={c}&sort_by=&sort_dir=&limit=12&type=jutti&size=all\",headers=headers)\n",
    "        c=c+12\n",
    "        get=result.content\n",
    "        js=json.loads(get)\n",
    "        for j in js['products']:\n",
    "            juttis_link.append('https://thehaelli.com/product/'+str(j['id']))\n",
    "    except:\n",
    "        pass\n"
   ]
  },
  {
   "cell_type": "code",
   "execution_count": 148,
   "metadata": {},
   "outputs": [
    {
     "name": "stderr",
     "output_type": "stream",
     "text": [
      "100%|██████████| 86/86 [01:21<00:00,  1.06it/s]\n"
     ]
    }
   ],
   "source": [
    "err=[]\n",
    "for i in tqdm(juttis_link):\n",
    "    try:\n",
    "        result=requests.get(i,headers=headers)\n",
    "        get=result.content\n",
    "        soup=BeautifulSoup(get,'lxml')\n",
    "        product_name=soup.find('h4',{'class':'product-detail-name m-text16 p-b-13'}).text.lstrip().rstrip()\n",
    "        product_brand=\"TheHaelli\"\n",
    "        product_link=i\n",
    "        product_cat='jutti'\n",
    "        product_des=soup.find('p',{'class':'s-text8 p-t-10'}).text.lstrip().rstrip()\n",
    "        try:\n",
    "            product_price=int(soup.find('span',{'class':'m-text17'}).text.split('₹')[1].lstrip().rstrip())\n",
    "            product_mrp=product_price\n",
    "        except:\n",
    "            product_price=int(soup.find('span',{'class':'m-text17'}).text.split('                        ')[1].rstrip().lstrip())\n",
    "            product_mrp=int(soup.find('span',{'class':'m-text17'}).text.split('                        ')[2].rstrip().lstrip())\n",
    "        img=soup.find_all('img',{'alt':'IMG-PRODUCT'})[0:5]\n",
    "        images=[]\n",
    "        for i in img:\n",
    "            images.append(i.attrs['src'])\n",
    "    \n",
    "        primary_link=images[0]\n",
    "        secondary_link=','.join(images[1:])\n",
    "        size=soup.find('div',{'class':'flex-m flex-w p-b-10 buttons'}).find_all('li')\n",
    "        sizes=[]\n",
    "        for i in size:\n",
    "            sizes.append(i.attrs['data-size'])\n",
    "        size_avl=','.join(sizes)\n",
    "    \n",
    "    except:\n",
    "        err.append(i)\n",
    "        pass\n",
    "        \n",
    "    else:\n",
    "        Product_Link.append(product_link)\n",
    "        Product_Brand.append(product_brand)\n",
    "        Product_Name.append(product_name)\n",
    "        Description.append(product_des)\n",
    "        Gender.append('Women')\n",
    "        Cat_list.append(product_cat)\n",
    "        MRP.append(product_mrp)\n",
    "        Price.append(product_price)\n",
    "        Primary_Image_Link.append(primary_link)\n",
    "        Secondary_Image_Link.append(secondary_link)\n",
    "        Size_Available.append(size_avl)\n",
    "    "
   ]
  },
  {
   "cell_type": "markdown",
   "metadata": {},
   "source": [
    "## Blouse"
   ]
  },
  {
   "cell_type": "code",
   "execution_count": 149,
   "metadata": {},
   "outputs": [
    {
     "name": "stderr",
     "output_type": "stream",
     "text": [
      "100%|██████████| 2/2 [00:02<00:00,  1.37s/it]\n"
     ]
    }
   ],
   "source": [
    "blouse_link=[]\n",
    "c=0\n",
    "for i in tqdm(range(0,2)):\n",
    "    try:\n",
    "        result=requests.get(f\"https://thehaelli.com/get-products?offset={c}&sort_by=&sort_dir=&limit=12&type=blouse&size=all\",headers=headers)\n",
    "        c=c+12\n",
    "        get=result.content\n",
    "        js=json.loads(get)\n",
    "        for j in js['products']:\n",
    "            blouse_link.append('https://thehaelli.com/product/'+str(j['id']))\n",
    "    except:\n",
    "        pass\n"
   ]
  },
  {
   "cell_type": "code",
   "execution_count": 150,
   "metadata": {},
   "outputs": [
    {
     "name": "stderr",
     "output_type": "stream",
     "text": [
      "100%|██████████| 17/17 [00:17<00:00,  1.03s/it]\n"
     ]
    }
   ],
   "source": [
    "err=[]\n",
    "for i in tqdm(blouse_link):\n",
    "    try:\n",
    "        result=requests.get(i,headers=headers)\n",
    "        get=result.content\n",
    "        soup=BeautifulSoup(get,'lxml')\n",
    "        product_name=soup.find('h4',{'class':'product-detail-name m-text16 p-b-13'}).text.lstrip().rstrip()\n",
    "        product_brand=\"TheHaelli\"\n",
    "        product_link=i\n",
    "        product_cat='blouse'\n",
    "        product_des=soup.find_all('p',{'class':'s-text8'})[1].text.lstrip().rstrip()\n",
    "        try:\n",
    "            product_price=int(soup.find('span',{'class':'m-text17'}).text.split('₹')[1].lstrip().rstrip())\n",
    "            product_mrp=product_price\n",
    "        except:\n",
    "            product_price=int(soup.find('span',{'class':'m-text17'}).text.split('                        ')[1].rstrip().lstrip())\n",
    "            product_mrp=int(soup.find('span',{'class':'m-text17'}).text.split('                        ')[2].rstrip().lstrip())\n",
    "        img=soup.find_all('img',{'alt':'IMG-PRODUCT'})[0:5]\n",
    "        images=[]\n",
    "        for i in img:\n",
    "            images.append(i.attrs['src'])\n",
    "    \n",
    "        primary_link=images[0]\n",
    "        secondary_link=','.join(images[1:])\n",
    "        size=soup.find('div',{'class':'flex-m flex-w p-b-10 buttons'}).find_all('li')\n",
    "        sizes=[]\n",
    "        for i in size:\n",
    "            sizes.append(i.attrs['data-size'])\n",
    "        size_avl=','.join(sizes)\n",
    "    \n",
    "    except:\n",
    "        err.append(i)\n",
    "        pass\n",
    "        \n",
    "    else:\n",
    "        Product_Link.append(product_link)\n",
    "        Product_Brand.append(product_brand)\n",
    "        Product_Name.append(product_name)\n",
    "        Description.append(product_des)\n",
    "        Gender.append('Women')\n",
    "        Cat_list.append(product_cat)\n",
    "        MRP.append(product_mrp)\n",
    "        Price.append(product_price)\n",
    "        Primary_Image_Link.append(primary_link)\n",
    "        Secondary_Image_Link.append(secondary_link)\n",
    "        Size_Available.append(size_avl)\n",
    "    "
   ]
  },
  {
   "cell_type": "code",
   "execution_count": 151,
   "metadata": {},
   "outputs": [],
   "source": [
    "con=sqlite3.connect(\"thehaelli.db\")  \n",
    "cur=con.cursor()\n",
    "cur.execute('CREATE TABLE product_details (Website varchar(40) not null,Product_Link text PRIMARY KEY,Product_Name varchar(50) not null,Product_Brand varchar(50) not null,Product_Category varchar(50),Size_Avail varchar(20) not null,Price int not null,MRP int not null,Gender varchar(15) not null,Description text not null,Primary_Image_Links text not null,Secondary_Image_Links text not null,Affiliate_Link text not null )')\n",
    "for i in range(len(Product_Link)):\n",
    "    try:\n",
    "        cur.execute('insert into product_details  values(%r,%r,%r,%r,%r,%r,%d,%d,%r,%r,%r,%r,%r)'%(\"https://thehaelli.com/\",Product_Link[i],Product_Name[i],Product_Brand[i],Cat_list[i],Size_Available[i],Price[i],MRP[i],Gender[i],Description[i],Primary_Image_Link[i],Secondary_Image_Link[i],''))\n",
    "    except:\n",
    "        pass\n",
    "con.commit()\n",
    "con.close()"
   ]
  },
  {
   "cell_type": "code",
   "execution_count": null,
   "metadata": {},
   "outputs": [],
   "source": []
  }
 ],
 "metadata": {
  "kernelspec": {
   "display_name": "Python 3",
   "language": "python",
   "name": "python3"
  },
  "language_info": {
   "codemirror_mode": {
    "name": "ipython",
    "version": 3
   },
   "file_extension": ".py",
   "mimetype": "text/x-python",
   "name": "python",
   "nbconvert_exporter": "python",
   "pygments_lexer": "ipython3",
   "version": "3.8.5"
  }
 },
 "nbformat": 4,
 "nbformat_minor": 4
}
