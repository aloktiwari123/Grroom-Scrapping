{
 "cells": [
  {
   "cell_type": "code",
   "execution_count": 5,
   "metadata": {},
   "outputs": [],
   "source": [
    "from bs4 import BeautifulSoup\n",
    "import requests\n",
    "import pandas as pd\n",
    "from pandas import Series, DataFrame\n",
    "from ipywidgets import FloatProgress\n",
    "from time import sleep\n",
    "from IPython.display import display\n",
    "import re\n",
    "import pickle\n",
    "from urlextract import URLExtract\n",
    "import json\n",
    "import sqlite3\n",
    "import datetime\n",
    "from tqdm import tqdm"
   ]
  },
  {
   "cell_type": "code",
   "execution_count": 6,
   "metadata": {},
   "outputs": [],
   "source": [
    "headers = {'User-Agent' : 'Mozilla/5.0 (Macintosh; Intel Mac OS X 10_14_5) AppleWebKit/537.36 (KHTML, like Gecko) Chrome/84.0.4147.89 Safari/537.36'}"
   ]
  },
  {
   "cell_type": "markdown",
   "metadata": {},
   "source": [
    "## Western Wear"
   ]
  },
  {
   "cell_type": "code",
   "execution_count": 7,
   "metadata": {},
   "outputs": [],
   "source": [
    "prod_link=[]"
   ]
  },
  {
   "cell_type": "code",
   "execution_count": 8,
   "metadata": {},
   "outputs": [],
   "source": [
    "c=0\n",
    "while c<2102:\n",
    "    c=c+1\n",
    "    result = requests.get(f'https://www.ajio.com/api/category/830216?fields=SITE&currentPage={c}&pageSize=45&format=json&query=%3Arelevance&sortBy=relevance&gridColumns=3&advfilter=true',headers=headers)\n",
    "    get = result.content\n",
    "    soup = BeautifulSoup(get,\"lxml\")\n",
    "    s=json.loads(soup.text)\n",
    "    try:\n",
    "        for i in s['products']:\n",
    "            prod_link.append(i['url'].split(\"/p/\")[1])\n",
    "    except:\n",
    "        pass"
   ]
  },
  {
   "cell_type": "code",
   "execution_count": 9,
   "metadata": {},
   "outputs": [
    {
     "data": {
      "text/plain": [
       "94590"
      ]
     },
     "execution_count": 9,
     "metadata": {},
     "output_type": "execute_result"
    }
   ],
   "source": [
    "len(prod_link)"
   ]
  },
  {
   "cell_type": "markdown",
   "metadata": {},
   "source": [
    "## Ethnic and Festive Collection"
   ]
  },
  {
   "cell_type": "code",
   "execution_count": 10,
   "metadata": {},
   "outputs": [],
   "source": [
    "#prod_link=[]\n",
    "c=0\n",
    "while c<176:\n",
    "    c=c+1\n",
    "    result = requests.get(f'https://www.ajio.com/api/category/83?fields=SITE&currentPage={c}&pageSize=45&format=json&query=%3Arelevance&sortBy=relevance&curated=true&curatedid=ethnic-and-festive-collections&gridColumns=3&facets=&advfilter=true',headers=headers)\n",
    "    get = result.content\n",
    "    soup = BeautifulSoup(get,\"lxml\")\n",
    "    s=json.loads(soup.text)\n",
    "    try:\n",
    "        for i in s['products']:\n",
    "            prod_link.append(i['url'].split(\"/p/\")[1])\n",
    "    except:\n",
    "        pass\n",
    "        "
   ]
  },
  {
   "cell_type": "code",
   "execution_count": 11,
   "metadata": {},
   "outputs": [
    {
     "data": {
      "text/plain": [
       "102510"
      ]
     },
     "execution_count": 11,
     "metadata": {},
     "output_type": "execute_result"
    }
   ],
   "source": [
    "len(prod_link)"
   ]
  },
  {
   "cell_type": "markdown",
   "metadata": {},
   "source": [
    "## Footwear"
   ]
  },
  {
   "cell_type": "code",
   "execution_count": 12,
   "metadata": {},
   "outputs": [],
   "source": [
    "#prod_link=[]\n",
    "c=0\n",
    "while c<547:\n",
    "    c=c+1\n",
    "    result = requests.get(f'https://www.ajio.com/api/category/830207?fields=SITE&currentPage={c}&pageSize=45&format=json&query=%3Arelevance&sortBy=relevance&gridColumns=3&advfilter=true',headers=headers)\n",
    "    get = result.content\n",
    "    soup = BeautifulSoup(get,\"lxml\")\n",
    "    s=json.loads(soup.text)\n",
    "    try:\n",
    "        for i in s['products']:\n",
    "            prod_link.append(i['url'].split(\"/p/\")[1])\n",
    "    except:\n",
    "        pass"
   ]
  },
  {
   "cell_type": "code",
   "execution_count": 13,
   "metadata": {},
   "outputs": [
    {
     "data": {
      "text/plain": [
       "127125"
      ]
     },
     "execution_count": 13,
     "metadata": {},
     "output_type": "execute_result"
    }
   ],
   "source": [
    "len(prod_link)"
   ]
  },
  {
   "cell_type": "markdown",
   "metadata": {},
   "source": [
    "## Accessories"
   ]
  },
  {
   "cell_type": "code",
   "execution_count": 14,
   "metadata": {},
   "outputs": [],
   "source": [
    "#prod_link=[]\n",
    "c=0\n",
    "while c<348:\n",
    "    c=c+1\n",
    "    result = requests.get(f'https://www.ajio.com/api/category/8302?fields=SITE&currentPage={c}&pageSize=45&format=json&query=%3Arelevance&sortBy=relevance&curated=true&curatedid=men-accessories-brands&gridColumns=3&facets=&advfilter=true',headers=headers)\n",
    "    get = result.content\n",
    "    soup = BeautifulSoup(get,\"lxml\")\n",
    "    s=json.loads(soup.text)\n",
    "    try:\n",
    "        for i in s['products']:\n",
    "            prod_link.append(i['url'].split(\"/p/\")[1])\n",
    "    except:\n",
    "        pass\n",
    "        "
   ]
  },
  {
   "cell_type": "code",
   "execution_count": 15,
   "metadata": {},
   "outputs": [
    {
     "data": {
      "text/plain": [
       "142785"
      ]
     },
     "execution_count": 15,
     "metadata": {},
     "output_type": "execute_result"
    }
   ],
   "source": [
    "len(prod_link)"
   ]
  },
  {
   "cell_type": "markdown",
   "metadata": {},
   "source": [
    "## Winterwear"
   ]
  },
  {
   "cell_type": "code",
   "execution_count": 16,
   "metadata": {},
   "outputs": [],
   "source": [
    "#prod_link=[]\n",
    "c=0\n",
    "while c<299:\n",
    "    c=c+1\n",
    "    result = requests.get(f'https://www.ajio.com/api/category/83?fields=SITE&currentPage={c}&pageSize=45&format=json&query=%3Arelevance&sortBy=relevance&curated=true&curatedid=men-winterwear-4137-78751&gridColumns=3&facets=&advfilter=true',headers=headers)\n",
    "    get = result.content\n",
    "    soup = BeautifulSoup(get,\"lxml\")\n",
    "    s=json.loads(soup.text)\n",
    "    try:\n",
    "        for i in s['products']:\n",
    "            prod_link.append(i['url'].split(\"/p/\")[1])\n",
    "    except:\n",
    "        pass\n",
    "        "
   ]
  },
  {
   "cell_type": "code",
   "execution_count": 17,
   "metadata": {},
   "outputs": [
    {
     "data": {
      "text/plain": [
       "156240"
      ]
     },
     "execution_count": 17,
     "metadata": {},
     "output_type": "execute_result"
    }
   ],
   "source": [
    "len(prod_link)"
   ]
  },
  {
   "cell_type": "markdown",
   "metadata": {},
   "source": [
    "## Precious Jewellery"
   ]
  },
  {
   "cell_type": "code",
   "execution_count": 18,
   "metadata": {},
   "outputs": [],
   "source": [
    "#prod_link=[]\n",
    "c=0\n",
    "while c<9:\n",
    "    c=c+1\n",
    "    result = requests.get(f'https://www.ajio.com/api/category/83?fields=SITE&currentPage={c}&pageSize=45&format=json&query=%3Arelevance&sortBy=relevance&curated=true&curatedid=precious-jewellery-4119-63402&gridColumns=3&facets=&advfilter=true',headers=headers)\n",
    "    get = result.content\n",
    "    soup = BeautifulSoup(get,\"lxml\")\n",
    "    s=json.loads(soup.text)\n",
    "    try:\n",
    "        for i in s['products']:\n",
    "            prod_link.append(i['url'].split(\"/p/\")[1])\n",
    "    except:\n",
    "        pass\n",
    "        "
   ]
  },
  {
   "cell_type": "code",
   "execution_count": 19,
   "metadata": {},
   "outputs": [
    {
     "data": {
      "text/plain": [
       "156615"
      ]
     },
     "execution_count": 19,
     "metadata": {},
     "output_type": "execute_result"
    }
   ],
   "source": [
    "len(prod_link)"
   ]
  },
  {
   "cell_type": "markdown",
   "metadata": {},
   "source": [
    "## Inner Wear"
   ]
  },
  {
   "cell_type": "code",
   "execution_count": 20,
   "metadata": {},
   "outputs": [],
   "source": [
    "#prod_link=[]\n",
    "c=0\n",
    "while c<105:\n",
    "    c=c+1\n",
    "    result = requests.get(f'https://www.ajio.com/api/category/830211?fields=SITE&currentPage={c}&pageSize=45&format=json&query=%3Arelevance&sortBy=relevance&gridColumns=3&advfilter=true',headers=headers)\n",
    "    get = result.content\n",
    "    soup = BeautifulSoup(get,\"lxml\")\n",
    "    s=json.loads(soup.text)\n",
    "    try:\n",
    "        for i in s['products']:\n",
    "            prod_link.append(i['url'].split(\"/p/\")[1])\n",
    "    except:\n",
    "        pass\n",
    "        "
   ]
  },
  {
   "cell_type": "code",
   "execution_count": 21,
   "metadata": {},
   "outputs": [
    {
     "data": {
      "text/plain": [
       "161340"
      ]
     },
     "execution_count": 21,
     "metadata": {},
     "output_type": "execute_result"
    }
   ],
   "source": [
    "len(prod_link)"
   ]
  },
  {
   "cell_type": "markdown",
   "metadata": {},
   "source": [
    "## Night & Lounge Wear"
   ]
  },
  {
   "cell_type": "code",
   "execution_count": 22,
   "metadata": {},
   "outputs": [],
   "source": [
    "#prod_link=[]\n",
    "c=0\n",
    "while c<50:\n",
    "    c=c+1\n",
    "    result = requests.get(f'https://www.ajio.com/api/category/830212?fields=SITE&currentPage={c}&pageSize=45&format=json&query=%3Arelevance&sortBy=relevance&gridColumns=3&advfilter=true',headers=headers)\n",
    "    get = result.content\n",
    "    soup = BeautifulSoup(get,\"lxml\")\n",
    "    s=json.loads(soup.text)\n",
    "    try:\n",
    "        for i in s['products']:\n",
    "            prod_link.append(i['url'].split(\"/p/\")[1])\n",
    "    except:\n",
    "        pass\n",
    "        "
   ]
  },
  {
   "cell_type": "code",
   "execution_count": 23,
   "metadata": {},
   "outputs": [
    {
     "data": {
      "text/plain": [
       "163590"
      ]
     },
     "execution_count": 23,
     "metadata": {},
     "output_type": "execute_result"
    }
   ],
   "source": [
    "len(prod_link)"
   ]
  },
  {
   "cell_type": "code",
   "execution_count": 24,
   "metadata": {},
   "outputs": [],
   "source": [
    "prod_link=list(set(prod_link))"
   ]
  },
  {
   "cell_type": "code",
   "execution_count": null,
   "metadata": {},
   "outputs": [],
   "source": [
    "# import pickle\n",
    "# with open('prod_link.txt', 'wb') as fh:\n",
    "#     pickle.dump(prod_link, fh)"
   ]
  },
  {
   "cell_type": "code",
   "execution_count": 3,
   "metadata": {},
   "outputs": [],
   "source": [
    "# pickle_off = open (\"prod_link.txt\", \"rb\")\n",
    "# prod_link= pickle.load(pickle_off)"
   ]
  },
  {
   "cell_type": "code",
   "execution_count": 25,
   "metadata": {},
   "outputs": [
    {
     "data": {
      "text/plain": [
       "147302"
      ]
     },
     "execution_count": 25,
     "metadata": {},
     "output_type": "execute_result"
    }
   ],
   "source": [
    "len(prod_link)"
   ]
  },
  {
   "cell_type": "code",
   "execution_count": 26,
   "metadata": {},
   "outputs": [],
   "source": [
    "Product_Link=[]\n",
    "Product_Name=[]\n",
    "Product_Brand=[]\n",
    "Size_Available=[]\n",
    "Price=[]\n",
    "MRP=[]\n",
    "Gender=[]\n",
    "Description=[]\n",
    "Cat_list=[]\n",
    "Primary_Image_Link=[]\n",
    "Secondary_Image_Link=[]"
   ]
  },
  {
   "cell_type": "code",
   "execution_count": 27,
   "metadata": {},
   "outputs": [
    {
     "data": {
      "text/plain": [
       "147302"
      ]
     },
     "execution_count": 27,
     "metadata": {},
     "output_type": "execute_result"
    }
   ],
   "source": [
    "len(prod_link)"
   ]
  },
  {
   "cell_type": "code",
   "execution_count": 28,
   "metadata": {},
   "outputs": [
    {
     "name": "stderr",
     "output_type": "stream",
     "text": [
      "100%|███████████████████████████████████████████████████████████████████████| 147302/147302 [17:06:51<00:00,  2.39it/s]\n"
     ]
    }
   ],
   "source": [
    "err_link=[]\n",
    "out_stock=[]\n",
    "for i in tqdm(prod_link):\n",
    "    try:\n",
    "        result = requests.get(f'https://www.ajio.com/api/p/{i}',headers=headers)\n",
    "        c = result.content\n",
    "        #soup = BeautifulSoup(c,\"lxml\")\n",
    "        s=json.loads(c)\n",
    "        if(s['stock']['stockLevelStatus']=='inStock'):\n",
    "            Product_Link.append('https://www.ajio.com'+s['url'])\n",
    "            Product_Name.append(s.get('name'))\n",
    "            Product_Brand.append(s.get('brandName'))\n",
    "            Price.append(s.get('price')['value'])\n",
    "            MRP.append(s.get('wasPriceData')['value'])\n",
    "            Gender.append(s['brickCategory'])\n",
    "            des=''\n",
    "            for i in s['featureData']:\n",
    "                des=des+i['featureValues'][0]['value']+' , '\n",
    "            Description.append(des[:-2])\n",
    "            Cat_list.append(s.get('brickName'))\n",
    "            si=''\n",
    "            for i in s.get('variantOptions'):\n",
    "                if(i['stock']['stockLevelStatus']=='inStock' or i['stock']['stockLevelStatus']=='lowStock' ):\n",
    "                    for j in i['variantOptionQualifiers']:\n",
    "                        if(j['name']=='Size*'):\n",
    "                            si=si+j['value']+', '\n",
    "                else:\n",
    "                    pass\n",
    "\n",
    "            Size_Available.append(si[:-2])\n",
    "            a=[]\n",
    "            if len(s.get('images'))!=0:\n",
    "                for i in s.get('images'):\n",
    "                    if(i['format']=='superZoomPdp'):\n",
    "                        a.append(i['url'])\n",
    "                if(len(a)<=2):\n",
    "                    Primary_Image_Link.append(a[0])\n",
    "                    Secondary_Image_Link.append('Not Available')\n",
    "                else:\n",
    "                    Primary_Image_Link.append(a[0])\n",
    "                    link=''\n",
    "                    for i in a[2:]:\n",
    "                        link=link+i+\" , \"\n",
    "                    Secondary_Image_Link.append(link[:-2])\n",
    "            else:\n",
    "                Primary_Image_Link.append('Not Available')\n",
    "                Secondary_Image_Link.append('Not Available')\n",
    "        else:\n",
    "            out_stock.append(i)\n",
    "    \n",
    "    except:\n",
    "        err_link.append(i)\n",
    "        pass\n",
    "    "
   ]
  },
  {
   "cell_type": "code",
   "execution_count": 29,
   "metadata": {},
   "outputs": [],
   "source": [
    "data=pd.DataFrame({\n",
    "    \n",
    "    \"Website\":'https://www.ajio.com/',\n",
    "    \"Product_Link\":Product_Link,\n",
    "    \"Product_Name\":Product_Name,\n",
    "    \"Product_Brand\":Product_Brand,\n",
    "    \"Product_Category\":Cat_list,\n",
    "    \"Size_Avail\":Size_Available,\n",
    "    \"Price\":Price,\n",
    "    \"MRP\":MRP,\n",
    "    \"Gender\":Gender,\n",
    "    \"Description\":Description,\n",
    "    \"Primary_Image_Links\":Primary_Image_Link,\n",
    "    \"Secondary_Image_Links\":Secondary_Image_Link,\n",
    "    \"Affiliate_Link\":''\n",
    "    \n",
    "})"
   ]
  },
  {
   "cell_type": "code",
   "execution_count": 56,
   "metadata": {},
   "outputs": [],
   "source": [
    "# picklefile = open('men_all_ajio', 'wb')\n",
    "# #pickle the dataframe\n",
    "# pickle.dump(data, picklefile)\n",
    "# #close file\n",
    "# picklefile.close()"
   ]
  },
  {
   "cell_type": "code",
   "execution_count": 30,
   "metadata": {},
   "outputs": [
    {
     "data": {
      "text/plain": [
       "<function Connection.close>"
      ]
     },
     "execution_count": 30,
     "metadata": {},
     "output_type": "execute_result"
    }
   ],
   "source": [
    "import sqlite3\n",
    "#from pandas import DataFrame\n",
    "\n",
    "conn = sqlite3.connect(r'E:\\GRROOM\\DataBase\\Updated\\Ajio.db')\n",
    "c = conn.cursor()\n",
    "\n",
    "c.execute('CREATE TABLE product_details (Website varchar(40) not null,Product_Link text PRIMARY KEY,Product_Name varchar(50) not null,Product_Brand varchar(50) not null,Product_Category varchar(50),Size_Avail varchar(20) not null,Price int not null,MRP int not null,Gender varchar(15) not null,Description text not null,Primary_Image_Links text not null,Secondary_Image_Links text not null,Affiliate_Link text not null )')\n",
    "conn.commit()\n",
    "\n",
    "data.to_sql('product_details', conn, if_exists='replace', index = False)\n",
    "conn.close()"
   ]
  },
  {
   "cell_type": "code",
   "execution_count": null,
   "metadata": {},
   "outputs": [],
   "source": []
  },
  {
   "cell_type": "markdown",
   "metadata": {},
   "source": [
    "# Women"
   ]
  },
  {
   "cell_type": "code",
   "execution_count": null,
   "metadata": {},
   "outputs": [],
   "source": [
    "headers = {\"accept-encoding\": \"gzip, deflate, br\",\n",
    "           \"accept-language\": \"en-US,en;q=0.9\",\n",
    "           \"user-agent\": \"Mozilla/5.0 (Windows NT 10.0; Win64; x64) AppleWebKit/537.36 (KHTML, like Gecko) Chrome/90.0.4430.93 Safari/537.36 Edg/90.0.818.56\"}"
   ]
  },
  {
   "cell_type": "code",
   "execution_count": null,
   "metadata": {},
   "outputs": [],
   "source": [
    "product_links = []\n",
    "total_prod    = 250765\n",
    "begin         = time.time()\n",
    "\n",
    "for page in range(1,total_prod//45+1):\n",
    "    url = f\"https://www.ajio.com/api/category/8303?fields=SITE&currentPage={page}&pageSize=45&format=json&query=%3Arelevance&sortBy=relevance\"\n",
    "    site_json = requests.get(url, headers=headers).json()\n",
    "    for product in site_json['products']:\n",
    "        product_links.append(\"https://www.ajio.com\"+product['url'])\n",
    "    print(f\"page no: {page}, total links: {len(product_links)}, time elapsed: {time.time()-begin}\")"
   ]
  },
  {
   "cell_type": "code",
   "execution_count": null,
   "metadata": {},
   "outputs": [],
   "source": [
    "product_links = list(set(product_links))\n",
    "print(len(product_links))\n",
    "\n",
    "with open(\"ajio_links.csv\", \"w\") as f:\n",
    "    for lnk in product_links:\n",
    "        f.write(lnk+\"\\n\")"
   ]
  },
  {
   "cell_type": "code",
   "execution_count": null,
   "metadata": {},
   "outputs": [],
   "source": [
    "def get_details(main_link):\n",
    "    try:\n",
    "        site_content = requests.get(main_link, headers=headers).content\n",
    "        site_html    = bs(site_content, 'html.parser')\n",
    "        site_json    = json.loads(site_html.findAll('script')[5].contents[0])\n",
    "        site_json2   = json.loads(site_html.findAll(\"script\")[11].contents[0][41:-11])['product']['productDetails']\n",
    "\n",
    "        sizes   = [vari['size'] for vari in site_json['hasVariant']] if 'size' in site_json['variesBy'] else [\"One Size\"]\n",
    "\n",
    "        path    = site_json['category'].lower()\n",
    "        if path.find(\"women\")!=-1: gender = \"Women\"\n",
    "        elif path.find(\"men\")!=-1: gender = \"Men\"\n",
    "        else: gender = \"Unisex\"\n",
    "\n",
    "        all_img = []\n",
    "        for img in site_json2['images']:\n",
    "            if img['format']==\"superZoomPdp\": all_img.append(img['url'])\n",
    "        desc = []\n",
    "        for i in site_json2['featureData']: desc.append(i['featureValues'][0]['value'])\n",
    "\n",
    "        product_details = {}\n",
    "        product_details['link']       = main_link\n",
    "        product_details['name']       = site_json['hasVariant'][0]['name']\n",
    "        product_details['brand']      = site_json['hasVariant'][0]['brand']['name']\n",
    "        product_details['category']   = site_json2['brickName']\n",
    "        product_details['avail_size'] =  \", \".join(sizes) if sizes else \"One Size\"\n",
    "        product_details['price']      = int(site_json['hasVariant'][0]['offers']['price'])\n",
    "        product_details['mrp']        = int(site_json['hasVariant'][0]['offers']['highPrice'])\n",
    "        product_details['gender']     = gender\n",
    "        product_details['des']        = \". \".join(desc)\n",
    "        product_details['prim_img']   = all_img[0]\n",
    "        product_details['sec_img']    = \", \".join(all_img[2:])\n",
    "        \n",
    "        return product_details\n",
    "    except Exception as e:\n",
    "        print(e, end=\"|||||\")\n",
    "        return None"
   ]
  },
  {
   "cell_type": "code",
   "execution_count": null,
   "metadata": {},
   "outputs": [],
   "source": [
    "def store_details(product_details):\n",
    "    try:\n",
    "        cursor.execute(\"INSERT INTO product_details(Website, Product_Link, Product_Name, Product_Brand, Product_Category, Size_Avail, Price, MRP, Gender, Description, Primary_Image_Links, Secondary_Image_Links) VALUES(?,?,?,?,?,?,?,?,?,?,?,?)\",\n",
    "                       (\"https://www.ajio.com/\",\n",
    "                        product_details['link'],\n",
    "                        product_details['name'],\n",
    "                        product_details['brand'],\n",
    "                        product_details['category'],\n",
    "                        product_details['avail_size'],\n",
    "                        product_details['price'],\n",
    "                        product_details['mrp'],\n",
    "                        product_details['gender'],\n",
    "                        product_details['des'],\n",
    "                        product_details['prim_img'],\n",
    "                        product_details['sec_img'])\n",
    "                      )\n",
    "        conn.commit()\n",
    "        print(\"Added to db\")\n",
    "    except Exception as e:\n",
    "        print(e)\n",
    "        return"
   ]
  },
  {
   "cell_type": "code",
   "execution_count": null,
   "metadata": {},
   "outputs": [],
   "source": [
    "conn = sqlite3.connect(\"Ajio.db\")\n",
    "cursor = conn.cursor()"
   ]
  },
  {
   "cell_type": "code",
   "execution_count": null,
   "metadata": {},
   "outputs": [],
   "source": [
    "product_links = []\n",
    "\n",
    "with open(\"ajio_links.csv\", \"r\") as f:\n",
    "    for line in f:\n",
    "        product_links.append(line.strip())\n",
    "\n",
    "len(product_links)"
   ]
  },
  {
   "cell_type": "code",
   "execution_count": null,
   "metadata": {},
   "outputs": [],
   "source": [
    "#all_details = []\n",
    "i=0\n",
    "for link in product_links:\n",
    "    print(i, end=\": \")\n",
    "    i+=1\n",
    "    data = get_details(link)\n",
    "    #all_details.append(data)\n",
    "    store_details(data)\n",
    "    print(link, end=\"\\n\\n\")    "
   ]
  },
  {
   "cell_type": "code",
   "execution_count": null,
   "metadata": {},
   "outputs": [],
   "source": [
    "cursor.execute(\"select Product_Link from product_details;\")\n",
    "db_links = [lnk[0] for lnk in cursor.fetchall()]\n",
    "print(len(db_links))"
   ]
  },
  {
   "cell_type": "code",
   "execution_count": null,
   "metadata": {},
   "outputs": [],
   "source": [
    "count=0\n",
    "i=0\n",
    "for link in product_links:\n",
    "    i+=1\n",
    "    if link not in db_links:\n",
    "        count+=1\n",
    "        print(i)\n",
    "        data = get_details(link)\n",
    "        store_details(data)\n",
    "        print(link)\n",
    "\n",
    "print(count)"
   ]
  },
  {
   "cell_type": "code",
   "execution_count": null,
   "metadata": {},
   "outputs": [],
   "source": []
  },
  {
   "cell_type": "code",
   "execution_count": null,
   "metadata": {},
   "outputs": [],
   "source": []
  }
 ],
 "metadata": {
  "kernelspec": {
   "display_name": "Python 3",
   "language": "python",
   "name": "python3"
  },
  "language_info": {
   "codemirror_mode": {
    "name": "ipython",
    "version": 3
   },
   "file_extension": ".py",
   "mimetype": "text/x-python",
   "name": "python",
   "nbconvert_exporter": "python",
   "pygments_lexer": "ipython3",
   "version": "3.8.5"
  }
 },
 "nbformat": 4,
 "nbformat_minor": 4
}
