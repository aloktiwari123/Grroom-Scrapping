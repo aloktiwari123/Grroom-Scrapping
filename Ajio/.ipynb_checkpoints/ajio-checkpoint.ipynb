{
 "cells": [
  {
   "cell_type": "code",
   "execution_count": 18,
   "metadata": {},
   "outputs": [],
   "source": [
    "from bs4 import BeautifulSoup\n",
    "import requests\n",
    "import pandas as pd\n",
    "from pandas import Series, DataFrame\n",
    "from ipywidgets import FloatProgress\n",
    "from time import sleep\n",
    "from IPython.display import display\n",
    "import re\n",
    "import pickle\n",
    "from urlextract import URLExtract\n",
    "import json\n",
    "import sqlite3\n",
    "import datetime\n",
    "from tqdm import tqdm"
   ]
  },
  {
   "cell_type": "code",
   "execution_count": 19,
   "metadata": {},
   "outputs": [],
   "source": [
    "headers = {'User-Agent' : 'Mozilla/5.0 (Macintosh; Intel Mac OS X 10_14_5) AppleWebKit/537.36 (KHTML, like Gecko) Chrome/84.0.4147.89 Safari/537.36'}"
   ]
  },
  {
   "cell_type": "markdown",
   "metadata": {},
   "source": [
    "## Western Wear"
   ]
  },
  {
   "cell_type": "code",
   "execution_count": null,
   "metadata": {},
   "outputs": [],
   "source": [
    "prod_link=[]"
   ]
  },
  {
   "cell_type": "code",
   "execution_count": null,
   "metadata": {},
   "outputs": [],
   "source": [
    "c=0\n",
    "while c<2102:\n",
    "    c=c+1\n",
    "    result = requests.get(f'https://www.ajio.com/api/category/830216?fields=SITE&currentPage={c}&pageSize=45&format=json&query=%3Arelevance&sortBy=relevance&gridColumns=3&advfilter=true',headers=headers)\n",
    "    get = result.content\n",
    "    soup = BeautifulSoup(get,\"lxml\")\n",
    "    s=json.loads(soup.text)\n",
    "    try:\n",
    "        for i in s['products']:\n",
    "            prod_link.append(i['url'].split(\"/p/\")[1])\n",
    "    except:\n",
    "        pass"
   ]
  },
  {
   "cell_type": "code",
   "execution_count": null,
   "metadata": {},
   "outputs": [],
   "source": [
    "len(prod_link)"
   ]
  },
  {
   "cell_type": "markdown",
   "metadata": {},
   "source": [
    "## Ethnic and Festive Collection"
   ]
  },
  {
   "cell_type": "code",
   "execution_count": null,
   "metadata": {},
   "outputs": [],
   "source": [
    "#prod_link=[]\n",
    "c=0\n",
    "while c<176:\n",
    "    c=c+1\n",
    "    result = requests.get(f'https://www.ajio.com/api/category/83?fields=SITE&currentPage={c}&pageSize=45&format=json&query=%3Arelevance&sortBy=relevance&curated=true&curatedid=ethnic-and-festive-collections&gridColumns=3&facets=&advfilter=true',headers=headers)\n",
    "    get = result.content\n",
    "    soup = BeautifulSoup(get,\"lxml\")\n",
    "    s=json.loads(soup.text)\n",
    "    try:\n",
    "        for i in s['products']:\n",
    "            prod_link.append(i['url'].split(\"/p/\")[1])\n",
    "    except:\n",
    "        pass\n",
    "        "
   ]
  },
  {
   "cell_type": "code",
   "execution_count": null,
   "metadata": {},
   "outputs": [],
   "source": [
    "len(prod_link)"
   ]
  },
  {
   "cell_type": "markdown",
   "metadata": {},
   "source": [
    "## Footwear"
   ]
  },
  {
   "cell_type": "code",
   "execution_count": null,
   "metadata": {},
   "outputs": [],
   "source": [
    "#prod_link=[]\n",
    "c=0\n",
    "while c<547:\n",
    "    c=c+1\n",
    "    result = requests.get(f'https://www.ajio.com/api/category/830207?fields=SITE&currentPage={c}&pageSize=45&format=json&query=%3Arelevance&sortBy=relevance&gridColumns=3&advfilter=true',headers=headers)\n",
    "    get = result.content\n",
    "    soup = BeautifulSoup(get,\"lxml\")\n",
    "    s=json.loads(soup.text)\n",
    "    try:\n",
    "        for i in s['products']:\n",
    "            prod_link.append(i['url'].split(\"/p/\")[1])\n",
    "    except:\n",
    "        pass"
   ]
  },
  {
   "cell_type": "code",
   "execution_count": null,
   "metadata": {},
   "outputs": [],
   "source": [
    "len(prod_link)"
   ]
  },
  {
   "cell_type": "markdown",
   "metadata": {},
   "source": [
    "## Accessories"
   ]
  },
  {
   "cell_type": "code",
   "execution_count": null,
   "metadata": {},
   "outputs": [],
   "source": [
    "#prod_link=[]\n",
    "c=0\n",
    "while c<348:\n",
    "    c=c+1\n",
    "    result = requests.get(f'https://www.ajio.com/api/category/8302?fields=SITE&currentPage={c}&pageSize=45&format=json&query=%3Arelevance&sortBy=relevance&curated=true&curatedid=men-accessories-brands&gridColumns=3&facets=&advfilter=true',headers=headers)\n",
    "    get = result.content\n",
    "    soup = BeautifulSoup(get,\"lxml\")\n",
    "    s=json.loads(soup.text)\n",
    "    try:\n",
    "        for i in s['products']:\n",
    "            prod_link.append(i['url'].split(\"/p/\")[1])\n",
    "    except:\n",
    "        pass\n",
    "        "
   ]
  },
  {
   "cell_type": "code",
   "execution_count": null,
   "metadata": {},
   "outputs": [],
   "source": [
    "len(prod_link)"
   ]
  },
  {
   "cell_type": "markdown",
   "metadata": {},
   "source": [
    "## Winterwear"
   ]
  },
  {
   "cell_type": "code",
   "execution_count": null,
   "metadata": {},
   "outputs": [],
   "source": [
    "#prod_link=[]\n",
    "c=0\n",
    "while c<299:\n",
    "    c=c+1\n",
    "    result = requests.get(f'https://www.ajio.com/api/category/83?fields=SITE&currentPage={c}&pageSize=45&format=json&query=%3Arelevance&sortBy=relevance&curated=true&curatedid=men-winterwear-4137-78751&gridColumns=3&facets=&advfilter=true',headers=headers)\n",
    "    get = result.content\n",
    "    soup = BeautifulSoup(get,\"lxml\")\n",
    "    s=json.loads(soup.text)\n",
    "    try:\n",
    "        for i in s['products']:\n",
    "            prod_link.append(i['url'].split(\"/p/\")[1])\n",
    "    except:\n",
    "        pass\n",
    "        "
   ]
  },
  {
   "cell_type": "code",
   "execution_count": null,
   "metadata": {},
   "outputs": [],
   "source": [
    "len(prod_link)"
   ]
  },
  {
   "cell_type": "markdown",
   "metadata": {},
   "source": [
    "## Precious Jewellery"
   ]
  },
  {
   "cell_type": "code",
   "execution_count": null,
   "metadata": {},
   "outputs": [],
   "source": [
    "#prod_link=[]\n",
    "c=0\n",
    "while c<9:\n",
    "    c=c+1\n",
    "    result = requests.get(f'https://www.ajio.com/api/category/83?fields=SITE&currentPage={c}&pageSize=45&format=json&query=%3Arelevance&sortBy=relevance&curated=true&curatedid=precious-jewellery-4119-63402&gridColumns=3&facets=&advfilter=true',headers=headers)\n",
    "    get = result.content\n",
    "    soup = BeautifulSoup(get,\"lxml\")\n",
    "    s=json.loads(soup.text)\n",
    "    try:\n",
    "        for i in s['products']:\n",
    "            prod_link.append(i['url'].split(\"/p/\")[1])\n",
    "    except:\n",
    "        pass\n",
    "        "
   ]
  },
  {
   "cell_type": "code",
   "execution_count": null,
   "metadata": {},
   "outputs": [],
   "source": [
    "len(prod_link)"
   ]
  },
  {
   "cell_type": "markdown",
   "metadata": {},
   "source": [
    "## Inner Wear"
   ]
  },
  {
   "cell_type": "code",
   "execution_count": null,
   "metadata": {},
   "outputs": [],
   "source": [
    "#prod_link=[]\n",
    "c=0\n",
    "while c<105:\n",
    "    c=c+1\n",
    "    result = requests.get(f'https://www.ajio.com/api/category/830211?fields=SITE&currentPage={c}&pageSize=45&format=json&query=%3Arelevance&sortBy=relevance&gridColumns=3&advfilter=true',headers=headers)\n",
    "    get = result.content\n",
    "    soup = BeautifulSoup(get,\"lxml\")\n",
    "    s=json.loads(soup.text)\n",
    "    try:\n",
    "        for i in s['products']:\n",
    "            prod_link.append(i['url'].split(\"/p/\")[1])\n",
    "    except:\n",
    "        pass\n",
    "        "
   ]
  },
  {
   "cell_type": "code",
   "execution_count": null,
   "metadata": {},
   "outputs": [],
   "source": [
    "len(prod_link)"
   ]
  },
  {
   "cell_type": "markdown",
   "metadata": {},
   "source": [
    "## Night & Lounge Wear"
   ]
  },
  {
   "cell_type": "code",
   "execution_count": null,
   "metadata": {},
   "outputs": [],
   "source": [
    "#prod_link=[]\n",
    "c=0\n",
    "while c<50:\n",
    "    c=c+1\n",
    "    result = requests.get(f'https://www.ajio.com/api/category/830212?fields=SITE&currentPage={c}&pageSize=45&format=json&query=%3Arelevance&sortBy=relevance&gridColumns=3&advfilter=true',headers=headers)\n",
    "    get = result.content\n",
    "    soup = BeautifulSoup(get,\"lxml\")\n",
    "    s=json.loads(soup.text)\n",
    "    try:\n",
    "        for i in s['products']:\n",
    "            prod_link.append(i['url'].split(\"/p/\")[1])\n",
    "    except:\n",
    "        pass\n",
    "        "
   ]
  },
  {
   "cell_type": "code",
   "execution_count": null,
   "metadata": {},
   "outputs": [],
   "source": [
    "len(prod_link)"
   ]
  },
  {
   "cell_type": "markdown",
   "metadata": {},
   "source": [
    "# Womens Section"
   ]
  },
  {
   "cell_type": "markdown",
   "metadata": {},
   "source": [
    "## Western Wear"
   ]
  },
  {
   "cell_type": "code",
   "execution_count": 36,
   "metadata": {},
   "outputs": [],
   "source": [
    "##prod_link=[]\n",
    "c=0\n",
    "while c<2051:\n",
    "    c=c+1\n",
    "    result = requests.get(f'https://www.ajio.com/api/category/830316?fields=SITE&currentPage={c}&pageSize=45&format=json&query=%3Arelevance&sortBy=relevance&gridColumns=3&advfilter=true',headers=headers)\n",
    "    get = result.content\n",
    "    soup = BeautifulSoup(get,\"lxml\")\n",
    "    s=json.loads(soup.text)\n",
    "    try:\n",
    "        for i in s['products']:\n",
    "            prod_link.append(i['url'].split(\"/p/\")[1])\n",
    "    except:\n",
    "        pass\n",
    "        "
   ]
  },
  {
   "cell_type": "code",
   "execution_count": null,
   "metadata": {},
   "outputs": [],
   "source": [
    "len(prod_link)"
   ]
  },
  {
   "cell_type": "markdown",
   "metadata": {},
   "source": [
    "## Ethnic Wear"
   ]
  },
  {
   "cell_type": "code",
   "execution_count": 41,
   "metadata": {},
   "outputs": [],
   "source": [
    "##prod_link=[]\n",
    "c=0\n",
    "while c<2564:\n",
    "    c=c+1\n",
    "    result = requests.get(f'https://www.ajio.com/api/category/830303?fields=SITE&currentPage={c}&pageSize=45&format=json&query=%3Arelevance&sortBy=relevance&gridColumns=3&advfilter=true',headers=headers)\n",
    "    get = result.content\n",
    "    soup = BeautifulSoup(get,\"lxml\")\n",
    "    s=json.loads(soup.text)\n",
    "    try:\n",
    "        for i in s['products']:\n",
    "            prod_link.append(i['url'].split(\"/p/\")[1])\n",
    "    except:\n",
    "        pass\n",
    "        "
   ]
  },
  {
   "cell_type": "code",
   "execution_count": null,
   "metadata": {},
   "outputs": [],
   "source": [
    "len(prod_link)"
   ]
  },
  {
   "cell_type": "markdown",
   "metadata": {},
   "source": [
    "## Lingerie & Innerwear"
   ]
  },
  {
   "cell_type": "code",
   "execution_count": null,
   "metadata": {},
   "outputs": [],
   "source": [
    "##prod_link=[]\n",
    "c=0\n",
    "while c<304:\n",
    "    c=c+1\n",
    "    result = requests.get(f'https://www.ajio.com/api/category/830311?fields=SITE&currentPage={c}&pageSize=45&format=json&query=%3Arelevance&sortBy=relevance&gridColumns=3&advfilter=true',headers=headers)\n",
    "    get = result.content\n",
    "    soup = BeautifulSoup(get,\"lxml\")\n",
    "    s=json.loads(soup.text)\n",
    "    try:\n",
    "        for i in s['products']:\n",
    "            prod_link.append(i['url'].split(\"/p/\")[1])\n",
    "    except:\n",
    "        pass\n",
    "        "
   ]
  },
  {
   "cell_type": "code",
   "execution_count": null,
   "metadata": {},
   "outputs": [],
   "source": [
    "len(prod_link)"
   ]
  },
  {
   "cell_type": "markdown",
   "metadata": {},
   "source": [
    "## Winterwear"
   ]
  },
  {
   "cell_type": "code",
   "execution_count": null,
   "metadata": {},
   "outputs": [],
   "source": [
    "##prod_link=[]\n",
    "c=0\n",
    "while c<378:\n",
    "    c=c+1\n",
    "    result = requests.get(f'https://www.ajio.com/api/category/83?fields=SITE&currentPage={c}&pageSize=45&format=json&query=%3Arelevance&sortBy=relevance&curated=true&curatedid=winterwear-4118-50621&gridColumns=3&facets=&advfilter=true',headers=headers)\n",
    "    get = result.content\n",
    "    soup = BeautifulSoup(get,\"lxml\")\n",
    "    s=json.loads(soup.text)\n",
    "    try:\n",
    "        for i in s['products']:\n",
    "            prod_link.append(i['url'].split(\"/p/\")[1])\n",
    "    except:\n",
    "        pass"
   ]
  },
  {
   "cell_type": "code",
   "execution_count": null,
   "metadata": {},
   "outputs": [],
   "source": [
    "len(prod_link)"
   ]
  },
  {
   "cell_type": "markdown",
   "metadata": {},
   "source": [
    "## Night & Lounge Wear"
   ]
  },
  {
   "cell_type": "code",
   "execution_count": null,
   "metadata": {},
   "outputs": [],
   "source": [
    "##prod_link=[]\n",
    "c=0\n",
    "while c<209:\n",
    "    c=c+1\n",
    "    result = requests.get(f'https://www.ajio.com/api/category/830313?fields=SITE&currentPage={c}&pageSize=45&format=json&query=%3Arelevance&sortBy=relevance&gridColumns=3&advfilter=true',headers=headers)\n",
    "    get = result.content\n",
    "    soup = BeautifulSoup(get,\"lxml\")\n",
    "    s=json.loads(soup.text)\n",
    "    try:\n",
    "        for i in s['products']:\n",
    "            prod_link.append(i['url'].split(\"/p/\")[1])\n",
    "    except:\n",
    "        pass"
   ]
  },
  {
   "cell_type": "code",
   "execution_count": null,
   "metadata": {},
   "outputs": [],
   "source": [
    "len(prod_link)"
   ]
  },
  {
   "cell_type": "markdown",
   "metadata": {},
   "source": [
    "## Athleisure"
   ]
  },
  {
   "cell_type": "code",
   "execution_count": null,
   "metadata": {},
   "outputs": [],
   "source": [
    "##prod_link=[]\n",
    "c=0\n",
    "while c<88:\n",
    "    c=c+1\n",
    "    result = requests.get(f'https://www.ajio.com/api/category/83?fields=SITE&currentPage={c}&pageSize=45&format=json&query=%3Arelevance&sortBy=relevance&curated=true&curatedid=athleisure-3683-44441&gridColumns=3&facets=&advfilter=true',headers=headers)\n",
    "    get = result.content\n",
    "    soup = BeautifulSoup(get,\"lxml\")\n",
    "    s=json.loads(soup.text)\n",
    "    try:\n",
    "        for i in s['products']:\n",
    "            prod_link.append(i['url'].split(\"/p/\")[1])\n",
    "    except:\n",
    "        pass"
   ]
  },
  {
   "cell_type": "code",
   "execution_count": null,
   "metadata": {},
   "outputs": [],
   "source": [
    "len(prod_link)"
   ]
  },
  {
   "cell_type": "markdown",
   "metadata": {},
   "source": [
    "## Plus Size"
   ]
  },
  {
   "cell_type": "code",
   "execution_count": null,
   "metadata": {},
   "outputs": [],
   "source": [
    "##prod_link=[]\n",
    "c=0\n",
    "while c<19:\n",
    "    c=c+1\n",
    "    result = requests.get(f'https://www.ajio.com/api/category/83?fields=SITE&currentPage={c}&pageSize=45&format=json&query=%3Arelevance&sortBy=relevance&curated=true&curatedid=plus-size-3626-6806&gridColumns=3&facets=&advfilter=true',headers=headers)\n",
    "    get = result.content\n",
    "    soup = BeautifulSoup(get,\"lxml\")\n",
    "    s=json.loads(soup.text)\n",
    "    try:\n",
    "        for i in s['products']:\n",
    "            prod_link.append(i['url'].split(\"/p/\")[1])\n",
    "    except:\n",
    "        pass"
   ]
  },
  {
   "cell_type": "code",
   "execution_count": null,
   "metadata": {},
   "outputs": [],
   "source": [
    "len(prod_link)"
   ]
  },
  {
   "cell_type": "markdown",
   "metadata": {},
   "source": [
    "## Fashion Jewellery"
   ]
  },
  {
   "cell_type": "code",
   "execution_count": null,
   "metadata": {},
   "outputs": [],
   "source": [
    "##prod_link=[]\n",
    "c=0\n",
    "while c<624:\n",
    "    c=c+1\n",
    "    result = requests.get(f'https://www.ajio.com/api/category/830305?fields=SITE&currentPage={c}&pageSize=45&format=json&query=%3Arelevance&sortBy=relevance&gridColumns=3&advfilter=true',headers=headers)\n",
    "    get = result.content\n",
    "    soup = BeautifulSoup(get,\"lxml\")\n",
    "    s=json.loads(soup.text)\n",
    "    try:\n",
    "        for i in s['products']:\n",
    "            prod_link.append(i['url'].split(\"/p/\")[1])\n",
    "    except:\n",
    "        pass"
   ]
  },
  {
   "cell_type": "code",
   "execution_count": null,
   "metadata": {},
   "outputs": [],
   "source": [
    "len(prod_link)"
   ]
  },
  {
   "cell_type": "markdown",
   "metadata": {},
   "source": [
    "## Bags, Belts & Wallets"
   ]
  },
  {
   "cell_type": "code",
   "execution_count": null,
   "metadata": {},
   "outputs": [],
   "source": [
    "##prod_link=[]\n",
    "c=0\n",
    "while c<266:\n",
    "    c=c+1\n",
    "    result = requests.get(f'https://www.ajio.com/api/category/830301?fields=SITE&currentPage={c}&pageSize=45&format=json&query=%3Arelevance&sortBy=relevance&gridColumns=3&advfilter=true',headers=headers)\n",
    "    get = result.content\n",
    "    soup = BeautifulSoup(get,\"lxml\")\n",
    "    s=json.loads(soup.text)\n",
    "    try:\n",
    "        for i in s['products']:\n",
    "            prod_link.append(i['url'].split(\"/p/\")[1])\n",
    "    except:\n",
    "        pass"
   ]
  },
  {
   "cell_type": "code",
   "execution_count": null,
   "metadata": {},
   "outputs": [],
   "source": [
    "len(prod_link)"
   ]
  },
  {
   "cell_type": "markdown",
   "metadata": {},
   "source": [
    "## Footwear"
   ]
  },
  {
   "cell_type": "code",
   "execution_count": null,
   "metadata": {},
   "outputs": [],
   "source": [
    "##prod_link=[]\n",
    "c=0\n",
    "while c<623:\n",
    "    c=c+1\n",
    "    result = requests.get(f'https://www.ajio.com/api/category/830307?fields=SITE&currentPage={c}&pageSize=45&format=json&query=%3Arelevance&sortBy=relevance&gridColumns=3&advfilter=true',headers=headers)\n",
    "    get = result.content\n",
    "    soup = BeautifulSoup(get,\"lxml\")\n",
    "    s=json.loads(soup.text)\n",
    "    try:\n",
    "        for i in s['products']:\n",
    "            prod_link.append(i['url'].split(\"/p/\")[1])\n",
    "    except:\n",
    "        pass"
   ]
  },
  {
   "cell_type": "code",
   "execution_count": null,
   "metadata": {},
   "outputs": [],
   "source": [
    "len(prod_link)"
   ]
  },
  {
   "cell_type": "markdown",
   "metadata": {},
   "source": [
    "## Sunglasses And Frames"
   ]
  },
  {
   "cell_type": "code",
   "execution_count": null,
   "metadata": {},
   "outputs": [],
   "source": [
    "##prod_link=[]\n",
    "c=0\n",
    "while c<31:\n",
    "    c=c+1\n",
    "    result = requests.get(f'https://www.ajio.com/api/category/83?fields=SITE&currentPage={c}&pageSize=45&format=json&query=%3Arelevance&sortBy=relevance&curated=true&curatedid=whp-sunglasses-and-frames-4119-33681&gridColumns=3&facets=&advfilter=true',headers=headers)\n",
    "    get = result.content\n",
    "    soup = BeautifulSoup(get,\"lxml\")\n",
    "    s=json.loads(soup.text)\n",
    "    try:\n",
    "        for i in s['products']:\n",
    "            prod_link.append(i['url'].split(\"/p/\")[1])\n",
    "    except:\n",
    "        pass"
   ]
  },
  {
   "cell_type": "code",
   "execution_count": null,
   "metadata": {},
   "outputs": [],
   "source": [
    "len(prod_link)"
   ]
  },
  {
   "cell_type": "markdown",
   "metadata": {},
   "source": [
    "## Watches"
   ]
  },
  {
   "cell_type": "code",
   "execution_count": 45,
   "metadata": {},
   "outputs": [],
   "source": [
    "##prod_link=[]\n",
    "c=0\n",
    "while c<24:\n",
    "    c=c+1\n",
    "    result = requests.get(f'https://www.ajio.com/api/category/83?fields=SITE&currentPage={c}&pageSize=45&format=json&query=%3Arelevance&sortBy=relevance&curated=true&curatedid=watches-4067-79511&gridColumns=3&facets=&advfilter=true',headers=headers)\n",
    "    get = result.content\n",
    "    soup = BeautifulSoup(get,\"lxml\")\n",
    "    s=json.loads(soup.text)\n",
    "    try:\n",
    "        for i in s['products']:\n",
    "            prod_link.append(i['url'].split(\"/p/\")[1])\n",
    "    except:\n",
    "        pass"
   ]
  },
  {
   "cell_type": "code",
   "execution_count": 46,
   "metadata": {},
   "outputs": [
    {
     "data": {
      "text/plain": [
       "996"
      ]
     },
     "execution_count": 46,
     "metadata": {},
     "output_type": "execute_result"
    }
   ],
   "source": [
    "len(prod_link)"
   ]
  },
  {
   "cell_type": "code",
   "execution_count": 47,
   "metadata": {},
   "outputs": [],
   "source": [
    "prod_link=list(set(prod_link))"
   ]
  },
  {
   "cell_type": "code",
   "execution_count": 49,
   "metadata": {},
   "outputs": [],
   "source": [
    "import pickle\n",
    "with open('prod_link.txt', 'wb') as fh:\n",
    "    pickle.dump(prod_link, fh)"
   ]
  },
  {
   "cell_type": "code",
   "execution_count": 50,
   "metadata": {},
   "outputs": [],
   "source": [
    "pickle_off = open (\"prod_link.txt\", \"rb\")\n",
    "product_link= pickle.load(pickle_off)"
   ]
  },
  {
   "cell_type": "markdown",
   "metadata": {},
   "source": [
    "# Fetching details from all the links"
   ]
  },
  {
   "cell_type": "code",
   "execution_count": 27,
   "metadata": {},
   "outputs": [],
   "source": [
    "Product_Link=[]\n",
    "Product_Name=[]\n",
    "Product_Brand=[]\n",
    "Size_Available=[]\n",
    "Price=[]\n",
    "MRP=[]\n",
    "Gender=[]\n",
    "Description=[]\n",
    "Cat_list=[]\n",
    "Primary_Image_Link=[]\n",
    "Secondary_Image_Link=[]"
   ]
  },
  {
   "cell_type": "code",
   "execution_count": 44,
   "metadata": {},
   "outputs": [
    {
     "data": {
      "text/plain": [
       "148438"
      ]
     },
     "execution_count": 44,
     "metadata": {},
     "output_type": "execute_result"
    }
   ],
   "source": [
    "len(product_link)"
   ]
  },
  {
   "cell_type": "code",
   "execution_count": 29,
   "metadata": {},
   "outputs": [
    {
     "name": "stderr",
     "output_type": "stream",
     "text": [
      "100%|██████████| 50/50 [00:29<00:00,  1.71it/s]\n"
     ]
    }
   ],
   "source": [
    "err_link=[]\n",
    "out_stock=[]\n",
    "for i in tqdm(product_link):\n",
    "    try:\n",
    "        result = requests.get(f'https://www.ajio.com/api/p/{i}',headers=headers)\n",
    "        c = result.content\n",
    "        #soup = BeautifulSoup(c,\"lxml\")\n",
    "        s=json.loads(c)\n",
    "        if(s['stock']['stockLevelStatus']=='inStock'):\n",
    "            Product_Link.append('https://www.ajio.com'+s['url'])\n",
    "            Product_Name.append(s.get('name'))\n",
    "            Product_Brand.append(s.get('brandName'))\n",
    "            Price.append(s.get('price')['value'])\n",
    "            MRP.append(s.get('wasPriceData')['value'])\n",
    "            Gender.append(s['brickCategory'])\n",
    "            des=''\n",
    "            for i in s['featureData']:\n",
    "                des=des+i['featureValues'][0]['value']+' , '\n",
    "            Description.append(des[:-2])\n",
    "            Cat_list.append(s.get('brickName'))\n",
    "            si=''\n",
    "            for i in s.get('variantOptions'):\n",
    "                if(i['stock']['stockLevelStatus']=='inStock' or i['stock']['stockLevelStatus']=='lowStock' ):\n",
    "                    for j in i['variantOptionQualifiers']:\n",
    "                        if(j['name']=='Size*'):\n",
    "                            si=si+j['value']+', '\n",
    "                else:\n",
    "                    pass\n",
    "\n",
    "            Size_Available.append(si[:-2])\n",
    "            a=[]\n",
    "            if len(s.get('images'))!=0:\n",
    "                for i in s.get('images'):\n",
    "                    if(i['format']=='superZoomPdp'):\n",
    "                        a.append(i['url'])\n",
    "                if(len(a)<=2):\n",
    "                    Primary_Image_Link.append(a[0])\n",
    "                    Secondary_Image_Link.append('Not Available')\n",
    "                else:\n",
    "                    Primary_Image_Link.append(a[0])\n",
    "                    link=''\n",
    "                    for i in a[2:]:\n",
    "                        link=link+i+\" , \"\n",
    "                    Secondary_Image_Link.append(link[:-2])\n",
    "            else:\n",
    "                Primary_Image_Link.append('Not Available')\n",
    "                Secondary_Image_Link.append('Not Available')\n",
    "        else:\n",
    "            out_stock.append(i)\n",
    "    \n",
    "    except:\n",
    "        err_link.append(i)\n",
    "        pass\n",
    "    "
   ]
  },
  {
   "cell_type": "code",
   "execution_count": 31,
   "metadata": {},
   "outputs": [],
   "source": [
    "data=pd.DataFrame({\n",
    "    \n",
    "    \"Website\":'https://www.ajio.com/',\n",
    "    \"Product_Link\":Product_Link,\n",
    "    \"Product_Name\":Product_Name,\n",
    "    \"Product_Brand\":Product_Brand,\n",
    "    \"Product_Category\":Cat_list,\n",
    "    \"Size_Avail\":Size_Available,\n",
    "    \"Price\":Price,\n",
    "    \"MRP\":MRP,\n",
    "    \"Gender\":Gender,\n",
    "    \"Description\":Description,\n",
    "    \"Primary_Image_Links\":Primary_Image_Link,\n",
    "    \"Secondary_Image_Links\":Secondary_Image_Link,\n",
    "    \"Affiliate_Link\":''\n",
    "    \n",
    "})"
   ]
  },
  {
   "cell_type": "code",
   "execution_count": 12,
   "metadata": {},
   "outputs": [],
   "source": [
    "picklefile = open('all_ajio', 'wb')\n",
    "#pickle the dataframe\n",
    "pickle.dump(data, picklefile)\n",
    "#close file\n",
    "picklefile.close()"
   ]
  },
  {
   "cell_type": "code",
   "execution_count": null,
   "metadata": {},
   "outputs": [],
   "source": [
    "import sqlite3\n",
    "#from pandas import DataFrame\n",
    "\n",
    "conn = sqlite3.connect('all_ajio.db')\n",
    "c = conn.cursor()\n",
    "\n",
    "c.execute('CREATE TABLE product_details (Website varchar(40) not null,Product_Link text PRIMARY KEY,Product_Name varchar(50) not null,Product_Brand varchar(50) not null,Product_Category varchar(50),Size_Avail varchar(20) not null,Price int not null,MRP int not null,Gender varchar(15) not null,Description text not null,Primary_Image_Links text not null,Secondary_Image_Links text not null,Affiliate_Link text not null )')\n",
    "conn.commit()\n",
    "\n",
    "data.to_sql('product_details', conn, if_exists='replace', index = False)\n",
    "conn.close"
   ]
  },
  {
   "cell_type": "code",
   "execution_count": null,
   "metadata": {},
   "outputs": [],
   "source": []
  }
 ],
 "metadata": {
  "kernelspec": {
   "display_name": "Python 3",
   "language": "python",
   "name": "python3"
  },
  "language_info": {
   "codemirror_mode": {
    "name": "ipython",
    "version": 3
   },
   "file_extension": ".py",
   "mimetype": "text/x-python",
   "name": "python",
   "nbconvert_exporter": "python",
   "pygments_lexer": "ipython3",
   "version": "3.8.5"
  }
 },
 "nbformat": 4,
 "nbformat_minor": 4
}
